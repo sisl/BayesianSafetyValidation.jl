{
 "cells": [
  {
   "cell_type": "markdown",
   "id": "8058a8d7-6da7-46be-94fe-b05de96d2460",
   "metadata": {},
   "source": [
    "The goal of this notebook is to benchmark the bayesian safety validation algorithm to determine where it will break down in higher dimensions.  We start by profiling the algorithm to determine the main bottleneck, then benchmark the main function to compute estimates of the runtime in higher dimensions\n",
    "\n",
    "Notes on running this notebook:\n",
    "- [IJulia](https://juliapackages.com/p/ijulia) needs to be installed\n",
    "- The server should be run from the same directory where IJulia is installed (to ensure that the julia kernel uses the correct environment).  I did this in `scripts/`, but any directory would work\n",
    "- If the profile plot below isn't interative, try running this notebook in jupyter lab (rather than jupyter notebook)\n",
    "\n",
    "TLDR: Evaluating the GP on a grid of the input space represents a major bottleneck.  The grid size scales exponentially with the dimensionality of the input space.  Doing this evaluation on an input grid of 10 dimensions, with 50 points along each dimension, would take ~4000 years."
   ]
  },
  {
   "cell_type": "code",
   "execution_count": 1,
   "id": "7b18419e",
   "metadata": {},
   "outputs": [
    {
     "name": "stderr",
     "output_type": "stream",
     "text": [
      "\u001b[32m\u001b[1m   Resolving\u001b[22m\u001b[39m package versions...\n",
      "\u001b[32m\u001b[1m  No Changes\u001b[22m\u001b[39m to `~/code/BayesianSafetyValidation.jl/scripts/Project.toml`\n",
      "\u001b[32m\u001b[1m  No Changes\u001b[22m\u001b[39m to `~/code/BayesianSafetyValidation.jl/scripts/Manifest.toml`\n",
      "\u001b[32m\u001b[1m   Resolving\u001b[22m\u001b[39m package versions...\n",
      "\u001b[32m\u001b[1m  No Changes\u001b[22m\u001b[39m to `~/code/BayesianSafetyValidation.jl/scripts/Project.toml`\n",
      "\u001b[32m\u001b[1m  No Changes\u001b[22m\u001b[39m to `~/code/BayesianSafetyValidation.jl/scripts/Manifest.toml`\n",
      "\u001b[32m\u001b[1m   Resolving\u001b[22m\u001b[39m package versions...\n",
      "\u001b[32m\u001b[1m  No Changes\u001b[22m\u001b[39m to `~/code/BayesianSafetyValidation.jl/scripts/Project.toml`\n",
      "\u001b[32m\u001b[1m  No Changes\u001b[22m\u001b[39m to `~/code/BayesianSafetyValidation.jl/scripts/Manifest.toml`\n",
      "\u001b[32m\u001b[1m   Resolving\u001b[22m\u001b[39m package versions...\n",
      "\u001b[32m\u001b[1m  No Changes\u001b[22m\u001b[39m to `~/code/BayesianSafetyValidation.jl/scripts/Project.toml`\n",
      "\u001b[32m\u001b[1m  No Changes\u001b[22m\u001b[39m to `~/code/BayesianSafetyValidation.jl/scripts/Manifest.toml`\n",
      "\u001b[32m\u001b[1m    Updating\u001b[22m\u001b[39m git-repo `/home/rob/code/BayesianSafetyValidation.jl`\n",
      "\u001b[32m\u001b[1m   Resolving\u001b[22m\u001b[39m package versions...\n",
      "\u001b[32m\u001b[1m  No Changes\u001b[22m\u001b[39m to `~/code/BayesianSafetyValidation.jl/scripts/Project.toml`\n",
      "\u001b[32m\u001b[1m  No Changes\u001b[22m\u001b[39m to `~/code/BayesianSafetyValidation.jl/scripts/Manifest.toml`\n"
     ]
    }
   ],
   "source": [
    "# install necessary packages.  note that IJulia should already be installed (to run this notebook in the first place)\n",
    "using Pkg\n",
    "Pkg.add(\"Revise\")\n",
    "Pkg.add(\"ProfileVega\")\n",
    "Pkg.add(\"Plots\")\n",
    "Pkg.add(\"BenchmarkTools\")\n",
    "Pkg.add(path=\"../\")"
   ]
  },
  {
   "cell_type": "code",
   "execution_count": 2,
   "id": "8c070e99",
   "metadata": {},
   "outputs": [],
   "source": [
    "using Revise\n",
    "using BayesianSafetyValidation\n",
    "using ProfileVega\n",
    "using Plots\n",
    "using BenchmarkTools"
   ]
  },
  {
   "cell_type": "markdown",
   "id": "e8a86947",
   "metadata": {},
   "source": [
    "# Profile a toy problem to see where the bottleneck is \n",
    "We use the dummy square system, with a convenience function to create instances in N dimensions"
   ]
  },
  {
   "cell_type": "code",
   "execution_count": 3,
   "id": "894319ea-eb84-4a31-ad89-ce456a6c14e5",
   "metadata": {},
   "outputs": [],
   "source": [
    "# modified from dummy_squares_system\n",
    "@with_kw mutable struct DummyParameters <: System.SystemParameters\n",
    "    failure_point = [[2,2]]\n",
    "    failure_radius = [2]\n",
    "end\n",
    "    \n",
    "function System.reset(sparams::DummyParameters) end\n",
    "\n",
    "function System.initialize(sparams::DummyParameters; kwargs...) end\n",
    "\n",
    "function System.generate_input(sparams::DummyParameters, sample::Vector; kwargs...)\n",
    "    return sample # pass-through\n",
    "end\n",
    "\n",
    "function System.evaluate(sparams::DummyParameters, inputs::Vector; verbose=false, kwargs...)\n",
    "    verbose && @info \"Evaluating dummy system ($inputs)...\"\n",
    "    Y = Vector{Bool}(undef, 0)\n",
    "    C_vec = sparams.failure_point\n",
    "    r_vec = sparams.failure_radius\n",
    "    for input in inputs\n",
    "        failure = false\n",
    "        for i in eachindex(C_vec)\n",
    "            C = C_vec[i]\n",
    "            r = r_vec[i]\n",
    "            local_failure = true\n",
    "            for d in 1:length(C)\n",
    "                local_failure &= C[d] - r <= input[d] <= C[d] + r\n",
    "            end\n",
    "            failure = failure || local_failure\n",
    "        end\n",
    "        push!(Y, failure)\n",
    "    end\n",
    "    return Y\n",
    "end"
   ]
  },
  {
   "cell_type": "code",
   "execution_count": 4,
   "id": "5861ca9a-d589-4016-998c-05b09c86c465",
   "metadata": {},
   "outputs": [
    {
     "data": {
      "text/plain": [
       "get_system_and_models (generic function with 1 method)"
      ]
     },
     "execution_count": 4,
     "metadata": {},
     "output_type": "execute_result"
    }
   ],
   "source": [
    "function get_system_and_models(N)\n",
    "    pt = fill(2, N)\n",
    "    system_params = DummyParameters(failure_point=[pt], failure_radius=[1])\n",
    "    models = [OperationalParameters(\"x_$i\", [0, 5], Uniform(0, 5)) for i in 1:N]\n",
    "\n",
    "    return (system_params, models)\n",
    "end"
   ]
  },
  {
   "cell_type": "code",
   "execution_count": 5,
   "id": "b50e868c-f86c-4eab-ac6e-10f16fa890df",
   "metadata": {},
   "outputs": [
    {
     "data": {
      "text/plain": [
       "(DummyParameters\n",
       "  failure_point: Array{Vector{Int64}}((1,))\n",
       "  failure_radius: Array{Int64}((1,)) [1]\n",
       ", OperationalParameters[OperationalParameters(\"x_1\", [0, 5], Uniform{Float64}(a=0.0, b=5.0)), OperationalParameters(\"x_2\", [0, 5], Uniform{Float64}(a=0.0, b=5.0)), OperationalParameters(\"x_3\", [0, 5], Uniform{Float64}(a=0.0, b=5.0))])"
      ]
     },
     "execution_count": 5,
     "metadata": {},
     "output_type": "execute_result"
    }
   ],
   "source": [
    "system_params, models = get_system_and_models(3)"
   ]
  },
  {
   "cell_type": "code",
   "execution_count": 6,
   "id": "0ac0fff6",
   "metadata": {},
   "outputs": [
    {
     "name": "stdout",
     "output_type": "stream",
     "text": [
      "\n",
      "----------------------------------------\n"
     ]
    },
    {
     "name": "stderr",
     "output_type": "stream",
     "text": [
      "\u001b[36m\u001b[1m[ \u001b[22m\u001b[39m\u001b[36m\u001b[1mInfo: \u001b[22m\u001b[39mRefinement iteration 1 (acquisition 1)\n",
      "\u001b[36m\u001b[1m[ \u001b[22m\u001b[39m\u001b[36m\u001b[1mInfo: \u001b[22m\u001b[39mRefinement iteration 1 (acquisition 2)\n",
      "\u001b[36m\u001b[1m[ \u001b[22m\u001b[39m\u001b[36m\u001b[1mInfo: \u001b[22m\u001b[39mRefinement iteration 1 (acquisition 3)\n",
      "\u001b[36m\u001b[1m[ \u001b[22m\u001b[39m\u001b[36m\u001b[1mInfo: \u001b[22m\u001b[39mp(fail) estimate = 0.0\n"
     ]
    }
   ],
   "source": [
    "# force compilation\n",
    "gp = bayesian_safety_validation(system_params, models; T=1, input_discretization_steps=10, p_estimate_discretization_steps=10);"
   ]
  },
  {
   "cell_type": "code",
   "execution_count": 7,
   "id": "1c622a4a-d1f7-490c-920a-7bdc29a639e1",
   "metadata": {},
   "outputs": [
    {
     "name": "stdout",
     "output_type": "stream",
     "text": [
      "\n",
      "----------------------------------------\n"
     ]
    },
    {
     "name": "stderr",
     "output_type": "stream",
     "text": [
      "\u001b[36m\u001b[1m[ \u001b[22m\u001b[39m\u001b[36m\u001b[1mInfo: \u001b[22m\u001b[39mRefinement iteration 1 (acquisition 1)\n",
      "\u001b[36m\u001b[1m[ \u001b[22m\u001b[39m\u001b[36m\u001b[1mInfo: \u001b[22m\u001b[39mRefinement iteration 1 (acquisition 2)\n",
      "\u001b[36m\u001b[1m[ \u001b[22m\u001b[39m\u001b[36m\u001b[1mInfo: \u001b[22m\u001b[39mRefinement iteration 1 (acquisition 3)\n"
     ]
    },
    {
     "name": "stdout",
     "output_type": "stream",
     "text": [
      "\n",
      "----------------------------------------\n"
     ]
    },
    {
     "name": "stderr",
     "output_type": "stream",
     "text": [
      "\u001b[36m\u001b[1m[ \u001b[22m\u001b[39m\u001b[36m\u001b[1mInfo: \u001b[22m\u001b[39mRefinement iteration 2 (acquisition 1)\n",
      "\u001b[36m\u001b[1m[ \u001b[22m\u001b[39m\u001b[36m\u001b[1mInfo: \u001b[22m\u001b[39mRefinement iteration 2 (acquisition 2)\n",
      "\u001b[36m\u001b[1m[ \u001b[22m\u001b[39m\u001b[36m\u001b[1mInfo: \u001b[22m\u001b[39mRefinement iteration 2 (acquisition 3)\n"
     ]
    },
    {
     "name": "stdout",
     "output_type": "stream",
     "text": [
      "\n",
      "----------------------------------------\n"
     ]
    },
    {
     "name": "stderr",
     "output_type": "stream",
     "text": [
      "\u001b[36m\u001b[1m[ \u001b[22m\u001b[39m\u001b[36m\u001b[1mInfo: \u001b[22m\u001b[39mRefinement iteration 3 (acquisition 1)\n",
      "\u001b[36m\u001b[1m[ \u001b[22m\u001b[39m\u001b[36m\u001b[1mInfo: \u001b[22m\u001b[39mRefinement iteration 3 (acquisition 2)\n",
      "\u001b[36m\u001b[1m[ \u001b[22m\u001b[39m\u001b[36m\u001b[1mInfo: \u001b[22m\u001b[39mRefinement iteration 3 (acquisition 3)\n"
     ]
    },
    {
     "name": "stdout",
     "output_type": "stream",
     "text": [
      "\n",
      "----------------------------------------\n"
     ]
    },
    {
     "name": "stderr",
     "output_type": "stream",
     "text": [
      "\u001b[36m\u001b[1m[ \u001b[22m\u001b[39m\u001b[36m\u001b[1mInfo: \u001b[22m\u001b[39mRefinement iteration 4 (acquisition 1)\n",
      "\u001b[36m\u001b[1m[ \u001b[22m\u001b[39m\u001b[36m\u001b[1mInfo: \u001b[22m\u001b[39mRefinement iteration 4 (acquisition 2)\n",
      "\u001b[36m\u001b[1m[ \u001b[22m\u001b[39m\u001b[36m\u001b[1mInfo: \u001b[22m\u001b[39mRefinement iteration 4 (acquisition 3)\n"
     ]
    },
    {
     "name": "stdout",
     "output_type": "stream",
     "text": [
      "\n",
      "----------------------------------------\n"
     ]
    },
    {
     "name": "stderr",
     "output_type": "stream",
     "text": [
      "\u001b[36m\u001b[1m[ \u001b[22m\u001b[39m\u001b[36m\u001b[1mInfo: \u001b[22m\u001b[39mRefinement iteration 5 (acquisition 1)\n",
      "\u001b[36m\u001b[1m[ \u001b[22m\u001b[39m\u001b[36m\u001b[1mInfo: \u001b[22m\u001b[39mRefinement iteration 5 (acquisition 2)\n",
      "\u001b[36m\u001b[1m[ \u001b[22m\u001b[39m\u001b[36m\u001b[1mInfo: \u001b[22m\u001b[39mRefinement iteration 5 (acquisition 3)\n"
     ]
    },
    {
     "name": "stdout",
     "output_type": "stream",
     "text": [
      "\n",
      "----------------------------------------\n"
     ]
    },
    {
     "name": "stderr",
     "output_type": "stream",
     "text": [
      "\u001b[36m\u001b[1m[ \u001b[22m\u001b[39m\u001b[36m\u001b[1mInfo: \u001b[22m\u001b[39mRefinement iteration 6 (acquisition 1)\n",
      "\u001b[36m\u001b[1m[ \u001b[22m\u001b[39m\u001b[36m\u001b[1mInfo: \u001b[22m\u001b[39mRefinement iteration 6 (acquisition 2)\n",
      "\u001b[36m\u001b[1m[ \u001b[22m\u001b[39m\u001b[36m\u001b[1mInfo: \u001b[22m\u001b[39mRefinement iteration 6 (acquisition 3)\n"
     ]
    },
    {
     "name": "stdout",
     "output_type": "stream",
     "text": [
      "\n",
      "----------------------------------------\n"
     ]
    },
    {
     "name": "stderr",
     "output_type": "stream",
     "text": [
      "\u001b[36m\u001b[1m[ \u001b[22m\u001b[39m\u001b[36m\u001b[1mInfo: \u001b[22m\u001b[39mRefinement iteration 7 (acquisition 1)\n",
      "\u001b[36m\u001b[1m[ \u001b[22m\u001b[39m\u001b[36m\u001b[1mInfo: \u001b[22m\u001b[39mRefinement iteration 7 (acquisition 2)\n",
      "\u001b[36m\u001b[1m[ \u001b[22m\u001b[39m\u001b[36m\u001b[1mInfo: \u001b[22m\u001b[39mRefinement iteration 7 (acquisition 3)\n"
     ]
    },
    {
     "name": "stdout",
     "output_type": "stream",
     "text": [
      "\n",
      "----------------------------------------\n"
     ]
    },
    {
     "name": "stderr",
     "output_type": "stream",
     "text": [
      "\u001b[36m\u001b[1m[ \u001b[22m\u001b[39m\u001b[36m\u001b[1mInfo: \u001b[22m\u001b[39mRefinement iteration 8 (acquisition 1)\n",
      "\u001b[36m\u001b[1m[ \u001b[22m\u001b[39m\u001b[36m\u001b[1mInfo: \u001b[22m\u001b[39mRefinement iteration 8 (acquisition 2)\n",
      "\u001b[36m\u001b[1m[ \u001b[22m\u001b[39m\u001b[36m\u001b[1mInfo: \u001b[22m\u001b[39mRefinement iteration 8 (acquisition 3)\n"
     ]
    },
    {
     "name": "stdout",
     "output_type": "stream",
     "text": [
      "\n",
      "----------------------------------------\n"
     ]
    },
    {
     "name": "stderr",
     "output_type": "stream",
     "text": [
      "\u001b[36m\u001b[1m[ \u001b[22m\u001b[39m\u001b[36m\u001b[1mInfo: \u001b[22m\u001b[39mRefinement iteration 9 (acquisition 1)\n",
      "\u001b[36m\u001b[1m[ \u001b[22m\u001b[39m\u001b[36m\u001b[1mInfo: \u001b[22m\u001b[39mRefinement iteration 9 (acquisition 2)\n",
      "\u001b[36m\u001b[1m[ \u001b[22m\u001b[39m\u001b[36m\u001b[1mInfo: \u001b[22m\u001b[39mRefinement iteration 9 (acquisition 3)\n"
     ]
    },
    {
     "name": "stdout",
     "output_type": "stream",
     "text": [
      "\n",
      "----------------------------------------\n"
     ]
    },
    {
     "name": "stderr",
     "output_type": "stream",
     "text": [
      "\u001b[36m\u001b[1m[ \u001b[22m\u001b[39m\u001b[36m\u001b[1mInfo: \u001b[22m\u001b[39mRefinement iteration 10 (acquisition 1)\n",
      "\u001b[36m\u001b[1m[ \u001b[22m\u001b[39m\u001b[36m\u001b[1mInfo: \u001b[22m\u001b[39mRefinement iteration 10 (acquisition 2)\n",
      "\u001b[36m\u001b[1m[ \u001b[22m\u001b[39m\u001b[36m\u001b[1mInfo: \u001b[22m\u001b[39mRefinement iteration 10 (acquisition 3)\n",
      "\u001b[36m\u001b[1m[ \u001b[22m\u001b[39m\u001b[36m\u001b[1mInfo: \u001b[22m\u001b[39mp(fail) estimate = 0.04339200000000113\n",
      "WARNING: both LatinHypercubeSampling and Distributions export \"Categorical\"; uses of it in module BayesianSafetyValidation must be qualified\n",
      "WARNING: both LatinHypercubeSampling and Distributions export \"Continuous\"; uses of it in module BayesianSafetyValidation must be qualified\n"
     ]
    },
    {
     "data": {
      "application/vnd.vegalite.v4+json": {
       "data": {
        "values": [
         {
          "level": 0,
          "sf": "ip:0x0",
          "status": "Runtime dispatch",
          "x1": 1,
          "x2": 4846.9
         },
         {
          "level": 1,
          "sf": "(::IJulia.var\"#15#18\")() at task.jl:514",
          "status": "Default",
          "x1": 1,
          "x2": 4692.9
         },
         {
          "level": 2,
          "sf": "eventloop(socket::ZMQ.Socket) at eventloop.jl:8",
          "status": "Default",
          "x1": 1,
          "x2": 4692.9
         },
         {
          "level": 3,
          "sf": "invokelatest at essentials.jl:813 [inlined]",
          "status": "Default",
          "x1": 1,
          "x2": 4692.9
         },
         {
          "level": 4,
          "sf": "#invokelatest#2 at essentials.jl:816 [inlined]",
          "status": "Runtime dispatch",
          "x1": 1,
          "x2": 4692.9
         },
         {
          "level": 5,
          "sf": "execute_request(socket::ZMQ.Socket, msg::IJulia.Msg) at execute_request.jl:67",
          "status": "Runtime dispatch",
          "x1": 1,
          "x2": 4692.9
         },
         {
          "level": 6,
          "sf": "softscope_include_string(m::Module, code::String, filename::String) at SoftGlobalScope.jl:65",
          "status": "Default",
          "x1": 1,
          "x2": 4692.9
         },
         {
          "level": 7,
          "sf": "include_string(mapexpr::typeof(REPL.softscope), mod::Module, code::String, filename::String) at loading.jl:1899",
          "status": "Default",
          "x1": 1,
          "x2": 4692.9
         },
         {
          "level": 8,
          "sf": "eval at boot.jl:370 [inlined]",
          "status": "Runtime dispatch",
          "x1": 1,
          "x2": 4692.9
         },
         {
          "level": 9,
          "sf": "kwcall(::NamedTuple{(:T, :input_discretization_steps, :p_estimate_discretization_steps), Tuple{Int64, Int64, Int64}}, ::typeof(bayesian_safety_validation), sparams::DummyParameters, models::Vector{OperationalParameters}) at bayesian_safety_validation.jl:4",
          "status": "Default",
          "x1": 1,
          "x2": 4689.9
         },
         {
          "level": 10,
          "sf": "bayesian_safety_validation(sparams::DummyParameters, models::Vector{OperationalParameters}; gp::Nothing, T::Int64, λ::Float64, seed::Int64, initialize_system::Bool, reset_system::Bool, show_acquisition_plots::Bool, show_plots::Bool, show_combined_plot::Bool, show_tight_combined_plot::Bool, hide_model_after_first::Bool, only_plot_last::Bool, latex_labels::Bool, show_alert::Bool, acquisitions_to_run::Vector{Int64}, probability_valued_system::Bool, skip_if_no_failures::Bool, save_plots::Bool, save_plots_svg::Bool, plots_dir::String, samples_per_batch::Int64, single_failure_mode::Bool, refit_every_point::Bool, input_discretization_steps::Int64, p_estimate_discretization_steps::Int64, match_original::Bool, kwargs::Base.Pairs{Symbol, Union{}, Tuple{}, NamedTuple{(), Tuple{}}}) at bayesian_safety_validation.jl:53",
          "status": "Default",
          "x1": 1,
          "x2": 172.9
         },
         {
          "level": 11,
          "sf": "kwcall(::NamedTuple{(:num_steps,), Tuple{Int64}}, ::typeof(gp_output), gp::GaussianProcesses.GPE{Matrix{Float64}, Vector{Float64}, GaussianProcesses.MeanZero, GaussianProcesses.Mat12Iso{Float64}, GaussianProcesses.FullCovariance, GaussianProcesses.IsotropicData{Matrix{Float64}}, PDMats.PDMat{Float64, Matrix{Float64}}, GaussianProcesses.Scalar{Float64}}, models::Vector{OperationalParameters}) at surrogate_model.jl:74",
          "status": "Runtime dispatch",
          "x1": 1,
          "x2": 172.9
         },
         {
          "level": 12,
          "sf": "gp_output(gp::GaussianProcesses.GPE{Matrix{Float64}, Vector{Float64}, GaussianProcesses.MeanZero, GaussianProcesses.Mat12Iso{Float64}, GaussianProcesses.FullCovariance, GaussianProcesses.IsotropicData{Matrix{Float64}}, PDMats.PDMat{Float64, Matrix{Float64}}, GaussianProcesses.Scalar{Float64}}, models::Vector{OperationalParameters}; num_steps::Int64, m::Vector{Int64}, f::BayesianSafetyValidation.var\"#24#25\") at surrogate_model.jl:80",
          "status": "Runtime dispatch",
          "x1": 1,
          "x2": 172.9
         },
         {
          "level": 13,
          "sf": "materialize(bc::Base.Broadcast.Broadcasted{Base.Broadcast.DefaultArrayStyle{3}, Nothing, BayesianSafetyValidation.var\"#37#38\"{BayesianSafetyValidation.var\"#24#25\", GaussianProcesses.GPE{Matrix{Float64}, Vector{Float64}, GaussianProcesses.MeanZero, GaussianProcesses.Mat12Iso{Float64}, GaussianProcesses.FullCovariance, GaussianProcesses.IsotropicData{Matrix{Float64}}, PDMats.PDMat{Float64, Matrix{Float64}}, GaussianProcesses.Scalar{Float64}}}, Tuple{Array{Float64, 3}, Array{Float64, 3}, Array{Float64, 3}}}) at broadcast.jl:873",
          "status": "Default",
          "x1": 1,
          "x2": 172.9
         },
         {
          "level": 14,
          "sf": "copy at broadcast.jl:920 [inlined]",
          "status": "Runtime dispatch",
          "x1": 1,
          "x2": 172.9
         },
         {
          "level": 15,
          "sf": "copyto_nonleaf!(dest::Array{Float64, 3}, bc::Base.Broadcast.Broadcasted{Base.Broadcast.DefaultArrayStyle{3}, Tuple{Base.OneTo{Int64}, Base.OneTo{Int64}, Base.OneTo{Int64}}, BayesianSafetyValidation.var\"#37#38\"{BayesianSafetyValidation.var\"#24#25\", GaussianProcesses.GPE{Matrix{Float64}, Vector{Float64}, GaussianProcesses.MeanZero, GaussianProcesses.Mat12Iso{Float64}, GaussianProcesses.FullCovariance, GaussianProcesses.IsotropicData{Matrix{Float64}}, PDMats.PDMat{Float64, Matrix{Float64}}, GaussianProcesses.Scalar{Float64}}}, Tuple{Base.Broadcast.Extruded{Array{Float64, 3}, Tuple{Bool, Bool, Bool}, Tuple{Int64, Int64, Int64}}, Base.Broadcast.Extruded{Array{Float64, 3}, Tuple{Bool, Bool, Bool}, Tuple{Int64, Int64, Int64}}, Base.Broadcast.Extruded{Array{Float64, 3}, Tuple{Bool, Bool, Bool}, Tuple{Int64, Int64, Int64}}}}, iter::CartesianIndices{3, Tuple{Base.OneTo{Int64}, Base.OneTo{Int64}, Base.OneTo{Int64}}}, state::CartesianIndex{3}, count::Int64) at broadcast.jl:1068",
          "status": "Default",
          "x1": 1,
          "x2": 172.9
         },
         {
          "level": 16,
          "sf": "getindex at broadcast.jl:610 [inlined]",
          "status": "Default",
          "x1": 1,
          "x2": 172.9
         },
         {
          "level": 17,
          "sf": "_broadcast_getindex at broadcast.jl:655 [inlined]",
          "status": "Default",
          "x1": 1,
          "x2": 1.9
         },
         {
          "level": 18,
          "sf": "_getindex at broadcast.jl:679 [inlined]",
          "status": "Default",
          "x1": 1,
          "x2": 1.9
         },
         {
          "level": 19,
          "sf": "_broadcast_getindex at broadcast.jl:649 [inlined]",
          "status": "Default",
          "x1": 1,
          "x2": 1.9
         },
         {
          "level": 20,
          "sf": "getindex at multidimensional.jl:668 [inlined]",
          "status": "Default",
          "x1": 1,
          "x2": 1.9
         },
         {
          "level": 21,
          "sf": "getindex at essentials.jl:14 [inlined]",
          "status": "Default",
          "x1": 1,
          "x2": 1.9
         },
         {
          "level": 17,
          "sf": "_broadcast_getindex at broadcast.jl:656 [inlined]",
          "status": "Default",
          "x1": 2,
          "x2": 172.9
         },
         {
          "level": 18,
          "sf": "_broadcast_getindex_evalf at broadcast.jl:683 [inlined]",
          "status": "Default",
          "x1": 2,
          "x2": 172.9
         },
         {
          "level": 19,
          "sf": "#37 at surrogate_model.jl:79 [inlined]",
          "status": "Default",
          "x1": 2,
          "x2": 172.9
         },
         {
          "level": 20,
          "sf": "vect at array.jl:126 [inlined]",
          "status": "Default",
          "x1": 2,
          "x2": 4.9
         },
         {
          "level": 21,
          "sf": "_array_for at array.jl:674 [inlined]",
          "status": "Default",
          "x1": 2,
          "x2": 4.9
         },
         {
          "level": 22,
          "sf": "_array_for at array.jl:671 [inlined]",
          "status": "Default",
          "x1": 2,
          "x2": 4.9
         },
         {
          "level": 23,
          "sf": "similar at abstractarray.jl:881 [inlined]",
          "status": "Default",
          "x1": 2,
          "x2": 4.9
         },
         {
          "level": 24,
          "sf": "similar at abstractarray.jl:882 [inlined]",
          "status": "Default",
          "x1": 2,
          "x2": 4.9
         },
         {
          "level": 25,
          "sf": "Array at boot.jl:486 [inlined]",
          "status": "Default",
          "x1": 2,
          "x2": 4.9
         },
         {
          "level": 26,
          "sf": "Array at boot.jl:477 [inlined]",
          "status": "Garbage collection",
          "x1": 2,
          "x2": 4.9
         },
         {
          "level": 20,
          "sf": "(::BayesianSafetyValidation.var\"#24#25\")(gp::GaussianProcesses.GPE{Matrix{Float64}, Vector{Float64}, GaussianProcesses.MeanZero, GaussianProcesses.Mat12Iso{Float64}, GaussianProcesses.FullCovariance, GaussianProcesses.IsotropicData{Matrix{Float64}}, PDMats.PDMat{Float64, Matrix{Float64}}, GaussianProcesses.Scalar{Float64}}, x::Vector{Float64}) at surrogate_model.jl:39",
          "status": "Garbage collection",
          "x1": 5,
          "x2": 172.9
         },
         {
          "level": 21,
          "sf": "(::BayesianSafetyValidation.var\"#20#22\")(gp::GaussianProcesses.GPE{Matrix{Float64}, Vector{Float64}, GaussianProcesses.MeanZero, GaussianProcesses.Mat12Iso{Float64}, GaussianProcesses.FullCovariance, GaussianProcesses.IsotropicData{Matrix{Float64}}, PDMats.PDMat{Float64, Matrix{Float64}}, GaussianProcesses.Scalar{Float64}}, x::Vector{Float64}) at surrogate_model.jl:33",
          "status": "Default",
          "x1": 90,
          "x2": 169.9
         },
         {
          "level": 22,
          "sf": "map at tuple.jl:274 [inlined]",
          "status": "Default",
          "x1": 90,
          "x2": 106.9
         },
         {
          "level": 23,
          "sf": "(::BayesianSafetyValidation.var\"#21#23\")(y::Vector{Float64}) at surrogate_model.jl:33",
          "status": "Default",
          "x1": 90,
          "x2": 106.9
         },
         {
          "level": 24,
          "sf": "materialize at broadcast.jl:873 [inlined]",
          "status": "Default",
          "x1": 90,
          "x2": 106.9
         },
         {
          "level": 25,
          "sf": "copy at broadcast.jl:898 [inlined]",
          "status": "Default",
          "x1": 90,
          "x2": 105.9
         },
         {
          "level": 26,
          "sf": "copyto! at broadcast.jl:926 [inlined]",
          "status": "Default",
          "x1": 90,
          "x2": 95.9
         },
         {
          "level": 27,
          "sf": "copyto! at broadcast.jl:970 [inlined]",
          "status": "Default",
          "x1": 90,
          "x2": 90.9
         },
         {
          "level": 28,
          "sf": "preprocess at broadcast.jl:953 [inlined]",
          "status": "Default",
          "x1": 90,
          "x2": 90.9
         },
         {
          "level": 29,
          "sf": "preprocess_args at broadcast.jl:957 [inlined]",
          "status": "Default",
          "x1": 90,
          "x2": 90.9
         },
         {
          "level": 30,
          "sf": "preprocess at broadcast.jl:954 [inlined]",
          "status": "Default",
          "x1": 90,
          "x2": 90.9
         },
         {
          "level": 31,
          "sf": "broadcast_unalias at broadcast.jl:947 [inlined]",
          "status": "Default",
          "x1": 90,
          "x2": 90.9
         },
         {
          "level": 27,
          "sf": "copyto! at broadcast.jl:973 [inlined]",
          "status": "Default",
          "x1": 91,
          "x2": 95.9
         },
         {
          "level": 28,
          "sf": "macro expansion at simdloop.jl:77 [inlined]",
          "status": "Default",
          "x1": 91,
          "x2": 95.9
         },
         {
          "level": 29,
          "sf": "macro expansion at broadcast.jl:974 [inlined]",
          "status": "Default",
          "x1": 91,
          "x2": 95.9
         },
         {
          "level": 30,
          "sf": "setindex! at array.jl:969 [inlined]",
          "status": "Default",
          "x1": 91,
          "x2": 92.9
         },
         {
          "level": 30,
          "sf": "getindex at broadcast.jl:610 [inlined]",
          "status": "Default",
          "x1": 93,
          "x2": 95.9
         },
         {
          "level": 31,
          "sf": "_broadcast_getindex at broadcast.jl:656 [inlined]",
          "status": "Default",
          "x1": 93,
          "x2": 95.9
         },
         {
          "level": 32,
          "sf": "_broadcast_getindex_evalf at broadcast.jl:683 [inlined]",
          "status": "Default",
          "x1": 93,
          "x2": 95.9
         },
         {
          "level": 33,
          "sf": "inverse at surrogate_model.jl:8 [inlined]",
          "status": "Default",
          "x1": 93,
          "x2": 95.9
         },
         {
          "level": 34,
          "sf": "clamp at math.jl:89 [inlined]",
          "status": "Default",
          "x1": 93,
          "x2": 93.9
         },
         {
          "level": 35,
          "sf": "ifelse at essentials.jl:575 [inlined]",
          "status": "Default",
          "x1": 93,
          "x2": 93.9
         },
         {
          "level": 34,
          "sf": "inverse_transform at surrogate_model.jl:5 [inlined]",
          "status": "Default",
          "x1": 94,
          "x2": 95.9
         },
         {
          "level": 35,
          "sf": "#inverse_transform#10 at surrogate_model.jl:5 [inlined]",
          "status": "Default",
          "x1": 94,
          "x2": 95.9
         },
         {
          "level": 36,
          "sf": "- at float.jl:409 [inlined]",
          "status": "Default",
          "x1": 94,
          "x2": 95.9
         },
         {
          "level": 26,
          "sf": "similar at broadcast.jl:211 [inlined]",
          "status": "Default",
          "x1": 96,
          "x2": 105.9
         },
         {
          "level": 27,
          "sf": "similar at broadcast.jl:212 [inlined]",
          "status": "Default",
          "x1": 96,
          "x2": 105.9
         },
         {
          "level": 28,
          "sf": "similar at abstractarray.jl:881 [inlined]",
          "status": "Default",
          "x1": 96,
          "x2": 105.9
         },
         {
          "level": 29,
          "sf": "similar at abstractarray.jl:882 [inlined]",
          "status": "Default",
          "x1": 96,
          "x2": 105.9
         },
         {
          "level": 30,
          "sf": "Array at boot.jl:494 [inlined]",
          "status": "Default",
          "x1": 96,
          "x2": 105.9
         },
         {
          "level": 31,
          "sf": "Array at boot.jl:486 [inlined]",
          "status": "Default",
          "x1": 96,
          "x2": 105.9
         },
         {
          "level": 32,
          "sf": "Array at boot.jl:477 [inlined]",
          "status": "Garbage collection",
          "x1": 96,
          "x2": 105.9
         },
         {
          "level": 25,
          "sf": "instantiate at broadcast.jl:294 [inlined]",
          "status": "Default",
          "x1": 106,
          "x2": 106.9
         },
         {
          "level": 26,
          "sf": "combine_axes at broadcast.jl:513 [inlined]",
          "status": "Default",
          "x1": 106,
          "x2": 106.9
         },
         {
          "level": 27,
          "sf": "axes at abstractarray.jl:98 [inlined]",
          "status": "Default",
          "x1": 106,
          "x2": 106.9
         },
         {
          "level": 28,
          "sf": "size at array.jl:149 [inlined]",
          "status": "Default",
          "x1": 106,
          "x2": 106.9
         },
         {
          "level": 22,
          "sf": "predict_f at GP.jl:64 [inlined]",
          "status": "Default",
          "x1": 107,
          "x2": 169.9
         },
         {
          "level": 23,
          "sf": "predict_f(gp::GaussianProcesses.GPE{Matrix{Float64}, Vector{Float64}, GaussianProcesses.MeanZero, GaussianProcesses.Mat12Iso{Float64}, GaussianProcesses.FullCovariance, GaussianProcesses.IsotropicData{Matrix{Float64}}, PDMats.PDMat{Float64, Matrix{Float64}}, GaussianProcesses.Scalar{Float64}}, x::Base.ReshapedArray{Float64, 2, LinearAlgebra.Adjoint{Float64, Vector{Float64}}, Tuple{}}; full_cov::Bool) at GP.jl:70",
          "status": "Default",
          "x1": 107,
          "x2": 110.9
         },
         {
          "level": 24,
          "sf": "Array at boot.jl:491 [inlined]",
          "status": "Default",
          "x1": 107,
          "x2": 110.9
         },
         {
          "level": 25,
          "sf": "Array at boot.jl:477 [inlined]",
          "status": "Garbage collection",
          "x1": 107,
          "x2": 110.9
         },
         {
          "level": 23,
          "sf": "predict_f(gp::GaussianProcesses.GPE{Matrix{Float64}, Vector{Float64}, GaussianProcesses.MeanZero, GaussianProcesses.Mat12Iso{Float64}, GaussianProcesses.FullCovariance, GaussianProcesses.IsotropicData{Matrix{Float64}}, PDMats.PDMat{Float64, Matrix{Float64}}, GaussianProcesses.Scalar{Float64}}, x::Base.ReshapedArray{Float64, 2, LinearAlgebra.Adjoint{Float64, Vector{Float64}}, Tuple{}}; full_cov::Bool) at GP.jl:71",
          "status": "Default",
          "x1": 111,
          "x2": 112.9
         },
         {
          "level": 24,
          "sf": "similar at array.jl:369 [inlined]",
          "status": "Default",
          "x1": 111,
          "x2": 112.9
         },
         {
          "level": 25,
          "sf": "Array at boot.jl:477 [inlined]",
          "status": "Garbage collection",
          "x1": 111,
          "x2": 112.9
         },
         {
          "level": 23,
          "sf": "predict_f(gp::GaussianProcesses.GPE{Matrix{Float64}, Vector{Float64}, GaussianProcesses.MeanZero, GaussianProcesses.Mat12Iso{Float64}, GaussianProcesses.FullCovariance, GaussianProcesses.IsotropicData{Matrix{Float64}}, PDMats.PDMat{Float64, Matrix{Float64}}, GaussianProcesses.Scalar{Float64}}, x::Base.ReshapedArray{Float64, 2, LinearAlgebra.Adjoint{Float64, Vector{Float64}}, Tuple{}}; full_cov::Bool) at GP.jl:73",
          "status": "Default",
          "x1": 113,
          "x2": 163.9
         },
         {
          "level": 24,
          "sf": "getindex at abstractarray.jl:1294 [inlined]",
          "status": "Default",
          "x1": 113,
          "x2": 119.9
         },
         {
          "level": 25,
          "sf": "_getindex at multidimensional.jl:861 [inlined]",
          "status": "Default",
          "x1": 113,
          "x2": 119.9
         },
         {
          "level": 26,
          "sf": "_unsafe_getindex(::IndexLinear, ::Base.ReshapedArray{Float64, 2, LinearAlgebra.Adjoint{Float64, Vector{Float64}}, Tuple{}}, ::Base.Slice{Base.OneTo{Int64}}, ::UnitRange{Int64}) at multidimensional.jl:870",
          "status": "Default",
          "x1": 113,
          "x2": 114.9
         },
         {
          "level": 26,
          "sf": "_unsafe_getindex(::IndexLinear, ::Base.ReshapedArray{Float64, 2, LinearAlgebra.Adjoint{Float64, Vector{Float64}}, Tuple{}}, ::Base.Slice{Base.OneTo{Int64}}, ::UnitRange{Int64}) at multidimensional.jl:873",
          "status": "Default",
          "x1": 115,
          "x2": 118.9
         },
         {
          "level": 27,
          "sf": "similar at abstractarray.jl:836 [inlined]",
          "status": "Default",
          "x1": 115,
          "x2": 118.9
         },
         {
          "level": 28,
          "sf": "similar at reshapedarray.jl:209 [inlined]",
          "status": "Default",
          "x1": 115,
          "x2": 118.9
         },
         {
          "level": 29,
          "sf": "similar at adjtrans.jl:335 [inlined]",
          "status": "Default",
          "x1": 115,
          "x2": 118.9
         },
         {
          "level": 30,
          "sf": "similar at array.jl:374 [inlined]",
          "status": "Default",
          "x1": 115,
          "x2": 118.9
         },
         {
          "level": 31,
          "sf": "Array at boot.jl:487 [inlined]",
          "status": "Default",
          "x1": 115,
          "x2": 118.9
         },
         {
          "level": 32,
          "sf": "Array at boot.jl:479 [inlined]",
          "status": "Garbage collection",
          "x1": 115,
          "x2": 118.9
         },
         {
          "level": 26,
          "sf": "_unsafe_getindex(::IndexLinear, ::Base.ReshapedArray{Float64, 2, LinearAlgebra.Adjoint{Float64, Vector{Float64}}, Tuple{}}, ::Base.Slice{Base.OneTo{Int64}}, ::UnitRange{Int64}) at multidimensional.jl:875",
          "status": "Default",
          "x1": 119,
          "x2": 119.9
         },
         {
          "level": 27,
          "sf": "_unsafe_getindex! at multidimensional.jl:884 [inlined]",
          "status": "Default",
          "x1": 119,
          "x2": 119.9
         },
         {
          "level": 28,
          "sf": "macro expansion at cartesian.jl:66 [inlined]",
          "status": "Default",
          "x1": 119,
          "x2": 119.9
         },
         {
          "level": 29,
          "sf": "iterate at indices.jl:393 [inlined]",
          "status": "Default",
          "x1": 119,
          "x2": 119.9
         },
         {
          "level": 30,
          "sf": "iterate at range.jl:891 [inlined]",
          "status": "Default",
          "x1": 119,
          "x2": 119.9
         },
         {
          "level": 31,
          "sf": "== at promotion.jl:499 [inlined]",
          "status": "Default",
          "x1": 119,
          "x2": 119.9
         },
         {
          "level": 24,
          "sf": "predict_full at GPE.jl:399 [inlined]",
          "status": "Default",
          "x1": 120,
          "x2": 163.9
         },
         {
          "level": 25,
          "sf": "predictMVN(xpred::Matrix{Float64}, xtrain::Matrix{Float64}, ytrain::Vector{Float64}, kernel::GaussianProcesses.Mat12Iso{Float64}, meanf::GaussianProcesses.MeanZero, alpha::Vector{Float64}, covstrat::GaussianProcesses.FullCovariance, Ktrain::PDMats.PDMat{Float64, Matrix{Float64}}) at GP.jl:42",
          "status": "Default",
          "x1": 121,
          "x2": 124.9
         },
         {
          "level": 26,
          "sf": "KernelData at stationary.jl:39 [inlined]",
          "status": "Default",
          "x1": 121,
          "x2": 124.9
         },
         {
          "level": 27,
          "sf": "distance at distance.jl:24 [inlined]",
          "status": "Default",
          "x1": 121,
          "x2": 124.9
         },
         {
          "level": 28,
          "sf": "Array at boot.jl:479 [inlined]",
          "status": "Garbage collection",
          "x1": 121,
          "x2": 124.9
         },
         {
          "level": 25,
          "sf": "predictMVN(xpred::Matrix{Float64}, xtrain::Matrix{Float64}, ytrain::Vector{Float64}, kernel::GaussianProcesses.Mat12Iso{Float64}, meanf::GaussianProcesses.MeanZero, alpha::Vector{Float64}, covstrat::GaussianProcesses.FullCovariance, Ktrain::PDMats.PDMat{Float64, Matrix{Float64}}) at GP.jl:43",
          "status": "Default",
          "x1": 125,
          "x2": 128.9
         },
         {
          "level": 26,
          "sf": "KernelData at stationary.jl:39 [inlined]",
          "status": "Default",
          "x1": 125,
          "x2": 128.9
         },
         {
          "level": 27,
          "sf": "distance at distance.jl:24 [inlined]",
          "status": "Default",
          "x1": 125,
          "x2": 128.9
         },
         {
          "level": 28,
          "sf": "Array at boot.jl:479 [inlined]",
          "status": "Garbage collection",
          "x1": 125,
          "x2": 128.9
         },
         {
          "level": 25,
          "sf": "predictMVN(xpred::Matrix{Float64}, xtrain::Matrix{Float64}, ytrain::Vector{Float64}, kernel::GaussianProcesses.Mat12Iso{Float64}, meanf::GaussianProcesses.MeanZero, alpha::Vector{Float64}, covstrat::GaussianProcesses.FullCovariance, Ktrain::PDMats.PDMat{Float64, Matrix{Float64}}) at GP.jl:44",
          "status": "Default",
          "x1": 129,
          "x2": 137.9
         },
         {
          "level": 26,
          "sf": "cov at kernels.jl:35 [inlined]",
          "status": "Default",
          "x1": 129,
          "x2": 135.9
         },
         {
          "level": 27,
          "sf": "Array at boot.jl:492 [inlined]",
          "status": "Default",
          "x1": 129,
          "x2": 135.9
         },
         {
          "level": 28,
          "sf": "Array at boot.jl:479 [inlined]",
          "status": "Garbage collection",
          "x1": 129,
          "x2": 135.9
         },
         {
          "level": 26,
          "sf": "cov at kernels.jl:36 [inlined]",
          "status": "Default",
          "x1": 136,
          "x2": 137.9
         },
         {
          "level": 27,
          "sf": "cov!(cK::Matrix{Float64}, k::GaussianProcesses.Mat12Iso{Float64}, X1::Matrix{Float64}, X2::Matrix{Float64}, data::GaussianProcesses.IsotropicData{Matrix{Float64}}) at kernels.jl:0",
          "status": "Default",
          "x1": 136,
          "x2": 136.9
         },
         {
          "level": 27,
          "sf": "cov!(cK::Matrix{Float64}, k::GaussianProcesses.Mat12Iso{Float64}, X1::Matrix{Float64}, X2::Matrix{Float64}, data::GaussianProcesses.IsotropicData{Matrix{Float64}}) at kernels.jl:56",
          "status": "Default",
          "x1": 137,
          "x2": 137.9
         },
         {
          "level": 25,
          "sf": "predictMVN(xpred::Matrix{Float64}, xtrain::Matrix{Float64}, ytrain::Vector{Float64}, kernel::GaussianProcesses.Mat12Iso{Float64}, meanf::GaussianProcesses.MeanZero, alpha::Vector{Float64}, covstrat::GaussianProcesses.FullCovariance, Ktrain::PDMats.PDMat{Float64, Matrix{Float64}}) at GP.jl:45",
          "status": "Default",
          "x1": 138,
          "x2": 140.9
         },
         {
          "level": 26,
          "sf": "cov at kernels.jl:35 [inlined]",
          "status": "Default",
          "x1": 138,
          "x2": 138.9
         },
         {
          "level": 27,
          "sf": "Array at boot.jl:492 [inlined]",
          "status": "Default",
          "x1": 138,
          "x2": 138.9
         },
         {
          "level": 28,
          "sf": "Array at boot.jl:479 [inlined]",
          "status": "Default",
          "x1": 138,
          "x2": 138.9
         },
         {
          "level": 26,
          "sf": "cov at kernels.jl:36 [inlined]",
          "status": "Default",
          "x1": 139,
          "x2": 140.9
         },
         {
          "level": 27,
          "sf": "cov!(cK::Matrix{Float64}, k::GaussianProcesses.Mat12Iso{Float64}, X1::Matrix{Float64}, X2::Matrix{Float64}, data::GaussianProcesses.IsotropicData{Matrix{Float64}}) at kernels.jl:58",
          "status": "Default",
          "x1": 139,
          "x2": 140.9
         },
         {
          "level": 28,
          "sf": "cov!(cK::Matrix{Float64}, k::GaussianProcesses.Mat12Iso{Float64}, X::Matrix{Float64}, data::GaussianProcesses.IsotropicData{Matrix{Float64}}) at kernels.jl:43",
          "status": "Default",
          "x1": 139,
          "x2": 140.9
         },
         {
          "level": 29,
          "sf": "cov_ij at stationary.jl:46 [inlined]",
          "status": "Default",
          "x1": 139,
          "x2": 140.9
         },
         {
          "level": 30,
          "sf": "cov at mat12_iso.jl:41 [inlined]",
          "status": "Default",
          "x1": 139,
          "x2": 140.9
         },
         {
          "level": 31,
          "sf": "exp(x::Float64) at exp.jl:325",
          "status": "Default",
          "x1": 139,
          "x2": 139.9
         },
         {
          "level": 32,
          "sf": "exp_impl at exp.jl:218 [inlined]",
          "status": "Default",
          "x1": 139,
          "x2": 139.9
         },
         {
          "level": 33,
          "sf": "abs at float.jl:609 [inlined]",
          "status": "Default",
          "x1": 139,
          "x2": 139.9
         },
         {
          "level": 25,
          "sf": "predictMVN(xpred::Matrix{Float64}, xtrain::Matrix{Float64}, ytrain::Vector{Float64}, kernel::GaussianProcesses.Mat12Iso{Float64}, meanf::GaussianProcesses.MeanZero, alpha::Vector{Float64}, covstrat::GaussianProcesses.FullCovariance, Ktrain::PDMats.PDMat{Float64, Matrix{Float64}}) at GP.jl:46",
          "status": "Default",
          "x1": 141,
          "x2": 146.9
         },
         {
          "level": 26,
          "sf": "mean at mZero.jl:16 [inlined]",
          "status": "Default",
          "x1": 141,
          "x2": 146.9
         },
         {
          "level": 27,
          "sf": "fill at array.jl:530 [inlined]",
          "status": "Default",
          "x1": 141,
          "x2": 146.9
         },
         {
          "level": 28,
          "sf": "fill at array.jl:532 [inlined]",
          "status": "Default",
          "x1": 141,
          "x2": 146.9
         },
         {
          "level": 29,
          "sf": "fill! at array.jl:0 [inlined]",
          "status": "Default",
          "x1": 141,
          "x2": 141.9
         },
         {
          "level": 29,
          "sf": "fill! at array.jl:348 [inlined]",
          "status": "Default",
          "x1": 142,
          "x2": 142.9
         },
         {
          "level": 30,
          "sf": "iterate at range.jl:887 [inlined]",
          "status": "Default",
          "x1": 142,
          "x2": 142.9
         },
         {
          "level": 31,
          "sf": "isempty at range.jl:662 [inlined]",
          "status": "Default",
          "x1": 142,
          "x2": 142.9
         },
         {
          "level": 32,
          "sf": "> at operators.jl:369 [inlined]",
          "status": "Default",
          "x1": 142,
          "x2": 142.9
         },
         {
          "level": 33,
          "sf": "< at int.jl:83 [inlined]",
          "status": "Default",
          "x1": 142,
          "x2": 142.9
         },
         {
          "level": 29,
          "sf": "fill! at array.jl:349 [inlined]",
          "status": "Default",
          "x1": 143,
          "x2": 143.9
         },
         {
          "level": 30,
          "sf": "setindex! at array.jl:969 [inlined]",
          "status": "Default",
          "x1": 143,
          "x2": 143.9
         },
         {
          "level": 29,
          "sf": "Array at boot.jl:486 [inlined]",
          "status": "Default",
          "x1": 144,
          "x2": 146.9
         },
         {
          "level": 30,
          "sf": "Array at boot.jl:477 [inlined]",
          "status": "Default",
          "x1": 144,
          "x2": 146.9
         },
         {
          "level": 25,
          "sf": "predictMVN(xpred::Matrix{Float64}, xtrain::Matrix{Float64}, ytrain::Vector{Float64}, kernel::GaussianProcesses.Mat12Iso{Float64}, meanf::GaussianProcesses.MeanZero, alpha::Vector{Float64}, covstrat::GaussianProcesses.FullCovariance, Ktrain::PDMats.PDMat{Float64, Matrix{Float64}}) at GP.jl:47",
          "status": "Default",
          "x1": 147,
          "x2": 161.9
         },
         {
          "level": 26,
          "sf": "predictMVN!(Kxx::Matrix{Float64}, Kff::PDMats.PDMat{Float64, Matrix{Float64}}, Kfx::Matrix{Float64}, mx::Vector{Float64}, αf::Vector{Float64}) at GP.jl:26",
          "status": "Default",
          "x1": 147,
          "x2": 154.9
         },
         {
          "level": 27,
          "sf": "+(A::Vector{Float64}, Bs::Vector{Float64}) at arraymath.jl:16",
          "status": "Default",
          "x1": 147,
          "x2": 150.9
         },
         {
          "level": 28,
          "sf": "broadcast_preserving_zero_d at broadcast.jl:862 [inlined]",
          "status": "Default",
          "x1": 147,
          "x2": 150.9
         },
         {
          "level": 29,
          "sf": "materialize at broadcast.jl:873 [inlined]",
          "status": "Default",
          "x1": 147,
          "x2": 150.9
         },
         {
          "level": 30,
          "sf": "copy at broadcast.jl:898 [inlined]",
          "status": "Default",
          "x1": 147,
          "x2": 150.9
         },
         {
          "level": 31,
          "sf": "copyto! at broadcast.jl:926 [inlined]",
          "status": "Default",
          "x1": 147,
          "x2": 147.9
         },
         {
          "level": 32,
          "sf": "copyto! at broadcast.jl:973 [inlined]",
          "status": "Default",
          "x1": 147,
          "x2": 147.9
         },
         {
          "level": 33,
          "sf": "macro expansion at simdloop.jl:77 [inlined]",
          "status": "Default",
          "x1": 147,
          "x2": 147.9
         },
         {
          "level": 34,
          "sf": "macro expansion at broadcast.jl:974 [inlined]",
          "status": "Default",
          "x1": 147,
          "x2": 147.9
         },
         {
          "level": 35,
          "sf": "setindex! at array.jl:969 [inlined]",
          "status": "Default",
          "x1": 147,
          "x2": 147.9
         },
         {
          "level": 31,
          "sf": "similar at broadcast.jl:211 [inlined]",
          "status": "Default",
          "x1": 148,
          "x2": 150.9
         },
         {
          "level": 32,
          "sf": "similar at broadcast.jl:212 [inlined]",
          "status": "Default",
          "x1": 148,
          "x2": 150.9
         },
         {
          "level": 33,
          "sf": "similar at abstractarray.jl:881 [inlined]",
          "status": "Default",
          "x1": 148,
          "x2": 150.9
         },
         {
          "level": 34,
          "sf": "similar at abstractarray.jl:882 [inlined]",
          "status": "Default",
          "x1": 148,
          "x2": 150.9
         },
         {
          "level": 35,
          "sf": "Array at boot.jl:494 [inlined]",
          "status": "Default",
          "x1": 148,
          "x2": 150.9
         },
         {
          "level": 36,
          "sf": "Array at boot.jl:486 [inlined]",
          "status": "Default",
          "x1": 148,
          "x2": 150.9
         },
         {
          "level": 37,
          "sf": "Array at boot.jl:477 [inlined]",
          "status": "Default",
          "x1": 148,
          "x2": 150.9
         },
         {
          "level": 27,
          "sf": "* at matmul.jl:101 [inlined]",
          "status": "Default",
          "x1": 151,
          "x2": 154.9
         },
         {
          "level": 28,
          "sf": "similar at abstractarray.jl:838 [inlined]",
          "status": "Default",
          "x1": 151,
          "x2": 153.9
         },
         {
          "level": 29,
          "sf": "similar at array.jl:374 [inlined]",
          "status": "Default",
          "x1": 151,
          "x2": 153.9
         },
         {
          "level": 30,
          "sf": "Array at boot.jl:486 [inlined]",
          "status": "Default",
          "x1": 151,
          "x2": 153.9
         },
         {
          "level": 31,
          "sf": "Array at boot.jl:477 [inlined]",
          "status": "Default",
          "x1": 151,
          "x2": 153.9
         },
         {
          "level": 28,
          "sf": "mul! at matmul.jl:276 [inlined]",
          "status": "Default",
          "x1": 154,
          "x2": 154.9
         },
         {
          "level": 29,
          "sf": "mul! at matmul.jl:109 [inlined]",
          "status": "Default",
          "x1": 154,
          "x2": 154.9
         },
         {
          "level": 30,
          "sf": "mul! at matmul.jl:93 [inlined]",
          "status": "Default",
          "x1": 154,
          "x2": 154.9
         },
         {
          "level": 31,
          "sf": "gemv!(y::Vector{Float64}, tA::Char, A::Matrix{Float64}, x::Vector{Float64}, α::Bool, β::Bool) at matmul.jl:498",
          "status": "Default",
          "x1": 154,
          "x2": 154.9
         },
         {
          "level": 32,
          "sf": "_rmul_or_fill! at generic.jl:103 [inlined]",
          "status": "Default",
          "x1": 154,
          "x2": 154.9
         },
         {
          "level": 33,
          "sf": "fill! at array.jl:349 [inlined]",
          "status": "Default",
          "x1": 154,
          "x2": 154.9
         },
         {
          "level": 34,
          "sf": "setindex! at array.jl:969 [inlined]",
          "status": "Default",
          "x1": 154,
          "x2": 154.9
         },
         {
          "level": 26,
          "sf": "predictMVN!(Kxx::Matrix{Float64}, Kff::PDMats.PDMat{Float64, Matrix{Float64}}, Kfx::Matrix{Float64}, mx::Vector{Float64}, αf::Vector{Float64}) at GP.jl:27",
          "status": "Default",
          "x1": 155,
          "x2": 156.9
         },
         {
          "level": 27,
          "sf": "whiten! at generics.jl:32 [inlined]",
          "status": "Default",
          "x1": 155,
          "x2": 156.9
         },
         {
          "level": 28,
          "sf": "whiten!(r::Matrix{Float64}, a::PDMats.PDMat{Float64, Matrix{Float64}}, x::Matrix{Float64}) at pdmat.jl:65",
          "status": "Default",
          "x1": 155,
          "x2": 155.9
         },
         {
          "level": 29,
          "sf": "getproperty(C::LinearAlgebra.Cholesky{Float64, Matrix{Float64}}, d::Symbol) at cholesky.jl:516",
          "status": "Default",
          "x1": 155,
          "x2": 155.9
         },
         {
          "level": 28,
          "sf": "whiten!(r::Matrix{Float64}, a::PDMats.PDMat{Float64, Matrix{Float64}}, x::Matrix{Float64}) at pdmat.jl:67",
          "status": "Default",
          "x1": 156,
          "x2": 156.9
         },
         {
          "level": 29,
          "sf": "ldiv! at triangular.jl:786 [inlined]",
          "status": "Default",
          "x1": 156,
          "x2": 156.9
         },
         {
          "level": 30,
          "sf": "trtrs!(uplo::Char, trans::Char, diag::Char, A::Matrix{Float64}, B::Matrix{Float64}) at lapack.jl:3417",
          "status": "Default",
          "x1": 156,
          "x2": 156.9
         },
         {
          "level": 26,
          "sf": "predictMVN!(Kxx::Matrix{Float64}, Kff::PDMats.PDMat{Float64, Matrix{Float64}}, Kfx::Matrix{Float64}, mx::Vector{Float64}, αf::Vector{Float64}) at GP.jl:28",
          "status": "Default",
          "x1": 157,
          "x2": 160.9
         },
         {
          "level": 27,
          "sf": "subtract_Lck! at GP.jl:52 [inlined]",
          "status": "Default",
          "x1": 157,
          "x2": 160.9
         },
         {
          "level": 28,
          "sf": "syrk!(uplo::Char, trans::Char, alpha::Float64, A::Matrix{Float64}, beta::Float64, C::Matrix{Float64}) at blas.jl:1784",
          "status": "Default",
          "x1": 157,
          "x2": 160.9
         },
         {
          "level": 26,
          "sf": "gemv!(y::Vector{Float64}, tA::Char, A::Matrix{Float64}, x::Vector{Float64}, α::Bool, β::Bool) at matmul.jl:490",
          "status": "Default",
          "x1": 161,
          "x2": 161.9
         },
         {
          "level": 25,
          "sf": "predictMVN!(Kxx::Matrix{Float64}, Kff::PDMats.PDMat{Float64, Matrix{Float64}}, Kfx::Matrix{Float64}, mx::Vector{Float64}, αf::Vector{Float64}) at GP.jl:25",
          "status": "Default",
          "x1": 162,
          "x2": 162.9
         },
         {
          "level": 25,
          "sf": "distance!(dist::Matrix{Float64}, m::Distances.Euclidean, X::Matrix{Float64}, Y::Matrix{Float64}) at distance.jl:27",
          "status": "Default",
          "x1": 163,
          "x2": 163.9
         },
         {
          "level": 23,
          "sf": "predict_f(gp::GaussianProcesses.GPE{Matrix{Float64}, Vector{Float64}, GaussianProcesses.MeanZero, GaussianProcesses.Mat12Iso{Float64}, GaussianProcesses.FullCovariance, GaussianProcesses.IsotropicData{Matrix{Float64}}, PDMats.PDMat{Float64, Matrix{Float64}}, GaussianProcesses.Scalar{Float64}}, x::Base.ReshapedArray{Float64, 2, LinearAlgebra.Adjoint{Float64, Vector{Float64}}, Tuple{}}; full_cov::Bool) at GP.jl:75",
          "status": "Default",
          "x1": 164,
          "x2": 168.9
         },
         {
          "level": 24,
          "sf": "max at math.jl:863 [inlined]",
          "status": "Default",
          "x1": 164,
          "x2": 164.9
         },
         {
          "level": 25,
          "sf": "signbit at floatfuncs.jl:15 [inlined]",
          "status": "Default",
          "x1": 164,
          "x2": 164.9
         },
         {
          "level": 24,
          "sf": "diag at dense.jl:249 [inlined]",
          "status": "Default",
          "x1": 165,
          "x2": 168.9
         },
         {
          "level": 25,
          "sf": "diag(A::Matrix{Float64}, k::Int64) at dense.jl:249",
          "status": "Default",
          "x1": 165,
          "x2": 167.9
         },
         {
          "level": 26,
          "sf": "getindex at array.jl:944 [inlined]",
          "status": "Default",
          "x1": 165,
          "x2": 166.9
         },
         {
          "level": 27,
          "sf": "_array_for at array.jl:674 [inlined]",
          "status": "Default",
          "x1": 165,
          "x2": 166.9
         },
         {
          "level": 28,
          "sf": "_array_for at array.jl:671 [inlined]",
          "status": "Default",
          "x1": 165,
          "x2": 166.9
         },
         {
          "level": 29,
          "sf": "similar at abstractarray.jl:881 [inlined]",
          "status": "Default",
          "x1": 165,
          "x2": 166.9
         },
         {
          "level": 30,
          "sf": "similar at abstractarray.jl:882 [inlined]",
          "status": "Default",
          "x1": 165,
          "x2": 166.9
         },
         {
          "level": 31,
          "sf": "Array at boot.jl:486 [inlined]",
          "status": "Default",
          "x1": 165,
          "x2": 166.9
         },
         {
          "level": 32,
          "sf": "Array at boot.jl:477 [inlined]",
          "status": "Default",
          "x1": 165,
          "x2": 166.9
         },
         {
          "level": 26,
          "sf": "diagind at dense.jl:225 [inlined]",
          "status": "Default",
          "x1": 167,
          "x2": 167.9
         },
         {
          "level": 27,
          "sf": "diagind at dense.jl:201 [inlined]",
          "status": "Default",
          "x1": 167,
          "x2": 167.9
         },
         {
          "level": 28,
          "sf": "range at range.jl:142 [inlined]",
          "status": "Default",
          "x1": 167,
          "x2": 167.9
         },
         {
          "level": 29,
          "sf": "#range#70 at range.jl:142 [inlined]",
          "status": "Default",
          "x1": 167,
          "x2": 167.9
         },
         {
          "level": 30,
          "sf": "_range at range.jl:163 [inlined]",
          "status": "Default",
          "x1": 167,
          "x2": 167.9
         },
         {
          "level": 31,
          "sf": "range_start_step_length at range.jl:211 [inlined]",
          "status": "Default",
          "x1": 167,
          "x2": 167.9
         },
         {
          "level": 32,
          "sf": "StepRange at range.jl:320 [inlined]",
          "status": "Default",
          "x1": 167,
          "x2": 167.9
         },
         {
          "level": 33,
          "sf": "steprange_last(start::Int64, step::Int64, stop::Int64) at range.jl:333",
          "status": "Default",
          "x1": 167,
          "x2": 167.9
         },
         {
          "level": 34,
          "sf": "== at promotion.jl:499 [inlined]",
          "status": "Default",
          "x1": 167,
          "x2": 167.9
         },
         {
          "level": 25,
          "sf": "steprange_last(start::Int64, step::Int64, stop::Int64) at range.jl:325",
          "status": "Default",
          "x1": 168,
          "x2": 168.9
         },
         {
          "level": 21,
          "sf": "(::BayesianSafetyValidation.var\"#21#23\")(y::Vector{Float64}) at surrogate_model.jl:33",
          "status": "Default",
          "x1": 170,
          "x2": 170.9
         },
         {
          "level": 10,
          "sf": "bayesian_safety_validation(sparams::DummyParameters, models::Vector{OperationalParameters}; gp::Nothing, T::Int64, λ::Float64, seed::Int64, initialize_system::Bool, reset_system::Bool, show_acquisition_plots::Bool, show_plots::Bool, show_combined_plot::Bool, show_tight_combined_plot::Bool, hide_model_after_first::Bool, only_plot_last::Bool, latex_labels::Bool, show_alert::Bool, acquisitions_to_run::Vector{Int64}, probability_valued_system::Bool, skip_if_no_failures::Bool, save_plots::Bool, save_plots_svg::Bool, plots_dir::String, samples_per_batch::Int64, single_failure_mode::Bool, refit_every_point::Bool, input_discretization_steps::Int64, p_estimate_discretization_steps::Int64, match_original::Bool, kwargs::Base.Pairs{Symbol, Union{}, Tuple{}, NamedTuple{(), Tuple{}}}) at bayesian_safety_validation.jl:79",
          "status": "Runtime dispatch",
          "x1": 173,
          "x2": 2695.9
         },
         {
          "level": 11,
          "sf": "kwcall(::NamedTuple{(:num_steps, :f), Tuple{Int64, BayesianSafetyValidation.var\"#20#22\"}}, ::typeof(gp_output), gp::GaussianProcesses.GPE{Matrix{Float64}, Vector{Float64}, GaussianProcesses.MeanZero, GaussianProcesses.Mat12Iso{Float64}, GaussianProcesses.FullCovariance, GaussianProcesses.IsotropicData{Matrix{Float64}}, PDMats.PDMat{Float64, Matrix{Float64}}, GaussianProcesses.Scalar{Float64}}, models::Vector{OperationalParameters}) at surrogate_model.jl:74",
          "status": "Default",
          "x1": 173,
          "x2": 2695.9
         },
         {
          "level": 12,
          "sf": "gp_output(gp::GaussianProcesses.GPE{Matrix{Float64}, Vector{Float64}, GaussianProcesses.MeanZero, GaussianProcesses.Mat12Iso{Float64}, GaussianProcesses.FullCovariance, GaussianProcesses.IsotropicData{Matrix{Float64}}, PDMats.PDMat{Float64, Matrix{Float64}}, GaussianProcesses.Scalar{Float64}}, models::Vector{OperationalParameters}; num_steps::Int64, m::Vector{Int64}, f::BayesianSafetyValidation.var\"#20#22\") at surrogate_model.jl:80",
          "status": "Runtime dispatch",
          "x1": 173,
          "x2": 2695.9
         },
         {
          "level": 13,
          "sf": "materialize(bc::Base.Broadcast.Broadcasted{Base.Broadcast.DefaultArrayStyle{3}, Nothing, BayesianSafetyValidation.var\"#37#38\"{BayesianSafetyValidation.var\"#20#22\", GaussianProcesses.GPE{Matrix{Float64}, Vector{Float64}, GaussianProcesses.MeanZero, GaussianProcesses.Mat12Iso{Float64}, GaussianProcesses.FullCovariance, GaussianProcesses.IsotropicData{Matrix{Float64}}, PDMats.PDMat{Float64, Matrix{Float64}}, GaussianProcesses.Scalar{Float64}}}, Tuple{Array{Float64, 3}, Array{Float64, 3}, Array{Float64, 3}}}) at broadcast.jl:873",
          "status": "Default",
          "x1": 173,
          "x2": 2694.9
         },
         {
          "level": 14,
          "sf": "copy at broadcast.jl:898 [inlined]",
          "status": "Default",
          "x1": 173,
          "x2": 2694.9
         },
         {
          "level": 15,
          "sf": "copyto! at broadcast.jl:926 [inlined]",
          "status": "Default",
          "x1": 173,
          "x2": 2683.9
         },
         {
          "level": 16,
          "sf": "copyto! at broadcast.jl:973 [inlined]",
          "status": "Default",
          "x1": 173,
          "x2": 2683.9
         },
         {
          "level": 17,
          "sf": "macro expansion at simdloop.jl:75 [inlined]",
          "status": "Default",
          "x1": 173,
          "x2": 174.9
         },
         {
          "level": 18,
          "sf": "< at int.jl:83 [inlined]",
          "status": "Default",
          "x1": 173,
          "x2": 174.9
         },
         {
          "level": 17,
          "sf": "macro expansion at simdloop.jl:77 [inlined]",
          "status": "Default",
          "x1": 175,
          "x2": 2683.9
         },
         {
          "level": 18,
          "sf": "macro expansion at broadcast.jl:974 [inlined]",
          "status": "Default",
          "x1": 175,
          "x2": 2683.9
         },
         {
          "level": 19,
          "sf": "getindex at broadcast.jl:610 [inlined]",
          "status": "Default",
          "x1": 175,
          "x2": 2683.9
         },
         {
          "level": 20,
          "sf": "_broadcast_getindex at broadcast.jl:655 [inlined]",
          "status": "Default",
          "x1": 175,
          "x2": 175.9
         },
         {
          "level": 21,
          "sf": "_getindex at broadcast.jl:679 [inlined]",
          "status": "Default",
          "x1": 175,
          "x2": 175.9
         },
         {
          "level": 22,
          "sf": "_broadcast_getindex at broadcast.jl:649 [inlined]",
          "status": "Default",
          "x1": 175,
          "x2": 175.9
         },
         {
          "level": 23,
          "sf": "getindex at multidimensional.jl:668 [inlined]",
          "status": "Default",
          "x1": 175,
          "x2": 175.9
         },
         {
          "level": 24,
          "sf": "getindex at essentials.jl:14 [inlined]",
          "status": "Default",
          "x1": 175,
          "x2": 175.9
         },
         {
          "level": 20,
          "sf": "_broadcast_getindex at broadcast.jl:656 [inlined]",
          "status": "Default",
          "x1": 176,
          "x2": 2683.9
         },
         {
          "level": 21,
          "sf": "_broadcast_getindex_evalf at broadcast.jl:683 [inlined]",
          "status": "Default",
          "x1": 176,
          "x2": 2683.9
         },
         {
          "level": 22,
          "sf": "#37 at surrogate_model.jl:79 [inlined]",
          "status": "Default",
          "x1": 176,
          "x2": 2683.9
         },
         {
          "level": 23,
          "sf": "vect at array.jl:126 [inlined]",
          "status": "Default",
          "x1": 176,
          "x2": 279.9
         },
         {
          "level": 24,
          "sf": "_array_for at array.jl:674 [inlined]",
          "status": "Default",
          "x1": 176,
          "x2": 279.9
         },
         {
          "level": 25,
          "sf": "_array_for at array.jl:671 [inlined]",
          "status": "Default",
          "x1": 176,
          "x2": 279.9
         },
         {
          "level": 26,
          "sf": "similar at abstractarray.jl:881 [inlined]",
          "status": "Default",
          "x1": 176,
          "x2": 279.9
         },
         {
          "level": 27,
          "sf": "similar at abstractarray.jl:882 [inlined]",
          "status": "Default",
          "x1": 176,
          "x2": 279.9
         },
         {
          "level": 28,
          "sf": "Array at boot.jl:486 [inlined]",
          "status": "Default",
          "x1": 176,
          "x2": 279.9
         },
         {
          "level": 29,
          "sf": "Array at boot.jl:477 [inlined]",
          "status": "Garbage collection",
          "x1": 176,
          "x2": 279.9
         },
         {
          "level": 23,
          "sf": "(::BayesianSafetyValidation.var\"#20#22\")(gp::GaussianProcesses.GPE{Matrix{Float64}, Vector{Float64}, GaussianProcesses.MeanZero, GaussianProcesses.Mat12Iso{Float64}, GaussianProcesses.FullCovariance, GaussianProcesses.IsotropicData{Matrix{Float64}}, PDMats.PDMat{Float64, Matrix{Float64}}, GaussianProcesses.Scalar{Float64}}, x::Vector{Float64}) at surrogate_model.jl:33",
          "status": "Default",
          "x1": 280,
          "x2": 2681.9
         },
         {
          "level": 24,
          "sf": "map at tuple.jl:274 [inlined]",
          "status": "Default",
          "x1": 280,
          "x2": 490.9
         },
         {
          "level": 25,
          "sf": "exp(x::Float64) at exp.jl:325",
          "status": "Default",
          "x1": 280,
          "x2": 281.9
         },
         {
          "level": 25,
          "sf": "getindex at tuple.jl:29 [inlined]",
          "status": "Default",
          "x1": 282,
          "x2": 283.9
         },
         {
          "level": 25,
          "sf": "(::BayesianSafetyValidation.var\"#21#23\")(y::Vector{Float64}) at surrogate_model.jl:33",
          "status": "Default",
          "x1": 284,
          "x2": 490.9
         },
         {
          "level": 26,
          "sf": "materialize at broadcast.jl:873 [inlined]",
          "status": "Default",
          "x1": 284,
          "x2": 484.9
         },
         {
          "level": 27,
          "sf": "copy at broadcast.jl:898 [inlined]",
          "status": "Default",
          "x1": 284,
          "x2": 481.9
         },
         {
          "level": 28,
          "sf": "copyto! at broadcast.jl:926 [inlined]",
          "status": "Default",
          "x1": 284,
          "x2": 322.9
         },
         {
          "level": 29,
          "sf": "copyto! at broadcast.jl:973 [inlined]",
          "status": "Default",
          "x1": 284,
          "x2": 322.9
         },
         {
          "level": 30,
          "sf": "macro expansion at simdloop.jl:0 [inlined]",
          "status": "Default",
          "x1": 284,
          "x2": 284.9
         },
         {
          "level": 30,
          "sf": "macro expansion at simdloop.jl:77 [inlined]",
          "status": "Default",
          "x1": 285,
          "x2": 320.9
         },
         {
          "level": 31,
          "sf": "macro expansion at broadcast.jl:974 [inlined]",
          "status": "Default",
          "x1": 285,
          "x2": 320.9
         },
         {
          "level": 32,
          "sf": "setindex! at array.jl:969 [inlined]",
          "status": "Default",
          "x1": 285,
          "x2": 290.9
         },
         {
          "level": 32,
          "sf": "getindex at broadcast.jl:610 [inlined]",
          "status": "Default",
          "x1": 291,
          "x2": 320.9
         },
         {
          "level": 33,
          "sf": "_broadcast_getindex at broadcast.jl:656 [inlined]",
          "status": "Default",
          "x1": 291,
          "x2": 320.9
         },
         {
          "level": 34,
          "sf": "_broadcast_getindex_evalf at broadcast.jl:683 [inlined]",
          "status": "Default",
          "x1": 291,
          "x2": 320.9
         },
         {
          "level": 35,
          "sf": "inverse at surrogate_model.jl:8 [inlined]",
          "status": "Default",
          "x1": 291,
          "x2": 320.9
         },
         {
          "level": 36,
          "sf": "clamp at math.jl:89 [inlined]",
          "status": "Default",
          "x1": 291,
          "x2": 297.9
         },
         {
          "level": 37,
          "sf": "ifelse at essentials.jl:575 [inlined]",
          "status": "Default",
          "x1": 291,
          "x2": 297.9
         },
         {
          "level": 36,
          "sf": "inverse_logit at surrogate_model.jl:2 [inlined]",
          "status": "Default",
          "x1": 298,
          "x2": 309.9
         },
         {
          "level": 37,
          "sf": "#inverse_logit#8 at surrogate_model.jl:2 [inlined]",
          "status": "Default",
          "x1": 298,
          "x2": 309.9
         },
         {
          "level": 38,
          "sf": "exp(x::Float64) at exp.jl:325",
          "status": "Default",
          "x1": 298,
          "x2": 309.9
         },
         {
          "level": 39,
          "sf": "exp_impl at exp.jl:211 [inlined]",
          "status": "Default",
          "x1": 298,
          "x2": 299.9
         },
         {
          "level": 40,
          "sf": "- at float.jl:409 [inlined]",
          "status": "Default",
          "x1": 298,
          "x2": 299.9
         },
         {
          "level": 39,
          "sf": "exp_impl at exp.jl:214 [inlined]",
          "status": "Default",
          "x1": 300,
          "x2": 300.9
         },
         {
          "level": 40,
          "sf": ">> at int.jl:508 [inlined]",
          "status": "Default",
          "x1": 300,
          "x2": 300.9
         },
         {
          "level": 41,
          "sf": ">> at int.jl:501 [inlined]",
          "status": "Default",
          "x1": 300,
          "x2": 300.9
         },
         {
          "level": 39,
          "sf": "exp_impl at exp.jl:215 [inlined]",
          "status": "Default",
          "x1": 301,
          "x2": 301.9
         },
         {
          "level": 40,
          "sf": "table_unpack at exp.jl:182 [inlined]",
          "status": "Default",
          "x1": 301,
          "x2": 301.9
         },
         {
          "level": 41,
          "sf": ">> at int.jl:508 [inlined]",
          "status": "Default",
          "x1": 301,
          "x2": 301.9
         },
         {
          "level": 42,
          "sf": ">> at int.jl:502 [inlined]",
          "status": "Default",
          "x1": 301,
          "x2": 301.9
         },
         {
          "level": 39,
          "sf": "exp_impl at exp.jl:216 [inlined]",
          "status": "Default",
          "x1": 302,
          "x2": 307.9
         },
         {
          "level": 40,
          "sf": "+ at float.jl:408 [inlined]",
          "status": "Default",
          "x1": 302,
          "x2": 303.9
         },
         {
          "level": 40,
          "sf": "muladd at float.jl:413 [inlined]",
          "status": "Default",
          "x1": 304,
          "x2": 307.9
         },
         {
          "level": 39,
          "sf": "exp_impl at exp.jl:218 [inlined]",
          "status": "Default",
          "x1": 308,
          "x2": 309.9
         },
         {
          "level": 40,
          "sf": "abs at float.jl:609 [inlined]",
          "status": "Default",
          "x1": 308,
          "x2": 309.9
         },
         {
          "level": 36,
          "sf": "inverse_transform at surrogate_model.jl:5 [inlined]",
          "status": "Default",
          "x1": 310,
          "x2": 320.9
         },
         {
          "level": 37,
          "sf": "#inverse_transform#10 at surrogate_model.jl:5 [inlined]",
          "status": "Default",
          "x1": 310,
          "x2": 320.9
         },
         {
          "level": 38,
          "sf": "- at float.jl:409 [inlined]",
          "status": "Default",
          "x1": 310,
          "x2": 314.9
         },
         {
          "level": 38,
          "sf": "/ at float.jl:411 [inlined]",
          "status": "Default",
          "x1": 315,
          "x2": 320.9
         },
         {
          "level": 30,
          "sf": "macro expansion at simdloop.jl:78 [inlined]",
          "status": "Default",
          "x1": 321,
          "x2": 322.9
         },
         {
          "level": 31,
          "sf": "+ at int.jl:87 [inlined]",
          "status": "Default",
          "x1": 321,
          "x2": 322.9
         },
         {
          "level": 28,
          "sf": "similar at broadcast.jl:211 [inlined]",
          "status": "Default",
          "x1": 323,
          "x2": 481.9
         },
         {
          "level": 29,
          "sf": "similar at broadcast.jl:212 [inlined]",
          "status": "Default",
          "x1": 323,
          "x2": 481.9
         },
         {
          "level": 30,
          "sf": "similar at abstractarray.jl:881 [inlined]",
          "status": "Default",
          "x1": 323,
          "x2": 481.9
         },
         {
          "level": 31,
          "sf": "similar at abstractarray.jl:882 [inlined]",
          "status": "Default",
          "x1": 323,
          "x2": 481.9
         },
         {
          "level": 32,
          "sf": "Array at boot.jl:494 [inlined]",
          "status": "Default",
          "x1": 323,
          "x2": 481.9
         },
         {
          "level": 33,
          "sf": "Array at boot.jl:486 [inlined]",
          "status": "Default",
          "x1": 323,
          "x2": 481.9
         },
         {
          "level": 34,
          "sf": "Array at boot.jl:477 [inlined]",
          "status": "Garbage collection",
          "x1": 323,
          "x2": 481.9
         },
         {
          "level": 27,
          "sf": "instantiate at broadcast.jl:294 [inlined]",
          "status": "Default",
          "x1": 482,
          "x2": 484.9
         },
         {
          "level": 28,
          "sf": "combine_axes at broadcast.jl:513 [inlined]",
          "status": "Default",
          "x1": 482,
          "x2": 484.9
         },
         {
          "level": 29,
          "sf": "axes at abstractarray.jl:98 [inlined]",
          "status": "Default",
          "x1": 482,
          "x2": 484.9
         },
         {
          "level": 30,
          "sf": "size at array.jl:149 [inlined]",
          "status": "Default",
          "x1": 482,
          "x2": 484.9
         },
         {
          "level": 24,
          "sf": "predict_f at GP.jl:64 [inlined]",
          "status": "Default",
          "x1": 491,
          "x2": 2678.9
         },
         {
          "level": 25,
          "sf": "_unsafe_getindex(::IndexLinear, ::Base.ReshapedArray{Float64, 2, LinearAlgebra.Adjoint{Float64, Vector{Float64}}, Tuple{}}, ::Base.Slice{Base.OneTo{Int64}}, ::UnitRange{Int64}) at multidimensional.jl:870",
          "status": "Default",
          "x1": 491,
          "x2": 491.9
         },
         {
          "level": 25,
          "sf": "predict_f(gp::GaussianProcesses.GPE{Matrix{Float64}, Vector{Float64}, GaussianProcesses.MeanZero, GaussianProcesses.Mat12Iso{Float64}, GaussianProcesses.FullCovariance, GaussianProcesses.IsotropicData{Matrix{Float64}}, PDMats.PDMat{Float64, Matrix{Float64}}, GaussianProcesses.Scalar{Float64}}, x::Base.ReshapedArray{Float64, 2, LinearAlgebra.Adjoint{Float64, Vector{Float64}}, Tuple{}}; full_cov::Bool) at GP.jl:0",
          "status": "Default",
          "x1": 492,
          "x2": 492.9
         },
         {
          "level": 25,
          "sf": "predict_f(gp::GaussianProcesses.GPE{Matrix{Float64}, Vector{Float64}, GaussianProcesses.MeanZero, GaussianProcesses.Mat12Iso{Float64}, GaussianProcesses.FullCovariance, GaussianProcesses.IsotropicData{Matrix{Float64}}, PDMats.PDMat{Float64, Matrix{Float64}}, GaussianProcesses.Scalar{Float64}}, x::Base.ReshapedArray{Float64, 2, LinearAlgebra.Adjoint{Float64, Vector{Float64}}, Tuple{}}; full_cov::Bool) at GP.jl:70",
          "status": "Default",
          "x1": 493,
          "x2": 711.9
         },
         {
          "level": 26,
          "sf": "Array at boot.jl:491 [inlined]",
          "status": "Default",
          "x1": 493,
          "x2": 711.9
         },
         {
          "level": 27,
          "sf": "Array at boot.jl:477 [inlined]",
          "status": "Garbage collection",
          "x1": 493,
          "x2": 711.9
         },
         {
          "level": 25,
          "sf": "predict_f(gp::GaussianProcesses.GPE{Matrix{Float64}, Vector{Float64}, GaussianProcesses.MeanZero, GaussianProcesses.Mat12Iso{Float64}, GaussianProcesses.FullCovariance, GaussianProcesses.IsotropicData{Matrix{Float64}}, PDMats.PDMat{Float64, Matrix{Float64}}, GaussianProcesses.Scalar{Float64}}, x::Base.ReshapedArray{Float64, 2, LinearAlgebra.Adjoint{Float64, Vector{Float64}}, Tuple{}}; full_cov::Bool) at GP.jl:71",
          "status": "Default",
          "x1": 712,
          "x2": 746.9
         },
         {
          "level": 26,
          "sf": "similar at array.jl:369 [inlined]",
          "status": "Default",
          "x1": 712,
          "x2": 746.9
         },
         {
          "level": 27,
          "sf": "Array at boot.jl:477 [inlined]",
          "status": "Garbage collection",
          "x1": 712,
          "x2": 746.9
         },
         {
          "level": 25,
          "sf": "predict_f(gp::GaussianProcesses.GPE{Matrix{Float64}, Vector{Float64}, GaussianProcesses.MeanZero, GaussianProcesses.Mat12Iso{Float64}, GaussianProcesses.FullCovariance, GaussianProcesses.IsotropicData{Matrix{Float64}}, PDMats.PDMat{Float64, Matrix{Float64}}, GaussianProcesses.Scalar{Float64}}, x::Base.ReshapedArray{Float64, 2, LinearAlgebra.Adjoint{Float64, Vector{Float64}}, Tuple{}}; full_cov::Bool) at GP.jl:72",
          "status": "Default",
          "x1": 747,
          "x2": 747.9
         },
         {
          "level": 26,
          "sf": "Colon at range.jl:5 [inlined]",
          "status": "Default",
          "x1": 747,
          "x2": 747.9
         },
         {
          "level": 27,
          "sf": "UnitRange at range.jl:397 [inlined]",
          "status": "Default",
          "x1": 747,
          "x2": 747.9
         },
         {
          "level": 28,
          "sf": "unitrange_last at range.jl:404 [inlined]",
          "status": "Default",
          "x1": 747,
          "x2": 747.9
         },
         {
          "level": 25,
          "sf": "predict_f(gp::GaussianProcesses.GPE{Matrix{Float64}, Vector{Float64}, GaussianProcesses.MeanZero, GaussianProcesses.Mat12Iso{Float64}, GaussianProcesses.FullCovariance, GaussianProcesses.IsotropicData{Matrix{Float64}}, PDMats.PDMat{Float64, Matrix{Float64}}, GaussianProcesses.Scalar{Float64}}, x::Base.ReshapedArray{Float64, 2, LinearAlgebra.Adjoint{Float64, Vector{Float64}}, Tuple{}}; full_cov::Bool) at GP.jl:73",
          "status": "Default",
          "x1": 748,
          "x2": 2383.9
         },
         {
          "level": 26,
          "sf": "getindex at abstractarray.jl:1294 [inlined]",
          "status": "Default",
          "x1": 748,
          "x2": 871.9
         },
         {
          "level": 27,
          "sf": "_getindex at multidimensional.jl:860 [inlined]",
          "status": "Default",
          "x1": 748,
          "x2": 748.9
         },
         {
          "level": 28,
          "sf": "checkbounds at abstractarray.jl:709 [inlined]",
          "status": "Default",
          "x1": 748,
          "x2": 748.9
         },
         {
          "level": 27,
          "sf": "_getindex at multidimensional.jl:861 [inlined]",
          "status": "Default",
          "x1": 749,
          "x2": 871.9
         },
         {
          "level": 28,
          "sf": "_unsafe_getindex(::IndexLinear, ::Base.ReshapedArray{Float64, 2, LinearAlgebra.Adjoint{Float64, Vector{Float64}}, Tuple{}}, ::Base.Slice{Base.OneTo{Int64}}, ::UnitRange{Int64}) at multidimensional.jl:870",
          "status": "Default",
          "x1": 749,
          "x2": 749.9
         },
         {
          "level": 28,
          "sf": "_unsafe_getindex(::IndexLinear, ::Base.ReshapedArray{Float64, 2, LinearAlgebra.Adjoint{Float64, Vector{Float64}}, Tuple{}}, ::Base.Slice{Base.OneTo{Int64}}, ::UnitRange{Int64}) at multidimensional.jl:872",
          "status": "Default",
          "x1": 750,
          "x2": 751.9
         },
         {
          "level": 29,
          "sf": "index_shape at multidimensional.jl:744 [inlined]",
          "status": "Default",
          "x1": 750,
          "x2": 751.9
         },
         {
          "level": 30,
          "sf": "index_shape at multidimensional.jl:744 [inlined]",
          "status": "Default",
          "x1": 750,
          "x2": 751.9
         },
         {
          "level": 31,
          "sf": "axes at range.jl:696 [inlined]",
          "status": "Default",
          "x1": 750,
          "x2": 751.9
         },
         {
          "level": 32,
          "sf": "length at range.jl:751 [inlined]",
          "status": "Default",
          "x1": 750,
          "x2": 750.9
         },
         {
          "level": 33,
          "sf": "- at int.jl:86 [inlined]",
          "status": "Default",
          "x1": 750,
          "x2": 750.9
         },
         {
          "level": 32,
          "sf": "oneto at range.jl:459 [inlined]",
          "status": "Default",
          "x1": 751,
          "x2": 751.9
         },
         {
          "level": 33,
          "sf": "OneTo at range.jl:457 [inlined]",
          "status": "Default",
          "x1": 751,
          "x2": 751.9
         },
         {
          "level": 34,
          "sf": "OneTo at range.jl:444 [inlined]",
          "status": "Default",
          "x1": 751,
          "x2": 751.9
         },
         {
          "level": 35,
          "sf": "max at promotion.jl:510 [inlined]",
          "status": "Default",
          "x1": 751,
          "x2": 751.9
         },
         {
          "level": 36,
          "sf": "ifelse at essentials.jl:575 [inlined]",
          "status": "Default",
          "x1": 751,
          "x2": 751.9
         },
         {
          "level": 28,
          "sf": "_unsafe_getindex(::IndexLinear, ::Base.ReshapedArray{Float64, 2, LinearAlgebra.Adjoint{Float64, Vector{Float64}}, Tuple{}}, ::Base.Slice{Base.OneTo{Int64}}, ::UnitRange{Int64}) at multidimensional.jl:873",
          "status": "Default",
          "x1": 752,
          "x2": 865.9
         },
         {
          "level": 29,
          "sf": "similar at abstractarray.jl:836 [inlined]",
          "status": "Default",
          "x1": 752,
          "x2": 865.9
         },
         {
          "level": 30,
          "sf": "similar at reshapedarray.jl:209 [inlined]",
          "status": "Default",
          "x1": 752,
          "x2": 865.9
         },
         {
          "level": 31,
          "sf": "similar at adjtrans.jl:335 [inlined]",
          "status": "Default",
          "x1": 752,
          "x2": 865.9
         },
         {
          "level": 32,
          "sf": "similar at array.jl:374 [inlined]",
          "status": "Default",
          "x1": 752,
          "x2": 865.9
         },
         {
          "level": 33,
          "sf": "Array at boot.jl:487 [inlined]",
          "status": "Default",
          "x1": 752,
          "x2": 865.9
         },
         {
          "level": 34,
          "sf": "Array at boot.jl:479 [inlined]",
          "status": "Garbage collection",
          "x1": 752,
          "x2": 865.9
         },
         {
          "level": 28,
          "sf": "_unsafe_getindex(::IndexLinear, ::Base.ReshapedArray{Float64, 2, LinearAlgebra.Adjoint{Float64, Vector{Float64}}, Tuple{}}, ::Base.Slice{Base.OneTo{Int64}}, ::UnitRange{Int64}) at multidimensional.jl:875",
          "status": "Default",
          "x1": 866,
          "x2": 869.9
         },
         {
          "level": 29,
          "sf": "_unsafe_getindex! at multidimensional.jl:884 [inlined]",
          "status": "Default",
          "x1": 866,
          "x2": 869.9
         },
         {
          "level": 30,
          "sf": "macro expansion at cartesian.jl:62 [inlined]",
          "status": "Default",
          "x1": 866,
          "x2": 866.9
         },
         {
          "level": 31,
          "sf": "iterate at range.jl:887 [inlined]",
          "status": "Default",
          "x1": 866,
          "x2": 866.9
         },
         {
          "level": 32,
          "sf": "isempty at range.jl:662 [inlined]",
          "status": "Default",
          "x1": 866,
          "x2": 866.9
         },
         {
          "level": 33,
          "sf": "> at operators.jl:369 [inlined]",
          "status": "Default",
          "x1": 866,
          "x2": 866.9
         },
         {
          "level": 34,
          "sf": "< at int.jl:83 [inlined]",
          "status": "Default",
          "x1": 866,
          "x2": 866.9
         },
         {
          "level": 30,
          "sf": "macro expansion at cartesian.jl:64 [inlined]",
          "status": "Default",
          "x1": 867,
          "x2": 868.9
         },
         {
          "level": 31,
          "sf": "macro expansion at multidimensional.jl:889 [inlined]",
          "status": "Default",
          "x1": 867,
          "x2": 867.9
         },
         {
          "level": 32,
          "sf": "setindex! at array.jl:969 [inlined]",
          "status": "Default",
          "x1": 867,
          "x2": 867.9
         },
         {
          "level": 31,
          "sf": "macro expansion at multidimensional.jl:890 [inlined]",
          "status": "Default",
          "x1": 868,
          "x2": 868.9
         },
         {
          "level": 32,
          "sf": "iterate at range.jl:891 [inlined]",
          "status": "Default",
          "x1": 868,
          "x2": 868.9
         },
         {
          "level": 33,
          "sf": "== at promotion.jl:499 [inlined]",
          "status": "Default",
          "x1": 868,
          "x2": 868.9
         },
         {
          "level": 30,
          "sf": "macro expansion at cartesian.jl:66 [inlined]",
          "status": "Default",
          "x1": 869,
          "x2": 869.9
         },
         {
          "level": 31,
          "sf": "iterate at range.jl:891 [inlined]",
          "status": "Default",
          "x1": 869,
          "x2": 869.9
         },
         {
          "level": 32,
          "sf": "== at promotion.jl:499 [inlined]",
          "status": "Default",
          "x1": 869,
          "x2": 869.9
         },
         {
          "level": 26,
          "sf": "Colon at range.jl:5 [inlined]",
          "status": "Default",
          "x1": 872,
          "x2": 872.9
         },
         {
          "level": 27,
          "sf": "UnitRange at range.jl:397 [inlined]",
          "status": "Default",
          "x1": 872,
          "x2": 872.9
         },
         {
          "level": 26,
          "sf": "predict_full at GPE.jl:399 [inlined]",
          "status": "Default",
          "x1": 873,
          "x2": 2383.9
         },
         {
          "level": 27,
          "sf": "getproperty at Base.jl:37 [inlined]",
          "status": "Default",
          "x1": 873,
          "x2": 875.9
         },
         {
          "level": 27,
          "sf": "predictMVN(xpred::Matrix{Float64}, xtrain::Matrix{Float64}, ytrain::Vector{Float64}, kernel::GaussianProcesses.Mat12Iso{Float64}, meanf::GaussianProcesses.MeanZero, alpha::Vector{Float64}, covstrat::GaussianProcesses.FullCovariance, Ktrain::PDMats.PDMat{Float64, Matrix{Float64}}) at GP.jl:39",
          "status": "Default",
          "x1": 876,
          "x2": 877.9
         },
         {
          "level": 27,
          "sf": "predictMVN(xpred::Matrix{Float64}, xtrain::Matrix{Float64}, ytrain::Vector{Float64}, kernel::GaussianProcesses.Mat12Iso{Float64}, meanf::GaussianProcesses.MeanZero, alpha::Vector{Float64}, covstrat::GaussianProcesses.FullCovariance, Ktrain::PDMats.PDMat{Float64, Matrix{Float64}}) at GP.jl:42",
          "status": "Default",
          "x1": 878,
          "x2": 1137.9
         },
         {
          "level": 28,
          "sf": "KernelData at stationary.jl:39 [inlined]",
          "status": "Default",
          "x1": 878,
          "x2": 1137.9
         },
         {
          "level": 29,
          "sf": "distance at distance.jl:23 [inlined]",
          "status": "Default",
          "x1": 878,
          "x2": 878.9
         },
         {
          "level": 30,
          "sf": "size at array.jl:148 [inlined]",
          "status": "Default",
          "x1": 878,
          "x2": 878.9
         },
         {
          "level": 29,
          "sf": "distance at distance.jl:24 [inlined]",
          "status": "Default",
          "x1": 879,
          "x2": 1137.9
         },
         {
          "level": 30,
          "sf": "Array at boot.jl:479 [inlined]",
          "status": "Garbage collection",
          "x1": 879,
          "x2": 1019.9
         },
         {
          "level": 30,
          "sf": "distance!(dist::Matrix{Float64}, m::Distances.Euclidean, X::Matrix{Float64}, Y::Matrix{Float64}) at distance.jl:30",
          "status": "Default",
          "x1": 1020,
          "x2": 1020.9
         },
         {
          "level": 31,
          "sf": "== at promotion.jl:499 [inlined]",
          "status": "Default",
          "x1": 1020,
          "x2": 1020.9
         },
         {
          "level": 30,
          "sf": "distance!(dist::Matrix{Float64}, m::Distances.Euclidean, X::Matrix{Float64}, Y::Matrix{Float64}) at distance.jl:31",
          "status": "Default",
          "x1": 1021,
          "x2": 1137.9
         },
         {
          "level": 31,
          "sf": "macro expansion at simdloop.jl:75 [inlined]",
          "status": "Default",
          "x1": 1021,
          "x2": 1029.9
         },
         {
          "level": 32,
          "sf": "< at int.jl:83 [inlined]",
          "status": "Default",
          "x1": 1021,
          "x2": 1024.9
         },
         {
          "level": 31,
          "sf": "macro expansion at simdloop.jl:76 [inlined]",
          "status": "Default",
          "x1": 1030,
          "x2": 1030.9
         },
         {
          "level": 32,
          "sf": "simd_index at simdloop.jl:54 [inlined]",
          "status": "Default",
          "x1": 1030,
          "x2": 1030.9
         },
         {
          "level": 33,
          "sf": "getindex at range.jl:914 [inlined]",
          "status": "Default",
          "x1": 1030,
          "x2": 1030.9
         },
         {
          "level": 34,
          "sf": "+ at int.jl:87 [inlined]",
          "status": "Default",
          "x1": 1030,
          "x2": 1030.9
         },
         {
          "level": 31,
          "sf": "macro expansion at simdloop.jl:77 [inlined]",
          "status": "Default",
          "x1": 1031,
          "x2": 1137.9
         },
         {
          "level": 32,
          "sf": "macro expansion at distance.jl:0 [inlined]",
          "status": "Default",
          "x1": 1031,
          "x2": 1042.9
         },
         {
          "level": 32,
          "sf": "macro expansion at distance.jl:33 [inlined]",
          "status": "Default",
          "x1": 1043,
          "x2": 1130.9
         },
         {
          "level": 33,
          "sf": "setindex! at array.jl:971 [inlined]",
          "status": "Default",
          "x1": 1043,
          "x2": 1076.9
         },
         {
          "level": 33,
          "sf": "distij at distance.jl:69 [inlined]",
          "status": "Default",
          "x1": 1077,
          "x2": 1130.9
         },
         {
          "level": 34,
          "sf": "sqrt at math.jl:677 [inlined]",
          "status": "Default",
          "x1": 1077,
          "x2": 1084.9
         },
         {
          "level": 35,
          "sf": "< at float.jl:535 [inlined]",
          "status": "Default",
          "x1": 1077,
          "x2": 1084.9
         },
         {
          "level": 34,
          "sf": "sqrt at math.jl:678 [inlined]",
          "status": "Default",
          "x1": 1085,
          "x2": 1085.9
         },
         {
          "level": 34,
          "sf": "_SqEuclidean_ij at distance.jl:52 [inlined]",
          "status": "Default",
          "x1": 1086,
          "x2": 1130.9
         },
         {
          "level": 35,
          "sf": "macro expansion at simdloop.jl:0 [inlined]",
          "status": "Default",
          "x1": 1086,
          "x2": 1086.9
         },
         {
          "level": 35,
          "sf": "macro expansion at simdloop.jl:75 [inlined]",
          "status": "Default",
          "x1": 1087,
          "x2": 1103.9
         },
         {
          "level": 35,
          "sf": "macro expansion at simdloop.jl:77 [inlined]",
          "status": "Default",
          "x1": 1104,
          "x2": 1130.9
         },
         {
          "level": 36,
          "sf": "macro expansion at distance.jl:53 [inlined]",
          "status": "Default",
          "x1": 1104,
          "x2": 1130.9
         },
         {
          "level": 37,
          "sf": "+ at float.jl:408 [inlined]",
          "status": "Default",
          "x1": 1104,
          "x2": 1111.9
         },
         {
          "level": 37,
          "sf": "_SqEuclidean_ijk at distance.jl:42 [inlined]",
          "status": "Default",
          "x1": 1112,
          "x2": 1130.9
         },
         {
          "level": 38,
          "sf": "getindex at essentials.jl:0 [inlined]",
          "status": "Default",
          "x1": 1112,
          "x2": 1115.9
         },
         {
          "level": 38,
          "sf": "getindex at essentials.jl:14 [inlined]",
          "status": "Default",
          "x1": 1116,
          "x2": 1127.9
         },
         {
          "level": 38,
          "sf": "- at float.jl:409 [inlined]",
          "status": "Default",
          "x1": 1128,
          "x2": 1130.9
         },
         {
          "level": 32,
          "sf": "macro expansion at distance.jl:34 [inlined]",
          "status": "Default",
          "x1": 1131,
          "x2": 1137.9
         },
         {
          "level": 33,
          "sf": "iterate at range.jl:891 [inlined]",
          "status": "Default",
          "x1": 1131,
          "x2": 1133.9
         },
         {
          "level": 34,
          "sf": "== at promotion.jl:499 [inlined]",
          "status": "Default",
          "x1": 1131,
          "x2": 1131.9
         },
         {
          "level": 27,
          "sf": "predictMVN(xpred::Matrix{Float64}, xtrain::Matrix{Float64}, ytrain::Vector{Float64}, kernel::GaussianProcesses.Mat12Iso{Float64}, meanf::GaussianProcesses.MeanZero, alpha::Vector{Float64}, covstrat::GaussianProcesses.FullCovariance, Ktrain::PDMats.PDMat{Float64, Matrix{Float64}}) at GP.jl:43",
          "status": "Default",
          "x1": 1138,
          "x2": 1258.9
         },
         {
          "level": 28,
          "sf": "KernelData at stationary.jl:39 [inlined]",
          "status": "Default",
          "x1": 1138,
          "x2": 1258.9
         },
         {
          "level": 29,
          "sf": "distance at distance.jl:24 [inlined]",
          "status": "Default",
          "x1": 1138,
          "x2": 1258.9
         },
         {
          "level": 30,
          "sf": "Array at boot.jl:479 [inlined]",
          "status": "Garbage collection",
          "x1": 1138,
          "x2": 1246.9
         },
         {
          "level": 30,
          "sf": "distance!(dist::Matrix{Float64}, m::Distances.Euclidean, X::Matrix{Float64}, Y::Matrix{Float64}) at distance.jl:27",
          "status": "Default",
          "x1": 1247,
          "x2": 1247.9
         },
         {
          "level": 30,
          "sf": "distance!(dist::Matrix{Float64}, m::Distances.Euclidean, X::Matrix{Float64}, Y::Matrix{Float64}) at distance.jl:31",
          "status": "Default",
          "x1": 1248,
          "x2": 1254.9
         },
         {
          "level": 31,
          "sf": "macro expansion at simdloop.jl:75 [inlined]",
          "status": "Default",
          "x1": 1248,
          "x2": 1249.9
         },
         {
          "level": 31,
          "sf": "macro expansion at simdloop.jl:77 [inlined]",
          "status": "Default",
          "x1": 1250,
          "x2": 1254.9
         },
         {
          "level": 32,
          "sf": "macro expansion at distance.jl:0 [inlined]",
          "status": "Default",
          "x1": 1250,
          "x2": 1250.9
         },
         {
          "level": 32,
          "sf": "macro expansion at distance.jl:33 [inlined]",
          "status": "Default",
          "x1": 1251,
          "x2": 1254.9
         },
         {
          "level": 33,
          "sf": "setindex! at array.jl:971 [inlined]",
          "status": "Default",
          "x1": 1251,
          "x2": 1253.9
         },
         {
          "level": 33,
          "sf": "distij at distance.jl:69 [inlined]",
          "status": "Default",
          "x1": 1254,
          "x2": 1254.9
         },
         {
          "level": 34,
          "sf": "sqrt at float.jl:0 [inlined]",
          "status": "Default",
          "x1": 1254,
          "x2": 1254.9
         },
         {
          "level": 30,
          "sf": "distance!(dist::Matrix{Float64}, m::Distances.Euclidean, X::Matrix{Float64}, Y::Matrix{Float64}) at distance.jl:36",
          "status": "Default",
          "x1": 1255,
          "x2": 1257.9
         },
         {
          "level": 27,
          "sf": "predictMVN(xpred::Matrix{Float64}, xtrain::Matrix{Float64}, ytrain::Vector{Float64}, kernel::GaussianProcesses.Mat12Iso{Float64}, meanf::GaussianProcesses.MeanZero, alpha::Vector{Float64}, covstrat::GaussianProcesses.FullCovariance, Ktrain::PDMats.PDMat{Float64, Matrix{Float64}}) at GP.jl:44",
          "status": "Default",
          "x1": 1259,
          "x2": 1507.9
         },
         {
          "level": 28,
          "sf": "cov at kernels.jl:35 [inlined]",
          "status": "Default",
          "x1": 1259,
          "x2": 1321.9
         },
         {
          "level": 29,
          "sf": "Array at boot.jl:492 [inlined]",
          "status": "Default",
          "x1": 1259,
          "x2": 1321.9
         },
         {
          "level": 30,
          "sf": "Array at boot.jl:479 [inlined]",
          "status": "Garbage collection",
          "x1": 1259,
          "x2": 1321.9
         },
         {
          "level": 28,
          "sf": "cov at kernels.jl:36 [inlined]",
          "status": "Default",
          "x1": 1322,
          "x2": 1507.9
         },
         {
          "level": 29,
          "sf": "exp(x::Float64) at exp.jl:325",
          "status": "Default",
          "x1": 1322,
          "x2": 1323.9
         },
         {
          "level": 29,
          "sf": "cov!(cK::Matrix{Float64}, k::GaussianProcesses.Mat12Iso{Float64}, X1::Matrix{Float64}, X2::Matrix{Float64}, data::GaussianProcesses.IsotropicData{Matrix{Float64}}) at kernels.jl:0",
          "status": "Default",
          "x1": 1324,
          "x2": 1327.9
         },
         {
          "level": 29,
          "sf": "cov!(cK::Matrix{Float64}, k::GaussianProcesses.Mat12Iso{Float64}, X1::Matrix{Float64}, X2::Matrix{Float64}, data::GaussianProcesses.IsotropicData{Matrix{Float64}}) at kernels.jl:67",
          "status": "Default",
          "x1": 1328,
          "x2": 1477.9
         },
         {
          "level": 30,
          "sf": "setindex! at array.jl:971 [inlined]",
          "status": "Default",
          "x1": 1328,
          "x2": 1355.9
         },
         {
          "level": 30,
          "sf": "cov_ij at stationary.jl:46 [inlined]",
          "status": "Default",
          "x1": 1356,
          "x2": 1477.9
         },
         {
          "level": 31,
          "sf": "getindex at essentials.jl:0 [inlined]",
          "status": "Default",
          "x1": 1356,
          "x2": 1357.9
         },
         {
          "level": 31,
          "sf": "getindex at essentials.jl:14 [inlined]",
          "status": "Default",
          "x1": 1358,
          "x2": 1369.9
         },
         {
          "level": 31,
          "sf": "cov at mat12_iso.jl:41 [inlined]",
          "status": "Default",
          "x1": 1370,
          "x2": 1477.9
         },
         {
          "level": 32,
          "sf": "getproperty at Base.jl:37 [inlined]",
          "status": "Default",
          "x1": 1370,
          "x2": 1376.9
         },
         {
          "level": 32,
          "sf": "/ at float.jl:411 [inlined]",
          "status": "Default",
          "x1": 1377,
          "x2": 1382.9
         },
         {
          "level": 32,
          "sf": "exp(x::Float64) at exp.jl:325",
          "status": "Default",
          "x1": 1383,
          "x2": 1470.9
         },
         {
          "level": 33,
          "sf": "exp_impl at exp.jl:209 [inlined]",
          "status": "Default",
          "x1": 1383,
          "x2": 1385.9
         },
         {
          "level": 34,
          "sf": "muladd at float.jl:413 [inlined]",
          "status": "Default",
          "x1": 1383,
          "x2": 1385.9
         },
         {
          "level": 33,
          "sf": "exp_impl at exp.jl:210 [inlined]",
          "status": "Default",
          "x1": 1386,
          "x2": 1386.9
         },
         {
          "level": 34,
          "sf": "reinterpret at essentials.jl:513 [inlined]",
          "status": "Default",
          "x1": 1386,
          "x2": 1386.9
         },
         {
          "level": 33,
          "sf": "exp_impl at exp.jl:211 [inlined]",
          "status": "Default",
          "x1": 1387,
          "x2": 1389.9
         },
         {
          "level": 34,
          "sf": "- at float.jl:409 [inlined]",
          "status": "Default",
          "x1": 1387,
          "x2": 1389.9
         },
         {
          "level": 33,
          "sf": "exp_impl at exp.jl:212 [inlined]",
          "status": "Default",
          "x1": 1390,
          "x2": 1398.9
         },
         {
          "level": 34,
          "sf": "muladd at float.jl:413 [inlined]",
          "status": "Default",
          "x1": 1390,
          "x2": 1398.9
         },
         {
          "level": 33,
          "sf": "exp_impl at exp.jl:213 [inlined]",
          "status": "Default",
          "x1": 1399,
          "x2": 1402.9
         },
         {
          "level": 34,
          "sf": "muladd at float.jl:413 [inlined]",
          "status": "Default",
          "x1": 1399,
          "x2": 1402.9
         },
         {
          "level": 33,
          "sf": "exp_impl at exp.jl:214 [inlined]",
          "status": "Default",
          "x1": 1403,
          "x2": 1404.9
         },
         {
          "level": 34,
          "sf": ">> at int.jl:508 [inlined]",
          "status": "Default",
          "x1": 1403,
          "x2": 1404.9
         },
         {
          "level": 35,
          "sf": ">> at int.jl:501 [inlined]",
          "status": "Default",
          "x1": 1403,
          "x2": 1404.9
         },
         {
          "level": 33,
          "sf": "exp_impl at exp.jl:215 [inlined]",
          "status": "Default",
          "x1": 1405,
          "x2": 1420.9
         },
         {
          "level": 34,
          "sf": "table_unpack at exp.jl:179 [inlined]",
          "status": "Default",
          "x1": 1405,
          "x2": 1406.9
         },
         {
          "level": 35,
          "sf": "& at int.jl:1042 [inlined]",
          "status": "Default",
          "x1": 1405,
          "x2": 1406.9
         },
         {
          "level": 36,
          "sf": "& at int.jl:347 [inlined]",
          "status": "Default",
          "x1": 1405,
          "x2": 1406.9
         },
         {
          "level": 34,
          "sf": "table_unpack at exp.jl:180 [inlined]",
          "status": "Default",
          "x1": 1407,
          "x2": 1407.9
         },
         {
          "level": 34,
          "sf": "table_unpack at exp.jl:181 [inlined]",
          "status": "Default",
          "x1": 1408,
          "x2": 1416.9
         },
         {
          "level": 35,
          "sf": "& at int.jl:347 [inlined]",
          "status": "Default",
          "x1": 1408,
          "x2": 1414.9
         },
         {
          "level": 35,
          "sf": "| at int.jl:372 [inlined]",
          "status": "Default",
          "x1": 1415,
          "x2": 1416.9
         },
         {
          "level": 34,
          "sf": "table_unpack at exp.jl:182 [inlined]",
          "status": "Default",
          "x1": 1417,
          "x2": 1420.9
         },
         {
          "level": 35,
          "sf": "reinterpret at essentials.jl:513 [inlined]",
          "status": "Default",
          "x1": 1417,
          "x2": 1417.9
         },
         {
          "level": 35,
          "sf": ">> at int.jl:508 [inlined]",
          "status": "Default",
          "x1": 1418,
          "x2": 1420.9
         },
         {
          "level": 36,
          "sf": ">> at int.jl:502 [inlined]",
          "status": "Default",
          "x1": 1418,
          "x2": 1420.9
         },
         {
          "level": 33,
          "sf": "exp_impl at exp.jl:216 [inlined]",
          "status": "Default",
          "x1": 1421,
          "x2": 1441.9
         },
         {
          "level": 34,
          "sf": "+ at float.jl:408 [inlined]",
          "status": "Default",
          "x1": 1421,
          "x2": 1422.9
         },
         {
          "level": 34,
          "sf": "muladd at float.jl:413 [inlined]",
          "status": "Default",
          "x1": 1423,
          "x2": 1426.9
         },
         {
          "level": 34,
          "sf": "expm1b_kernel at exp.jl:78 [inlined]",
          "status": "Default",
          "x1": 1427,
          "x2": 1441.9
         },
         {
          "level": 35,
          "sf": "* at float.jl:410 [inlined]",
          "status": "Default",
          "x1": 1427,
          "x2": 1435.9
         },
         {
          "level": 35,
          "sf": "evalpoly at math.jl:177 [inlined]",
          "status": "Default",
          "x1": 1436,
          "x2": 1441.9
         },
         {
          "level": 36,
          "sf": "macro expansion at math.jl:178 [inlined]",
          "status": "Default",
          "x1": 1436,
          "x2": 1441.9
         },
         {
          "level": 37,
          "sf": "muladd at float.jl:413 [inlined]",
          "status": "Default",
          "x1": 1436,
          "x2": 1441.9
         },
         {
          "level": 33,
          "sf": "exp_impl at exp.jl:218 [inlined]",
          "status": "Default",
          "x1": 1442,
          "x2": 1452.9
         },
         {
          "level": 34,
          "sf": "abs at float.jl:609 [inlined]",
          "status": "Default",
          "x1": 1442,
          "x2": 1452.9
         },
         {
          "level": 33,
          "sf": "exp_impl at exp.jl:228 [inlined]",
          "status": "Default",
          "x1": 1453,
          "x2": 1454.9
         },
         {
          "level": 34,
          "sf": "<< at int.jl:510 [inlined]",
          "status": "Default",
          "x1": 1453,
          "x2": 1454.9
         },
         {
          "level": 35,
          "sf": "<< at int.jl:503 [inlined]",
          "status": "Default",
          "x1": 1453,
          "x2": 1454.9
         },
         {
          "level": 33,
          "sf": "exp_impl at exp.jl:229 [inlined]",
          "status": "Default",
          "x1": 1455,
          "x2": 1461.9
         },
         {
          "level": 34,
          "sf": "reinterpret at essentials.jl:513 [inlined]",
          "status": "Default",
          "x1": 1455,
          "x2": 1458.9
         },
         {
          "level": 34,
          "sf": "+ at int.jl:87 [inlined]",
          "status": "Default",
          "x1": 1459,
          "x2": 1461.9
         },
         {
          "level": 29,
          "sf": "cov!(cK::Matrix{Float64}, k::GaussianProcesses.Mat12Iso{Float64}, X1::Matrix{Float64}, X2::Matrix{Float64}, data::GaussianProcesses.IsotropicData{Matrix{Float64}}) at kernels.jl:68",
          "status": "Default",
          "x1": 1478,
          "x2": 1499.9
         },
         {
          "level": 29,
          "sf": "cov!(cK::Matrix{Float64}, k::GaussianProcesses.Mat12Iso{Float64}, X1::Matrix{Float64}, X2::Matrix{Float64}, data::GaussianProcesses.IsotropicData{Matrix{Float64}}) at kernels.jl:69",
          "status": "Default",
          "x1": 1500,
          "x2": 1506.9
         },
         {
          "level": 30,
          "sf": "iterate at range.jl:891 [inlined]",
          "status": "Default",
          "x1": 1500,
          "x2": 1500.9
         },
         {
          "level": 31,
          "sf": "== at promotion.jl:499 [inlined]",
          "status": "Default",
          "x1": 1500,
          "x2": 1500.9
         },
         {
          "level": 29,
          "sf": "exp(x::Float64) at exp.jl:325",
          "status": "Default",
          "x1": 1507,
          "x2": 1507.9
         },
         {
          "level": 27,
          "sf": "predictMVN(xpred::Matrix{Float64}, xtrain::Matrix{Float64}, ytrain::Vector{Float64}, kernel::GaussianProcesses.Mat12Iso{Float64}, meanf::GaussianProcesses.MeanZero, alpha::Vector{Float64}, covstrat::GaussianProcesses.FullCovariance, Ktrain::PDMats.PDMat{Float64, Matrix{Float64}}) at GP.jl:45",
          "status": "Default",
          "x1": 1508,
          "x2": 1678.9
         },
         {
          "level": 28,
          "sf": "cov at kernels.jl:35 [inlined]",
          "status": "Default",
          "x1": 1508,
          "x2": 1649.9
         },
         {
          "level": 29,
          "sf": "Array at boot.jl:492 [inlined]",
          "status": "Default",
          "x1": 1508,
          "x2": 1649.9
         },
         {
          "level": 30,
          "sf": "Array at boot.jl:479 [inlined]",
          "status": "Garbage collection",
          "x1": 1508,
          "x2": 1649.9
         },
         {
          "level": 28,
          "sf": "cov at kernels.jl:36 [inlined]",
          "status": "Default",
          "x1": 1650,
          "x2": 1678.9
         },
         {
          "level": 29,
          "sf": "cov!(cK::Matrix{Float64}, k::GaussianProcesses.Mat12Iso{Float64}, X1::Matrix{Float64}, X2::Matrix{Float64}, data::GaussianProcesses.IsotropicData{Matrix{Float64}}) at kernels.jl:0",
          "status": "Default",
          "x1": 1650,
          "x2": 1652.9
         },
         {
          "level": 29,
          "sf": "cov!(cK::Matrix{Float64}, k::GaussianProcesses.Mat12Iso{Float64}, X1::Matrix{Float64}, X2::Matrix{Float64}, data::GaussianProcesses.IsotropicData{Matrix{Float64}}) at kernels.jl:56",
          "status": "Default",
          "x1": 1653,
          "x2": 1654.9
         },
         {
          "level": 29,
          "sf": "cov!(cK::Matrix{Float64}, k::GaussianProcesses.Mat12Iso{Float64}, X1::Matrix{Float64}, X2::Matrix{Float64}, data::GaussianProcesses.IsotropicData{Matrix{Float64}}) at kernels.jl:58",
          "status": "Default",
          "x1": 1655,
          "x2": 1678.9
         },
         {
          "level": 30,
          "sf": "cov!(cK::Matrix{Float64}, k::GaussianProcesses.Mat12Iso{Float64}, X::Matrix{Float64}, data::GaussianProcesses.IsotropicData{Matrix{Float64}}) at kernels.jl:0",
          "status": "Default",
          "x1": 1655,
          "x2": 1655.9
         },
         {
          "level": 30,
          "sf": "cov!(cK::Matrix{Float64}, k::GaussianProcesses.Mat12Iso{Float64}, X::Matrix{Float64}, data::GaussianProcesses.IsotropicData{Matrix{Float64}}) at kernels.jl:40",
          "status": "Default",
          "x1": 1656,
          "x2": 1656.9
         },
         {
          "level": 31,
          "sf": "size at array.jl:150 [inlined]",
          "status": "Default",
          "x1": 1656,
          "x2": 1656.9
         },
         {
          "level": 30,
          "sf": "cov!(cK::Matrix{Float64}, k::GaussianProcesses.Mat12Iso{Float64}, X::Matrix{Float64}, data::GaussianProcesses.IsotropicData{Matrix{Float64}}) at kernels.jl:43",
          "status": "Default",
          "x1": 1657,
          "x2": 1675.9
         },
         {
          "level": 31,
          "sf": "setindex! at array.jl:971 [inlined]",
          "status": "Default",
          "x1": 1657,
          "x2": 1659.9
         },
         {
          "level": 31,
          "sf": "cov_ij at stationary.jl:46 [inlined]",
          "status": "Default",
          "x1": 1660,
          "x2": 1675.9
         },
         {
          "level": 32,
          "sf": "getindex at essentials.jl:14 [inlined]",
          "status": "Default",
          "x1": 1660,
          "x2": 1662.9
         },
         {
          "level": 32,
          "sf": "cov at mat12_iso.jl:41 [inlined]",
          "status": "Default",
          "x1": 1663,
          "x2": 1675.9
         },
         {
          "level": 33,
          "sf": "getproperty at Base.jl:37 [inlined]",
          "status": "Default",
          "x1": 1663,
          "x2": 1663.9
         },
         {
          "level": 33,
          "sf": "* at float.jl:410 [inlined]",
          "status": "Default",
          "x1": 1664,
          "x2": 1664.9
         },
         {
          "level": 33,
          "sf": "exp(x::Float64) at exp.jl:325",
          "status": "Default",
          "x1": 1665,
          "x2": 1675.9
         },
         {
          "level": 34,
          "sf": "exp_impl at exp.jl:215 [inlined]",
          "status": "Default",
          "x1": 1665,
          "x2": 1665.9
         },
         {
          "level": 35,
          "sf": "table_unpack at exp.jl:181 [inlined]",
          "status": "Default",
          "x1": 1665,
          "x2": 1665.9
         },
         {
          "level": 36,
          "sf": "| at int.jl:372 [inlined]",
          "status": "Default",
          "x1": 1665,
          "x2": 1665.9
         },
         {
          "level": 34,
          "sf": "exp_impl at exp.jl:216 [inlined]",
          "status": "Default",
          "x1": 1666,
          "x2": 1669.9
         },
         {
          "level": 35,
          "sf": "+ at float.jl:408 [inlined]",
          "status": "Default",
          "x1": 1666,
          "x2": 1666.9
         },
         {
          "level": 35,
          "sf": "muladd at float.jl:413 [inlined]",
          "status": "Default",
          "x1": 1667,
          "x2": 1667.9
         },
         {
          "level": 35,
          "sf": "expm1b_kernel at exp.jl:78 [inlined]",
          "status": "Default",
          "x1": 1668,
          "x2": 1669.9
         },
         {
          "level": 36,
          "sf": "* at float.jl:410 [inlined]",
          "status": "Default",
          "x1": 1668,
          "x2": 1669.9
         },
         {
          "level": 34,
          "sf": "exp_impl at exp.jl:218 [inlined]",
          "status": "Default",
          "x1": 1670,
          "x2": 1671.9
         },
         {
          "level": 35,
          "sf": "abs at float.jl:609 [inlined]",
          "status": "Default",
          "x1": 1670,
          "x2": 1671.9
         },
         {
          "level": 34,
          "sf": "exp_impl at exp.jl:228 [inlined]",
          "status": "Default",
          "x1": 1672,
          "x2": 1673.9
         },
         {
          "level": 35,
          "sf": "<< at int.jl:510 [inlined]",
          "status": "Default",
          "x1": 1672,
          "x2": 1673.9
         },
         {
          "level": 36,
          "sf": "<< at int.jl:503 [inlined]",
          "status": "Default",
          "x1": 1672,
          "x2": 1673.9
         },
         {
          "level": 30,
          "sf": "cov!(cK::Matrix{Float64}, k::GaussianProcesses.Mat12Iso{Float64}, X::Matrix{Float64}, data::GaussianProcesses.IsotropicData{Matrix{Float64}}) at kernels.jl:44",
          "status": "Default",
          "x1": 1676,
          "x2": 1676.9
         },
         {
          "level": 30,
          "sf": "exp(x::Float64) at exp.jl:325",
          "status": "Default",
          "x1": 1677,
          "x2": 1677.9
         },
         {
          "level": 27,
          "sf": "predictMVN(xpred::Matrix{Float64}, xtrain::Matrix{Float64}, ytrain::Vector{Float64}, kernel::GaussianProcesses.Mat12Iso{Float64}, meanf::GaussianProcesses.MeanZero, alpha::Vector{Float64}, covstrat::GaussianProcesses.FullCovariance, Ktrain::PDMats.PDMat{Float64, Matrix{Float64}}) at GP.jl:46",
          "status": "Default",
          "x1": 1679,
          "x2": 1785.9
         },
         {
          "level": 28,
          "sf": "mean at mZero.jl:16 [inlined]",
          "status": "Default",
          "x1": 1679,
          "x2": 1785.9
         },
         {
          "level": 29,
          "sf": "fill at array.jl:530 [inlined]",
          "status": "Default",
          "x1": 1679,
          "x2": 1785.9
         },
         {
          "level": 30,
          "sf": "fill at array.jl:532 [inlined]",
          "status": "Default",
          "x1": 1679,
          "x2": 1785.9
         },
         {
          "level": 31,
          "sf": "fill! at array.jl:349 [inlined]",
          "status": "Default",
          "x1": 1679,
          "x2": 1682.9
         },
         {
          "level": 32,
          "sf": "setindex! at array.jl:969 [inlined]",
          "status": "Default",
          "x1": 1679,
          "x2": 1682.9
         },
         {
          "level": 31,
          "sf": "Array at boot.jl:486 [inlined]",
          "status": "Default",
          "x1": 1683,
          "x2": 1785.9
         },
         {
          "level": 32,
          "sf": "Array at boot.jl:477 [inlined]",
          "status": "Garbage collection",
          "x1": 1683,
          "x2": 1785.9
         },
         {
          "level": 27,
          "sf": "predictMVN(xpred::Matrix{Float64}, xtrain::Matrix{Float64}, ytrain::Vector{Float64}, kernel::GaussianProcesses.Mat12Iso{Float64}, meanf::GaussianProcesses.MeanZero, alpha::Vector{Float64}, covstrat::GaussianProcesses.FullCovariance, Ktrain::PDMats.PDMat{Float64, Matrix{Float64}}) at GP.jl:47",
          "status": "Default",
          "x1": 1786,
          "x2": 2371.9
         },
         {
          "level": 28,
          "sf": "+(A::Vector{Float64}, Bs::Vector{Float64}) at arraymath.jl:12",
          "status": "Default",
          "x1": 1786,
          "x2": 1786.9
         },
         {
          "level": 28,
          "sf": "+(A::Vector{Float64}, Bs::Vector{Float64}) at arraymath.jl:16",
          "status": "Default",
          "x1": 1787,
          "x2": 1787.9
         },
         {
          "level": 28,
          "sf": "gemv!(y::Vector{Float64}, tA::Char, A::Matrix{Float64}, x::Vector{Float64}, α::Bool, β::Bool) at matmul.jl:490",
          "status": "Default",
          "x1": 1789,
          "x2": 1789.9
         },
         {
          "level": 28,
          "sf": "predictMVN!(Kxx::Matrix{Float64}, Kff::PDMats.PDMat{Float64, Matrix{Float64}}, Kfx::Matrix{Float64}, mx::Vector{Float64}, αf::Vector{Float64}) at GP.jl:25",
          "status": "Default",
          "x1": 1790,
          "x2": 1792.9
         },
         {
          "level": 28,
          "sf": "predictMVN!(Kxx::Matrix{Float64}, Kff::PDMats.PDMat{Float64, Matrix{Float64}}, Kfx::Matrix{Float64}, mx::Vector{Float64}, αf::Vector{Float64}) at GP.jl:26",
          "status": "Default",
          "x1": 1793,
          "x2": 1973.9
         },
         {
          "level": 29,
          "sf": "+(A::Vector{Float64}, Bs::Vector{Float64}) at arraymath.jl:12",
          "status": "Default",
          "x1": 1793,
          "x2": 1794.9
         },
         {
          "level": 29,
          "sf": "+(A::Vector{Float64}, Bs::Vector{Float64}) at arraymath.jl:14",
          "status": "Default",
          "x1": 1795,
          "x2": 1797.9
         },
         {
          "level": 30,
          "sf": "promote_shape at indices.jl:169 [inlined]",
          "status": "Default",
          "x1": 1795,
          "x2": 1797.9
         },
         {
          "level": 31,
          "sf": "axes at abstractarray.jl:98 [inlined]",
          "status": "Default",
          "x1": 1795,
          "x2": 1797.9
         },
         {
          "level": 32,
          "sf": "size at array.jl:149 [inlined]",
          "status": "Default",
          "x1": 1795,
          "x2": 1797.9
         },
         {
          "level": 29,
          "sf": "+(A::Vector{Float64}, Bs::Vector{Float64}) at arraymath.jl:16",
          "status": "Default",
          "x1": 1798,
          "x2": 1850.9
         },
         {
          "level": 30,
          "sf": "broadcast_preserving_zero_d at broadcast.jl:862 [inlined]",
          "status": "Default",
          "x1": 1798,
          "x2": 1849.9
         },
         {
          "level": 31,
          "sf": "materialize at broadcast.jl:873 [inlined]",
          "status": "Default",
          "x1": 1798,
          "x2": 1849.9
         },
         {
          "level": 32,
          "sf": "copy at broadcast.jl:898 [inlined]",
          "status": "Default",
          "x1": 1798,
          "x2": 1849.9
         },
         {
          "level": 33,
          "sf": "copyto! at broadcast.jl:926 [inlined]",
          "status": "Default",
          "x1": 1798,
          "x2": 1806.9
         },
         {
          "level": 34,
          "sf": "copyto! at broadcast.jl:970 [inlined]",
          "status": "Default",
          "x1": 1798,
          "x2": 1799.9
         },
         {
          "level": 35,
          "sf": "preprocess at broadcast.jl:953 [inlined]",
          "status": "Default",
          "x1": 1798,
          "x2": 1799.9
         },
         {
          "level": 36,
          "sf": "preprocess_args at broadcast.jl:956 [inlined]",
          "status": "Default",
          "x1": 1798,
          "x2": 1799.9
         },
         {
          "level": 37,
          "sf": "preprocess at broadcast.jl:954 [inlined]",
          "status": "Default",
          "x1": 1798,
          "x2": 1798.9
         },
         {
          "level": 38,
          "sf": "broadcast_unalias at broadcast.jl:947 [inlined]",
          "status": "Default",
          "x1": 1798,
          "x2": 1798.9
         },
         {
          "level": 39,
          "sf": "unalias at abstractarray.jl:1480 [inlined]",
          "status": "Default",
          "x1": 1798,
          "x2": 1798.9
         },
         {
          "level": 40,
          "sf": "mightalias at abstractarray.jl:1515 [inlined]",
          "status": "Default",
          "x1": 1798,
          "x2": 1798.9
         },
         {
          "level": 41,
          "sf": "_isdisjoint at abstractarray.jl:1522 [inlined]",
          "status": "Default",
          "x1": 1798,
          "x2": 1798.9
         },
         {
          "level": 42,
          "sf": "!= at operators.jl:269 [inlined]",
          "status": "Default",
          "x1": 1798,
          "x2": 1798.9
         },
         {
          "level": 43,
          "sf": "== at promotion.jl:499 [inlined]",
          "status": "Default",
          "x1": 1798,
          "x2": 1798.9
         },
         {
          "level": 37,
          "sf": "preprocess_args at broadcast.jl:957 [inlined]",
          "status": "Default",
          "x1": 1799,
          "x2": 1799.9
         },
         {
          "level": 38,
          "sf": "preprocess at broadcast.jl:954 [inlined]",
          "status": "Default",
          "x1": 1799,
          "x2": 1799.9
         },
         {
          "level": 39,
          "sf": "broadcast_unalias at broadcast.jl:947 [inlined]",
          "status": "Default",
          "x1": 1799,
          "x2": 1799.9
         },
         {
          "level": 34,
          "sf": "copyto! at broadcast.jl:973 [inlined]",
          "status": "Default",
          "x1": 1800,
          "x2": 1806.9
         },
         {
          "level": 35,
          "sf": "macro expansion at simdloop.jl:72 [inlined]",
          "status": "Default",
          "x1": 1800,
          "x2": 1800.9
         },
         {
          "level": 36,
          "sf": "< at int.jl:83 [inlined]",
          "status": "Default",
          "x1": 1800,
          "x2": 1800.9
         },
         {
          "level": 35,
          "sf": "macro expansion at simdloop.jl:77 [inlined]",
          "status": "Default",
          "x1": 1801,
          "x2": 1806.9
         },
         {
          "level": 36,
          "sf": "macro expansion at broadcast.jl:974 [inlined]",
          "status": "Default",
          "x1": 1801,
          "x2": 1806.9
         },
         {
          "level": 37,
          "sf": "setindex! at array.jl:969 [inlined]",
          "status": "Default",
          "x1": 1801,
          "x2": 1806.9
         },
         {
          "level": 33,
          "sf": "similar at broadcast.jl:211 [inlined]",
          "status": "Default",
          "x1": 1807,
          "x2": 1849.9
         },
         {
          "level": 34,
          "sf": "similar at broadcast.jl:212 [inlined]",
          "status": "Default",
          "x1": 1807,
          "x2": 1849.9
         },
         {
          "level": 35,
          "sf": "similar at abstractarray.jl:881 [inlined]",
          "status": "Default",
          "x1": 1807,
          "x2": 1849.9
         },
         {
          "level": 36,
          "sf": "similar at abstractarray.jl:882 [inlined]",
          "status": "Default",
          "x1": 1807,
          "x2": 1849.9
         },
         {
          "level": 37,
          "sf": "Array at boot.jl:494 [inlined]",
          "status": "Default",
          "x1": 1807,
          "x2": 1849.9
         },
         {
          "level": 38,
          "sf": "Array at boot.jl:486 [inlined]",
          "status": "Default",
          "x1": 1807,
          "x2": 1849.9
         },
         {
          "level": 39,
          "sf": "Array at boot.jl:477 [inlined]",
          "status": "Garbage collection",
          "x1": 1807,
          "x2": 1849.9
         },
         {
          "level": 29,
          "sf": "+(A::Vector{Float64}, Bs::Vector{Float64}) at indices.jl:0",
          "status": "Default",
          "x1": 1851,
          "x2": 1851.9
         },
         {
          "level": 29,
          "sf": "* at matmul.jl:101 [inlined]",
          "status": "Default",
          "x1": 1854,
          "x2": 1969.9
         },
         {
          "level": 30,
          "sf": "similar at abstractarray.jl:838 [inlined]",
          "status": "Default",
          "x1": 1854,
          "x2": 1909.9
         },
         {
          "level": 31,
          "sf": "similar at array.jl:374 [inlined]",
          "status": "Default",
          "x1": 1854,
          "x2": 1909.9
         },
         {
          "level": 32,
          "sf": "Array at boot.jl:486 [inlined]",
          "status": "Default",
          "x1": 1854,
          "x2": 1909.9
         },
         {
          "level": 33,
          "sf": "Array at boot.jl:477 [inlined]",
          "status": "Garbage collection",
          "x1": 1854,
          "x2": 1909.9
         },
         {
          "level": 30,
          "sf": "size at abstractarray.jl:42 [inlined]",
          "status": "Default",
          "x1": 1910,
          "x2": 1911.9
         },
         {
          "level": 31,
          "sf": "size at adjtrans.jl:297 [inlined]",
          "status": "Default",
          "x1": 1910,
          "x2": 1911.9
         },
         {
          "level": 32,
          "sf": "size at array.jl:150 [inlined]",
          "status": "Default",
          "x1": 1910,
          "x2": 1911.9
         },
         {
          "level": 30,
          "sf": "mul! at matmul.jl:276 [inlined]",
          "status": "Default",
          "x1": 1912,
          "x2": 1969.9
         },
         {
          "level": 31,
          "sf": "mul! at matmul.jl:109 [inlined]",
          "status": "Default",
          "x1": 1912,
          "x2": 1969.9
         },
         {
          "level": 32,
          "sf": "mul! at matmul.jl:93 [inlined]",
          "status": "Default",
          "x1": 1912,
          "x2": 1969.9
         },
         {
          "level": 33,
          "sf": "gemv!(y::Vector{Float64}, tA::Char, A::Matrix{Float64}, x::Vector{Float64}, α::Bool, β::Bool) at array.jl:0",
          "status": "Default",
          "x1": 1912,
          "x2": 1913.9
         },
         {
          "level": 33,
          "sf": "gemv!(trans::Char, alpha::Float64, A::Matrix{Float64}, X::Vector{Float64}, beta::Float64, Y::Vector{Float64}) at blas.jl:674",
          "status": "Default",
          "x1": 1914,
          "x2": 1914.9
         },
         {
          "level": 33,
          "sf": "gemv!(y::Vector{Float64}, tA::Char, A::Matrix{Float64}, x::Vector{Float64}, α::Bool, β::Bool) at matmul.jl:490",
          "status": "Default",
          "x1": 1915,
          "x2": 1915.9
         },
         {
          "level": 33,
          "sf": "gemv!(y::Vector{Float64}, tA::Char, A::Matrix{Float64}, x::Vector{Float64}, α::Bool, β::Bool) at matmul.jl:492",
          "status": "Default",
          "x1": 1916,
          "x2": 1919.9
         },
         {
          "level": 34,
          "sf": "lapack_size at matmul.jl:725 [inlined]",
          "status": "Default",
          "x1": 1916,
          "x2": 1919.9
         },
         {
          "level": 35,
          "sf": "== at char.jl:213 [inlined]",
          "status": "Default",
          "x1": 1916,
          "x2": 1919.9
         },
         {
          "level": 36,
          "sf": "== at promotion.jl:499 [inlined]",
          "status": "Default",
          "x1": 1916,
          "x2": 1919.9
         },
         {
          "level": 33,
          "sf": "gemv!(y::Vector{Float64}, tA::Char, A::Matrix{Float64}, x::Vector{Float64}, α::Bool, β::Bool) at matmul.jl:497",
          "status": "Default",
          "x1": 1920,
          "x2": 1920.9
         },
         {
          "level": 34,
          "sf": "== at promotion.jl:499 [inlined]",
          "status": "Default",
          "x1": 1920,
          "x2": 1920.9
         },
         {
          "level": 33,
          "sf": "gemv!(y::Vector{Float64}, tA::Char, A::Matrix{Float64}, x::Vector{Float64}, α::Bool, β::Bool) at matmul.jl:498",
          "status": "Default",
          "x1": 1921,
          "x2": 1922.9
         },
         {
          "level": 34,
          "sf": "_rmul_or_fill! at generic.jl:103 [inlined]",
          "status": "Default",
          "x1": 1921,
          "x2": 1922.9
         },
         {
          "level": 35,
          "sf": "fill! at array.jl:349 [inlined]",
          "status": "Default",
          "x1": 1921,
          "x2": 1922.9
         },
         {
          "level": 36,
          "sf": "setindex! at array.jl:969 [inlined]",
          "status": "Default",
          "x1": 1921,
          "x2": 1922.9
         },
         {
          "level": 33,
          "sf": "gemv!(y::Vector{Float64}, tA::Char, A::Matrix{Float64}, x::Vector{Float64}, α::Bool, β::Bool) at matmul.jl:503",
          "status": "Default",
          "x1": 1923,
          "x2": 1968.9
         },
         {
          "level": 34,
          "sf": "gemv!(trans::Char, alpha::Float64, A::Matrix{Float64}, X::Vector{Float64}, beta::Float64, Y::Vector{Float64}) at blas.jl:643",
          "status": "Default",
          "x1": 1923,
          "x2": 1924.9
         },
         {
          "level": 34,
          "sf": "gemv!(trans::Char, alpha::Float64, A::Matrix{Float64}, X::Vector{Float64}, beta::Float64, Y::Vector{Float64}) at blas.jl:667",
          "status": "Default",
          "x1": 1925,
          "x2": 1967.9
         },
         {
          "level": 28,
          "sf": "predictMVN!(Kxx::Matrix{Float64}, Kff::PDMats.PDMat{Float64, Matrix{Float64}}, Kfx::Matrix{Float64}, mx::Vector{Float64}, αf::Vector{Float64}) at GP.jl:27",
          "status": "Default",
          "x1": 1974,
          "x2": 2220.9
         },
         {
          "level": 29,
          "sf": "whiten! at generics.jl:32 [inlined]",
          "status": "Default",
          "x1": 1974,
          "x2": 2220.9
         },
         {
          "level": 30,
          "sf": "getproperty(C::LinearAlgebra.Cholesky{Float64, Matrix{Float64}}, d::Symbol) at cholesky.jl:515",
          "status": "Default",
          "x1": 1974,
          "x2": 1974.9
         },
         {
          "level": 30,
          "sf": "trtrs!(uplo::Char, trans::Char, diag::Char, A::Matrix{Float64}, B::Matrix{Float64}) at lapack.jl:3405",
          "status": "Default",
          "x1": 1975,
          "x2": 1975.9
         },
         {
          "level": 30,
          "sf": "whiten!(r::Matrix{Float64}, a::PDMats.PDMat{Float64, Matrix{Float64}}, x::Matrix{Float64}) at pdmat.jl:64",
          "status": "Default",
          "x1": 1976,
          "x2": 1979.9
         },
         {
          "level": 30,
          "sf": "whiten!(r::Matrix{Float64}, a::PDMats.PDMat{Float64, Matrix{Float64}}, x::Matrix{Float64}) at pdmat.jl:65",
          "status": "Default",
          "x1": 1980,
          "x2": 1993.9
         },
         {
          "level": 31,
          "sf": "getproperty at Base.jl:37 [inlined]",
          "status": "Default",
          "x1": 1980,
          "x2": 1983.9
         },
         {
          "level": 31,
          "sf": "getproperty(C::LinearAlgebra.Cholesky{Float64, Matrix{Float64}}, d::Symbol) at cholesky.jl:0",
          "status": "Default",
          "x1": 1984,
          "x2": 1984.9
         },
         {
          "level": 31,
          "sf": "getproperty(C::LinearAlgebra.Cholesky{Float64, Matrix{Float64}}, d::Symbol) at cholesky.jl:516",
          "status": "Default",
          "x1": 1985,
          "x2": 1985.9
         },
         {
          "level": 31,
          "sf": "getproperty(C::LinearAlgebra.Cholesky{Float64, Matrix{Float64}}, d::Symbol) at cholesky.jl:519",
          "status": "Garbage collection",
          "x1": 1986,
          "x2": 1993.9
         },
         {
          "level": 30,
          "sf": "whiten!(r::Matrix{Float64}, a::PDMats.PDMat{Float64, Matrix{Float64}}, x::Matrix{Float64}) at pdmat.jl:66",
          "status": "Default",
          "x1": 1994,
          "x2": 1994.9
         },
         {
          "level": 31,
          "sf": "_rcopy! at utils.jl:10 [inlined]",
          "status": "Default",
          "x1": 1994,
          "x2": 1994.9
         },
         {
          "level": 30,
          "sf": "whiten!(r::Matrix{Float64}, a::PDMats.PDMat{Float64, Matrix{Float64}}, x::Matrix{Float64}) at pdmat.jl:67",
          "status": "Default",
          "x1": 1995,
          "x2": 2220.9
         },
         {
          "level": 31,
          "sf": "ldiv! at triangular.jl:786 [inlined]",
          "status": "Default",
          "x1": 1995,
          "x2": 2220.9
         },
         {
          "level": 32,
          "sf": "trtrs!(uplo::Char, trans::Char, diag::Char, A::Matrix{Float64}, B::Matrix{Float64}) at lapack.jl:3408",
          "status": "Default",
          "x1": 1995,
          "x2": 1995.9
         },
         {
          "level": 33,
          "sf": "chktrans at lapack.jl:58 [inlined]",
          "status": "Default",
          "x1": 1995,
          "x2": 1995.9
         },
         {
          "level": 32,
          "sf": "trtrs!(uplo::Char, trans::Char, diag::Char, A::Matrix{Float64}, B::Matrix{Float64}) at lapack.jl:3413",
          "status": "Default",
          "x1": 1996,
          "x2": 1996.9
         },
         {
          "level": 33,
          "sf": "!= at operators.jl:269 [inlined]",
          "status": "Default",
          "x1": 1996,
          "x2": 1996.9
         },
         {
          "level": 34,
          "sf": "== at promotion.jl:499 [inlined]",
          "status": "Default",
          "x1": 1996,
          "x2": 1996.9
         },
         {
          "level": 32,
          "sf": "trtrs!(uplo::Char, trans::Char, diag::Char, A::Matrix{Float64}, B::Matrix{Float64}) at lapack.jl:3417",
          "status": "Default",
          "x1": 1997,
          "x2": 2219.9
         },
         {
          "level": 33,
          "sf": "cconvert at essentials.jl:492 [inlined]",
          "status": "Default",
          "x1": 1997,
          "x2": 1997.9
         },
         {
          "level": 34,
          "sf": "convert at refpointer.jl:104 [inlined]",
          "status": "Default",
          "x1": 1997,
          "x2": 1997.9
         },
         {
          "level": 35,
          "sf": "RefValue at refvalue.jl:8 [inlined]",
          "status": "Default",
          "x1": 1997,
          "x2": 1997.9
         },
         {
          "level": 32,
          "sf": "trtrs!(uplo::Char, trans::Char, diag::Char, A::Matrix{Float64}, B::Matrix{Float64}) at lapack.jl:3425",
          "status": "Default",
          "x1": 2220,
          "x2": 2220.9
         },
         {
          "level": 28,
          "sf": "predictMVN!(Kxx::Matrix{Float64}, Kff::PDMats.PDMat{Float64, Matrix{Float64}}, Kfx::Matrix{Float64}, mx::Vector{Float64}, αf::Vector{Float64}) at GP.jl:28",
          "status": "Default",
          "x1": 2221,
          "x2": 2367.9
         },
         {
          "level": 29,
          "sf": "subtract_Lck! at GP.jl:52 [inlined]",
          "status": "Default",
          "x1": 2221,
          "x2": 2361.9
         },
         {
          "level": 30,
          "sf": "syrk!(uplo::Char, trans::Char, alpha::Float64, A::Matrix{Float64}, beta::Float64, C::Matrix{Float64}) at blas.jl:1773",
          "status": "Default",
          "x1": 2221,
          "x2": 2225.9
         },
         {
          "level": 30,
          "sf": "syrk!(uplo::Char, trans::Char, alpha::Float64, A::Matrix{Float64}, beta::Float64, C::Matrix{Float64}) at blas.jl:1784",
          "status": "Default",
          "x1": 2226,
          "x2": 2361.9
         },
         {
          "level": 31,
          "sf": "cconvert at essentials.jl:492 [inlined]",
          "status": "Default",
          "x1": 2226,
          "x2": 2226.9
         },
         {
          "level": 32,
          "sf": "convert at refpointer.jl:104 [inlined]",
          "status": "Default",
          "x1": 2226,
          "x2": 2226.9
         },
         {
          "level": 33,
          "sf": "RefValue at refvalue.jl:8 [inlined]",
          "status": "Default",
          "x1": 2226,
          "x2": 2226.9
         },
         {
          "level": 34,
          "sf": "convert at char.jl:185 [inlined]",
          "status": "Default",
          "x1": 2226,
          "x2": 2226.9
         },
         {
          "level": 35,
          "sf": "Int8 at char.jl:175 [inlined]",
          "status": "Default",
          "x1": 2226,
          "x2": 2226.9
         },
         {
          "level": 36,
          "sf": ">>> at int.jl:512 [inlined]",
          "status": "Default",
          "x1": 2226,
          "x2": 2226.9
         },
         {
          "level": 37,
          "sf": ">>> at int.jl:504 [inlined]",
          "status": "Default",
          "x1": 2226,
          "x2": 2226.9
         },
         {
          "level": 31,
          "sf": "unsafe_convert at pointer.jl:65 [inlined]",
          "status": "Default",
          "x1": 2227,
          "x2": 2227.9
         },
         {
          "level": 31,
          "sf": "max at promotion.jl:510 [inlined]",
          "status": "Default",
          "x1": 2228,
          "x2": 2228.9
         },
         {
          "level": 32,
          "sf": "ifelse at essentials.jl:575 [inlined]",
          "status": "Default",
          "x1": 2228,
          "x2": 2228.9
         },
         {
          "level": 29,
          "sf": "subtract_Lck! at GP.jl:53 [inlined]",
          "status": "Default",
          "x1": 2362,
          "x2": 2367.9
         },
         {
          "level": 30,
          "sf": "copytri! at matmul.jl:474 [inlined]",
          "status": "Default",
          "x1": 2362,
          "x2": 2367.9
         },
         {
          "level": 31,
          "sf": "copytri! at matmul.jl:474 [inlined]",
          "status": "Default",
          "x1": 2362,
          "x2": 2362.9
         },
         {
          "level": 32,
          "sf": "checksquare at LinearAlgebra.jl:238 [inlined]",
          "status": "Default",
          "x1": 2362,
          "x2": 2362.9
         },
         {
          "level": 33,
          "sf": "size at array.jl:150 [inlined]",
          "status": "Default",
          "x1": 2362,
          "x2": 2362.9
         },
         {
          "level": 31,
          "sf": "copytri! at matmul.jl:477 [inlined]",
          "status": "Default",
          "x1": 2363,
          "x2": 2365.9
         },
         {
          "level": 32,
          "sf": "+ at int.jl:87 [inlined]",
          "status": "Default",
          "x1": 2363,
          "x2": 2363.9
         },
         {
          "level": 32,
          "sf": "iterate at range.jl:887 [inlined]",
          "status": "Default",
          "x1": 2364,
          "x2": 2364.9
         },
         {
          "level": 33,
          "sf": "isempty at range.jl:662 [inlined]",
          "status": "Default",
          "x1": 2364,
          "x2": 2364.9
         },
         {
          "level": 34,
          "sf": "> at operators.jl:369 [inlined]",
          "status": "Default",
          "x1": 2364,
          "x2": 2364.9
         },
         {
          "level": 35,
          "sf": "< at int.jl:83 [inlined]",
          "status": "Default",
          "x1": 2364,
          "x2": 2364.9
         },
         {
          "level": 31,
          "sf": "copytri! at matmul.jl:479 [inlined]",
          "status": "Default",
          "x1": 2366,
          "x2": 2367.9
         },
         {
          "level": 28,
          "sf": "predictMVN!(Kxx::Matrix{Float64}, Kff::PDMats.PDMat{Float64, Matrix{Float64}}, Kfx::Matrix{Float64}, mx::Vector{Float64}, αf::Vector{Float64}) at GP.jl:29",
          "status": "Default",
          "x1": 2368,
          "x2": 2368.9
         },
         {
          "level": 27,
          "sf": "predictMVN(xpred::Matrix{Float64}, xtrain::Matrix{Float64}, ytrain::Vector{Float64}, kernel::GaussianProcesses.Mat12Iso{Float64}, meanf::GaussianProcesses.MeanZero, alpha::Vector{Float64}, covstrat::GaussianProcesses.FullCovariance, Ktrain::PDMats.PDMat{Float64, Matrix{Float64}}) at GP.jl:48",
          "status": "Default",
          "x1": 2372,
          "x2": 2372.9
         },
         {
          "level": 27,
          "sf": "predictMVN!(Kxx::Matrix{Float64}, Kff::PDMats.PDMat{Float64, Matrix{Float64}}, Kfx::Matrix{Float64}, mx::Vector{Float64}, αf::Vector{Float64}) at GP.jl:25",
          "status": "Default",
          "x1": 2373,
          "x2": 2373.9
         },
         {
          "level": 27,
          "sf": "distance!(dist::Matrix{Float64}, m::Distances.Euclidean, X::Matrix{Float64}, Y::Matrix{Float64}) at distance.jl:27",
          "status": "Default",
          "x1": 2374,
          "x2": 2376.9
         },
         {
          "level": 27,
          "sf": "predictMVN!(Kxx::Matrix{Float64}, Kff::PDMats.PDMat{Float64, Matrix{Float64}}, Kfx::Matrix{Float64}, mx::Vector{Float64}, αf::Vector{Float64}) at GP.jl:25",
          "status": "Default",
          "x1": 2378,
          "x2": 2381.9
         },
         {
          "level": 27,
          "sf": "distance!(dist::Matrix{Float64}, m::Distances.Euclidean, X::Matrix{Float64}, Y::Matrix{Float64}) at distance.jl:27",
          "status": "Default",
          "x1": 2382,
          "x2": 2382.9
         },
         {
          "level": 25,
          "sf": "predict_f(gp::GaussianProcesses.GPE{Matrix{Float64}, Vector{Float64}, GaussianProcesses.MeanZero, GaussianProcesses.Mat12Iso{Float64}, GaussianProcesses.FullCovariance, GaussianProcesses.IsotropicData{Matrix{Float64}}, PDMats.PDMat{Float64, Matrix{Float64}}, GaussianProcesses.Scalar{Float64}}, x::Base.ReshapedArray{Float64, 2, LinearAlgebra.Adjoint{Float64, Vector{Float64}}, Tuple{}}; full_cov::Bool) at GP.jl:74",
          "status": "Default",
          "x1": 2384,
          "x2": 2384.9
         },
         {
          "level": 26,
          "sf": "setindex! at array.jl:969 [inlined]",
          "status": "Default",
          "x1": 2384,
          "x2": 2384.9
         },
         {
          "level": 25,
          "sf": "predict_f(gp::GaussianProcesses.GPE{Matrix{Float64}, Vector{Float64}, GaussianProcesses.MeanZero, GaussianProcesses.Mat12Iso{Float64}, GaussianProcesses.FullCovariance, GaussianProcesses.IsotropicData{Matrix{Float64}}, PDMats.PDMat{Float64, Matrix{Float64}}, GaussianProcesses.Scalar{Float64}}, x::Base.ReshapedArray{Float64, 2, LinearAlgebra.Adjoint{Float64, Vector{Float64}}, Tuple{}}; full_cov::Bool) at GP.jl:75",
          "status": "Default",
          "x1": 2385,
          "x2": 2621.9
         },
         {
          "level": 26,
          "sf": "setindex! at array.jl:969 [inlined]",
          "status": "Default",
          "x1": 2385,
          "x2": 2386.9
         },
         {
          "level": 26,
          "sf": "getindex at essentials.jl:13 [inlined]",
          "status": "Default",
          "x1": 2387,
          "x2": 2387.9
         },
         {
          "level": 26,
          "sf": "max at math.jl:863 [inlined]",
          "status": "Default",
          "x1": 2388,
          "x2": 2388.9
         },
         {
          "level": 27,
          "sf": "signbit at floatfuncs.jl:15 [inlined]",
          "status": "Default",
          "x1": 2388,
          "x2": 2388.9
         },
         {
          "level": 28,
          "sf": "signbit at int.jl:139 [inlined]",
          "status": "Default",
          "x1": 2388,
          "x2": 2388.9
         },
         {
          "level": 29,
          "sf": "< at int.jl:83 [inlined]",
          "status": "Default",
          "x1": 2388,
          "x2": 2388.9
         },
         {
          "level": 26,
          "sf": "max at math.jl:865 [inlined]",
          "status": "Default",
          "x1": 2389,
          "x2": 2389.9
         },
         {
          "level": 27,
          "sf": "ifelse at essentials.jl:575 [inlined]",
          "status": "Default",
          "x1": 2389,
          "x2": 2389.9
         },
         {
          "level": 26,
          "sf": "diag at dense.jl:249 [inlined]",
          "status": "Default",
          "x1": 2390,
          "x2": 2621.9
         },
         {
          "level": 27,
          "sf": "diag(A::Matrix{Float64}, k::Int64) at dense.jl:249",
          "status": "Default",
          "x1": 2390,
          "x2": 2620.9
         },
         {
          "level": 28,
          "sf": "getindex at array.jl:944 [inlined]",
          "status": "Default",
          "x1": 2390,
          "x2": 2615.9
         },
         {
          "level": 29,
          "sf": "_array_for at array.jl:674 [inlined]",
          "status": "Default",
          "x1": 2390,
          "x2": 2606.9
         },
         {
          "level": 30,
          "sf": "_array_for at array.jl:671 [inlined]",
          "status": "Default",
          "x1": 2390,
          "x2": 2599.9
         },
         {
          "level": 31,
          "sf": "similar at abstractarray.jl:881 [inlined]",
          "status": "Default",
          "x1": 2390,
          "x2": 2599.9
         },
         {
          "level": 32,
          "sf": "similar at abstractarray.jl:882 [inlined]",
          "status": "Default",
          "x1": 2390,
          "x2": 2599.9
         },
         {
          "level": 33,
          "sf": "Array at boot.jl:486 [inlined]",
          "status": "Default",
          "x1": 2390,
          "x2": 2599.9
         },
         {
          "level": 34,
          "sf": "Array at boot.jl:477 [inlined]",
          "status": "Garbage collection",
          "x1": 2390,
          "x2": 2599.9
         },
         {
          "level": 30,
          "sf": "_similar_shape at array.jl:659 [inlined]",
          "status": "Default",
          "x1": 2600,
          "x2": 2606.9
         },
         {
          "level": 31,
          "sf": "axes at range.jl:696 [inlined]",
          "status": "Default",
          "x1": 2600,
          "x2": 2606.9
         },
         {
          "level": 32,
          "sf": "length(r::StepRange{Int64, Int64}) at range.jl:775",
          "status": "Default",
          "x1": 2600,
          "x2": 2600.9
         },
         {
          "level": 33,
          "sf": "isempty at range.jl:659 [inlined]",
          "status": "Default",
          "x1": 2600,
          "x2": 2600.9
         },
         {
          "level": 34,
          "sf": "> at operators.jl:369 [inlined]",
          "status": "Default",
          "x1": 2600,
          "x2": 2600.9
         },
         {
          "level": 35,
          "sf": "< at int.jl:83 [inlined]",
          "status": "Default",
          "x1": 2600,
          "x2": 2600.9
         },
         {
          "level": 32,
          "sf": "length(r::StepRange{Int64, Int64}) at range.jl:779",
          "status": "Default",
          "x1": 2601,
          "x2": 2602.9
         },
         {
          "level": 33,
          "sf": "== at promotion.jl:499 [inlined]",
          "status": "Default",
          "x1": 2601,
          "x2": 2602.9
         },
         {
          "level": 32,
          "sf": "length(r::StepRange{Int64, Int64}) at range.jl:784",
          "status": "Default",
          "x1": 2603,
          "x2": 2605.9
         },
         {
          "level": 33,
          "sf": "div at int.jl:230 [inlined]",
          "status": "Default",
          "x1": 2603,
          "x2": 2605.9
         },
         {
          "level": 34,
          "sf": "flipsign at int.jl:142 [inlined]",
          "status": "Default",
          "x1": 2603,
          "x2": 2605.9
         },
         {
          "level": 32,
          "sf": "length(r::StepRange{Int64, Int64}) at range.jl:786",
          "status": "Default",
          "x1": 2606,
          "x2": 2606.9
         },
         {
          "level": 33,
          "sf": "+ at int.jl:87 [inlined]",
          "status": "Default",
          "x1": 2606,
          "x2": 2606.9
         },
         {
          "level": 29,
          "sf": "setindex! at array.jl:969 [inlined]",
          "status": "Default",
          "x1": 2607,
          "x2": 2613.9
         },
         {
          "level": 29,
          "sf": "getindex at essentials.jl:13 [inlined]",
          "status": "Default",
          "x1": 2614,
          "x2": 2615.9
         },
         {
          "level": 28,
          "sf": "diagind at dense.jl:225 [inlined]",
          "status": "Default",
          "x1": 2616,
          "x2": 2620.9
         },
         {
          "level": 29,
          "sf": "diagind at dense.jl:201 [inlined]",
          "status": "Default",
          "x1": 2616,
          "x2": 2620.9
         },
         {
          "level": 30,
          "sf": "range at range.jl:142 [inlined]",
          "status": "Default",
          "x1": 2616,
          "x2": 2620.9
         },
         {
          "level": 31,
          "sf": "#range#70 at range.jl:142 [inlined]",
          "status": "Default",
          "x1": 2616,
          "x2": 2620.9
         },
         {
          "level": 32,
          "sf": "_range at range.jl:163 [inlined]",
          "status": "Default",
          "x1": 2616,
          "x2": 2620.9
         },
         {
          "level": 33,
          "sf": "range_start_step_length at range.jl:211 [inlined]",
          "status": "Default",
          "x1": 2616,
          "x2": 2620.9
         },
         {
          "level": 34,
          "sf": "StepRange at range.jl:320 [inlined]",
          "status": "Default",
          "x1": 2616,
          "x2": 2620.9
         },
         {
          "level": 35,
          "sf": "steprange_last(start::Int64, step::Int64, stop::Int64) at int.jl:0",
          "status": "Default",
          "x1": 2616,
          "x2": 2617.9
         },
         {
          "level": 35,
          "sf": "steprange_last(start::Int64, step::Int64, stop::Int64) at range.jl:325",
          "status": "Default",
          "x1": 2618,
          "x2": 2619.9
         },
         {
          "level": 35,
          "sf": "steprange_last(start::Int64, step::Int64, stop::Int64) at range.jl:333",
          "status": "Default",
          "x1": 2620,
          "x2": 2620.9
         },
         {
          "level": 36,
          "sf": "== at promotion.jl:499 [inlined]",
          "status": "Default",
          "x1": 2620,
          "x2": 2620.9
         },
         {
          "level": 27,
          "sf": "steprange_last(start::Int64, step::Int64, stop::Int64) at range.jl:325",
          "status": "Default",
          "x1": 2621,
          "x2": 2621.9
         },
         {
          "level": 25,
          "sf": "predict_f(gp::GaussianProcesses.GPE{Matrix{Float64}, Vector{Float64}, GaussianProcesses.MeanZero, GaussianProcesses.Mat12Iso{Float64}, GaussianProcesses.FullCovariance, GaussianProcesses.IsotropicData{Matrix{Float64}}, PDMats.PDMat{Float64, Matrix{Float64}}, GaussianProcesses.Scalar{Float64}}, x::Base.ReshapedArray{Float64, 2, LinearAlgebra.Adjoint{Float64, Vector{Float64}}, Tuple{}}; full_cov::Bool) at GP.jl:76",
          "status": "Default",
          "x1": 2622,
          "x2": 2622.9
         },
         {
          "level": 26,
          "sf": "iterate at range.jl:891 [inlined]",
          "status": "Default",
          "x1": 2622,
          "x2": 2622.9
         },
         {
          "level": 27,
          "sf": "== at promotion.jl:499 [inlined]",
          "status": "Default",
          "x1": 2622,
          "x2": 2622.9
         },
         {
          "level": 25,
          "sf": "predict_f(gp::GaussianProcesses.GPE{Matrix{Float64}, Vector{Float64}, GaussianProcesses.MeanZero, GaussianProcesses.Mat12Iso{Float64}, GaussianProcesses.FullCovariance, GaussianProcesses.IsotropicData{Matrix{Float64}}, PDMats.PDMat{Float64, Matrix{Float64}}, GaussianProcesses.Scalar{Float64}}, x::Base.ReshapedArray{Float64, 2, LinearAlgebra.Adjoint{Float64, Vector{Float64}}, Tuple{}}; full_cov::Bool) at GP.jl:77",
          "status": "Garbage collection",
          "x1": 2623,
          "x2": 2674.9
         },
         {
          "level": 25,
          "sf": "_unsafe_getindex(::IndexLinear, ::Base.ReshapedArray{Float64, 2, LinearAlgebra.Adjoint{Float64, Vector{Float64}}, Tuple{}}, ::Base.Slice{Base.OneTo{Int64}}, ::UnitRange{Int64}) at multidimensional.jl:870",
          "status": "Default",
          "x1": 2675,
          "x2": 2675.9
         },
         {
          "level": 23,
          "sf": "(::BayesianSafetyValidation.var\"#21#23\")(y::Vector{Float64}) at surrogate_model.jl:33",
          "status": "Default",
          "x1": 2682,
          "x2": 2682.9
         },
         {
          "level": 23,
          "sf": "predict_f(gp::GaussianProcesses.GPE{Matrix{Float64}, Vector{Float64}, GaussianProcesses.MeanZero, GaussianProcesses.Mat12Iso{Float64}, GaussianProcesses.FullCovariance, GaussianProcesses.IsotropicData{Matrix{Float64}}, PDMats.PDMat{Float64, Matrix{Float64}}, GaussianProcesses.Scalar{Float64}}, x::Base.ReshapedArray{Float64, 2, LinearAlgebra.Adjoint{Float64, Vector{Float64}}, Tuple{}}; full_cov::Bool) at GP.jl:0",
          "status": "Default",
          "x1": 2683,
          "x2": 2683.9
         },
         {
          "level": 15,
          "sf": "similar at broadcast.jl:211 [inlined]",
          "status": "Default",
          "x1": 2684,
          "x2": 2694.9
         },
         {
          "level": 16,
          "sf": "similar at broadcast.jl:212 [inlined]",
          "status": "Default",
          "x1": 2684,
          "x2": 2694.9
         },
         {
          "level": 17,
          "sf": "similar at abstractarray.jl:881 [inlined]",
          "status": "Default",
          "x1": 2684,
          "x2": 2694.9
         },
         {
          "level": 18,
          "sf": "similar at abstractarray.jl:882 [inlined]",
          "status": "Default",
          "x1": 2684,
          "x2": 2694.9
         },
         {
          "level": 19,
          "sf": "Array at boot.jl:494 [inlined]",
          "status": "Default",
          "x1": 2684,
          "x2": 2694.9
         },
         {
          "level": 20,
          "sf": "Array at boot.jl:488 [inlined]",
          "status": "Default",
          "x1": 2684,
          "x2": 2694.9
         },
         {
          "level": 21,
          "sf": "Array at boot.jl:481 [inlined]",
          "status": "Default",
          "x1": 2684,
          "x2": 2694.9
         },
         {
          "level": 10,
          "sf": "bayesian_safety_validation(sparams::DummyParameters, models::Vector{OperationalParameters}; gp::Nothing, T::Int64, λ::Float64, seed::Int64, initialize_system::Bool, reset_system::Bool, show_acquisition_plots::Bool, show_plots::Bool, show_combined_plot::Bool, show_tight_combined_plot::Bool, hide_model_after_first::Bool, only_plot_last::Bool, latex_labels::Bool, show_alert::Bool, acquisitions_to_run::Vector{Int64}, probability_valued_system::Bool, skip_if_no_failures::Bool, save_plots::Bool, save_plots_svg::Bool, plots_dir::String, samples_per_batch::Int64, single_failure_mode::Bool, refit_every_point::Bool, input_discretization_steps::Int64, p_estimate_discretization_steps::Int64, match_original::Bool, kwargs::Base.Pairs{Symbol, Union{}, Tuple{}, NamedTuple{(), Tuple{}}}) at bayesian_safety_validation.jl:82",
          "status": "Default",
          "x1": 2696,
          "x2": 3316.9
         },
         {
          "level": 11,
          "sf": "p_output at surrogate_model.jl:87 [inlined]",
          "status": "Default",
          "x1": 2696,
          "x2": 3316.9
         },
         {
          "level": 12,
          "sf": "p_output(models::Vector{OperationalParameters}; num_steps::Int64, m::Vector{Int64}) at surrogate_model.jl:88",
          "status": "Default",
          "x1": 2696,
          "x2": 2696.9
         },
         {
          "level": 13,
          "sf": "make_broadcastable_grid(models::Vector{OperationalParameters}, m::Vector{Int64}) at surrogate_model.jl:63",
          "status": "Runtime dispatch",
          "x1": 2696,
          "x2": 2696.9
         },
         {
          "level": 14,
          "sf": "make_broadcastable_grid(inputs::Vector{Vector{Float64}}) at surrogate_model.jl:67",
          "status": "Default",
          "x1": 2696,
          "x2": 2696.9
         },
         {
          "level": 15,
          "sf": "collect(itr::Base.Generator{Base.Iterators.Enumerate{Vector{Vector{Float64}}}, BayesianSafetyValidation.var\"#34#35\"{Vector{Vector{Float64}}}}) at array.jl:782",
          "status": "Default",
          "x1": 2696,
          "x2": 2696.9
         },
         {
          "level": 16,
          "sf": "iterate at generator.jl:47 [inlined]",
          "status": "Default",
          "x1": 2696,
          "x2": 2696.9
         },
         {
          "level": 17,
          "sf": "(::BayesianSafetyValidation.var\"#34#35\"{Vector{Vector{Float64}}})(::Tuple{Int64, Vector{Float64}}) at array.jl:0",
          "status": "Runtime dispatch",
          "x1": 2696,
          "x2": 2696.9
         },
         {
          "level": 18,
          "sf": "vect(::Function, ::Vararg{Any}) at array.jl:144",
          "status": "Runtime dispatch",
          "x1": 2696,
          "x2": 2696.9
         },
         {
          "level": 12,
          "sf": "p_output(models::Vector{OperationalParameters}; num_steps::Int64, m::Vector{Int64}) at surrogate_model.jl:91",
          "status": "Runtime dispatch",
          "x1": 2697,
          "x2": 3316.9
         },
         {
          "level": 13,
          "sf": "materialize(bc::Base.Broadcast.Broadcasted{Base.Broadcast.DefaultArrayStyle{3}, Nothing, BayesianSafetyValidation.var\"#40#41\"{Vector{OperationalParameters}}, Tuple{Array{Float64, 3}, Array{Float64, 3}, Array{Float64, 3}}}) at broadcast.jl:873",
          "status": "Default",
          "x1": 2697,
          "x2": 3316.9
         },
         {
          "level": 14,
          "sf": "copy at broadcast.jl:913 [inlined]",
          "status": "Runtime dispatch",
          "x1": 2697,
          "x2": 2697.9
         },
         {
          "level": 15,
          "sf": "similar(bc::Base.Broadcast.Broadcasted{Base.Broadcast.DefaultArrayStyle{3}, Tuple{Base.OneTo{Int64}, Base.OneTo{Int64}, Base.OneTo{Int64}}, BayesianSafetyValidation.var\"#40#41\"{Vector{OperationalParameters}}, Tuple{Base.Broadcast.Extruded{Array{Float64, 3}, Tuple{Bool, Bool, Bool}, Tuple{Int64, Int64, Int64}}, Base.Broadcast.Extruded{Array{Float64, 3}, Tuple{Bool, Bool, Bool}, Tuple{Int64, Int64, Int64}}, Base.Broadcast.Extruded{Array{Float64, 3}, Tuple{Bool, Bool, Bool}, Tuple{Int64, Int64, Int64}}}}, #unused#::Type{Float64}) at broadcast.jl:211",
          "status": "Default",
          "x1": 2697,
          "x2": 2697.9
         },
         {
          "level": 16,
          "sf": "similar at broadcast.jl:212 [inlined]",
          "status": "Default",
          "x1": 2697,
          "x2": 2697.9
         },
         {
          "level": 17,
          "sf": "similar at abstractarray.jl:881 [inlined]",
          "status": "Default",
          "x1": 2697,
          "x2": 2697.9
         },
         {
          "level": 18,
          "sf": "similar at abstractarray.jl:882 [inlined]",
          "status": "Default",
          "x1": 2697,
          "x2": 2697.9
         },
         {
          "level": 19,
          "sf": "Array at boot.jl:494 [inlined]",
          "status": "Default",
          "x1": 2697,
          "x2": 2697.9
         },
         {
          "level": 20,
          "sf": "Array at boot.jl:488 [inlined]",
          "status": "Default",
          "x1": 2697,
          "x2": 2697.9
         },
         {
          "level": 21,
          "sf": "Array at boot.jl:481 [inlined]",
          "status": "Default",
          "x1": 2697,
          "x2": 2697.9
         },
         {
          "level": 14,
          "sf": "copy at broadcast.jl:920 [inlined]",
          "status": "Runtime dispatch",
          "x1": 2698,
          "x2": 3316.9
         },
         {
          "level": 15,
          "sf": "copyto_nonleaf!(dest::Array{Float64, 3}, bc::Base.Broadcast.Broadcasted{Base.Broadcast.DefaultArrayStyle{3}, Tuple{Base.OneTo{Int64}, Base.OneTo{Int64}, Base.OneTo{Int64}}, BayesianSafetyValidation.var\"#40#41\"{Vector{OperationalParameters}}, Tuple{Base.Broadcast.Extruded{Array{Float64, 3}, Tuple{Bool, Bool, Bool}, Tuple{Int64, Int64, Int64}}, Base.Broadcast.Extruded{Array{Float64, 3}, Tuple{Bool, Bool, Bool}, Tuple{Int64, Int64, Int64}}, Base.Broadcast.Extruded{Array{Float64, 3}, Tuple{Bool, Bool, Bool}, Tuple{Int64, Int64, Int64}}}}, iter::CartesianIndices{3, Tuple{Base.OneTo{Int64}, Base.OneTo{Int64}, Base.OneTo{Int64}}}, state::CartesianIndex{3}, count::Int64) at broadcast.jl:0",
          "status": "Default",
          "x1": 2698,
          "x2": 2698.9
         },
         {
          "level": 15,
          "sf": "copyto_nonleaf!(dest::Array{Float64, 3}, bc::Base.Broadcast.Broadcasted{Base.Broadcast.DefaultArrayStyle{3}, Tuple{Base.OneTo{Int64}, Base.OneTo{Int64}, Base.OneTo{Int64}}, BayesianSafetyValidation.var\"#40#41\"{Vector{OperationalParameters}}, Tuple{Base.Broadcast.Extruded{Array{Float64, 3}, Tuple{Bool, Bool, Bool}, Tuple{Int64, Int64, Int64}}, Base.Broadcast.Extruded{Array{Float64, 3}, Tuple{Bool, Bool, Bool}, Tuple{Int64, Int64, Int64}}, Base.Broadcast.Extruded{Array{Float64, 3}, Tuple{Bool, Bool, Bool}, Tuple{Int64, Int64, Int64}}}}, iter::CartesianIndices{3, Tuple{Base.OneTo{Int64}, Base.OneTo{Int64}, Base.OneTo{Int64}}}, state::CartesianIndex{3}, count::Int64) at broadcast.jl:1068",
          "status": "Default",
          "x1": 2699,
          "x2": 3311.9
         },
         {
          "level": 16,
          "sf": "getindex at broadcast.jl:610 [inlined]",
          "status": "Default",
          "x1": 2699,
          "x2": 3311.9
         },
         {
          "level": 17,
          "sf": "_broadcast_getindex at broadcast.jl:655 [inlined]",
          "status": "Default",
          "x1": 2699,
          "x2": 2705.9
         },
         {
          "level": 18,
          "sf": "_getindex at broadcast.jl:679 [inlined]",
          "status": "Default",
          "x1": 2699,
          "x2": 2705.9
         },
         {
          "level": 19,
          "sf": "_broadcast_getindex at broadcast.jl:649 [inlined]",
          "status": "Default",
          "x1": 2699,
          "x2": 2699.9
         },
         {
          "level": 20,
          "sf": "getindex at multidimensional.jl:668 [inlined]",
          "status": "Default",
          "x1": 2699,
          "x2": 2699.9
         },
         {
          "level": 21,
          "sf": "getindex at essentials.jl:14 [inlined]",
          "status": "Default",
          "x1": 2699,
          "x2": 2699.9
         },
         {
          "level": 19,
          "sf": "_getindex at broadcast.jl:679 [inlined]",
          "status": "Default",
          "x1": 2700,
          "x2": 2705.9
         },
         {
          "level": 20,
          "sf": "_broadcast_getindex at broadcast.jl:649 [inlined]",
          "status": "Default",
          "x1": 2700,
          "x2": 2702.9
         },
         {
          "level": 21,
          "sf": "newindex at broadcast.jl:588 [inlined]",
          "status": "Default",
          "x1": 2700,
          "x2": 2700.9
         },
         {
          "level": 22,
          "sf": "_newindex at broadcast.jl:591 [inlined]",
          "status": "Default",
          "x1": 2700,
          "x2": 2700.9
         },
         {
          "level": 23,
          "sf": "_newindex at broadcast.jl:591 [inlined]",
          "status": "Default",
          "x1": 2700,
          "x2": 2700.9
         },
         {
          "level": 24,
          "sf": "ifelse at essentials.jl:575 [inlined]",
          "status": "Default",
          "x1": 2700,
          "x2": 2700.9
         },
         {
          "level": 21,
          "sf": "getindex at multidimensional.jl:668 [inlined]",
          "status": "Default",
          "x1": 2701,
          "x2": 2702.9
         },
         {
          "level": 22,
          "sf": "getindex at essentials.jl:14 [inlined]",
          "status": "Default",
          "x1": 2701,
          "x2": 2702.9
         },
         {
          "level": 20,
          "sf": "_getindex at broadcast.jl:680 [inlined]",
          "status": "Default",
          "x1": 2703,
          "x2": 2705.9
         },
         {
          "level": 21,
          "sf": "_broadcast_getindex at broadcast.jl:649 [inlined]",
          "status": "Default",
          "x1": 2703,
          "x2": 2705.9
         },
         {
          "level": 22,
          "sf": "getindex at multidimensional.jl:668 [inlined]",
          "status": "Default",
          "x1": 2703,
          "x2": 2705.9
         },
         {
          "level": 23,
          "sf": "getindex at essentials.jl:14 [inlined]",
          "status": "Default",
          "x1": 2703,
          "x2": 2705.9
         },
         {
          "level": 17,
          "sf": "_broadcast_getindex at broadcast.jl:656 [inlined]",
          "status": "Default",
          "x1": 2706,
          "x2": 3311.9
         },
         {
          "level": 18,
          "sf": "_broadcast_getindex_evalf at broadcast.jl:683 [inlined]",
          "status": "Default",
          "x1": 2706,
          "x2": 3311.9
         },
         {
          "level": 19,
          "sf": "#40 at surrogate_model.jl:90 [inlined]",
          "status": "Runtime dispatch",
          "x1": 2706,
          "x2": 3311.9
         },
         {
          "level": 20,
          "sf": "vect at array.jl:126 [inlined]",
          "status": "Default",
          "x1": 2706,
          "x2": 2745.9
         },
         {
          "level": 21,
          "sf": "_array_for at array.jl:674 [inlined]",
          "status": "Default",
          "x1": 2706,
          "x2": 2744.9
         },
         {
          "level": 22,
          "sf": "_array_for at array.jl:671 [inlined]",
          "status": "Default",
          "x1": 2706,
          "x2": 2744.9
         },
         {
          "level": 23,
          "sf": "similar at abstractarray.jl:881 [inlined]",
          "status": "Default",
          "x1": 2706,
          "x2": 2744.9
         },
         {
          "level": 24,
          "sf": "similar at abstractarray.jl:882 [inlined]",
          "status": "Default",
          "x1": 2706,
          "x2": 2744.9
         },
         {
          "level": 25,
          "sf": "Array at boot.jl:486 [inlined]",
          "status": "Default",
          "x1": 2706,
          "x2": 2744.9
         },
         {
          "level": 26,
          "sf": "Array at boot.jl:477 [inlined]",
          "status": "Garbage collection",
          "x1": 2706,
          "x2": 2744.9
         },
         {
          "level": 21,
          "sf": "setindex! at array.jl:969 [inlined]",
          "status": "Default",
          "x1": 2745,
          "x2": 2745.9
         },
         {
          "level": 20,
          "sf": "pdf(models::Vector{OperationalParameters}, x::Vector{Float64}) at parameters.jl:12",
          "status": "Garbage collection",
          "x1": 2747,
          "x2": 3309.9
         },
         {
          "level": 21,
          "sf": "collect(itr::Base.Generator{Base.Iterators.Enumerate{Vector{OperationalParameters}}, BayesianSafetyValidation.var\"#5#6\"{Vector{Float64}}}) at array.jl:782",
          "status": "Default",
          "x1": 2747,
          "x2": 2787.9
         },
         {
          "level": 22,
          "sf": "iterate at generator.jl:47 [inlined]",
          "status": "Default",
          "x1": 2747,
          "x2": 2787.9
         },
         {
          "level": 23,
          "sf": "(::BayesianSafetyValidation.var\"#5#6\"{Vector{Float64}})(::Tuple{Int64, OperationalParameters}) at none:0",
          "status": "Garbage collection",
          "x1": 2747,
          "x2": 2787.9
         },
         {
          "level": 24,
          "sf": "getindex at essentials.jl:13 [inlined]",
          "status": "Default",
          "x1": 2747,
          "x2": 2749.9
         },
         {
          "level": 24,
          "sf": "indexed_iterate at tuple.jl:88 [inlined]",
          "status": "Default",
          "x1": 2750,
          "x2": 2750.9
         },
         {
          "level": 25,
          "sf": "indexed_iterate at tuple.jl:88 [inlined]",
          "status": "Default",
          "x1": 2750,
          "x2": 2750.9
         },
         {
          "level": 24,
          "sf": "pdf(d::Uniform{Float64}, x::Float64) at uniform.jl:74",
          "status": "Default",
          "x1": 2770,
          "x2": 2773.9
         },
         {
          "level": 24,
          "sf": "pdf(d::Uniform{Float64}, x::Float64) at uniform.jl:77",
          "status": "Default",
          "x1": 2774,
          "x2": 2774.9
         },
         {
          "level": 25,
          "sf": "- at float.jl:409 [inlined]",
          "status": "Default",
          "x1": 2774,
          "x2": 2774.9
         },
         {
          "level": 24,
          "sf": "pdf(d::Uniform{Float64}, x::Float64) at uniform.jl:78",
          "status": "Default",
          "x1": 2775,
          "x2": 2779.9
         },
         {
          "level": 21,
          "sf": "collect(itr::Base.Generator{Base.Iterators.Enumerate{Vector{OperationalParameters}}, BayesianSafetyValidation.var\"#5#6\"{Vector{Float64}}}) at array.jl:787",
          "status": "Garbage collection",
          "x1": 2788,
          "x2": 2993.9
         },
         {
          "level": 22,
          "sf": "_array_for(#unused#::Type{Float64}, #unused#::Base.HasShape{1}, axs::Tuple{Base.OneTo{Int64}}) at array.jl:671",
          "status": "Default",
          "x1": 2933,
          "x2": 2978.9
         },
         {
          "level": 23,
          "sf": "similar at abstractarray.jl:881 [inlined]",
          "status": "Default",
          "x1": 2933,
          "x2": 2977.9
         },
         {
          "level": 24,
          "sf": "similar at abstractarray.jl:882 [inlined]",
          "status": "Default",
          "x1": 2933,
          "x2": 2977.9
         },
         {
          "level": 25,
          "sf": "Array at boot.jl:486 [inlined]",
          "status": "Default",
          "x1": 2933,
          "x2": 2977.9
         },
         {
          "level": 26,
          "sf": "Array at boot.jl:477 [inlined]",
          "status": "Garbage collection",
          "x1": 2933,
          "x2": 2977.9
         },
         {
          "level": 21,
          "sf": "collect(itr::Base.Generator{Base.Iterators.Enumerate{Vector{OperationalParameters}}, BayesianSafetyValidation.var\"#5#6\"{Vector{Float64}}}) at array.jl:792",
          "status": "Garbage collection",
          "x1": 2994,
          "x2": 3202.9
         },
         {
          "level": 22,
          "sf": "collect_to_with_first!(dest::Vector{Float64}, v1::Float64, itr::Base.Generator{Base.Iterators.Enumerate{Vector{OperationalParameters}}, BayesianSafetyValidation.var\"#5#6\"{Vector{Float64}}}, st::Tuple{Int64, Int64}) at array.jl:818",
          "status": "Default",
          "x1": 3029,
          "x2": 3196.9
         },
         {
          "level": 23,
          "sf": "collect_to!(dest::Vector{Float64}, itr::Base.Generator{Base.Iterators.Enumerate{Vector{OperationalParameters}}, BayesianSafetyValidation.var\"#5#6\"{Vector{Float64}}}, offs::Int64, st::Tuple{Int64, Int64}) at array.jl:0",
          "status": "Default",
          "x1": 3029,
          "x2": 3030.9
         },
         {
          "level": 23,
          "sf": "collect_to!(dest::Vector{Float64}, itr::Base.Generator{Base.Iterators.Enumerate{Vector{OperationalParameters}}, BayesianSafetyValidation.var\"#5#6\"{Vector{Float64}}}, offs::Int64, st::Tuple{Int64, Int64}) at array.jl:835",
          "status": "Default",
          "x1": 3031,
          "x2": 3034.9
         },
         {
          "level": 23,
          "sf": "collect_to!(dest::Vector{Float64}, itr::Base.Generator{Base.Iterators.Enumerate{Vector{OperationalParameters}}, BayesianSafetyValidation.var\"#5#6\"{Vector{Float64}}}, offs::Int64, st::Tuple{Int64, Int64}) at array.jl:840",
          "status": "Default",
          "x1": 3035,
          "x2": 3192.9
         },
         {
          "level": 24,
          "sf": "iterate at essentials.jl:0 [inlined]",
          "status": "Default",
          "x1": 3035,
          "x2": 3035.9
         },
         {
          "level": 24,
          "sf": "iterate at generator.jl:44 [inlined]",
          "status": "Default",
          "x1": 3036,
          "x2": 3038.9
         },
         {
          "level": 25,
          "sf": "iterate at iterators.jl:202 [inlined]",
          "status": "Default",
          "x1": 3036,
          "x2": 3038.9
         },
         {
          "level": 26,
          "sf": "iterate at array.jl:893 [inlined]",
          "status": "Default",
          "x1": 3036,
          "x2": 3038.9
         },
         {
          "level": 27,
          "sf": "< at int.jl:494 [inlined]",
          "status": "Default",
          "x1": 3036,
          "x2": 3037.9
         },
         {
          "level": 28,
          "sf": "< at int.jl:487 [inlined]",
          "status": "Default",
          "x1": 3036,
          "x2": 3037.9
         },
         {
          "level": 24,
          "sf": "iterate at generator.jl:47 [inlined]",
          "status": "Default",
          "x1": 3039,
          "x2": 3192.9
         },
         {
          "level": 25,
          "sf": "(::BayesianSafetyValidation.var\"#5#6\"{Vector{Float64}})(::Tuple{Int64, OperationalParameters}) at none:0",
          "status": "Garbage collection",
          "x1": 3039,
          "x2": 3189.9
         },
         {
          "level": 26,
          "sf": "getindex at essentials.jl:13 [inlined]",
          "status": "Default",
          "x1": 3039,
          "x2": 3042.9
         },
         {
          "level": 26,
          "sf": "indexed_iterate at tuple.jl:88 [inlined]",
          "status": "Default",
          "x1": 3043,
          "x2": 3044.9
         },
         {
          "level": 27,
          "sf": "indexed_iterate at tuple.jl:88 [inlined]",
          "status": "Default",
          "x1": 3043,
          "x2": 3044.9
         },
         {
          "level": 26,
          "sf": "pdf(d::Uniform{Float64}, x::Float64) at uniform.jl:74",
          "status": "Default",
          "x1": 3149,
          "x2": 3151.9
         },
         {
          "level": 26,
          "sf": "pdf(d::Uniform{Float64}, x::Float64) at uniform.jl:77",
          "status": "Default",
          "x1": 3152,
          "x2": 3154.9
         },
         {
          "level": 27,
          "sf": "- at float.jl:409 [inlined]",
          "status": "Default",
          "x1": 3152,
          "x2": 3154.9
         },
         {
          "level": 26,
          "sf": "pdf(d::Uniform{Float64}, x::Float64) at uniform.jl:78",
          "status": "Default",
          "x1": 3155,
          "x2": 3162.9
         },
         {
          "level": 23,
          "sf": "collect_to!(dest::Vector{Float64}, itr::Base.Generator{Base.Iterators.Enumerate{Vector{OperationalParameters}}, BayesianSafetyValidation.var\"#5#6\"{Vector{Float64}}}, offs::Int64, st::Tuple{Int64, Int64}) at array.jl:844",
          "status": "Default",
          "x1": 3193,
          "x2": 3194.9
         },
         {
          "level": 24,
          "sf": "setindex! at array.jl:969 [inlined]",
          "status": "Default",
          "x1": 3193,
          "x2": 3194.9
         },
         {
          "level": 23,
          "sf": "(::BayesianSafetyValidation.var\"#5#6\"{Vector{Float64}})(::Tuple{Int64, OperationalParameters}) at none:0",
          "status": "Default",
          "x1": 3195,
          "x2": 3195.9
         },
         {
          "level": 22,
          "sf": "collect_to!(dest::Vector{Float64}, itr::Base.Generator{Base.Iterators.Enumerate{Vector{OperationalParameters}}, BayesianSafetyValidation.var\"#5#6\"{Vector{Float64}}}, offs::Int64, st::Tuple{Int64, Int64}) at array.jl:835",
          "status": "Default",
          "x1": 3197,
          "x2": 3197.9
         },
         {
          "level": 21,
          "sf": "collect(itr::Base.Generator{Base.Iterators.Enumerate{Vector{OperationalParameters}}, BayesianSafetyValidation.var\"#5#6\"{Vector{Float64}}}) at boot.jl:0",
          "status": "Default",
          "x1": 3203,
          "x2": 3205.9
         },
         {
          "level": 21,
          "sf": "prod(a::Vector{Float64}) at reducedim.jl:994",
          "status": "Default",
          "x1": 3230,
          "x2": 3230.9
         },
         {
          "level": 21,
          "sf": "prod(a::Vector{Float64}) at reducedim.jl:994",
          "status": "Default",
          "x1": 3231,
          "x2": 3231.9
         },
         {
          "level": 15,
          "sf": "copyto_nonleaf!(dest::Array{Float64, 3}, bc::Base.Broadcast.Broadcasted{Base.Broadcast.DefaultArrayStyle{3}, Tuple{Base.OneTo{Int64}, Base.OneTo{Int64}, Base.OneTo{Int64}}, BayesianSafetyValidation.var\"#40#41\"{Vector{OperationalParameters}}, Tuple{Base.Broadcast.Extruded{Array{Float64, 3}, Tuple{Bool, Bool, Bool}, Tuple{Int64, Int64, Int64}}, Base.Broadcast.Extruded{Array{Float64, 3}, Tuple{Bool, Bool, Bool}, Tuple{Int64, Int64, Int64}}, Base.Broadcast.Extruded{Array{Float64, 3}, Tuple{Bool, Bool, Bool}, Tuple{Int64, Int64, Int64}}}}, iter::CartesianIndices{3, Tuple{Base.OneTo{Int64}, Base.OneTo{Int64}, Base.OneTo{Int64}}}, state::CartesianIndex{3}, count::Int64) at broadcast.jl:1070",
          "status": "Default",
          "x1": 3312,
          "x2": 3315.9
         },
         {
          "level": 16,
          "sf": "setindex! at multidimensional.jl:670 [inlined]",
          "status": "Default",
          "x1": 3312,
          "x2": 3315.9
         },
         {
          "level": 17,
          "sf": "setindex! at array.jl:971 [inlined]",
          "status": "Default",
          "x1": 3312,
          "x2": 3315.9
         },
         {
          "level": 15,
          "sf": "copyto_nonleaf!(dest::Array{Float64, 3}, bc::Base.Broadcast.Broadcasted{Base.Broadcast.DefaultArrayStyle{3}, Tuple{Base.OneTo{Int64}, Base.OneTo{Int64}, Base.OneTo{Int64}}, BayesianSafetyValidation.var\"#40#41\"{Vector{OperationalParameters}}, Tuple{Base.Broadcast.Extruded{Array{Float64, 3}, Tuple{Bool, Bool, Bool}, Tuple{Int64, Int64, Int64}}, Base.Broadcast.Extruded{Array{Float64, 3}, Tuple{Bool, Bool, Bool}, Tuple{Int64, Int64, Int64}}, Base.Broadcast.Extruded{Array{Float64, 3}, Tuple{Bool, Bool, Bool}, Tuple{Int64, Int64, Int64}}}}, iter::CartesianIndices{3, Tuple{Base.OneTo{Int64}, Base.OneTo{Int64}, Base.OneTo{Int64}}}, state::CartesianIndex{3}, count::Int64) at broadcast.jl:1077",
          "status": "Default",
          "x1": 3316,
          "x2": 3316.9
         },
         {
          "level": 16,
          "sf": "+ at int.jl:87 [inlined]",
          "status": "Default",
          "x1": 3316,
          "x2": 3316.9
         },
         {
          "level": 10,
          "sf": "bayesian_safety_validation(sparams::DummyParameters, models::Vector{OperationalParameters}; gp::Nothing, T::Int64, λ::Float64, seed::Int64, initialize_system::Bool, reset_system::Bool, show_acquisition_plots::Bool, show_plots::Bool, show_combined_plot::Bool, show_tight_combined_plot::Bool, hide_model_after_first::Bool, only_plot_last::Bool, latex_labels::Bool, show_alert::Bool, acquisitions_to_run::Vector{Int64}, probability_valued_system::Bool, skip_if_no_failures::Bool, save_plots::Bool, save_plots_svg::Bool, plots_dir::String, samples_per_batch::Int64, single_failure_mode::Bool, refit_every_point::Bool, input_discretization_steps::Int64, p_estimate_discretization_steps::Int64, match_original::Bool, kwargs::Base.Pairs{Symbol, Union{}, Tuple{}, NamedTuple{(), Tuple{}}}) at bayesian_safety_validation.jl:85",
          "status": "Default",
          "x1": 3317,
          "x2": 3317.9
         },
         {
          "level": 11,
          "sf": "println(::String, ::String) at coreio.jl:4",
          "status": "Runtime dispatch",
          "x1": 3317,
          "x2": 3317.9
         },
         {
          "level": 12,
          "sf": "println(::IJulia.IJuliaStdio{Base.PipeEndpoint}, ::String, ::Vararg{String}) at io.jl:75",
          "status": "Runtime dispatch",
          "x1": 3317,
          "x2": 3317.9
         },
         {
          "level": 10,
          "sf": "bayesian_safety_validation(sparams::DummyParameters, models::Vector{OperationalParameters}; gp::Nothing, T::Int64, λ::Float64, seed::Int64, initialize_system::Bool, reset_system::Bool, show_acquisition_plots::Bool, show_plots::Bool, show_combined_plot::Bool, show_tight_combined_plot::Bool, hide_model_after_first::Bool, only_plot_last::Bool, latex_labels::Bool, show_alert::Bool, acquisitions_to_run::Vector{Int64}, probability_valued_system::Bool, skip_if_no_failures::Bool, save_plots::Bool, save_plots_svg::Bool, plots_dir::String, samples_per_batch::Int64, single_failure_mode::Bool, refit_every_point::Bool, input_discretization_steps::Int64, p_estimate_discretization_steps::Int64, match_original::Bool, kwargs::Base.Pairs{Symbol, Union{}, Tuple{}, NamedTuple{(), Tuple{}}}) at bayesian_safety_validation.jl:93",
          "status": "Default",
          "x1": 3318,
          "x2": 3319.9
         },
         {
          "level": 11,
          "sf": "macro expansion at logging.jl:365 [inlined]",
          "status": "Default",
          "x1": 3318,
          "x2": 3319.9
         },
         {
          "level": 12,
          "sf": "invokelatest at essentials.jl:813 [inlined]",
          "status": "Default",
          "x1": 3318,
          "x2": 3319.9
         },
         {
          "level": 13,
          "sf": "#invokelatest#2 at essentials.jl:816 [inlined]",
          "status": "Runtime dispatch",
          "x1": 3318,
          "x2": 3319.9
         },
         {
          "level": 14,
          "sf": "handle_message(logger::Logging.ConsoleLogger, level::Base.CoreLogging.LogLevel, message::Any, _module::Any, group::Any, id::Any, filepath::Any, line::Any) at ConsoleLogger.jl:106",
          "status": "Default",
          "x1": 3318,
          "x2": 3319.9
         },
         {
          "level": 15,
          "sf": "handle_message(logger::Logging.ConsoleLogger, level::Base.CoreLogging.LogLevel, message::Any, _module::Any, group::Any, id::Any, filepath::Any, line::Any; kwargs::Base.Pairs{Symbol, V, Tuple{Vararg{Symbol, N}}, NamedTuple{names, T}} where {V, N, names, T<:Tuple{Vararg{Any, N}}}) at ConsoleLogger.jl:178",
          "status": "Runtime dispatch",
          "x1": 3318,
          "x2": 3319.9
         },
         {
          "level": 16,
          "sf": "write(s::IJulia.IJuliaStdio{Base.PipeEndpoint}, a::Vector{UInt8}) at io.jl:708",
          "status": "Default",
          "x1": 3318,
          "x2": 3319.9
         },
         {
          "level": 17,
          "sf": "unsafe_write at io.jl:685 [inlined]",
          "status": "Default",
          "x1": 3318,
          "x2": 3319.9
         },
         {
          "level": 18,
          "sf": "unsafe_write at io.jl:430 [inlined]",
          "status": "Default",
          "x1": 3318,
          "x2": 3319.9
         },
         {
          "level": 19,
          "sf": "unsafe_write(s::Base.PipeEndpoint, p::Ptr{UInt8}, n::UInt64) at stream.jl:1120",
          "status": "Default",
          "x1": 3318,
          "x2": 3319.9
         },
         {
          "level": 20,
          "sf": "uv_write(s::Base.PipeEndpoint, p::Ptr{UInt8}, n::UInt64) at stream.jl:1048",
          "status": "Default",
          "x1": 3318,
          "x2": 3319.9
         },
         {
          "level": 21,
          "sf": "wait() at task.jl:983",
          "status": "Default",
          "x1": 3318,
          "x2": 3318.9
         },
         {
          "level": 22,
          "sf": "poptask(W::Base.IntrusiveLinkedListSynchronized{Task}) at task.jl:974",
          "status": "Runtime dispatch",
          "x1": 3318,
          "x2": 3318.9
         },
         {
          "level": 23,
          "sf": "uv_readcb(handle::Ptr{Nothing}, nread::Int64, buf::Ptr{Nothing}) at stream.jl:706",
          "status": "Runtime dispatch",
          "x1": 3318,
          "x2": 3318.9
         },
         {
          "level": 24,
          "sf": "(::Base.var\"#readcb_specialized#712\")(stream::Base.PipeEndpoint, nread::Int64, nrequested::UInt64) at stream.jl:688",
          "status": "Default",
          "x1": 3318,
          "x2": 3318.9
         },
         {
          "level": 25,
          "sf": "notify at condition.jl:148 [inlined]",
          "status": "Default",
          "x1": 3318,
          "x2": 3318.9
         },
         {
          "level": 26,
          "sf": "notify at condition.jl:148 [inlined]",
          "status": "Default",
          "x1": 3318,
          "x2": 3318.9
         },
         {
          "level": 27,
          "sf": "#notify#622 at condition.jl:148 [inlined]",
          "status": "Default",
          "x1": 3318,
          "x2": 3318.9
         },
         {
          "level": 28,
          "sf": "notify(c::Base.GenericCondition{Base.Threads.SpinLock}, arg::Any, all::Bool, error::Bool) at condition.jl:154",
          "status": "Default",
          "x1": 3318,
          "x2": 3318.9
         },
         {
          "level": 29,
          "sf": "schedule at task.jl:838 [inlined]",
          "status": "Default",
          "x1": 3318,
          "x2": 3318.9
         },
         {
          "level": 30,
          "sf": "schedule(t::Task, arg::Any; error::Bool) at task.jl:849",
          "status": "Default",
          "x1": 3318,
          "x2": 3318.9
         },
         {
          "level": 31,
          "sf": "enq_work(t::Task) at task.jl:783",
          "status": "Default",
          "x1": 3318,
          "x2": 3318.9
         },
         {
          "level": 32,
          "sf": "push!(W::Base.IntrusiveLinkedListSynchronized{Task}, t::Task) at task.jl:700",
          "status": "Default",
          "x1": 3318,
          "x2": 3318.9
         },
         {
          "level": 21,
          "sf": "wait() at task.jl:984",
          "status": "Default",
          "x1": 3319,
          "x2": 3319.9
         },
         {
          "level": 22,
          "sf": "try_yieldto(undo::typeof(Base.ensure_rescheduled)) at task.jl:910",
          "status": "Default",
          "x1": 3319,
          "x2": 3319.9
         },
         {
          "level": 10,
          "sf": "bayesian_safety_validation(sparams::DummyParameters, models::Vector{OperationalParameters}; gp::Nothing, T::Int64, λ::Float64, seed::Int64, initialize_system::Bool, reset_system::Bool, show_acquisition_plots::Bool, show_plots::Bool, show_combined_plot::Bool, show_tight_combined_plot::Bool, hide_model_after_first::Bool, only_plot_last::Bool, latex_labels::Bool, show_alert::Bool, acquisitions_to_run::Vector{Int64}, probability_valued_system::Bool, skip_if_no_failures::Bool, save_plots::Bool, save_plots_svg::Bool, plots_dir::String, samples_per_batch::Int64, single_failure_mode::Bool, refit_every_point::Bool, input_discretization_steps::Int64, p_estimate_discretization_steps::Int64, match_original::Bool, kwargs::Base.Pairs{Symbol, Union{}, Tuple{}, NamedTuple{(), Tuple{}}}) at bayesian_safety_validation.jl:120",
          "status": "Runtime dispatch",
          "x1": 3320,
          "x2": 3788.9
         },
         {
          "level": 11,
          "sf": "kwcall(::NamedTuple{(:acq, :n, :match_original), Tuple{BayesianSafetyValidation.var\"#398#402\"{Float64, Bool}, Int64, Bool}}, ::typeof(sample_next_point), y::Array{Float64, 3}, F̂::Array{Tuple{Vector{Float64}, Vector{Float64}}, 3}, P::Array{Float64, 3}, models::Vector{OperationalParameters}) at surrogate_model.jl:206",
          "status": "Default",
          "x1": 3320,
          "x2": 3788.9
         },
         {
          "level": 12,
          "sf": "sample_next_point(y::Array{Float64, 3}, F̂::Array{Tuple{Vector{Float64}, Vector{Float64}}, 3}, P::Array{Float64, 3}, models::Vector{OperationalParameters}; n::Int64, r::Int64, acq::Function, return_weight::Bool, match_original::Bool) at surrogate_model.jl:207",
          "status": "Default",
          "x1": 3320,
          "x2": 3367.9
         },
         {
          "level": 13,
          "sf": "map(::Function, ::Array{Tuple{Vector{Float64}, Vector{Float64}}, 3}, ::Array{Float64, 3}) at abstractarray.jl:3383",
          "status": "Runtime dispatch",
          "x1": 3320,
          "x2": 3367.9
         },
         {
          "level": 14,
          "sf": "collect(itr::Base.Generator{Base.Iterators.Zip{Tuple{Array{Tuple{Vector{Float64}, Vector{Float64}}, 3}, Array{Float64, 3}}}, Base.var\"#4#5\"{BayesianSafetyValidation.var\"#398#402\"{Float64, Bool}}}) at array.jl:792",
          "status": "Default",
          "x1": 3320,
          "x2": 3367.9
         },
         {
          "level": 15,
          "sf": "collect_to_with_first! at array.jl:818 [inlined]",
          "status": "Default",
          "x1": 3320,
          "x2": 3367.9
         },
         {
          "level": 16,
          "sf": "collect_to!(dest::Array{Float64, 3}, itr::Base.Generator{Base.Iterators.Zip{Tuple{Array{Tuple{Vector{Float64}, Vector{Float64}}, 3}, Array{Float64, 3}}}, Base.var\"#4#5\"{BayesianSafetyValidation.var\"#398#402\"{Float64, Bool}}}, offs::Int64, st::Tuple{Int64, Int64}) at array.jl:840",
          "status": "Default",
          "x1": 3320,
          "x2": 3366.9
         },
         {
          "level": 17,
          "sf": "iterate at generator.jl:44 [inlined]",
          "status": "Default",
          "x1": 3320,
          "x2": 3320.9
         },
         {
          "level": 18,
          "sf": "iterate at iterators.jl:407 [inlined]",
          "status": "Default",
          "x1": 3320,
          "x2": 3320.9
         },
         {
          "level": 19,
          "sf": "_zip_iterate_all at iterators.jl:416 [inlined]",
          "status": "Default",
          "x1": 3320,
          "x2": 3320.9
         },
         {
          "level": 20,
          "sf": "_zip_iterate_some at iterators.jl:424 [inlined]",
          "status": "Default",
          "x1": 3320,
          "x2": 3320.9
         },
         {
          "level": 21,
          "sf": "iterate at array.jl:893 [inlined]",
          "status": "Default",
          "x1": 3320,
          "x2": 3320.9
         },
         {
          "level": 22,
          "sf": "< at int.jl:494 [inlined]",
          "status": "Default",
          "x1": 3320,
          "x2": 3320.9
         },
         {
          "level": 23,
          "sf": "< at int.jl:487 [inlined]",
          "status": "Default",
          "x1": 3320,
          "x2": 3320.9
         },
         {
          "level": 17,
          "sf": "iterate at generator.jl:47 [inlined]",
          "status": "Default",
          "x1": 3321,
          "x2": 3366.9
         },
         {
          "level": 18,
          "sf": "#4 at generator.jl:36 [inlined]",
          "status": "Default",
          "x1": 3321,
          "x2": 3366.9
         },
         {
          "level": 19,
          "sf": "#398 at bayesian_safety_validation.jl:113 [inlined]",
          "status": "Default",
          "x1": 3321,
          "x2": 3366.9
         },
         {
          "level": 20,
          "sf": "failure_region_sampling_acquisition at surrogate_model.jl:155 [inlined]",
          "status": "Default",
          "x1": 3321,
          "x2": 3366.9
         },
         {
          "level": 21,
          "sf": "#failure_region_sampling_acquisition#50 at surrogate_model.jl:156 [inlined]",
          "status": "Default",
          "x1": 3321,
          "x2": 3332.9
         },
         {
          "level": 22,
          "sf": "getindex at essentials.jl:13 [inlined]",
          "status": "Default",
          "x1": 3321,
          "x2": 3332.9
         },
         {
          "level": 21,
          "sf": "#failure_region_sampling_acquisition#50 at surrogate_model.jl:157 [inlined]",
          "status": "Default",
          "x1": 3333,
          "x2": 3336.9
         },
         {
          "level": 22,
          "sf": "getindex at essentials.jl:13 [inlined]",
          "status": "Default",
          "x1": 3333,
          "x2": 3336.9
         },
         {
          "level": 21,
          "sf": "#failure_region_sampling_acquisition#50 at surrogate_model.jl:158 [inlined]",
          "status": "Default",
          "x1": 3337,
          "x2": 3356.9
         },
         {
          "level": 22,
          "sf": "sqrt at math.jl:677 [inlined]",
          "status": "Default",
          "x1": 3337,
          "x2": 3356.9
         },
         {
          "level": 23,
          "sf": "< at float.jl:535 [inlined]",
          "status": "Default",
          "x1": 3337,
          "x2": 3356.9
         },
         {
          "level": 21,
          "sf": "#failure_region_sampling_acquisition#50 at surrogate_model.jl:160 [inlined]",
          "status": "Default",
          "x1": 3357,
          "x2": 3365.9
         },
         {
          "level": 22,
          "sf": "* at float.jl:410 [inlined]",
          "status": "Default",
          "x1": 3357,
          "x2": 3362.9
         },
         {
          "level": 22,
          "sf": "+ at float.jl:408 [inlined]",
          "status": "Default",
          "x1": 3363,
          "x2": 3365.9
         },
         {
          "level": 21,
          "sf": "#failure_region_sampling_acquisition#50 at surrogate_model.jl:163 [inlined]",
          "status": "Default",
          "x1": 3366,
          "x2": 3366.9
         },
         {
          "level": 22,
          "sf": "* at operators.jl:578 [inlined]",
          "status": "Default",
          "x1": 3366,
          "x2": 3366.9
         },
         {
          "level": 23,
          "sf": "* at bool.jl:180 [inlined]",
          "status": "Default",
          "x1": 3366,
          "x2": 3366.9
         },
         {
          "level": 24,
          "sf": "copysign at floatfuncs.jl:5 [inlined]",
          "status": "Default",
          "x1": 3366,
          "x2": 3366.9
         },
         {
          "level": 16,
          "sf": "collect_to!(dest::Array{Float64, 3}, itr::Base.Generator{Base.Iterators.Zip{Tuple{Array{Tuple{Vector{Float64}, Vector{Float64}}, 3}, Array{Float64, 3}}}, Base.var\"#4#5\"{BayesianSafetyValidation.var\"#398#402\"{Float64, Bool}}}, offs::Int64, st::Tuple{Int64, Int64}) at array.jl:844",
          "status": "Default",
          "x1": 3367,
          "x2": 3367.9
         },
         {
          "level": 17,
          "sf": "setindex! at array.jl:969 [inlined]",
          "status": "Default",
          "x1": 3367,
          "x2": 3367.9
         },
         {
          "level": 12,
          "sf": "sample_next_point(y::Array{Float64, 3}, F̂::Array{Tuple{Vector{Float64}, Vector{Float64}}, 3}, P::Array{Float64, 3}, models::Vector{OperationalParameters}; n::Int64, r::Int64, acq::Function, return_weight::Bool, match_original::Bool) at surrogate_model.jl:211",
          "status": "Runtime dispatch",
          "x1": 3368,
          "x2": 3379.9
         },
         {
          "level": 13,
          "sf": "normalize01(X::Array{Float64, 3}) at utils.jl:15",
          "status": "Default",
          "x1": 3368,
          "x2": 3379.9
         },
         {
          "level": 14,
          "sf": "/(A::Array{Float64, 3}, B::Float64) at arraymath.jl:24",
          "status": "Default",
          "x1": 3368,
          "x2": 3368.9
         },
         {
          "level": 15,
          "sf": "broadcast_preserving_zero_d at broadcast.jl:862 [inlined]",
          "status": "Default",
          "x1": 3368,
          "x2": 3368.9
         },
         {
          "level": 16,
          "sf": "materialize at broadcast.jl:873 [inlined]",
          "status": "Default",
          "x1": 3368,
          "x2": 3368.9
         },
         {
          "level": 17,
          "sf": "copy at broadcast.jl:898 [inlined]",
          "status": "Default",
          "x1": 3368,
          "x2": 3368.9
         },
         {
          "level": 18,
          "sf": "copyto! at broadcast.jl:926 [inlined]",
          "status": "Default",
          "x1": 3368,
          "x2": 3368.9
         },
         {
          "level": 19,
          "sf": "copyto! at broadcast.jl:973 [inlined]",
          "status": "Default",
          "x1": 3368,
          "x2": 3368.9
         },
         {
          "level": 20,
          "sf": "macro expansion at simdloop.jl:77 [inlined]",
          "status": "Default",
          "x1": 3368,
          "x2": 3368.9
         },
         {
          "level": 21,
          "sf": "macro expansion at broadcast.jl:974 [inlined]",
          "status": "Default",
          "x1": 3368,
          "x2": 3368.9
         },
         {
          "level": 22,
          "sf": "getindex at broadcast.jl:610 [inlined]",
          "status": "Default",
          "x1": 3368,
          "x2": 3368.9
         },
         {
          "level": 23,
          "sf": "_broadcast_getindex at broadcast.jl:655 [inlined]",
          "status": "Default",
          "x1": 3368,
          "x2": 3368.9
         },
         {
          "level": 24,
          "sf": "_getindex at broadcast.jl:679 [inlined]",
          "status": "Default",
          "x1": 3368,
          "x2": 3368.9
         },
         {
          "level": 25,
          "sf": "_broadcast_getindex at broadcast.jl:649 [inlined]",
          "status": "Default",
          "x1": 3368,
          "x2": 3368.9
         },
         {
          "level": 26,
          "sf": "getindex at multidimensional.jl:668 [inlined]",
          "status": "Default",
          "x1": 3368,
          "x2": 3368.9
         },
         {
          "level": 27,
          "sf": "getindex at essentials.jl:14 [inlined]",
          "status": "Default",
          "x1": 3368,
          "x2": 3368.9
         },
         {
          "level": 14,
          "sf": "materialize at broadcast.jl:873 [inlined]",
          "status": "Default",
          "x1": 3369,
          "x2": 3372.9
         },
         {
          "level": 15,
          "sf": "copy at broadcast.jl:898 [inlined]",
          "status": "Default",
          "x1": 3369,
          "x2": 3372.9
         },
         {
          "level": 16,
          "sf": "copyto! at broadcast.jl:926 [inlined]",
          "status": "Default",
          "x1": 3369,
          "x2": 3371.9
         },
         {
          "level": 17,
          "sf": "copyto! at broadcast.jl:973 [inlined]",
          "status": "Default",
          "x1": 3369,
          "x2": 3371.9
         },
         {
          "level": 18,
          "sf": "macro expansion at simdloop.jl:77 [inlined]",
          "status": "Default",
          "x1": 3369,
          "x2": 3371.9
         },
         {
          "level": 19,
          "sf": "macro expansion at broadcast.jl:974 [inlined]",
          "status": "Default",
          "x1": 3369,
          "x2": 3371.9
         },
         {
          "level": 20,
          "sf": "getindex at broadcast.jl:610 [inlined]",
          "status": "Default",
          "x1": 3369,
          "x2": 3371.9
         },
         {
          "level": 21,
          "sf": "_broadcast_getindex at broadcast.jl:655 [inlined]",
          "status": "Default",
          "x1": 3369,
          "x2": 3371.9
         },
         {
          "level": 22,
          "sf": "_getindex at broadcast.jl:679 [inlined]",
          "status": "Default",
          "x1": 3369,
          "x2": 3371.9
         },
         {
          "level": 23,
          "sf": "_broadcast_getindex at broadcast.jl:649 [inlined]",
          "status": "Default",
          "x1": 3369,
          "x2": 3371.9
         },
         {
          "level": 24,
          "sf": "getindex at multidimensional.jl:668 [inlined]",
          "status": "Default",
          "x1": 3369,
          "x2": 3371.9
         },
         {
          "level": 25,
          "sf": "getindex at essentials.jl:14 [inlined]",
          "status": "Default",
          "x1": 3369,
          "x2": 3371.9
         },
         {
          "level": 16,
          "sf": "similar at broadcast.jl:211 [inlined]",
          "status": "Default",
          "x1": 3372,
          "x2": 3372.9
         },
         {
          "level": 17,
          "sf": "similar at broadcast.jl:212 [inlined]",
          "status": "Default",
          "x1": 3372,
          "x2": 3372.9
         },
         {
          "level": 18,
          "sf": "similar at abstractarray.jl:881 [inlined]",
          "status": "Default",
          "x1": 3372,
          "x2": 3372.9
         },
         {
          "level": 19,
          "sf": "similar at abstractarray.jl:882 [inlined]",
          "status": "Default",
          "x1": 3372,
          "x2": 3372.9
         },
         {
          "level": 20,
          "sf": "Array at boot.jl:494 [inlined]",
          "status": "Default",
          "x1": 3372,
          "x2": 3372.9
         },
         {
          "level": 21,
          "sf": "Array at boot.jl:488 [inlined]",
          "status": "Default",
          "x1": 3372,
          "x2": 3372.9
         },
         {
          "level": 22,
          "sf": "Array at boot.jl:481 [inlined]",
          "status": "Default",
          "x1": 3372,
          "x2": 3372.9
         },
         {
          "level": 14,
          "sf": "maximum at reducedim.jl:994 [inlined]",
          "status": "Default",
          "x1": 3373,
          "x2": 3373.9
         },
         {
          "level": 15,
          "sf": "#maximum#815 at reducedim.jl:994 [inlined]",
          "status": "Default",
          "x1": 3373,
          "x2": 3373.9
         },
         {
          "level": 16,
          "sf": "_maximum at reducedim.jl:998 [inlined]",
          "status": "Default",
          "x1": 3373,
          "x2": 3373.9
         },
         {
          "level": 17,
          "sf": "#_maximum#817 at reducedim.jl:998 [inlined]",
          "status": "Default",
          "x1": 3373,
          "x2": 3373.9
         },
         {
          "level": 18,
          "sf": "_maximum at reducedim.jl:999 [inlined]",
          "status": "Default",
          "x1": 3373,
          "x2": 3373.9
         },
         {
          "level": 19,
          "sf": "#_maximum#818 at reducedim.jl:999 [inlined]",
          "status": "Default",
          "x1": 3373,
          "x2": 3373.9
         },
         {
          "level": 20,
          "sf": "mapreduce at reducedim.jl:357 [inlined]",
          "status": "Default",
          "x1": 3373,
          "x2": 3373.9
         },
         {
          "level": 21,
          "sf": "#mapreduce#800 at reducedim.jl:357 [inlined]",
          "status": "Default",
          "x1": 3373,
          "x2": 3373.9
         },
         {
          "level": 22,
          "sf": "_mapreduce_dim at reducedim.jl:365 [inlined]",
          "status": "Default",
          "x1": 3373,
          "x2": 3373.9
         },
         {
          "level": 23,
          "sf": "_mapreduce(f::typeof(identity), op::typeof(max), #unused#::IndexLinear, A::Array{Float64, 3}) at reduce.jl:442",
          "status": "Default",
          "x1": 3373,
          "x2": 3373.9
         },
         {
          "level": 24,
          "sf": "mapreduce_impl(f::typeof(identity), op::typeof(max), A::Array{Float64, 3}, first::Int64, last::Int64) at reduce.jl:649",
          "status": "Default",
          "x1": 3373,
          "x2": 3373.9
         },
         {
          "level": 25,
          "sf": "_fast at reduce.jl:621 [inlined]",
          "status": "Default",
          "x1": 3373,
          "x2": 3373.9
         },
         {
          "level": 26,
          "sf": "isnan at float.jl:619 [inlined]",
          "status": "Default",
          "x1": 3373,
          "x2": 3373.9
         },
         {
          "level": 27,
          "sf": "!= at float.jl:534 [inlined]",
          "status": "Default",
          "x1": 3373,
          "x2": 3373.9
         },
         {
          "level": 14,
          "sf": "minimum at reducedim.jl:994 [inlined]",
          "status": "Default",
          "x1": 3374,
          "x2": 3379.9
         },
         {
          "level": 15,
          "sf": "#minimum#819 at reducedim.jl:994 [inlined]",
          "status": "Default",
          "x1": 3374,
          "x2": 3379.9
         },
         {
          "level": 16,
          "sf": "_minimum at reducedim.jl:998 [inlined]",
          "status": "Default",
          "x1": 3374,
          "x2": 3379.9
         },
         {
          "level": 17,
          "sf": "#_minimum#821 at reducedim.jl:998 [inlined]",
          "status": "Default",
          "x1": 3374,
          "x2": 3379.9
         },
         {
          "level": 18,
          "sf": "_minimum at reducedim.jl:999 [inlined]",
          "status": "Default",
          "x1": 3374,
          "x2": 3379.9
         },
         {
          "level": 19,
          "sf": "#_minimum#822 at reducedim.jl:999 [inlined]",
          "status": "Default",
          "x1": 3374,
          "x2": 3379.9
         },
         {
          "level": 20,
          "sf": "mapreduce at reducedim.jl:357 [inlined]",
          "status": "Default",
          "x1": 3374,
          "x2": 3379.9
         },
         {
          "level": 21,
          "sf": "#mapreduce#800 at reducedim.jl:357 [inlined]",
          "status": "Default",
          "x1": 3374,
          "x2": 3379.9
         },
         {
          "level": 22,
          "sf": "_mapreduce_dim at reducedim.jl:365 [inlined]",
          "status": "Default",
          "x1": 3374,
          "x2": 3379.9
         },
         {
          "level": 23,
          "sf": "_mapreduce(f::typeof(identity), op::typeof(min), #unused#::IndexLinear, A::Array{Float64, 3}) at reduce.jl:442",
          "status": "Default",
          "x1": 3374,
          "x2": 3379.9
         },
         {
          "level": 24,
          "sf": "mapreduce_impl(f::typeof(identity), op::typeof(min), A::Array{Float64, 3}, first::Int64, last::Int64) at reduce.jl:0",
          "status": "Default",
          "x1": 3374,
          "x2": 3374.9
         },
         {
          "level": 24,
          "sf": "mapreduce_impl(f::typeof(identity), op::typeof(min), A::Array{Float64, 3}, first::Int64, last::Int64) at reduce.jl:649",
          "status": "Default",
          "x1": 3375,
          "x2": 3375.9
         },
         {
          "level": 25,
          "sf": "_fast at reduce.jl:627 [inlined]",
          "status": "Default",
          "x1": 3375,
          "x2": 3375.9
         },
         {
          "level": 26,
          "sf": "isnan at float.jl:619 [inlined]",
          "status": "Default",
          "x1": 3375,
          "x2": 3375.9
         },
         {
          "level": 27,
          "sf": "!= at float.jl:534 [inlined]",
          "status": "Default",
          "x1": 3375,
          "x2": 3375.9
         },
         {
          "level": 24,
          "sf": "mapreduce_impl(f::typeof(identity), op::typeof(min), A::Array{Float64, 3}, first::Int64, last::Int64) at reduce.jl:668",
          "status": "Default",
          "x1": 3376,
          "x2": 3377.9
         },
         {
          "level": 25,
          "sf": "getindex at essentials.jl:13 [inlined]",
          "status": "Default",
          "x1": 3376,
          "x2": 3377.9
         },
         {
          "level": 24,
          "sf": "mapreduce_impl(f::typeof(identity), op::typeof(min), A::Array{Float64, 3}, first::Int64, last::Int64) at reduce.jl:670",
          "status": "Default",
          "x1": 3378,
          "x2": 3379.9
         },
         {
          "level": 25,
          "sf": "iterate at range.jl:891 [inlined]",
          "status": "Default",
          "x1": 3378,
          "x2": 3379.9
         },
         {
          "level": 26,
          "sf": "== at promotion.jl:499 [inlined]",
          "status": "Default",
          "x1": 3378,
          "x2": 3379.9
         },
         {
          "level": 12,
          "sf": "sample_next_point(y::Array{Float64, 3}, F̂::Array{Tuple{Vector{Float64}, Vector{Float64}}, 3}, P::Array{Float64, 3}, models::Vector{OperationalParameters}; n::Int64, r::Int64, acq::Function, return_weight::Bool, match_original::Bool) at surrogate_model.jl:212",
          "status": "Default",
          "x1": 3380,
          "x2": 3381.9
         },
         {
          "level": 13,
          "sf": "make_broadcastable_grid(models::Vector{OperationalParameters}, m::Tuple{Int64, Int64, Int64}) at surrogate_model.jl:62",
          "status": "Runtime dispatch",
          "x1": 3380,
          "x2": 3380.9
         },
         {
          "level": 13,
          "sf": "make_broadcastable_grid(models::Vector{OperationalParameters}, m::Tuple{Int64, Int64, Int64}) at surrogate_model.jl:63",
          "status": "Runtime dispatch",
          "x1": 3381,
          "x2": 3381.9
         },
         {
          "level": 14,
          "sf": "make_broadcastable_grid(inputs::Vector{Vector{Float64}}) at surrogate_model.jl:67",
          "status": "Default",
          "x1": 3381,
          "x2": 3381.9
         },
         {
          "level": 15,
          "sf": "collect(itr::Base.Generator{Base.Iterators.Enumerate{Vector{Vector{Float64}}}, BayesianSafetyValidation.var\"#34#35\"{Vector{Vector{Float64}}}}) at array.jl:782",
          "status": "Default",
          "x1": 3381,
          "x2": 3381.9
         },
         {
          "level": 16,
          "sf": "iterate at generator.jl:47 [inlined]",
          "status": "Default",
          "x1": 3381,
          "x2": 3381.9
         },
         {
          "level": 17,
          "sf": "(::BayesianSafetyValidation.var\"#34#35\"{Vector{Vector{Float64}}})(::Tuple{Int64, Vector{Float64}}) at array.jl:0",
          "status": "Runtime dispatch",
          "x1": 3381,
          "x2": 3381.9
         },
         {
          "level": 18,
          "sf": "reshape(::Vector{Float64}, ::Colon, ::Int64, ::Vararg{Int64}) at reshapedarray.jl:118",
          "status": "Runtime dispatch",
          "x1": 3381,
          "x2": 3381.9
         },
         {
          "level": 12,
          "sf": "sample_next_point(y::Array{Float64, 3}, F̂::Array{Tuple{Vector{Float64}, Vector{Float64}}, 3}, P::Array{Float64, 3}, models::Vector{OperationalParameters}; n::Int64, r::Int64, acq::Function, return_weight::Bool, match_original::Bool) at surrogate_model.jl:213",
          "status": "Runtime dispatch",
          "x1": 3382,
          "x2": 3553.9
         },
         {
          "level": 13,
          "sf": "broadcast(::BayesianSafetyValidation.var\"#56#57\", ::Array{Float64, 3}, ::Array{Float64, 3}, ::Array{Float64, 3}) at broadcast.jl:811",
          "status": "Default",
          "x1": 3382,
          "x2": 3552.9
         },
         {
          "level": 14,
          "sf": "materialize at broadcast.jl:873 [inlined]",
          "status": "Default",
          "x1": 3382,
          "x2": 3552.9
         },
         {
          "level": 15,
          "sf": "copy at broadcast.jl:898 [inlined]",
          "status": "Default",
          "x1": 3382,
          "x2": 3552.9
         },
         {
          "level": 16,
          "sf": "copyto! at broadcast.jl:926 [inlined]",
          "status": "Default",
          "x1": 3382,
          "x2": 3552.9
         },
         {
          "level": 17,
          "sf": "copyto! at broadcast.jl:970 [inlined]",
          "status": "Default",
          "x1": 3382,
          "x2": 3382.9
         },
         {
          "level": 18,
          "sf": "preprocess at broadcast.jl:953 [inlined]",
          "status": "Default",
          "x1": 3382,
          "x2": 3382.9
         },
         {
          "level": 19,
          "sf": "preprocess_args at broadcast.jl:956 [inlined]",
          "status": "Default",
          "x1": 3382,
          "x2": 3382.9
         },
         {
          "level": 20,
          "sf": "preprocess_args at broadcast.jl:956 [inlined]",
          "status": "Default",
          "x1": 3382,
          "x2": 3382.9
         },
         {
          "level": 21,
          "sf": "preprocess_args at broadcast.jl:957 [inlined]",
          "status": "Default",
          "x1": 3382,
          "x2": 3382.9
         },
         {
          "level": 22,
          "sf": "preprocess at broadcast.jl:954 [inlined]",
          "status": "Default",
          "x1": 3382,
          "x2": 3382.9
         },
         {
          "level": 23,
          "sf": "extrude at broadcast.jl:650 [inlined]",
          "status": "Default",
          "x1": 3382,
          "x2": 3382.9
         },
         {
          "level": 24,
          "sf": "newindexer at broadcast.jl:599 [inlined]",
          "status": "Default",
          "x1": 3382,
          "x2": 3382.9
         },
         {
          "level": 25,
          "sf": "shapeindexer at broadcast.jl:600 [inlined]",
          "status": "Default",
          "x1": 3382,
          "x2": 3382.9
         },
         {
          "level": 26,
          "sf": "_newindexer at broadcast.jl:604 [inlined]",
          "status": "Default",
          "x1": 3382,
          "x2": 3382.9
         },
         {
          "level": 27,
          "sf": "_newindexer at broadcast.jl:605 [inlined]",
          "status": "Default",
          "x1": 3382,
          "x2": 3382.9
         },
         {
          "level": 28,
          "sf": "!= at operators.jl:269 [inlined]",
          "status": "Default",
          "x1": 3382,
          "x2": 3382.9
         },
         {
          "level": 29,
          "sf": "== at promotion.jl:499 [inlined]",
          "status": "Default",
          "x1": 3382,
          "x2": 3382.9
         },
         {
          "level": 17,
          "sf": "copyto! at broadcast.jl:973 [inlined]",
          "status": "Default",
          "x1": 3383,
          "x2": 3552.9
         },
         {
          "level": 18,
          "sf": "macro expansion at simdloop.jl:77 [inlined]",
          "status": "Default",
          "x1": 3383,
          "x2": 3552.9
         },
         {
          "level": 19,
          "sf": "macro expansion at broadcast.jl:974 [inlined]",
          "status": "Default",
          "x1": 3383,
          "x2": 3552.9
         },
         {
          "level": 20,
          "sf": "getindex at broadcast.jl:610 [inlined]",
          "status": "Default",
          "x1": 3383,
          "x2": 3552.9
         },
         {
          "level": 21,
          "sf": "_broadcast_getindex at broadcast.jl:655 [inlined]",
          "status": "Default",
          "x1": 3383,
          "x2": 3385.9
         },
         {
          "level": 22,
          "sf": "_getindex at broadcast.jl:679 [inlined]",
          "status": "Default",
          "x1": 3383,
          "x2": 3385.9
         },
         {
          "level": 23,
          "sf": "_broadcast_getindex at broadcast.jl:649 [inlined]",
          "status": "Default",
          "x1": 3383,
          "x2": 3383.9
         },
         {
          "level": 24,
          "sf": "getindex at multidimensional.jl:668 [inlined]",
          "status": "Default",
          "x1": 3383,
          "x2": 3383.9
         },
         {
          "level": 25,
          "sf": "getindex at essentials.jl:14 [inlined]",
          "status": "Default",
          "x1": 3383,
          "x2": 3383.9
         },
         {
          "level": 23,
          "sf": "_getindex at broadcast.jl:679 [inlined]",
          "status": "Default",
          "x1": 3384,
          "x2": 3385.9
         },
         {
          "level": 24,
          "sf": "_broadcast_getindex at broadcast.jl:649 [inlined]",
          "status": "Default",
          "x1": 3384,
          "x2": 3384.9
         },
         {
          "level": 25,
          "sf": "getindex at multidimensional.jl:668 [inlined]",
          "status": "Default",
          "x1": 3384,
          "x2": 3384.9
         },
         {
          "level": 26,
          "sf": "getindex at essentials.jl:14 [inlined]",
          "status": "Default",
          "x1": 3384,
          "x2": 3384.9
         },
         {
          "level": 24,
          "sf": "_getindex at broadcast.jl:680 [inlined]",
          "status": "Default",
          "x1": 3385,
          "x2": 3385.9
         },
         {
          "level": 25,
          "sf": "_broadcast_getindex at broadcast.jl:649 [inlined]",
          "status": "Default",
          "x1": 3385,
          "x2": 3385.9
         },
         {
          "level": 26,
          "sf": "getindex at multidimensional.jl:668 [inlined]",
          "status": "Default",
          "x1": 3385,
          "x2": 3385.9
         },
         {
          "level": 27,
          "sf": "getindex at essentials.jl:14 [inlined]",
          "status": "Default",
          "x1": 3385,
          "x2": 3385.9
         },
         {
          "level": 21,
          "sf": "_broadcast_getindex at broadcast.jl:656 [inlined]",
          "status": "Default",
          "x1": 3386,
          "x2": 3552.9
         },
         {
          "level": 22,
          "sf": "_broadcast_getindex_evalf at broadcast.jl:683 [inlined]",
          "status": "Default",
          "x1": 3386,
          "x2": 3552.9
         },
         {
          "level": 23,
          "sf": "#56 at surrogate_model.jl:213 [inlined]",
          "status": "Default",
          "x1": 3386,
          "x2": 3552.9
         },
         {
          "level": 24,
          "sf": "vect at array.jl:126 [inlined]",
          "status": "Default",
          "x1": 3386,
          "x2": 3552.9
         },
         {
          "level": 25,
          "sf": "_array_for at array.jl:674 [inlined]",
          "status": "Default",
          "x1": 3386,
          "x2": 3551.9
         },
         {
          "level": 26,
          "sf": "_array_for at array.jl:671 [inlined]",
          "status": "Default",
          "x1": 3386,
          "x2": 3551.9
         },
         {
          "level": 27,
          "sf": "similar at abstractarray.jl:881 [inlined]",
          "status": "Default",
          "x1": 3386,
          "x2": 3551.9
         },
         {
          "level": 28,
          "sf": "similar at abstractarray.jl:882 [inlined]",
          "status": "Default",
          "x1": 3386,
          "x2": 3551.9
         },
         {
          "level": 29,
          "sf": "Array at boot.jl:486 [inlined]",
          "status": "Default",
          "x1": 3386,
          "x2": 3551.9
         },
         {
          "level": 30,
          "sf": "Array at boot.jl:477 [inlined]",
          "status": "Garbage collection",
          "x1": 3386,
          "x2": 3551.9
         },
         {
          "level": 25,
          "sf": "setindex! at array.jl:969 [inlined]",
          "status": "Default",
          "x1": 3552,
          "x2": 3552.9
         },
         {
          "level": 12,
          "sf": "sample_next_point(y::Array{Float64, 3}, F̂::Array{Tuple{Vector{Float64}, Vector{Float64}}, 3}, P::Array{Float64, 3}, models::Vector{OperationalParameters}; n::Int64, r::Int64, acq::Function, return_weight::Bool, match_original::Bool) at surrogate_model.jl:217",
          "status": "Runtime dispatch",
          "x1": 3554,
          "x2": 3563.9
         },
         {
          "level": 13,
          "sf": "materialize(bc::Base.Broadcast.Broadcasted{Base.Broadcast.DefaultArrayStyle{3}, Nothing, typeof(^), Tuple{Array{Float64, 3}, Int64}}) at broadcast.jl:873",
          "status": "Default",
          "x1": 3554,
          "x2": 3559.9
         },
         {
          "level": 14,
          "sf": "copy at broadcast.jl:898 [inlined]",
          "status": "Default",
          "x1": 3554,
          "x2": 3559.9
         },
         {
          "level": 15,
          "sf": "copyto! at broadcast.jl:926 [inlined]",
          "status": "Default",
          "x1": 3554,
          "x2": 3559.9
         },
         {
          "level": 16,
          "sf": "copyto! at broadcast.jl:973 [inlined]",
          "status": "Default",
          "x1": 3554,
          "x2": 3559.9
         },
         {
          "level": 17,
          "sf": "macro expansion at simdloop.jl:77 [inlined]",
          "status": "Default",
          "x1": 3554,
          "x2": 3559.9
         },
         {
          "level": 18,
          "sf": "macro expansion at broadcast.jl:974 [inlined]",
          "status": "Default",
          "x1": 3554,
          "x2": 3559.9
         },
         {
          "level": 19,
          "sf": "getindex at broadcast.jl:610 [inlined]",
          "status": "Default",
          "x1": 3554,
          "x2": 3559.9
         },
         {
          "level": 20,
          "sf": "_broadcast_getindex at broadcast.jl:655 [inlined]",
          "status": "Default",
          "x1": 3554,
          "x2": 3554.9
         },
         {
          "level": 21,
          "sf": "_getindex at broadcast.jl:679 [inlined]",
          "status": "Default",
          "x1": 3554,
          "x2": 3554.9
         },
         {
          "level": 22,
          "sf": "_broadcast_getindex at broadcast.jl:649 [inlined]",
          "status": "Default",
          "x1": 3554,
          "x2": 3554.9
         },
         {
          "level": 23,
          "sf": "getindex at multidimensional.jl:668 [inlined]",
          "status": "Default",
          "x1": 3554,
          "x2": 3554.9
         },
         {
          "level": 24,
          "sf": "getindex at essentials.jl:14 [inlined]",
          "status": "Default",
          "x1": 3554,
          "x2": 3554.9
         },
         {
          "level": 20,
          "sf": "_broadcast_getindex at broadcast.jl:656 [inlined]",
          "status": "Default",
          "x1": 3555,
          "x2": 3559.9
         },
         {
          "level": 21,
          "sf": "_broadcast_getindex_evalf at broadcast.jl:683 [inlined]",
          "status": "Default",
          "x1": 3555,
          "x2": 3559.9
         },
         {
          "level": 22,
          "sf": "^ at math.jl:1165 [inlined]",
          "status": "Default",
          "x1": 3555,
          "x2": 3559.9
         },
         {
          "level": 23,
          "sf": "pow_body(x::Float64, n::Int64) at math.jl:0",
          "status": "Default",
          "x1": 3555,
          "x2": 3555.9
         },
         {
          "level": 23,
          "sf": "pow_body(x::Float64, n::Int64) at math.jl:1172",
          "status": "Default",
          "x1": 3556,
          "x2": 3556.9
         },
         {
          "level": 24,
          "sf": "< at int.jl:83 [inlined]",
          "status": "Default",
          "x1": 3556,
          "x2": 3556.9
         },
         {
          "level": 23,
          "sf": "pow_body(x::Float64, n::Int64) at math.jl:1191",
          "status": "Default",
          "x1": 3557,
          "x2": 3559.9
         },
         {
          "level": 24,
          "sf": "ifelse at essentials.jl:575 [inlined]",
          "status": "Default",
          "x1": 3557,
          "x2": 3557.9
         },
         {
          "level": 24,
          "sf": "isfinite at float.jl:622 [inlined]",
          "status": "Default",
          "x1": 3558,
          "x2": 3558.9
         },
         {
          "level": 25,
          "sf": "- at float.jl:409 [inlined]",
          "status": "Default",
          "x1": 3558,
          "x2": 3558.9
         },
         {
          "level": 24,
          "sf": "muladd at float.jl:413 [inlined]",
          "status": "Default",
          "x1": 3559,
          "x2": 3559.9
         },
         {
          "level": 13,
          "sf": "normalize(a::Array{Float64, 3}, p::Int64) at generic.jl:1868",
          "status": "Default",
          "x1": 3560,
          "x2": 3562.9
         },
         {
          "level": 14,
          "sf": "copymutable_oftype at LinearAlgebra.jl:402 [inlined]",
          "status": "Default",
          "x1": 3560,
          "x2": 3562.9
         },
         {
          "level": 15,
          "sf": "copyto! at array.jl:342 [inlined]",
          "status": "Default",
          "x1": 3560,
          "x2": 3562.9
         },
         {
          "level": 16,
          "sf": "copyto! at array.jl:319 [inlined]",
          "status": "Default",
          "x1": 3560,
          "x2": 3562.9
         },
         {
          "level": 17,
          "sf": "_copyto_impl!(dest::Array{Float64, 3}, doffs::Int64, src::Array{Float64, 3}, soffs::Int64, n::Int64) at array.jl:327",
          "status": "Default",
          "x1": 3560,
          "x2": 3562.9
         },
         {
          "level": 18,
          "sf": "unsafe_copyto! at array.jl:286 [inlined]",
          "status": "Default",
          "x1": 3560,
          "x2": 3562.9
         },
         {
          "level": 13,
          "sf": "normalize(a::Array{Float64, 3}, p::Int64) at generic.jl:1869",
          "status": "Default",
          "x1": 3563,
          "x2": 3563.9
         },
         {
          "level": 14,
          "sf": "__normalize! at generic.jl:1801 [inlined]",
          "status": "Default",
          "x1": 3563,
          "x2": 3563.9
         },
         {
          "level": 15,
          "sf": "rmul! at generic.jl:182 [inlined]",
          "status": "Default",
          "x1": 3563,
          "x2": 3563.9
         },
         {
          "level": 16,
          "sf": "macro expansion at simdloop.jl:77 [inlined]",
          "status": "Default",
          "x1": 3563,
          "x2": 3563.9
         },
         {
          "level": 17,
          "sf": "macro expansion at generic.jl:183 [inlined]",
          "status": "Default",
          "x1": 3563,
          "x2": 3563.9
         },
         {
          "level": 18,
          "sf": "* at float.jl:410 [inlined]",
          "status": "Default",
          "x1": 3563,
          "x2": 3563.9
         },
         {
          "level": 12,
          "sf": "sample_next_point(y::Array{Float64, 3}, F̂::Array{Tuple{Vector{Float64}, Vector{Float64}}, 3}, P::Array{Float64, 3}, models::Vector{OperationalParameters}; n::Int64, r::Int64, acq::Function, return_weight::Bool, match_original::Bool) at surrogate_model.jl:218",
          "status": "Runtime dispatch",
          "x1": 3564,
          "x2": 3566.9
         },
         {
          "level": 13,
          "sf": "materialize(bc::Base.Broadcast.Broadcasted{Base.Broadcast.DefaultArrayStyle{3}, Nothing, typeof(isnan), Tuple{Array{Float64, 3}}}) at broadcast.jl:873",
          "status": "Default",
          "x1": 3564,
          "x2": 3566.9
         },
         {
          "level": 14,
          "sf": "copy at broadcast.jl:898 [inlined]",
          "status": "Default",
          "x1": 3564,
          "x2": 3566.9
         },
         {
          "level": 15,
          "sf": "copyto! at broadcast.jl:926 [inlined]",
          "status": "Default",
          "x1": 3564,
          "x2": 3566.9
         },
         {
          "level": 16,
          "sf": "copyto! at broadcast.jl:991 [inlined]",
          "status": "Default",
          "x1": 3564,
          "x2": 3566.9
         },
         {
          "level": 17,
          "sf": "macro expansion at simdloop.jl:77 [inlined]",
          "status": "Default",
          "x1": 3564,
          "x2": 3566.9
         },
         {
          "level": 18,
          "sf": "macro expansion at broadcast.jl:992 [inlined]",
          "status": "Default",
          "x1": 3564,
          "x2": 3566.9
         },
         {
          "level": 19,
          "sf": "setindex! at array.jl:969 [inlined]",
          "status": "Default",
          "x1": 3564,
          "x2": 3566.9
         },
         {
          "level": 12,
          "sf": "sample_next_point(y::Array{Float64, 3}, F̂::Array{Tuple{Vector{Float64}, Vector{Float64}}, 3}, P::Array{Float64, 3}, models::Vector{OperationalParameters}; n::Int64, r::Int64, acq::Function, return_weight::Bool, match_original::Bool) at surrogate_model.jl:219",
          "status": "Runtime dispatch",
          "x1": 3567,
          "x2": 3567.9
         },
         {
          "level": 13,
          "sf": "ones(dims::Tuple{Int64, Int64, Int64}) at array.jl:581",
          "status": "Default",
          "x1": 3567,
          "x2": 3567.9
         },
         {
          "level": 14,
          "sf": "ones at array.jl:585 [inlined]",
          "status": "Default",
          "x1": 3567,
          "x2": 3567.9
         },
         {
          "level": 15,
          "sf": "fill! at array.jl:349 [inlined]",
          "status": "Default",
          "x1": 3567,
          "x2": 3567.9
         },
         {
          "level": 16,
          "sf": "setindex! at array.jl:969 [inlined]",
          "status": "Default",
          "x1": 3567,
          "x2": 3567.9
         },
         {
          "level": 12,
          "sf": "sample_next_point(y::Array{Float64, 3}, F̂::Array{Tuple{Vector{Float64}, Vector{Float64}}, 3}, P::Array{Float64, 3}, models::Vector{OperationalParameters}; n::Int64, r::Int64, acq::Function, return_weight::Bool, match_original::Bool) at surrogate_model.jl:221",
          "status": "Runtime dispatch",
          "x1": 3568,
          "x2": 3671.9
         },
         {
          "level": 13,
          "sf": "vect(::Vector{Float64}, ::Vararg{Vector{Float64}}) at array.jl:126",
          "status": "Default",
          "x1": 3606,
          "x2": 3671.9
         },
         {
          "level": 14,
          "sf": "_array_for at array.jl:674 [inlined]",
          "status": "Default",
          "x1": 3606,
          "x2": 3668.9
         },
         {
          "level": 15,
          "sf": "_array_for at array.jl:671 [inlined]",
          "status": "Default",
          "x1": 3606,
          "x2": 3668.9
         },
         {
          "level": 16,
          "sf": "similar at abstractarray.jl:881 [inlined]",
          "status": "Default",
          "x1": 3606,
          "x2": 3668.9
         },
         {
          "level": 17,
          "sf": "similar at abstractarray.jl:882 [inlined]",
          "status": "Default",
          "x1": 3606,
          "x2": 3668.9
         },
         {
          "level": 18,
          "sf": "Array at boot.jl:486 [inlined]",
          "status": "Default",
          "x1": 3606,
          "x2": 3668.9
         },
         {
          "level": 19,
          "sf": "Array at boot.jl:477 [inlined]",
          "status": "Default",
          "x1": 3606,
          "x2": 3668.9
         },
         {
          "level": 14,
          "sf": "setindex! at array.jl:969 [inlined]",
          "status": "Default",
          "x1": 3669,
          "x2": 3671.9
         },
         {
          "level": 12,
          "sf": "sample_next_point(y::Array{Float64, 3}, F̂::Array{Tuple{Vector{Float64}, Vector{Float64}}, 3}, P::Array{Float64, 3}, models::Vector{OperationalParameters}; n::Int64, r::Int64, acq::Function, return_weight::Bool, match_original::Bool) at surrogate_model.jl:222",
          "status": "Garbage collection",
          "x1": 3672,
          "x2": 3786.9
         },
         {
          "level": 13,
          "sf": "vect(::Float64, ::Vararg{Float64}) at array.jl:126",
          "status": "Default",
          "x1": 3782,
          "x2": 3786.9
         },
         {
          "level": 14,
          "sf": "setindex! at array.jl:969 [inlined]",
          "status": "Default",
          "x1": 3782,
          "x2": 3785.9
         },
         {
          "level": 14,
          "sf": "getindex at tuple.jl:29 [inlined]",
          "status": "Default",
          "x1": 3786,
          "x2": 3786.9
         },
         {
          "level": 12,
          "sf": "sample_next_point(y::Array{Float64, 3}, F̂::Array{Tuple{Vector{Float64}, Vector{Float64}}, 3}, P::Array{Float64, 3}, models::Vector{OperationalParameters}; n::Int64, r::Int64, acq::Function, return_weight::Bool, match_original::Bool) at surrogate_model.jl:224",
          "status": "Runtime dispatch",
          "x1": 3787,
          "x2": 3788.9
         },
         {
          "level": 13,
          "sf": "StatsBase.Weights(values::Vector{Float64}) at weights.jl:16",
          "status": "Default",
          "x1": 3787,
          "x2": 3788.9
         },
         {
          "level": 14,
          "sf": "sum at reducedim.jl:994 [inlined]",
          "status": "Default",
          "x1": 3787,
          "x2": 3788.9
         },
         {
          "level": 15,
          "sf": "#sum#807 at reducedim.jl:994 [inlined]",
          "status": "Default",
          "x1": 3787,
          "x2": 3788.9
         },
         {
          "level": 16,
          "sf": "_sum at reducedim.jl:998 [inlined]",
          "status": "Default",
          "x1": 3787,
          "x2": 3788.9
         },
         {
          "level": 17,
          "sf": "#_sum#809 at reducedim.jl:998 [inlined]",
          "status": "Default",
          "x1": 3787,
          "x2": 3788.9
         },
         {
          "level": 18,
          "sf": "_sum at reducedim.jl:999 [inlined]",
          "status": "Default",
          "x1": 3787,
          "x2": 3788.9
         },
         {
          "level": 19,
          "sf": "#_sum#810 at reducedim.jl:999 [inlined]",
          "status": "Default",
          "x1": 3787,
          "x2": 3788.9
         },
         {
          "level": 20,
          "sf": "mapreduce at reducedim.jl:357 [inlined]",
          "status": "Default",
          "x1": 3787,
          "x2": 3788.9
         },
         {
          "level": 21,
          "sf": "#mapreduce#800 at reducedim.jl:357 [inlined]",
          "status": "Default",
          "x1": 3787,
          "x2": 3788.9
         },
         {
          "level": 22,
          "sf": "_mapreduce_dim at reducedim.jl:365 [inlined]",
          "status": "Default",
          "x1": 3787,
          "x2": 3788.9
         },
         {
          "level": 23,
          "sf": "_mapreduce at reduce.jl:442 [inlined]",
          "status": "Default",
          "x1": 3787,
          "x2": 3788.9
         },
         {
          "level": 24,
          "sf": "mapreduce_impl at reduce.jl:272 [inlined]",
          "status": "Default",
          "x1": 3787,
          "x2": 3788.9
         },
         {
          "level": 25,
          "sf": "mapreduce_impl(f::typeof(identity), op::typeof(Base.add_sum), A::Vector{Float64}, ifirst::Int64, ilast::Int64, blksize::Int64) at reduce.jl:266",
          "status": "Default",
          "x1": 3787,
          "x2": 3787.9
         },
         {
          "level": 26,
          "sf": "mapreduce_impl(f::typeof(identity), op::typeof(Base.add_sum), A::Vector{Float64}, ifirst::Int64, ilast::Int64, blksize::Int64) at reduce.jl:266",
          "status": "Default",
          "x1": 3787,
          "x2": 3787.9
         },
         {
          "level": 27,
          "sf": "mapreduce_impl(f::typeof(identity), op::typeof(Base.add_sum), A::Vector{Float64}, ifirst::Int64, ilast::Int64, blksize::Int64) at reduce.jl:266",
          "status": "Default",
          "x1": 3787,
          "x2": 3787.9
         },
         {
          "level": 28,
          "sf": "mapreduce_impl(f::typeof(identity), op::typeof(Base.add_sum), A::Vector{Float64}, ifirst::Int64, ilast::Int64, blksize::Int64) at reduce.jl:266",
          "status": "Default",
          "x1": 3787,
          "x2": 3787.9
         },
         {
          "level": 29,
          "sf": "mapreduce_impl(f::typeof(identity), op::typeof(Base.add_sum), A::Vector{Float64}, ifirst::Int64, ilast::Int64, blksize::Int64) at reduce.jl:266",
          "status": "Default",
          "x1": 3787,
          "x2": 3787.9
         },
         {
          "level": 30,
          "sf": "mapreduce_impl(f::typeof(identity), op::typeof(Base.add_sum), A::Vector{Float64}, ifirst::Int64, ilast::Int64, blksize::Int64) at reduce.jl:267",
          "status": "Default",
          "x1": 3787,
          "x2": 3787.9
         },
         {
          "level": 31,
          "sf": "mapreduce_impl(f::typeof(identity), op::typeof(Base.add_sum), A::Vector{Float64}, ifirst::Int64, ilast::Int64, blksize::Int64) at reduce.jl:266",
          "status": "Default",
          "x1": 3787,
          "x2": 3787.9
         },
         {
          "level": 32,
          "sf": "mapreduce_impl(f::typeof(identity), op::typeof(Base.add_sum), A::Vector{Float64}, ifirst::Int64, ilast::Int64, blksize::Int64) at reduce.jl:258",
          "status": "Default",
          "x1": 3787,
          "x2": 3787.9
         },
         {
          "level": 33,
          "sf": "macro expansion at simdloop.jl:78 [inlined]",
          "status": "Default",
          "x1": 3787,
          "x2": 3787.9
         },
         {
          "level": 34,
          "sf": "+ at int.jl:87 [inlined]",
          "status": "Default",
          "x1": 3787,
          "x2": 3787.9
         },
         {
          "level": 25,
          "sf": "mapreduce_impl(f::typeof(identity), op::typeof(Base.add_sum), A::Vector{Float64}, ifirst::Int64, ilast::Int64, blksize::Int64) at reduce.jl:267",
          "status": "Default",
          "x1": 3788,
          "x2": 3788.9
         },
         {
          "level": 26,
          "sf": "mapreduce_impl(f::typeof(identity), op::typeof(Base.add_sum), A::Vector{Float64}, ifirst::Int64, ilast::Int64, blksize::Int64) at reduce.jl:266",
          "status": "Default",
          "x1": 3788,
          "x2": 3788.9
         },
         {
          "level": 27,
          "sf": "mapreduce_impl(f::typeof(identity), op::typeof(Base.add_sum), A::Vector{Float64}, ifirst::Int64, ilast::Int64, blksize::Int64) at reduce.jl:266",
          "status": "Default",
          "x1": 3788,
          "x2": 3788.9
         },
         {
          "level": 28,
          "sf": "mapreduce_impl(f::typeof(identity), op::typeof(Base.add_sum), A::Vector{Float64}, ifirst::Int64, ilast::Int64, blksize::Int64) at reduce.jl:267",
          "status": "Default",
          "x1": 3788,
          "x2": 3788.9
         },
         {
          "level": 29,
          "sf": "mapreduce_impl(f::typeof(identity), op::typeof(Base.add_sum), A::Vector{Float64}, ifirst::Int64, ilast::Int64, blksize::Int64) at reduce.jl:267",
          "status": "Default",
          "x1": 3788,
          "x2": 3788.9
         },
         {
          "level": 30,
          "sf": "mapreduce_impl(f::typeof(identity), op::typeof(Base.add_sum), A::Vector{Float64}, ifirst::Int64, ilast::Int64, blksize::Int64) at reduce.jl:267",
          "status": "Default",
          "x1": 3788,
          "x2": 3788.9
         },
         {
          "level": 31,
          "sf": "mapreduce_impl(f::typeof(identity), op::typeof(Base.add_sum), A::Vector{Float64}, ifirst::Int64, ilast::Int64, blksize::Int64) at reduce.jl:266",
          "status": "Default",
          "x1": 3788,
          "x2": 3788.9
         },
         {
          "level": 32,
          "sf": "mapreduce_impl(f::typeof(identity), op::typeof(Base.add_sum), A::Vector{Float64}, ifirst::Int64, ilast::Int64, blksize::Int64) at reduce.jl:258",
          "status": "Default",
          "x1": 3788,
          "x2": 3788.9
         },
         {
          "level": 33,
          "sf": "macro expansion at simdloop.jl:77 [inlined]",
          "status": "Default",
          "x1": 3788,
          "x2": 3788.9
         },
         {
          "level": 34,
          "sf": "macro expansion at reduce.jl:260 [inlined]",
          "status": "Default",
          "x1": 3788,
          "x2": 3788.9
         },
         {
          "level": 35,
          "sf": "add_sum at reduce.jl:27 [inlined]",
          "status": "Default",
          "x1": 3788,
          "x2": 3788.9
         },
         {
          "level": 36,
          "sf": "+ at float.jl:408 [inlined]",
          "status": "Default",
          "x1": 3788,
          "x2": 3788.9
         },
         {
          "level": 10,
          "sf": "bayesian_safety_validation(sparams::DummyParameters, models::Vector{OperationalParameters}; gp::Nothing, T::Int64, λ::Float64, seed::Int64, initialize_system::Bool, reset_system::Bool, show_acquisition_plots::Bool, show_plots::Bool, show_combined_plot::Bool, show_tight_combined_plot::Bool, hide_model_after_first::Bool, only_plot_last::Bool, latex_labels::Bool, show_alert::Bool, acquisitions_to_run::Vector{Int64}, probability_valued_system::Bool, skip_if_no_failures::Bool, save_plots::Bool, save_plots_svg::Bool, plots_dir::String, samples_per_batch::Int64, single_failure_mode::Bool, refit_every_point::Bool, input_discretization_steps::Int64, p_estimate_discretization_steps::Int64, match_original::Bool, kwargs::Base.Pairs{Symbol, Union{}, Tuple{}, NamedTuple{(), Tuple{}}}) at bayesian_safety_validation.jl:125",
          "status": "Runtime dispatch",
          "x1": 3789,
          "x2": 3960.9
         },
         {
          "level": 11,
          "sf": "kwcall(::NamedTuple{(:acq, :match_original), Tuple{typeof(uncertainty_acquisition), Bool}}, ::typeof(get_next_point), y::Array{Float64, 3}, F̂::Array{Tuple{Vector{Float64}, Vector{Float64}}, 3}, P::Array{Float64, 3}, models::Vector{OperationalParameters}) at surrogate_model.jl:185",
          "status": "Default",
          "x1": 3789,
          "x2": 3960.9
         },
         {
          "level": 12,
          "sf": "get_next_point(y::Array{Float64, 3}, F̂::Array{Tuple{Vector{Float64}, Vector{Float64}}, 3}, P::Array{Float64, 3}, models::Vector{OperationalParameters}; acq::Function, match_original::Bool) at surrogate_model.jl:187",
          "status": "Default",
          "x1": 3789,
          "x2": 3943.9
         },
         {
          "level": 13,
          "sf": "map(::Function, ::Array{Tuple{Vector{Float64}, Vector{Float64}}, 3}, ::Array{Float64, 3}) at abstractarray.jl:3383",
          "status": "Runtime dispatch",
          "x1": 3789,
          "x2": 3943.9
         },
         {
          "level": 14,
          "sf": "collect(itr::Base.Generator{Base.Iterators.Zip{Tuple{Array{Tuple{Vector{Float64}, Vector{Float64}}, 3}, Array{Float64, 3}}}, Base.var\"#4#5\"{typeof(uncertainty_acquisition)}}) at array.jl:792",
          "status": "Default",
          "x1": 3789,
          "x2": 3943.9
         },
         {
          "level": 15,
          "sf": "collect_to_with_first! at array.jl:818 [inlined]",
          "status": "Default",
          "x1": 3789,
          "x2": 3943.9
         },
         {
          "level": 16,
          "sf": "collect_to!(dest::Array{Float64, 3}, itr::Base.Generator{Base.Iterators.Zip{Tuple{Array{Tuple{Vector{Float64}, Vector{Float64}}, 3}, Array{Float64, 3}}}, Base.var\"#4#5\"{BayesianSafetyValidation.var\"#397#401\"{Float64, Int64}}}, offs::Int64, st::Tuple{Int64, Int64}) at array.jl:840",
          "status": "Default",
          "x1": 3789,
          "x2": 3943.9
         },
         {
          "level": 17,
          "sf": "iterate at generator.jl:0 [inlined]",
          "status": "Default",
          "x1": 3789,
          "x2": 3790.9
         },
         {
          "level": 17,
          "sf": "iterate at generator.jl:47 [inlined]",
          "status": "Default",
          "x1": 3791,
          "x2": 3942.9
         },
         {
          "level": 18,
          "sf": "#4 at generator.jl:36 [inlined]",
          "status": "Default",
          "x1": 3791,
          "x2": 3942.9
         },
         {
          "level": 19,
          "sf": "#397 at bayesian_safety_validation.jl:106 [inlined]",
          "status": "Default",
          "x1": 3791,
          "x2": 3907.9
         },
         {
          "level": 20,
          "sf": "boundary_acquisition at surrogate_model.jl:130 [inlined]",
          "status": "Default",
          "x1": 3791,
          "x2": 3907.9
         },
         {
          "level": 21,
          "sf": "#boundary_acquisition#48 at surrogate_model.jl:131 [inlined]",
          "status": "Default",
          "x1": 3791,
          "x2": 3838.9
         },
         {
          "level": 22,
          "sf": "getindex at essentials.jl:13 [inlined]",
          "status": "Default",
          "x1": 3791,
          "x2": 3838.9
         },
         {
          "level": 21,
          "sf": "#boundary_acquisition#48 at surrogate_model.jl:132 [inlined]",
          "status": "Default",
          "x1": 3839,
          "x2": 3872.9
         },
         {
          "level": 22,
          "sf": "getindex at essentials.jl:13 [inlined]",
          "status": "Default",
          "x1": 3839,
          "x2": 3851.9
         },
         {
          "level": 22,
          "sf": "sqrt at math.jl:677 [inlined]",
          "status": "Default",
          "x1": 3852,
          "x2": 3870.9
         },
         {
          "level": 23,
          "sf": "< at float.jl:535 [inlined]",
          "status": "Default",
          "x1": 3852,
          "x2": 3869.9
         },
         {
          "level": 22,
          "sf": "sqrt at math.jl:678 [inlined]",
          "status": "Default",
          "x1": 3871,
          "x2": 3872.9
         },
         {
          "level": 21,
          "sf": "#boundary_acquisition#48 at surrogate_model.jl:139 [inlined]",
          "status": "Default",
          "x1": 3873,
          "x2": 3907.9
         },
         {
          "level": 22,
          "sf": "* at float.jl:410 [inlined]",
          "status": "Default",
          "x1": 3873,
          "x2": 3875.9
         },
         {
          "level": 22,
          "sf": "+ at float.jl:408 [inlined]",
          "status": "Default",
          "x1": 3876,
          "x2": 3878.9
         },
         {
          "level": 22,
          "sf": "^(x::Float64, y::Float64) at math.jl:1111",
          "status": "Default",
          "x1": 3879,
          "x2": 3880.9
         },
         {
          "level": 22,
          "sf": "^(x::Float64, y::Float64) at math.jl:1120",
          "status": "Default",
          "x1": 3881,
          "x2": 3881.9
         },
         {
          "level": 23,
          "sf": "unsafe_trunc at float.jl:335 [inlined]",
          "status": "Default",
          "x1": 3881,
          "x2": 3881.9
         },
         {
          "level": 22,
          "sf": "^(x::Float64, y::Float64) at math.jl:1124",
          "status": "Default",
          "x1": 3882,
          "x2": 3883.9
         },
         {
          "level": 23,
          "sf": "isfinite at float.jl:622 [inlined]",
          "status": "Default",
          "x1": 3882,
          "x2": 3883.9
         },
         {
          "level": 24,
          "sf": "== at float.jl:571 [inlined]",
          "status": "Default",
          "x1": 3882,
          "x2": 3883.9
         },
         {
          "level": 25,
          "sf": "== at float.jl:533 [inlined]",
          "status": "Default",
          "x1": 3882,
          "x2": 3883.9
         },
         {
          "level": 22,
          "sf": "^(x::Float64, y::Float64) at math.jl:1125",
          "status": "Default",
          "x1": 3884,
          "x2": 3884.9
         },
         {
          "level": 22,
          "sf": "^(x::Float64, y::Float64) at math.jl:1130",
          "status": "Default",
          "x1": 3885,
          "x2": 3907.9
         },
         {
          "level": 23,
          "sf": "pow_body at math.jl:1134 [inlined]",
          "status": "Default",
          "x1": 3885,
          "x2": 3893.9
         },
         {
          "level": 24,
          "sf": "_log_ext(xu::UInt64) at log.jl:565",
          "status": "Default",
          "x1": 3885,
          "x2": 3885.9
         },
         {
          "level": 24,
          "sf": "_log_ext(xu::UInt64) at log.jl:571",
          "status": "Default",
          "x1": 3886,
          "x2": 3887.9
         },
         {
          "level": 25,
          "sf": "& at int.jl:1042 [inlined]",
          "status": "Default",
          "x1": 3886,
          "x2": 3887.9
         },
         {
          "level": 26,
          "sf": "& at int.jl:347 [inlined]",
          "status": "Default",
          "x1": 3886,
          "x2": 3887.9
         },
         {
          "level": 24,
          "sf": "_log_ext(xu::UInt64) at log.jl:584",
          "status": "Default",
          "x1": 3888,
          "x2": 3889.9
         },
         {
          "level": 25,
          "sf": "+ at float.jl:408 [inlined]",
          "status": "Default",
          "x1": 3888,
          "x2": 3888.9
         },
         {
          "level": 25,
          "sf": "- at float.jl:409 [inlined]",
          "status": "Default",
          "x1": 3889,
          "x2": 3889.9
         },
         {
          "level": 24,
          "sf": "_log_ext(xu::UInt64) at log.jl:589",
          "status": "Default",
          "x1": 3890,
          "x2": 3890.9
         },
         {
          "level": 25,
          "sf": "- at float.jl:409 [inlined]",
          "status": "Default",
          "x1": 3890,
          "x2": 3890.9
         },
         {
          "level": 24,
          "sf": "_log_ext(xu::UInt64) at log.jl:590",
          "status": "Default",
          "x1": 3891,
          "x2": 3892.9
         },
         {
          "level": 25,
          "sf": "evalpoly at math.jl:177 [inlined]",
          "status": "Default",
          "x1": 3891,
          "x2": 3892.9
         },
         {
          "level": 26,
          "sf": "macro expansion at math.jl:178 [inlined]",
          "status": "Default",
          "x1": 3891,
          "x2": 3892.9
         },
         {
          "level": 27,
          "sf": "muladd at float.jl:413 [inlined]",
          "status": "Default",
          "x1": 3891,
          "x2": 3892.9
         },
         {
          "level": 24,
          "sf": "_log_ext(xu::UInt64) at log.jl:592",
          "status": "Default",
          "x1": 3893,
          "x2": 3893.9
         },
         {
          "level": 23,
          "sf": "pow_body at math.jl:1135 [inlined]",
          "status": "Default",
          "x1": 3894,
          "x2": 3894.9
         },
         {
          "level": 24,
          "sf": "two_mul at math.jl:47 [inlined]",
          "status": "Default",
          "x1": 3894,
          "x2": 3894.9
         },
         {
          "level": 25,
          "sf": "* at float.jl:410 [inlined]",
          "status": "Default",
          "x1": 3894,
          "x2": 3894.9
         },
         {
          "level": 23,
          "sf": "pow_body at math.jl:1137 [inlined]",
          "status": "Default",
          "x1": 3895,
          "x2": 3896.9
         },
         {
          "level": 24,
          "sf": "+ at float.jl:408 [inlined]",
          "status": "Default",
          "x1": 3895,
          "x2": 3896.9
         },
         {
          "level": 23,
          "sf": "pow_body at math.jl:1138 [inlined]",
          "status": "Default",
          "x1": 3897,
          "x2": 3907.9
         },
         {
          "level": 24,
          "sf": "exp_impl at exp.jl:235 [inlined]",
          "status": "Default",
          "x1": 3897,
          "x2": 3897.9
         },
         {
          "level": 25,
          "sf": "reinterpret at essentials.jl:513 [inlined]",
          "status": "Default",
          "x1": 3897,
          "x2": 3897.9
         },
         {
          "level": 24,
          "sf": "exp_impl at exp.jl:240 [inlined]",
          "status": "Default",
          "x1": 3898,
          "x2": 3900.9
         },
         {
          "level": 25,
          "sf": "table_unpack at exp.jl:181 [inlined]",
          "status": "Default",
          "x1": 3898,
          "x2": 3898.9
         },
         {
          "level": 26,
          "sf": "& at int.jl:347 [inlined]",
          "status": "Default",
          "x1": 3898,
          "x2": 3898.9
         },
         {
          "level": 25,
          "sf": "table_unpack at exp.jl:182 [inlined]",
          "status": "Default",
          "x1": 3899,
          "x2": 3900.9
         },
         {
          "level": 26,
          "sf": ">> at int.jl:508 [inlined]",
          "status": "Default",
          "x1": 3899,
          "x2": 3900.9
         },
         {
          "level": 27,
          "sf": ">> at int.jl:502 [inlined]",
          "status": "Default",
          "x1": 3899,
          "x2": 3900.9
         },
         {
          "level": 24,
          "sf": "exp_impl at exp.jl:241 [inlined]",
          "status": "Default",
          "x1": 3901,
          "x2": 3904.9
         },
         {
          "level": 25,
          "sf": "muladd at float.jl:413 [inlined]",
          "status": "Default",
          "x1": 3901,
          "x2": 3903.9
         },
         {
          "level": 25,
          "sf": "expm1b_kernel at exp.jl:78 [inlined]",
          "status": "Default",
          "x1": 3904,
          "x2": 3904.9
         },
         {
          "level": 26,
          "sf": "* at float.jl:410 [inlined]",
          "status": "Default",
          "x1": 3904,
          "x2": 3904.9
         },
         {
          "level": 24,
          "sf": "exp_impl at exp.jl:242 [inlined]",
          "status": "Default",
          "x1": 3905,
          "x2": 3906.9
         },
         {
          "level": 25,
          "sf": "+ at float.jl:408 [inlined]",
          "status": "Default",
          "x1": 3905,
          "x2": 3905.9
         },
         {
          "level": 25,
          "sf": "muladd at float.jl:413 [inlined]",
          "status": "Default",
          "x1": 3906,
          "x2": 3906.9
         },
         {
          "level": 24,
          "sf": "exp_impl at exp.jl:254 [inlined]",
          "status": "Default",
          "x1": 3907,
          "x2": 3907.9
         },
         {
          "level": 19,
          "sf": "uncertainty_acquisition at surrogate_model.jl:119 [inlined]",
          "status": "Default",
          "x1": 3908,
          "x2": 3942.9
         },
         {
          "level": 20,
          "sf": "#uncertainty_acquisition#46 at surrogate_model.jl:119 [inlined]",
          "status": "Default",
          "x1": 3908,
          "x2": 3942.9
         },
         {
          "level": 21,
          "sf": "uncertainty_acquisition at surrogate_model.jl:115 [inlined]",
          "status": "Default",
          "x1": 3908,
          "x2": 3942.9
         },
         {
          "level": 22,
          "sf": "#uncertainty_acquisition#45 at surrogate_model.jl:116 [inlined]",
          "status": "Default",
          "x1": 3908,
          "x2": 3915.9
         },
         {
          "level": 23,
          "sf": "getindex at essentials.jl:13 [inlined]",
          "status": "Default",
          "x1": 3908,
          "x2": 3915.9
         },
         {
          "level": 22,
          "sf": "#uncertainty_acquisition#45 at surrogate_model.jl:117 [inlined]",
          "status": "Default",
          "x1": 3916,
          "x2": 3942.9
         },
         {
          "level": 23,
          "sf": "sqrt at math.jl:677 [inlined]",
          "status": "Default",
          "x1": 3916,
          "x2": 3942.9
         },
         {
          "level": 24,
          "sf": "< at float.jl:535 [inlined]",
          "status": "Default",
          "x1": 3916,
          "x2": 3942.9
         },
         {
          "level": 17,
          "sf": "iterate at iterators.jl:0 [inlined]",
          "status": "Default",
          "x1": 3943,
          "x2": 3943.9
         },
         {
          "level": 12,
          "sf": "get_next_point(y::Array{Float64, 3}, F̂::Array{Tuple{Vector{Float64}, Vector{Float64}}, 3}, P::Array{Float64, 3}, models::Vector{OperationalParameters}; acq::Function, match_original::Bool) at surrogate_model.jl:192",
          "status": "Runtime dispatch",
          "x1": 3944,
          "x2": 3960.9
         },
         {
          "level": 13,
          "sf": "argmax(A::Array{Float64, 3}) at reducedim.jl:1282",
          "status": "Default",
          "x1": 3944,
          "x2": 3960.9
         },
         {
          "level": 14,
          "sf": "#argmax#866 at reducedim.jl:1282 [inlined]",
          "status": "Default",
          "x1": 3944,
          "x2": 3960.9
         },
         {
          "level": 15,
          "sf": "findmax at reducedim.jl:1183 [inlined]",
          "status": "Default",
          "x1": 3944,
          "x2": 3960.9
         },
         {
          "level": 16,
          "sf": "#findmax#863 at reducedim.jl:1183 [inlined]",
          "status": "Default",
          "x1": 3944,
          "x2": 3960.9
         },
         {
          "level": 17,
          "sf": "_findmax at reduce.jl:929 [inlined]",
          "status": "Default",
          "x1": 3944,
          "x2": 3960.9
         },
         {
          "level": 18,
          "sf": "findmax at reducedim.jl:1206 [inlined]",
          "status": "Default",
          "x1": 3944,
          "x2": 3960.9
         },
         {
          "level": 19,
          "sf": "#findmax#864 at reducedim.jl:1206 [inlined]",
          "status": "Default",
          "x1": 3944,
          "x2": 3960.9
         },
         {
          "level": 20,
          "sf": "_findmax(f::typeof(identity), domain::Array{Float64, 3}, #unused#::Colon) at reduce.jl:903",
          "status": "Default",
          "x1": 3944,
          "x2": 3960.9
         },
         {
          "level": 21,
          "sf": "mapfoldl at reduce.jl:170 [inlined]",
          "status": "Default",
          "x1": 3944,
          "x2": 3960.9
         },
         {
          "level": 22,
          "sf": "#mapfoldl#288 at reduce.jl:170 [inlined]",
          "status": "Default",
          "x1": 3944,
          "x2": 3960.9
         },
         {
          "level": 23,
          "sf": "mapfoldl_impl at reduce.jl:44 [inlined]",
          "status": "Default",
          "x1": 3944,
          "x2": 3960.9
         },
         {
          "level": 24,
          "sf": "foldl_impl at reduce.jl:48 [inlined]",
          "status": "Default",
          "x1": 3944,
          "x2": 3960.9
         },
         {
          "level": 25,
          "sf": "_foldl_impl at reduce.jl:0 [inlined]",
          "status": "Default",
          "x1": 3944,
          "x2": 3945.9
         },
         {
          "level": 25,
          "sf": "_foldl_impl at reduce.jl:60 [inlined]",
          "status": "Default",
          "x1": 3946,
          "x2": 3950.9
         },
         {
          "level": 26,
          "sf": "iterate at iterators.jl:295 [inlined]",
          "status": "Default",
          "x1": 3946,
          "x2": 3946.9
         },
         {
          "level": 26,
          "sf": "iterate at iterators.jl:297 [inlined]",
          "status": "Default",
          "x1": 3947,
          "x2": 3950.9
         },
         {
          "level": 27,
          "sf": "_pairs_elt at iterators.jl:290 [inlined]",
          "status": "Default",
          "x1": 3947,
          "x2": 3950.9
         },
         {
          "level": 28,
          "sf": "getindex at multidimensional.jl:668 [inlined]",
          "status": "Default",
          "x1": 3947,
          "x2": 3950.9
         },
         {
          "level": 29,
          "sf": "getindex at essentials.jl:14 [inlined]",
          "status": "Default",
          "x1": 3947,
          "x2": 3950.9
         },
         {
          "level": 25,
          "sf": "_foldl_impl at reduce.jl:62 [inlined]",
          "status": "Default",
          "x1": 3951,
          "x2": 3960.9
         },
         {
          "level": 26,
          "sf": "MappingRF at reduce.jl:95 [inlined]",
          "status": "Default",
          "x1": 3951,
          "x2": 3960.9
         },
         {
          "level": 27,
          "sf": "BottomRF at reduce.jl:81 [inlined]",
          "status": "Default",
          "x1": 3951,
          "x2": 3960.9
         },
         {
          "level": 28,
          "sf": "_rf_findmax at reduce.jl:904 [inlined]",
          "status": "Default",
          "x1": 3951,
          "x2": 3960.9
         },
         {
          "level": 29,
          "sf": "isless at float.jl:548 [inlined]",
          "status": "Default",
          "x1": 3951,
          "x2": 3956.9
         },
         {
          "level": 30,
          "sf": "isnan at float.jl:619 [inlined]",
          "status": "Default",
          "x1": 3951,
          "x2": 3955.9
         },
         {
          "level": 31,
          "sf": "!= at float.jl:534 [inlined]",
          "status": "Default",
          "x1": 3951,
          "x2": 3955.9
         },
         {
          "level": 29,
          "sf": "isless at float.jl:550 [inlined]",
          "status": "Default",
          "x1": 3957,
          "x2": 3960.9
         },
         {
          "level": 30,
          "sf": "< at int.jl:83 [inlined]",
          "status": "Default",
          "x1": 3957,
          "x2": 3960.9
         },
         {
          "level": 10,
          "sf": "bayesian_safety_validation(sparams::DummyParameters, models::Vector{OperationalParameters}; gp::Nothing, T::Int64, λ::Float64, seed::Int64, initialize_system::Bool, reset_system::Bool, show_acquisition_plots::Bool, show_plots::Bool, show_combined_plot::Bool, show_tight_combined_plot::Bool, hide_model_after_first::Bool, only_plot_last::Bool, latex_labels::Bool, show_alert::Bool, acquisitions_to_run::Vector{Int64}, probability_valued_system::Bool, skip_if_no_failures::Bool, save_plots::Bool, save_plots_svg::Bool, plots_dir::String, samples_per_batch::Int64, single_failure_mode::Bool, refit_every_point::Bool, input_discretization_steps::Int64, p_estimate_discretization_steps::Int64, match_original::Bool, kwargs::Base.Pairs{Symbol, Union{}, Tuple{}, NamedTuple{(), Tuple{}}}) at bayesian_safety_validation.jl:192",
          "status": "Runtime dispatch",
          "x1": 3961,
          "x2": 3961.9
         },
         {
          "level": 11,
          "sf": "kwcall(::NamedTuple{(:subdir,), Tuple{Int64}}, ::typeof(BayesianSafetyValidation.System.evaluate), sparams::DummyParameters, inputs::Vector{Any}) at In[3]:15",
          "status": "Default",
          "x1": 3961,
          "x2": 3961.9
         },
         {
          "level": 12,
          "sf": "evaluate(sparams::DummyParameters, inputs::Vector{Any}; verbose::Bool, kwargs::Base.Pairs{Symbol, Int64, Tuple{Symbol}, NamedTuple{(:subdir,), Tuple{Int64}}}) at In[3]:23",
          "status": "Runtime dispatch",
          "x1": 3961,
          "x2": 3961.9
         },
         {
          "level": 10,
          "sf": "bayesian_safety_validation(sparams::DummyParameters, models::Vector{OperationalParameters}; gp::Nothing, T::Int64, λ::Float64, seed::Int64, initialize_system::Bool, reset_system::Bool, show_acquisition_plots::Bool, show_plots::Bool, show_combined_plot::Bool, show_tight_combined_plot::Bool, hide_model_after_first::Bool, only_plot_last::Bool, latex_labels::Bool, show_alert::Bool, acquisitions_to_run::Vector{Int64}, probability_valued_system::Bool, skip_if_no_failures::Bool, save_plots::Bool, save_plots_svg::Bool, plots_dir::String, samples_per_batch::Int64, single_failure_mode::Bool, refit_every_point::Bool, input_discretization_steps::Int64, p_estimate_discretization_steps::Int64, match_original::Bool, kwargs::Base.Pairs{Symbol, Union{}, Tuple{}, NamedTuple{(), Tuple{}}}) at bayesian_safety_validation.jl:211",
          "status": "Default",
          "x1": 3962,
          "x2": 4689.9
         },
         {
          "level": 11,
          "sf": "macro expansion at logging.jl:360 [inlined]",
          "status": "Runtime dispatch",
          "x1": 3962,
          "x2": 4689.9
         },
         {
          "level": 12,
          "sf": "string(::String, ::Float64, ::Vararg{Any}) at io.jl:185",
          "status": "Default",
          "x1": 3962,
          "x2": 3962.9
         },
         {
          "level": 13,
          "sf": "print_to_string(::String, ::Vararg{Any}) at io.jl:133",
          "status": "Default",
          "x1": 3962,
          "x2": 3962.9
         },
         {
          "level": 12,
          "sf": "kwcall(::NamedTuple{(:num_steps,), Tuple{Int64}}, ::typeof(p_estimate), gp::GaussianProcesses.GPE{Matrix{Float64}, Vector{Float64}, GaussianProcesses.MeanZero, GaussianProcesses.Mat12Iso{Float64}, GaussianProcesses.FullCovariance, GaussianProcesses.IsotropicData{Matrix{Float64}}, PDMats.PDMat{Float64, Matrix{Float64}}, GaussianProcesses.Scalar{Float64}}, models::Vector{OperationalParameters}) at likelihood_weighting.jl:4",
          "status": "Default",
          "x1": 3963,
          "x2": 4689.9
         },
         {
          "level": 13,
          "sf": "p_estimate(gp::GaussianProcesses.GPE{Matrix{Float64}, Vector{Float64}, GaussianProcesses.MeanZero, GaussianProcesses.Mat12Iso{Float64}, GaussianProcesses.FullCovariance, GaussianProcesses.IsotropicData{Matrix{Float64}}, PDMats.PDMat{Float64, Matrix{Float64}}, GaussianProcesses.Scalar{Float64}}, models::Vector{OperationalParameters}; num_steps::Int64, m::Vector{Int64}, grid::Bool) at likelihood_weighting.jl:6",
          "status": "Default",
          "x1": 3963,
          "x2": 3963.9
         },
         {
          "level": 14,
          "sf": "make_broadcastable_grid(models::Vector{OperationalParameters}, m::Vector{Int64}) at surrogate_model.jl:63",
          "status": "Runtime dispatch",
          "x1": 3963,
          "x2": 3963.9
         },
         {
          "level": 15,
          "sf": "make_broadcastable_grid(inputs::Vector{Vector{Float64}}) at surrogate_model.jl:67",
          "status": "Default",
          "x1": 3963,
          "x2": 3963.9
         },
         {
          "level": 16,
          "sf": "collect(itr::Base.Generator{Base.Iterators.Enumerate{Vector{Vector{Float64}}}, BayesianSafetyValidation.var\"#34#35\"{Vector{Vector{Float64}}}}) at array.jl:782",
          "status": "Default",
          "x1": 3963,
          "x2": 3963.9
         },
         {
          "level": 17,
          "sf": "iterate at generator.jl:47 [inlined]",
          "status": "Default",
          "x1": 3963,
          "x2": 3963.9
         },
         {
          "level": 18,
          "sf": "(::BayesianSafetyValidation.var\"#34#35\"{Vector{Vector{Float64}}})(::Tuple{Int64, Vector{Float64}}) at array.jl:0",
          "status": "Runtime dispatch",
          "x1": 3963,
          "x2": 3963.9
         },
         {
          "level": 19,
          "sf": "vect(::Function, ::Vararg{Any}) at array.jl:144",
          "status": "Runtime dispatch",
          "x1": 3963,
          "x2": 3963.9
         },
         {
          "level": 20,
          "sf": "promote_typeof(::Function, ::Int64, ::Vararg{Int64}) at promotion.jl:361",
          "status": "Default",
          "x1": 3963,
          "x2": 3963.9
         },
         {
          "level": 21,
          "sf": "promote_type at promotion.jl:307 [inlined]",
          "status": "Default",
          "x1": 3963,
          "x2": 3963.9
         },
         {
          "level": 22,
          "sf": "promote_result at promotion.jl:324 [inlined]",
          "status": "Runtime dispatch",
          "x1": 3963,
          "x2": 3963.9
         },
         {
          "level": 13,
          "sf": "p_estimate(gp::GaussianProcesses.GPE{Matrix{Float64}, Vector{Float64}, GaussianProcesses.MeanZero, GaussianProcesses.Mat12Iso{Float64}, GaussianProcesses.FullCovariance, GaussianProcesses.IsotropicData{Matrix{Float64}}, PDMats.PDMat{Float64, Matrix{Float64}}, GaussianProcesses.Scalar{Float64}}, models::Vector{OperationalParameters}; num_steps::Int64, m::Vector{Int64}, grid::Bool) at likelihood_weighting.jl:7",
          "status": "Runtime dispatch",
          "x1": 3964,
          "x2": 4206.9
         },
         {
          "level": 14,
          "sf": "broadcast(::BayesianSafetyValidation.var\"#59#67\"{Vector{OperationalParameters}}, ::Array{Float64, 3}, ::Array{Float64, 3}, ::Array{Float64, 3}) at broadcast.jl:811",
          "status": "Default",
          "x1": 3964,
          "x2": 4206.9
         },
         {
          "level": 15,
          "sf": "materialize at broadcast.jl:873 [inlined]",
          "status": "Default",
          "x1": 3964,
          "x2": 4206.9
         },
         {
          "level": 16,
          "sf": "copy at broadcast.jl:920 [inlined]",
          "status": "Runtime dispatch",
          "x1": 3964,
          "x2": 4206.9
         },
         {
          "level": 17,
          "sf": "copyto_nonleaf!(dest::Array{Float64, 3}, bc::Base.Broadcast.Broadcasted{Base.Broadcast.DefaultArrayStyle{3}, Tuple{Base.OneTo{Int64}, Base.OneTo{Int64}, Base.OneTo{Int64}}, BayesianSafetyValidation.var\"#59#67\"{Vector{OperationalParameters}}, Tuple{Base.Broadcast.Extruded{Array{Float64, 3}, Tuple{Bool, Bool, Bool}, Tuple{Int64, Int64, Int64}}, Base.Broadcast.Extruded{Array{Float64, 3}, Tuple{Bool, Bool, Bool}, Tuple{Int64, Int64, Int64}}, Base.Broadcast.Extruded{Array{Float64, 3}, Tuple{Bool, Bool, Bool}, Tuple{Int64, Int64, Int64}}}}, iter::CartesianIndices{3, Tuple{Base.OneTo{Int64}, Base.OneTo{Int64}, Base.OneTo{Int64}}}, state::CartesianIndex{3}, count::Int64) at broadcast.jl:1068",
          "status": "Default",
          "x1": 3964,
          "x2": 4206.9
         },
         {
          "level": 18,
          "sf": "getindex at broadcast.jl:610 [inlined]",
          "status": "Default",
          "x1": 3964,
          "x2": 4206.9
         },
         {
          "level": 19,
          "sf": "_broadcast_getindex at broadcast.jl:655 [inlined]",
          "status": "Default",
          "x1": 3964,
          "x2": 3965.9
         },
         {
          "level": 20,
          "sf": "_getindex at broadcast.jl:679 [inlined]",
          "status": "Default",
          "x1": 3964,
          "x2": 3965.9
         },
         {
          "level": 21,
          "sf": "_getindex at broadcast.jl:679 [inlined]",
          "status": "Default",
          "x1": 3964,
          "x2": 3965.9
         },
         {
          "level": 22,
          "sf": "_broadcast_getindex at broadcast.jl:649 [inlined]",
          "status": "Default",
          "x1": 3964,
          "x2": 3965.9
         },
         {
          "level": 23,
          "sf": "getindex at multidimensional.jl:668 [inlined]",
          "status": "Default",
          "x1": 3964,
          "x2": 3965.9
         },
         {
          "level": 24,
          "sf": "getindex at essentials.jl:14 [inlined]",
          "status": "Default",
          "x1": 3964,
          "x2": 3965.9
         },
         {
          "level": 19,
          "sf": "_broadcast_getindex at broadcast.jl:656 [inlined]",
          "status": "Default",
          "x1": 3966,
          "x2": 4206.9
         },
         {
          "level": 20,
          "sf": "_broadcast_getindex_evalf at broadcast.jl:683 [inlined]",
          "status": "Garbage collection",
          "x1": 3966,
          "x2": 4206.9
         },
         {
          "level": 21,
          "sf": "(::BayesianSafetyValidation.var\"#59#67\"{Vector{OperationalParameters}})(::Float64, ::Vararg{Float64}) at likelihood_weighting.jl:7",
          "status": "Garbage collection",
          "x1": 3971,
          "x2": 4206.9
         },
         {
          "level": 22,
          "sf": "prod(a::Vector{Float64}) at reducedim.jl:994",
          "status": "Default",
          "x1": 4006,
          "x2": 4006.9
         },
         {
          "level": 22,
          "sf": "collect(itr::Base.Generator{Base.Iterators.Zip{Tuple{Tuple{Float64, Float64, Float64}, Vector{OperationalParameters}}}, BayesianSafetyValidation.var\"#60#68\"}) at array.jl:782",
          "status": "Default",
          "x1": 4007,
          "x2": 4010.9
         },
         {
          "level": 23,
          "sf": "iterate at generator.jl:47 [inlined]",
          "status": "Default",
          "x1": 4007,
          "x2": 4010.9
         },
         {
          "level": 24,
          "sf": "(::BayesianSafetyValidation.var\"#60#68\")(::Tuple{Float64, OperationalParameters}) at none:0",
          "status": "Runtime dispatch",
          "x1": 4007,
          "x2": 4010.9
         },
         {
          "level": 25,
          "sf": "indexed_iterate at tuple.jl:88 [inlined]",
          "status": "Default",
          "x1": 4007,
          "x2": 4007.9
         },
         {
          "level": 26,
          "sf": "indexed_iterate at tuple.jl:88 [inlined]",
          "status": "Default",
          "x1": 4007,
          "x2": 4007.9
         },
         {
          "level": 25,
          "sf": "pdf(d::Uniform{Float64}, x::Float64) at uniform.jl:78",
          "status": "Default",
          "x1": 4008,
          "x2": 4008.9
         },
         {
          "level": 22,
          "sf": "collect(itr::Base.Generator{Base.Iterators.Zip{Tuple{Tuple{Float64, Float64, Float64}, Vector{OperationalParameters}}}, BayesianSafetyValidation.var\"#60#68\"}) at array.jl:787",
          "status": "Runtime dispatch",
          "x1": 4011,
          "x2": 4038.9
         },
         {
          "level": 23,
          "sf": "_array_for(#unused#::Type{Float64}, #unused#::Base.HasLength, len::Int64) at array.jl:670",
          "status": "Default",
          "x1": 4033,
          "x2": 4038.9
         },
         {
          "level": 24,
          "sf": "Array at boot.jl:477 [inlined]",
          "status": "Garbage collection",
          "x1": 4033,
          "x2": 4038.9
         },
         {
          "level": 22,
          "sf": "collect(itr::Base.Generator{Base.Iterators.Zip{Tuple{Tuple{Float64, Float64, Float64}, Vector{OperationalParameters}}}, BayesianSafetyValidation.var\"#60#68\"}) at array.jl:792",
          "status": "Garbage collection",
          "x1": 4039,
          "x2": 4192.9
         },
         {
          "level": 23,
          "sf": "collect_to!(dest::Vector{Float64}, itr::Base.Generator{Base.Iterators.Zip{Tuple{Tuple{Float64, Float64, Float64}, Vector{OperationalParameters}}}, BayesianSafetyValidation.var\"#60#68\"}, offs::Int64, st::Tuple{Int64, Int64}) at array.jl:835",
          "status": "Default",
          "x1": 4041,
          "x2": 4041.9
         },
         {
          "level": 23,
          "sf": "collect_to_with_first!(dest::Vector{Float64}, v1::Float64, itr::Base.Generator{Base.Iterators.Zip{Tuple{Tuple{Float64, Float64, Float64}, Vector{OperationalParameters}}}, BayesianSafetyValidation.var\"#60#68\"}, st::Tuple{Int64, Int64}) at array.jl:818",
          "status": "Default",
          "x1": 4042,
          "x2": 4192.9
         },
         {
          "level": 24,
          "sf": "collect_to!(dest::Vector{Float64}, itr::Base.Generator{Base.Iterators.Zip{Tuple{Tuple{Float64, Float64, Float64}, Vector{OperationalParameters}}}, BayesianSafetyValidation.var\"#60#68\"}, offs::Int64, st::Tuple{Int64, Int64}) at array.jl:840",
          "status": "Default",
          "x1": 4042,
          "x2": 4192.9
         },
         {
          "level": 25,
          "sf": "iterate at generator.jl:47 [inlined]",
          "status": "Default",
          "x1": 4042,
          "x2": 4192.9
         },
         {
          "level": 26,
          "sf": "(::BayesianSafetyValidation.var\"#60#68\")(::Tuple{Float64, OperationalParameters}) at none:0",
          "status": "Garbage collection",
          "x1": 4042,
          "x2": 4192.9
         },
         {
          "level": 27,
          "sf": "pdf(d::Uniform{Float64}, x::Float64) at uniform.jl:78",
          "status": "Default",
          "x1": 4185,
          "x2": 4186.9
         },
         {
          "level": 22,
          "sf": "(::BayesianSafetyValidation.var\"#60#68\")(::Tuple{Float64, OperationalParameters}) at none:0",
          "status": "Default",
          "x1": 4193,
          "x2": 4193.9
         },
         {
          "level": 13,
          "sf": "p_estimate(gp::GaussianProcesses.GPE{Matrix{Float64}, Vector{Float64}, GaussianProcesses.MeanZero, GaussianProcesses.Mat12Iso{Float64}, GaussianProcesses.FullCovariance, GaussianProcesses.IsotropicData{Matrix{Float64}}, PDMats.PDMat{Float64, Matrix{Float64}}, GaussianProcesses.Scalar{Float64}}, models::Vector{OperationalParameters}; num_steps::Int64, m::Vector{Int64}, grid::Bool) at likelihood_weighting.jl:15",
          "status": "Runtime dispatch",
          "x1": 4207,
          "x2": 4689.9
         },
         {
          "level": 14,
          "sf": "broadcast(::BayesianSafetyValidation.var\"#65#73\"{GaussianProcesses.GPE{Matrix{Float64}, Vector{Float64}, GaussianProcesses.MeanZero, GaussianProcesses.Mat12Iso{Float64}, GaussianProcesses.FullCovariance, GaussianProcesses.IsotropicData{Matrix{Float64}}, PDMats.PDMat{Float64, Matrix{Float64}}, GaussianProcesses.Scalar{Float64}}}, ::Array{Float64, 3}, ::Array{Float64, 3}, ::Array{Float64, 3}) at broadcast.jl:811",
          "status": "Default",
          "x1": 4207,
          "x2": 4689.9
         },
         {
          "level": 15,
          "sf": "materialize at broadcast.jl:873 [inlined]",
          "status": "Default",
          "x1": 4207,
          "x2": 4689.9
         },
         {
          "level": 16,
          "sf": "copy at broadcast.jl:920 [inlined]",
          "status": "Default",
          "x1": 4207,
          "x2": 4689.9
         },
         {
          "level": 17,
          "sf": "copyto_nonleaf!(dest::BitArray{3}, bc::Base.Broadcast.Broadcasted{Base.Broadcast.DefaultArrayStyle{3}, Tuple{Base.OneTo{Int64}, Base.OneTo{Int64}, Base.OneTo{Int64}}, BayesianSafetyValidation.var\"#65#73\"{GaussianProcesses.GPE{Matrix{Float64}, Vector{Float64}, GaussianProcesses.MeanZero, GaussianProcesses.Mat12Iso{Float64}, GaussianProcesses.FullCovariance, GaussianProcesses.IsotropicData{Matrix{Float64}}, PDMats.PDMat{Float64, Matrix{Float64}}, GaussianProcesses.Scalar{Float64}}}, Tuple{Base.Broadcast.Extruded{Array{Float64, 3}, Tuple{Bool, Bool, Bool}, Tuple{Int64, Int64, Int64}}, Base.Broadcast.Extruded{Array{Float64, 3}, Tuple{Bool, Bool, Bool}, Tuple{Int64, Int64, Int64}}, Base.Broadcast.Extruded{Array{Float64, 3}, Tuple{Bool, Bool, Bool}, Tuple{Int64, Int64, Int64}}}}, iter::CartesianIndices{3, Tuple{Base.OneTo{Int64}, Base.OneTo{Int64}, Base.OneTo{Int64}}}, state::CartesianIndex{3}, count::Int64) at broadcast.jl:1068",
          "status": "Default",
          "x1": 4207,
          "x2": 4682.9
         },
         {
          "level": 18,
          "sf": "getindex at broadcast.jl:610 [inlined]",
          "status": "Default",
          "x1": 4207,
          "x2": 4682.9
         },
         {
          "level": 19,
          "sf": "_broadcast_getindex at broadcast.jl:656 [inlined]",
          "status": "Default",
          "x1": 4207,
          "x2": 4682.9
         },
         {
          "level": 20,
          "sf": "_broadcast_getindex_evalf at broadcast.jl:683 [inlined]",
          "status": "Garbage collection",
          "x1": 4207,
          "x2": 4682.9
         },
         {
          "level": 21,
          "sf": "(::BayesianSafetyValidation.var\"#65#73\"{GaussianProcesses.GPE{Matrix{Float64}, Vector{Float64}, GaussianProcesses.MeanZero, GaussianProcesses.Mat12Iso{Float64}, GaussianProcesses.FullCovariance, GaussianProcesses.IsotropicData{Matrix{Float64}}, PDMats.PDMat{Float64, Matrix{Float64}}, GaussianProcesses.Scalar{Float64}}})(::Float64, ::Vararg{Float64}) at likelihood_weighting.jl:15",
          "status": "Runtime dispatch",
          "x1": 4209,
          "x2": 4680.9
         },
         {
          "level": 22,
          "sf": "vect(::Float64, ::Vararg{Float64}) at array.jl:126",
          "status": "Default",
          "x1": 4255,
          "x2": 4260.9
         },
         {
          "level": 23,
          "sf": "_array_for at array.jl:674 [inlined]",
          "status": "Default",
          "x1": 4255,
          "x2": 4260.9
         },
         {
          "level": 24,
          "sf": "_array_for at array.jl:671 [inlined]",
          "status": "Default",
          "x1": 4255,
          "x2": 4260.9
         },
         {
          "level": 25,
          "sf": "similar at abstractarray.jl:881 [inlined]",
          "status": "Default",
          "x1": 4255,
          "x2": 4260.9
         },
         {
          "level": 26,
          "sf": "similar at abstractarray.jl:882 [inlined]",
          "status": "Default",
          "x1": 4255,
          "x2": 4260.9
         },
         {
          "level": 27,
          "sf": "Array at boot.jl:486 [inlined]",
          "status": "Default",
          "x1": 4255,
          "x2": 4260.9
         },
         {
          "level": 28,
          "sf": "Array at boot.jl:477 [inlined]",
          "status": "Garbage collection",
          "x1": 4255,
          "x2": 4260.9
         },
         {
          "level": 22,
          "sf": "(::BayesianSafetyValidation.var\"#28#29\")(gp::GaussianProcesses.GPE{Matrix{Float64}, Vector{Float64}, GaussianProcesses.MeanZero, GaussianProcesses.Mat12Iso{Float64}, GaussianProcesses.FullCovariance, GaussianProcesses.IsotropicData{Matrix{Float64}}, PDMats.PDMat{Float64, Matrix{Float64}}, GaussianProcesses.Scalar{Float64}}, x::Vector{Float64}) at surrogate_model.jl:51",
          "status": "Runtime dispatch",
          "x1": 4262,
          "x2": 4679.9
         },
         {
          "level": 23,
          "sf": "(::BayesianSafetyValidation.var\"#24#25\")(gp::GaussianProcesses.GPE{Matrix{Float64}, Vector{Float64}, GaussianProcesses.MeanZero, GaussianProcesses.Mat12Iso{Float64}, GaussianProcesses.FullCovariance, GaussianProcesses.IsotropicData{Matrix{Float64}}, PDMats.PDMat{Float64, Matrix{Float64}}, GaussianProcesses.Scalar{Float64}}, x::Vector{Float64}) at surrogate_model.jl:39",
          "status": "Runtime dispatch",
          "x1": 4266,
          "x2": 4678.9
         },
         {
          "level": 24,
          "sf": "getindex(t::Tuple, i::Int64) at tuple.jl:29",
          "status": "Default",
          "x1": 4301,
          "x2": 4303.9
         },
         {
          "level": 24,
          "sf": "(::BayesianSafetyValidation.var\"#20#22\")(gp::GaussianProcesses.GPE{Matrix{Float64}, Vector{Float64}, GaussianProcesses.MeanZero, GaussianProcesses.Mat12Iso{Float64}, GaussianProcesses.FullCovariance, GaussianProcesses.IsotropicData{Matrix{Float64}}, PDMats.PDMat{Float64, Matrix{Float64}}, GaussianProcesses.Scalar{Float64}}, x::Vector{Float64}) at surrogate_model.jl:33",
          "status": "Default",
          "x1": 4305,
          "x2": 4671.9
         },
         {
          "level": 25,
          "sf": "map at tuple.jl:274 [inlined]",
          "status": "Default",
          "x1": 4305,
          "x2": 4315.9
         },
         {
          "level": 26,
          "sf": "getindex at tuple.jl:29 [inlined]",
          "status": "Default",
          "x1": 4305,
          "x2": 4305.9
         },
         {
          "level": 26,
          "sf": "(::BayesianSafetyValidation.var\"#21#23\")(y::Vector{Float64}) at surrogate_model.jl:33",
          "status": "Default",
          "x1": 4306,
          "x2": 4315.9
         },
         {
          "level": 27,
          "sf": "materialize at broadcast.jl:873 [inlined]",
          "status": "Default",
          "x1": 4306,
          "x2": 4315.9
         },
         {
          "level": 28,
          "sf": "copy at broadcast.jl:898 [inlined]",
          "status": "Default",
          "x1": 4306,
          "x2": 4315.9
         },
         {
          "level": 29,
          "sf": "copyto! at broadcast.jl:926 [inlined]",
          "status": "Default",
          "x1": 4306,
          "x2": 4309.9
         },
         {
          "level": 30,
          "sf": "copyto! at broadcast.jl:970 [inlined]",
          "status": "Default",
          "x1": 4306,
          "x2": 4306.9
         },
         {
          "level": 31,
          "sf": "preprocess at broadcast.jl:953 [inlined]",
          "status": "Default",
          "x1": 4306,
          "x2": 4306.9
         },
         {
          "level": 32,
          "sf": "preprocess_args at broadcast.jl:957 [inlined]",
          "status": "Default",
          "x1": 4306,
          "x2": 4306.9
         },
         {
          "level": 33,
          "sf": "preprocess at broadcast.jl:954 [inlined]",
          "status": "Default",
          "x1": 4306,
          "x2": 4306.9
         },
         {
          "level": 34,
          "sf": "broadcast_unalias at broadcast.jl:947 [inlined]",
          "status": "Default",
          "x1": 4306,
          "x2": 4306.9
         },
         {
          "level": 30,
          "sf": "copyto! at broadcast.jl:973 [inlined]",
          "status": "Default",
          "x1": 4307,
          "x2": 4309.9
         },
         {
          "level": 31,
          "sf": "macro expansion at simdloop.jl:75 [inlined]",
          "status": "Default",
          "x1": 4307,
          "x2": 4307.9
         },
         {
          "level": 32,
          "sf": "< at int.jl:83 [inlined]",
          "status": "Default",
          "x1": 4307,
          "x2": 4307.9
         },
         {
          "level": 31,
          "sf": "macro expansion at simdloop.jl:77 [inlined]",
          "status": "Default",
          "x1": 4308,
          "x2": 4309.9
         },
         {
          "level": 32,
          "sf": "macro expansion at broadcast.jl:974 [inlined]",
          "status": "Default",
          "x1": 4308,
          "x2": 4309.9
         },
         {
          "level": 33,
          "sf": "setindex! at array.jl:969 [inlined]",
          "status": "Default",
          "x1": 4308,
          "x2": 4308.9
         },
         {
          "level": 33,
          "sf": "getindex at broadcast.jl:610 [inlined]",
          "status": "Default",
          "x1": 4309,
          "x2": 4309.9
         },
         {
          "level": 34,
          "sf": "_broadcast_getindex at broadcast.jl:656 [inlined]",
          "status": "Default",
          "x1": 4309,
          "x2": 4309.9
         },
         {
          "level": 35,
          "sf": "_broadcast_getindex_evalf at broadcast.jl:683 [inlined]",
          "status": "Default",
          "x1": 4309,
          "x2": 4309.9
         },
         {
          "level": 36,
          "sf": "inverse at surrogate_model.jl:8 [inlined]",
          "status": "Default",
          "x1": 4309,
          "x2": 4309.9
         },
         {
          "level": 37,
          "sf": "inverse_logit at surrogate_model.jl:2 [inlined]",
          "status": "Default",
          "x1": 4309,
          "x2": 4309.9
         },
         {
          "level": 38,
          "sf": "#inverse_logit#8 at surrogate_model.jl:2 [inlined]",
          "status": "Default",
          "x1": 4309,
          "x2": 4309.9
         },
         {
          "level": 39,
          "sf": "exp(x::Float64) at exp.jl:325",
          "status": "Default",
          "x1": 4309,
          "x2": 4309.9
         },
         {
          "level": 40,
          "sf": "exp_impl at exp.jl:214 [inlined]",
          "status": "Default",
          "x1": 4309,
          "x2": 4309.9
         },
         {
          "level": 41,
          "sf": ">> at int.jl:508 [inlined]",
          "status": "Default",
          "x1": 4309,
          "x2": 4309.9
         },
         {
          "level": 42,
          "sf": ">> at int.jl:501 [inlined]",
          "status": "Default",
          "x1": 4309,
          "x2": 4309.9
         },
         {
          "level": 29,
          "sf": "similar at broadcast.jl:211 [inlined]",
          "status": "Default",
          "x1": 4310,
          "x2": 4315.9
         },
         {
          "level": 30,
          "sf": "similar at broadcast.jl:212 [inlined]",
          "status": "Default",
          "x1": 4310,
          "x2": 4315.9
         },
         {
          "level": 31,
          "sf": "similar at abstractarray.jl:881 [inlined]",
          "status": "Default",
          "x1": 4310,
          "x2": 4315.9
         },
         {
          "level": 32,
          "sf": "similar at abstractarray.jl:882 [inlined]",
          "status": "Default",
          "x1": 4310,
          "x2": 4315.9
         },
         {
          "level": 33,
          "sf": "Array at boot.jl:494 [inlined]",
          "status": "Default",
          "x1": 4310,
          "x2": 4315.9
         },
         {
          "level": 34,
          "sf": "Array at boot.jl:486 [inlined]",
          "status": "Default",
          "x1": 4310,
          "x2": 4315.9
         },
         {
          "level": 35,
          "sf": "Array at boot.jl:477 [inlined]",
          "status": "Garbage collection",
          "x1": 4310,
          "x2": 4315.9
         },
         {
          "level": 25,
          "sf": "predict_f at GP.jl:64 [inlined]",
          "status": "Default",
          "x1": 4316,
          "x2": 4671.9
         },
         {
          "level": 26,
          "sf": "predict_f(gp::GaussianProcesses.GPE{Matrix{Float64}, Vector{Float64}, GaussianProcesses.MeanZero, GaussianProcesses.Mat12Iso{Float64}, GaussianProcesses.FullCovariance, GaussianProcesses.IsotropicData{Matrix{Float64}}, PDMats.PDMat{Float64, Matrix{Float64}}, GaussianProcesses.Scalar{Float64}}, x::Base.ReshapedArray{Float64, 2, LinearAlgebra.Adjoint{Float64, Vector{Float64}}, Tuple{}}; full_cov::Bool) at GP.jl:65",
          "status": "Default",
          "x1": 4316,
          "x2": 4317.9
         },
         {
          "level": 27,
          "sf": "size at abstractarray.jl:42 [inlined]",
          "status": "Default",
          "x1": 4316,
          "x2": 4317.9
         },
         {
          "level": 28,
          "sf": "getindex at tuple.jl:29 [inlined]",
          "status": "Default",
          "x1": 4316,
          "x2": 4317.9
         },
         {
          "level": 26,
          "sf": "predict_f(gp::GaussianProcesses.GPE{Matrix{Float64}, Vector{Float64}, GaussianProcesses.MeanZero, GaussianProcesses.Mat12Iso{Float64}, GaussianProcesses.FullCovariance, GaussianProcesses.IsotropicData{Matrix{Float64}}, PDMats.PDMat{Float64, Matrix{Float64}}, GaussianProcesses.Scalar{Float64}}, x::Base.ReshapedArray{Float64, 2, LinearAlgebra.Adjoint{Float64, Vector{Float64}}, Tuple{}}; full_cov::Bool) at GP.jl:70",
          "status": "Default",
          "x1": 4318,
          "x2": 4324.9
         },
         {
          "level": 27,
          "sf": "Array at boot.jl:491 [inlined]",
          "status": "Default",
          "x1": 4318,
          "x2": 4324.9
         },
         {
          "level": 28,
          "sf": "Array at boot.jl:477 [inlined]",
          "status": "Garbage collection",
          "x1": 4318,
          "x2": 4324.9
         },
         {
          "level": 26,
          "sf": "predict_f(gp::GaussianProcesses.GPE{Matrix{Float64}, Vector{Float64}, GaussianProcesses.MeanZero, GaussianProcesses.Mat12Iso{Float64}, GaussianProcesses.FullCovariance, GaussianProcesses.IsotropicData{Matrix{Float64}}, PDMats.PDMat{Float64, Matrix{Float64}}, GaussianProcesses.Scalar{Float64}}, x::Base.ReshapedArray{Float64, 2, LinearAlgebra.Adjoint{Float64, Vector{Float64}}, Tuple{}}; full_cov::Bool) at GP.jl:71",
          "status": "Default",
          "x1": 4325,
          "x2": 4327.9
         },
         {
          "level": 27,
          "sf": "similar at array.jl:369 [inlined]",
          "status": "Default",
          "x1": 4325,
          "x2": 4327.9
         },
         {
          "level": 28,
          "sf": "Array at boot.jl:477 [inlined]",
          "status": "Garbage collection",
          "x1": 4325,
          "x2": 4327.9
         },
         {
          "level": 26,
          "sf": "predict_f(gp::GaussianProcesses.GPE{Matrix{Float64}, Vector{Float64}, GaussianProcesses.MeanZero, GaussianProcesses.Mat12Iso{Float64}, GaussianProcesses.FullCovariance, GaussianProcesses.IsotropicData{Matrix{Float64}}, PDMats.PDMat{Float64, Matrix{Float64}}, GaussianProcesses.Scalar{Float64}}, x::Base.ReshapedArray{Float64, 2, LinearAlgebra.Adjoint{Float64, Vector{Float64}}, Tuple{}}; full_cov::Bool) at GP.jl:73",
          "status": "Default",
          "x1": 4328,
          "x2": 4561.9
         },
         {
          "level": 27,
          "sf": "getindex at abstractarray.jl:1294 [inlined]",
          "status": "Default",
          "x1": 4328,
          "x2": 4332.9
         },
         {
          "level": 28,
          "sf": "_getindex at multidimensional.jl:861 [inlined]",
          "status": "Default",
          "x1": 4328,
          "x2": 4332.9
         },
         {
          "level": 29,
          "sf": "_unsafe_getindex(::IndexLinear, ::Base.ReshapedArray{Float64, 2, LinearAlgebra.Adjoint{Float64, Vector{Float64}}, Tuple{}}, ::Base.Slice{Base.OneTo{Int64}}, ::UnitRange{Int64}) at multidimensional.jl:873",
          "status": "Default",
          "x1": 4328,
          "x2": 4332.9
         },
         {
          "level": 30,
          "sf": "similar at abstractarray.jl:836 [inlined]",
          "status": "Default",
          "x1": 4328,
          "x2": 4332.9
         },
         {
          "level": 31,
          "sf": "similar at reshapedarray.jl:209 [inlined]",
          "status": "Default",
          "x1": 4328,
          "x2": 4332.9
         },
         {
          "level": 32,
          "sf": "similar at adjtrans.jl:335 [inlined]",
          "status": "Default",
          "x1": 4328,
          "x2": 4332.9
         },
         {
          "level": 33,
          "sf": "similar at array.jl:374 [inlined]",
          "status": "Default",
          "x1": 4328,
          "x2": 4332.9
         },
         {
          "level": 34,
          "sf": "Array at boot.jl:487 [inlined]",
          "status": "Default",
          "x1": 4328,
          "x2": 4332.9
         },
         {
          "level": 35,
          "sf": "Array at boot.jl:479 [inlined]",
          "status": "Garbage collection",
          "x1": 4328,
          "x2": 4332.9
         },
         {
          "level": 27,
          "sf": "Colon at range.jl:5 [inlined]",
          "status": "Default",
          "x1": 4333,
          "x2": 4333.9
         },
         {
          "level": 28,
          "sf": "UnitRange at range.jl:397 [inlined]",
          "status": "Default",
          "x1": 4333,
          "x2": 4333.9
         },
         {
          "level": 27,
          "sf": "predict_full at GPE.jl:399 [inlined]",
          "status": "Default",
          "x1": 4334,
          "x2": 4561.9
         },
         {
          "level": 28,
          "sf": "getproperty at Base.jl:37 [inlined]",
          "status": "Default",
          "x1": 4334,
          "x2": 4334.9
         },
         {
          "level": 28,
          "sf": "predictMVN(xpred::Matrix{Float64}, xtrain::Matrix{Float64}, ytrain::Vector{Float64}, kernel::GaussianProcesses.Mat12Iso{Float64}, meanf::GaussianProcesses.MeanZero, alpha::Vector{Float64}, covstrat::GaussianProcesses.FullCovariance, Ktrain::PDMats.PDMat{Float64, Matrix{Float64}}) at GP.jl:39",
          "status": "Default",
          "x1": 4335,
          "x2": 4335.9
         },
         {
          "level": 28,
          "sf": "predictMVN(xpred::Matrix{Float64}, xtrain::Matrix{Float64}, ytrain::Vector{Float64}, kernel::GaussianProcesses.Mat12Iso{Float64}, meanf::GaussianProcesses.MeanZero, alpha::Vector{Float64}, covstrat::GaussianProcesses.FullCovariance, Ktrain::PDMats.PDMat{Float64, Matrix{Float64}}) at GP.jl:42",
          "status": "Default",
          "x1": 4336,
          "x2": 4378.9
         },
         {
          "level": 29,
          "sf": "KernelData at stationary.jl:39 [inlined]",
          "status": "Default",
          "x1": 4336,
          "x2": 4378.9
         },
         {
          "level": 30,
          "sf": "distance at distance.jl:24 [inlined]",
          "status": "Default",
          "x1": 4336,
          "x2": 4378.9
         },
         {
          "level": 31,
          "sf": "Array at boot.jl:479 [inlined]",
          "status": "Garbage collection",
          "x1": 4336,
          "x2": 4346.9
         },
         {
          "level": 31,
          "sf": "distance!(dist::Matrix{Float64}, m::Distances.Euclidean, X::Matrix{Float64}, Y::Matrix{Float64}) at distance.jl:31",
          "status": "Default",
          "x1": 4347,
          "x2": 4378.9
         },
         {
          "level": 32,
          "sf": "macro expansion at simdloop.jl:77 [inlined]",
          "status": "Default",
          "x1": 4347,
          "x2": 4378.9
         },
         {
          "level": 33,
          "sf": "macro expansion at distance.jl:0 [inlined]",
          "status": "Default",
          "x1": 4347,
          "x2": 4349.9
         },
         {
          "level": 33,
          "sf": "macro expansion at distance.jl:33 [inlined]",
          "status": "Default",
          "x1": 4350,
          "x2": 4376.9
         },
         {
          "level": 34,
          "sf": "setindex! at array.jl:971 [inlined]",
          "status": "Default",
          "x1": 4350,
          "x2": 4362.9
         },
         {
          "level": 34,
          "sf": "distij at distance.jl:69 [inlined]",
          "status": "Default",
          "x1": 4363,
          "x2": 4376.9
         },
         {
          "level": 35,
          "sf": "sqrt at math.jl:677 [inlined]",
          "status": "Default",
          "x1": 4363,
          "x2": 4365.9
         },
         {
          "level": 36,
          "sf": "< at float.jl:535 [inlined]",
          "status": "Default",
          "x1": 4363,
          "x2": 4365.9
         },
         {
          "level": 35,
          "sf": "sqrt at math.jl:678 [inlined]",
          "status": "Default",
          "x1": 4366,
          "x2": 4366.9
         },
         {
          "level": 35,
          "sf": "_SqEuclidean_ij at distance.jl:52 [inlined]",
          "status": "Default",
          "x1": 4367,
          "x2": 4376.9
         },
         {
          "level": 36,
          "sf": "macro expansion at simdloop.jl:75 [inlined]",
          "status": "Default",
          "x1": 4367,
          "x2": 4370.9
         },
         {
          "level": 36,
          "sf": "macro expansion at simdloop.jl:77 [inlined]",
          "status": "Default",
          "x1": 4371,
          "x2": 4376.9
         },
         {
          "level": 37,
          "sf": "macro expansion at distance.jl:53 [inlined]",
          "status": "Default",
          "x1": 4371,
          "x2": 4376.9
         },
         {
          "level": 38,
          "sf": "+ at float.jl:408 [inlined]",
          "status": "Default",
          "x1": 4371,
          "x2": 4372.9
         },
         {
          "level": 38,
          "sf": "_SqEuclidean_ijk at distance.jl:42 [inlined]",
          "status": "Default",
          "x1": 4373,
          "x2": 4376.9
         },
         {
          "level": 39,
          "sf": "getindex at essentials.jl:14 [inlined]",
          "status": "Default",
          "x1": 4373,
          "x2": 4376.9
         },
         {
          "level": 33,
          "sf": "macro expansion at distance.jl:34 [inlined]",
          "status": "Default",
          "x1": 4377,
          "x2": 4378.9
         },
         {
          "level": 34,
          "sf": "iterate at range.jl:891 [inlined]",
          "status": "Default",
          "x1": 4377,
          "x2": 4378.9
         },
         {
          "level": 28,
          "sf": "predictMVN(xpred::Matrix{Float64}, xtrain::Matrix{Float64}, ytrain::Vector{Float64}, kernel::GaussianProcesses.Mat12Iso{Float64}, meanf::GaussianProcesses.MeanZero, alpha::Vector{Float64}, covstrat::GaussianProcesses.FullCovariance, Ktrain::PDMats.PDMat{Float64, Matrix{Float64}}) at GP.jl:43",
          "status": "Default",
          "x1": 4379,
          "x2": 4386.9
         },
         {
          "level": 29,
          "sf": "KernelData at stationary.jl:39 [inlined]",
          "status": "Default",
          "x1": 4379,
          "x2": 4386.9
         },
         {
          "level": 30,
          "sf": "distance at distance.jl:24 [inlined]",
          "status": "Default",
          "x1": 4379,
          "x2": 4386.9
         },
         {
          "level": 31,
          "sf": "Array at boot.jl:479 [inlined]",
          "status": "Garbage collection",
          "x1": 4379,
          "x2": 4385.9
         },
         {
          "level": 31,
          "sf": "distance!(dist::Matrix{Float64}, m::Distances.Euclidean, X::Matrix{Float64}, Y::Matrix{Float64}) at distance.jl:31",
          "status": "Default",
          "x1": 4386,
          "x2": 4386.9
         },
         {
          "level": 32,
          "sf": "macro expansion at simdloop.jl:76 [inlined]",
          "status": "Default",
          "x1": 4386,
          "x2": 4386.9
         },
         {
          "level": 33,
          "sf": "simd_index at simdloop.jl:54 [inlined]",
          "status": "Default",
          "x1": 4386,
          "x2": 4386.9
         },
         {
          "level": 34,
          "sf": "getindex at range.jl:914 [inlined]",
          "status": "Default",
          "x1": 4386,
          "x2": 4386.9
         },
         {
          "level": 35,
          "sf": "+ at int.jl:87 [inlined]",
          "status": "Default",
          "x1": 4386,
          "x2": 4386.9
         },
         {
          "level": 28,
          "sf": "predictMVN(xpred::Matrix{Float64}, xtrain::Matrix{Float64}, ytrain::Vector{Float64}, kernel::GaussianProcesses.Mat12Iso{Float64}, meanf::GaussianProcesses.MeanZero, alpha::Vector{Float64}, covstrat::GaussianProcesses.FullCovariance, Ktrain::PDMats.PDMat{Float64, Matrix{Float64}}) at GP.jl:44",
          "status": "Default",
          "x1": 4387,
          "x2": 4435.9
         },
         {
          "level": 29,
          "sf": "cov at kernels.jl:35 [inlined]",
          "status": "Default",
          "x1": 4387,
          "x2": 4394.9
         },
         {
          "level": 30,
          "sf": "Array at boot.jl:492 [inlined]",
          "status": "Default",
          "x1": 4387,
          "x2": 4394.9
         },
         {
          "level": 31,
          "sf": "Array at boot.jl:479 [inlined]",
          "status": "Garbage collection",
          "x1": 4387,
          "x2": 4394.9
         },
         {
          "level": 29,
          "sf": "cov at kernels.jl:36 [inlined]",
          "status": "Default",
          "x1": 4395,
          "x2": 4435.9
         },
         {
          "level": 30,
          "sf": "cov!(cK::Matrix{Float64}, k::GaussianProcesses.Mat12Iso{Float64}, X1::Matrix{Float64}, X2::Matrix{Float64}, data::GaussianProcesses.IsotropicData{Matrix{Float64}}) at kernels.jl:0",
          "status": "Default",
          "x1": 4395,
          "x2": 4397.9
         },
         {
          "level": 30,
          "sf": "cov!(cK::Matrix{Float64}, k::GaussianProcesses.Mat12Iso{Float64}, X1::Matrix{Float64}, X2::Matrix{Float64}, data::GaussianProcesses.IsotropicData{Matrix{Float64}}) at kernels.jl:56",
          "status": "Default",
          "x1": 4398,
          "x2": 4398.9
         },
         {
          "level": 30,
          "sf": "cov!(cK::Matrix{Float64}, k::GaussianProcesses.Mat12Iso{Float64}, X1::Matrix{Float64}, X2::Matrix{Float64}, data::GaussianProcesses.IsotropicData{Matrix{Float64}}) at kernels.jl:67",
          "status": "Default",
          "x1": 4399,
          "x2": 4431.9
         },
         {
          "level": 31,
          "sf": "setindex! at array.jl:971 [inlined]",
          "status": "Default",
          "x1": 4399,
          "x2": 4407.9
         },
         {
          "level": 31,
          "sf": "cov_ij at stationary.jl:46 [inlined]",
          "status": "Default",
          "x1": 4408,
          "x2": 4431.9
         },
         {
          "level": 32,
          "sf": "getindex at essentials.jl:0 [inlined]",
          "status": "Default",
          "x1": 4408,
          "x2": 4408.9
         },
         {
          "level": 32,
          "sf": "getindex at essentials.jl:14 [inlined]",
          "status": "Default",
          "x1": 4409,
          "x2": 4409.9
         },
         {
          "level": 32,
          "sf": "cov at mat12_iso.jl:41 [inlined]",
          "status": "Default",
          "x1": 4410,
          "x2": 4431.9
         },
         {
          "level": 33,
          "sf": "getproperty at Base.jl:37 [inlined]",
          "status": "Default",
          "x1": 4410,
          "x2": 4410.9
         },
         {
          "level": 33,
          "sf": "/ at float.jl:411 [inlined]",
          "status": "Default",
          "x1": 4411,
          "x2": 4412.9
         },
         {
          "level": 33,
          "sf": "exp(x::Float64) at exp.jl:325",
          "status": "Default",
          "x1": 4413,
          "x2": 4431.9
         },
         {
          "level": 34,
          "sf": "exp_impl at exp.jl:215 [inlined]",
          "status": "Default",
          "x1": 4413,
          "x2": 4413.9
         },
         {
          "level": 35,
          "sf": "table_unpack at exp.jl:181 [inlined]",
          "status": "Default",
          "x1": 4413,
          "x2": 4413.9
         },
         {
          "level": 36,
          "sf": "& at int.jl:347 [inlined]",
          "status": "Default",
          "x1": 4413,
          "x2": 4413.9
         },
         {
          "level": 34,
          "sf": "exp_impl at exp.jl:216 [inlined]",
          "status": "Default",
          "x1": 4414,
          "x2": 4416.9
         },
         {
          "level": 35,
          "sf": "expm1b_kernel at exp.jl:78 [inlined]",
          "status": "Default",
          "x1": 4414,
          "x2": 4416.9
         },
         {
          "level": 36,
          "sf": "evalpoly at math.jl:177 [inlined]",
          "status": "Default",
          "x1": 4414,
          "x2": 4416.9
         },
         {
          "level": 37,
          "sf": "macro expansion at math.jl:178 [inlined]",
          "status": "Default",
          "x1": 4414,
          "x2": 4416.9
         },
         {
          "level": 38,
          "sf": "muladd at float.jl:413 [inlined]",
          "status": "Default",
          "x1": 4414,
          "x2": 4416.9
         },
         {
          "level": 34,
          "sf": "exp_impl at exp.jl:218 [inlined]",
          "status": "Default",
          "x1": 4417,
          "x2": 4424.9
         },
         {
          "level": 35,
          "sf": "<= at float.jl:536 [inlined]",
          "status": "Default",
          "x1": 4417,
          "x2": 4417.9
         },
         {
          "level": 35,
          "sf": "abs at float.jl:609 [inlined]",
          "status": "Default",
          "x1": 4418,
          "x2": 4424.9
         },
         {
          "level": 34,
          "sf": "exp_impl at exp.jl:229 [inlined]",
          "status": "Default",
          "x1": 4425,
          "x2": 4426.9
         },
         {
          "level": 35,
          "sf": "+ at int.jl:87 [inlined]",
          "status": "Default",
          "x1": 4425,
          "x2": 4426.9
         },
         {
          "level": 30,
          "sf": "cov!(cK::Matrix{Float64}, k::GaussianProcesses.Mat12Iso{Float64}, X1::Matrix{Float64}, X2::Matrix{Float64}, data::GaussianProcesses.IsotropicData{Matrix{Float64}}) at kernels.jl:68",
          "status": "Default",
          "x1": 4432,
          "x2": 4433.9
         },
         {
          "level": 30,
          "sf": "cov!(cK::Matrix{Float64}, k::GaussianProcesses.Mat12Iso{Float64}, X1::Matrix{Float64}, X2::Matrix{Float64}, data::GaussianProcesses.IsotropicData{Matrix{Float64}}) at kernels.jl:69",
          "status": "Default",
          "x1": 4434,
          "x2": 4435.9
         },
         {
          "level": 28,
          "sf": "predictMVN(xpred::Matrix{Float64}, xtrain::Matrix{Float64}, ytrain::Vector{Float64}, kernel::GaussianProcesses.Mat12Iso{Float64}, meanf::GaussianProcesses.MeanZero, alpha::Vector{Float64}, covstrat::GaussianProcesses.FullCovariance, Ktrain::PDMats.PDMat{Float64, Matrix{Float64}}) at GP.jl:45",
          "status": "Default",
          "x1": 4436,
          "x2": 4453.9
         },
         {
          "level": 29,
          "sf": "cov at kernels.jl:35 [inlined]",
          "status": "Default",
          "x1": 4436,
          "x2": 4445.9
         },
         {
          "level": 30,
          "sf": "Array at boot.jl:492 [inlined]",
          "status": "Default",
          "x1": 4436,
          "x2": 4445.9
         },
         {
          "level": 31,
          "sf": "Array at boot.jl:479 [inlined]",
          "status": "Garbage collection",
          "x1": 4436,
          "x2": 4445.9
         },
         {
          "level": 29,
          "sf": "cov at kernels.jl:36 [inlined]",
          "status": "Default",
          "x1": 4446,
          "x2": 4453.9
         },
         {
          "level": 30,
          "sf": "cov!(cK::Matrix{Float64}, k::GaussianProcesses.Mat12Iso{Float64}, X1::Matrix{Float64}, X2::Matrix{Float64}, data::GaussianProcesses.IsotropicData{Matrix{Float64}}) at kernels.jl:56",
          "status": "Default",
          "x1": 4446,
          "x2": 4446.9
         },
         {
          "level": 30,
          "sf": "cov!(cK::Matrix{Float64}, k::GaussianProcesses.Mat12Iso{Float64}, X1::Matrix{Float64}, X2::Matrix{Float64}, data::GaussianProcesses.IsotropicData{Matrix{Float64}}) at kernels.jl:57",
          "status": "Default",
          "x1": 4447,
          "x2": 4448.9
         },
         {
          "level": 30,
          "sf": "cov!(cK::Matrix{Float64}, k::GaussianProcesses.Mat12Iso{Float64}, X1::Matrix{Float64}, X2::Matrix{Float64}, data::GaussianProcesses.IsotropicData{Matrix{Float64}}) at kernels.jl:58",
          "status": "Default",
          "x1": 4449,
          "x2": 4453.9
         },
         {
          "level": 31,
          "sf": "cov!(cK::Matrix{Float64}, k::GaussianProcesses.Mat12Iso{Float64}, X::Matrix{Float64}, data::GaussianProcesses.IsotropicData{Matrix{Float64}}) at kernels.jl:40",
          "status": "Default",
          "x1": 4449,
          "x2": 4449.9
         },
         {
          "level": 32,
          "sf": "size at array.jl:150 [inlined]",
          "status": "Default",
          "x1": 4449,
          "x2": 4449.9
         },
         {
          "level": 31,
          "sf": "cov!(cK::Matrix{Float64}, k::GaussianProcesses.Mat12Iso{Float64}, X::Matrix{Float64}, data::GaussianProcesses.IsotropicData{Matrix{Float64}}) at kernels.jl:43",
          "status": "Default",
          "x1": 4450,
          "x2": 4452.9
         },
         {
          "level": 32,
          "sf": "cov_ij at stationary.jl:46 [inlined]",
          "status": "Default",
          "x1": 4450,
          "x2": 4452.9
         },
         {
          "level": 33,
          "sf": "getindex at essentials.jl:14 [inlined]",
          "status": "Default",
          "x1": 4450,
          "x2": 4451.9
         },
         {
          "level": 33,
          "sf": "cov at mat12_iso.jl:41 [inlined]",
          "status": "Default",
          "x1": 4452,
          "x2": 4452.9
         },
         {
          "level": 34,
          "sf": "getproperty at Base.jl:37 [inlined]",
          "status": "Default",
          "x1": 4452,
          "x2": 4452.9
         },
         {
          "level": 31,
          "sf": "cov!(cK::Matrix{Float64}, k::GaussianProcesses.Mat12Iso{Float64}, X::Matrix{Float64}, data::GaussianProcesses.IsotropicData{Matrix{Float64}}) at kernels.jl:48",
          "status": "Default",
          "x1": 4453,
          "x2": 4453.9
         },
         {
          "level": 28,
          "sf": "predictMVN(xpred::Matrix{Float64}, xtrain::Matrix{Float64}, ytrain::Vector{Float64}, kernel::GaussianProcesses.Mat12Iso{Float64}, meanf::GaussianProcesses.MeanZero, alpha::Vector{Float64}, covstrat::GaussianProcesses.FullCovariance, Ktrain::PDMats.PDMat{Float64, Matrix{Float64}}) at GP.jl:46",
          "status": "Default",
          "x1": 4454,
          "x2": 4457.9
         },
         {
          "level": 29,
          "sf": "mean at mZero.jl:16 [inlined]",
          "status": "Default",
          "x1": 4454,
          "x2": 4457.9
         },
         {
          "level": 30,
          "sf": "fill at array.jl:530 [inlined]",
          "status": "Default",
          "x1": 4454,
          "x2": 4457.9
         },
         {
          "level": 31,
          "sf": "fill at array.jl:532 [inlined]",
          "status": "Default",
          "x1": 4454,
          "x2": 4457.9
         },
         {
          "level": 32,
          "sf": "Array at boot.jl:486 [inlined]",
          "status": "Default",
          "x1": 4454,
          "x2": 4457.9
         },
         {
          "level": 33,
          "sf": "Array at boot.jl:477 [inlined]",
          "status": "Garbage collection",
          "x1": 4454,
          "x2": 4457.9
         },
         {
          "level": 28,
          "sf": "predictMVN(xpred::Matrix{Float64}, xtrain::Matrix{Float64}, ytrain::Vector{Float64}, kernel::GaussianProcesses.Mat12Iso{Float64}, meanf::GaussianProcesses.MeanZero, alpha::Vector{Float64}, covstrat::GaussianProcesses.FullCovariance, Ktrain::PDMats.PDMat{Float64, Matrix{Float64}}) at GP.jl:47",
          "status": "Default",
          "x1": 4458,
          "x2": 4560.9
         },
         {
          "level": 29,
          "sf": "gemv!(y::Vector{Float64}, tA::Char, A::Matrix{Float64}, x::Vector{Float64}, α::Bool, β::Bool) at matmul.jl:490",
          "status": "Default",
          "x1": 4458,
          "x2": 4458.9
         },
         {
          "level": 29,
          "sf": "predictMVN!(Kxx::Matrix{Float64}, Kff::PDMats.PDMat{Float64, Matrix{Float64}}, Kfx::Matrix{Float64}, mx::Vector{Float64}, αf::Vector{Float64}) at GP.jl:26",
          "status": "Default",
          "x1": 4459,
          "x2": 4476.9
         },
         {
          "level": 30,
          "sf": "+(A::Vector{Float64}, Bs::Vector{Float64}) at arraymath.jl:16",
          "status": "Default",
          "x1": 4459,
          "x2": 4464.9
         },
         {
          "level": 31,
          "sf": "broadcast_preserving_zero_d at broadcast.jl:862 [inlined]",
          "status": "Default",
          "x1": 4459,
          "x2": 4464.9
         },
         {
          "level": 32,
          "sf": "materialize at broadcast.jl:873 [inlined]",
          "status": "Default",
          "x1": 4459,
          "x2": 4464.9
         },
         {
          "level": 33,
          "sf": "copy at broadcast.jl:898 [inlined]",
          "status": "Default",
          "x1": 4459,
          "x2": 4464.9
         },
         {
          "level": 34,
          "sf": "similar at broadcast.jl:211 [inlined]",
          "status": "Default",
          "x1": 4459,
          "x2": 4464.9
         },
         {
          "level": 35,
          "sf": "similar at broadcast.jl:212 [inlined]",
          "status": "Default",
          "x1": 4459,
          "x2": 4464.9
         },
         {
          "level": 36,
          "sf": "similar at abstractarray.jl:881 [inlined]",
          "status": "Default",
          "x1": 4459,
          "x2": 4464.9
         },
         {
          "level": 37,
          "sf": "similar at abstractarray.jl:882 [inlined]",
          "status": "Default",
          "x1": 4459,
          "x2": 4464.9
         },
         {
          "level": 38,
          "sf": "Array at boot.jl:494 [inlined]",
          "status": "Default",
          "x1": 4459,
          "x2": 4464.9
         },
         {
          "level": 39,
          "sf": "Array at boot.jl:486 [inlined]",
          "status": "Default",
          "x1": 4459,
          "x2": 4464.9
         },
         {
          "level": 40,
          "sf": "Array at boot.jl:477 [inlined]",
          "status": "Garbage collection",
          "x1": 4459,
          "x2": 4464.9
         },
         {
          "level": 30,
          "sf": "+(A::Vector{Float64}, Bs::Vector{Float64}) at indices.jl:0",
          "status": "Default",
          "x1": 4465,
          "x2": 4465.9
         },
         {
          "level": 30,
          "sf": "* at matmul.jl:101 [inlined]",
          "status": "Default",
          "x1": 4466,
          "x2": 4476.9
         },
         {
          "level": 31,
          "sf": "similar at abstractarray.jl:838 [inlined]",
          "status": "Default",
          "x1": 4466,
          "x2": 4469.9
         },
         {
          "level": 32,
          "sf": "similar at array.jl:374 [inlined]",
          "status": "Default",
          "x1": 4466,
          "x2": 4469.9
         },
         {
          "level": 33,
          "sf": "Array at boot.jl:486 [inlined]",
          "status": "Default",
          "x1": 4466,
          "x2": 4469.9
         },
         {
          "level": 34,
          "sf": "Array at boot.jl:477 [inlined]",
          "status": "Garbage collection",
          "x1": 4466,
          "x2": 4469.9
         },
         {
          "level": 31,
          "sf": "mul! at matmul.jl:276 [inlined]",
          "status": "Default",
          "x1": 4470,
          "x2": 4476.9
         },
         {
          "level": 32,
          "sf": "mul! at matmul.jl:109 [inlined]",
          "status": "Default",
          "x1": 4470,
          "x2": 4476.9
         },
         {
          "level": 33,
          "sf": "mul! at matmul.jl:93 [inlined]",
          "status": "Default",
          "x1": 4470,
          "x2": 4476.9
         },
         {
          "level": 34,
          "sf": "gemv!(y::Vector{Float64}, tA::Char, A::Matrix{Float64}, x::Vector{Float64}, α::Bool, β::Bool) at matmul.jl:503",
          "status": "Default",
          "x1": 4470,
          "x2": 4476.9
         },
         {
          "level": 35,
          "sf": "gemv!(trans::Char, alpha::Float64, A::Matrix{Float64}, X::Vector{Float64}, beta::Float64, Y::Vector{Float64}) at blas.jl:667",
          "status": "Default",
          "x1": 4470,
          "x2": 4476.9
         },
         {
          "level": 29,
          "sf": "predictMVN!(Kxx::Matrix{Float64}, Kff::PDMats.PDMat{Float64, Matrix{Float64}}, Kfx::Matrix{Float64}, mx::Vector{Float64}, αf::Vector{Float64}) at GP.jl:27",
          "status": "Default",
          "x1": 4477,
          "x2": 4544.9
         },
         {
          "level": 30,
          "sf": "whiten! at generics.jl:32 [inlined]",
          "status": "Default",
          "x1": 4477,
          "x2": 4544.9
         },
         {
          "level": 31,
          "sf": "whiten!(r::Matrix{Float64}, a::PDMats.PDMat{Float64, Matrix{Float64}}, x::Matrix{Float64}) at pdmat.jl:65",
          "status": "Default",
          "x1": 4477,
          "x2": 4478.9
         },
         {
          "level": 32,
          "sf": "getproperty at Base.jl:37 [inlined]",
          "status": "Default",
          "x1": 4477,
          "x2": 4477.9
         },
         {
          "level": 32,
          "sf": "getproperty(C::LinearAlgebra.Cholesky{Float64, Matrix{Float64}}, d::Symbol) at cholesky.jl:519",
          "status": "Garbage collection",
          "x1": 4478,
          "x2": 4478.9
         },
         {
          "level": 31,
          "sf": "whiten!(r::Matrix{Float64}, a::PDMats.PDMat{Float64, Matrix{Float64}}, x::Matrix{Float64}) at pdmat.jl:67",
          "status": "Default",
          "x1": 4479,
          "x2": 4544.9
         },
         {
          "level": 32,
          "sf": "ldiv! at triangular.jl:786 [inlined]",
          "status": "Default",
          "x1": 4479,
          "x2": 4544.9
         },
         {
          "level": 33,
          "sf": "trtrs!(uplo::Char, trans::Char, diag::Char, A::Matrix{Float64}, B::Matrix{Float64}) at lapack.jl:3417",
          "status": "Default",
          "x1": 4479,
          "x2": 4543.9
         },
         {
          "level": 29,
          "sf": "predictMVN!(Kxx::Matrix{Float64}, Kff::PDMats.PDMat{Float64, Matrix{Float64}}, Kfx::Matrix{Float64}, mx::Vector{Float64}, αf::Vector{Float64}) at GP.jl:28",
          "status": "Default",
          "x1": 4545,
          "x2": 4559.9
         },
         {
          "level": 30,
          "sf": "subtract_Lck! at GP.jl:52 [inlined]",
          "status": "Default",
          "x1": 4545,
          "x2": 4558.9
         },
         {
          "level": 31,
          "sf": "syrk!(uplo::Char, trans::Char, alpha::Float64, A::Matrix{Float64}, beta::Float64, C::Matrix{Float64}) at blas.jl:1784",
          "status": "Default",
          "x1": 4545,
          "x2": 4558.9
         },
         {
          "level": 32,
          "sf": "max at promotion.jl:510 [inlined]",
          "status": "Default",
          "x1": 4545,
          "x2": 4545.9
         },
         {
          "level": 33,
          "sf": "ifelse at essentials.jl:575 [inlined]",
          "status": "Default",
          "x1": 4545,
          "x2": 4545.9
         },
         {
          "level": 30,
          "sf": "subtract_Lck! at GP.jl:53 [inlined]",
          "status": "Default",
          "x1": 4559,
          "x2": 4559.9
         },
         {
          "level": 31,
          "sf": "copytri! at matmul.jl:474 [inlined]",
          "status": "Default",
          "x1": 4559,
          "x2": 4559.9
         },
         {
          "level": 32,
          "sf": "copytri! at matmul.jl:474 [inlined]",
          "status": "Default",
          "x1": 4559,
          "x2": 4559.9
         },
         {
          "level": 33,
          "sf": "checksquare at LinearAlgebra.jl:238 [inlined]",
          "status": "Default",
          "x1": 4559,
          "x2": 4559.9
         },
         {
          "level": 34,
          "sf": "size at array.jl:150 [inlined]",
          "status": "Default",
          "x1": 4559,
          "x2": 4559.9
         },
         {
          "level": 28,
          "sf": "distance!(dist::Matrix{Float64}, m::Distances.Euclidean, X::Matrix{Float64}, Y::Matrix{Float64}) at distance.jl:27",
          "status": "Default",
          "x1": 4561,
          "x2": 4561.9
         },
         {
          "level": 26,
          "sf": "predict_f(gp::GaussianProcesses.GPE{Matrix{Float64}, Vector{Float64}, GaussianProcesses.MeanZero, GaussianProcesses.Mat12Iso{Float64}, GaussianProcesses.FullCovariance, GaussianProcesses.IsotropicData{Matrix{Float64}}, PDMats.PDMat{Float64, Matrix{Float64}}, GaussianProcesses.Scalar{Float64}}, x::Base.ReshapedArray{Float64, 2, LinearAlgebra.Adjoint{Float64, Vector{Float64}}, Tuple{}}; full_cov::Bool) at GP.jl:75",
          "status": "Default",
          "x1": 4562,
          "x2": 4565.9
         },
         {
          "level": 27,
          "sf": "getindex at essentials.jl:13 [inlined]",
          "status": "Default",
          "x1": 4562,
          "x2": 4562.9
         },
         {
          "level": 27,
          "sf": "max at math.jl:863 [inlined]",
          "status": "Default",
          "x1": 4563,
          "x2": 4563.9
         },
         {
          "level": 28,
          "sf": "signbit at floatfuncs.jl:15 [inlined]",
          "status": "Default",
          "x1": 4563,
          "x2": 4563.9
         },
         {
          "level": 27,
          "sf": "diag at dense.jl:249 [inlined]",
          "status": "Default",
          "x1": 4564,
          "x2": 4565.9
         },
         {
          "level": 28,
          "sf": "diag(A::Matrix{Float64}, k::Int64) at dense.jl:249",
          "status": "Default",
          "x1": 4564,
          "x2": 4565.9
         },
         {
          "level": 29,
          "sf": "getindex at array.jl:944 [inlined]",
          "status": "Default",
          "x1": 4564,
          "x2": 4564.9
         },
         {
          "level": 30,
          "sf": "_array_for at array.jl:674 [inlined]",
          "status": "Default",
          "x1": 4564,
          "x2": 4564.9
         },
         {
          "level": 31,
          "sf": "_array_for at array.jl:671 [inlined]",
          "status": "Default",
          "x1": 4564,
          "x2": 4564.9
         },
         {
          "level": 32,
          "sf": "similar at abstractarray.jl:881 [inlined]",
          "status": "Default",
          "x1": 4564,
          "x2": 4564.9
         },
         {
          "level": 33,
          "sf": "similar at abstractarray.jl:882 [inlined]",
          "status": "Default",
          "x1": 4564,
          "x2": 4564.9
         },
         {
          "level": 34,
          "sf": "Array at boot.jl:486 [inlined]",
          "status": "Default",
          "x1": 4564,
          "x2": 4564.9
         },
         {
          "level": 35,
          "sf": "Array at boot.jl:477 [inlined]",
          "status": "Default",
          "x1": 4564,
          "x2": 4564.9
         },
         {
          "level": 29,
          "sf": "diagind at dense.jl:225 [inlined]",
          "status": "Default",
          "x1": 4565,
          "x2": 4565.9
         },
         {
          "level": 30,
          "sf": "diagind at dense.jl:201 [inlined]",
          "status": "Default",
          "x1": 4565,
          "x2": 4565.9
         },
         {
          "level": 31,
          "sf": "range at range.jl:142 [inlined]",
          "status": "Default",
          "x1": 4565,
          "x2": 4565.9
         },
         {
          "level": 32,
          "sf": "#range#70 at range.jl:142 [inlined]",
          "status": "Default",
          "x1": 4565,
          "x2": 4565.9
         },
         {
          "level": 33,
          "sf": "_range at range.jl:163 [inlined]",
          "status": "Default",
          "x1": 4565,
          "x2": 4565.9
         },
         {
          "level": 34,
          "sf": "range_start_step_length at range.jl:211 [inlined]",
          "status": "Default",
          "x1": 4565,
          "x2": 4565.9
         },
         {
          "level": 35,
          "sf": "StepRange at range.jl:320 [inlined]",
          "status": "Default",
          "x1": 4565,
          "x2": 4565.9
         },
         {
          "level": 36,
          "sf": "steprange_last(start::Int64, step::Int64, stop::Int64) at range.jl:325",
          "status": "Default",
          "x1": 4565,
          "x2": 4565.9
         },
         {
          "level": 26,
          "sf": "predict_f(gp::GaussianProcesses.GPE{Matrix{Float64}, Vector{Float64}, GaussianProcesses.MeanZero, GaussianProcesses.Mat12Iso{Float64}, GaussianProcesses.FullCovariance, GaussianProcesses.IsotropicData{Matrix{Float64}}, PDMats.PDMat{Float64, Matrix{Float64}}, GaussianProcesses.Scalar{Float64}}, x::Base.ReshapedArray{Float64, 2, LinearAlgebra.Adjoint{Float64, Vector{Float64}}, Tuple{}}; full_cov::Bool) at GP.jl:77",
          "status": "Garbage collection",
          "x1": 4566,
          "x2": 4671.9
         },
         {
          "level": 17,
          "sf": "copyto_nonleaf!(dest::BitArray{3}, bc::Base.Broadcast.Broadcasted{Base.Broadcast.DefaultArrayStyle{3}, Tuple{Base.OneTo{Int64}, Base.OneTo{Int64}, Base.OneTo{Int64}}, BayesianSafetyValidation.var\"#65#73\"{GaussianProcesses.GPE{Matrix{Float64}, Vector{Float64}, GaussianProcesses.MeanZero, GaussianProcesses.Mat12Iso{Float64}, GaussianProcesses.FullCovariance, GaussianProcesses.IsotropicData{Matrix{Float64}}, PDMats.PDMat{Float64, Matrix{Float64}}, GaussianProcesses.Scalar{Float64}}}, Tuple{Base.Broadcast.Extruded{Array{Float64, 3}, Tuple{Bool, Bool, Bool}, Tuple{Int64, Int64, Int64}}, Base.Broadcast.Extruded{Array{Float64, 3}, Tuple{Bool, Bool, Bool}, Tuple{Int64, Int64, Int64}}, Base.Broadcast.Extruded{Array{Float64, 3}, Tuple{Bool, Bool, Bool}, Tuple{Int64, Int64, Int64}}}}, iter::CartesianIndices{3, Tuple{Base.OneTo{Int64}, Base.OneTo{Int64}, Base.OneTo{Int64}}}, state::CartesianIndex{3}, count::Int64) at broadcast.jl:1069",
          "status": "Default",
          "x1": 4683,
          "x2": 4684.9
         },
         {
          "level": 17,
          "sf": "copyto_nonleaf!(dest::BitArray{3}, bc::Base.Broadcast.Broadcasted{Base.Broadcast.DefaultArrayStyle{3}, Tuple{Base.OneTo{Int64}, Base.OneTo{Int64}, Base.OneTo{Int64}}, BayesianSafetyValidation.var\"#65#73\"{GaussianProcesses.GPE{Matrix{Float64}, Vector{Float64}, GaussianProcesses.MeanZero, GaussianProcesses.Mat12Iso{Float64}, GaussianProcesses.FullCovariance, GaussianProcesses.IsotropicData{Matrix{Float64}}, PDMats.PDMat{Float64, Matrix{Float64}}, GaussianProcesses.Scalar{Float64}}}, Tuple{Base.Broadcast.Extruded{Array{Float64, 3}, Tuple{Bool, Bool, Bool}, Tuple{Int64, Int64, Int64}}, Base.Broadcast.Extruded{Array{Float64, 3}, Tuple{Bool, Bool, Bool}, Tuple{Int64, Int64, Int64}}, Base.Broadcast.Extruded{Array{Float64, 3}, Tuple{Bool, Bool, Bool}, Tuple{Int64, Int64, Int64}}}}, iter::CartesianIndices{3, Tuple{Base.OneTo{Int64}, Base.OneTo{Int64}, Base.OneTo{Int64}}}, state::CartesianIndex{3}, count::Int64) at broadcast.jl:1070",
          "status": "Default",
          "x1": 4685,
          "x2": 4689.9
         },
         {
          "level": 18,
          "sf": "setindex! at abstractarray.jl:1397 [inlined]",
          "status": "Default",
          "x1": 4685,
          "x2": 4689.9
         },
         {
          "level": 19,
          "sf": "_setindex! at abstractarray.jl:1420 [inlined]",
          "status": "Default",
          "x1": 4685,
          "x2": 4689.9
         },
         {
          "level": 20,
          "sf": "_to_linear_index at abstractarray.jl:1333 [inlined]",
          "status": "Default",
          "x1": 4685,
          "x2": 4686.9
         },
         {
          "level": 21,
          "sf": "_sub2ind at abstractarray.jl:2933 [inlined]",
          "status": "Default",
          "x1": 4685,
          "x2": 4686.9
         },
         {
          "level": 22,
          "sf": "_sub2ind at abstractarray.jl:2949 [inlined]",
          "status": "Default",
          "x1": 4685,
          "x2": 4685.9
         },
         {
          "level": 23,
          "sf": "_sub2ind_recurse at abstractarray.jl:2965 [inlined]",
          "status": "Default",
          "x1": 4685,
          "x2": 4685.9
         },
         {
          "level": 24,
          "sf": "_sub2ind_recurse at abstractarray.jl:2965 [inlined]",
          "status": "Default",
          "x1": 4685,
          "x2": 4685.9
         },
         {
          "level": 25,
          "sf": "_sub2ind_recurse at abstractarray.jl:2965 [inlined]",
          "status": "Default",
          "x1": 4685,
          "x2": 4685.9
         },
         {
          "level": 26,
          "sf": "* at int.jl:88 [inlined]",
          "status": "Default",
          "x1": 4685,
          "x2": 4685.9
         },
         {
          "level": 22,
          "sf": "axes at abstractarray.jl:98 [inlined]",
          "status": "Default",
          "x1": 4686,
          "x2": 4686.9
         },
         {
          "level": 23,
          "sf": "size at bitarray.jl:105 [inlined]",
          "status": "Default",
          "x1": 4686,
          "x2": 4686.9
         },
         {
          "level": 24,
          "sf": "getproperty at Base.jl:37 [inlined]",
          "status": "Default",
          "x1": 4686,
          "x2": 4686.9
         },
         {
          "level": 20,
          "sf": "setindex! at bitarray.jl:702 [inlined]",
          "status": "Default",
          "x1": 4687,
          "x2": 4689.9
         },
         {
          "level": 21,
          "sf": "unsafe_bitsetindex! at bitarray.jl:689 [inlined]",
          "status": "Default",
          "x1": 4687,
          "x2": 4689.9
         },
         {
          "level": 22,
          "sf": "_unsafe_bitsetindex! at bitarray.jl:695 [inlined]",
          "status": "Default",
          "x1": 4687,
          "x2": 4688.9
         },
         {
          "level": 23,
          "sf": "getindex at essentials.jl:13 [inlined]",
          "status": "Default",
          "x1": 4687,
          "x2": 4688.9
         },
         {
          "level": 22,
          "sf": "_unsafe_bitsetindex! at bitarray.jl:696 [inlined]",
          "status": "Default",
          "x1": 4689,
          "x2": 4689.9
         },
         {
          "level": 23,
          "sf": "| at int.jl:372 [inlined]",
          "status": "Default",
          "x1": 4689,
          "x2": 4689.9
         },
         {
          "level": 1,
          "sf": "(::IJulia.var\"#23#25\")() at task.jl:514",
          "status": "Default",
          "x1": 4693,
          "x2": 4693.9
         },
         {
          "level": 2,
          "sf": "watch_stream(rd::Base.PipeEndpoint, name::String) at stdio.jl:84",
          "status": "Default",
          "x1": 4693,
          "x2": 4693.9
         },
         {
          "level": 3,
          "sf": "eof(s::Base.PipeEndpoint) at stream.jl:106",
          "status": "Default",
          "x1": 4693,
          "x2": 4693.9
         },
         {
          "level": 4,
          "sf": "wait_readnb(x::Base.PipeEndpoint, nb::Int64) at stream.jl:416",
          "status": "Default",
          "x1": 4693,
          "x2": 4693.9
         },
         {
          "level": 5,
          "sf": "wait at condition.jl:125 [inlined]",
          "status": "Default",
          "x1": 4693,
          "x2": 4693.9
         },
         {
          "level": 6,
          "sf": "wait(c::Base.GenericCondition{Base.Threads.SpinLock}; first::Bool) at condition.jl:130",
          "status": "Default",
          "x1": 4693,
          "x2": 4693.9
         },
         {
          "level": 7,
          "sf": "wait() at task.jl:985",
          "status": "Default",
          "x1": 4693,
          "x2": 4693.9
         },
         {
          "level": 8,
          "sf": "process_events at libuv.jl:107 [inlined]",
          "status": "Runtime dispatch",
          "x1": 4693,
          "x2": 4693.9
         },
         {
          "level": 9,
          "sf": "uv_timercb(handle::Ptr{Nothing}) at asyncevent.jl:217",
          "status": "Default",
          "x1": 4693,
          "x2": 4693.9
         },
         {
          "level": 10,
          "sf": "macro expansion at libuv.jl:38 [inlined]",
          "status": "Default",
          "x1": 4693,
          "x2": 4693.9
         },
         {
          "level": 1,
          "sf": "(::Base.var\"#702#703\"{typeof(IJulia.send_stdout), Timer})() at task.jl:134",
          "status": "Default",
          "x1": 4694,
          "x2": 4695.9
         },
         {
          "level": 2,
          "sf": "macro expansion at asyncevent.jl:281 [inlined]",
          "status": "Default",
          "x1": 4694,
          "x2": 4695.9
         },
         {
          "level": 3,
          "sf": "send_stderr at stdio.jl:125 [inlined]",
          "status": "Default",
          "x1": 4694,
          "x2": 4694.9
         },
         {
          "level": 4,
          "sf": "send_stdio(name::String) at stdio.jl:121",
          "status": "Default",
          "x1": 4694,
          "x2": 4694.9
         },
         {
          "level": 5,
          "sf": "send_stream(name::String) at stdio.jl:163",
          "status": "Default",
          "x1": 4694,
          "x2": 4694.9
         },
         {
          "level": 6,
          "sf": "send_ipython(socket::ZMQ.Socket, m::IJulia.Msg) at msg.jl:54",
          "status": "Runtime dispatch",
          "x1": 4694,
          "x2": 4694.9
         },
         {
          "level": 7,
          "sf": "json(a::Dict{String, String}) at Writer.jl:399",
          "status": "Default",
          "x1": 4694,
          "x2": 4694.9
         },
         {
          "level": 8,
          "sf": "sprint at io.jl:107 [inlined]",
          "status": "Default",
          "x1": 4694,
          "x2": 4694.9
         },
         {
          "level": 9,
          "sf": "sprint(f::Function, args::Dict{String, String}; context::Nothing, sizehint::Int64) at io.jl:114",
          "status": "Runtime dispatch",
          "x1": 4694,
          "x2": 4694.9
         },
         {
          "level": 10,
          "sf": "print(io::IOBuffer, obj::Dict{String, String}) at Writer.jl:383",
          "status": "Default",
          "x1": 4694,
          "x2": 4694.9
         },
         {
          "level": 11,
          "sf": "show_json at Writer.jl:357 [inlined]",
          "status": "Default",
          "x1": 4694,
          "x2": 4694.9
         },
         {
          "level": 12,
          "sf": "#show_json#9 at Writer.jl:359 [inlined]",
          "status": "Default",
          "x1": 4694,
          "x2": 4694.9
         },
         {
          "level": 13,
          "sf": "show_json at Writer.jl:297 [inlined]",
          "status": "Default",
          "x1": 4694,
          "x2": 4694.9
         },
         {
          "level": 14,
          "sf": "recursive_cycle_check(f::JSON.Writer.var\"#1#2\"{JSON.Writer.CompactContext{IOBuffer}, JSON.Serializations.StandardSerialization, Dict{String, String}}, io::JSON.Writer.CompactContext{IOBuffer}, s::JSON.Serializations.StandardSerialization, id::UInt64) at Writer.jl:291",
          "status": "Default",
          "x1": 4694,
          "x2": 4694.9
         },
         {
          "level": 15,
          "sf": "(::JSON.Writer.var\"#1#2\"{JSON.Writer.CompactContext{IOBuffer}, JSON.Serializations.StandardSerialization, Dict{String, String}})() at Writer.jl:300",
          "status": "Default",
          "x1": 4694,
          "x2": 4694.9
         },
         {
          "level": 16,
          "sf": "show_pair at Writer.jl:259 [inlined]",
          "status": "Default",
          "x1": 4694,
          "x2": 4694.9
         },
         {
          "level": 17,
          "sf": "show_pair at Writer.jl:257 [inlined]",
          "status": "Default",
          "x1": 4694,
          "x2": 4694.9
         },
         {
          "level": 18,
          "sf": "show_json at Writer.jl:267 [inlined]",
          "status": "Default",
          "x1": 4694,
          "x2": 4694.9
         },
         {
          "level": 19,
          "sf": "show_string(io::JSON.Writer.CompactContext{IOBuffer}, x::String) at Writer.jl:214",
          "status": "Default",
          "x1": 4694,
          "x2": 4694.9
         },
         {
          "level": 20,
          "sf": "print at io.jl:246 [inlined]",
          "status": "Default",
          "x1": 4694,
          "x2": 4694.9
         },
         {
          "level": 21,
          "sf": "write at io.jl:244 [inlined]",
          "status": "Default",
          "x1": 4694,
          "x2": 4694.9
         },
         {
          "level": 22,
          "sf": "unsafe_write(s::JSON.Writer.StringContext{JSON.Writer.CompactContext{IOBuffer}}, p::Ptr{UInt8}, n::UInt64) at io.jl:305",
          "status": "Default",
          "x1": 4694,
          "x2": 4694.9
         },
         {
          "level": 23,
          "sf": "write at Writer.jl:139 [inlined]",
          "status": "Default",
          "x1": 4694,
          "x2": 4694.9
         },
         {
          "level": 24,
          "sf": "write at io.jl:708 [inlined]",
          "status": "Default",
          "x1": 4694,
          "x2": 4694.9
         },
         {
          "level": 25,
          "sf": "unsafe_write at io.jl:685 [inlined]",
          "status": "Default",
          "x1": 4694,
          "x2": 4694.9
         },
         {
          "level": 26,
          "sf": "unsafe_write(s::JSON.Writer.CompactContext{IOBuffer}, p::Ptr{UInt8}, n::UInt64) at io.jl:305",
          "status": "Default",
          "x1": 4694,
          "x2": 4694.9
         },
         {
          "level": 27,
          "sf": "write at Writer.jl:138 [inlined]",
          "status": "Default",
          "x1": 4694,
          "x2": 4694.9
         },
         {
          "level": 28,
          "sf": "write at iobuffer.jl:443 [inlined]",
          "status": "Default",
          "x1": 4694,
          "x2": 4694.9
         },
         {
          "level": 29,
          "sf": "ensureroom at iobuffer.jl:330 [inlined]",
          "status": "Default",
          "x1": 4694,
          "x2": 4694.9
         },
         {
          "level": 30,
          "sf": "_growend! at array.jl:1014 [inlined]",
          "status": "Default",
          "x1": 4694,
          "x2": 4694.9
         },
         {
          "level": 3,
          "sf": "send_stdout at stdio.jl:124 [inlined]",
          "status": "Default",
          "x1": 4695,
          "x2": 4695.9
         },
         {
          "level": 4,
          "sf": "send_stdio(name::String) at stdio.jl:121",
          "status": "Default",
          "x1": 4695,
          "x2": 4695.9
         },
         {
          "level": 5,
          "sf": "send_stream(name::String) at stdio.jl:163",
          "status": "Default",
          "x1": 4695,
          "x2": 4695.9
         },
         {
          "level": 6,
          "sf": "send_ipython(socket::ZMQ.Socket, m::IJulia.Msg) at msg.jl:55",
          "status": "Default",
          "x1": 4695,
          "x2": 4695.9
         },
         {
          "level": 7,
          "sf": "hmac(s1::String, s2::String, s3::String, s4::String) at hmac.jl:10",
          "status": "Default",
          "x1": 4695,
          "x2": 4695.9
         },
         {
          "level": 8,
          "sf": "write(io::MbedTLS.MD{true}, s::String) at io.jl:244",
          "status": "Default",
          "x1": 4695,
          "x2": 4695.9
         },
         {
          "level": 9,
          "sf": "unsafe_write at io.jl:305 [inlined]",
          "status": "Default",
          "x1": 4695,
          "x2": 4695.9
         },
         {
          "level": 10,
          "sf": "write at md.jl:143 [inlined]",
          "status": "Default",
          "x1": 4695,
          "x2": 4695.9
         },
         {
          "level": 11,
          "sf": "_write at md.jl:128 [inlined]",
          "status": "Default",
          "x1": 4695,
          "x2": 4695.9
         },
         {
          "level": 12,
          "sf": "macro expansion at error.jl:3 [inlined]",
          "status": "Default",
          "x1": 4695,
          "x2": 4695.9
         }
        ]
       },
       "encoding": {
        "color": {
         "field": "status",
         "legend": {
          "orient": "bottom",
          "title": null
         },
         "type": "nominal"
        },
        "fillOpacity": {
         "condition": [
          {
           "selection": "highlight",
           "value": 0.6
          },
          {
           "selection": "select",
           "value": 0.5
          }
         ],
         "value": 1
        },
        "strokeWidth": {
         "condition": [
          {
           "selection": "highlight",
           "value": 0.5
          },
          {
           "selection": "select",
           "value": 0.5
          }
         ],
         "value": 0
        },
        "tooltip": {
         "field": "sf",
         "type": "nominal"
        },
        "x": {
         "axis": null,
         "field": "x1",
         "type": "quantitative"
        },
        "x2": {
         "field": "x2",
         "type": "quantitative"
        },
        "y": {
         "axis": null,
         "field": "level",
         "type": "quantitative"
        },
        "y2": {
         "field": "level2",
         "type": "quantitative"
        }
       },
       "height": 400,
       "mark": {
        "stroke": "#505050",
        "type": "rect"
       },
       "selection": {
        "grid": {
         "bind": "scales",
         "type": "interval"
        },
        "highlight": {
         "empty": "none",
         "on": "mouseover",
         "type": "single"
        },
        "select": {
         "empty": "none",
         "type": "multi"
        }
       },
       "title": "Profile Results",
       "transform": [
        {
         "as": "level2",
         "calculate": "datum.level+0.9"
        }
       ],
       "width": 800
      },
      "image/png": "[encoded data removed]",
      "image/svg+xml": [
       "<?xml version=\"1.0\" encoding=\"utf-8\"?>\n",
       "<!DOCTYPE svg PUBLIC \"-//W3C//DTD SVG 1.1//EN\" \"http://www.w3.org/Graphics/SVG/1.1/DTD/svg11.dtd\">\n",
       "<svg xmlns=\"http://www.w3.org/2000/svg\" xmlns:xlink=\"http://www.w3.org/1999/xlink\" version=\"1.1\" class=\"marks\" width=\"810\" height=\"458\" viewBox=\"0 0 810 458\"><rect width=\"810\" height=\"458\" fill=\"white\"/><g fill=\"none\" stroke-miterlimit=\"10\" transform=\"translate(5,22)\"><g class=\"mark-group role-frame root\" role=\"graphics-object\" aria-roledescription=\"group mark container\"><g transform=\"translate(0,0)\"><path class=\"background\" aria-hidden=\"true\" d=\"M0.5,0.5h800v400h-800Z\" stroke=\"#ddd\"/><g><g class=\"mark-rect role-mark marks\" clip-path=\"url(#clip1)\" role=\"graphics-object\" aria-roledescription=\"rect mark container\"><path aria-label=\"x1: 1; x2: 4846.9; level: 0; level2: 0.9; status: Runtime dispatch; sf: ip:0x0\" role=\"graphics-symbol\" aria-roledescription=\"rect mark\" d=\"M0.16,392h775.3439999999999v8h-775.3439999999999Z\" fill=\"#e45756\" fill-opacity=\"1\" stroke=\"#505050\" stroke-width=\"0\"/><path aria-label=\"x1: 1; x2: 4692.9; level: 1; level2: 1.9; status: Default; sf: (::IJulia.var&quot;#15#18&quot;)() at task.jl:514\" role=\"graphics-symbol\" aria-roledescription=\"rect mark\" d=\"M0.16,383.1111111111111h750.7040000000001v8h-750.7040000000001Z\" fill=\"#4c78a8\" fill-opacity=\"1\" stroke=\"#505050\" stroke-width=\"0\"/><path aria-label=\"x1: 1; x2: 4692.9; level: 2; level2: 2.9; status: Default; sf: eventloop(socket::ZMQ.Socket) at eventloop.jl:8\" role=\"graphics-symbol\" aria-roledescription=\"rect mark\" d=\"M0.16,374.22222222222223h750.7040000000001v8h-750.7040000000001Z\" fill=\"#4c78a8\" fill-opacity=\"1\" stroke=\"#505050\" stroke-width=\"0\"/><path aria-label=\"x1: 1; x2: 4692.9; level: 3; level2: 3.9; status: Default; sf: invokelatest at essentials.jl:813 [inlined]\" role=\"graphics-symbol\" aria-roledescription=\"rect mark\" d=\"M0.16,365.3333333333333h750.7040000000001v8h-750.7040000000001Z\" fill=\"#4c78a8\" fill-opacity=\"1\" stroke=\"#505050\" stroke-width=\"0\"/><path aria-label=\"x1: 1; x2: 4692.9; level: 4; level2: 4.9; status: Runtime dispatch; sf: #invokelatest#2 at essentials.jl:816 [inlined]\" role=\"graphics-symbol\" aria-roledescription=\"rect mark\" d=\"M0.16,356.44444444444446h750.7040000000001v8h-750.7040000000001Z\" fill=\"#e45756\" fill-opacity=\"1\" stroke=\"#505050\" stroke-width=\"0\"/><path aria-label=\"x1: 1; x2: 4692.9; level: 5; level2: 5.9; status: Runtime dispatch; sf: execute_request(socket::ZMQ.Socket, msg::IJulia.Msg) at execute_request.jl:67\" role=\"graphics-symbol\" aria-roledescription=\"rect mark\" d=\"M0.16,347.55555555555554h750.7040000000001v8h-750.7040000000001Z\" fill=\"#e45756\" fill-opacity=\"1\" stroke=\"#505050\" stroke-width=\"0\"/><path aria-label=\"x1: 1; x2: 4692.9; level: 6; level2: 6.9; status: Default; sf: softscope_include_string(m::Module, code::String, filename::String) at SoftGlobalScope.jl:65\" role=\"graphics-symbol\" aria-roledescription=\"rect mark\" d=\"M0.16,338.6666666666667h750.7040000000001v8h-750.7040000000001Z\" fill=\"#4c78a8\" fill-opacity=\"1\" stroke=\"#505050\" stroke-width=\"0\"/><path aria-label=\"x1: 1; x2: 4692.9; level: 7; level2: 7.9; status: Default; sf: include_string(mapexpr::typeof(REPL.softscope), mod::Module, code::String, filename::String) at loading.jl:1899\" role=\"graphics-symbol\" aria-roledescription=\"rect mark\" d=\"M0.16,329.77777777777777h750.7040000000001v8h-750.7040000000001Z\" fill=\"#4c78a8\" fill-opacity=\"1\" stroke=\"#505050\" stroke-width=\"0\"/><path aria-label=\"x1: 1; x2: 4692.9; level: 8; level2: 8.9; status: Runtime dispatch; sf: eval at boot.jl:370 [inlined]\" role=\"graphics-symbol\" aria-roledescription=\"rect mark\" d=\"M0.16,320.88888888888886h750.7040000000001v8h-750.7040000000001Z\" fill=\"#e45756\" fill-opacity=\"1\" stroke=\"#505050\" stroke-width=\"0\"/><path aria-label=\"x1: 1; x2: 4689.9; level: 9; level2: 9.9; status: Default; sf: kwcall(::NamedTuple{(:T, :input_discretization_steps, :p_estimate_discretization_steps), Tuple{Int64, Int64, Int64}}, ::typeof(bayesian_safety_validation), sparams::DummyParameters, models::Vector{OperationalParameters}) at bayesian_safety_validation.jl:4\" role=\"graphics-symbol\" aria-roledescription=\"rect mark\" d=\"M0.16,312h750.2239999999999v8h-750.2239999999999Z\" fill=\"#4c78a8\" fill-opacity=\"1\" stroke=\"#505050\" stroke-width=\"0\"/><path aria-label=\"x1: 1; x2: 172.9; level: 10; level2: 10.9; status: Default; sf: bayesian_safety_validation(sparams::DummyParameters, models::Vector{OperationalParameters}; gp::Nothing, T::Int64, λ::Float64, seed::Int64, initialize_system::Bool, reset_system::Bool, show_acquisition_plots::Bool, show_plots::Bool, show_combined_plot::Bool, show_tight_combined_plot::Bool, hide_model_after_first::Bool, only_plot_last::Bool, latex_labels::Bool, show_alert::Bool, acquisitions_to_run::Vector{Int64}, probability_valued_system::Bool, skip_if_no_failures::Bool, save_plots::Bool, save_plots_svg::Bool, plots_dir::String, samples_per_batch::Int64, single_failure_mode::Bool, refit_every_point::Bool, input_discretization_steps::Int64, p_estimate_discretization_steps::Int64, match_original::Bool, kwargs::Base.Pairs{Symbol, Union{}, Tuple{}, NamedTuple{(), Tuple{}}}) at bayesian_safety_validation.jl:53\" role=\"graphics-symbol\" aria-roledescription=\"rect mark\" d=\"M0.16,303.1111111111111h27.504v8.000000000000057h-27.504Z\" fill=\"#4c78a8\" fill-opacity=\"1\" stroke=\"#505050\" stroke-width=\"0\"/><path aria-label=\"x1: 1; x2: 172.9; level: 11; level2: 11.9; status: Runtime dispatch; sf: kwcall(::NamedTuple{(:num_steps,), Tuple{Int64}}, ::typeof(gp_output), gp::GaussianProcesses.GPE{Matrix{Float64}, Vector{Float64}, GaussianProcesses.MeanZero, GaussianProcesses.Mat12Iso{Float64}, GaussianProcesses.FullCovariance, GaussianProcesses.IsotropicData{Matrix{Float64}}, PDMats.PDMat{Float64, Matrix{Float64}}, GaussianProcesses.Scalar{Float64}}, models::Vector{OperationalParameters}) at surrogate_model.jl:74\" role=\"graphics-symbol\" aria-roledescription=\"rect mark\" d=\"M0.16,294.22222222222223h27.504v8h-27.504Z\" fill=\"#e45756\" fill-opacity=\"1\" stroke=\"#505050\" stroke-width=\"0\"/><path aria-label=\"x1: 1; x2: 172.9; level: 12; level2: 12.9; status: Runtime dispatch; sf: gp_output(gp::GaussianProcesses.GPE{Matrix{Float64}, Vector{Float64}, GaussianProcesses.MeanZero, GaussianProcesses.Mat12Iso{Float64}, GaussianProcesses.FullCovariance, GaussianProcesses.IsotropicData{Matrix{Float64}}, PDMats.PDMat{Float64, Matrix{Float64}}, GaussianProcesses.Scalar{Float64}}, models::Vector{OperationalParameters}; num_steps::Int64, m::Vector{Int64}, f::BayesianSafetyValidation.var&quot;#24#25&quot;) at surrogate_model.jl:80\" role=\"graphics-symbol\" aria-roledescription=\"rect mark\" d=\"M0.16,285.33333333333337h27.504v8h-27.504Z\" fill=\"#e45756\" fill-opacity=\"1\" stroke=\"#505050\" stroke-width=\"0\"/><path aria-label=\"x1: 1; x2: 172.9; level: 13; level2: 13.9; status: Default; sf: materialize(bc::Base.Broadcast.Broadcasted{Base.Broadcast.DefaultArrayStyle{3}, Nothing, BayesianSafetyValidation.var&quot;#37#38&quot;{BayesianSafetyValidation.var&quot;#24#25&quot;, GaussianProcesses.GPE{Matrix{Float64}, Vector{Float64}, GaussianProcesses.MeanZero, GaussianProcesses.Mat12Iso{Float64}, GaussianProcesses.FullCovariance, GaussianProcesses.IsotropicData{Matrix{Float64}}, PDMats.PDMat{Float64, Matrix{Float64}}, GaussianProcesses.Scalar{Float64}}}, Tuple{Array{Float64, 3}, Array{Float64, 3}, Array{Float64, 3}}}) at broadcast.jl:873\" role=\"graphics-symbol\" aria-roledescription=\"rect mark\" d=\"M0.16,276.44444444444446h27.504v8h-27.504Z\" fill=\"#4c78a8\" fill-opacity=\"1\" stroke=\"#505050\" stroke-width=\"0\"/><path aria-label=\"x1: 1; x2: 172.9; level: 14; level2: 14.9; status: Runtime dispatch; sf: copy at broadcast.jl:920 [inlined]\" role=\"graphics-symbol\" aria-roledescription=\"rect mark\" d=\"M0.16,267.55555555555554h27.504v8h-27.504Z\" fill=\"#e45756\" fill-opacity=\"1\" stroke=\"#505050\" stroke-width=\"0\"/><path aria-label=\"x1: 1; x2: 172.9; level: 15; level2: 15.9; status: Default; sf: copyto_nonleaf!(dest::Array{Float64, 3}, bc::Base.Broadcast.Broadcasted{Base.Broadcast.DefaultArrayStyle{3}, Tuple{Base.OneTo{Int64}, Base.OneTo{Int64}, Base.OneTo{Int64}}, BayesianSafetyValidation.var&quot;#37#38&quot;{BayesianSafetyValidation.var&quot;#24#25&quot;, GaussianProcesses.GPE{Matrix{Float64}, Vector{Float64}, GaussianProcesses.MeanZero, GaussianProcesses.Mat12Iso{Float64}, GaussianProcesses.FullCovariance, GaussianProcesses.IsotropicData{Matrix{Float64}}, PDMats.PDMat{Float64, Matrix{Float64}}, GaussianProcesses.Scalar{Float64}}}, Tuple{Base.Broadcast.Extruded{Array{Float64, 3}, Tuple{Bool, Bool, Bool}, Tuple{Int64, Int64, Int64}}, Base.Broadcast.Extruded{Array{Float64, 3}, Tuple{Bool, Bool, Bool}, Tuple{Int64, Int64, Int64}}, Base.Broadcast.Extruded{Array{Float64, 3}, Tuple{Bool, Bool, Bool}, Tuple{Int64, Int64, Int64}}}}, iter::CartesianIndices{3, Tuple{Base.OneTo{Int64}, Base.OneTo{Int64}, Base.OneTo{Int64}}}, state::CartesianIndex{3}, count::Int64) at broadcast.jl:1068\" role=\"graphics-symbol\" aria-roledescription=\"rect mark\" d=\"M0.16,258.6666666666667h27.504v8h-27.504Z\" fill=\"#4c78a8\" fill-opacity=\"1\" stroke=\"#505050\" stroke-width=\"0\"/><path aria-label=\"x1: 1; x2: 172.9; level: 16; level2: 16.9; status: Default; sf: getindex at broadcast.jl:610 [inlined]\" role=\"graphics-symbol\" aria-roledescription=\"rect mark\" d=\"M0.16,249.7777777777778h27.504v7.999999999999972h-27.504Z\" fill=\"#4c78a8\" fill-opacity=\"1\" stroke=\"#505050\" stroke-width=\"0\"/><path aria-label=\"x1: 1; x2: 1.9; level: 17; level2: 17.9; status: Default; sf: _broadcast_getindex at broadcast.jl:655 [inlined]\" role=\"graphics-symbol\" aria-roledescription=\"rect mark\" d=\"M0.16,240.88888888888889h0.144v8h-0.144Z\" fill=\"#4c78a8\" fill-opacity=\"1\" stroke=\"#505050\" stroke-width=\"0\"/><path aria-label=\"x1: 1; x2: 1.9; level: 18; level2: 18.9; status: Default; sf: _getindex at broadcast.jl:679 [inlined]\" role=\"graphics-symbol\" aria-roledescription=\"rect mark\" d=\"M0.16,232.00000000000003h0.144v7.999999999999972h-0.144Z\" fill=\"#4c78a8\" fill-opacity=\"1\" stroke=\"#505050\" stroke-width=\"0\"/><path aria-label=\"x1: 1; x2: 1.9; level: 19; level2: 19.9; status: Default; sf: _broadcast_getindex at broadcast.jl:649 [inlined]\" role=\"graphics-symbol\" aria-roledescription=\"rect mark\" d=\"M0.16,223.11111111111111h0.144v7.999999999999972h-0.144Z\" fill=\"#4c78a8\" fill-opacity=\"1\" stroke=\"#505050\" stroke-width=\"0\"/><path aria-label=\"x1: 1; x2: 1.9; level: 20; level2: 20.9; status: Default; sf: getindex at multidimensional.jl:668 [inlined]\" role=\"graphics-symbol\" aria-roledescription=\"rect mark\" d=\"M0.16,214.22222222222223h0.144v8h-0.144Z\" fill=\"#4c78a8\" fill-opacity=\"1\" stroke=\"#505050\" stroke-width=\"0\"/><path aria-label=\"x1: 1; x2: 1.9; level: 21; level2: 21.9; status: Default; sf: getindex at essentials.jl:14 [inlined]\" role=\"graphics-symbol\" aria-roledescription=\"rect mark\" d=\"M0.16,205.33333333333337h0.144v7.999999999999972h-0.144Z\" fill=\"#4c78a8\" fill-opacity=\"1\" stroke=\"#505050\" stroke-width=\"0\"/><path aria-label=\"x1: 2; x2: 172.9; level: 17; level2: 17.9; status: Default; sf: _broadcast_getindex at broadcast.jl:656 [inlined]\" role=\"graphics-symbol\" aria-roledescription=\"rect mark\" d=\"M0.32,240.88888888888889h27.344v8h-27.344Z\" fill=\"#4c78a8\" fill-opacity=\"1\" stroke=\"#505050\" stroke-width=\"0\"/><path aria-label=\"x1: 2; x2: 172.9; level: 18; level2: 18.9; status: Default; sf: _broadcast_getindex_evalf at broadcast.jl:683 [inlined]\" role=\"graphics-symbol\" aria-roledescription=\"rect mark\" d=\"M0.32,232.00000000000003h27.344v7.999999999999972h-27.344Z\" fill=\"#4c78a8\" fill-opacity=\"1\" stroke=\"#505050\" stroke-width=\"0\"/><path aria-label=\"x1: 2; x2: 172.9; level: 19; level2: 19.9; status: Default; sf: #37 at surrogate_model.jl:79 [inlined]\" role=\"graphics-symbol\" aria-roledescription=\"rect mark\" d=\"M0.32,223.11111111111111h27.344v7.999999999999972h-27.344Z\" fill=\"#4c78a8\" fill-opacity=\"1\" stroke=\"#505050\" stroke-width=\"0\"/><path aria-label=\"x1: 2; x2: 4.9; level: 20; level2: 20.9; status: Default; sf: vect at array.jl:126 [inlined]\" role=\"graphics-symbol\" aria-roledescription=\"rect mark\" d=\"M0.32,214.22222222222223h0.464v8h-0.464Z\" fill=\"#4c78a8\" fill-opacity=\"1\" stroke=\"#505050\" stroke-width=\"0\"/><path aria-label=\"x1: 2; x2: 4.9; level: 21; level2: 21.9; status: Default; sf: _array_for at array.jl:674 [inlined]\" role=\"graphics-symbol\" aria-roledescription=\"rect mark\" d=\"M0.32,205.33333333333337h0.464v7.999999999999972h-0.464Z\" fill=\"#4c78a8\" fill-opacity=\"1\" stroke=\"#505050\" stroke-width=\"0\"/><path aria-label=\"x1: 2; x2: 4.9; level: 22; level2: 22.9; status: Default; sf: _array_for at array.jl:671 [inlined]\" role=\"graphics-symbol\" aria-roledescription=\"rect mark\" d=\"M0.32,196.44444444444446h0.464v7.999999999999972h-0.464Z\" fill=\"#4c78a8\" fill-opacity=\"1\" stroke=\"#505050\" stroke-width=\"0\"/><path aria-label=\"x1: 2; x2: 4.9; level: 23; level2: 23.9; status: Default; sf: similar at abstractarray.jl:881 [inlined]\" role=\"graphics-symbol\" aria-roledescription=\"rect mark\" d=\"M0.32,187.55555555555557h0.464v8h-0.464Z\" fill=\"#4c78a8\" fill-opacity=\"1\" stroke=\"#505050\" stroke-width=\"0\"/><path aria-label=\"x1: 2; x2: 4.9; level: 24; level2: 24.9; status: Default; sf: similar at abstractarray.jl:882 [inlined]\" role=\"graphics-symbol\" aria-roledescription=\"rect mark\" d=\"M0.32,178.66666666666666h0.464v8h-0.464Z\" fill=\"#4c78a8\" fill-opacity=\"1\" stroke=\"#505050\" stroke-width=\"0\"/><path aria-label=\"x1: 2; x2: 4.9; level: 25; level2: 25.9; status: Default; sf: Array at boot.jl:486 [inlined]\" role=\"graphics-symbol\" aria-roledescription=\"rect mark\" d=\"M0.32,169.7777777777778h0.464v7.999999999999972h-0.464Z\" fill=\"#4c78a8\" fill-opacity=\"1\" stroke=\"#505050\" stroke-width=\"0\"/><path aria-label=\"x1: 2; x2: 4.9; level: 26; level2: 26.9; status: Garbage collection; sf: Array at boot.jl:477 [inlined]\" role=\"graphics-symbol\" aria-roledescription=\"rect mark\" d=\"M0.32,160.8888888888889h0.464v8h-0.464Z\" fill=\"#f58518\" fill-opacity=\"1\" stroke=\"#505050\" stroke-width=\"0\"/><path aria-label=\"x1: 5; x2: 172.9; level: 20; level2: 20.9; status: Garbage collection; sf: (::BayesianSafetyValidation.var&quot;#24#25&quot;)(gp::GaussianProcesses.GPE{Matrix{Float64}, Vector{Float64}, GaussianProcesses.MeanZero, GaussianProcesses.Mat12Iso{Float64}, GaussianProcesses.FullCovariance, GaussianProcesses.IsotropicData{Matrix{Float64}}, PDMats.PDMat{Float64, Matrix{Float64}}, GaussianProcesses.Scalar{Float64}}, x::Vector{Float64}) at surrogate_model.jl:39\" role=\"graphics-symbol\" aria-roledescription=\"rect mark\" d=\"M0.8,214.22222222222223h26.864v8h-26.864Z\" fill=\"#f58518\" fill-opacity=\"1\" stroke=\"#505050\" stroke-width=\"0\"/><path aria-label=\"x1: 90; x2: 169.9; level: 21; level2: 21.9; status: Default; sf: (::BayesianSafetyValidation.var&quot;#20#22&quot;)(gp::GaussianProcesses.GPE{Matrix{Float64}, Vector{Float64}, GaussianProcesses.MeanZero, GaussianProcesses.Mat12Iso{Float64}, GaussianProcesses.FullCovariance, GaussianProcesses.IsotropicData{Matrix{Float64}}, PDMats.PDMat{Float64, Matrix{Float64}}, GaussianProcesses.Scalar{Float64}}, x::Vector{Float64}) at surrogate_model.jl:33\" role=\"graphics-symbol\" aria-roledescription=\"rect mark\" d=\"M14.399999999999999,205.33333333333337h12.784000000000002v7.999999999999972h-12.784000000000002Z\" fill=\"#4c78a8\" fill-opacity=\"1\" stroke=\"#505050\" stroke-width=\"0\"/><path aria-label=\"x1: 90; x2: 106.9; level: 22; level2: 22.9; status: Default; sf: map at tuple.jl:274 [inlined]\" role=\"graphics-symbol\" aria-roledescription=\"rect mark\" d=\"M14.399999999999999,196.44444444444446h2.7040000000000006v7.999999999999972h-2.7040000000000006Z\" fill=\"#4c78a8\" fill-opacity=\"1\" stroke=\"#505050\" stroke-width=\"0\"/><path aria-label=\"x1: 90; x2: 106.9; level: 23; level2: 23.9; status: Default; sf: (::BayesianSafetyValidation.var&quot;#21#23&quot;)(y::Vector{Float64}) at surrogate_model.jl:33\" role=\"graphics-symbol\" aria-roledescription=\"rect mark\" d=\"M14.399999999999999,187.55555555555557h2.7040000000000006v8h-2.7040000000000006Z\" fill=\"#4c78a8\" fill-opacity=\"1\" stroke=\"#505050\" stroke-width=\"0\"/><path aria-label=\"x1: 90; x2: 106.9; level: 24; level2: 24.9; status: Default; sf: materialize at broadcast.jl:873 [inlined]\" role=\"graphics-symbol\" aria-roledescription=\"rect mark\" d=\"M14.399999999999999,178.66666666666666h2.7040000000000006v8h-2.7040000000000006Z\" fill=\"#4c78a8\" fill-opacity=\"1\" stroke=\"#505050\" stroke-width=\"0\"/><path aria-label=\"x1: 90; x2: 105.9; level: 25; level2: 25.9; status: Default; sf: copy at broadcast.jl:898 [inlined]\" role=\"graphics-symbol\" aria-roledescription=\"rect mark\" d=\"M14.399999999999999,169.7777777777778h2.5440000000000005v7.999999999999972h-2.5440000000000005Z\" fill=\"#4c78a8\" fill-opacity=\"1\" stroke=\"#505050\" stroke-width=\"0\"/><path aria-label=\"x1: 90; x2: 95.9; level: 26; level2: 26.9; status: Default; sf: copyto! at broadcast.jl:926 [inlined]\" role=\"graphics-symbol\" aria-roledescription=\"rect mark\" d=\"M14.399999999999999,160.8888888888889h0.9440000000000026v8h-0.9440000000000026Z\" fill=\"#4c78a8\" fill-opacity=\"1\" stroke=\"#505050\" stroke-width=\"0\"/><path aria-label=\"x1: 90; x2: 90.9; level: 27; level2: 27.9; status: Default; sf: copyto! at broadcast.jl:970 [inlined]\" role=\"graphics-symbol\" aria-roledescription=\"rect mark\" d=\"M14.399999999999999,152h0.1440000000000019v8h-0.1440000000000019Z\" fill=\"#4c78a8\" fill-opacity=\"1\" stroke=\"#505050\" stroke-width=\"0\"/><path aria-label=\"x1: 90; x2: 90.9; level: 28; level2: 28.9; status: Default; sf: preprocess at broadcast.jl:953 [inlined]\" role=\"graphics-symbol\" aria-roledescription=\"rect mark\" d=\"M14.399999999999999,143.11111111111114h0.1440000000000019v7.999999999999972h-0.1440000000000019Z\" fill=\"#4c78a8\" fill-opacity=\"1\" stroke=\"#505050\" stroke-width=\"0\"/><path aria-label=\"x1: 90; x2: 90.9; level: 29; level2: 29.9; status: Default; sf: preprocess_args at broadcast.jl:957 [inlined]\" role=\"graphics-symbol\" aria-roledescription=\"rect mark\" d=\"M14.399999999999999,134.22222222222223h0.1440000000000019v7.999999999999972h-0.1440000000000019Z\" fill=\"#4c78a8\" fill-opacity=\"1\" stroke=\"#505050\" stroke-width=\"0\"/><path aria-label=\"x1: 90; x2: 90.9; level: 30; level2: 30.9; status: Default; sf: preprocess at broadcast.jl:954 [inlined]\" role=\"graphics-symbol\" aria-roledescription=\"rect mark\" d=\"M14.399999999999999,125.33333333333334h0.1440000000000019v8h-0.1440000000000019Z\" fill=\"#4c78a8\" fill-opacity=\"1\" stroke=\"#505050\" stroke-width=\"0\"/><path aria-label=\"x1: 90; x2: 90.9; level: 31; level2: 31.9; status: Default; sf: broadcast_unalias at broadcast.jl:947 [inlined]\" role=\"graphics-symbol\" aria-roledescription=\"rect mark\" d=\"M14.399999999999999,116.44444444444444h0.1440000000000019v8h-0.1440000000000019Z\" fill=\"#4c78a8\" fill-opacity=\"1\" stroke=\"#505050\" stroke-width=\"0\"/><path aria-label=\"x1: 91; x2: 95.9; level: 27; level2: 27.9; status: Default; sf: copyto! at broadcast.jl:973 [inlined]\" role=\"graphics-symbol\" aria-roledescription=\"rect mark\" d=\"M14.56,152h0.7840000000000007v8h-0.7840000000000007Z\" fill=\"#4c78a8\" fill-opacity=\"1\" stroke=\"#505050\" stroke-width=\"0\"/><path aria-label=\"x1: 91; x2: 95.9; level: 28; level2: 28.9; status: Default; sf: macro expansion at simdloop.jl:77 [inlined]\" role=\"graphics-symbol\" aria-roledescription=\"rect mark\" d=\"M14.56,143.11111111111114h0.7840000000000007v7.999999999999972h-0.7840000000000007Z\" fill=\"#4c78a8\" fill-opacity=\"1\" stroke=\"#505050\" stroke-width=\"0\"/><path aria-label=\"x1: 91; x2: 95.9; level: 29; level2: 29.9; status: Default; sf: macro expansion at broadcast.jl:974 [inlined]\" role=\"graphics-symbol\" aria-roledescription=\"rect mark\" d=\"M14.56,134.22222222222223h0.7840000000000007v7.999999999999972h-0.7840000000000007Z\" fill=\"#4c78a8\" fill-opacity=\"1\" stroke=\"#505050\" stroke-width=\"0\"/><path aria-label=\"x1: 91; x2: 92.9; level: 30; level2: 30.9; status: Default; sf: setindex! at array.jl:969 [inlined]\" role=\"graphics-symbol\" aria-roledescription=\"rect mark\" d=\"M14.56,125.33333333333334h0.30400000000000205v8h-0.30400000000000205Z\" fill=\"#4c78a8\" fill-opacity=\"1\" stroke=\"#505050\" stroke-width=\"0\"/><path aria-label=\"x1: 93; x2: 95.9; level: 30; level2: 30.9; status: Default; sf: getindex at broadcast.jl:610 [inlined]\" role=\"graphics-symbol\" aria-roledescription=\"rect mark\" d=\"M14.879999999999999,125.33333333333334h0.4640000000000022v8h-0.4640000000000022Z\" fill=\"#4c78a8\" fill-opacity=\"1\" stroke=\"#505050\" stroke-width=\"0\"/><path aria-label=\"x1: 93; x2: 95.9; level: 31; level2: 31.9; status: Default; sf: _broadcast_getindex at broadcast.jl:656 [inlined]\" role=\"graphics-symbol\" aria-roledescription=\"rect mark\" d=\"M14.879999999999999,116.44444444444444h0.4640000000000022v8h-0.4640000000000022Z\" fill=\"#4c78a8\" fill-opacity=\"1\" stroke=\"#505050\" stroke-width=\"0\"/><path aria-label=\"x1: 93; x2: 95.9; level: 32; level2: 32.9; status: Default; sf: _broadcast_getindex_evalf at broadcast.jl:683 [inlined]\" role=\"graphics-symbol\" aria-roledescription=\"rect mark\" d=\"M14.879999999999999,107.55555555555559h0.4640000000000022v7.999999999999957h-0.4640000000000022Z\" fill=\"#4c78a8\" fill-opacity=\"1\" stroke=\"#505050\" stroke-width=\"0\"/><path aria-label=\"x1: 93; x2: 95.9; level: 33; level2: 33.9; status: Default; sf: inverse at surrogate_model.jl:8 [inlined]\" role=\"graphics-symbol\" aria-roledescription=\"rect mark\" d=\"M14.879999999999999,98.66666666666669h0.4640000000000022v8h-0.4640000000000022Z\" fill=\"#4c78a8\" fill-opacity=\"1\" stroke=\"#505050\" stroke-width=\"0\"/><path aria-label=\"x1: 93; x2: 93.9; level: 34; level2: 34.9; status: Default; sf: clamp at math.jl:89 [inlined]\" role=\"graphics-symbol\" aria-roledescription=\"rect mark\" d=\"M14.879999999999999,89.77777777777777h0.1440000000000019v8.000000000000014h-0.1440000000000019Z\" fill=\"#4c78a8\" fill-opacity=\"1\" stroke=\"#505050\" stroke-width=\"0\"/><path aria-label=\"x1: 93; x2: 93.9; level: 35; level2: 35.9; status: Default; sf: ifelse at essentials.jl:575 [inlined]\" role=\"graphics-symbol\" aria-roledescription=\"rect mark\" d=\"M14.879999999999999,80.88888888888891h0.1440000000000019v7.999999999999972h-0.1440000000000019Z\" fill=\"#4c78a8\" fill-opacity=\"1\" stroke=\"#505050\" stroke-width=\"0\"/><path aria-label=\"x1: 94; x2: 95.9; level: 34; level2: 34.9; status: Default; sf: inverse_transform at surrogate_model.jl:5 [inlined]\" role=\"graphics-symbol\" aria-roledescription=\"rect mark\" d=\"M15.040000000000001,89.77777777777777h0.30400000000000027v8.000000000000014h-0.30400000000000027Z\" fill=\"#4c78a8\" fill-opacity=\"1\" stroke=\"#505050\" stroke-width=\"0\"/><path aria-label=\"x1: 94; x2: 95.9; level: 35; level2: 35.9; status: Default; sf: #inverse_transform#10 at surrogate_model.jl:5 [inlined]\" role=\"graphics-symbol\" aria-roledescription=\"rect mark\" d=\"M15.040000000000001,80.88888888888891h0.30400000000000027v7.999999999999972h-0.30400000000000027Z\" fill=\"#4c78a8\" fill-opacity=\"1\" stroke=\"#505050\" stroke-width=\"0\"/><path aria-label=\"x1: 94; x2: 95.9; level: 36; level2: 36.9; status: Default; sf: - at float.jl:409 [inlined]\" role=\"graphics-symbol\" aria-roledescription=\"rect mark\" d=\"M15.040000000000001,72.00000000000001h0.30400000000000027v7.999999999999972h-0.30400000000000027Z\" fill=\"#4c78a8\" fill-opacity=\"1\" stroke=\"#505050\" stroke-width=\"0\"/><path aria-label=\"x1: 96; x2: 105.9; level: 26; level2: 26.9; status: Default; sf: similar at broadcast.jl:211 [inlined]\" role=\"graphics-symbol\" aria-roledescription=\"rect mark\" d=\"M15.36,160.8888888888889h1.5839999999999996v8h-1.5839999999999996Z\" fill=\"#4c78a8\" fill-opacity=\"1\" stroke=\"#505050\" stroke-width=\"0\"/><path aria-label=\"x1: 96; x2: 105.9; level: 27; level2: 27.9; status: Default; sf: similar at broadcast.jl:212 [inlined]\" role=\"graphics-symbol\" aria-roledescription=\"rect mark\" d=\"M15.36,152h1.5839999999999996v8h-1.5839999999999996Z\" fill=\"#4c78a8\" fill-opacity=\"1\" stroke=\"#505050\" stroke-width=\"0\"/><path aria-label=\"x1: 96; x2: 105.9; level: 28; level2: 28.9; status: Default; sf: similar at abstractarray.jl:881 [inlined]\" role=\"graphics-symbol\" aria-roledescription=\"rect mark\" d=\"M15.36,143.11111111111114h1.5839999999999996v7.999999999999972h-1.5839999999999996Z\" fill=\"#4c78a8\" fill-opacity=\"1\" stroke=\"#505050\" stroke-width=\"0\"/><path aria-label=\"x1: 96; x2: 105.9; level: 29; level2: 29.9; status: Default; sf: similar at abstractarray.jl:882 [inlined]\" role=\"graphics-symbol\" aria-roledescription=\"rect mark\" d=\"M15.36,134.22222222222223h1.5839999999999996v7.999999999999972h-1.5839999999999996Z\" fill=\"#4c78a8\" fill-opacity=\"1\" stroke=\"#505050\" stroke-width=\"0\"/><path aria-label=\"x1: 96; x2: 105.9; level: 30; level2: 30.9; status: Default; sf: Array at boot.jl:494 [inlined]\" role=\"graphics-symbol\" aria-roledescription=\"rect mark\" d=\"M15.36,125.33333333333334h1.5839999999999996v8h-1.5839999999999996Z\" fill=\"#4c78a8\" fill-opacity=\"1\" stroke=\"#505050\" stroke-width=\"0\"/><path aria-label=\"x1: 96; x2: 105.9; level: 31; level2: 31.9; status: Default; sf: Array at boot.jl:486 [inlined]\" role=\"graphics-symbol\" aria-roledescription=\"rect mark\" d=\"M15.36,116.44444444444444h1.5839999999999996v8h-1.5839999999999996Z\" fill=\"#4c78a8\" fill-opacity=\"1\" stroke=\"#505050\" stroke-width=\"0\"/><path aria-label=\"x1: 96; x2: 105.9; level: 32; level2: 32.9; status: Garbage collection; sf: Array at boot.jl:477 [inlined]\" role=\"graphics-symbol\" aria-roledescription=\"rect mark\" d=\"M15.36,107.55555555555559h1.5839999999999996v7.999999999999957h-1.5839999999999996Z\" fill=\"#f58518\" fill-opacity=\"1\" stroke=\"#505050\" stroke-width=\"0\"/><path aria-label=\"x1: 106; x2: 106.9; level: 25; level2: 25.9; status: Default; sf: instantiate at broadcast.jl:294 [inlined]\" role=\"graphics-symbol\" aria-roledescription=\"rect mark\" d=\"M16.96,169.7777777777778h0.14399999999999835v7.999999999999972h-0.14399999999999835Z\" fill=\"#4c78a8\" fill-opacity=\"1\" stroke=\"#505050\" stroke-width=\"0\"/><path aria-label=\"x1: 106; x2: 106.9; level: 26; level2: 26.9; status: Default; sf: combine_axes at broadcast.jl:513 [inlined]\" role=\"graphics-symbol\" aria-roledescription=\"rect mark\" d=\"M16.96,160.8888888888889h0.14399999999999835v8h-0.14399999999999835Z\" fill=\"#4c78a8\" fill-opacity=\"1\" stroke=\"#505050\" stroke-width=\"0\"/><path aria-label=\"x1: 106; x2: 106.9; level: 27; level2: 27.9; status: Default; sf: axes at abstractarray.jl:98 [inlined]\" role=\"graphics-symbol\" aria-roledescription=\"rect mark\" d=\"M16.96,152h0.14399999999999835v8h-0.14399999999999835Z\" fill=\"#4c78a8\" fill-opacity=\"1\" stroke=\"#505050\" stroke-width=\"0\"/><path aria-label=\"x1: 106; x2: 106.9; level: 28; level2: 28.9; status: Default; sf: size at array.jl:149 [inlined]\" role=\"graphics-symbol\" aria-roledescription=\"rect mark\" d=\"M16.96,143.11111111111114h0.14399999999999835v7.999999999999972h-0.14399999999999835Z\" fill=\"#4c78a8\" fill-opacity=\"1\" stroke=\"#505050\" stroke-width=\"0\"/><path aria-label=\"x1: 107; x2: 169.9; level: 22; level2: 22.9; status: Default; sf: predict_f at GP.jl:64 [inlined]\" role=\"graphics-symbol\" aria-roledescription=\"rect mark\" d=\"M17.119999999999997,196.44444444444446h10.064000000000004v7.999999999999972h-10.064000000000004Z\" fill=\"#4c78a8\" fill-opacity=\"1\" stroke=\"#505050\" stroke-width=\"0\"/><path aria-label=\"x1: 107; x2: 110.9; level: 23; level2: 23.9; status: Default; sf: predict_f(gp::GaussianProcesses.GPE{Matrix{Float64}, Vector{Float64}, GaussianProcesses.MeanZero, GaussianProcesses.Mat12Iso{Float64}, GaussianProcesses.FullCovariance, GaussianProcesses.IsotropicData{Matrix{Float64}}, PDMats.PDMat{Float64, Matrix{Float64}}, GaussianProcesses.Scalar{Float64}}, x::Base.ReshapedArray{Float64, 2, LinearAlgebra.Adjoint{Float64, Vector{Float64}}, Tuple{}}; full_cov::Bool) at GP.jl:70\" role=\"graphics-symbol\" aria-roledescription=\"rect mark\" d=\"M17.119999999999997,187.55555555555557h0.6240000000000023v8h-0.6240000000000023Z\" fill=\"#4c78a8\" fill-opacity=\"1\" stroke=\"#505050\" stroke-width=\"0\"/><path aria-label=\"x1: 107; x2: 110.9; level: 24; level2: 24.9; status: Default; sf: Array at boot.jl:491 [inlined]\" role=\"graphics-symbol\" aria-roledescription=\"rect mark\" d=\"M17.119999999999997,178.66666666666666h0.6240000000000023v8h-0.6240000000000023Z\" fill=\"#4c78a8\" fill-opacity=\"1\" stroke=\"#505050\" stroke-width=\"0\"/><path aria-label=\"x1: 107; x2: 110.9; level: 25; level2: 25.9; status: Garbage collection; sf: Array at boot.jl:477 [inlined]\" role=\"graphics-symbol\" aria-roledescription=\"rect mark\" d=\"M17.119999999999997,169.7777777777778h0.6240000000000023v7.999999999999972h-0.6240000000000023Z\" fill=\"#f58518\" fill-opacity=\"1\" stroke=\"#505050\" stroke-width=\"0\"/><path aria-label=\"x1: 111; x2: 112.9; level: 23; level2: 23.9; status: Default; sf: predict_f(gp::GaussianProcesses.GPE{Matrix{Float64}, Vector{Float64}, GaussianProcesses.MeanZero, GaussianProcesses.Mat12Iso{Float64}, GaussianProcesses.FullCovariance, GaussianProcesses.IsotropicData{Matrix{Float64}}, PDMats.PDMat{Float64, Matrix{Float64}}, GaussianProcesses.Scalar{Float64}}, x::Base.ReshapedArray{Float64, 2, LinearAlgebra.Adjoint{Float64, Vector{Float64}}, Tuple{}}; full_cov::Bool) at GP.jl:71\" role=\"graphics-symbol\" aria-roledescription=\"rect mark\" d=\"M17.76,187.55555555555557h0.30400000000000205v8h-0.30400000000000205Z\" fill=\"#4c78a8\" fill-opacity=\"1\" stroke=\"#505050\" stroke-width=\"0\"/><path aria-label=\"x1: 111; x2: 112.9; level: 24; level2: 24.9; status: Default; sf: similar at array.jl:369 [inlined]\" role=\"graphics-symbol\" aria-roledescription=\"rect mark\" d=\"M17.76,178.66666666666666h0.30400000000000205v8h-0.30400000000000205Z\" fill=\"#4c78a8\" fill-opacity=\"1\" stroke=\"#505050\" stroke-width=\"0\"/><path aria-label=\"x1: 111; x2: 112.9; level: 25; level2: 25.9; status: Garbage collection; sf: Array at boot.jl:477 [inlined]\" role=\"graphics-symbol\" aria-roledescription=\"rect mark\" d=\"M17.76,169.7777777777778h0.30400000000000205v7.999999999999972h-0.30400000000000205Z\" fill=\"#f58518\" fill-opacity=\"1\" stroke=\"#505050\" stroke-width=\"0\"/><path aria-label=\"x1: 113; x2: 163.9; level: 23; level2: 23.9; status: Default; sf: predict_f(gp::GaussianProcesses.GPE{Matrix{Float64}, Vector{Float64}, GaussianProcesses.MeanZero, GaussianProcesses.Mat12Iso{Float64}, GaussianProcesses.FullCovariance, GaussianProcesses.IsotropicData{Matrix{Float64}}, PDMats.PDMat{Float64, Matrix{Float64}}, GaussianProcesses.Scalar{Float64}}, x::Base.ReshapedArray{Float64, 2, LinearAlgebra.Adjoint{Float64, Vector{Float64}}, Tuple{}}; full_cov::Bool) at GP.jl:73\" role=\"graphics-symbol\" aria-roledescription=\"rect mark\" d=\"M18.08,187.55555555555557h8.144000000000005v8h-8.144000000000005Z\" fill=\"#4c78a8\" fill-opacity=\"1\" stroke=\"#505050\" stroke-width=\"0\"/><path aria-label=\"x1: 113; x2: 119.9; level: 24; level2: 24.9; status: Default; sf: getindex at abstractarray.jl:1294 [inlined]\" role=\"graphics-symbol\" aria-roledescription=\"rect mark\" d=\"M18.08,178.66666666666666h1.1040000000000028v8h-1.1040000000000028Z\" fill=\"#4c78a8\" fill-opacity=\"1\" stroke=\"#505050\" stroke-width=\"0\"/><path aria-label=\"x1: 113; x2: 119.9; level: 25; level2: 25.9; status: Default; sf: _getindex at multidimensional.jl:861 [inlined]\" role=\"graphics-symbol\" aria-roledescription=\"rect mark\" d=\"M18.08,169.7777777777778h1.1040000000000028v7.999999999999972h-1.1040000000000028Z\" fill=\"#4c78a8\" fill-opacity=\"1\" stroke=\"#505050\" stroke-width=\"0\"/><path aria-label=\"x1: 113; x2: 114.9; level: 26; level2: 26.9; status: Default; sf: _unsafe_getindex(::IndexLinear, ::Base.ReshapedArray{Float64, 2, LinearAlgebra.Adjoint{Float64, Vector{Float64}}, Tuple{}}, ::Base.Slice{Base.OneTo{Int64}}, ::UnitRange{Int64}) at multidimensional.jl:870\" role=\"graphics-symbol\" aria-roledescription=\"rect mark\" d=\"M18.08,160.8888888888889h0.30400000000000205v8h-0.30400000000000205Z\" fill=\"#4c78a8\" fill-opacity=\"1\" stroke=\"#505050\" stroke-width=\"0\"/><path aria-label=\"x1: 115; x2: 118.9; level: 26; level2: 26.9; status: Default; sf: _unsafe_getindex(::IndexLinear, ::Base.ReshapedArray{Float64, 2, LinearAlgebra.Adjoint{Float64, Vector{Float64}}, Tuple{}}, ::Base.Slice{Base.OneTo{Int64}}, ::UnitRange{Int64}) at multidimensional.jl:873\" role=\"graphics-symbol\" aria-roledescription=\"rect mark\" d=\"M18.4,160.8888888888889h0.6240000000000023v8h-0.6240000000000023Z\" fill=\"#4c78a8\" fill-opacity=\"1\" stroke=\"#505050\" stroke-width=\"0\"/><path aria-label=\"x1: 115; x2: 118.9; level: 27; level2: 27.9; status: Default; sf: similar at abstractarray.jl:836 [inlined]\" role=\"graphics-symbol\" aria-roledescription=\"rect mark\" d=\"M18.4,152h0.6240000000000023v8h-0.6240000000000023Z\" fill=\"#4c78a8\" fill-opacity=\"1\" stroke=\"#505050\" stroke-width=\"0\"/><path aria-label=\"x1: 115; x2: 118.9; level: 28; level2: 28.9; status: Default; sf: similar at reshapedarray.jl:209 [inlined]\" role=\"graphics-symbol\" aria-roledescription=\"rect mark\" d=\"M18.4,143.11111111111114h0.6240000000000023v7.999999999999972h-0.6240000000000023Z\" fill=\"#4c78a8\" fill-opacity=\"1\" stroke=\"#505050\" stroke-width=\"0\"/><path aria-label=\"x1: 115; x2: 118.9; level: 29; level2: 29.9; status: Default; sf: similar at adjtrans.jl:335 [inlined]\" role=\"graphics-symbol\" aria-roledescription=\"rect mark\" d=\"M18.4,134.22222222222223h0.6240000000000023v7.999999999999972h-0.6240000000000023Z\" fill=\"#4c78a8\" fill-opacity=\"1\" stroke=\"#505050\" stroke-width=\"0\"/><path aria-label=\"x1: 115; x2: 118.9; level: 30; level2: 30.9; status: Default; sf: similar at array.jl:374 [inlined]\" role=\"graphics-symbol\" aria-roledescription=\"rect mark\" d=\"M18.4,125.33333333333334h0.6240000000000023v8h-0.6240000000000023Z\" fill=\"#4c78a8\" fill-opacity=\"1\" stroke=\"#505050\" stroke-width=\"0\"/><path aria-label=\"x1: 115; x2: 118.9; level: 31; level2: 31.9; status: Default; sf: Array at boot.jl:487 [inlined]\" role=\"graphics-symbol\" aria-roledescription=\"rect mark\" d=\"M18.4,116.44444444444444h0.6240000000000023v8h-0.6240000000000023Z\" fill=\"#4c78a8\" fill-opacity=\"1\" stroke=\"#505050\" stroke-width=\"0\"/><path aria-label=\"x1: 115; x2: 118.9; level: 32; level2: 32.9; status: Garbage collection; sf: Array at boot.jl:479 [inlined]\" role=\"graphics-symbol\" aria-roledescription=\"rect mark\" d=\"M18.4,107.55555555555559h0.6240000000000023v7.999999999999957h-0.6240000000000023Z\" fill=\"#f58518\" fill-opacity=\"1\" stroke=\"#505050\" stroke-width=\"0\"/><path aria-label=\"x1: 119; x2: 119.9; level: 26; level2: 26.9; status: Default; sf: _unsafe_getindex(::IndexLinear, ::Base.ReshapedArray{Float64, 2, LinearAlgebra.Adjoint{Float64, Vector{Float64}}, Tuple{}}, ::Base.Slice{Base.OneTo{Int64}}, ::UnitRange{Int64}) at multidimensional.jl:875\" role=\"graphics-symbol\" aria-roledescription=\"rect mark\" d=\"M19.040000000000003,160.8888888888889h0.14399999999999835v8h-0.14399999999999835Z\" fill=\"#4c78a8\" fill-opacity=\"1\" stroke=\"#505050\" stroke-width=\"0\"/><path aria-label=\"x1: 119; x2: 119.9; level: 27; level2: 27.9; status: Default; sf: _unsafe_getindex! at multidimensional.jl:884 [inlined]\" role=\"graphics-symbol\" aria-roledescription=\"rect mark\" d=\"M19.040000000000003,152h0.14399999999999835v8h-0.14399999999999835Z\" fill=\"#4c78a8\" fill-opacity=\"1\" stroke=\"#505050\" stroke-width=\"0\"/><path aria-label=\"x1: 119; x2: 119.9; level: 28; level2: 28.9; status: Default; sf: macro expansion at cartesian.jl:66 [inlined]\" role=\"graphics-symbol\" aria-roledescription=\"rect mark\" d=\"M19.040000000000003,143.11111111111114h0.14399999999999835v7.999999999999972h-0.14399999999999835Z\" fill=\"#4c78a8\" fill-opacity=\"1\" stroke=\"#505050\" stroke-width=\"0\"/><path aria-label=\"x1: 119; x2: 119.9; level: 29; level2: 29.9; status: Default; sf: iterate at indices.jl:393 [inlined]\" role=\"graphics-symbol\" aria-roledescription=\"rect mark\" d=\"M19.040000000000003,134.22222222222223h0.14399999999999835v7.999999999999972h-0.14399999999999835Z\" fill=\"#4c78a8\" fill-opacity=\"1\" stroke=\"#505050\" stroke-width=\"0\"/><path aria-label=\"x1: 119; x2: 119.9; level: 30; level2: 30.9; status: Default; sf: iterate at range.jl:891 [inlined]\" role=\"graphics-symbol\" aria-roledescription=\"rect mark\" d=\"M19.040000000000003,125.33333333333334h0.14399999999999835v8h-0.14399999999999835Z\" fill=\"#4c78a8\" fill-opacity=\"1\" stroke=\"#505050\" stroke-width=\"0\"/><path aria-label=\"x1: 119; x2: 119.9; level: 31; level2: 31.9; status: Default; sf: == at promotion.jl:499 [inlined]\" role=\"graphics-symbol\" aria-roledescription=\"rect mark\" d=\"M19.040000000000003,116.44444444444444h0.14399999999999835v8h-0.14399999999999835Z\" fill=\"#4c78a8\" fill-opacity=\"1\" stroke=\"#505050\" stroke-width=\"0\"/><path aria-label=\"x1: 120; x2: 163.9; level: 24; level2: 24.9; status: Default; sf: predict_full at GPE.jl:399 [inlined]\" role=\"graphics-symbol\" aria-roledescription=\"rect mark\" d=\"M19.2,178.66666666666666h7.0240000000000045v8h-7.0240000000000045Z\" fill=\"#4c78a8\" fill-opacity=\"1\" stroke=\"#505050\" stroke-width=\"0\"/><path aria-label=\"x1: 121; x2: 124.9; level: 25; level2: 25.9; status: Default; sf: predictMVN(xpred::Matrix{Float64}, xtrain::Matrix{Float64}, ytrain::Vector{Float64}, kernel::GaussianProcesses.Mat12Iso{Float64}, meanf::GaussianProcesses.MeanZero, alpha::Vector{Float64}, covstrat::GaussianProcesses.FullCovariance, Ktrain::PDMats.PDMat{Float64, Matrix{Float64}}) at GP.jl:42\" role=\"graphics-symbol\" aria-roledescription=\"rect mark\" d=\"M19.36,169.7777777777778h0.6240000000000023v7.999999999999972h-0.6240000000000023Z\" fill=\"#4c78a8\" fill-opacity=\"1\" stroke=\"#505050\" stroke-width=\"0\"/><path aria-label=\"x1: 121; x2: 124.9; level: 26; level2: 26.9; status: Default; sf: KernelData at stationary.jl:39 [inlined]\" role=\"graphics-symbol\" aria-roledescription=\"rect mark\" d=\"M19.36,160.8888888888889h0.6240000000000023v8h-0.6240000000000023Z\" fill=\"#4c78a8\" fill-opacity=\"1\" stroke=\"#505050\" stroke-width=\"0\"/><path aria-label=\"x1: 121; x2: 124.9; level: 27; level2: 27.9; status: Default; sf: distance at distance.jl:24 [inlined]\" role=\"graphics-symbol\" aria-roledescription=\"rect mark\" d=\"M19.36,152h0.6240000000000023v8h-0.6240000000000023Z\" fill=\"#4c78a8\" fill-opacity=\"1\" stroke=\"#505050\" stroke-width=\"0\"/><path aria-label=\"x1: 121; x2: 124.9; level: 28; level2: 28.9; status: Garbage collection; sf: Array at boot.jl:479 [inlined]\" role=\"graphics-symbol\" aria-roledescription=\"rect mark\" d=\"M19.36,143.11111111111114h0.6240000000000023v7.999999999999972h-0.6240000000000023Z\" fill=\"#f58518\" fill-opacity=\"1\" stroke=\"#505050\" stroke-width=\"0\"/><path aria-label=\"x1: 125; x2: 128.9; level: 25; level2: 25.9; status: Default; sf: predictMVN(xpred::Matrix{Float64}, xtrain::Matrix{Float64}, ytrain::Vector{Float64}, kernel::GaussianProcesses.Mat12Iso{Float64}, meanf::GaussianProcesses.MeanZero, alpha::Vector{Float64}, covstrat::GaussianProcesses.FullCovariance, Ktrain::PDMats.PDMat{Float64, Matrix{Float64}}) at GP.jl:43\" role=\"graphics-symbol\" aria-roledescription=\"rect mark\" d=\"M20,169.7777777777778h0.6240000000000023v7.999999999999972h-0.6240000000000023Z\" fill=\"#4c78a8\" fill-opacity=\"1\" stroke=\"#505050\" stroke-width=\"0\"/><path aria-label=\"x1: 125; x2: 128.9; level: 26; level2: 26.9; status: Default; sf: KernelData at stationary.jl:39 [inlined]\" role=\"graphics-symbol\" aria-roledescription=\"rect mark\" d=\"M20,160.8888888888889h0.6240000000000023v8h-0.6240000000000023Z\" fill=\"#4c78a8\" fill-opacity=\"1\" stroke=\"#505050\" stroke-width=\"0\"/><path aria-label=\"x1: 125; x2: 128.9; level: 27; level2: 27.9; status: Default; sf: distance at distance.jl:24 [inlined]\" role=\"graphics-symbol\" aria-roledescription=\"rect mark\" d=\"M20,152h0.6240000000000023v8h-0.6240000000000023Z\" fill=\"#4c78a8\" fill-opacity=\"1\" stroke=\"#505050\" stroke-width=\"0\"/><path aria-label=\"x1: 125; x2: 128.9; level: 28; level2: 28.9; status: Garbage collection; sf: Array at boot.jl:479 [inlined]\" role=\"graphics-symbol\" aria-roledescription=\"rect mark\" d=\"M20,143.11111111111114h0.6240000000000023v7.999999999999972h-0.6240000000000023Z\" fill=\"#f58518\" fill-opacity=\"1\" stroke=\"#505050\" stroke-width=\"0\"/><path aria-label=\"x1: 129; x2: 137.9; level: 25; level2: 25.9; status: Default; sf: predictMVN(xpred::Matrix{Float64}, xtrain::Matrix{Float64}, ytrain::Vector{Float64}, kernel::GaussianProcesses.Mat12Iso{Float64}, meanf::GaussianProcesses.MeanZero, alpha::Vector{Float64}, covstrat::GaussianProcesses.FullCovariance, Ktrain::PDMats.PDMat{Float64, Matrix{Float64}}) at GP.jl:44\" role=\"graphics-symbol\" aria-roledescription=\"rect mark\" d=\"M20.64,169.7777777777778h1.4239999999999995v7.999999999999972h-1.4239999999999995Z\" fill=\"#4c78a8\" fill-opacity=\"1\" stroke=\"#505050\" stroke-width=\"0\"/><path aria-label=\"x1: 129; x2: 135.9; level: 26; level2: 26.9; status: Default; sf: cov at kernels.jl:35 [inlined]\" role=\"graphics-symbol\" aria-roledescription=\"rect mark\" d=\"M20.64,160.8888888888889h1.1040000000000028v8h-1.1040000000000028Z\" fill=\"#4c78a8\" fill-opacity=\"1\" stroke=\"#505050\" stroke-width=\"0\"/><path aria-label=\"x1: 129; x2: 135.9; level: 27; level2: 27.9; status: Default; sf: Array at boot.jl:492 [inlined]\" role=\"graphics-symbol\" aria-roledescription=\"rect mark\" d=\"M20.64,152h1.1040000000000028v8h-1.1040000000000028Z\" fill=\"#4c78a8\" fill-opacity=\"1\" stroke=\"#505050\" stroke-width=\"0\"/><path aria-label=\"x1: 129; x2: 135.9; level: 28; level2: 28.9; status: Garbage collection; sf: Array at boot.jl:479 [inlined]\" role=\"graphics-symbol\" aria-roledescription=\"rect mark\" d=\"M20.64,143.11111111111114h1.1040000000000028v7.999999999999972h-1.1040000000000028Z\" fill=\"#f58518\" fill-opacity=\"1\" stroke=\"#505050\" stroke-width=\"0\"/><path aria-label=\"x1: 136; x2: 137.9; level: 26; level2: 26.9; status: Default; sf: cov at kernels.jl:36 [inlined]\" role=\"graphics-symbol\" aria-roledescription=\"rect mark\" d=\"M21.759999999999998,160.8888888888889h0.30400000000000205v8h-0.30400000000000205Z\" fill=\"#4c78a8\" fill-opacity=\"1\" stroke=\"#505050\" stroke-width=\"0\"/><path aria-label=\"x1: 136; x2: 136.9; level: 27; level2: 27.9; status: Default; sf: cov!(cK::Matrix{Float64}, k::GaussianProcesses.Mat12Iso{Float64}, X1::Matrix{Float64}, X2::Matrix{Float64}, data::GaussianProcesses.IsotropicData{Matrix{Float64}}) at kernels.jl:0\" role=\"graphics-symbol\" aria-roledescription=\"rect mark\" d=\"M21.759999999999998,152h0.1440000000000019v8h-0.1440000000000019Z\" fill=\"#4c78a8\" fill-opacity=\"1\" stroke=\"#505050\" stroke-width=\"0\"/><path aria-label=\"x1: 137; x2: 137.9; level: 27; level2: 27.9; status: Default; sf: cov!(cK::Matrix{Float64}, k::GaussianProcesses.Mat12Iso{Float64}, X1::Matrix{Float64}, X2::Matrix{Float64}, data::GaussianProcesses.IsotropicData{Matrix{Float64}}) at kernels.jl:56\" role=\"graphics-symbol\" aria-roledescription=\"rect mark\" d=\"M21.92,152h0.14399999999999835v8h-0.14399999999999835Z\" fill=\"#4c78a8\" fill-opacity=\"1\" stroke=\"#505050\" stroke-width=\"0\"/><path aria-label=\"x1: 138; x2: 140.9; level: 25; level2: 25.9; status: Default; sf: predictMVN(xpred::Matrix{Float64}, xtrain::Matrix{Float64}, ytrain::Vector{Float64}, kernel::GaussianProcesses.Mat12Iso{Float64}, meanf::GaussianProcesses.MeanZero, alpha::Vector{Float64}, covstrat::GaussianProcesses.FullCovariance, Ktrain::PDMats.PDMat{Float64, Matrix{Float64}}) at GP.jl:45\" role=\"graphics-symbol\" aria-roledescription=\"rect mark\" d=\"M22.08,169.7777777777778h0.4640000000000022v7.999999999999972h-0.4640000000000022Z\" fill=\"#4c78a8\" fill-opacity=\"1\" stroke=\"#505050\" stroke-width=\"0\"/><path aria-label=\"x1: 138; x2: 138.9; level: 26; level2: 26.9; status: Default; sf: cov at kernels.jl:35 [inlined]\" role=\"graphics-symbol\" aria-roledescription=\"rect mark\" d=\"M22.08,160.8888888888889h0.14400000000000546v8h-0.14400000000000546Z\" fill=\"#4c78a8\" fill-opacity=\"1\" stroke=\"#505050\" stroke-width=\"0\"/><path aria-label=\"x1: 138; x2: 138.9; level: 27; level2: 27.9; status: Default; sf: Array at boot.jl:492 [inlined]\" role=\"graphics-symbol\" aria-roledescription=\"rect mark\" d=\"M22.08,152h0.14400000000000546v8h-0.14400000000000546Z\" fill=\"#4c78a8\" fill-opacity=\"1\" stroke=\"#505050\" stroke-width=\"0\"/><path aria-label=\"x1: 138; x2: 138.9; level: 28; level2: 28.9; status: Default; sf: Array at boot.jl:479 [inlined]\" role=\"graphics-symbol\" aria-roledescription=\"rect mark\" d=\"M22.08,143.11111111111114h0.14400000000000546v7.999999999999972h-0.14400000000000546Z\" fill=\"#4c78a8\" fill-opacity=\"1\" stroke=\"#505050\" stroke-width=\"0\"/><path aria-label=\"x1: 139; x2: 140.9; level: 26; level2: 26.9; status: Default; sf: cov at kernels.jl:36 [inlined]\" role=\"graphics-symbol\" aria-roledescription=\"rect mark\" d=\"M22.24,160.8888888888889h0.30400000000000205v8h-0.30400000000000205Z\" fill=\"#4c78a8\" fill-opacity=\"1\" stroke=\"#505050\" stroke-width=\"0\"/><path aria-label=\"x1: 139; x2: 140.9; level: 27; level2: 27.9; status: Default; sf: cov!(cK::Matrix{Float64}, k::GaussianProcesses.Mat12Iso{Float64}, X1::Matrix{Float64}, X2::Matrix{Float64}, data::GaussianProcesses.IsotropicData{Matrix{Float64}}) at kernels.jl:58\" role=\"graphics-symbol\" aria-roledescription=\"rect mark\" d=\"M22.24,152h0.30400000000000205v8h-0.30400000000000205Z\" fill=\"#4c78a8\" fill-opacity=\"1\" stroke=\"#505050\" stroke-width=\"0\"/><path aria-label=\"x1: 139; x2: 140.9; level: 28; level2: 28.9; status: Default; sf: cov!(cK::Matrix{Float64}, k::GaussianProcesses.Mat12Iso{Float64}, X::Matrix{Float64}, data::GaussianProcesses.IsotropicData{Matrix{Float64}}) at kernels.jl:43\" role=\"graphics-symbol\" aria-roledescription=\"rect mark\" d=\"M22.24,143.11111111111114h0.30400000000000205v7.999999999999972h-0.30400000000000205Z\" fill=\"#4c78a8\" fill-opacity=\"1\" stroke=\"#505050\" stroke-width=\"0\"/><path aria-label=\"x1: 139; x2: 140.9; level: 29; level2: 29.9; status: Default; sf: cov_ij at stationary.jl:46 [inlined]\" role=\"graphics-symbol\" aria-roledescription=\"rect mark\" d=\"M22.24,134.22222222222223h0.30400000000000205v7.999999999999972h-0.30400000000000205Z\" fill=\"#4c78a8\" fill-opacity=\"1\" stroke=\"#505050\" stroke-width=\"0\"/><path aria-label=\"x1: 139; x2: 140.9; level: 30; level2: 30.9; status: Default; sf: cov at mat12_iso.jl:41 [inlined]\" role=\"graphics-symbol\" aria-roledescription=\"rect mark\" d=\"M22.24,125.33333333333334h0.30400000000000205v8h-0.30400000000000205Z\" fill=\"#4c78a8\" fill-opacity=\"1\" stroke=\"#505050\" stroke-width=\"0\"/><path aria-label=\"x1: 139; x2: 139.9; level: 31; level2: 31.9; status: Default; sf: exp(x::Float64) at exp.jl:325\" role=\"graphics-symbol\" aria-roledescription=\"rect mark\" d=\"M22.24,116.44444444444444h0.1440000000000019v8h-0.1440000000000019Z\" fill=\"#4c78a8\" fill-opacity=\"1\" stroke=\"#505050\" stroke-width=\"0\"/><path aria-label=\"x1: 139; x2: 139.9; level: 32; level2: 32.9; status: Default; sf: exp_impl at exp.jl:218 [inlined]\" role=\"graphics-symbol\" aria-roledescription=\"rect mark\" d=\"M22.24,107.55555555555559h0.1440000000000019v7.999999999999957h-0.1440000000000019Z\" fill=\"#4c78a8\" fill-opacity=\"1\" stroke=\"#505050\" stroke-width=\"0\"/><path aria-label=\"x1: 139; x2: 139.9; level: 33; level2: 33.9; status: Default; sf: abs at float.jl:609 [inlined]\" role=\"graphics-symbol\" aria-roledescription=\"rect mark\" d=\"M22.24,98.66666666666669h0.1440000000000019v8h-0.1440000000000019Z\" fill=\"#4c78a8\" fill-opacity=\"1\" stroke=\"#505050\" stroke-width=\"0\"/><path aria-label=\"x1: 141; x2: 146.9; level: 25; level2: 25.9; status: Default; sf: predictMVN(xpred::Matrix{Float64}, xtrain::Matrix{Float64}, ytrain::Vector{Float64}, kernel::GaussianProcesses.Mat12Iso{Float64}, meanf::GaussianProcesses.MeanZero, alpha::Vector{Float64}, covstrat::GaussianProcesses.FullCovariance, Ktrain::PDMats.PDMat{Float64, Matrix{Float64}}) at GP.jl:46\" role=\"graphics-symbol\" aria-roledescription=\"rect mark\" d=\"M22.56,169.7777777777778h0.9440000000000026v7.999999999999972h-0.9440000000000026Z\" fill=\"#4c78a8\" fill-opacity=\"1\" stroke=\"#505050\" stroke-width=\"0\"/><path aria-label=\"x1: 141; x2: 146.9; level: 26; level2: 26.9; status: Default; sf: mean at mZero.jl:16 [inlined]\" role=\"graphics-symbol\" aria-roledescription=\"rect mark\" d=\"M22.56,160.8888888888889h0.9440000000000026v8h-0.9440000000000026Z\" fill=\"#4c78a8\" fill-opacity=\"1\" stroke=\"#505050\" stroke-width=\"0\"/><path aria-label=\"x1: 141; x2: 146.9; level: 27; level2: 27.9; status: Default; sf: fill at array.jl:530 [inlined]\" role=\"graphics-symbol\" aria-roledescription=\"rect mark\" d=\"M22.56,152h0.9440000000000026v8h-0.9440000000000026Z\" fill=\"#4c78a8\" fill-opacity=\"1\" stroke=\"#505050\" stroke-width=\"0\"/><path aria-label=\"x1: 141; x2: 146.9; level: 28; level2: 28.9; status: Default; sf: fill at array.jl:532 [inlined]\" role=\"graphics-symbol\" aria-roledescription=\"rect mark\" d=\"M22.56,143.11111111111114h0.9440000000000026v7.999999999999972h-0.9440000000000026Z\" fill=\"#4c78a8\" fill-opacity=\"1\" stroke=\"#505050\" stroke-width=\"0\"/><path aria-label=\"x1: 141; x2: 141.9; level: 29; level2: 29.9; status: Default; sf: fill! at array.jl:0 [inlined]\" role=\"graphics-symbol\" aria-roledescription=\"rect mark\" d=\"M22.56,134.22222222222223h0.1440000000000019v7.999999999999972h-0.1440000000000019Z\" fill=\"#4c78a8\" fill-opacity=\"1\" stroke=\"#505050\" stroke-width=\"0\"/><path aria-label=\"x1: 142; x2: 142.9; level: 29; level2: 29.9; status: Default; sf: fill! at array.jl:348 [inlined]\" role=\"graphics-symbol\" aria-roledescription=\"rect mark\" d=\"M22.720000000000002,134.22222222222223h0.14399999999999835v7.999999999999972h-0.14399999999999835Z\" fill=\"#4c78a8\" fill-opacity=\"1\" stroke=\"#505050\" stroke-width=\"0\"/><path aria-label=\"x1: 142; x2: 142.9; level: 30; level2: 30.9; status: Default; sf: iterate at range.jl:887 [inlined]\" role=\"graphics-symbol\" aria-roledescription=\"rect mark\" d=\"M22.720000000000002,125.33333333333334h0.14399999999999835v8h-0.14399999999999835Z\" fill=\"#4c78a8\" fill-opacity=\"1\" stroke=\"#505050\" stroke-width=\"0\"/><path aria-label=\"x1: 142; x2: 142.9; level: 31; level2: 31.9; status: Default; sf: isempty at range.jl:662 [inlined]\" role=\"graphics-symbol\" aria-roledescription=\"rect mark\" d=\"M22.720000000000002,116.44444444444444h0.14399999999999835v8h-0.14399999999999835Z\" fill=\"#4c78a8\" fill-opacity=\"1\" stroke=\"#505050\" stroke-width=\"0\"/><path aria-label=\"x1: 142; x2: 142.9; level: 32; level2: 32.9; status: Default; sf: &gt; at operators.jl:369 [inlined]\" role=\"graphics-symbol\" aria-roledescription=\"rect mark\" d=\"M22.720000000000002,107.55555555555559h0.14399999999999835v7.999999999999957h-0.14399999999999835Z\" fill=\"#4c78a8\" fill-opacity=\"1\" stroke=\"#505050\" stroke-width=\"0\"/><path aria-label=\"x1: 142; x2: 142.9; level: 33; level2: 33.9; status: Default; sf: &lt; at int.jl:83 [inlined]\" role=\"graphics-symbol\" aria-roledescription=\"rect mark\" d=\"M22.720000000000002,98.66666666666669h0.14399999999999835v8h-0.14399999999999835Z\" fill=\"#4c78a8\" fill-opacity=\"1\" stroke=\"#505050\" stroke-width=\"0\"/><path aria-label=\"x1: 143; x2: 143.9; level: 29; level2: 29.9; status: Default; sf: fill! at array.jl:349 [inlined]\" role=\"graphics-symbol\" aria-roledescription=\"rect mark\" d=\"M22.88,134.22222222222223h0.1440000000000019v7.999999999999972h-0.1440000000000019Z\" fill=\"#4c78a8\" fill-opacity=\"1\" stroke=\"#505050\" stroke-width=\"0\"/><path aria-label=\"x1: 143; x2: 143.9; level: 30; level2: 30.9; status: Default; sf: setindex! at array.jl:969 [inlined]\" role=\"graphics-symbol\" aria-roledescription=\"rect mark\" d=\"M22.88,125.33333333333334h0.1440000000000019v8h-0.1440000000000019Z\" fill=\"#4c78a8\" fill-opacity=\"1\" stroke=\"#505050\" stroke-width=\"0\"/><path aria-label=\"x1: 144; x2: 146.9; level: 29; level2: 29.9; status: Default; sf: Array at boot.jl:486 [inlined]\" role=\"graphics-symbol\" aria-roledescription=\"rect mark\" d=\"M23.04,134.22222222222223h0.4640000000000022v7.999999999999972h-0.4640000000000022Z\" fill=\"#4c78a8\" fill-opacity=\"1\" stroke=\"#505050\" stroke-width=\"0\"/><path aria-label=\"x1: 144; x2: 146.9; level: 30; level2: 30.9; status: Default; sf: Array at boot.jl:477 [inlined]\" role=\"graphics-symbol\" aria-roledescription=\"rect mark\" d=\"M23.04,125.33333333333334h0.4640000000000022v8h-0.4640000000000022Z\" fill=\"#4c78a8\" fill-opacity=\"1\" stroke=\"#505050\" stroke-width=\"0\"/><path aria-label=\"x1: 147; x2: 161.9; level: 25; level2: 25.9; status: Default; sf: predictMVN(xpred::Matrix{Float64}, xtrain::Matrix{Float64}, ytrain::Vector{Float64}, kernel::GaussianProcesses.Mat12Iso{Float64}, meanf::GaussianProcesses.MeanZero, alpha::Vector{Float64}, covstrat::GaussianProcesses.FullCovariance, Ktrain::PDMats.PDMat{Float64, Matrix{Float64}}) at GP.jl:47\" role=\"graphics-symbol\" aria-roledescription=\"rect mark\" d=\"M23.52,169.7777777777778h2.3840000000000003v7.999999999999972h-2.3840000000000003Z\" fill=\"#4c78a8\" fill-opacity=\"1\" stroke=\"#505050\" stroke-width=\"0\"/><path aria-label=\"x1: 147; x2: 154.9; level: 26; level2: 26.9; status: Default; sf: predictMVN!(Kxx::Matrix{Float64}, Kff::PDMats.PDMat{Float64, Matrix{Float64}}, Kfx::Matrix{Float64}, mx::Vector{Float64}, αf::Vector{Float64}) at GP.jl:26\" role=\"graphics-symbol\" aria-roledescription=\"rect mark\" d=\"M23.52,160.8888888888889h1.2639999999999993v8h-1.2639999999999993Z\" fill=\"#4c78a8\" fill-opacity=\"1\" stroke=\"#505050\" stroke-width=\"0\"/><path aria-label=\"x1: 147; x2: 150.9; level: 27; level2: 27.9; status: Default; sf: +(A::Vector{Float64}, Bs::Vector{Float64}) at arraymath.jl:16\" role=\"graphics-symbol\" aria-roledescription=\"rect mark\" d=\"M23.52,152h0.6240000000000023v8h-0.6240000000000023Z\" fill=\"#4c78a8\" fill-opacity=\"1\" stroke=\"#505050\" stroke-width=\"0\"/><path aria-label=\"x1: 147; x2: 150.9; level: 28; level2: 28.9; status: Default; sf: broadcast_preserving_zero_d at broadcast.jl:862 [inlined]\" role=\"graphics-symbol\" aria-roledescription=\"rect mark\" d=\"M23.52,143.11111111111114h0.6240000000000023v7.999999999999972h-0.6240000000000023Z\" fill=\"#4c78a8\" fill-opacity=\"1\" stroke=\"#505050\" stroke-width=\"0\"/><path aria-label=\"x1: 147; x2: 150.9; level: 29; level2: 29.9; status: Default; sf: materialize at broadcast.jl:873 [inlined]\" role=\"graphics-symbol\" aria-roledescription=\"rect mark\" d=\"M23.52,134.22222222222223h0.6240000000000023v7.999999999999972h-0.6240000000000023Z\" fill=\"#4c78a8\" fill-opacity=\"1\" stroke=\"#505050\" stroke-width=\"0\"/><path aria-label=\"x1: 147; x2: 150.9; level: 30; level2: 30.9; status: Default; sf: copy at broadcast.jl:898 [inlined]\" role=\"graphics-symbol\" aria-roledescription=\"rect mark\" d=\"M23.52,125.33333333333334h0.6240000000000023v8h-0.6240000000000023Z\" fill=\"#4c78a8\" fill-opacity=\"1\" stroke=\"#505050\" stroke-width=\"0\"/><path aria-label=\"x1: 147; x2: 147.9; level: 31; level2: 31.9; status: Default; sf: copyto! at broadcast.jl:926 [inlined]\" role=\"graphics-symbol\" aria-roledescription=\"rect mark\" d=\"M23.52,116.44444444444444h0.1440000000000019v8h-0.1440000000000019Z\" fill=\"#4c78a8\" fill-opacity=\"1\" stroke=\"#505050\" stroke-width=\"0\"/><path aria-label=\"x1: 147; x2: 147.9; level: 32; level2: 32.9; status: Default; sf: copyto! at broadcast.jl:973 [inlined]\" role=\"graphics-symbol\" aria-roledescription=\"rect mark\" d=\"M23.52,107.55555555555559h0.1440000000000019v7.999999999999957h-0.1440000000000019Z\" fill=\"#4c78a8\" fill-opacity=\"1\" stroke=\"#505050\" stroke-width=\"0\"/><path aria-label=\"x1: 147; x2: 147.9; level: 33; level2: 33.9; status: Default; sf: macro expansion at simdloop.jl:77 [inlined]\" role=\"graphics-symbol\" aria-roledescription=\"rect mark\" d=\"M23.52,98.66666666666669h0.1440000000000019v8h-0.1440000000000019Z\" fill=\"#4c78a8\" fill-opacity=\"1\" stroke=\"#505050\" stroke-width=\"0\"/><path aria-label=\"x1: 147; x2: 147.9; level: 34; level2: 34.9; status: Default; sf: macro expansion at broadcast.jl:974 [inlined]\" role=\"graphics-symbol\" aria-roledescription=\"rect mark\" d=\"M23.52,89.77777777777777h0.1440000000000019v8.000000000000014h-0.1440000000000019Z\" fill=\"#4c78a8\" fill-opacity=\"1\" stroke=\"#505050\" stroke-width=\"0\"/><path aria-label=\"x1: 147; x2: 147.9; level: 35; level2: 35.9; status: Default; sf: setindex! at array.jl:969 [inlined]\" role=\"graphics-symbol\" aria-roledescription=\"rect mark\" d=\"M23.52,80.88888888888891h0.1440000000000019v7.999999999999972h-0.1440000000000019Z\" fill=\"#4c78a8\" fill-opacity=\"1\" stroke=\"#505050\" stroke-width=\"0\"/><path aria-label=\"x1: 148; x2: 150.9; level: 31; level2: 31.9; status: Default; sf: similar at broadcast.jl:211 [inlined]\" role=\"graphics-symbol\" aria-roledescription=\"rect mark\" d=\"M23.68,116.44444444444444h0.4640000000000022v8h-0.4640000000000022Z\" fill=\"#4c78a8\" fill-opacity=\"1\" stroke=\"#505050\" stroke-width=\"0\"/><path aria-label=\"x1: 148; x2: 150.9; level: 32; level2: 32.9; status: Default; sf: similar at broadcast.jl:212 [inlined]\" role=\"graphics-symbol\" aria-roledescription=\"rect mark\" d=\"M23.68,107.55555555555559h0.4640000000000022v7.999999999999957h-0.4640000000000022Z\" fill=\"#4c78a8\" fill-opacity=\"1\" stroke=\"#505050\" stroke-width=\"0\"/><path aria-label=\"x1: 148; x2: 150.9; level: 33; level2: 33.9; status: Default; sf: similar at abstractarray.jl:881 [inlined]\" role=\"graphics-symbol\" aria-roledescription=\"rect mark\" d=\"M23.68,98.66666666666669h0.4640000000000022v8h-0.4640000000000022Z\" fill=\"#4c78a8\" fill-opacity=\"1\" stroke=\"#505050\" stroke-width=\"0\"/><path aria-label=\"x1: 148; x2: 150.9; level: 34; level2: 34.9; status: Default; sf: similar at abstractarray.jl:882 [inlined]\" role=\"graphics-symbol\" aria-roledescription=\"rect mark\" d=\"M23.68,89.77777777777777h0.4640000000000022v8.000000000000014h-0.4640000000000022Z\" fill=\"#4c78a8\" fill-opacity=\"1\" stroke=\"#505050\" stroke-width=\"0\"/><path aria-label=\"x1: 148; x2: 150.9; level: 35; level2: 35.9; status: Default; sf: Array at boot.jl:494 [inlined]\" role=\"graphics-symbol\" aria-roledescription=\"rect mark\" d=\"M23.68,80.88888888888891h0.4640000000000022v7.999999999999972h-0.4640000000000022Z\" fill=\"#4c78a8\" fill-opacity=\"1\" stroke=\"#505050\" stroke-width=\"0\"/><path aria-label=\"x1: 148; x2: 150.9; level: 36; level2: 36.9; status: Default; sf: Array at boot.jl:486 [inlined]\" role=\"graphics-symbol\" aria-roledescription=\"rect mark\" d=\"M23.68,72.00000000000001h0.4640000000000022v7.999999999999972h-0.4640000000000022Z\" fill=\"#4c78a8\" fill-opacity=\"1\" stroke=\"#505050\" stroke-width=\"0\"/><path aria-label=\"x1: 148; x2: 150.9; level: 37; level2: 37.9; status: Default; sf: Array at boot.jl:477 [inlined]\" role=\"graphics-symbol\" aria-roledescription=\"rect mark\" d=\"M23.68,63.111111111111114h0.4640000000000022v8.000000000000014h-0.4640000000000022Z\" fill=\"#4c78a8\" fill-opacity=\"1\" stroke=\"#505050\" stroke-width=\"0\"/><path aria-label=\"x1: 151; x2: 154.9; level: 27; level2: 27.9; status: Default; sf: * at matmul.jl:101 [inlined]\" role=\"graphics-symbol\" aria-roledescription=\"rect mark\" d=\"M24.16,152h0.6239999999999988v8h-0.6239999999999988Z\" fill=\"#4c78a8\" fill-opacity=\"1\" stroke=\"#505050\" stroke-width=\"0\"/><path aria-label=\"x1: 151; x2: 153.9; level: 28; level2: 28.9; status: Default; sf: similar at abstractarray.jl:838 [inlined]\" role=\"graphics-symbol\" aria-roledescription=\"rect mark\" d=\"M24.16,143.11111111111114h0.4640000000000022v7.999999999999972h-0.4640000000000022Z\" fill=\"#4c78a8\" fill-opacity=\"1\" stroke=\"#505050\" stroke-width=\"0\"/><path aria-label=\"x1: 151; x2: 153.9; level: 29; level2: 29.9; status: Default; sf: similar at array.jl:374 [inlined]\" role=\"graphics-symbol\" aria-roledescription=\"rect mark\" d=\"M24.16,134.22222222222223h0.4640000000000022v7.999999999999972h-0.4640000000000022Z\" fill=\"#4c78a8\" fill-opacity=\"1\" stroke=\"#505050\" stroke-width=\"0\"/><path aria-label=\"x1: 151; x2: 153.9; level: 30; level2: 30.9; status: Default; sf: Array at boot.jl:486 [inlined]\" role=\"graphics-symbol\" aria-roledescription=\"rect mark\" d=\"M24.16,125.33333333333334h0.4640000000000022v8h-0.4640000000000022Z\" fill=\"#4c78a8\" fill-opacity=\"1\" stroke=\"#505050\" stroke-width=\"0\"/><path aria-label=\"x1: 151; x2: 153.9; level: 31; level2: 31.9; status: Default; sf: Array at boot.jl:477 [inlined]\" role=\"graphics-symbol\" aria-roledescription=\"rect mark\" d=\"M24.16,116.44444444444444h0.4640000000000022v8h-0.4640000000000022Z\" fill=\"#4c78a8\" fill-opacity=\"1\" stroke=\"#505050\" stroke-width=\"0\"/><path aria-label=\"x1: 154; x2: 154.9; level: 28; level2: 28.9; status: Default; sf: mul! at matmul.jl:276 [inlined]\" role=\"graphics-symbol\" aria-roledescription=\"rect mark\" d=\"M24.64,143.11111111111114h0.14399999999999835v7.999999999999972h-0.14399999999999835Z\" fill=\"#4c78a8\" fill-opacity=\"1\" stroke=\"#505050\" stroke-width=\"0\"/><path aria-label=\"x1: 154; x2: 154.9; level: 29; level2: 29.9; status: Default; sf: mul! at matmul.jl:109 [inlined]\" role=\"graphics-symbol\" aria-roledescription=\"rect mark\" d=\"M24.64,134.22222222222223h0.14399999999999835v7.999999999999972h-0.14399999999999835Z\" fill=\"#4c78a8\" fill-opacity=\"1\" stroke=\"#505050\" stroke-width=\"0\"/><path aria-label=\"x1: 154; x2: 154.9; level: 30; level2: 30.9; status: Default; sf: mul! at matmul.jl:93 [inlined]\" role=\"graphics-symbol\" aria-roledescription=\"rect mark\" d=\"M24.64,125.33333333333334h0.14399999999999835v8h-0.14399999999999835Z\" fill=\"#4c78a8\" fill-opacity=\"1\" stroke=\"#505050\" stroke-width=\"0\"/><path aria-label=\"x1: 154; x2: 154.9; level: 31; level2: 31.9; status: Default; sf: gemv!(y::Vector{Float64}, tA::Char, A::Matrix{Float64}, x::Vector{Float64}, α::Bool, β::Bool) at matmul.jl:498\" role=\"graphics-symbol\" aria-roledescription=\"rect mark\" d=\"M24.64,116.44444444444444h0.14399999999999835v8h-0.14399999999999835Z\" fill=\"#4c78a8\" fill-opacity=\"1\" stroke=\"#505050\" stroke-width=\"0\"/><path aria-label=\"x1: 154; x2: 154.9; level: 32; level2: 32.9; status: Default; sf: _rmul_or_fill! at generic.jl:103 [inlined]\" role=\"graphics-symbol\" aria-roledescription=\"rect mark\" d=\"M24.64,107.55555555555559h0.14399999999999835v7.999999999999957h-0.14399999999999835Z\" fill=\"#4c78a8\" fill-opacity=\"1\" stroke=\"#505050\" stroke-width=\"0\"/><path aria-label=\"x1: 154; x2: 154.9; level: 33; level2: 33.9; status: Default; sf: fill! at array.jl:349 [inlined]\" role=\"graphics-symbol\" aria-roledescription=\"rect mark\" d=\"M24.64,98.66666666666669h0.14399999999999835v8h-0.14399999999999835Z\" fill=\"#4c78a8\" fill-opacity=\"1\" stroke=\"#505050\" stroke-width=\"0\"/><path aria-label=\"x1: 154; x2: 154.9; level: 34; level2: 34.9; status: Default; sf: setindex! at array.jl:969 [inlined]\" role=\"graphics-symbol\" aria-roledescription=\"rect mark\" d=\"M24.64,89.77777777777777h0.14399999999999835v8.000000000000014h-0.14399999999999835Z\" fill=\"#4c78a8\" fill-opacity=\"1\" stroke=\"#505050\" stroke-width=\"0\"/><path aria-label=\"x1: 155; x2: 156.9; level: 26; level2: 26.9; status: Default; sf: predictMVN!(Kxx::Matrix{Float64}, Kff::PDMats.PDMat{Float64, Matrix{Float64}}, Kfx::Matrix{Float64}, mx::Vector{Float64}, αf::Vector{Float64}) at GP.jl:27\" role=\"graphics-symbol\" aria-roledescription=\"rect mark\" d=\"M24.8,160.8888888888889h0.3039999999999985v8h-0.3039999999999985Z\" fill=\"#4c78a8\" fill-opacity=\"1\" stroke=\"#505050\" stroke-width=\"0\"/><path aria-label=\"x1: 155; x2: 156.9; level: 27; level2: 27.9; status: Default; sf: whiten! at generics.jl:32 [inlined]\" role=\"graphics-symbol\" aria-roledescription=\"rect mark\" d=\"M24.8,152h0.3039999999999985v8h-0.3039999999999985Z\" fill=\"#4c78a8\" fill-opacity=\"1\" stroke=\"#505050\" stroke-width=\"0\"/><path aria-label=\"x1: 155; x2: 155.9; level: 28; level2: 28.9; status: Default; sf: whiten!(r::Matrix{Float64}, a::PDMats.PDMat{Float64, Matrix{Float64}}, x::Matrix{Float64}) at pdmat.jl:65\" role=\"graphics-symbol\" aria-roledescription=\"rect mark\" d=\"M24.8,143.11111111111114h0.1440000000000019v7.999999999999972h-0.1440000000000019Z\" fill=\"#4c78a8\" fill-opacity=\"1\" stroke=\"#505050\" stroke-width=\"0\"/><path aria-label=\"x1: 155; x2: 155.9; level: 29; level2: 29.9; status: Default; sf: getproperty(C::LinearAlgebra.Cholesky{Float64, Matrix{Float64}}, d::Symbol) at cholesky.jl:516\" role=\"graphics-symbol\" aria-roledescription=\"rect mark\" d=\"M24.8,134.22222222222223h0.1440000000000019v7.999999999999972h-0.1440000000000019Z\" fill=\"#4c78a8\" fill-opacity=\"1\" stroke=\"#505050\" stroke-width=\"0\"/><path aria-label=\"x1: 156; x2: 156.9; level: 28; level2: 28.9; status: Default; sf: whiten!(r::Matrix{Float64}, a::PDMats.PDMat{Float64, Matrix{Float64}}, x::Matrix{Float64}) at pdmat.jl:67\" role=\"graphics-symbol\" aria-roledescription=\"rect mark\" d=\"M24.959999999999997,143.11111111111114h0.1440000000000019v7.999999999999972h-0.1440000000000019Z\" fill=\"#4c78a8\" fill-opacity=\"1\" stroke=\"#505050\" stroke-width=\"0\"/><path aria-label=\"x1: 156; x2: 156.9; level: 29; level2: 29.9; status: Default; sf: ldiv! at triangular.jl:786 [inlined]\" role=\"graphics-symbol\" aria-roledescription=\"rect mark\" d=\"M24.959999999999997,134.22222222222223h0.1440000000000019v7.999999999999972h-0.1440000000000019Z\" fill=\"#4c78a8\" fill-opacity=\"1\" stroke=\"#505050\" stroke-width=\"0\"/><path aria-label=\"x1: 156; x2: 156.9; level: 30; level2: 30.9; status: Default; sf: trtrs!(uplo::Char, trans::Char, diag::Char, A::Matrix{Float64}, B::Matrix{Float64}) at lapack.jl:3417\" role=\"graphics-symbol\" aria-roledescription=\"rect mark\" d=\"M24.959999999999997,125.33333333333334h0.1440000000000019v8h-0.1440000000000019Z\" fill=\"#4c78a8\" fill-opacity=\"1\" stroke=\"#505050\" stroke-width=\"0\"/><path aria-label=\"x1: 157; x2: 160.9; level: 26; level2: 26.9; status: Default; sf: predictMVN!(Kxx::Matrix{Float64}, Kff::PDMats.PDMat{Float64, Matrix{Float64}}, Kfx::Matrix{Float64}, mx::Vector{Float64}, αf::Vector{Float64}) at GP.jl:28\" role=\"graphics-symbol\" aria-roledescription=\"rect mark\" d=\"M25.119999999999997,160.8888888888889h0.6240000000000023v8h-0.6240000000000023Z\" fill=\"#4c78a8\" fill-opacity=\"1\" stroke=\"#505050\" stroke-width=\"0\"/><path aria-label=\"x1: 157; x2: 160.9; level: 27; level2: 27.9; status: Default; sf: subtract_Lck! at GP.jl:52 [inlined]\" role=\"graphics-symbol\" aria-roledescription=\"rect mark\" d=\"M25.119999999999997,152h0.6240000000000023v8h-0.6240000000000023Z\" fill=\"#4c78a8\" fill-opacity=\"1\" stroke=\"#505050\" stroke-width=\"0\"/><path aria-label=\"x1: 157; x2: 160.9; level: 28; level2: 28.9; status: Default; sf: syrk!(uplo::Char, trans::Char, alpha::Float64, A::Matrix{Float64}, beta::Float64, C::Matrix{Float64}) at blas.jl:1784\" role=\"graphics-symbol\" aria-roledescription=\"rect mark\" d=\"M25.119999999999997,143.11111111111114h0.6240000000000023v7.999999999999972h-0.6240000000000023Z\" fill=\"#4c78a8\" fill-opacity=\"1\" stroke=\"#505050\" stroke-width=\"0\"/><path aria-label=\"x1: 161; x2: 161.9; level: 26; level2: 26.9; status: Default; sf: gemv!(y::Vector{Float64}, tA::Char, A::Matrix{Float64}, x::Vector{Float64}, α::Bool, β::Bool) at matmul.jl:490\" role=\"graphics-symbol\" aria-roledescription=\"rect mark\" d=\"M25.759999999999998,160.8888888888889h0.1440000000000019v8h-0.1440000000000019Z\" fill=\"#4c78a8\" fill-opacity=\"1\" stroke=\"#505050\" stroke-width=\"0\"/><path aria-label=\"x1: 162; x2: 162.9; level: 25; level2: 25.9; status: Default; sf: predictMVN!(Kxx::Matrix{Float64}, Kff::PDMats.PDMat{Float64, Matrix{Float64}}, Kfx::Matrix{Float64}, mx::Vector{Float64}, αf::Vector{Float64}) at GP.jl:25\" role=\"graphics-symbol\" aria-roledescription=\"rect mark\" d=\"M25.919999999999998,169.7777777777778h0.1440000000000019v7.999999999999972h-0.1440000000000019Z\" fill=\"#4c78a8\" fill-opacity=\"1\" stroke=\"#505050\" stroke-width=\"0\"/><path aria-label=\"x1: 163; x2: 163.9; level: 25; level2: 25.9; status: Default; sf: distance!(dist::Matrix{Float64}, m::Distances.Euclidean, X::Matrix{Float64}, Y::Matrix{Float64}) at distance.jl:27\" role=\"graphics-symbol\" aria-roledescription=\"rect mark\" d=\"M26.08,169.7777777777778h0.14400000000000546v7.999999999999972h-0.14400000000000546Z\" fill=\"#4c78a8\" fill-opacity=\"1\" stroke=\"#505050\" stroke-width=\"0\"/><path aria-label=\"x1: 164; x2: 168.9; level: 23; level2: 23.9; status: Default; sf: predict_f(gp::GaussianProcesses.GPE{Matrix{Float64}, Vector{Float64}, GaussianProcesses.MeanZero, GaussianProcesses.Mat12Iso{Float64}, GaussianProcesses.FullCovariance, GaussianProcesses.IsotropicData{Matrix{Float64}}, PDMats.PDMat{Float64, Matrix{Float64}}, GaussianProcesses.Scalar{Float64}}, x::Base.ReshapedArray{Float64, 2, LinearAlgebra.Adjoint{Float64, Vector{Float64}}, Tuple{}}; full_cov::Bool) at GP.jl:75\" role=\"graphics-symbol\" aria-roledescription=\"rect mark\" d=\"M26.240000000000002,187.55555555555557h0.7840000000000025v8h-0.7840000000000025Z\" fill=\"#4c78a8\" fill-opacity=\"1\" stroke=\"#505050\" stroke-width=\"0\"/><path aria-label=\"x1: 164; x2: 164.9; level: 24; level2: 24.9; status: Default; sf: max at math.jl:863 [inlined]\" role=\"graphics-symbol\" aria-roledescription=\"rect mark\" d=\"M26.240000000000002,178.66666666666666h0.14399999999999835v8h-0.14399999999999835Z\" fill=\"#4c78a8\" fill-opacity=\"1\" stroke=\"#505050\" stroke-width=\"0\"/><path aria-label=\"x1: 164; x2: 164.9; level: 25; level2: 25.9; status: Default; sf: signbit at floatfuncs.jl:15 [inlined]\" role=\"graphics-symbol\" aria-roledescription=\"rect mark\" d=\"M26.240000000000002,169.7777777777778h0.14399999999999835v7.999999999999972h-0.14399999999999835Z\" fill=\"#4c78a8\" fill-opacity=\"1\" stroke=\"#505050\" stroke-width=\"0\"/><path aria-label=\"x1: 165; x2: 168.9; level: 24; level2: 24.9; status: Default; sf: diag at dense.jl:249 [inlined]\" role=\"graphics-symbol\" aria-roledescription=\"rect mark\" d=\"M26.400000000000002,178.66666666666666h0.6240000000000023v8h-0.6240000000000023Z\" fill=\"#4c78a8\" fill-opacity=\"1\" stroke=\"#505050\" stroke-width=\"0\"/><path aria-label=\"x1: 165; x2: 167.9; level: 25; level2: 25.9; status: Default; sf: diag(A::Matrix{Float64}, k::Int64) at dense.jl:249\" role=\"graphics-symbol\" aria-roledescription=\"rect mark\" d=\"M26.400000000000002,169.7777777777778h0.4639999999999951v7.999999999999972h-0.4639999999999951Z\" fill=\"#4c78a8\" fill-opacity=\"1\" stroke=\"#505050\" stroke-width=\"0\"/><path aria-label=\"x1: 165; x2: 166.9; level: 26; level2: 26.9; status: Default; sf: getindex at array.jl:944 [inlined]\" role=\"graphics-symbol\" aria-roledescription=\"rect mark\" d=\"M26.400000000000002,160.8888888888889h0.3039999999999985v8h-0.3039999999999985Z\" fill=\"#4c78a8\" fill-opacity=\"1\" stroke=\"#505050\" stroke-width=\"0\"/><path aria-label=\"x1: 165; x2: 166.9; level: 27; level2: 27.9; status: Default; sf: _array_for at array.jl:674 [inlined]\" role=\"graphics-symbol\" aria-roledescription=\"rect mark\" d=\"M26.400000000000002,152h0.3039999999999985v8h-0.3039999999999985Z\" fill=\"#4c78a8\" fill-opacity=\"1\" stroke=\"#505050\" stroke-width=\"0\"/><path aria-label=\"x1: 165; x2: 166.9; level: 28; level2: 28.9; status: Default; sf: _array_for at array.jl:671 [inlined]\" role=\"graphics-symbol\" aria-roledescription=\"rect mark\" d=\"M26.400000000000002,143.11111111111114h0.3039999999999985v7.999999999999972h-0.3039999999999985Z\" fill=\"#4c78a8\" fill-opacity=\"1\" stroke=\"#505050\" stroke-width=\"0\"/><path aria-label=\"x1: 165; x2: 166.9; level: 29; level2: 29.9; status: Default; sf: similar at abstractarray.jl:881 [inlined]\" role=\"graphics-symbol\" aria-roledescription=\"rect mark\" d=\"M26.400000000000002,134.22222222222223h0.3039999999999985v7.999999999999972h-0.3039999999999985Z\" fill=\"#4c78a8\" fill-opacity=\"1\" stroke=\"#505050\" stroke-width=\"0\"/><path aria-label=\"x1: 165; x2: 166.9; level: 30; level2: 30.9; status: Default; sf: similar at abstractarray.jl:882 [inlined]\" role=\"graphics-symbol\" aria-roledescription=\"rect mark\" d=\"M26.400000000000002,125.33333333333334h0.3039999999999985v8h-0.3039999999999985Z\" fill=\"#4c78a8\" fill-opacity=\"1\" stroke=\"#505050\" stroke-width=\"0\"/><path aria-label=\"x1: 165; x2: 166.9; level: 31; level2: 31.9; status: Default; sf: Array at boot.jl:486 [inlined]\" role=\"graphics-symbol\" aria-roledescription=\"rect mark\" d=\"M26.400000000000002,116.44444444444444h0.3039999999999985v8h-0.3039999999999985Z\" fill=\"#4c78a8\" fill-opacity=\"1\" stroke=\"#505050\" stroke-width=\"0\"/><path aria-label=\"x1: 165; x2: 166.9; level: 32; level2: 32.9; status: Default; sf: Array at boot.jl:477 [inlined]\" role=\"graphics-symbol\" aria-roledescription=\"rect mark\" d=\"M26.400000000000002,107.55555555555559h0.3039999999999985v7.999999999999957h-0.3039999999999985Z\" fill=\"#4c78a8\" fill-opacity=\"1\" stroke=\"#505050\" stroke-width=\"0\"/><path aria-label=\"x1: 167; x2: 167.9; level: 26; level2: 26.9; status: Default; sf: diagind at dense.jl:225 [inlined]\" role=\"graphics-symbol\" aria-roledescription=\"rect mark\" d=\"M26.72,160.8888888888889h0.14399999999999835v8h-0.14399999999999835Z\" fill=\"#4c78a8\" fill-opacity=\"1\" stroke=\"#505050\" stroke-width=\"0\"/><path aria-label=\"x1: 167; x2: 167.9; level: 27; level2: 27.9; status: Default; sf: diagind at dense.jl:201 [inlined]\" role=\"graphics-symbol\" aria-roledescription=\"rect mark\" d=\"M26.72,152h0.14399999999999835v8h-0.14399999999999835Z\" fill=\"#4c78a8\" fill-opacity=\"1\" stroke=\"#505050\" stroke-width=\"0\"/><path aria-label=\"x1: 167; x2: 167.9; level: 28; level2: 28.9; status: Default; sf: range at range.jl:142 [inlined]\" role=\"graphics-symbol\" aria-roledescription=\"rect mark\" d=\"M26.72,143.11111111111114h0.14399999999999835v7.999999999999972h-0.14399999999999835Z\" fill=\"#4c78a8\" fill-opacity=\"1\" stroke=\"#505050\" stroke-width=\"0\"/><path aria-label=\"x1: 167; x2: 167.9; level: 29; level2: 29.9; status: Default; sf: #range#70 at range.jl:142 [inlined]\" role=\"graphics-symbol\" aria-roledescription=\"rect mark\" d=\"M26.72,134.22222222222223h0.14399999999999835v7.999999999999972h-0.14399999999999835Z\" fill=\"#4c78a8\" fill-opacity=\"1\" stroke=\"#505050\" stroke-width=\"0\"/><path aria-label=\"x1: 167; x2: 167.9; level: 30; level2: 30.9; status: Default; sf: _range at range.jl:163 [inlined]\" role=\"graphics-symbol\" aria-roledescription=\"rect mark\" d=\"M26.72,125.33333333333334h0.14399999999999835v8h-0.14399999999999835Z\" fill=\"#4c78a8\" fill-opacity=\"1\" stroke=\"#505050\" stroke-width=\"0\"/><path aria-label=\"x1: 167; x2: 167.9; level: 31; level2: 31.9; status: Default; sf: range_start_step_length at range.jl:211 [inlined]\" role=\"graphics-symbol\" aria-roledescription=\"rect mark\" d=\"M26.72,116.44444444444444h0.14399999999999835v8h-0.14399999999999835Z\" fill=\"#4c78a8\" fill-opacity=\"1\" stroke=\"#505050\" stroke-width=\"0\"/><path aria-label=\"x1: 167; x2: 167.9; level: 32; level2: 32.9; status: Default; sf: StepRange at range.jl:320 [inlined]\" role=\"graphics-symbol\" aria-roledescription=\"rect mark\" d=\"M26.72,107.55555555555559h0.14399999999999835v7.999999999999957h-0.14399999999999835Z\" fill=\"#4c78a8\" fill-opacity=\"1\" stroke=\"#505050\" stroke-width=\"0\"/><path aria-label=\"x1: 167; x2: 167.9; level: 33; level2: 33.9; status: Default; sf: steprange_last(start::Int64, step::Int64, stop::Int64) at range.jl:333\" role=\"graphics-symbol\" aria-roledescription=\"rect mark\" d=\"M26.72,98.66666666666669h0.14399999999999835v8h-0.14399999999999835Z\" fill=\"#4c78a8\" fill-opacity=\"1\" stroke=\"#505050\" stroke-width=\"0\"/><path aria-label=\"x1: 167; x2: 167.9; level: 34; level2: 34.9; status: Default; sf: == at promotion.jl:499 [inlined]\" role=\"graphics-symbol\" aria-roledescription=\"rect mark\" d=\"M26.72,89.77777777777777h0.14399999999999835v8.000000000000014h-0.14399999999999835Z\" fill=\"#4c78a8\" fill-opacity=\"1\" stroke=\"#505050\" stroke-width=\"0\"/><path aria-label=\"x1: 168; x2: 168.9; level: 25; level2: 25.9; status: Default; sf: steprange_last(start::Int64, step::Int64, stop::Int64) at range.jl:325\" role=\"graphics-symbol\" aria-roledescription=\"rect mark\" d=\"M26.88,169.7777777777778h0.14400000000000546v7.999999999999972h-0.14400000000000546Z\" fill=\"#4c78a8\" fill-opacity=\"1\" stroke=\"#505050\" stroke-width=\"0\"/><path aria-label=\"x1: 170; x2: 170.9; level: 21; level2: 21.9; status: Default; sf: (::BayesianSafetyValidation.var&quot;#21#23&quot;)(y::Vector{Float64}) at surrogate_model.jl:33\" role=\"graphics-symbol\" aria-roledescription=\"rect mark\" d=\"M27.200000000000003,205.33333333333337h0.14399999999999835v7.999999999999972h-0.14399999999999835Z\" fill=\"#4c78a8\" fill-opacity=\"1\" stroke=\"#505050\" stroke-width=\"0\"/><path aria-label=\"x1: 173; x2: 2695.9; level: 10; level2: 10.9; status: Runtime dispatch; sf: bayesian_safety_validation(sparams::DummyParameters, models::Vector{OperationalParameters}; gp::Nothing, T::Int64, λ::Float64, seed::Int64, initialize_system::Bool, reset_system::Bool, show_acquisition_plots::Bool, show_plots::Bool, show_combined_plot::Bool, show_tight_combined_plot::Bool, hide_model_after_first::Bool, only_plot_last::Bool, latex_labels::Bool, show_alert::Bool, acquisitions_to_run::Vector{Int64}, probability_valued_system::Bool, skip_if_no_failures::Bool, save_plots::Bool, save_plots_svg::Bool, plots_dir::String, samples_per_batch::Int64, single_failure_mode::Bool, refit_every_point::Bool, input_discretization_steps::Int64, p_estimate_discretization_steps::Int64, match_original::Bool, kwargs::Base.Pairs{Symbol, Union{}, Tuple{}, NamedTuple{(), Tuple{}}}) at bayesian_safety_validation.jl:79\" role=\"graphics-symbol\" aria-roledescription=\"rect mark\" d=\"M27.68,303.1111111111111h403.664v8.000000000000057h-403.664Z\" fill=\"#e45756\" fill-opacity=\"1\" stroke=\"#505050\" stroke-width=\"0\"/><path aria-label=\"x1: 173; x2: 2695.9; level: 11; level2: 11.9; status: Default; sf: kwcall(::NamedTuple{(:num_steps, :f), Tuple{Int64, BayesianSafetyValidation.var&quot;#20#22&quot;}}, ::typeof(gp_output), gp::GaussianProcesses.GPE{Matrix{Float64}, Vector{Float64}, GaussianProcesses.MeanZero, GaussianProcesses.Mat12Iso{Float64}, GaussianProcesses.FullCovariance, GaussianProcesses.IsotropicData{Matrix{Float64}}, PDMats.PDMat{Float64, Matrix{Float64}}, GaussianProcesses.Scalar{Float64}}, models::Vector{OperationalParameters}) at surrogate_model.jl:74\" role=\"graphics-symbol\" aria-roledescription=\"rect mark\" d=\"M27.68,294.22222222222223h403.664v8h-403.664Z\" fill=\"#4c78a8\" fill-opacity=\"1\" stroke=\"#505050\" stroke-width=\"0\"/><path aria-label=\"x1: 173; x2: 2695.9; level: 12; level2: 12.9; status: Runtime dispatch; sf: gp_output(gp::GaussianProcesses.GPE{Matrix{Float64}, Vector{Float64}, GaussianProcesses.MeanZero, GaussianProcesses.Mat12Iso{Float64}, GaussianProcesses.FullCovariance, GaussianProcesses.IsotropicData{Matrix{Float64}}, PDMats.PDMat{Float64, Matrix{Float64}}, GaussianProcesses.Scalar{Float64}}, models::Vector{OperationalParameters}; num_steps::Int64, m::Vector{Int64}, f::BayesianSafetyValidation.var&quot;#20#22&quot;) at surrogate_model.jl:80\" role=\"graphics-symbol\" aria-roledescription=\"rect mark\" d=\"M27.68,285.33333333333337h403.664v8h-403.664Z\" fill=\"#e45756\" fill-opacity=\"1\" stroke=\"#505050\" stroke-width=\"0\"/><path aria-label=\"x1: 173; x2: 2694.9; level: 13; level2: 13.9; status: Default; sf: materialize(bc::Base.Broadcast.Broadcasted{Base.Broadcast.DefaultArrayStyle{3}, Nothing, BayesianSafetyValidation.var&quot;#37#38&quot;{BayesianSafetyValidation.var&quot;#20#22&quot;, GaussianProcesses.GPE{Matrix{Float64}, Vector{Float64}, GaussianProcesses.MeanZero, GaussianProcesses.Mat12Iso{Float64}, GaussianProcesses.FullCovariance, GaussianProcesses.IsotropicData{Matrix{Float64}}, PDMats.PDMat{Float64, Matrix{Float64}}, GaussianProcesses.Scalar{Float64}}}, Tuple{Array{Float64, 3}, Array{Float64, 3}, Array{Float64, 3}}}) at broadcast.jl:873\" role=\"graphics-symbol\" aria-roledescription=\"rect mark\" d=\"M27.68,276.44444444444446h403.504v8h-403.504Z\" fill=\"#4c78a8\" fill-opacity=\"1\" stroke=\"#505050\" stroke-width=\"0\"/><path aria-label=\"x1: 173; x2: 2694.9; level: 14; level2: 14.9; status: Default; sf: copy at broadcast.jl:898 [inlined]\" role=\"graphics-symbol\" aria-roledescription=\"rect mark\" d=\"M27.68,267.55555555555554h403.504v8h-403.504Z\" fill=\"#4c78a8\" fill-opacity=\"1\" stroke=\"#505050\" stroke-width=\"0\"/><path aria-label=\"x1: 173; x2: 2683.9; level: 15; level2: 15.9; status: Default; sf: copyto! at broadcast.jl:926 [inlined]\" role=\"graphics-symbol\" aria-roledescription=\"rect mark\" d=\"M27.68,258.6666666666667h401.744v8h-401.744Z\" fill=\"#4c78a8\" fill-opacity=\"1\" stroke=\"#505050\" stroke-width=\"0\"/><path aria-label=\"x1: 173; x2: 2683.9; level: 16; level2: 16.9; status: Default; sf: copyto! at broadcast.jl:973 [inlined]\" role=\"graphics-symbol\" aria-roledescription=\"rect mark\" d=\"M27.68,249.7777777777778h401.744v7.999999999999972h-401.744Z\" fill=\"#4c78a8\" fill-opacity=\"1\" stroke=\"#505050\" stroke-width=\"0\"/><path aria-label=\"x1: 173; x2: 174.9; level: 17; level2: 17.9; status: Default; sf: macro expansion at simdloop.jl:75 [inlined]\" role=\"graphics-symbol\" aria-roledescription=\"rect mark\" d=\"M27.68,240.88888888888889h0.30400000000000205v8h-0.30400000000000205Z\" fill=\"#4c78a8\" fill-opacity=\"1\" stroke=\"#505050\" stroke-width=\"0\"/><path aria-label=\"x1: 173; x2: 174.9; level: 18; level2: 18.9; status: Default; sf: &lt; at int.jl:83 [inlined]\" role=\"graphics-symbol\" aria-roledescription=\"rect mark\" d=\"M27.68,232.00000000000003h0.30400000000000205v7.999999999999972h-0.30400000000000205Z\" fill=\"#4c78a8\" fill-opacity=\"1\" stroke=\"#505050\" stroke-width=\"0\"/><path aria-label=\"x1: 175; x2: 2683.9; level: 17; level2: 17.9; status: Default; sf: macro expansion at simdloop.jl:77 [inlined]\" role=\"graphics-symbol\" aria-roledescription=\"rect mark\" d=\"M28.000000000000004,240.88888888888889h401.42400000000004v8h-401.42400000000004Z\" fill=\"#4c78a8\" fill-opacity=\"1\" stroke=\"#505050\" stroke-width=\"0\"/><path aria-label=\"x1: 175; x2: 2683.9; level: 18; level2: 18.9; status: Default; sf: macro expansion at broadcast.jl:974 [inlined]\" role=\"graphics-symbol\" aria-roledescription=\"rect mark\" d=\"M28.000000000000004,232.00000000000003h401.42400000000004v7.999999999999972h-401.42400000000004Z\" fill=\"#4c78a8\" fill-opacity=\"1\" stroke=\"#505050\" stroke-width=\"0\"/><path aria-label=\"x1: 175; x2: 2683.9; level: 19; level2: 19.9; status: Default; sf: getindex at broadcast.jl:610 [inlined]\" role=\"graphics-symbol\" aria-roledescription=\"rect mark\" d=\"M28.000000000000004,223.11111111111111h401.42400000000004v7.999999999999972h-401.42400000000004Z\" fill=\"#4c78a8\" fill-opacity=\"1\" stroke=\"#505050\" stroke-width=\"0\"/><path aria-label=\"x1: 175; x2: 175.9; level: 20; level2: 20.9; status: Default; sf: _broadcast_getindex at broadcast.jl:655 [inlined]\" role=\"graphics-symbol\" aria-roledescription=\"rect mark\" d=\"M28.000000000000004,214.22222222222223h0.14399999999999835v8h-0.14399999999999835Z\" fill=\"#4c78a8\" fill-opacity=\"1\" stroke=\"#505050\" stroke-width=\"0\"/><path aria-label=\"x1: 175; x2: 175.9; level: 21; level2: 21.9; status: Default; sf: _getindex at broadcast.jl:679 [inlined]\" role=\"graphics-symbol\" aria-roledescription=\"rect mark\" d=\"M28.000000000000004,205.33333333333337h0.14399999999999835v7.999999999999972h-0.14399999999999835Z\" fill=\"#4c78a8\" fill-opacity=\"1\" stroke=\"#505050\" stroke-width=\"0\"/><path aria-label=\"x1: 175; x2: 175.9; level: 22; level2: 22.9; status: Default; sf: _broadcast_getindex at broadcast.jl:649 [inlined]\" role=\"graphics-symbol\" aria-roledescription=\"rect mark\" d=\"M28.000000000000004,196.44444444444446h0.14399999999999835v7.999999999999972h-0.14399999999999835Z\" fill=\"#4c78a8\" fill-opacity=\"1\" stroke=\"#505050\" stroke-width=\"0\"/><path aria-label=\"x1: 175; x2: 175.9; level: 23; level2: 23.9; status: Default; sf: getindex at multidimensional.jl:668 [inlined]\" role=\"graphics-symbol\" aria-roledescription=\"rect mark\" d=\"M28.000000000000004,187.55555555555557h0.14399999999999835v8h-0.14399999999999835Z\" fill=\"#4c78a8\" fill-opacity=\"1\" stroke=\"#505050\" stroke-width=\"0\"/><path aria-label=\"x1: 175; x2: 175.9; level: 24; level2: 24.9; status: Default; sf: getindex at essentials.jl:14 [inlined]\" role=\"graphics-symbol\" aria-roledescription=\"rect mark\" d=\"M28.000000000000004,178.66666666666666h0.14399999999999835v8h-0.14399999999999835Z\" fill=\"#4c78a8\" fill-opacity=\"1\" stroke=\"#505050\" stroke-width=\"0\"/><path aria-label=\"x1: 176; x2: 2683.9; level: 20; level2: 20.9; status: Default; sf: _broadcast_getindex at broadcast.jl:656 [inlined]\" role=\"graphics-symbol\" aria-roledescription=\"rect mark\" d=\"M28.16,214.22222222222223h401.264v8h-401.264Z\" fill=\"#4c78a8\" fill-opacity=\"1\" stroke=\"#505050\" stroke-width=\"0\"/><path aria-label=\"x1: 176; x2: 2683.9; level: 21; level2: 21.9; status: Default; sf: _broadcast_getindex_evalf at broadcast.jl:683 [inlined]\" role=\"graphics-symbol\" aria-roledescription=\"rect mark\" d=\"M28.16,205.33333333333337h401.264v7.999999999999972h-401.264Z\" fill=\"#4c78a8\" fill-opacity=\"1\" stroke=\"#505050\" stroke-width=\"0\"/><path aria-label=\"x1: 176; x2: 2683.9; level: 22; level2: 22.9; status: Default; sf: #37 at surrogate_model.jl:79 [inlined]\" role=\"graphics-symbol\" aria-roledescription=\"rect mark\" d=\"M28.16,196.44444444444446h401.264v7.999999999999972h-401.264Z\" fill=\"#4c78a8\" fill-opacity=\"1\" stroke=\"#505050\" stroke-width=\"0\"/><path aria-label=\"x1: 176; x2: 279.9; level: 23; level2: 23.9; status: Default; sf: vect at array.jl:126 [inlined]\" role=\"graphics-symbol\" aria-roledescription=\"rect mark\" d=\"M28.16,187.55555555555557h16.624v8h-16.624Z\" fill=\"#4c78a8\" fill-opacity=\"1\" stroke=\"#505050\" stroke-width=\"0\"/><path aria-label=\"x1: 176; x2: 279.9; level: 24; level2: 24.9; status: Default; sf: _array_for at array.jl:674 [inlined]\" role=\"graphics-symbol\" aria-roledescription=\"rect mark\" d=\"M28.16,178.66666666666666h16.624v8h-16.624Z\" fill=\"#4c78a8\" fill-opacity=\"1\" stroke=\"#505050\" stroke-width=\"0\"/><path aria-label=\"x1: 176; x2: 279.9; level: 25; level2: 25.9; status: Default; sf: _array_for at array.jl:671 [inlined]\" role=\"graphics-symbol\" aria-roledescription=\"rect mark\" d=\"M28.16,169.7777777777778h16.624v7.999999999999972h-16.624Z\" fill=\"#4c78a8\" fill-opacity=\"1\" stroke=\"#505050\" stroke-width=\"0\"/><path aria-label=\"x1: 176; x2: 279.9; level: 26; level2: 26.9; status: Default; sf: similar at abstractarray.jl:881 [inlined]\" role=\"graphics-symbol\" aria-roledescription=\"rect mark\" d=\"M28.16,160.8888888888889h16.624v8h-16.624Z\" fill=\"#4c78a8\" fill-opacity=\"1\" stroke=\"#505050\" stroke-width=\"0\"/><path aria-label=\"x1: 176; x2: 279.9; level: 27; level2: 27.9; status: Default; sf: similar at abstractarray.jl:882 [inlined]\" role=\"graphics-symbol\" aria-roledescription=\"rect mark\" d=\"M28.16,152h16.624v8h-16.624Z\" fill=\"#4c78a8\" fill-opacity=\"1\" stroke=\"#505050\" stroke-width=\"0\"/><path aria-label=\"x1: 176; x2: 279.9; level: 28; level2: 28.9; status: Default; sf: Array at boot.jl:486 [inlined]\" role=\"graphics-symbol\" aria-roledescription=\"rect mark\" d=\"M28.16,143.11111111111114h16.624v7.999999999999972h-16.624Z\" fill=\"#4c78a8\" fill-opacity=\"1\" stroke=\"#505050\" stroke-width=\"0\"/><path aria-label=\"x1: 176; x2: 279.9; level: 29; level2: 29.9; status: Garbage collection; sf: Array at boot.jl:477 [inlined]\" role=\"graphics-symbol\" aria-roledescription=\"rect mark\" d=\"M28.16,134.22222222222223h16.624v7.999999999999972h-16.624Z\" fill=\"#f58518\" fill-opacity=\"1\" stroke=\"#505050\" stroke-width=\"0\"/><path aria-label=\"x1: 280; x2: 2681.9; level: 23; level2: 23.9; status: Default; sf: (::BayesianSafetyValidation.var&quot;#20#22&quot;)(gp::GaussianProcesses.GPE{Matrix{Float64}, Vector{Float64}, GaussianProcesses.MeanZero, GaussianProcesses.Mat12Iso{Float64}, GaussianProcesses.FullCovariance, GaussianProcesses.IsotropicData{Matrix{Float64}}, PDMats.PDMat{Float64, Matrix{Float64}}, GaussianProcesses.Scalar{Float64}}, x::Vector{Float64}) at surrogate_model.jl:33\" role=\"graphics-symbol\" aria-roledescription=\"rect mark\" d=\"M44.800000000000004,187.55555555555557h384.304v8h-384.304Z\" fill=\"#4c78a8\" fill-opacity=\"1\" stroke=\"#505050\" stroke-width=\"0\"/><path aria-label=\"x1: 280; x2: 490.9; level: 24; level2: 24.9; status: Default; sf: map at tuple.jl:274 [inlined]\" role=\"graphics-symbol\" aria-roledescription=\"rect mark\" d=\"M44.800000000000004,178.66666666666666h33.74399999999999v8h-33.74399999999999Z\" fill=\"#4c78a8\" fill-opacity=\"1\" stroke=\"#505050\" stroke-width=\"0\"/><path aria-label=\"x1: 280; x2: 281.9; level: 25; level2: 25.9; status: Default; sf: exp(x::Float64) at exp.jl:325\" role=\"graphics-symbol\" aria-roledescription=\"rect mark\" d=\"M44.800000000000004,169.7777777777778h0.30399999999998784v7.999999999999972h-0.30399999999998784Z\" fill=\"#4c78a8\" fill-opacity=\"1\" stroke=\"#505050\" stroke-width=\"0\"/><path aria-label=\"x1: 282; x2: 283.9; level: 25; level2: 25.9; status: Default; sf: getindex at tuple.jl:29 [inlined]\" role=\"graphics-symbol\" aria-roledescription=\"rect mark\" d=\"M45.12,169.7777777777778h0.30400000000000205v7.999999999999972h-0.30400000000000205Z\" fill=\"#4c78a8\" fill-opacity=\"1\" stroke=\"#505050\" stroke-width=\"0\"/><path aria-label=\"x1: 284; x2: 490.9; level: 25; level2: 25.9; status: Default; sf: (::BayesianSafetyValidation.var&quot;#21#23&quot;)(y::Vector{Float64}) at surrogate_model.jl:33\" role=\"graphics-symbol\" aria-roledescription=\"rect mark\" d=\"M45.440000000000005,169.7777777777778h33.10399999999999v7.999999999999972h-33.10399999999999Z\" fill=\"#4c78a8\" fill-opacity=\"1\" stroke=\"#505050\" stroke-width=\"0\"/><path aria-label=\"x1: 284; x2: 484.9; level: 26; level2: 26.9; status: Default; sf: materialize at broadcast.jl:873 [inlined]\" role=\"graphics-symbol\" aria-roledescription=\"rect mark\" d=\"M45.440000000000005,160.8888888888889h32.144v8h-32.144Z\" fill=\"#4c78a8\" fill-opacity=\"1\" stroke=\"#505050\" stroke-width=\"0\"/><path aria-label=\"x1: 284; x2: 481.9; level: 27; level2: 27.9; status: Default; sf: copy at broadcast.jl:898 [inlined]\" role=\"graphics-symbol\" aria-roledescription=\"rect mark\" d=\"M45.440000000000005,152h31.663999999999994v8h-31.663999999999994Z\" fill=\"#4c78a8\" fill-opacity=\"1\" stroke=\"#505050\" stroke-width=\"0\"/><path aria-label=\"x1: 284; x2: 322.9; level: 28; level2: 28.9; status: Default; sf: copyto! at broadcast.jl:926 [inlined]\" role=\"graphics-symbol\" aria-roledescription=\"rect mark\" d=\"M45.440000000000005,143.11111111111114h6.223999999999997v7.999999999999972h-6.223999999999997Z\" fill=\"#4c78a8\" fill-opacity=\"1\" stroke=\"#505050\" stroke-width=\"0\"/><path aria-label=\"x1: 284; x2: 322.9; level: 29; level2: 29.9; status: Default; sf: copyto! at broadcast.jl:973 [inlined]\" role=\"graphics-symbol\" aria-roledescription=\"rect mark\" d=\"M45.440000000000005,134.22222222222223h6.223999999999997v7.999999999999972h-6.223999999999997Z\" fill=\"#4c78a8\" fill-opacity=\"1\" stroke=\"#505050\" stroke-width=\"0\"/><path aria-label=\"x1: 284; x2: 284.9; level: 30; level2: 30.9; status: Default; sf: macro expansion at simdloop.jl:0 [inlined]\" role=\"graphics-symbol\" aria-roledescription=\"rect mark\" d=\"M45.440000000000005,125.33333333333334h0.14399999999999125v8h-0.14399999999999125Z\" fill=\"#4c78a8\" fill-opacity=\"1\" stroke=\"#505050\" stroke-width=\"0\"/><path aria-label=\"x1: 285; x2: 320.9; level: 30; level2: 30.9; status: Default; sf: macro expansion at simdloop.jl:77 [inlined]\" role=\"graphics-symbol\" aria-roledescription=\"rect mark\" d=\"M45.6,125.33333333333334h5.744v8h-5.744Z\" fill=\"#4c78a8\" fill-opacity=\"1\" stroke=\"#505050\" stroke-width=\"0\"/><path aria-label=\"x1: 285; x2: 320.9; level: 31; level2: 31.9; status: Default; sf: macro expansion at broadcast.jl:974 [inlined]\" role=\"graphics-symbol\" aria-roledescription=\"rect mark\" d=\"M45.6,116.44444444444444h5.744v8h-5.744Z\" fill=\"#4c78a8\" fill-opacity=\"1\" stroke=\"#505050\" stroke-width=\"0\"/><path aria-label=\"x1: 285; x2: 290.9; level: 32; level2: 32.9; status: Default; sf: setindex! at array.jl:969 [inlined]\" role=\"graphics-symbol\" aria-roledescription=\"rect mark\" d=\"M45.6,107.55555555555559h0.9439999999999955v7.999999999999957h-0.9439999999999955Z\" fill=\"#4c78a8\" fill-opacity=\"1\" stroke=\"#505050\" stroke-width=\"0\"/><path aria-label=\"x1: 291; x2: 320.9; level: 32; level2: 32.9; status: Default; sf: getindex at broadcast.jl:610 [inlined]\" role=\"graphics-symbol\" aria-roledescription=\"rect mark\" d=\"M46.56,107.55555555555559h4.783999999999999v7.999999999999957h-4.783999999999999Z\" fill=\"#4c78a8\" fill-opacity=\"1\" stroke=\"#505050\" stroke-width=\"0\"/><path aria-label=\"x1: 291; x2: 320.9; level: 33; level2: 33.9; status: Default; sf: _broadcast_getindex at broadcast.jl:656 [inlined]\" role=\"graphics-symbol\" aria-roledescription=\"rect mark\" d=\"M46.56,98.66666666666669h4.783999999999999v8h-4.783999999999999Z\" fill=\"#4c78a8\" fill-opacity=\"1\" stroke=\"#505050\" stroke-width=\"0\"/><path aria-label=\"x1: 291; x2: 320.9; level: 34; level2: 34.9; status: Default; sf: _broadcast_getindex_evalf at broadcast.jl:683 [inlined]\" role=\"graphics-symbol\" aria-roledescription=\"rect mark\" d=\"M46.56,89.77777777777777h4.783999999999999v8.000000000000014h-4.783999999999999Z\" fill=\"#4c78a8\" fill-opacity=\"1\" stroke=\"#505050\" stroke-width=\"0\"/><path aria-label=\"x1: 291; x2: 320.9; level: 35; level2: 35.9; status: Default; sf: inverse at surrogate_model.jl:8 [inlined]\" role=\"graphics-symbol\" aria-roledescription=\"rect mark\" d=\"M46.56,80.88888888888891h4.783999999999999v7.999999999999972h-4.783999999999999Z\" fill=\"#4c78a8\" fill-opacity=\"1\" stroke=\"#505050\" stroke-width=\"0\"/><path aria-label=\"x1: 291; x2: 297.9; level: 36; level2: 36.9; status: Default; sf: clamp at math.jl:89 [inlined]\" role=\"graphics-symbol\" aria-roledescription=\"rect mark\" d=\"M46.56,72.00000000000001h1.103999999999992v7.999999999999972h-1.103999999999992Z\" fill=\"#4c78a8\" fill-opacity=\"1\" stroke=\"#505050\" stroke-width=\"0\"/><path aria-label=\"x1: 291; x2: 297.9; level: 37; level2: 37.9; status: Default; sf: ifelse at essentials.jl:575 [inlined]\" role=\"graphics-symbol\" aria-roledescription=\"rect mark\" d=\"M46.56,63.111111111111114h1.103999999999992v8.000000000000014h-1.103999999999992Z\" fill=\"#4c78a8\" fill-opacity=\"1\" stroke=\"#505050\" stroke-width=\"0\"/><path aria-label=\"x1: 298; x2: 309.9; level: 36; level2: 36.9; status: Default; sf: inverse_logit at surrogate_model.jl:2 [inlined]\" role=\"graphics-symbol\" aria-roledescription=\"rect mark\" d=\"M47.68,72.00000000000001h1.9039999999999964v7.999999999999972h-1.9039999999999964Z\" fill=\"#4c78a8\" fill-opacity=\"1\" stroke=\"#505050\" stroke-width=\"0\"/><path aria-label=\"x1: 298; x2: 309.9; level: 37; level2: 37.9; status: Default; sf: #inverse_logit#8 at surrogate_model.jl:2 [inlined]\" role=\"graphics-symbol\" aria-roledescription=\"rect mark\" d=\"M47.68,63.111111111111114h1.9039999999999964v8.000000000000014h-1.9039999999999964Z\" fill=\"#4c78a8\" fill-opacity=\"1\" stroke=\"#505050\" stroke-width=\"0\"/><path aria-label=\"x1: 298; x2: 309.9; level: 38; level2: 38.9; status: Default; sf: exp(x::Float64) at exp.jl:325\" role=\"graphics-symbol\" aria-roledescription=\"rect mark\" d=\"M47.68,54.222222222222214h1.9039999999999964v8.000000000000007h-1.9039999999999964Z\" fill=\"#4c78a8\" fill-opacity=\"1\" stroke=\"#505050\" stroke-width=\"0\"/><path aria-label=\"x1: 298; x2: 299.9; level: 39; level2: 39.9; status: Default; sf: exp_impl at exp.jl:211 [inlined]\" role=\"graphics-symbol\" aria-roledescription=\"rect mark\" d=\"M47.68,45.33333333333336h0.30400000000000205v7.9999999999999645h-0.30400000000000205Z\" fill=\"#4c78a8\" fill-opacity=\"1\" stroke=\"#505050\" stroke-width=\"0\"/><path aria-label=\"x1: 298; x2: 299.9; level: 40; level2: 40.9; status: Default; sf: - at float.jl:409 [inlined]\" role=\"graphics-symbol\" aria-roledescription=\"rect mark\" d=\"M47.68,36.44444444444446h0.30400000000000205v8.000000000000007h-0.30400000000000205Z\" fill=\"#4c78a8\" fill-opacity=\"1\" stroke=\"#505050\" stroke-width=\"0\"/><path aria-label=\"x1: 300; x2: 300.9; level: 39; level2: 39.9; status: Default; sf: exp_impl at exp.jl:214 [inlined]\" role=\"graphics-symbol\" aria-roledescription=\"rect mark\" d=\"M48,45.33333333333336h0.14399999999999835v7.9999999999999645h-0.14399999999999835Z\" fill=\"#4c78a8\" fill-opacity=\"1\" stroke=\"#505050\" stroke-width=\"0\"/><path aria-label=\"x1: 300; x2: 300.9; level: 40; level2: 40.9; status: Default; sf: &gt;&gt; at int.jl:508 [inlined]\" role=\"graphics-symbol\" aria-roledescription=\"rect mark\" d=\"M48,36.44444444444446h0.14399999999999835v8.000000000000007h-0.14399999999999835Z\" fill=\"#4c78a8\" fill-opacity=\"1\" stroke=\"#505050\" stroke-width=\"0\"/><path aria-label=\"x1: 300; x2: 300.9; level: 41; level2: 41.9; status: Default; sf: &gt;&gt; at int.jl:501 [inlined]\" role=\"graphics-symbol\" aria-roledescription=\"rect mark\" d=\"M48,27.555555555555557h0.14399999999999835v8.000000000000007h-0.14399999999999835Z\" fill=\"#4c78a8\" fill-opacity=\"1\" stroke=\"#505050\" stroke-width=\"0\"/><path aria-label=\"x1: 301; x2: 301.9; level: 39; level2: 39.9; status: Default; sf: exp_impl at exp.jl:215 [inlined]\" role=\"graphics-symbol\" aria-roledescription=\"rect mark\" d=\"M48.16,45.33333333333336h0.14399999999999835v7.9999999999999645h-0.14399999999999835Z\" fill=\"#4c78a8\" fill-opacity=\"1\" stroke=\"#505050\" stroke-width=\"0\"/><path aria-label=\"x1: 301; x2: 301.9; level: 40; level2: 40.9; status: Default; sf: table_unpack at exp.jl:182 [inlined]\" role=\"graphics-symbol\" aria-roledescription=\"rect mark\" d=\"M48.16,36.44444444444446h0.14399999999999835v8.000000000000007h-0.14399999999999835Z\" fill=\"#4c78a8\" fill-opacity=\"1\" stroke=\"#505050\" stroke-width=\"0\"/><path aria-label=\"x1: 301; x2: 301.9; level: 41; level2: 41.9; status: Default; sf: &gt;&gt; at int.jl:508 [inlined]\" role=\"graphics-symbol\" aria-roledescription=\"rect mark\" d=\"M48.16,27.555555555555557h0.14399999999999835v8.000000000000007h-0.14399999999999835Z\" fill=\"#4c78a8\" fill-opacity=\"1\" stroke=\"#505050\" stroke-width=\"0\"/><path aria-label=\"x1: 301; x2: 301.9; level: 42; level2: 42.9; status: Default; sf: &gt;&gt; at int.jl:502 [inlined]\" role=\"graphics-symbol\" aria-roledescription=\"rect mark\" d=\"M48.16,18.6666666666667h0.14399999999999835v7.999999999999961h-0.14399999999999835Z\" fill=\"#4c78a8\" fill-opacity=\"1\" stroke=\"#505050\" stroke-width=\"0\"/><path aria-label=\"x1: 302; x2: 307.9; level: 39; level2: 39.9; status: Default; sf: exp_impl at exp.jl:216 [inlined]\" role=\"graphics-symbol\" aria-roledescription=\"rect mark\" d=\"M48.32,45.33333333333336h0.9439999999999955v7.9999999999999645h-0.9439999999999955Z\" fill=\"#4c78a8\" fill-opacity=\"1\" stroke=\"#505050\" stroke-width=\"0\"/><path aria-label=\"x1: 302; x2: 303.9; level: 40; level2: 40.9; status: Default; sf: + at float.jl:408 [inlined]\" role=\"graphics-symbol\" aria-roledescription=\"rect mark\" d=\"M48.32,36.44444444444446h0.30399999999999494v8.000000000000007h-0.30399999999999494Z\" fill=\"#4c78a8\" fill-opacity=\"1\" stroke=\"#505050\" stroke-width=\"0\"/><path aria-label=\"x1: 304; x2: 307.9; level: 40; level2: 40.9; status: Default; sf: muladd at float.jl:413 [inlined]\" role=\"graphics-symbol\" aria-roledescription=\"rect mark\" d=\"M48.64,36.44444444444446h0.6239999999999952v8.000000000000007h-0.6239999999999952Z\" fill=\"#4c78a8\" fill-opacity=\"1\" stroke=\"#505050\" stroke-width=\"0\"/><path aria-label=\"x1: 308; x2: 309.9; level: 39; level2: 39.9; status: Default; sf: exp_impl at exp.jl:218 [inlined]\" role=\"graphics-symbol\" aria-roledescription=\"rect mark\" d=\"M49.28,45.33333333333336h0.30399999999999494v7.9999999999999645h-0.30399999999999494Z\" fill=\"#4c78a8\" fill-opacity=\"1\" stroke=\"#505050\" stroke-width=\"0\"/><path aria-label=\"x1: 308; x2: 309.9; level: 40; level2: 40.9; status: Default; sf: abs at float.jl:609 [inlined]\" role=\"graphics-symbol\" aria-roledescription=\"rect mark\" d=\"M49.28,36.44444444444446h0.30399999999999494v8.000000000000007h-0.30399999999999494Z\" fill=\"#4c78a8\" fill-opacity=\"1\" stroke=\"#505050\" stroke-width=\"0\"/><path aria-label=\"x1: 310; x2: 320.9; level: 36; level2: 36.9; status: Default; sf: inverse_transform at surrogate_model.jl:5 [inlined]\" role=\"graphics-symbol\" aria-roledescription=\"rect mark\" d=\"M49.6,72.00000000000001h1.7439999999999998v7.999999999999972h-1.7439999999999998Z\" fill=\"#4c78a8\" fill-opacity=\"1\" stroke=\"#505050\" stroke-width=\"0\"/><path aria-label=\"x1: 310; x2: 320.9; level: 37; level2: 37.9; status: Default; sf: #inverse_transform#10 at surrogate_model.jl:5 [inlined]\" role=\"graphics-symbol\" aria-roledescription=\"rect mark\" d=\"M49.6,63.111111111111114h1.7439999999999998v8.000000000000014h-1.7439999999999998Z\" fill=\"#4c78a8\" fill-opacity=\"1\" stroke=\"#505050\" stroke-width=\"0\"/><path aria-label=\"x1: 310; x2: 314.9; level: 38; level2: 38.9; status: Default; sf: - at float.jl:409 [inlined]\" role=\"graphics-symbol\" aria-roledescription=\"rect mark\" d=\"M49.6,54.222222222222214h0.7839999999999918v8.000000000000007h-0.7839999999999918Z\" fill=\"#4c78a8\" fill-opacity=\"1\" stroke=\"#505050\" stroke-width=\"0\"/><path aria-label=\"x1: 315; x2: 320.9; level: 38; level2: 38.9; status: Default; sf: / at float.jl:411 [inlined]\" role=\"graphics-symbol\" aria-roledescription=\"rect mark\" d=\"M50.4,54.222222222222214h0.9440000000000026v8.000000000000007h-0.9440000000000026Z\" fill=\"#4c78a8\" fill-opacity=\"1\" stroke=\"#505050\" stroke-width=\"0\"/><path aria-label=\"x1: 321; x2: 322.9; level: 30; level2: 30.9; status: Default; sf: macro expansion at simdloop.jl:78 [inlined]\" role=\"graphics-symbol\" aria-roledescription=\"rect mark\" d=\"M51.35999999999999,125.33333333333334h0.30400000000000915v8h-0.30400000000000915Z\" fill=\"#4c78a8\" fill-opacity=\"1\" stroke=\"#505050\" stroke-width=\"0\"/><path aria-label=\"x1: 321; x2: 322.9; level: 31; level2: 31.9; status: Default; sf: + at int.jl:87 [inlined]\" role=\"graphics-symbol\" aria-roledescription=\"rect mark\" d=\"M51.35999999999999,116.44444444444444h0.30400000000000915v8h-0.30400000000000915Z\" fill=\"#4c78a8\" fill-opacity=\"1\" stroke=\"#505050\" stroke-width=\"0\"/><path aria-label=\"x1: 323; x2: 481.9; level: 28; level2: 28.9; status: Default; sf: similar at broadcast.jl:211 [inlined]\" role=\"graphics-symbol\" aria-roledescription=\"rect mark\" d=\"M51.68000000000001,143.11111111111114h25.423999999999992v7.999999999999972h-25.423999999999992Z\" fill=\"#4c78a8\" fill-opacity=\"1\" stroke=\"#505050\" stroke-width=\"0\"/><path aria-label=\"x1: 323; x2: 481.9; level: 29; level2: 29.9; status: Default; sf: similar at broadcast.jl:212 [inlined]\" role=\"graphics-symbol\" aria-roledescription=\"rect mark\" d=\"M51.68000000000001,134.22222222222223h25.423999999999992v7.999999999999972h-25.423999999999992Z\" fill=\"#4c78a8\" fill-opacity=\"1\" stroke=\"#505050\" stroke-width=\"0\"/><path aria-label=\"x1: 323; x2: 481.9; level: 30; level2: 30.9; status: Default; sf: similar at abstractarray.jl:881 [inlined]\" role=\"graphics-symbol\" aria-roledescription=\"rect mark\" d=\"M51.68000000000001,125.33333333333334h25.423999999999992v8h-25.423999999999992Z\" fill=\"#4c78a8\" fill-opacity=\"1\" stroke=\"#505050\" stroke-width=\"0\"/><path aria-label=\"x1: 323; x2: 481.9; level: 31; level2: 31.9; status: Default; sf: similar at abstractarray.jl:882 [inlined]\" role=\"graphics-symbol\" aria-roledescription=\"rect mark\" d=\"M51.68000000000001,116.44444444444444h25.423999999999992v8h-25.423999999999992Z\" fill=\"#4c78a8\" fill-opacity=\"1\" stroke=\"#505050\" stroke-width=\"0\"/><path aria-label=\"x1: 323; x2: 481.9; level: 32; level2: 32.9; status: Default; sf: Array at boot.jl:494 [inlined]\" role=\"graphics-symbol\" aria-roledescription=\"rect mark\" d=\"M51.68000000000001,107.55555555555559h25.423999999999992v7.999999999999957h-25.423999999999992Z\" fill=\"#4c78a8\" fill-opacity=\"1\" stroke=\"#505050\" stroke-width=\"0\"/><path aria-label=\"x1: 323; x2: 481.9; level: 33; level2: 33.9; status: Default; sf: Array at boot.jl:486 [inlined]\" role=\"graphics-symbol\" aria-roledescription=\"rect mark\" d=\"M51.68000000000001,98.66666666666669h25.423999999999992v8h-25.423999999999992Z\" fill=\"#4c78a8\" fill-opacity=\"1\" stroke=\"#505050\" stroke-width=\"0\"/><path aria-label=\"x1: 323; x2: 481.9; level: 34; level2: 34.9; status: Garbage collection; sf: Array at boot.jl:477 [inlined]\" role=\"graphics-symbol\" aria-roledescription=\"rect mark\" d=\"M51.68000000000001,89.77777777777777h25.423999999999992v8.000000000000014h-25.423999999999992Z\" fill=\"#f58518\" fill-opacity=\"1\" stroke=\"#505050\" stroke-width=\"0\"/><path aria-label=\"x1: 482; x2: 484.9; level: 27; level2: 27.9; status: Default; sf: instantiate at broadcast.jl:294 [inlined]\" role=\"graphics-symbol\" aria-roledescription=\"rect mark\" d=\"M77.12,152h0.46399999999999864v8h-0.46399999999999864Z\" fill=\"#4c78a8\" fill-opacity=\"1\" stroke=\"#505050\" stroke-width=\"0\"/><path aria-label=\"x1: 482; x2: 484.9; level: 28; level2: 28.9; status: Default; sf: combine_axes at broadcast.jl:513 [inlined]\" role=\"graphics-symbol\" aria-roledescription=\"rect mark\" d=\"M77.12,143.11111111111114h0.46399999999999864v7.999999999999972h-0.46399999999999864Z\" fill=\"#4c78a8\" fill-opacity=\"1\" stroke=\"#505050\" stroke-width=\"0\"/><path aria-label=\"x1: 482; x2: 484.9; level: 29; level2: 29.9; status: Default; sf: axes at abstractarray.jl:98 [inlined]\" role=\"graphics-symbol\" aria-roledescription=\"rect mark\" d=\"M77.12,134.22222222222223h0.46399999999999864v7.999999999999972h-0.46399999999999864Z\" fill=\"#4c78a8\" fill-opacity=\"1\" stroke=\"#505050\" stroke-width=\"0\"/><path aria-label=\"x1: 482; x2: 484.9; level: 30; level2: 30.9; status: Default; sf: size at array.jl:149 [inlined]\" role=\"graphics-symbol\" aria-roledescription=\"rect mark\" d=\"M77.12,125.33333333333334h0.46399999999999864v8h-0.46399999999999864Z\" fill=\"#4c78a8\" fill-opacity=\"1\" stroke=\"#505050\" stroke-width=\"0\"/><path aria-label=\"x1: 491; x2: 2678.9; level: 24; level2: 24.9; status: Default; sf: predict_f at GP.jl:64 [inlined]\" role=\"graphics-symbol\" aria-roledescription=\"rect mark\" d=\"M78.56,178.66666666666666h350.064v8h-350.064Z\" fill=\"#4c78a8\" fill-opacity=\"1\" stroke=\"#505050\" stroke-width=\"0\"/><path aria-label=\"x1: 491; x2: 491.9; level: 25; level2: 25.9; status: Default; sf: _unsafe_getindex(::IndexLinear, ::Base.ReshapedArray{Float64, 2, LinearAlgebra.Adjoint{Float64, Vector{Float64}}, Tuple{}}, ::Base.Slice{Base.OneTo{Int64}}, ::UnitRange{Int64}) at multidimensional.jl:870\" role=\"graphics-symbol\" aria-roledescription=\"rect mark\" d=\"M78.56,169.7777777777778h0.14399999999999125v7.999999999999972h-0.14399999999999125Z\" fill=\"#4c78a8\" fill-opacity=\"1\" stroke=\"#505050\" stroke-width=\"0\"/><path aria-label=\"x1: 492; x2: 492.9; level: 25; level2: 25.9; status: Default; sf: predict_f(gp::GaussianProcesses.GPE{Matrix{Float64}, Vector{Float64}, GaussianProcesses.MeanZero, GaussianProcesses.Mat12Iso{Float64}, GaussianProcesses.FullCovariance, GaussianProcesses.IsotropicData{Matrix{Float64}}, PDMats.PDMat{Float64, Matrix{Float64}}, GaussianProcesses.Scalar{Float64}}, x::Base.ReshapedArray{Float64, 2, LinearAlgebra.Adjoint{Float64, Vector{Float64}}, Tuple{}}; full_cov::Bool) at GP.jl:0\" role=\"graphics-symbol\" aria-roledescription=\"rect mark\" d=\"M78.72,169.7777777777778h0.14400000000000546v7.999999999999972h-0.14400000000000546Z\" fill=\"#4c78a8\" fill-opacity=\"1\" stroke=\"#505050\" stroke-width=\"0\"/><path aria-label=\"x1: 493; x2: 711.9; level: 25; level2: 25.9; status: Default; sf: predict_f(gp::GaussianProcesses.GPE{Matrix{Float64}, Vector{Float64}, GaussianProcesses.MeanZero, GaussianProcesses.Mat12Iso{Float64}, GaussianProcesses.FullCovariance, GaussianProcesses.IsotropicData{Matrix{Float64}}, PDMats.PDMat{Float64, Matrix{Float64}}, GaussianProcesses.Scalar{Float64}}, x::Base.ReshapedArray{Float64, 2, LinearAlgebra.Adjoint{Float64, Vector{Float64}}, Tuple{}}; full_cov::Bool) at GP.jl:70\" role=\"graphics-symbol\" aria-roledescription=\"rect mark\" d=\"M78.88,169.7777777777778h35.024000000000015v7.999999999999972h-35.024000000000015Z\" fill=\"#4c78a8\" fill-opacity=\"1\" stroke=\"#505050\" stroke-width=\"0\"/><path aria-label=\"x1: 493; x2: 711.9; level: 26; level2: 26.9; status: Default; sf: Array at boot.jl:491 [inlined]\" role=\"graphics-symbol\" aria-roledescription=\"rect mark\" d=\"M78.88,160.8888888888889h35.024000000000015v8h-35.024000000000015Z\" fill=\"#4c78a8\" fill-opacity=\"1\" stroke=\"#505050\" stroke-width=\"0\"/><path aria-label=\"x1: 493; x2: 711.9; level: 27; level2: 27.9; status: Garbage collection; sf: Array at boot.jl:477 [inlined]\" role=\"graphics-symbol\" aria-roledescription=\"rect mark\" d=\"M78.88,152h35.024000000000015v8h-35.024000000000015Z\" fill=\"#f58518\" fill-opacity=\"1\" stroke=\"#505050\" stroke-width=\"0\"/><path aria-label=\"x1: 712; x2: 746.9; level: 25; level2: 25.9; status: Default; sf: predict_f(gp::GaussianProcesses.GPE{Matrix{Float64}, Vector{Float64}, GaussianProcesses.MeanZero, GaussianProcesses.Mat12Iso{Float64}, GaussianProcesses.FullCovariance, GaussianProcesses.IsotropicData{Matrix{Float64}}, PDMats.PDMat{Float64, Matrix{Float64}}, GaussianProcesses.Scalar{Float64}}, x::Base.ReshapedArray{Float64, 2, LinearAlgebra.Adjoint{Float64, Vector{Float64}}, Tuple{}}; full_cov::Bool) at GP.jl:71\" role=\"graphics-symbol\" aria-roledescription=\"rect mark\" d=\"M113.92,169.7777777777778h5.583999999999989v7.999999999999972h-5.583999999999989Z\" fill=\"#4c78a8\" fill-opacity=\"1\" stroke=\"#505050\" stroke-width=\"0\"/><path aria-label=\"x1: 712; x2: 746.9; level: 26; level2: 26.9; status: Default; sf: similar at array.jl:369 [inlined]\" role=\"graphics-symbol\" aria-roledescription=\"rect mark\" d=\"M113.92,160.8888888888889h5.583999999999989v8h-5.583999999999989Z\" fill=\"#4c78a8\" fill-opacity=\"1\" stroke=\"#505050\" stroke-width=\"0\"/><path aria-label=\"x1: 712; x2: 746.9; level: 27; level2: 27.9; status: Garbage collection; sf: Array at boot.jl:477 [inlined]\" role=\"graphics-symbol\" aria-roledescription=\"rect mark\" d=\"M113.92,152h5.583999999999989v8h-5.583999999999989Z\" fill=\"#f58518\" fill-opacity=\"1\" stroke=\"#505050\" stroke-width=\"0\"/><path aria-label=\"x1: 747; x2: 747.9; level: 25; level2: 25.9; status: Default; sf: predict_f(gp::GaussianProcesses.GPE{Matrix{Float64}, Vector{Float64}, GaussianProcesses.MeanZero, GaussianProcesses.Mat12Iso{Float64}, GaussianProcesses.FullCovariance, GaussianProcesses.IsotropicData{Matrix{Float64}}, PDMats.PDMat{Float64, Matrix{Float64}}, GaussianProcesses.Scalar{Float64}}, x::Base.ReshapedArray{Float64, 2, LinearAlgebra.Adjoint{Float64, Vector{Float64}}, Tuple{}}; full_cov::Bool) at GP.jl:72\" role=\"graphics-symbol\" aria-roledescription=\"rect mark\" d=\"M119.52000000000001,169.7777777777778h0.14399999999997704v7.999999999999972h-0.14399999999997704Z\" fill=\"#4c78a8\" fill-opacity=\"1\" stroke=\"#505050\" stroke-width=\"0\"/><path aria-label=\"x1: 747; x2: 747.9; level: 26; level2: 26.9; status: Default; sf: Colon at range.jl:5 [inlined]\" role=\"graphics-symbol\" aria-roledescription=\"rect mark\" d=\"M119.52000000000001,160.8888888888889h0.14399999999997704v8h-0.14399999999997704Z\" fill=\"#4c78a8\" fill-opacity=\"1\" stroke=\"#505050\" stroke-width=\"0\"/><path aria-label=\"x1: 747; x2: 747.9; level: 27; level2: 27.9; status: Default; sf: UnitRange at range.jl:397 [inlined]\" role=\"graphics-symbol\" aria-roledescription=\"rect mark\" d=\"M119.52000000000001,152h0.14399999999997704v8h-0.14399999999997704Z\" fill=\"#4c78a8\" fill-opacity=\"1\" stroke=\"#505050\" stroke-width=\"0\"/><path aria-label=\"x1: 747; x2: 747.9; level: 28; level2: 28.9; status: Default; sf: unitrange_last at range.jl:404 [inlined]\" role=\"graphics-symbol\" aria-roledescription=\"rect mark\" d=\"M119.52000000000001,143.11111111111114h0.14399999999997704v7.999999999999972h-0.14399999999997704Z\" fill=\"#4c78a8\" fill-opacity=\"1\" stroke=\"#505050\" stroke-width=\"0\"/><path aria-label=\"x1: 748; x2: 2383.9; level: 25; level2: 25.9; status: Default; sf: predict_f(gp::GaussianProcesses.GPE{Matrix{Float64}, Vector{Float64}, GaussianProcesses.MeanZero, GaussianProcesses.Mat12Iso{Float64}, GaussianProcesses.FullCovariance, GaussianProcesses.IsotropicData{Matrix{Float64}}, PDMats.PDMat{Float64, Matrix{Float64}}, GaussianProcesses.Scalar{Float64}}, x::Base.ReshapedArray{Float64, 2, LinearAlgebra.Adjoint{Float64, Vector{Float64}}, Tuple{}}; full_cov::Bool) at GP.jl:73\" role=\"graphics-symbol\" aria-roledescription=\"rect mark\" d=\"M119.68,169.7777777777778h261.744v7.999999999999972h-261.744Z\" fill=\"#4c78a8\" fill-opacity=\"1\" stroke=\"#505050\" stroke-width=\"0\"/><path aria-label=\"x1: 748; x2: 871.9; level: 26; level2: 26.9; status: Default; sf: getindex at abstractarray.jl:1294 [inlined]\" role=\"graphics-symbol\" aria-roledescription=\"rect mark\" d=\"M119.68,160.8888888888889h19.824000000000012v8h-19.824000000000012Z\" fill=\"#4c78a8\" fill-opacity=\"1\" stroke=\"#505050\" stroke-width=\"0\"/><path aria-label=\"x1: 748; x2: 748.9; level: 27; level2: 27.9; status: Default; sf: _getindex at multidimensional.jl:860 [inlined]\" role=\"graphics-symbol\" aria-roledescription=\"rect mark\" d=\"M119.68,152h0.14399999999999125v8h-0.14399999999999125Z\" fill=\"#4c78a8\" fill-opacity=\"1\" stroke=\"#505050\" stroke-width=\"0\"/><path aria-label=\"x1: 748; x2: 748.9; level: 28; level2: 28.9; status: Default; sf: checkbounds at abstractarray.jl:709 [inlined]\" role=\"graphics-symbol\" aria-roledescription=\"rect mark\" d=\"M119.68,143.11111111111114h0.14399999999999125v7.999999999999972h-0.14399999999999125Z\" fill=\"#4c78a8\" fill-opacity=\"1\" stroke=\"#505050\" stroke-width=\"0\"/><path aria-label=\"x1: 749; x2: 871.9; level: 27; level2: 27.9; status: Default; sf: _getindex at multidimensional.jl:861 [inlined]\" role=\"graphics-symbol\" aria-roledescription=\"rect mark\" d=\"M119.83999999999999,152h19.66400000000003v8h-19.66400000000003Z\" fill=\"#4c78a8\" fill-opacity=\"1\" stroke=\"#505050\" stroke-width=\"0\"/><path aria-label=\"x1: 749; x2: 749.9; level: 28; level2: 28.9; status: Default; sf: _unsafe_getindex(::IndexLinear, ::Base.ReshapedArray{Float64, 2, LinearAlgebra.Adjoint{Float64, Vector{Float64}}, Tuple{}}, ::Base.Slice{Base.OneTo{Int64}}, ::UnitRange{Int64}) at multidimensional.jl:870\" role=\"graphics-symbol\" aria-roledescription=\"rect mark\" d=\"M119.83999999999999,143.11111111111114h0.14400000000001967v7.999999999999972h-0.14400000000001967Z\" fill=\"#4c78a8\" fill-opacity=\"1\" stroke=\"#505050\" stroke-width=\"0\"/><path aria-label=\"x1: 750; x2: 751.9; level: 28; level2: 28.9; status: Default; sf: _unsafe_getindex(::IndexLinear, ::Base.ReshapedArray{Float64, 2, LinearAlgebra.Adjoint{Float64, Vector{Float64}}, Tuple{}}, ::Base.Slice{Base.OneTo{Int64}}, ::UnitRange{Int64}) at multidimensional.jl:872\" role=\"graphics-symbol\" aria-roledescription=\"rect mark\" d=\"M120,143.11111111111114h0.30399999999998784v7.999999999999972h-0.30399999999998784Z\" fill=\"#4c78a8\" fill-opacity=\"1\" stroke=\"#505050\" stroke-width=\"0\"/><path aria-label=\"x1: 750; x2: 751.9; level: 29; level2: 29.9; status: Default; sf: index_shape at multidimensional.jl:744 [inlined]\" role=\"graphics-symbol\" aria-roledescription=\"rect mark\" d=\"M120,134.22222222222223h0.30399999999998784v7.999999999999972h-0.30399999999998784Z\" fill=\"#4c78a8\" fill-opacity=\"1\" stroke=\"#505050\" stroke-width=\"0\"/><path aria-label=\"x1: 750; x2: 751.9; level: 30; level2: 30.9; status: Default; sf: index_shape at multidimensional.jl:744 [inlined]\" role=\"graphics-symbol\" aria-roledescription=\"rect mark\" d=\"M120,125.33333333333334h0.30399999999998784v8h-0.30399999999998784Z\" fill=\"#4c78a8\" fill-opacity=\"1\" stroke=\"#505050\" stroke-width=\"0\"/><path aria-label=\"x1: 750; x2: 751.9; level: 31; level2: 31.9; status: Default; sf: axes at range.jl:696 [inlined]\" role=\"graphics-symbol\" aria-roledescription=\"rect mark\" d=\"M120,116.44444444444444h0.30399999999998784v8h-0.30399999999998784Z\" fill=\"#4c78a8\" fill-opacity=\"1\" stroke=\"#505050\" stroke-width=\"0\"/><path aria-label=\"x1: 750; x2: 750.9; level: 32; level2: 32.9; status: Default; sf: length at range.jl:751 [inlined]\" role=\"graphics-symbol\" aria-roledescription=\"rect mark\" d=\"M120,107.55555555555559h0.14400000000000546v7.999999999999957h-0.14400000000000546Z\" fill=\"#4c78a8\" fill-opacity=\"1\" stroke=\"#505050\" stroke-width=\"0\"/><path aria-label=\"x1: 750; x2: 750.9; level: 33; level2: 33.9; status: Default; sf: - at int.jl:86 [inlined]\" role=\"graphics-symbol\" aria-roledescription=\"rect mark\" d=\"M120,98.66666666666669h0.14400000000000546v8h-0.14400000000000546Z\" fill=\"#4c78a8\" fill-opacity=\"1\" stroke=\"#505050\" stroke-width=\"0\"/><path aria-label=\"x1: 751; x2: 751.9; level: 32; level2: 32.9; status: Default; sf: oneto at range.jl:459 [inlined]\" role=\"graphics-symbol\" aria-roledescription=\"rect mark\" d=\"M120.16,107.55555555555559h0.14399999999999125v7.999999999999957h-0.14399999999999125Z\" fill=\"#4c78a8\" fill-opacity=\"1\" stroke=\"#505050\" stroke-width=\"0\"/><path aria-label=\"x1: 751; x2: 751.9; level: 33; level2: 33.9; status: Default; sf: OneTo at range.jl:457 [inlined]\" role=\"graphics-symbol\" aria-roledescription=\"rect mark\" d=\"M120.16,98.66666666666669h0.14399999999999125v8h-0.14399999999999125Z\" fill=\"#4c78a8\" fill-opacity=\"1\" stroke=\"#505050\" stroke-width=\"0\"/><path aria-label=\"x1: 751; x2: 751.9; level: 34; level2: 34.9; status: Default; sf: OneTo at range.jl:444 [inlined]\" role=\"graphics-symbol\" aria-roledescription=\"rect mark\" d=\"M120.16,89.77777777777777h0.14399999999999125v8.000000000000014h-0.14399999999999125Z\" fill=\"#4c78a8\" fill-opacity=\"1\" stroke=\"#505050\" stroke-width=\"0\"/><path aria-label=\"x1: 751; x2: 751.9; level: 35; level2: 35.9; status: Default; sf: max at promotion.jl:510 [inlined]\" role=\"graphics-symbol\" aria-roledescription=\"rect mark\" d=\"M120.16,80.88888888888891h0.14399999999999125v7.999999999999972h-0.14399999999999125Z\" fill=\"#4c78a8\" fill-opacity=\"1\" stroke=\"#505050\" stroke-width=\"0\"/><path aria-label=\"x1: 751; x2: 751.9; level: 36; level2: 36.9; status: Default; sf: ifelse at essentials.jl:575 [inlined]\" role=\"graphics-symbol\" aria-roledescription=\"rect mark\" d=\"M120.16,72.00000000000001h0.14399999999999125v7.999999999999972h-0.14399999999999125Z\" fill=\"#4c78a8\" fill-opacity=\"1\" stroke=\"#505050\" stroke-width=\"0\"/><path aria-label=\"x1: 752; x2: 865.9; level: 28; level2: 28.9; status: Default; sf: _unsafe_getindex(::IndexLinear, ::Base.ReshapedArray{Float64, 2, LinearAlgebra.Adjoint{Float64, Vector{Float64}}, Tuple{}}, ::Base.Slice{Base.OneTo{Int64}}, ::UnitRange{Int64}) at multidimensional.jl:873\" role=\"graphics-symbol\" aria-roledescription=\"rect mark\" d=\"M120.32000000000001,143.11111111111114h18.224000000000004v7.999999999999972h-18.224000000000004Z\" fill=\"#4c78a8\" fill-opacity=\"1\" stroke=\"#505050\" stroke-width=\"0\"/><path aria-label=\"x1: 752; x2: 865.9; level: 29; level2: 29.9; status: Default; sf: similar at abstractarray.jl:836 [inlined]\" role=\"graphics-symbol\" aria-roledescription=\"rect mark\" d=\"M120.32000000000001,134.22222222222223h18.224000000000004v7.999999999999972h-18.224000000000004Z\" fill=\"#4c78a8\" fill-opacity=\"1\" stroke=\"#505050\" stroke-width=\"0\"/><path aria-label=\"x1: 752; x2: 865.9; level: 30; level2: 30.9; status: Default; sf: similar at reshapedarray.jl:209 [inlined]\" role=\"graphics-symbol\" aria-roledescription=\"rect mark\" d=\"M120.32000000000001,125.33333333333334h18.224000000000004v8h-18.224000000000004Z\" fill=\"#4c78a8\" fill-opacity=\"1\" stroke=\"#505050\" stroke-width=\"0\"/><path aria-label=\"x1: 752; x2: 865.9; level: 31; level2: 31.9; status: Default; sf: similar at adjtrans.jl:335 [inlined]\" role=\"graphics-symbol\" aria-roledescription=\"rect mark\" d=\"M120.32000000000001,116.44444444444444h18.224000000000004v8h-18.224000000000004Z\" fill=\"#4c78a8\" fill-opacity=\"1\" stroke=\"#505050\" stroke-width=\"0\"/><path aria-label=\"x1: 752; x2: 865.9; level: 32; level2: 32.9; status: Default; sf: similar at array.jl:374 [inlined]\" role=\"graphics-symbol\" aria-roledescription=\"rect mark\" d=\"M120.32000000000001,107.55555555555559h18.224000000000004v7.999999999999957h-18.224000000000004Z\" fill=\"#4c78a8\" fill-opacity=\"1\" stroke=\"#505050\" stroke-width=\"0\"/><path aria-label=\"x1: 752; x2: 865.9; level: 33; level2: 33.9; status: Default; sf: Array at boot.jl:487 [inlined]\" role=\"graphics-symbol\" aria-roledescription=\"rect mark\" d=\"M120.32000000000001,98.66666666666669h18.224000000000004v8h-18.224000000000004Z\" fill=\"#4c78a8\" fill-opacity=\"1\" stroke=\"#505050\" stroke-width=\"0\"/><path aria-label=\"x1: 752; x2: 865.9; level: 34; level2: 34.9; status: Garbage collection; sf: Array at boot.jl:479 [inlined]\" role=\"graphics-symbol\" aria-roledescription=\"rect mark\" d=\"M120.32000000000001,89.77777777777777h18.224000000000004v8.000000000000014h-18.224000000000004Z\" fill=\"#f58518\" fill-opacity=\"1\" stroke=\"#505050\" stroke-width=\"0\"/><path aria-label=\"x1: 866; x2: 869.9; level: 28; level2: 28.9; status: Default; sf: _unsafe_getindex(::IndexLinear, ::Base.ReshapedArray{Float64, 2, LinearAlgebra.Adjoint{Float64, Vector{Float64}}, Tuple{}}, ::Base.Slice{Base.OneTo{Int64}}, ::UnitRange{Int64}) at multidimensional.jl:875\" role=\"graphics-symbol\" aria-roledescription=\"rect mark\" d=\"M138.56,143.11111111111114h0.6239999999999952v7.999999999999972h-0.6239999999999952Z\" fill=\"#4c78a8\" fill-opacity=\"1\" stroke=\"#505050\" stroke-width=\"0\"/><path aria-label=\"x1: 866; x2: 869.9; level: 29; level2: 29.9; status: Default; sf: _unsafe_getindex! at multidimensional.jl:884 [inlined]\" role=\"graphics-symbol\" aria-roledescription=\"rect mark\" d=\"M138.56,134.22222222222223h0.6239999999999952v7.999999999999972h-0.6239999999999952Z\" fill=\"#4c78a8\" fill-opacity=\"1\" stroke=\"#505050\" stroke-width=\"0\"/><path aria-label=\"x1: 866; x2: 866.9; level: 30; level2: 30.9; status: Default; sf: macro expansion at cartesian.jl:62 [inlined]\" role=\"graphics-symbol\" aria-roledescription=\"rect mark\" d=\"M138.56,125.33333333333334h0.14400000000000546v8h-0.14400000000000546Z\" fill=\"#4c78a8\" fill-opacity=\"1\" stroke=\"#505050\" stroke-width=\"0\"/><path aria-label=\"x1: 866; x2: 866.9; level: 31; level2: 31.9; status: Default; sf: iterate at range.jl:887 [inlined]\" role=\"graphics-symbol\" aria-roledescription=\"rect mark\" d=\"M138.56,116.44444444444444h0.14400000000000546v8h-0.14400000000000546Z\" fill=\"#4c78a8\" fill-opacity=\"1\" stroke=\"#505050\" stroke-width=\"0\"/><path aria-label=\"x1: 866; x2: 866.9; level: 32; level2: 32.9; status: Default; sf: isempty at range.jl:662 [inlined]\" role=\"graphics-symbol\" aria-roledescription=\"rect mark\" d=\"M138.56,107.55555555555559h0.14400000000000546v7.999999999999957h-0.14400000000000546Z\" fill=\"#4c78a8\" fill-opacity=\"1\" stroke=\"#505050\" stroke-width=\"0\"/><path aria-label=\"x1: 866; x2: 866.9; level: 33; level2: 33.9; status: Default; sf: &gt; at operators.jl:369 [inlined]\" role=\"graphics-symbol\" aria-roledescription=\"rect mark\" d=\"M138.56,98.66666666666669h0.14400000000000546v8h-0.14400000000000546Z\" fill=\"#4c78a8\" fill-opacity=\"1\" stroke=\"#505050\" stroke-width=\"0\"/><path aria-label=\"x1: 866; x2: 866.9; level: 34; level2: 34.9; status: Default; sf: &lt; at int.jl:83 [inlined]\" role=\"graphics-symbol\" aria-roledescription=\"rect mark\" d=\"M138.56,89.77777777777777h0.14400000000000546v8.000000000000014h-0.14400000000000546Z\" fill=\"#4c78a8\" fill-opacity=\"1\" stroke=\"#505050\" stroke-width=\"0\"/><path aria-label=\"x1: 867; x2: 868.9; level: 30; level2: 30.9; status: Default; sf: macro expansion at cartesian.jl:64 [inlined]\" role=\"graphics-symbol\" aria-roledescription=\"rect mark\" d=\"M138.72,125.33333333333334h0.30400000000000205v8h-0.30400000000000205Z\" fill=\"#4c78a8\" fill-opacity=\"1\" stroke=\"#505050\" stroke-width=\"0\"/><path aria-label=\"x1: 867; x2: 867.9; level: 31; level2: 31.9; status: Default; sf: macro expansion at multidimensional.jl:889 [inlined]\" role=\"graphics-symbol\" aria-roledescription=\"rect mark\" d=\"M138.72,116.44444444444444h0.14399999999997704v8h-0.14399999999997704Z\" fill=\"#4c78a8\" fill-opacity=\"1\" stroke=\"#505050\" stroke-width=\"0\"/><path aria-label=\"x1: 867; x2: 867.9; level: 32; level2: 32.9; status: Default; sf: setindex! at array.jl:969 [inlined]\" role=\"graphics-symbol\" aria-roledescription=\"rect mark\" d=\"M138.72,107.55555555555559h0.14399999999997704v7.999999999999957h-0.14399999999997704Z\" fill=\"#4c78a8\" fill-opacity=\"1\" stroke=\"#505050\" stroke-width=\"0\"/><path aria-label=\"x1: 868; x2: 868.9; level: 31; level2: 31.9; status: Default; sf: macro expansion at multidimensional.jl:890 [inlined]\" role=\"graphics-symbol\" aria-roledescription=\"rect mark\" d=\"M138.88,116.44444444444444h0.14400000000000546v8h-0.14400000000000546Z\" fill=\"#4c78a8\" fill-opacity=\"1\" stroke=\"#505050\" stroke-width=\"0\"/><path aria-label=\"x1: 868; x2: 868.9; level: 32; level2: 32.9; status: Default; sf: iterate at range.jl:891 [inlined]\" role=\"graphics-symbol\" aria-roledescription=\"rect mark\" d=\"M138.88,107.55555555555559h0.14400000000000546v7.999999999999957h-0.14400000000000546Z\" fill=\"#4c78a8\" fill-opacity=\"1\" stroke=\"#505050\" stroke-width=\"0\"/><path aria-label=\"x1: 868; x2: 868.9; level: 33; level2: 33.9; status: Default; sf: == at promotion.jl:499 [inlined]\" role=\"graphics-symbol\" aria-roledescription=\"rect mark\" d=\"M138.88,98.66666666666669h0.14400000000000546v8h-0.14400000000000546Z\" fill=\"#4c78a8\" fill-opacity=\"1\" stroke=\"#505050\" stroke-width=\"0\"/><path aria-label=\"x1: 869; x2: 869.9; level: 30; level2: 30.9; status: Default; sf: macro expansion at cartesian.jl:66 [inlined]\" role=\"graphics-symbol\" aria-roledescription=\"rect mark\" d=\"M139.04000000000002,125.33333333333334h0.14399999999997704v8h-0.14399999999997704Z\" fill=\"#4c78a8\" fill-opacity=\"1\" stroke=\"#505050\" stroke-width=\"0\"/><path aria-label=\"x1: 869; x2: 869.9; level: 31; level2: 31.9; status: Default; sf: iterate at range.jl:891 [inlined]\" role=\"graphics-symbol\" aria-roledescription=\"rect mark\" d=\"M139.04000000000002,116.44444444444444h0.14399999999997704v8h-0.14399999999997704Z\" fill=\"#4c78a8\" fill-opacity=\"1\" stroke=\"#505050\" stroke-width=\"0\"/><path aria-label=\"x1: 869; x2: 869.9; level: 32; level2: 32.9; status: Default; sf: == at promotion.jl:499 [inlined]\" role=\"graphics-symbol\" aria-roledescription=\"rect mark\" d=\"M139.04000000000002,107.55555555555559h0.14399999999997704v7.999999999999957h-0.14399999999997704Z\" fill=\"#4c78a8\" fill-opacity=\"1\" stroke=\"#505050\" stroke-width=\"0\"/><path aria-label=\"x1: 872; x2: 872.9; level: 26; level2: 26.9; status: Default; sf: Colon at range.jl:5 [inlined]\" role=\"graphics-symbol\" aria-roledescription=\"rect mark\" d=\"M139.52,160.8888888888889h0.14399999999997704v8h-0.14399999999997704Z\" fill=\"#4c78a8\" fill-opacity=\"1\" stroke=\"#505050\" stroke-width=\"0\"/><path aria-label=\"x1: 872; x2: 872.9; level: 27; level2: 27.9; status: Default; sf: UnitRange at range.jl:397 [inlined]\" role=\"graphics-symbol\" aria-roledescription=\"rect mark\" d=\"M139.52,152h0.14399999999997704v8h-0.14399999999997704Z\" fill=\"#4c78a8\" fill-opacity=\"1\" stroke=\"#505050\" stroke-width=\"0\"/><path aria-label=\"x1: 873; x2: 2383.9; level: 26; level2: 26.9; status: Default; sf: predict_full at GPE.jl:399 [inlined]\" role=\"graphics-symbol\" aria-roledescription=\"rect mark\" d=\"M139.68,160.8888888888889h241.74400000000003v8h-241.74400000000003Z\" fill=\"#4c78a8\" fill-opacity=\"1\" stroke=\"#505050\" stroke-width=\"0\"/><path aria-label=\"x1: 873; x2: 875.9; level: 27; level2: 27.9; status: Default; sf: getproperty at Base.jl:37 [inlined]\" role=\"graphics-symbol\" aria-roledescription=\"rect mark\" d=\"M139.68,152h0.46399999999999864v8h-0.46399999999999864Z\" fill=\"#4c78a8\" fill-opacity=\"1\" stroke=\"#505050\" stroke-width=\"0\"/><path aria-label=\"x1: 876; x2: 877.9; level: 27; level2: 27.9; status: Default; sf: predictMVN(xpred::Matrix{Float64}, xtrain::Matrix{Float64}, ytrain::Vector{Float64}, kernel::GaussianProcesses.Mat12Iso{Float64}, meanf::GaussianProcesses.MeanZero, alpha::Vector{Float64}, covstrat::GaussianProcesses.FullCovariance, Ktrain::PDMats.PDMat{Float64, Matrix{Float64}}) at GP.jl:39\" role=\"graphics-symbol\" aria-roledescription=\"rect mark\" d=\"M140.16,152h0.30400000000000205v8h-0.30400000000000205Z\" fill=\"#4c78a8\" fill-opacity=\"1\" stroke=\"#505050\" stroke-width=\"0\"/><path aria-label=\"x1: 878; x2: 1137.9; level: 27; level2: 27.9; status: Default; sf: predictMVN(xpred::Matrix{Float64}, xtrain::Matrix{Float64}, ytrain::Vector{Float64}, kernel::GaussianProcesses.Mat12Iso{Float64}, meanf::GaussianProcesses.MeanZero, alpha::Vector{Float64}, covstrat::GaussianProcesses.FullCovariance, Ktrain::PDMats.PDMat{Float64, Matrix{Float64}}) at GP.jl:42\" role=\"graphics-symbol\" aria-roledescription=\"rect mark\" d=\"M140.48000000000002,152h41.583999999999975v8h-41.583999999999975Z\" fill=\"#4c78a8\" fill-opacity=\"1\" stroke=\"#505050\" stroke-width=\"0\"/><path aria-label=\"x1: 878; x2: 1137.9; level: 28; level2: 28.9; status: Default; sf: KernelData at stationary.jl:39 [inlined]\" role=\"graphics-symbol\" aria-roledescription=\"rect mark\" d=\"M140.48000000000002,143.11111111111114h41.583999999999975v7.999999999999972h-41.583999999999975Z\" fill=\"#4c78a8\" fill-opacity=\"1\" stroke=\"#505050\" stroke-width=\"0\"/><path aria-label=\"x1: 878; x2: 878.9; level: 29; level2: 29.9; status: Default; sf: distance at distance.jl:23 [inlined]\" role=\"graphics-symbol\" aria-roledescription=\"rect mark\" d=\"M140.48000000000002,134.22222222222223h0.14399999999997704v7.999999999999972h-0.14399999999997704Z\" fill=\"#4c78a8\" fill-opacity=\"1\" stroke=\"#505050\" stroke-width=\"0\"/><path aria-label=\"x1: 878; x2: 878.9; level: 30; level2: 30.9; status: Default; sf: size at array.jl:148 [inlined]\" role=\"graphics-symbol\" aria-roledescription=\"rect mark\" d=\"M140.48000000000002,125.33333333333334h0.14399999999997704v8h-0.14399999999997704Z\" fill=\"#4c78a8\" fill-opacity=\"1\" stroke=\"#505050\" stroke-width=\"0\"/><path aria-label=\"x1: 879; x2: 1137.9; level: 29; level2: 29.9; status: Default; sf: distance at distance.jl:24 [inlined]\" role=\"graphics-symbol\" aria-roledescription=\"rect mark\" d=\"M140.64000000000001,134.22222222222223h41.42399999999998v7.999999999999972h-41.42399999999998Z\" fill=\"#4c78a8\" fill-opacity=\"1\" stroke=\"#505050\" stroke-width=\"0\"/><path aria-label=\"x1: 879; x2: 1019.9; level: 30; level2: 30.9; status: Garbage collection; sf: Array at boot.jl:479 [inlined]\" role=\"graphics-symbol\" aria-roledescription=\"rect mark\" d=\"M140.64000000000001,125.33333333333334h22.543999999999983v8h-22.543999999999983Z\" fill=\"#f58518\" fill-opacity=\"1\" stroke=\"#505050\" stroke-width=\"0\"/><path aria-label=\"x1: 1020; x2: 1020.9; level: 30; level2: 30.9; status: Default; sf: distance!(dist::Matrix{Float64}, m::Distances.Euclidean, X::Matrix{Float64}, Y::Matrix{Float64}) at distance.jl:30\" role=\"graphics-symbol\" aria-roledescription=\"rect mark\" d=\"M163.2,125.33333333333334h0.14400000000000546v8h-0.14400000000000546Z\" fill=\"#4c78a8\" fill-opacity=\"1\" stroke=\"#505050\" stroke-width=\"0\"/><path aria-label=\"x1: 1020; x2: 1020.9; level: 31; level2: 31.9; status: Default; sf: == at promotion.jl:499 [inlined]\" role=\"graphics-symbol\" aria-roledescription=\"rect mark\" d=\"M163.2,116.44444444444444h0.14400000000000546v8h-0.14400000000000546Z\" fill=\"#4c78a8\" fill-opacity=\"1\" stroke=\"#505050\" stroke-width=\"0\"/><path aria-label=\"x1: 1021; x2: 1137.9; level: 30; level2: 30.9; status: Default; sf: distance!(dist::Matrix{Float64}, m::Distances.Euclidean, X::Matrix{Float64}, Y::Matrix{Float64}) at distance.jl:31\" role=\"graphics-symbol\" aria-roledescription=\"rect mark\" d=\"M163.35999999999999,125.33333333333334h18.704000000000008v8h-18.704000000000008Z\" fill=\"#4c78a8\" fill-opacity=\"1\" stroke=\"#505050\" stroke-width=\"0\"/><path aria-label=\"x1: 1021; x2: 1029.9; level: 31; level2: 31.9; status: Default; sf: macro expansion at simdloop.jl:75 [inlined]\" role=\"graphics-symbol\" aria-roledescription=\"rect mark\" d=\"M163.35999999999999,116.44444444444444h1.424000000000035v8h-1.424000000000035Z\" fill=\"#4c78a8\" fill-opacity=\"1\" stroke=\"#505050\" stroke-width=\"0\"/><path aria-label=\"x1: 1021; x2: 1024.9; level: 32; level2: 32.9; status: Default; sf: &lt; at int.jl:83 [inlined]\" role=\"graphics-symbol\" aria-roledescription=\"rect mark\" d=\"M163.35999999999999,107.55555555555559h0.6240000000000236v7.999999999999957h-0.6240000000000236Z\" fill=\"#4c78a8\" fill-opacity=\"1\" stroke=\"#505050\" stroke-width=\"0\"/><path aria-label=\"x1: 1030; x2: 1030.9; level: 31; level2: 31.9; status: Default; sf: macro expansion at simdloop.jl:76 [inlined]\" role=\"graphics-symbol\" aria-roledescription=\"rect mark\" d=\"M164.79999999999998,116.44444444444444h0.14400000000003388v8h-0.14400000000003388Z\" fill=\"#4c78a8\" fill-opacity=\"1\" stroke=\"#505050\" stroke-width=\"0\"/><path aria-label=\"x1: 1030; x2: 1030.9; level: 32; level2: 32.9; status: Default; sf: simd_index at simdloop.jl:54 [inlined]\" role=\"graphics-symbol\" aria-roledescription=\"rect mark\" d=\"M164.79999999999998,107.55555555555559h0.14400000000003388v7.999999999999957h-0.14400000000003388Z\" fill=\"#4c78a8\" fill-opacity=\"1\" stroke=\"#505050\" stroke-width=\"0\"/><path aria-label=\"x1: 1030; x2: 1030.9; level: 33; level2: 33.9; status: Default; sf: getindex at range.jl:914 [inlined]\" role=\"graphics-symbol\" aria-roledescription=\"rect mark\" d=\"M164.79999999999998,98.66666666666669h0.14400000000003388v8h-0.14400000000003388Z\" fill=\"#4c78a8\" fill-opacity=\"1\" stroke=\"#505050\" stroke-width=\"0\"/><path aria-label=\"x1: 1030; x2: 1030.9; level: 34; level2: 34.9; status: Default; sf: + at int.jl:87 [inlined]\" role=\"graphics-symbol\" aria-roledescription=\"rect mark\" d=\"M164.79999999999998,89.77777777777777h0.14400000000003388v8.000000000000014h-0.14400000000003388Z\" fill=\"#4c78a8\" fill-opacity=\"1\" stroke=\"#505050\" stroke-width=\"0\"/><path aria-label=\"x1: 1031; x2: 1137.9; level: 31; level2: 31.9; status: Default; sf: macro expansion at simdloop.jl:77 [inlined]\" role=\"graphics-symbol\" aria-roledescription=\"rect mark\" d=\"M164.96,116.44444444444444h17.103999999999985v8h-17.103999999999985Z\" fill=\"#4c78a8\" fill-opacity=\"1\" stroke=\"#505050\" stroke-width=\"0\"/><path aria-label=\"x1: 1031; x2: 1042.9; level: 32; level2: 32.9; status: Default; sf: macro expansion at distance.jl:0 [inlined]\" role=\"graphics-symbol\" aria-roledescription=\"rect mark\" d=\"M164.96,107.55555555555559h1.9039999999999964v7.999999999999957h-1.9039999999999964Z\" fill=\"#4c78a8\" fill-opacity=\"1\" stroke=\"#505050\" stroke-width=\"0\"/><path aria-label=\"x1: 1043; x2: 1130.9; level: 32; level2: 32.9; status: Default; sf: macro expansion at distance.jl:33 [inlined]\" role=\"graphics-symbol\" aria-roledescription=\"rect mark\" d=\"M166.88,107.55555555555559h14.064000000000021v7.999999999999957h-14.064000000000021Z\" fill=\"#4c78a8\" fill-opacity=\"1\" stroke=\"#505050\" stroke-width=\"0\"/><path aria-label=\"x1: 1043; x2: 1076.9; level: 33; level2: 33.9; status: Default; sf: setindex! at array.jl:971 [inlined]\" role=\"graphics-symbol\" aria-roledescription=\"rect mark\" d=\"M166.88,98.66666666666669h5.424000000000007v8h-5.424000000000007Z\" fill=\"#4c78a8\" fill-opacity=\"1\" stroke=\"#505050\" stroke-width=\"0\"/><path aria-label=\"x1: 1077; x2: 1130.9; level: 33; level2: 33.9; status: Default; sf: distij at distance.jl:69 [inlined]\" role=\"graphics-symbol\" aria-roledescription=\"rect mark\" d=\"M172.32,98.66666666666669h8.624000000000024v8h-8.624000000000024Z\" fill=\"#4c78a8\" fill-opacity=\"1\" stroke=\"#505050\" stroke-width=\"0\"/><path aria-label=\"x1: 1077; x2: 1084.9; level: 34; level2: 34.9; status: Default; sf: sqrt at math.jl:677 [inlined]\" role=\"graphics-symbol\" aria-roledescription=\"rect mark\" d=\"M172.32,89.77777777777777h1.26400000000001v8.000000000000014h-1.26400000000001Z\" fill=\"#4c78a8\" fill-opacity=\"1\" stroke=\"#505050\" stroke-width=\"0\"/><path aria-label=\"x1: 1077; x2: 1084.9; level: 35; level2: 35.9; status: Default; sf: &lt; at float.jl:535 [inlined]\" role=\"graphics-symbol\" aria-roledescription=\"rect mark\" d=\"M172.32,80.88888888888891h1.26400000000001v7.999999999999972h-1.26400000000001Z\" fill=\"#4c78a8\" fill-opacity=\"1\" stroke=\"#505050\" stroke-width=\"0\"/><path aria-label=\"x1: 1085; x2: 1085.9; level: 34; level2: 34.9; status: Default; sf: sqrt at math.jl:678 [inlined]\" role=\"graphics-symbol\" aria-roledescription=\"rect mark\" d=\"M173.6,89.77777777777777h0.14400000000000546v8.000000000000014h-0.14400000000000546Z\" fill=\"#4c78a8\" fill-opacity=\"1\" stroke=\"#505050\" stroke-width=\"0\"/><path aria-label=\"x1: 1086; x2: 1130.9; level: 34; level2: 34.9; status: Default; sf: _SqEuclidean_ij at distance.jl:52 [inlined]\" role=\"graphics-symbol\" aria-roledescription=\"rect mark\" d=\"M173.76,89.77777777777777h7.184000000000026v8.000000000000014h-7.184000000000026Z\" fill=\"#4c78a8\" fill-opacity=\"1\" stroke=\"#505050\" stroke-width=\"0\"/><path aria-label=\"x1: 1086; x2: 1086.9; level: 35; level2: 35.9; status: Default; sf: macro expansion at simdloop.jl:0 [inlined]\" role=\"graphics-symbol\" aria-roledescription=\"rect mark\" d=\"M173.76,80.88888888888891h0.14400000000003388v7.999999999999972h-0.14400000000003388Z\" fill=\"#4c78a8\" fill-opacity=\"1\" stroke=\"#505050\" stroke-width=\"0\"/><path aria-label=\"x1: 1087; x2: 1103.9; level: 35; level2: 35.9; status: Default; sf: macro expansion at simdloop.jl:75 [inlined]\" role=\"graphics-symbol\" aria-roledescription=\"rect mark\" d=\"M173.92000000000002,80.88888888888891h2.7040000000000077v7.999999999999972h-2.7040000000000077Z\" fill=\"#4c78a8\" fill-opacity=\"1\" stroke=\"#505050\" stroke-width=\"0\"/><path aria-label=\"x1: 1104; x2: 1130.9; level: 35; level2: 35.9; status: Default; sf: macro expansion at simdloop.jl:77 [inlined]\" role=\"graphics-symbol\" aria-roledescription=\"rect mark\" d=\"M176.64,80.88888888888891h4.3040000000000305v7.999999999999972h-4.3040000000000305Z\" fill=\"#4c78a8\" fill-opacity=\"1\" stroke=\"#505050\" stroke-width=\"0\"/><path aria-label=\"x1: 1104; x2: 1130.9; level: 36; level2: 36.9; status: Default; sf: macro expansion at distance.jl:53 [inlined]\" role=\"graphics-symbol\" aria-roledescription=\"rect mark\" d=\"M176.64,72.00000000000001h4.3040000000000305v7.999999999999972h-4.3040000000000305Z\" fill=\"#4c78a8\" fill-opacity=\"1\" stroke=\"#505050\" stroke-width=\"0\"/><path aria-label=\"x1: 1104; x2: 1111.9; level: 37; level2: 37.9; status: Default; sf: + at float.jl:408 [inlined]\" role=\"graphics-symbol\" aria-roledescription=\"rect mark\" d=\"M176.64,63.111111111111114h1.2640000000000384v8.000000000000014h-1.2640000000000384Z\" fill=\"#4c78a8\" fill-opacity=\"1\" stroke=\"#505050\" stroke-width=\"0\"/><path aria-label=\"x1: 1112; x2: 1130.9; level: 37; level2: 37.9; status: Default; sf: _SqEuclidean_ijk at distance.jl:42 [inlined]\" role=\"graphics-symbol\" aria-roledescription=\"rect mark\" d=\"M177.92,63.111111111111114h3.0240000000000293v8.000000000000014h-3.0240000000000293Z\" fill=\"#4c78a8\" fill-opacity=\"1\" stroke=\"#505050\" stroke-width=\"0\"/><path aria-label=\"x1: 1112; x2: 1115.9; level: 38; level2: 38.9; status: Default; sf: getindex at essentials.jl:0 [inlined]\" role=\"graphics-symbol\" aria-roledescription=\"rect mark\" d=\"M177.92,54.222222222222214h0.6240000000000236v8.000000000000007h-0.6240000000000236Z\" fill=\"#4c78a8\" fill-opacity=\"1\" stroke=\"#505050\" stroke-width=\"0\"/><path aria-label=\"x1: 1116; x2: 1127.9; level: 38; level2: 38.9; status: Default; sf: getindex at essentials.jl:14 [inlined]\" role=\"graphics-symbol\" aria-roledescription=\"rect mark\" d=\"M178.56,54.222222222222214h1.9040000000000248v8.000000000000007h-1.9040000000000248Z\" fill=\"#4c78a8\" fill-opacity=\"1\" stroke=\"#505050\" stroke-width=\"0\"/><path aria-label=\"x1: 1128; x2: 1130.9; level: 38; level2: 38.9; status: Default; sf: - at float.jl:409 [inlined]\" role=\"graphics-symbol\" aria-roledescription=\"rect mark\" d=\"M180.48,54.222222222222214h0.46400000000002706v8.000000000000007h-0.46400000000002706Z\" fill=\"#4c78a8\" fill-opacity=\"1\" stroke=\"#505050\" stroke-width=\"0\"/><path aria-label=\"x1: 1131; x2: 1137.9; level: 32; level2: 32.9; status: Default; sf: macro expansion at distance.jl:34 [inlined]\" role=\"graphics-symbol\" aria-roledescription=\"rect mark\" d=\"M180.96,107.55555555555559h1.103999999999985v7.999999999999957h-1.103999999999985Z\" fill=\"#4c78a8\" fill-opacity=\"1\" stroke=\"#505050\" stroke-width=\"0\"/><path aria-label=\"x1: 1131; x2: 1133.9; level: 33; level2: 33.9; status: Default; sf: iterate at range.jl:891 [inlined]\" role=\"graphics-symbol\" aria-roledescription=\"rect mark\" d=\"M180.96,98.66666666666669h0.46399999999999864v8h-0.46399999999999864Z\" fill=\"#4c78a8\" fill-opacity=\"1\" stroke=\"#505050\" stroke-width=\"0\"/><path aria-label=\"x1: 1131; x2: 1131.9; level: 34; level2: 34.9; status: Default; sf: == at promotion.jl:499 [inlined]\" role=\"graphics-symbol\" aria-roledescription=\"rect mark\" d=\"M180.96,89.77777777777777h0.14400000000000546v8.000000000000014h-0.14400000000000546Z\" fill=\"#4c78a8\" fill-opacity=\"1\" stroke=\"#505050\" stroke-width=\"0\"/><path aria-label=\"x1: 1138; x2: 1258.9; level: 27; level2: 27.9; status: Default; sf: predictMVN(xpred::Matrix{Float64}, xtrain::Matrix{Float64}, ytrain::Vector{Float64}, kernel::GaussianProcesses.Mat12Iso{Float64}, meanf::GaussianProcesses.MeanZero, alpha::Vector{Float64}, covstrat::GaussianProcesses.FullCovariance, Ktrain::PDMats.PDMat{Float64, Matrix{Float64}}) at GP.jl:43\" role=\"graphics-symbol\" aria-roledescription=\"rect mark\" d=\"M182.07999999999998,152h19.344000000000023v8h-19.344000000000023Z\" fill=\"#4c78a8\" fill-opacity=\"1\" stroke=\"#505050\" stroke-width=\"0\"/><path aria-label=\"x1: 1138; x2: 1258.9; level: 28; level2: 28.9; status: Default; sf: KernelData at stationary.jl:39 [inlined]\" role=\"graphics-symbol\" aria-roledescription=\"rect mark\" d=\"M182.07999999999998,143.11111111111114h19.344000000000023v7.999999999999972h-19.344000000000023Z\" fill=\"#4c78a8\" fill-opacity=\"1\" stroke=\"#505050\" stroke-width=\"0\"/><path aria-label=\"x1: 1138; x2: 1258.9; level: 29; level2: 29.9; status: Default; sf: distance at distance.jl:24 [inlined]\" role=\"graphics-symbol\" aria-roledescription=\"rect mark\" d=\"M182.07999999999998,134.22222222222223h19.344000000000023v7.999999999999972h-19.344000000000023Z\" fill=\"#4c78a8\" fill-opacity=\"1\" stroke=\"#505050\" stroke-width=\"0\"/><path aria-label=\"x1: 1138; x2: 1246.9; level: 30; level2: 30.9; status: Garbage collection; sf: Array at boot.jl:479 [inlined]\" role=\"graphics-symbol\" aria-roledescription=\"rect mark\" d=\"M182.07999999999998,125.33333333333334h17.424000000000035v8h-17.424000000000035Z\" fill=\"#f58518\" fill-opacity=\"1\" stroke=\"#505050\" stroke-width=\"0\"/><path aria-label=\"x1: 1247; x2: 1247.9; level: 30; level2: 30.9; status: Default; sf: distance!(dist::Matrix{Float64}, m::Distances.Euclidean, X::Matrix{Float64}, Y::Matrix{Float64}) at distance.jl:27\" role=\"graphics-symbol\" aria-roledescription=\"rect mark\" d=\"M199.52,125.33333333333334h0.14400000000000546v8h-0.14400000000000546Z\" fill=\"#4c78a8\" fill-opacity=\"1\" stroke=\"#505050\" stroke-width=\"0\"/><path aria-label=\"x1: 1248; x2: 1254.9; level: 30; level2: 30.9; status: Default; sf: distance!(dist::Matrix{Float64}, m::Distances.Euclidean, X::Matrix{Float64}, Y::Matrix{Float64}) at distance.jl:31\" role=\"graphics-symbol\" aria-roledescription=\"rect mark\" d=\"M199.67999999999998,125.33333333333334h1.1040000000000418v8h-1.1040000000000418Z\" fill=\"#4c78a8\" fill-opacity=\"1\" stroke=\"#505050\" stroke-width=\"0\"/><path aria-label=\"x1: 1248; x2: 1249.9; level: 31; level2: 31.9; status: Default; sf: macro expansion at simdloop.jl:75 [inlined]\" role=\"graphics-symbol\" aria-roledescription=\"rect mark\" d=\"M199.67999999999998,116.44444444444444h0.30400000000003047v8h-0.30400000000003047Z\" fill=\"#4c78a8\" fill-opacity=\"1\" stroke=\"#505050\" stroke-width=\"0\"/><path aria-label=\"x1: 1250; x2: 1254.9; level: 31; level2: 31.9; status: Default; sf: macro expansion at simdloop.jl:77 [inlined]\" role=\"graphics-symbol\" aria-roledescription=\"rect mark\" d=\"M200,116.44444444444444h0.7840000000000202v8h-0.7840000000000202Z\" fill=\"#4c78a8\" fill-opacity=\"1\" stroke=\"#505050\" stroke-width=\"0\"/><path aria-label=\"x1: 1250; x2: 1250.9; level: 32; level2: 32.9; status: Default; sf: macro expansion at distance.jl:0 [inlined]\" role=\"graphics-symbol\" aria-roledescription=\"rect mark\" d=\"M200,107.55555555555559h0.14400000000000546v7.999999999999957h-0.14400000000000546Z\" fill=\"#4c78a8\" fill-opacity=\"1\" stroke=\"#505050\" stroke-width=\"0\"/><path aria-label=\"x1: 1251; x2: 1254.9; level: 32; level2: 32.9; status: Default; sf: macro expansion at distance.jl:33 [inlined]\" role=\"graphics-symbol\" aria-roledescription=\"rect mark\" d=\"M200.15999999999997,107.55555555555559h0.6240000000000521v7.999999999999957h-0.6240000000000521Z\" fill=\"#4c78a8\" fill-opacity=\"1\" stroke=\"#505050\" stroke-width=\"0\"/><path aria-label=\"x1: 1251; x2: 1253.9; level: 33; level2: 33.9; status: Default; sf: setindex! at array.jl:971 [inlined]\" role=\"graphics-symbol\" aria-roledescription=\"rect mark\" d=\"M200.15999999999997,98.66666666666669h0.46400000000002706v8h-0.46400000000002706Z\" fill=\"#4c78a8\" fill-opacity=\"1\" stroke=\"#505050\" stroke-width=\"0\"/><path aria-label=\"x1: 1254; x2: 1254.9; level: 33; level2: 33.9; status: Default; sf: distij at distance.jl:69 [inlined]\" role=\"graphics-symbol\" aria-roledescription=\"rect mark\" d=\"M200.64000000000001,98.66666666666669h0.14400000000000546v8h-0.14400000000000546Z\" fill=\"#4c78a8\" fill-opacity=\"1\" stroke=\"#505050\" stroke-width=\"0\"/><path aria-label=\"x1: 1254; x2: 1254.9; level: 34; level2: 34.9; status: Default; sf: sqrt at float.jl:0 [inlined]\" role=\"graphics-symbol\" aria-roledescription=\"rect mark\" d=\"M200.64000000000001,89.77777777777777h0.14400000000000546v8.000000000000014h-0.14400000000000546Z\" fill=\"#4c78a8\" fill-opacity=\"1\" stroke=\"#505050\" stroke-width=\"0\"/><path aria-label=\"x1: 1255; x2: 1257.9; level: 30; level2: 30.9; status: Default; sf: distance!(dist::Matrix{Float64}, m::Distances.Euclidean, X::Matrix{Float64}, Y::Matrix{Float64}) at distance.jl:36\" role=\"graphics-symbol\" aria-roledescription=\"rect mark\" d=\"M200.8,125.33333333333334h0.46399999999999864v8h-0.46399999999999864Z\" fill=\"#4c78a8\" fill-opacity=\"1\" stroke=\"#505050\" stroke-width=\"0\"/><path aria-label=\"x1: 1259; x2: 1507.9; level: 27; level2: 27.9; status: Default; sf: predictMVN(xpred::Matrix{Float64}, xtrain::Matrix{Float64}, ytrain::Vector{Float64}, kernel::GaussianProcesses.Mat12Iso{Float64}, meanf::GaussianProcesses.MeanZero, alpha::Vector{Float64}, covstrat::GaussianProcesses.FullCovariance, Ktrain::PDMats.PDMat{Float64, Matrix{Float64}}) at GP.jl:44\" role=\"graphics-symbol\" aria-roledescription=\"rect mark\" d=\"M201.44000000000003,152h39.823999999999984v8h-39.823999999999984Z\" fill=\"#4c78a8\" fill-opacity=\"1\" stroke=\"#505050\" stroke-width=\"0\"/><path aria-label=\"x1: 1259; x2: 1321.9; level: 28; level2: 28.9; status: Default; sf: cov at kernels.jl:35 [inlined]\" role=\"graphics-symbol\" aria-roledescription=\"rect mark\" d=\"M201.44000000000003,143.11111111111114h10.063999999999965v7.999999999999972h-10.063999999999965Z\" fill=\"#4c78a8\" fill-opacity=\"1\" stroke=\"#505050\" stroke-width=\"0\"/><path aria-label=\"x1: 1259; x2: 1321.9; level: 29; level2: 29.9; status: Default; sf: Array at boot.jl:492 [inlined]\" role=\"graphics-symbol\" aria-roledescription=\"rect mark\" d=\"M201.44000000000003,134.22222222222223h10.063999999999965v7.999999999999972h-10.063999999999965Z\" fill=\"#4c78a8\" fill-opacity=\"1\" stroke=\"#505050\" stroke-width=\"0\"/><path aria-label=\"x1: 1259; x2: 1321.9; level: 30; level2: 30.9; status: Garbage collection; sf: Array at boot.jl:479 [inlined]\" role=\"graphics-symbol\" aria-roledescription=\"rect mark\" d=\"M201.44000000000003,125.33333333333334h10.063999999999965v8h-10.063999999999965Z\" fill=\"#f58518\" fill-opacity=\"1\" stroke=\"#505050\" stroke-width=\"0\"/><path aria-label=\"x1: 1322; x2: 1507.9; level: 28; level2: 28.9; status: Default; sf: cov at kernels.jl:36 [inlined]\" role=\"graphics-symbol\" aria-roledescription=\"rect mark\" d=\"M211.52,143.11111111111114h29.744v7.999999999999972h-29.744Z\" fill=\"#4c78a8\" fill-opacity=\"1\" stroke=\"#505050\" stroke-width=\"0\"/><path aria-label=\"x1: 1322; x2: 1323.9; level: 29; level2: 29.9; status: Default; sf: exp(x::Float64) at exp.jl:325\" role=\"graphics-symbol\" aria-roledescription=\"rect mark\" d=\"M211.52,134.22222222222223h0.30400000000000205v7.999999999999972h-0.30400000000000205Z\" fill=\"#4c78a8\" fill-opacity=\"1\" stroke=\"#505050\" stroke-width=\"0\"/><path aria-label=\"x1: 1324; x2: 1327.9; level: 29; level2: 29.9; status: Default; sf: cov!(cK::Matrix{Float64}, k::GaussianProcesses.Mat12Iso{Float64}, X1::Matrix{Float64}, X2::Matrix{Float64}, data::GaussianProcesses.IsotropicData{Matrix{Float64}}) at kernels.jl:0\" role=\"graphics-symbol\" aria-roledescription=\"rect mark\" d=\"M211.83999999999997,134.22222222222223h0.6240000000000521v7.999999999999972h-0.6240000000000521Z\" fill=\"#4c78a8\" fill-opacity=\"1\" stroke=\"#505050\" stroke-width=\"0\"/><path aria-label=\"x1: 1328; x2: 1477.9; level: 29; level2: 29.9; status: Default; sf: cov!(cK::Matrix{Float64}, k::GaussianProcesses.Mat12Iso{Float64}, X1::Matrix{Float64}, X2::Matrix{Float64}, data::GaussianProcesses.IsotropicData{Matrix{Float64}}) at kernels.jl:67\" role=\"graphics-symbol\" aria-roledescription=\"rect mark\" d=\"M212.48,134.22222222222223h23.98400000000001v7.999999999999972h-23.98400000000001Z\" fill=\"#4c78a8\" fill-opacity=\"1\" stroke=\"#505050\" stroke-width=\"0\"/><path aria-label=\"x1: 1328; x2: 1355.9; level: 30; level2: 30.9; status: Default; sf: setindex! at array.jl:971 [inlined]\" role=\"graphics-symbol\" aria-roledescription=\"rect mark\" d=\"M212.48,125.33333333333334h4.464000000000027v8h-4.464000000000027Z\" fill=\"#4c78a8\" fill-opacity=\"1\" stroke=\"#505050\" stroke-width=\"0\"/><path aria-label=\"x1: 1356; x2: 1477.9; level: 30; level2: 30.9; status: Default; sf: cov_ij at stationary.jl:46 [inlined]\" role=\"graphics-symbol\" aria-roledescription=\"rect mark\" d=\"M216.96,125.33333333333334h19.50399999999999v8h-19.50399999999999Z\" fill=\"#4c78a8\" fill-opacity=\"1\" stroke=\"#505050\" stroke-width=\"0\"/><path aria-label=\"x1: 1356; x2: 1357.9; level: 31; level2: 31.9; status: Default; sf: getindex at essentials.jl:0 [inlined]\" role=\"graphics-symbol\" aria-roledescription=\"rect mark\" d=\"M216.96,116.44444444444444h0.30400000000003047v8h-0.30400000000003047Z\" fill=\"#4c78a8\" fill-opacity=\"1\" stroke=\"#505050\" stroke-width=\"0\"/><path aria-label=\"x1: 1358; x2: 1369.9; level: 31; level2: 31.9; status: Default; sf: getindex at essentials.jl:14 [inlined]\" role=\"graphics-symbol\" aria-roledescription=\"rect mark\" d=\"M217.28,116.44444444444444h1.9039999999999964v8h-1.9039999999999964Z\" fill=\"#4c78a8\" fill-opacity=\"1\" stroke=\"#505050\" stroke-width=\"0\"/><path aria-label=\"x1: 1370; x2: 1477.9; level: 31; level2: 31.9; status: Default; sf: cov at mat12_iso.jl:41 [inlined]\" role=\"graphics-symbol\" aria-roledescription=\"rect mark\" d=\"M219.20000000000002,116.44444444444444h17.26399999999998v8h-17.26399999999998Z\" fill=\"#4c78a8\" fill-opacity=\"1\" stroke=\"#505050\" stroke-width=\"0\"/><path aria-label=\"x1: 1370; x2: 1376.9; level: 32; level2: 32.9; status: Default; sf: getproperty at Base.jl:37 [inlined]\" role=\"graphics-symbol\" aria-roledescription=\"rect mark\" d=\"M219.20000000000002,107.55555555555559h1.103999999999985v7.999999999999957h-1.103999999999985Z\" fill=\"#4c78a8\" fill-opacity=\"1\" stroke=\"#505050\" stroke-width=\"0\"/><path aria-label=\"x1: 1377; x2: 1382.9; level: 32; level2: 32.9; status: Default; sf: / at float.jl:411 [inlined]\" role=\"graphics-symbol\" aria-roledescription=\"rect mark\" d=\"M220.32,107.55555555555559h0.9439999999999884v7.999999999999957h-0.9439999999999884Z\" fill=\"#4c78a8\" fill-opacity=\"1\" stroke=\"#505050\" stroke-width=\"0\"/><path aria-label=\"x1: 1383; x2: 1470.9; level: 32; level2: 32.9; status: Default; sf: exp(x::Float64) at exp.jl:325\" role=\"graphics-symbol\" aria-roledescription=\"rect mark\" d=\"M221.28,107.55555555555559h14.063999999999993v7.999999999999957h-14.063999999999993Z\" fill=\"#4c78a8\" fill-opacity=\"1\" stroke=\"#505050\" stroke-width=\"0\"/><path aria-label=\"x1: 1383; x2: 1385.9; level: 33; level2: 33.9; status: Default; sf: exp_impl at exp.jl:209 [inlined]\" role=\"graphics-symbol\" aria-roledescription=\"rect mark\" d=\"M221.28,98.66666666666669h0.46400000000002706v8h-0.46400000000002706Z\" fill=\"#4c78a8\" fill-opacity=\"1\" stroke=\"#505050\" stroke-width=\"0\"/><path aria-label=\"x1: 1383; x2: 1385.9; level: 34; level2: 34.9; status: Default; sf: muladd at float.jl:413 [inlined]\" role=\"graphics-symbol\" aria-roledescription=\"rect mark\" d=\"M221.28,89.77777777777777h0.46400000000002706v8.000000000000014h-0.46400000000002706Z\" fill=\"#4c78a8\" fill-opacity=\"1\" stroke=\"#505050\" stroke-width=\"0\"/><path aria-label=\"x1: 1386; x2: 1386.9; level: 33; level2: 33.9; status: Default; sf: exp_impl at exp.jl:210 [inlined]\" role=\"graphics-symbol\" aria-roledescription=\"rect mark\" d=\"M221.76,98.66666666666669h0.14400000000003388v8h-0.14400000000003388Z\" fill=\"#4c78a8\" fill-opacity=\"1\" stroke=\"#505050\" stroke-width=\"0\"/><path aria-label=\"x1: 1386; x2: 1386.9; level: 34; level2: 34.9; status: Default; sf: reinterpret at essentials.jl:513 [inlined]\" role=\"graphics-symbol\" aria-roledescription=\"rect mark\" d=\"M221.76,89.77777777777777h0.14400000000003388v8.000000000000014h-0.14400000000003388Z\" fill=\"#4c78a8\" fill-opacity=\"1\" stroke=\"#505050\" stroke-width=\"0\"/><path aria-label=\"x1: 1387; x2: 1389.9; level: 33; level2: 33.9; status: Default; sf: exp_impl at exp.jl:211 [inlined]\" role=\"graphics-symbol\" aria-roledescription=\"rect mark\" d=\"M221.92,98.66666666666669h0.46400000000002706v8h-0.46400000000002706Z\" fill=\"#4c78a8\" fill-opacity=\"1\" stroke=\"#505050\" stroke-width=\"0\"/><path aria-label=\"x1: 1387; x2: 1389.9; level: 34; level2: 34.9; status: Default; sf: - at float.jl:409 [inlined]\" role=\"graphics-symbol\" aria-roledescription=\"rect mark\" d=\"M221.92,89.77777777777777h0.46400000000002706v8.000000000000014h-0.46400000000002706Z\" fill=\"#4c78a8\" fill-opacity=\"1\" stroke=\"#505050\" stroke-width=\"0\"/><path aria-label=\"x1: 1390; x2: 1398.9; level: 33; level2: 33.9; status: Default; sf: exp_impl at exp.jl:212 [inlined]\" role=\"graphics-symbol\" aria-roledescription=\"rect mark\" d=\"M222.40000000000003,98.66666666666669h1.4239999999999782v8h-1.4239999999999782Z\" fill=\"#4c78a8\" fill-opacity=\"1\" stroke=\"#505050\" stroke-width=\"0\"/><path aria-label=\"x1: 1390; x2: 1398.9; level: 34; level2: 34.9; status: Default; sf: muladd at float.jl:413 [inlined]\" role=\"graphics-symbol\" aria-roledescription=\"rect mark\" d=\"M222.40000000000003,89.77777777777777h1.4239999999999782v8.000000000000014h-1.4239999999999782Z\" fill=\"#4c78a8\" fill-opacity=\"1\" stroke=\"#505050\" stroke-width=\"0\"/><path aria-label=\"x1: 1399; x2: 1402.9; level: 33; level2: 33.9; status: Default; sf: exp_impl at exp.jl:213 [inlined]\" role=\"graphics-symbol\" aria-roledescription=\"rect mark\" d=\"M223.84,98.66666666666669h0.6239999999999952v8h-0.6239999999999952Z\" fill=\"#4c78a8\" fill-opacity=\"1\" stroke=\"#505050\" stroke-width=\"0\"/><path aria-label=\"x1: 1399; x2: 1402.9; level: 34; level2: 34.9; status: Default; sf: muladd at float.jl:413 [inlined]\" role=\"graphics-symbol\" aria-roledescription=\"rect mark\" d=\"M223.84,89.77777777777777h0.6239999999999952v8.000000000000014h-0.6239999999999952Z\" fill=\"#4c78a8\" fill-opacity=\"1\" stroke=\"#505050\" stroke-width=\"0\"/><path aria-label=\"x1: 1403; x2: 1404.9; level: 33; level2: 33.9; status: Default; sf: exp_impl at exp.jl:214 [inlined]\" role=\"graphics-symbol\" aria-roledescription=\"rect mark\" d=\"M224.48000000000002,98.66666666666669h0.3039999999999736v8h-0.3039999999999736Z\" fill=\"#4c78a8\" fill-opacity=\"1\" stroke=\"#505050\" stroke-width=\"0\"/><path aria-label=\"x1: 1403; x2: 1404.9; level: 34; level2: 34.9; status: Default; sf: &gt;&gt; at int.jl:508 [inlined]\" role=\"graphics-symbol\" aria-roledescription=\"rect mark\" d=\"M224.48000000000002,89.77777777777777h0.3039999999999736v8.000000000000014h-0.3039999999999736Z\" fill=\"#4c78a8\" fill-opacity=\"1\" stroke=\"#505050\" stroke-width=\"0\"/><path aria-label=\"x1: 1403; x2: 1404.9; level: 35; level2: 35.9; status: Default; sf: &gt;&gt; at int.jl:501 [inlined]\" role=\"graphics-symbol\" aria-roledescription=\"rect mark\" d=\"M224.48000000000002,80.88888888888891h0.3039999999999736v7.999999999999972h-0.3039999999999736Z\" fill=\"#4c78a8\" fill-opacity=\"1\" stroke=\"#505050\" stroke-width=\"0\"/><path aria-label=\"x1: 1405; x2: 1420.9; level: 33; level2: 33.9; status: Default; sf: exp_impl at exp.jl:215 [inlined]\" role=\"graphics-symbol\" aria-roledescription=\"rect mark\" d=\"M224.8,98.66666666666669h2.544000000000011v8h-2.544000000000011Z\" fill=\"#4c78a8\" fill-opacity=\"1\" stroke=\"#505050\" stroke-width=\"0\"/><path aria-label=\"x1: 1405; x2: 1406.9; level: 34; level2: 34.9; status: Default; sf: table_unpack at exp.jl:179 [inlined]\" role=\"graphics-symbol\" aria-roledescription=\"rect mark\" d=\"M224.8,89.77777777777777h0.30400000000000205v8.000000000000014h-0.30400000000000205Z\" fill=\"#4c78a8\" fill-opacity=\"1\" stroke=\"#505050\" stroke-width=\"0\"/><path aria-label=\"x1: 1405; x2: 1406.9; level: 35; level2: 35.9; status: Default; sf: &amp; at int.jl:1042 [inlined]\" role=\"graphics-symbol\" aria-roledescription=\"rect mark\" d=\"M224.8,80.88888888888891h0.30400000000000205v7.999999999999972h-0.30400000000000205Z\" fill=\"#4c78a8\" fill-opacity=\"1\" stroke=\"#505050\" stroke-width=\"0\"/><path aria-label=\"x1: 1405; x2: 1406.9; level: 36; level2: 36.9; status: Default; sf: &amp; at int.jl:347 [inlined]\" role=\"graphics-symbol\" aria-roledescription=\"rect mark\" d=\"M224.8,72.00000000000001h0.30400000000000205v7.999999999999972h-0.30400000000000205Z\" fill=\"#4c78a8\" fill-opacity=\"1\" stroke=\"#505050\" stroke-width=\"0\"/><path aria-label=\"x1: 1407; x2: 1407.9; level: 34; level2: 34.9; status: Default; sf: table_unpack at exp.jl:180 [inlined]\" role=\"graphics-symbol\" aria-roledescription=\"rect mark\" d=\"M225.11999999999998,89.77777777777777h0.14400000000003388v8.000000000000014h-0.14400000000003388Z\" fill=\"#4c78a8\" fill-opacity=\"1\" stroke=\"#505050\" stroke-width=\"0\"/><path aria-label=\"x1: 1408; x2: 1416.9; level: 34; level2: 34.9; status: Default; sf: table_unpack at exp.jl:181 [inlined]\" role=\"graphics-symbol\" aria-roledescription=\"rect mark\" d=\"M225.28,89.77777777777777h1.4240000000000066v8.000000000000014h-1.4240000000000066Z\" fill=\"#4c78a8\" fill-opacity=\"1\" stroke=\"#505050\" stroke-width=\"0\"/><path aria-label=\"x1: 1408; x2: 1414.9; level: 35; level2: 35.9; status: Default; sf: &amp; at int.jl:347 [inlined]\" role=\"graphics-symbol\" aria-roledescription=\"rect mark\" d=\"M225.28,80.88888888888891h1.1040000000000134v7.999999999999972h-1.1040000000000134Z\" fill=\"#4c78a8\" fill-opacity=\"1\" stroke=\"#505050\" stroke-width=\"0\"/><path aria-label=\"x1: 1415; x2: 1416.9; level: 35; level2: 35.9; status: Default; sf: | at int.jl:372 [inlined]\" role=\"graphics-symbol\" aria-roledescription=\"rect mark\" d=\"M226.39999999999998,80.88888888888891h0.30400000000003047v7.999999999999972h-0.30400000000003047Z\" fill=\"#4c78a8\" fill-opacity=\"1\" stroke=\"#505050\" stroke-width=\"0\"/><path aria-label=\"x1: 1417; x2: 1420.9; level: 34; level2: 34.9; status: Default; sf: table_unpack at exp.jl:182 [inlined]\" role=\"graphics-symbol\" aria-roledescription=\"rect mark\" d=\"M226.72,89.77777777777777h0.6240000000000236v8.000000000000014h-0.6240000000000236Z\" fill=\"#4c78a8\" fill-opacity=\"1\" stroke=\"#505050\" stroke-width=\"0\"/><path aria-label=\"x1: 1417; x2: 1417.9; level: 35; level2: 35.9; status: Default; sf: reinterpret at essentials.jl:513 [inlined]\" role=\"graphics-symbol\" aria-roledescription=\"rect mark\" d=\"M226.72,80.88888888888891h0.14400000000000546v7.999999999999972h-0.14400000000000546Z\" fill=\"#4c78a8\" fill-opacity=\"1\" stroke=\"#505050\" stroke-width=\"0\"/><path aria-label=\"x1: 1418; x2: 1420.9; level: 35; level2: 35.9; status: Default; sf: &gt;&gt; at int.jl:508 [inlined]\" role=\"graphics-symbol\" aria-roledescription=\"rect mark\" d=\"M226.88000000000002,80.88888888888891h0.46399999999999864v7.999999999999972h-0.46399999999999864Z\" fill=\"#4c78a8\" fill-opacity=\"1\" stroke=\"#505050\" stroke-width=\"0\"/><path aria-label=\"x1: 1418; x2: 1420.9; level: 36; level2: 36.9; status: Default; sf: &gt;&gt; at int.jl:502 [inlined]\" role=\"graphics-symbol\" aria-roledescription=\"rect mark\" d=\"M226.88000000000002,72.00000000000001h0.46399999999999864v7.999999999999972h-0.46399999999999864Z\" fill=\"#4c78a8\" fill-opacity=\"1\" stroke=\"#505050\" stroke-width=\"0\"/><path aria-label=\"x1: 1421; x2: 1441.9; level: 33; level2: 33.9; status: Default; sf: exp_impl at exp.jl:216 [inlined]\" role=\"graphics-symbol\" aria-roledescription=\"rect mark\" d=\"M227.36,98.66666666666669h3.343999999999994v8h-3.343999999999994Z\" fill=\"#4c78a8\" fill-opacity=\"1\" stroke=\"#505050\" stroke-width=\"0\"/><path aria-label=\"x1: 1421; x2: 1422.9; level: 34; level2: 34.9; status: Default; sf: + at float.jl:408 [inlined]\" role=\"graphics-symbol\" aria-roledescription=\"rect mark\" d=\"M227.36,89.77777777777777h0.3039999999999736v8.000000000000014h-0.3039999999999736Z\" fill=\"#4c78a8\" fill-opacity=\"1\" stroke=\"#505050\" stroke-width=\"0\"/><path aria-label=\"x1: 1423; x2: 1426.9; level: 34; level2: 34.9; status: Default; sf: muladd at float.jl:413 [inlined]\" role=\"graphics-symbol\" aria-roledescription=\"rect mark\" d=\"M227.68,89.77777777777777h0.6240000000000236v8.000000000000014h-0.6240000000000236Z\" fill=\"#4c78a8\" fill-opacity=\"1\" stroke=\"#505050\" stroke-width=\"0\"/><path aria-label=\"x1: 1427; x2: 1441.9; level: 34; level2: 34.9; status: Default; sf: expm1b_kernel at exp.jl:78 [inlined]\" role=\"graphics-symbol\" aria-roledescription=\"rect mark\" d=\"M228.32,89.77777777777777h2.3840000000000146v8.000000000000014h-2.3840000000000146Z\" fill=\"#4c78a8\" fill-opacity=\"1\" stroke=\"#505050\" stroke-width=\"0\"/><path aria-label=\"x1: 1427; x2: 1435.9; level: 35; level2: 35.9; status: Default; sf: * at float.jl:410 [inlined]\" role=\"graphics-symbol\" aria-roledescription=\"rect mark\" d=\"M228.32,80.88888888888891h1.4240000000000066v7.999999999999972h-1.4240000000000066Z\" fill=\"#4c78a8\" fill-opacity=\"1\" stroke=\"#505050\" stroke-width=\"0\"/><path aria-label=\"x1: 1436; x2: 1441.9; level: 35; level2: 35.9; status: Default; sf: evalpoly at math.jl:177 [inlined]\" role=\"graphics-symbol\" aria-roledescription=\"rect mark\" d=\"M229.76000000000002,80.88888888888891h0.9439999999999884v7.999999999999972h-0.9439999999999884Z\" fill=\"#4c78a8\" fill-opacity=\"1\" stroke=\"#505050\" stroke-width=\"0\"/><path aria-label=\"x1: 1436; x2: 1441.9; level: 36; level2: 36.9; status: Default; sf: macro expansion at math.jl:178 [inlined]\" role=\"graphics-symbol\" aria-roledescription=\"rect mark\" d=\"M229.76000000000002,72.00000000000001h0.9439999999999884v7.999999999999972h-0.9439999999999884Z\" fill=\"#4c78a8\" fill-opacity=\"1\" stroke=\"#505050\" stroke-width=\"0\"/><path aria-label=\"x1: 1436; x2: 1441.9; level: 37; level2: 37.9; status: Default; sf: muladd at float.jl:413 [inlined]\" role=\"graphics-symbol\" aria-roledescription=\"rect mark\" d=\"M229.76000000000002,63.111111111111114h0.9439999999999884v8.000000000000014h-0.9439999999999884Z\" fill=\"#4c78a8\" fill-opacity=\"1\" stroke=\"#505050\" stroke-width=\"0\"/><path aria-label=\"x1: 1442; x2: 1452.9; level: 33; level2: 33.9; status: Default; sf: exp_impl at exp.jl:218 [inlined]\" role=\"graphics-symbol\" aria-roledescription=\"rect mark\" d=\"M230.72,98.66666666666669h1.7439999999999998v8h-1.7439999999999998Z\" fill=\"#4c78a8\" fill-opacity=\"1\" stroke=\"#505050\" stroke-width=\"0\"/><path aria-label=\"x1: 1442; x2: 1452.9; level: 34; level2: 34.9; status: Default; sf: abs at float.jl:609 [inlined]\" role=\"graphics-symbol\" aria-roledescription=\"rect mark\" d=\"M230.72,89.77777777777777h1.7439999999999998v8.000000000000014h-1.7439999999999998Z\" fill=\"#4c78a8\" fill-opacity=\"1\" stroke=\"#505050\" stroke-width=\"0\"/><path aria-label=\"x1: 1453; x2: 1454.9; level: 33; level2: 33.9; status: Default; sf: exp_impl at exp.jl:228 [inlined]\" role=\"graphics-symbol\" aria-roledescription=\"rect mark\" d=\"M232.48000000000002,98.66666666666669h0.30400000000000205v8h-0.30400000000000205Z\" fill=\"#4c78a8\" fill-opacity=\"1\" stroke=\"#505050\" stroke-width=\"0\"/><path aria-label=\"x1: 1453; x2: 1454.9; level: 34; level2: 34.9; status: Default; sf: &lt;&lt; at int.jl:510 [inlined]\" role=\"graphics-symbol\" aria-roledescription=\"rect mark\" d=\"M232.48000000000002,89.77777777777777h0.30400000000000205v8.000000000000014h-0.30400000000000205Z\" fill=\"#4c78a8\" fill-opacity=\"1\" stroke=\"#505050\" stroke-width=\"0\"/><path aria-label=\"x1: 1453; x2: 1454.9; level: 35; level2: 35.9; status: Default; sf: &lt;&lt; at int.jl:503 [inlined]\" role=\"graphics-symbol\" aria-roledescription=\"rect mark\" d=\"M232.48000000000002,80.88888888888891h0.30400000000000205v7.999999999999972h-0.30400000000000205Z\" fill=\"#4c78a8\" fill-opacity=\"1\" stroke=\"#505050\" stroke-width=\"0\"/><path aria-label=\"x1: 1455; x2: 1461.9; level: 33; level2: 33.9; status: Default; sf: exp_impl at exp.jl:229 [inlined]\" role=\"graphics-symbol\" aria-roledescription=\"rect mark\" d=\"M232.79999999999998,98.66666666666669h1.1040000000000418v8h-1.1040000000000418Z\" fill=\"#4c78a8\" fill-opacity=\"1\" stroke=\"#505050\" stroke-width=\"0\"/><path aria-label=\"x1: 1455; x2: 1458.9; level: 34; level2: 34.9; status: Default; sf: reinterpret at essentials.jl:513 [inlined]\" role=\"graphics-symbol\" aria-roledescription=\"rect mark\" d=\"M232.79999999999998,89.77777777777777h0.6240000000000521v8.000000000000014h-0.6240000000000521Z\" fill=\"#4c78a8\" fill-opacity=\"1\" stroke=\"#505050\" stroke-width=\"0\"/><path aria-label=\"x1: 1459; x2: 1461.9; level: 34; level2: 34.9; status: Default; sf: + at int.jl:87 [inlined]\" role=\"graphics-symbol\" aria-roledescription=\"rect mark\" d=\"M233.44,89.77777777777777h0.46400000000002706v8.000000000000014h-0.46400000000002706Z\" fill=\"#4c78a8\" fill-opacity=\"1\" stroke=\"#505050\" stroke-width=\"0\"/><path aria-label=\"x1: 1478; x2: 1499.9; level: 29; level2: 29.9; status: Default; sf: cov!(cK::Matrix{Float64}, k::GaussianProcesses.Mat12Iso{Float64}, X1::Matrix{Float64}, X2::Matrix{Float64}, data::GaussianProcesses.IsotropicData{Matrix{Float64}}) at kernels.jl:68\" role=\"graphics-symbol\" aria-roledescription=\"rect mark\" d=\"M236.48,134.22222222222223h3.504000000000019v7.999999999999972h-3.504000000000019Z\" fill=\"#4c78a8\" fill-opacity=\"1\" stroke=\"#505050\" stroke-width=\"0\"/><path aria-label=\"x1: 1500; x2: 1506.9; level: 29; level2: 29.9; status: Default; sf: cov!(cK::Matrix{Float64}, k::GaussianProcesses.Mat12Iso{Float64}, X1::Matrix{Float64}, X2::Matrix{Float64}, data::GaussianProcesses.IsotropicData{Matrix{Float64}}) at kernels.jl:69\" role=\"graphics-symbol\" aria-roledescription=\"rect mark\" d=\"M240,134.22222222222223h1.1040000000000418v7.999999999999972h-1.1040000000000418Z\" fill=\"#4c78a8\" fill-opacity=\"1\" stroke=\"#505050\" stroke-width=\"0\"/><path aria-label=\"x1: 1500; x2: 1500.9; level: 30; level2: 30.9; status: Default; sf: iterate at range.jl:891 [inlined]\" role=\"graphics-symbol\" aria-roledescription=\"rect mark\" d=\"M240,125.33333333333334h0.14400000000000546v8h-0.14400000000000546Z\" fill=\"#4c78a8\" fill-opacity=\"1\" stroke=\"#505050\" stroke-width=\"0\"/><path aria-label=\"x1: 1500; x2: 1500.9; level: 31; level2: 31.9; status: Default; sf: == at promotion.jl:499 [inlined]\" role=\"graphics-symbol\" aria-roledescription=\"rect mark\" d=\"M240,116.44444444444444h0.14400000000000546v8h-0.14400000000000546Z\" fill=\"#4c78a8\" fill-opacity=\"1\" stroke=\"#505050\" stroke-width=\"0\"/><path aria-label=\"x1: 1507; x2: 1507.9; level: 29; level2: 29.9; status: Default; sf: exp(x::Float64) at exp.jl:325\" role=\"graphics-symbol\" aria-roledescription=\"rect mark\" d=\"M241.12,134.22222222222223h0.14400000000000546v7.999999999999972h-0.14400000000000546Z\" fill=\"#4c78a8\" fill-opacity=\"1\" stroke=\"#505050\" stroke-width=\"0\"/><path aria-label=\"x1: 1508; x2: 1678.9; level: 27; level2: 27.9; status: Default; sf: predictMVN(xpred::Matrix{Float64}, xtrain::Matrix{Float64}, ytrain::Vector{Float64}, kernel::GaussianProcesses.Mat12Iso{Float64}, meanf::GaussianProcesses.MeanZero, alpha::Vector{Float64}, covstrat::GaussianProcesses.FullCovariance, Ktrain::PDMats.PDMat{Float64, Matrix{Float64}}) at GP.jl:45\" role=\"graphics-symbol\" aria-roledescription=\"rect mark\" d=\"M241.27999999999997,152h27.34400000000005v8h-27.34400000000005Z\" fill=\"#4c78a8\" fill-opacity=\"1\" stroke=\"#505050\" stroke-width=\"0\"/><path aria-label=\"x1: 1508; x2: 1649.9; level: 28; level2: 28.9; status: Default; sf: cov at kernels.jl:35 [inlined]\" role=\"graphics-symbol\" aria-roledescription=\"rect mark\" d=\"M241.27999999999997,143.11111111111114h22.704000000000008v7.999999999999972h-22.704000000000008Z\" fill=\"#4c78a8\" fill-opacity=\"1\" stroke=\"#505050\" stroke-width=\"0\"/><path aria-label=\"x1: 1508; x2: 1649.9; level: 29; level2: 29.9; status: Default; sf: Array at boot.jl:492 [inlined]\" role=\"graphics-symbol\" aria-roledescription=\"rect mark\" d=\"M241.27999999999997,134.22222222222223h22.704000000000008v7.999999999999972h-22.704000000000008Z\" fill=\"#4c78a8\" fill-opacity=\"1\" stroke=\"#505050\" stroke-width=\"0\"/><path aria-label=\"x1: 1508; x2: 1649.9; level: 30; level2: 30.9; status: Garbage collection; sf: Array at boot.jl:479 [inlined]\" role=\"graphics-symbol\" aria-roledescription=\"rect mark\" d=\"M241.27999999999997,125.33333333333334h22.704000000000008v8h-22.704000000000008Z\" fill=\"#f58518\" fill-opacity=\"1\" stroke=\"#505050\" stroke-width=\"0\"/><path aria-label=\"x1: 1650; x2: 1678.9; level: 28; level2: 28.9; status: Default; sf: cov at kernels.jl:36 [inlined]\" role=\"graphics-symbol\" aria-roledescription=\"rect mark\" d=\"M264,143.11111111111114h4.624000000000024v7.999999999999972h-4.624000000000024Z\" fill=\"#4c78a8\" fill-opacity=\"1\" stroke=\"#505050\" stroke-width=\"0\"/><path aria-label=\"x1: 1650; x2: 1652.9; level: 29; level2: 29.9; status: Default; sf: cov!(cK::Matrix{Float64}, k::GaussianProcesses.Mat12Iso{Float64}, X1::Matrix{Float64}, X2::Matrix{Float64}, data::GaussianProcesses.IsotropicData{Matrix{Float64}}) at kernels.jl:0\" role=\"graphics-symbol\" aria-roledescription=\"rect mark\" d=\"M264,134.22222222222223h0.4640000000000555v7.999999999999972h-0.4640000000000555Z\" fill=\"#4c78a8\" fill-opacity=\"1\" stroke=\"#505050\" stroke-width=\"0\"/><path aria-label=\"x1: 1653; x2: 1654.9; level: 29; level2: 29.9; status: Default; sf: cov!(cK::Matrix{Float64}, k::GaussianProcesses.Mat12Iso{Float64}, X1::Matrix{Float64}, X2::Matrix{Float64}, data::GaussianProcesses.IsotropicData{Matrix{Float64}}) at kernels.jl:56\" role=\"graphics-symbol\" aria-roledescription=\"rect mark\" d=\"M264.48,134.22222222222223h0.3039999999999736v7.999999999999972h-0.3039999999999736Z\" fill=\"#4c78a8\" fill-opacity=\"1\" stroke=\"#505050\" stroke-width=\"0\"/><path aria-label=\"x1: 1655; x2: 1678.9; level: 29; level2: 29.9; status: Default; sf: cov!(cK::Matrix{Float64}, k::GaussianProcesses.Mat12Iso{Float64}, X1::Matrix{Float64}, X2::Matrix{Float64}, data::GaussianProcesses.IsotropicData{Matrix{Float64}}) at kernels.jl:58\" role=\"graphics-symbol\" aria-roledescription=\"rect mark\" d=\"M264.8,134.22222222222223h3.8240000000000123v7.999999999999972h-3.8240000000000123Z\" fill=\"#4c78a8\" fill-opacity=\"1\" stroke=\"#505050\" stroke-width=\"0\"/><path aria-label=\"x1: 1655; x2: 1655.9; level: 30; level2: 30.9; status: Default; sf: cov!(cK::Matrix{Float64}, k::GaussianProcesses.Mat12Iso{Float64}, X::Matrix{Float64}, data::GaussianProcesses.IsotropicData{Matrix{Float64}}) at kernels.jl:0\" role=\"graphics-symbol\" aria-roledescription=\"rect mark\" d=\"M264.8,125.33333333333334h0.14400000000000546v8h-0.14400000000000546Z\" fill=\"#4c78a8\" fill-opacity=\"1\" stroke=\"#505050\" stroke-width=\"0\"/><path aria-label=\"x1: 1656; x2: 1656.9; level: 30; level2: 30.9; status: Default; sf: cov!(cK::Matrix{Float64}, k::GaussianProcesses.Mat12Iso{Float64}, X::Matrix{Float64}, data::GaussianProcesses.IsotropicData{Matrix{Float64}}) at kernels.jl:40\" role=\"graphics-symbol\" aria-roledescription=\"rect mark\" d=\"M264.96,125.33333333333334h0.14400000000000546v8h-0.14400000000000546Z\" fill=\"#4c78a8\" fill-opacity=\"1\" stroke=\"#505050\" stroke-width=\"0\"/><path aria-label=\"x1: 1656; x2: 1656.9; level: 31; level2: 31.9; status: Default; sf: size at array.jl:150 [inlined]\" role=\"graphics-symbol\" aria-roledescription=\"rect mark\" d=\"M264.96,116.44444444444444h0.14400000000000546v8h-0.14400000000000546Z\" fill=\"#4c78a8\" fill-opacity=\"1\" stroke=\"#505050\" stroke-width=\"0\"/><path aria-label=\"x1: 1657; x2: 1675.9; level: 30; level2: 30.9; status: Default; sf: cov!(cK::Matrix{Float64}, k::GaussianProcesses.Mat12Iso{Float64}, X::Matrix{Float64}, data::GaussianProcesses.IsotropicData{Matrix{Float64}}) at kernels.jl:43\" role=\"graphics-symbol\" aria-roledescription=\"rect mark\" d=\"M265.12,125.33333333333334h3.024000000000001v8h-3.024000000000001Z\" fill=\"#4c78a8\" fill-opacity=\"1\" stroke=\"#505050\" stroke-width=\"0\"/><path aria-label=\"x1: 1657; x2: 1659.9; level: 31; level2: 31.9; status: Default; sf: setindex! at array.jl:971 [inlined]\" role=\"graphics-symbol\" aria-roledescription=\"rect mark\" d=\"M265.12,116.44444444444444h0.46399999999999864v8h-0.46399999999999864Z\" fill=\"#4c78a8\" fill-opacity=\"1\" stroke=\"#505050\" stroke-width=\"0\"/><path aria-label=\"x1: 1660; x2: 1675.9; level: 31; level2: 31.9; status: Default; sf: cov_ij at stationary.jl:46 [inlined]\" role=\"graphics-symbol\" aria-roledescription=\"rect mark\" d=\"M265.6,116.44444444444444h2.5439999999999827v8h-2.5439999999999827Z\" fill=\"#4c78a8\" fill-opacity=\"1\" stroke=\"#505050\" stroke-width=\"0\"/><path aria-label=\"x1: 1660; x2: 1662.9; level: 32; level2: 32.9; status: Default; sf: getindex at essentials.jl:14 [inlined]\" role=\"graphics-symbol\" aria-roledescription=\"rect mark\" d=\"M265.6,107.55555555555559h0.46399999999999864v7.999999999999957h-0.46399999999999864Z\" fill=\"#4c78a8\" fill-opacity=\"1\" stroke=\"#505050\" stroke-width=\"0\"/><path aria-label=\"x1: 1663; x2: 1675.9; level: 32; level2: 32.9; status: Default; sf: cov at mat12_iso.jl:41 [inlined]\" role=\"graphics-symbol\" aria-roledescription=\"rect mark\" d=\"M266.08,107.55555555555559h2.0640000000000214v7.999999999999957h-2.0640000000000214Z\" fill=\"#4c78a8\" fill-opacity=\"1\" stroke=\"#505050\" stroke-width=\"0\"/><path aria-label=\"x1: 1663; x2: 1663.9; level: 33; level2: 33.9; status: Default; sf: getproperty at Base.jl:37 [inlined]\" role=\"graphics-symbol\" aria-roledescription=\"rect mark\" d=\"M266.08,98.66666666666669h0.14400000000000546v8h-0.14400000000000546Z\" fill=\"#4c78a8\" fill-opacity=\"1\" stroke=\"#505050\" stroke-width=\"0\"/><path aria-label=\"x1: 1664; x2: 1664.9; level: 33; level2: 33.9; status: Default; sf: * at float.jl:410 [inlined]\" role=\"graphics-symbol\" aria-roledescription=\"rect mark\" d=\"M266.24,98.66666666666669h0.14400000000000546v8h-0.14400000000000546Z\" fill=\"#4c78a8\" fill-opacity=\"1\" stroke=\"#505050\" stroke-width=\"0\"/><path aria-label=\"x1: 1665; x2: 1675.9; level: 33; level2: 33.9; status: Default; sf: exp(x::Float64) at exp.jl:325\" role=\"graphics-symbol\" aria-roledescription=\"rect mark\" d=\"M266.40000000000003,98.66666666666669h1.7439999999999714v8h-1.7439999999999714Z\" fill=\"#4c78a8\" fill-opacity=\"1\" stroke=\"#505050\" stroke-width=\"0\"/><path aria-label=\"x1: 1665; x2: 1665.9; level: 34; level2: 34.9; status: Default; sf: exp_impl at exp.jl:215 [inlined]\" role=\"graphics-symbol\" aria-roledescription=\"rect mark\" d=\"M266.40000000000003,89.77777777777777h0.14400000000000546v8.000000000000014h-0.14400000000000546Z\" fill=\"#4c78a8\" fill-opacity=\"1\" stroke=\"#505050\" stroke-width=\"0\"/><path aria-label=\"x1: 1665; x2: 1665.9; level: 35; level2: 35.9; status: Default; sf: table_unpack at exp.jl:181 [inlined]\" role=\"graphics-symbol\" aria-roledescription=\"rect mark\" d=\"M266.40000000000003,80.88888888888891h0.14400000000000546v7.999999999999972h-0.14400000000000546Z\" fill=\"#4c78a8\" fill-opacity=\"1\" stroke=\"#505050\" stroke-width=\"0\"/><path aria-label=\"x1: 1665; x2: 1665.9; level: 36; level2: 36.9; status: Default; sf: | at int.jl:372 [inlined]\" role=\"graphics-symbol\" aria-roledescription=\"rect mark\" d=\"M266.40000000000003,72.00000000000001h0.14400000000000546v7.999999999999972h-0.14400000000000546Z\" fill=\"#4c78a8\" fill-opacity=\"1\" stroke=\"#505050\" stroke-width=\"0\"/><path aria-label=\"x1: 1666; x2: 1669.9; level: 34; level2: 34.9; status: Default; sf: exp_impl at exp.jl:216 [inlined]\" role=\"graphics-symbol\" aria-roledescription=\"rect mark\" d=\"M266.56,89.77777777777777h0.6240000000000236v8.000000000000014h-0.6240000000000236Z\" fill=\"#4c78a8\" fill-opacity=\"1\" stroke=\"#505050\" stroke-width=\"0\"/><path aria-label=\"x1: 1666; x2: 1666.9; level: 35; level2: 35.9; status: Default; sf: + at float.jl:408 [inlined]\" role=\"graphics-symbol\" aria-roledescription=\"rect mark\" d=\"M266.56,80.88888888888891h0.14400000000000546v7.999999999999972h-0.14400000000000546Z\" fill=\"#4c78a8\" fill-opacity=\"1\" stroke=\"#505050\" stroke-width=\"0\"/><path aria-label=\"x1: 1667; x2: 1667.9; level: 35; level2: 35.9; status: Default; sf: muladd at float.jl:413 [inlined]\" role=\"graphics-symbol\" aria-roledescription=\"rect mark\" d=\"M266.71999999999997,80.88888888888891h0.1440000000000623v7.999999999999972h-0.1440000000000623Z\" fill=\"#4c78a8\" fill-opacity=\"1\" stroke=\"#505050\" stroke-width=\"0\"/><path aria-label=\"x1: 1668; x2: 1669.9; level: 35; level2: 35.9; status: Default; sf: expm1b_kernel at exp.jl:78 [inlined]\" role=\"graphics-symbol\" aria-roledescription=\"rect mark\" d=\"M266.88,80.88888888888891h0.30400000000003047v7.999999999999972h-0.30400000000003047Z\" fill=\"#4c78a8\" fill-opacity=\"1\" stroke=\"#505050\" stroke-width=\"0\"/><path aria-label=\"x1: 1668; x2: 1669.9; level: 36; level2: 36.9; status: Default; sf: * at float.jl:410 [inlined]\" role=\"graphics-symbol\" aria-roledescription=\"rect mark\" d=\"M266.88,72.00000000000001h0.30400000000003047v7.999999999999972h-0.30400000000003047Z\" fill=\"#4c78a8\" fill-opacity=\"1\" stroke=\"#505050\" stroke-width=\"0\"/><path aria-label=\"x1: 1670; x2: 1671.9; level: 34; level2: 34.9; status: Default; sf: exp_impl at exp.jl:218 [inlined]\" role=\"graphics-symbol\" aria-roledescription=\"rect mark\" d=\"M267.2,89.77777777777777h0.30400000000003047v8.000000000000014h-0.30400000000003047Z\" fill=\"#4c78a8\" fill-opacity=\"1\" stroke=\"#505050\" stroke-width=\"0\"/><path aria-label=\"x1: 1670; x2: 1671.9; level: 35; level2: 35.9; status: Default; sf: abs at float.jl:609 [inlined]\" role=\"graphics-symbol\" aria-roledescription=\"rect mark\" d=\"M267.2,80.88888888888891h0.30400000000003047v7.999999999999972h-0.30400000000003047Z\" fill=\"#4c78a8\" fill-opacity=\"1\" stroke=\"#505050\" stroke-width=\"0\"/><path aria-label=\"x1: 1672; x2: 1673.9; level: 34; level2: 34.9; status: Default; sf: exp_impl at exp.jl:228 [inlined]\" role=\"graphics-symbol\" aria-roledescription=\"rect mark\" d=\"M267.52,89.77777777777777h0.30400000000003047v8.000000000000014h-0.30400000000003047Z\" fill=\"#4c78a8\" fill-opacity=\"1\" stroke=\"#505050\" stroke-width=\"0\"/><path aria-label=\"x1: 1672; x2: 1673.9; level: 35; level2: 35.9; status: Default; sf: &lt;&lt; at int.jl:510 [inlined]\" role=\"graphics-symbol\" aria-roledescription=\"rect mark\" d=\"M267.52,80.88888888888891h0.30400000000003047v7.999999999999972h-0.30400000000003047Z\" fill=\"#4c78a8\" fill-opacity=\"1\" stroke=\"#505050\" stroke-width=\"0\"/><path aria-label=\"x1: 1672; x2: 1673.9; level: 36; level2: 36.9; status: Default; sf: &lt;&lt; at int.jl:503 [inlined]\" role=\"graphics-symbol\" aria-roledescription=\"rect mark\" d=\"M267.52,72.00000000000001h0.30400000000003047v7.999999999999972h-0.30400000000003047Z\" fill=\"#4c78a8\" fill-opacity=\"1\" stroke=\"#505050\" stroke-width=\"0\"/><path aria-label=\"x1: 1676; x2: 1676.9; level: 30; level2: 30.9; status: Default; sf: cov!(cK::Matrix{Float64}, k::GaussianProcesses.Mat12Iso{Float64}, X::Matrix{Float64}, data::GaussianProcesses.IsotropicData{Matrix{Float64}}) at kernels.jl:44\" role=\"graphics-symbol\" aria-roledescription=\"rect mark\" d=\"M268.16,125.33333333333334h0.14400000000000546v8h-0.14400000000000546Z\" fill=\"#4c78a8\" fill-opacity=\"1\" stroke=\"#505050\" stroke-width=\"0\"/><path aria-label=\"x1: 1677; x2: 1677.9; level: 30; level2: 30.9; status: Default; sf: exp(x::Float64) at exp.jl:325\" role=\"graphics-symbol\" aria-roledescription=\"rect mark\" d=\"M268.32,125.33333333333334h0.1440000000000623v8h-0.1440000000000623Z\" fill=\"#4c78a8\" fill-opacity=\"1\" stroke=\"#505050\" stroke-width=\"0\"/><path aria-label=\"x1: 1679; x2: 1785.9; level: 27; level2: 27.9; status: Default; sf: predictMVN(xpred::Matrix{Float64}, xtrain::Matrix{Float64}, ytrain::Vector{Float64}, kernel::GaussianProcesses.Mat12Iso{Float64}, meanf::GaussianProcesses.MeanZero, alpha::Vector{Float64}, covstrat::GaussianProcesses.FullCovariance, Ktrain::PDMats.PDMat{Float64, Matrix{Float64}}) at GP.jl:46\" role=\"graphics-symbol\" aria-roledescription=\"rect mark\" d=\"M268.64,152h17.103999999999985v8h-17.103999999999985Z\" fill=\"#4c78a8\" fill-opacity=\"1\" stroke=\"#505050\" stroke-width=\"0\"/><path aria-label=\"x1: 1679; x2: 1785.9; level: 28; level2: 28.9; status: Default; sf: mean at mZero.jl:16 [inlined]\" role=\"graphics-symbol\" aria-roledescription=\"rect mark\" d=\"M268.64,143.11111111111114h17.103999999999985v7.999999999999972h-17.103999999999985Z\" fill=\"#4c78a8\" fill-opacity=\"1\" stroke=\"#505050\" stroke-width=\"0\"/><path aria-label=\"x1: 1679; x2: 1785.9; level: 29; level2: 29.9; status: Default; sf: fill at array.jl:530 [inlined]\" role=\"graphics-symbol\" aria-roledescription=\"rect mark\" d=\"M268.64,134.22222222222223h17.103999999999985v7.999999999999972h-17.103999999999985Z\" fill=\"#4c78a8\" fill-opacity=\"1\" stroke=\"#505050\" stroke-width=\"0\"/><path aria-label=\"x1: 1679; x2: 1785.9; level: 30; level2: 30.9; status: Default; sf: fill at array.jl:532 [inlined]\" role=\"graphics-symbol\" aria-roledescription=\"rect mark\" d=\"M268.64,125.33333333333334h17.103999999999985v8h-17.103999999999985Z\" fill=\"#4c78a8\" fill-opacity=\"1\" stroke=\"#505050\" stroke-width=\"0\"/><path aria-label=\"x1: 1679; x2: 1682.9; level: 31; level2: 31.9; status: Default; sf: fill! at array.jl:349 [inlined]\" role=\"graphics-symbol\" aria-roledescription=\"rect mark\" d=\"M268.64,116.44444444444444h0.6240000000000236v8h-0.6240000000000236Z\" fill=\"#4c78a8\" fill-opacity=\"1\" stroke=\"#505050\" stroke-width=\"0\"/><path aria-label=\"x1: 1679; x2: 1682.9; level: 32; level2: 32.9; status: Default; sf: setindex! at array.jl:969 [inlined]\" role=\"graphics-symbol\" aria-roledescription=\"rect mark\" d=\"M268.64,107.55555555555559h0.6240000000000236v7.999999999999957h-0.6240000000000236Z\" fill=\"#4c78a8\" fill-opacity=\"1\" stroke=\"#505050\" stroke-width=\"0\"/><path aria-label=\"x1: 1683; x2: 1785.9; level: 31; level2: 31.9; status: Default; sf: Array at boot.jl:486 [inlined]\" role=\"graphics-symbol\" aria-roledescription=\"rect mark\" d=\"M269.28000000000003,116.44444444444444h16.463999999999942v8h-16.463999999999942Z\" fill=\"#4c78a8\" fill-opacity=\"1\" stroke=\"#505050\" stroke-width=\"0\"/><path aria-label=\"x1: 1683; x2: 1785.9; level: 32; level2: 32.9; status: Garbage collection; sf: Array at boot.jl:477 [inlined]\" role=\"graphics-symbol\" aria-roledescription=\"rect mark\" d=\"M269.28000000000003,107.55555555555559h16.463999999999942v7.999999999999957h-16.463999999999942Z\" fill=\"#f58518\" fill-opacity=\"1\" stroke=\"#505050\" stroke-width=\"0\"/><path aria-label=\"x1: 1786; x2: 2371.9; level: 27; level2: 27.9; status: Default; sf: predictMVN(xpred::Matrix{Float64}, xtrain::Matrix{Float64}, ytrain::Vector{Float64}, kernel::GaussianProcesses.Mat12Iso{Float64}, meanf::GaussianProcesses.MeanZero, alpha::Vector{Float64}, covstrat::GaussianProcesses.FullCovariance, Ktrain::PDMats.PDMat{Float64, Matrix{Float64}}) at GP.jl:47\" role=\"graphics-symbol\" aria-roledescription=\"rect mark\" d=\"M285.76,152h93.74400000000003v8h-93.74400000000003Z\" fill=\"#4c78a8\" fill-opacity=\"1\" stroke=\"#505050\" stroke-width=\"0\"/><path aria-label=\"x1: 1786; x2: 1786.9; level: 28; level2: 28.9; status: Default; sf: +(A::Vector{Float64}, Bs::Vector{Float64}) at arraymath.jl:12\" role=\"graphics-symbol\" aria-roledescription=\"rect mark\" d=\"M285.76,143.11111111111114h0.14400000000000546v7.999999999999972h-0.14400000000000546Z\" fill=\"#4c78a8\" fill-opacity=\"1\" stroke=\"#505050\" stroke-width=\"0\"/><path aria-label=\"x1: 1787; x2: 1787.9; level: 28; level2: 28.9; status: Default; sf: +(A::Vector{Float64}, Bs::Vector{Float64}) at arraymath.jl:16\" role=\"graphics-symbol\" aria-roledescription=\"rect mark\" d=\"M285.92,143.11111111111114h0.14400000000000546v7.999999999999972h-0.14400000000000546Z\" fill=\"#4c78a8\" fill-opacity=\"1\" stroke=\"#505050\" stroke-width=\"0\"/><path aria-label=\"x1: 1789; x2: 1789.9; level: 28; level2: 28.9; status: Default; sf: gemv!(y::Vector{Float64}, tA::Char, A::Matrix{Float64}, x::Vector{Float64}, α::Bool, β::Bool) at matmul.jl:490\" role=\"graphics-symbol\" aria-roledescription=\"rect mark\" d=\"M286.24,143.11111111111114h0.14400000000000546v7.999999999999972h-0.14400000000000546Z\" fill=\"#4c78a8\" fill-opacity=\"1\" stroke=\"#505050\" stroke-width=\"0\"/><path aria-label=\"x1: 1790; x2: 1792.9; level: 28; level2: 28.9; status: Default; sf: predictMVN!(Kxx::Matrix{Float64}, Kff::PDMats.PDMat{Float64, Matrix{Float64}}, Kfx::Matrix{Float64}, mx::Vector{Float64}, αf::Vector{Float64}) at GP.jl:25\" role=\"graphics-symbol\" aria-roledescription=\"rect mark\" d=\"M286.4,143.11111111111114h0.4640000000000555v7.999999999999972h-0.4640000000000555Z\" fill=\"#4c78a8\" fill-opacity=\"1\" stroke=\"#505050\" stroke-width=\"0\"/><path aria-label=\"x1: 1793; x2: 1973.9; level: 28; level2: 28.9; status: Default; sf: predictMVN!(Kxx::Matrix{Float64}, Kff::PDMats.PDMat{Float64, Matrix{Float64}}, Kfx::Matrix{Float64}, mx::Vector{Float64}, αf::Vector{Float64}) at GP.jl:26\" role=\"graphics-symbol\" aria-roledescription=\"rect mark\" d=\"M286.88,143.11111111111114h28.944000000000017v7.999999999999972h-28.944000000000017Z\" fill=\"#4c78a8\" fill-opacity=\"1\" stroke=\"#505050\" stroke-width=\"0\"/><path aria-label=\"x1: 1793; x2: 1794.9; level: 29; level2: 29.9; status: Default; sf: +(A::Vector{Float64}, Bs::Vector{Float64}) at arraymath.jl:12\" role=\"graphics-symbol\" aria-roledescription=\"rect mark\" d=\"M286.88,134.22222222222223h0.30400000000003047v7.999999999999972h-0.30400000000003047Z\" fill=\"#4c78a8\" fill-opacity=\"1\" stroke=\"#505050\" stroke-width=\"0\"/><path aria-label=\"x1: 1795; x2: 1797.9; level: 29; level2: 29.9; status: Default; sf: +(A::Vector{Float64}, Bs::Vector{Float64}) at arraymath.jl:14\" role=\"graphics-symbol\" aria-roledescription=\"rect mark\" d=\"M287.2,134.22222222222223h0.46399999999999864v7.999999999999972h-0.46399999999999864Z\" fill=\"#4c78a8\" fill-opacity=\"1\" stroke=\"#505050\" stroke-width=\"0\"/><path aria-label=\"x1: 1795; x2: 1797.9; level: 30; level2: 30.9; status: Default; sf: promote_shape at indices.jl:169 [inlined]\" role=\"graphics-symbol\" aria-roledescription=\"rect mark\" d=\"M287.2,125.33333333333334h0.46399999999999864v8h-0.46399999999999864Z\" fill=\"#4c78a8\" fill-opacity=\"1\" stroke=\"#505050\" stroke-width=\"0\"/><path aria-label=\"x1: 1795; x2: 1797.9; level: 31; level2: 31.9; status: Default; sf: axes at abstractarray.jl:98 [inlined]\" role=\"graphics-symbol\" aria-roledescription=\"rect mark\" d=\"M287.2,116.44444444444444h0.46399999999999864v8h-0.46399999999999864Z\" fill=\"#4c78a8\" fill-opacity=\"1\" stroke=\"#505050\" stroke-width=\"0\"/><path aria-label=\"x1: 1795; x2: 1797.9; level: 32; level2: 32.9; status: Default; sf: size at array.jl:149 [inlined]\" role=\"graphics-symbol\" aria-roledescription=\"rect mark\" d=\"M287.2,107.55555555555559h0.46399999999999864v7.999999999999957h-0.46399999999999864Z\" fill=\"#4c78a8\" fill-opacity=\"1\" stroke=\"#505050\" stroke-width=\"0\"/><path aria-label=\"x1: 1798; x2: 1850.9; level: 29; level2: 29.9; status: Default; sf: +(A::Vector{Float64}, Bs::Vector{Float64}) at arraymath.jl:16\" role=\"graphics-symbol\" aria-roledescription=\"rect mark\" d=\"M287.68,134.22222222222223h8.463999999999999v7.999999999999972h-8.463999999999999Z\" fill=\"#4c78a8\" fill-opacity=\"1\" stroke=\"#505050\" stroke-width=\"0\"/><path aria-label=\"x1: 1798; x2: 1849.9; level: 30; level2: 30.9; status: Default; sf: broadcast_preserving_zero_d at broadcast.jl:862 [inlined]\" role=\"graphics-symbol\" aria-roledescription=\"rect mark\" d=\"M287.68,125.33333333333334h8.30400000000003v8h-8.30400000000003Z\" fill=\"#4c78a8\" fill-opacity=\"1\" stroke=\"#505050\" stroke-width=\"0\"/><path aria-label=\"x1: 1798; x2: 1849.9; level: 31; level2: 31.9; status: Default; sf: materialize at broadcast.jl:873 [inlined]\" role=\"graphics-symbol\" aria-roledescription=\"rect mark\" d=\"M287.68,116.44444444444444h8.30400000000003v8h-8.30400000000003Z\" fill=\"#4c78a8\" fill-opacity=\"1\" stroke=\"#505050\" stroke-width=\"0\"/><path aria-label=\"x1: 1798; x2: 1849.9; level: 32; level2: 32.9; status: Default; sf: copy at broadcast.jl:898 [inlined]\" role=\"graphics-symbol\" aria-roledescription=\"rect mark\" d=\"M287.68,107.55555555555559h8.30400000000003v7.999999999999957h-8.30400000000003Z\" fill=\"#4c78a8\" fill-opacity=\"1\" stroke=\"#505050\" stroke-width=\"0\"/><path aria-label=\"x1: 1798; x2: 1806.9; level: 33; level2: 33.9; status: Default; sf: copyto! at broadcast.jl:926 [inlined]\" role=\"graphics-symbol\" aria-roledescription=\"rect mark\" d=\"M287.68,98.66666666666669h1.424000000000035v8h-1.424000000000035Z\" fill=\"#4c78a8\" fill-opacity=\"1\" stroke=\"#505050\" stroke-width=\"0\"/><path aria-label=\"x1: 1798; x2: 1799.9; level: 34; level2: 34.9; status: Default; sf: copyto! at broadcast.jl:970 [inlined]\" role=\"graphics-symbol\" aria-roledescription=\"rect mark\" d=\"M287.68,89.77777777777777h0.30400000000003047v8.000000000000014h-0.30400000000003047Z\" fill=\"#4c78a8\" fill-opacity=\"1\" stroke=\"#505050\" stroke-width=\"0\"/><path aria-label=\"x1: 1798; x2: 1799.9; level: 35; level2: 35.9; status: Default; sf: preprocess at broadcast.jl:953 [inlined]\" role=\"graphics-symbol\" aria-roledescription=\"rect mark\" d=\"M287.68,80.88888888888891h0.30400000000003047v7.999999999999972h-0.30400000000003047Z\" fill=\"#4c78a8\" fill-opacity=\"1\" stroke=\"#505050\" stroke-width=\"0\"/><path aria-label=\"x1: 1798; x2: 1799.9; level: 36; level2: 36.9; status: Default; sf: preprocess_args at broadcast.jl:956 [inlined]\" role=\"graphics-symbol\" aria-roledescription=\"rect mark\" d=\"M287.68,72.00000000000001h0.30400000000003047v7.999999999999972h-0.30400000000003047Z\" fill=\"#4c78a8\" fill-opacity=\"1\" stroke=\"#505050\" stroke-width=\"0\"/><path aria-label=\"x1: 1798; x2: 1798.9; level: 37; level2: 37.9; status: Default; sf: preprocess at broadcast.jl:954 [inlined]\" role=\"graphics-symbol\" aria-roledescription=\"rect mark\" d=\"M287.68,63.111111111111114h0.14400000000000546v8.000000000000014h-0.14400000000000546Z\" fill=\"#4c78a8\" fill-opacity=\"1\" stroke=\"#505050\" stroke-width=\"0\"/><path aria-label=\"x1: 1798; x2: 1798.9; level: 38; level2: 38.9; status: Default; sf: broadcast_unalias at broadcast.jl:947 [inlined]\" role=\"graphics-symbol\" aria-roledescription=\"rect mark\" d=\"M287.68,54.222222222222214h0.14400000000000546v8.000000000000007h-0.14400000000000546Z\" fill=\"#4c78a8\" fill-opacity=\"1\" stroke=\"#505050\" stroke-width=\"0\"/><path aria-label=\"x1: 1798; x2: 1798.9; level: 39; level2: 39.9; status: Default; sf: unalias at abstractarray.jl:1480 [inlined]\" role=\"graphics-symbol\" aria-roledescription=\"rect mark\" d=\"M287.68,45.33333333333336h0.14400000000000546v7.9999999999999645h-0.14400000000000546Z\" fill=\"#4c78a8\" fill-opacity=\"1\" stroke=\"#505050\" stroke-width=\"0\"/><path aria-label=\"x1: 1798; x2: 1798.9; level: 40; level2: 40.9; status: Default; sf: mightalias at abstractarray.jl:1515 [inlined]\" role=\"graphics-symbol\" aria-roledescription=\"rect mark\" d=\"M287.68,36.44444444444446h0.14400000000000546v8.000000000000007h-0.14400000000000546Z\" fill=\"#4c78a8\" fill-opacity=\"1\" stroke=\"#505050\" stroke-width=\"0\"/><path aria-label=\"x1: 1798; x2: 1798.9; level: 41; level2: 41.9; status: Default; sf: _isdisjoint at abstractarray.jl:1522 [inlined]\" role=\"graphics-symbol\" aria-roledescription=\"rect mark\" d=\"M287.68,27.555555555555557h0.14400000000000546v8.000000000000007h-0.14400000000000546Z\" fill=\"#4c78a8\" fill-opacity=\"1\" stroke=\"#505050\" stroke-width=\"0\"/><path aria-label=\"x1: 1798; x2: 1798.9; level: 42; level2: 42.9; status: Default; sf: != at operators.jl:269 [inlined]\" role=\"graphics-symbol\" aria-roledescription=\"rect mark\" d=\"M287.68,18.6666666666667h0.14400000000000546v7.999999999999961h-0.14400000000000546Z\" fill=\"#4c78a8\" fill-opacity=\"1\" stroke=\"#505050\" stroke-width=\"0\"/><path aria-label=\"x1: 1798; x2: 1798.9; level: 43; level2: 43.9; status: Default; sf: == at promotion.jl:499 [inlined]\" role=\"graphics-symbol\" aria-roledescription=\"rect mark\" d=\"M287.68,9.777777777777796h0.14400000000000546v7.999999999999961h-0.14400000000000546Z\" fill=\"#4c78a8\" fill-opacity=\"1\" stroke=\"#505050\" stroke-width=\"0\"/><path aria-label=\"x1: 1799; x2: 1799.9; level: 37; level2: 37.9; status: Default; sf: preprocess_args at broadcast.jl:957 [inlined]\" role=\"graphics-symbol\" aria-roledescription=\"rect mark\" d=\"M287.84000000000003,63.111111111111114h0.14400000000000546v8.000000000000014h-0.14400000000000546Z\" fill=\"#4c78a8\" fill-opacity=\"1\" stroke=\"#505050\" stroke-width=\"0\"/><path aria-label=\"x1: 1799; x2: 1799.9; level: 38; level2: 38.9; status: Default; sf: preprocess at broadcast.jl:954 [inlined]\" role=\"graphics-symbol\" aria-roledescription=\"rect mark\" d=\"M287.84000000000003,54.222222222222214h0.14400000000000546v8.000000000000007h-0.14400000000000546Z\" fill=\"#4c78a8\" fill-opacity=\"1\" stroke=\"#505050\" stroke-width=\"0\"/><path aria-label=\"x1: 1799; x2: 1799.9; level: 39; level2: 39.9; status: Default; sf: broadcast_unalias at broadcast.jl:947 [inlined]\" role=\"graphics-symbol\" aria-roledescription=\"rect mark\" d=\"M287.84000000000003,45.33333333333336h0.14400000000000546v7.9999999999999645h-0.14400000000000546Z\" fill=\"#4c78a8\" fill-opacity=\"1\" stroke=\"#505050\" stroke-width=\"0\"/><path aria-label=\"x1: 1800; x2: 1806.9; level: 34; level2: 34.9; status: Default; sf: copyto! at broadcast.jl:973 [inlined]\" role=\"graphics-symbol\" aria-roledescription=\"rect mark\" d=\"M288,89.77777777777777h1.1040000000000418v8.000000000000014h-1.1040000000000418Z\" fill=\"#4c78a8\" fill-opacity=\"1\" stroke=\"#505050\" stroke-width=\"0\"/><path aria-label=\"x1: 1800; x2: 1800.9; level: 35; level2: 35.9; status: Default; sf: macro expansion at simdloop.jl:72 [inlined]\" role=\"graphics-symbol\" aria-roledescription=\"rect mark\" d=\"M288,80.88888888888891h0.14400000000000546v7.999999999999972h-0.14400000000000546Z\" fill=\"#4c78a8\" fill-opacity=\"1\" stroke=\"#505050\" stroke-width=\"0\"/><path aria-label=\"x1: 1800; x2: 1800.9; level: 36; level2: 36.9; status: Default; sf: &lt; at int.jl:83 [inlined]\" role=\"graphics-symbol\" aria-roledescription=\"rect mark\" d=\"M288,72.00000000000001h0.14400000000000546v7.999999999999972h-0.14400000000000546Z\" fill=\"#4c78a8\" fill-opacity=\"1\" stroke=\"#505050\" stroke-width=\"0\"/><path aria-label=\"x1: 1801; x2: 1806.9; level: 35; level2: 35.9; status: Default; sf: macro expansion at simdloop.jl:77 [inlined]\" role=\"graphics-symbol\" aria-roledescription=\"rect mark\" d=\"M288.16,80.88888888888891h0.9440000000000168v7.999999999999972h-0.9440000000000168Z\" fill=\"#4c78a8\" fill-opacity=\"1\" stroke=\"#505050\" stroke-width=\"0\"/><path aria-label=\"x1: 1801; x2: 1806.9; level: 36; level2: 36.9; status: Default; sf: macro expansion at broadcast.jl:974 [inlined]\" role=\"graphics-symbol\" aria-roledescription=\"rect mark\" d=\"M288.16,72.00000000000001h0.9440000000000168v7.999999999999972h-0.9440000000000168Z\" fill=\"#4c78a8\" fill-opacity=\"1\" stroke=\"#505050\" stroke-width=\"0\"/><path aria-label=\"x1: 1801; x2: 1806.9; level: 37; level2: 37.9; status: Default; sf: setindex! at array.jl:969 [inlined]\" role=\"graphics-symbol\" aria-roledescription=\"rect mark\" d=\"M288.16,63.111111111111114h0.9440000000000168v8.000000000000014h-0.9440000000000168Z\" fill=\"#4c78a8\" fill-opacity=\"1\" stroke=\"#505050\" stroke-width=\"0\"/><path aria-label=\"x1: 1807; x2: 1849.9; level: 33; level2: 33.9; status: Default; sf: similar at broadcast.jl:211 [inlined]\" role=\"graphics-symbol\" aria-roledescription=\"rect mark\" d=\"M289.12,98.66666666666669h6.864000000000033v8h-6.864000000000033Z\" fill=\"#4c78a8\" fill-opacity=\"1\" stroke=\"#505050\" stroke-width=\"0\"/><path aria-label=\"x1: 1807; x2: 1849.9; level: 34; level2: 34.9; status: Default; sf: similar at broadcast.jl:212 [inlined]\" role=\"graphics-symbol\" aria-roledescription=\"rect mark\" d=\"M289.12,89.77777777777777h6.864000000000033v8.000000000000014h-6.864000000000033Z\" fill=\"#4c78a8\" fill-opacity=\"1\" stroke=\"#505050\" stroke-width=\"0\"/><path aria-label=\"x1: 1807; x2: 1849.9; level: 35; level2: 35.9; status: Default; sf: similar at abstractarray.jl:881 [inlined]\" role=\"graphics-symbol\" aria-roledescription=\"rect mark\" d=\"M289.12,80.88888888888891h6.864000000000033v7.999999999999972h-6.864000000000033Z\" fill=\"#4c78a8\" fill-opacity=\"1\" stroke=\"#505050\" stroke-width=\"0\"/><path aria-label=\"x1: 1807; x2: 1849.9; level: 36; level2: 36.9; status: Default; sf: similar at abstractarray.jl:882 [inlined]\" role=\"graphics-symbol\" aria-roledescription=\"rect mark\" d=\"M289.12,72.00000000000001h6.864000000000033v7.999999999999972h-6.864000000000033Z\" fill=\"#4c78a8\" fill-opacity=\"1\" stroke=\"#505050\" stroke-width=\"0\"/><path aria-label=\"x1: 1807; x2: 1849.9; level: 37; level2: 37.9; status: Default; sf: Array at boot.jl:494 [inlined]\" role=\"graphics-symbol\" aria-roledescription=\"rect mark\" d=\"M289.12,63.111111111111114h6.864000000000033v8.000000000000014h-6.864000000000033Z\" fill=\"#4c78a8\" fill-opacity=\"1\" stroke=\"#505050\" stroke-width=\"0\"/><path aria-label=\"x1: 1807; x2: 1849.9; level: 38; level2: 38.9; status: Default; sf: Array at boot.jl:486 [inlined]\" role=\"graphics-symbol\" aria-roledescription=\"rect mark\" d=\"M289.12,54.222222222222214h6.864000000000033v8.000000000000007h-6.864000000000033Z\" fill=\"#4c78a8\" fill-opacity=\"1\" stroke=\"#505050\" stroke-width=\"0\"/><path aria-label=\"x1: 1807; x2: 1849.9; level: 39; level2: 39.9; status: Garbage collection; sf: Array at boot.jl:477 [inlined]\" role=\"graphics-symbol\" aria-roledescription=\"rect mark\" d=\"M289.12,45.33333333333336h6.864000000000033v7.9999999999999645h-6.864000000000033Z\" fill=\"#f58518\" fill-opacity=\"1\" stroke=\"#505050\" stroke-width=\"0\"/><path aria-label=\"x1: 1851; x2: 1851.9; level: 29; level2: 29.9; status: Default; sf: +(A::Vector{Float64}, Bs::Vector{Float64}) at indices.jl:0\" role=\"graphics-symbol\" aria-roledescription=\"rect mark\" d=\"M296.15999999999997,134.22222222222223h0.1440000000000623v7.999999999999972h-0.1440000000000623Z\" fill=\"#4c78a8\" fill-opacity=\"1\" stroke=\"#505050\" stroke-width=\"0\"/><path aria-label=\"x1: 1854; x2: 1969.9; level: 29; level2: 29.9; status: Default; sf: * at matmul.jl:101 [inlined]\" role=\"graphics-symbol\" aria-roledescription=\"rect mark\" d=\"M296.64,134.22222222222223h18.543999999999983v7.999999999999972h-18.543999999999983Z\" fill=\"#4c78a8\" fill-opacity=\"1\" stroke=\"#505050\" stroke-width=\"0\"/><path aria-label=\"x1: 1854; x2: 1909.9; level: 30; level2: 30.9; status: Default; sf: similar at abstractarray.jl:838 [inlined]\" role=\"graphics-symbol\" aria-roledescription=\"rect mark\" d=\"M296.64,125.33333333333334h8.944000000000074v8h-8.944000000000074Z\" fill=\"#4c78a8\" fill-opacity=\"1\" stroke=\"#505050\" stroke-width=\"0\"/><path aria-label=\"x1: 1854; x2: 1909.9; level: 31; level2: 31.9; status: Default; sf: similar at array.jl:374 [inlined]\" role=\"graphics-symbol\" aria-roledescription=\"rect mark\" d=\"M296.64,116.44444444444444h8.944000000000074v8h-8.944000000000074Z\" fill=\"#4c78a8\" fill-opacity=\"1\" stroke=\"#505050\" stroke-width=\"0\"/><path aria-label=\"x1: 1854; x2: 1909.9; level: 32; level2: 32.9; status: Default; sf: Array at boot.jl:486 [inlined]\" role=\"graphics-symbol\" aria-roledescription=\"rect mark\" d=\"M296.64,107.55555555555559h8.944000000000074v7.999999999999957h-8.944000000000074Z\" fill=\"#4c78a8\" fill-opacity=\"1\" stroke=\"#505050\" stroke-width=\"0\"/><path aria-label=\"x1: 1854; x2: 1909.9; level: 33; level2: 33.9; status: Garbage collection; sf: Array at boot.jl:477 [inlined]\" role=\"graphics-symbol\" aria-roledescription=\"rect mark\" d=\"M296.64,98.66666666666669h8.944000000000074v8h-8.944000000000074Z\" fill=\"#f58518\" fill-opacity=\"1\" stroke=\"#505050\" stroke-width=\"0\"/><path aria-label=\"x1: 1910; x2: 1911.9; level: 30; level2: 30.9; status: Default; sf: size at abstractarray.jl:42 [inlined]\" role=\"graphics-symbol\" aria-roledescription=\"rect mark\" d=\"M305.6,125.33333333333334h0.3039999999999736v8h-0.3039999999999736Z\" fill=\"#4c78a8\" fill-opacity=\"1\" stroke=\"#505050\" stroke-width=\"0\"/><path aria-label=\"x1: 1910; x2: 1911.9; level: 31; level2: 31.9; status: Default; sf: size at adjtrans.jl:297 [inlined]\" role=\"graphics-symbol\" aria-roledescription=\"rect mark\" d=\"M305.6,116.44444444444444h0.3039999999999736v8h-0.3039999999999736Z\" fill=\"#4c78a8\" fill-opacity=\"1\" stroke=\"#505050\" stroke-width=\"0\"/><path aria-label=\"x1: 1910; x2: 1911.9; level: 32; level2: 32.9; status: Default; sf: size at array.jl:150 [inlined]\" role=\"graphics-symbol\" aria-roledescription=\"rect mark\" d=\"M305.6,107.55555555555559h0.3039999999999736v7.999999999999957h-0.3039999999999736Z\" fill=\"#4c78a8\" fill-opacity=\"1\" stroke=\"#505050\" stroke-width=\"0\"/><path aria-label=\"x1: 1912; x2: 1969.9; level: 30; level2: 30.9; status: Default; sf: mul! at matmul.jl:276 [inlined]\" role=\"graphics-symbol\" aria-roledescription=\"rect mark\" d=\"M305.92,125.33333333333334h9.263999999999953v8h-9.263999999999953Z\" fill=\"#4c78a8\" fill-opacity=\"1\" stroke=\"#505050\" stroke-width=\"0\"/><path aria-label=\"x1: 1912; x2: 1969.9; level: 31; level2: 31.9; status: Default; sf: mul! at matmul.jl:109 [inlined]\" role=\"graphics-symbol\" aria-roledescription=\"rect mark\" d=\"M305.92,116.44444444444444h9.263999999999953v8h-9.263999999999953Z\" fill=\"#4c78a8\" fill-opacity=\"1\" stroke=\"#505050\" stroke-width=\"0\"/><path aria-label=\"x1: 1912; x2: 1969.9; level: 32; level2: 32.9; status: Default; sf: mul! at matmul.jl:93 [inlined]\" role=\"graphics-symbol\" aria-roledescription=\"rect mark\" d=\"M305.92,107.55555555555559h9.263999999999953v7.999999999999957h-9.263999999999953Z\" fill=\"#4c78a8\" fill-opacity=\"1\" stroke=\"#505050\" stroke-width=\"0\"/><path aria-label=\"x1: 1912; x2: 1913.9; level: 33; level2: 33.9; status: Default; sf: gemv!(y::Vector{Float64}, tA::Char, A::Matrix{Float64}, x::Vector{Float64}, α::Bool, β::Bool) at array.jl:0\" role=\"graphics-symbol\" aria-roledescription=\"rect mark\" d=\"M305.92,98.66666666666669h0.3039999999999736v8h-0.3039999999999736Z\" fill=\"#4c78a8\" fill-opacity=\"1\" stroke=\"#505050\" stroke-width=\"0\"/><path aria-label=\"x1: 1914; x2: 1914.9; level: 33; level2: 33.9; status: Default; sf: gemv!(trans::Char, alpha::Float64, A::Matrix{Float64}, X::Vector{Float64}, beta::Float64, Y::Vector{Float64}) at blas.jl:674\" role=\"graphics-symbol\" aria-roledescription=\"rect mark\" d=\"M306.23999999999995,98.66666666666669h0.1440000000000623v8h-0.1440000000000623Z\" fill=\"#4c78a8\" fill-opacity=\"1\" stroke=\"#505050\" stroke-width=\"0\"/><path aria-label=\"x1: 1915; x2: 1915.9; level: 33; level2: 33.9; status: Default; sf: gemv!(y::Vector{Float64}, tA::Char, A::Matrix{Float64}, x::Vector{Float64}, α::Bool, β::Bool) at matmul.jl:490\" role=\"graphics-symbol\" aria-roledescription=\"rect mark\" d=\"M306.4,98.66666666666669h0.1440000000000623v8h-0.1440000000000623Z\" fill=\"#4c78a8\" fill-opacity=\"1\" stroke=\"#505050\" stroke-width=\"0\"/><path aria-label=\"x1: 1916; x2: 1919.9; level: 33; level2: 33.9; status: Default; sf: gemv!(y::Vector{Float64}, tA::Char, A::Matrix{Float64}, x::Vector{Float64}, α::Bool, β::Bool) at matmul.jl:492\" role=\"graphics-symbol\" aria-roledescription=\"rect mark\" d=\"M306.56,98.66666666666669h0.6240000000000236v8h-0.6240000000000236Z\" fill=\"#4c78a8\" fill-opacity=\"1\" stroke=\"#505050\" stroke-width=\"0\"/><path aria-label=\"x1: 1916; x2: 1919.9; level: 34; level2: 34.9; status: Default; sf: lapack_size at matmul.jl:725 [inlined]\" role=\"graphics-symbol\" aria-roledescription=\"rect mark\" d=\"M306.56,89.77777777777777h0.6240000000000236v8.000000000000014h-0.6240000000000236Z\" fill=\"#4c78a8\" fill-opacity=\"1\" stroke=\"#505050\" stroke-width=\"0\"/><path aria-label=\"x1: 1916; x2: 1919.9; level: 35; level2: 35.9; status: Default; sf: == at char.jl:213 [inlined]\" role=\"graphics-symbol\" aria-roledescription=\"rect mark\" d=\"M306.56,80.88888888888891h0.6240000000000236v7.999999999999972h-0.6240000000000236Z\" fill=\"#4c78a8\" fill-opacity=\"1\" stroke=\"#505050\" stroke-width=\"0\"/><path aria-label=\"x1: 1916; x2: 1919.9; level: 36; level2: 36.9; status: Default; sf: == at promotion.jl:499 [inlined]\" role=\"graphics-symbol\" aria-roledescription=\"rect mark\" d=\"M306.56,72.00000000000001h0.6240000000000236v7.999999999999972h-0.6240000000000236Z\" fill=\"#4c78a8\" fill-opacity=\"1\" stroke=\"#505050\" stroke-width=\"0\"/><path aria-label=\"x1: 1920; x2: 1920.9; level: 33; level2: 33.9; status: Default; sf: gemv!(y::Vector{Float64}, tA::Char, A::Matrix{Float64}, x::Vector{Float64}, α::Bool, β::Bool) at matmul.jl:497\" role=\"graphics-symbol\" aria-roledescription=\"rect mark\" d=\"M307.2,98.66666666666669h0.14400000000000546v8h-0.14400000000000546Z\" fill=\"#4c78a8\" fill-opacity=\"1\" stroke=\"#505050\" stroke-width=\"0\"/><path aria-label=\"x1: 1920; x2: 1920.9; level: 34; level2: 34.9; status: Default; sf: == at promotion.jl:499 [inlined]\" role=\"graphics-symbol\" aria-roledescription=\"rect mark\" d=\"M307.2,89.77777777777777h0.14400000000000546v8.000000000000014h-0.14400000000000546Z\" fill=\"#4c78a8\" fill-opacity=\"1\" stroke=\"#505050\" stroke-width=\"0\"/><path aria-label=\"x1: 1921; x2: 1922.9; level: 33; level2: 33.9; status: Default; sf: gemv!(y::Vector{Float64}, tA::Char, A::Matrix{Float64}, x::Vector{Float64}, α::Bool, β::Bool) at matmul.jl:498\" role=\"graphics-symbol\" aria-roledescription=\"rect mark\" d=\"M307.36,98.66666666666669h0.30400000000003047v8h-0.30400000000003047Z\" fill=\"#4c78a8\" fill-opacity=\"1\" stroke=\"#505050\" stroke-width=\"0\"/><path aria-label=\"x1: 1921; x2: 1922.9; level: 34; level2: 34.9; status: Default; sf: _rmul_or_fill! at generic.jl:103 [inlined]\" role=\"graphics-symbol\" aria-roledescription=\"rect mark\" d=\"M307.36,89.77777777777777h0.30400000000003047v8.000000000000014h-0.30400000000003047Z\" fill=\"#4c78a8\" fill-opacity=\"1\" stroke=\"#505050\" stroke-width=\"0\"/><path aria-label=\"x1: 1921; x2: 1922.9; level: 35; level2: 35.9; status: Default; sf: fill! at array.jl:349 [inlined]\" role=\"graphics-symbol\" aria-roledescription=\"rect mark\" d=\"M307.36,80.88888888888891h0.30400000000003047v7.999999999999972h-0.30400000000003047Z\" fill=\"#4c78a8\" fill-opacity=\"1\" stroke=\"#505050\" stroke-width=\"0\"/><path aria-label=\"x1: 1921; x2: 1922.9; level: 36; level2: 36.9; status: Default; sf: setindex! at array.jl:969 [inlined]\" role=\"graphics-symbol\" aria-roledescription=\"rect mark\" d=\"M307.36,72.00000000000001h0.30400000000003047v7.999999999999972h-0.30400000000003047Z\" fill=\"#4c78a8\" fill-opacity=\"1\" stroke=\"#505050\" stroke-width=\"0\"/><path aria-label=\"x1: 1923; x2: 1968.9; level: 33; level2: 33.9; status: Default; sf: gemv!(y::Vector{Float64}, tA::Char, A::Matrix{Float64}, x::Vector{Float64}, α::Bool, β::Bool) at matmul.jl:503\" role=\"graphics-symbol\" aria-roledescription=\"rect mark\" d=\"M307.68,98.66666666666669h7.343999999999994v8h-7.343999999999994Z\" fill=\"#4c78a8\" fill-opacity=\"1\" stroke=\"#505050\" stroke-width=\"0\"/><path aria-label=\"x1: 1923; x2: 1924.9; level: 34; level2: 34.9; status: Default; sf: gemv!(trans::Char, alpha::Float64, A::Matrix{Float64}, X::Vector{Float64}, beta::Float64, Y::Vector{Float64}) at blas.jl:643\" role=\"graphics-symbol\" aria-roledescription=\"rect mark\" d=\"M307.68,89.77777777777777h0.30400000000003047v8.000000000000014h-0.30400000000003047Z\" fill=\"#4c78a8\" fill-opacity=\"1\" stroke=\"#505050\" stroke-width=\"0\"/><path aria-label=\"x1: 1925; x2: 1967.9; level: 34; level2: 34.9; status: Default; sf: gemv!(trans::Char, alpha::Float64, A::Matrix{Float64}, X::Vector{Float64}, beta::Float64, Y::Vector{Float64}) at blas.jl:667\" role=\"graphics-symbol\" aria-roledescription=\"rect mark\" d=\"M308,89.77777777777777h6.864000000000033v8.000000000000014h-6.864000000000033Z\" fill=\"#4c78a8\" fill-opacity=\"1\" stroke=\"#505050\" stroke-width=\"0\"/><path aria-label=\"x1: 1974; x2: 2220.9; level: 28; level2: 28.9; status: Default; sf: predictMVN!(Kxx::Matrix{Float64}, Kff::PDMats.PDMat{Float64, Matrix{Float64}}, Kfx::Matrix{Float64}, mx::Vector{Float64}, αf::Vector{Float64}) at GP.jl:27\" role=\"graphics-symbol\" aria-roledescription=\"rect mark\" d=\"M315.84,143.11111111111114h39.50400000000002v7.999999999999972h-39.50400000000002Z\" fill=\"#4c78a8\" fill-opacity=\"1\" stroke=\"#505050\" stroke-width=\"0\"/><path aria-label=\"x1: 1974; x2: 2220.9; level: 29; level2: 29.9; status: Default; sf: whiten! at generics.jl:32 [inlined]\" role=\"graphics-symbol\" aria-roledescription=\"rect mark\" d=\"M315.84,134.22222222222223h39.50400000000002v7.999999999999972h-39.50400000000002Z\" fill=\"#4c78a8\" fill-opacity=\"1\" stroke=\"#505050\" stroke-width=\"0\"/><path aria-label=\"x1: 1974; x2: 1974.9; level: 30; level2: 30.9; status: Default; sf: getproperty(C::LinearAlgebra.Cholesky{Float64, Matrix{Float64}}, d::Symbol) at cholesky.jl:515\" role=\"graphics-symbol\" aria-roledescription=\"rect mark\" d=\"M315.84,125.33333333333334h0.14400000000000546v8h-0.14400000000000546Z\" fill=\"#4c78a8\" fill-opacity=\"1\" stroke=\"#505050\" stroke-width=\"0\"/><path aria-label=\"x1: 1975; x2: 1975.9; level: 30; level2: 30.9; status: Default; sf: trtrs!(uplo::Char, trans::Char, diag::Char, A::Matrix{Float64}, B::Matrix{Float64}) at lapack.jl:3405\" role=\"graphics-symbol\" aria-roledescription=\"rect mark\" d=\"M316,125.33333333333334h0.14400000000000546v8h-0.14400000000000546Z\" fill=\"#4c78a8\" fill-opacity=\"1\" stroke=\"#505050\" stroke-width=\"0\"/><path aria-label=\"x1: 1976; x2: 1979.9; level: 30; level2: 30.9; status: Default; sf: whiten!(r::Matrix{Float64}, a::PDMats.PDMat{Float64, Matrix{Float64}}, x::Matrix{Float64}) at pdmat.jl:64\" role=\"graphics-symbol\" aria-roledescription=\"rect mark\" d=\"M316.15999999999997,125.33333333333334h0.6240000000000236v8h-0.6240000000000236Z\" fill=\"#4c78a8\" fill-opacity=\"1\" stroke=\"#505050\" stroke-width=\"0\"/><path aria-label=\"x1: 1980; x2: 1993.9; level: 30; level2: 30.9; status: Default; sf: whiten!(r::Matrix{Float64}, a::PDMats.PDMat{Float64, Matrix{Float64}}, x::Matrix{Float64}) at pdmat.jl:65\" role=\"graphics-symbol\" aria-roledescription=\"rect mark\" d=\"M316.8,125.33333333333334h2.2239999999999895v8h-2.2239999999999895Z\" fill=\"#4c78a8\" fill-opacity=\"1\" stroke=\"#505050\" stroke-width=\"0\"/><path aria-label=\"x1: 1980; x2: 1983.9; level: 31; level2: 31.9; status: Default; sf: getproperty at Base.jl:37 [inlined]\" role=\"graphics-symbol\" aria-roledescription=\"rect mark\" d=\"M316.8,116.44444444444444h0.6240000000000236v8h-0.6240000000000236Z\" fill=\"#4c78a8\" fill-opacity=\"1\" stroke=\"#505050\" stroke-width=\"0\"/><path aria-label=\"x1: 1984; x2: 1984.9; level: 31; level2: 31.9; status: Default; sf: getproperty(C::LinearAlgebra.Cholesky{Float64, Matrix{Float64}}, d::Symbol) at cholesky.jl:0\" role=\"graphics-symbol\" aria-roledescription=\"rect mark\" d=\"M317.44,116.44444444444444h0.14400000000000546v8h-0.14400000000000546Z\" fill=\"#4c78a8\" fill-opacity=\"1\" stroke=\"#505050\" stroke-width=\"0\"/><path aria-label=\"x1: 1985; x2: 1985.9; level: 31; level2: 31.9; status: Default; sf: getproperty(C::LinearAlgebra.Cholesky{Float64, Matrix{Float64}}, d::Symbol) at cholesky.jl:516\" role=\"graphics-symbol\" aria-roledescription=\"rect mark\" d=\"M317.6,116.44444444444444h0.14400000000000546v8h-0.14400000000000546Z\" fill=\"#4c78a8\" fill-opacity=\"1\" stroke=\"#505050\" stroke-width=\"0\"/><path aria-label=\"x1: 1986; x2: 1993.9; level: 31; level2: 31.9; status: Garbage collection; sf: getproperty(C::LinearAlgebra.Cholesky{Float64, Matrix{Float64}}, d::Symbol) at cholesky.jl:519\" role=\"graphics-symbol\" aria-roledescription=\"rect mark\" d=\"M317.76,116.44444444444444h1.26400000000001v8h-1.26400000000001Z\" fill=\"#f58518\" fill-opacity=\"1\" stroke=\"#505050\" stroke-width=\"0\"/><path aria-label=\"x1: 1994; x2: 1994.9; level: 30; level2: 30.9; status: Default; sf: whiten!(r::Matrix{Float64}, a::PDMats.PDMat{Float64, Matrix{Float64}}, x::Matrix{Float64}) at pdmat.jl:66\" role=\"graphics-symbol\" aria-roledescription=\"rect mark\" d=\"M319.03999999999996,125.33333333333334h0.1440000000000623v8h-0.1440000000000623Z\" fill=\"#4c78a8\" fill-opacity=\"1\" stroke=\"#505050\" stroke-width=\"0\"/><path aria-label=\"x1: 1994; x2: 1994.9; level: 31; level2: 31.9; status: Default; sf: _rcopy! at utils.jl:10 [inlined]\" role=\"graphics-symbol\" aria-roledescription=\"rect mark\" d=\"M319.03999999999996,116.44444444444444h0.1440000000000623v8h-0.1440000000000623Z\" fill=\"#4c78a8\" fill-opacity=\"1\" stroke=\"#505050\" stroke-width=\"0\"/><path aria-label=\"x1: 1995; x2: 2220.9; level: 30; level2: 30.9; status: Default; sf: whiten!(r::Matrix{Float64}, a::PDMats.PDMat{Float64, Matrix{Float64}}, x::Matrix{Float64}) at pdmat.jl:67\" role=\"graphics-symbol\" aria-roledescription=\"rect mark\" d=\"M319.20000000000005,125.33333333333334h36.14399999999995v8h-36.14399999999995Z\" fill=\"#4c78a8\" fill-opacity=\"1\" stroke=\"#505050\" stroke-width=\"0\"/><path aria-label=\"x1: 1995; x2: 2220.9; level: 31; level2: 31.9; status: Default; sf: ldiv! at triangular.jl:786 [inlined]\" role=\"graphics-symbol\" aria-roledescription=\"rect mark\" d=\"M319.20000000000005,116.44444444444444h36.14399999999995v8h-36.14399999999995Z\" fill=\"#4c78a8\" fill-opacity=\"1\" stroke=\"#505050\" stroke-width=\"0\"/><path aria-label=\"x1: 1995; x2: 1995.9; level: 32; level2: 32.9; status: Default; sf: trtrs!(uplo::Char, trans::Char, diag::Char, A::Matrix{Float64}, B::Matrix{Float64}) at lapack.jl:3408\" role=\"graphics-symbol\" aria-roledescription=\"rect mark\" d=\"M319.20000000000005,107.55555555555559h0.14400000000000546v7.999999999999957h-0.14400000000000546Z\" fill=\"#4c78a8\" fill-opacity=\"1\" stroke=\"#505050\" stroke-width=\"0\"/><path aria-label=\"x1: 1995; x2: 1995.9; level: 33; level2: 33.9; status: Default; sf: chktrans at lapack.jl:58 [inlined]\" role=\"graphics-symbol\" aria-roledescription=\"rect mark\" d=\"M319.20000000000005,98.66666666666669h0.14400000000000546v8h-0.14400000000000546Z\" fill=\"#4c78a8\" fill-opacity=\"1\" stroke=\"#505050\" stroke-width=\"0\"/><path aria-label=\"x1: 1996; x2: 1996.9; level: 32; level2: 32.9; status: Default; sf: trtrs!(uplo::Char, trans::Char, diag::Char, A::Matrix{Float64}, B::Matrix{Float64}) at lapack.jl:3413\" role=\"graphics-symbol\" aria-roledescription=\"rect mark\" d=\"M319.36,107.55555555555559h0.14400000000000546v7.999999999999957h-0.14400000000000546Z\" fill=\"#4c78a8\" fill-opacity=\"1\" stroke=\"#505050\" stroke-width=\"0\"/><path aria-label=\"x1: 1996; x2: 1996.9; level: 33; level2: 33.9; status: Default; sf: != at operators.jl:269 [inlined]\" role=\"graphics-symbol\" aria-roledescription=\"rect mark\" d=\"M319.36,98.66666666666669h0.14400000000000546v8h-0.14400000000000546Z\" fill=\"#4c78a8\" fill-opacity=\"1\" stroke=\"#505050\" stroke-width=\"0\"/><path aria-label=\"x1: 1996; x2: 1996.9; level: 34; level2: 34.9; status: Default; sf: == at promotion.jl:499 [inlined]\" role=\"graphics-symbol\" aria-roledescription=\"rect mark\" d=\"M319.36,89.77777777777777h0.14400000000000546v8.000000000000014h-0.14400000000000546Z\" fill=\"#4c78a8\" fill-opacity=\"1\" stroke=\"#505050\" stroke-width=\"0\"/><path aria-label=\"x1: 1997; x2: 2219.9; level: 32; level2: 32.9; status: Default; sf: trtrs!(uplo::Char, trans::Char, diag::Char, A::Matrix{Float64}, B::Matrix{Float64}) at lapack.jl:3417\" role=\"graphics-symbol\" aria-roledescription=\"rect mark\" d=\"M319.52,107.55555555555559h35.664000000000044v7.999999999999957h-35.664000000000044Z\" fill=\"#4c78a8\" fill-opacity=\"1\" stroke=\"#505050\" stroke-width=\"0\"/><path aria-label=\"x1: 1997; x2: 1997.9; level: 33; level2: 33.9; status: Default; sf: cconvert at essentials.jl:492 [inlined]\" role=\"graphics-symbol\" aria-roledescription=\"rect mark\" d=\"M319.52,98.66666666666669h0.14400000000000546v8h-0.14400000000000546Z\" fill=\"#4c78a8\" fill-opacity=\"1\" stroke=\"#505050\" stroke-width=\"0\"/><path aria-label=\"x1: 1997; x2: 1997.9; level: 34; level2: 34.9; status: Default; sf: convert at refpointer.jl:104 [inlined]\" role=\"graphics-symbol\" aria-roledescription=\"rect mark\" d=\"M319.52,89.77777777777777h0.14400000000000546v8.000000000000014h-0.14400000000000546Z\" fill=\"#4c78a8\" fill-opacity=\"1\" stroke=\"#505050\" stroke-width=\"0\"/><path aria-label=\"x1: 1997; x2: 1997.9; level: 35; level2: 35.9; status: Default; sf: RefValue at refvalue.jl:8 [inlined]\" role=\"graphics-symbol\" aria-roledescription=\"rect mark\" d=\"M319.52,80.88888888888891h0.14400000000000546v7.999999999999972h-0.14400000000000546Z\" fill=\"#4c78a8\" fill-opacity=\"1\" stroke=\"#505050\" stroke-width=\"0\"/><path aria-label=\"x1: 2220; x2: 2220.9; level: 32; level2: 32.9; status: Default; sf: trtrs!(uplo::Char, trans::Char, diag::Char, A::Matrix{Float64}, B::Matrix{Float64}) at lapack.jl:3425\" role=\"graphics-symbol\" aria-roledescription=\"rect mark\" d=\"M355.2,107.55555555555559h0.14400000000000546v7.999999999999957h-0.14400000000000546Z\" fill=\"#4c78a8\" fill-opacity=\"1\" stroke=\"#505050\" stroke-width=\"0\"/><path aria-label=\"x1: 2221; x2: 2367.9; level: 28; level2: 28.9; status: Default; sf: predictMVN!(Kxx::Matrix{Float64}, Kff::PDMats.PDMat{Float64, Matrix{Float64}}, Kfx::Matrix{Float64}, mx::Vector{Float64}, αf::Vector{Float64}) at GP.jl:28\" role=\"graphics-symbol\" aria-roledescription=\"rect mark\" d=\"M355.36,143.11111111111114h23.503999999999962v7.999999999999972h-23.503999999999962Z\" fill=\"#4c78a8\" fill-opacity=\"1\" stroke=\"#505050\" stroke-width=\"0\"/><path aria-label=\"x1: 2221; x2: 2361.9; level: 29; level2: 29.9; status: Default; sf: subtract_Lck! at GP.jl:52 [inlined]\" role=\"graphics-symbol\" aria-roledescription=\"rect mark\" d=\"M355.36,134.22222222222223h22.543999999999983v7.999999999999972h-22.543999999999983Z\" fill=\"#4c78a8\" fill-opacity=\"1\" stroke=\"#505050\" stroke-width=\"0\"/><path aria-label=\"x1: 2221; x2: 2225.9; level: 30; level2: 30.9; status: Default; sf: syrk!(uplo::Char, trans::Char, alpha::Float64, A::Matrix{Float64}, beta::Float64, C::Matrix{Float64}) at blas.jl:1773\" role=\"graphics-symbol\" aria-roledescription=\"rect mark\" d=\"M355.36,125.33333333333334h0.7839999999999918v8h-0.7839999999999918Z\" fill=\"#4c78a8\" fill-opacity=\"1\" stroke=\"#505050\" stroke-width=\"0\"/><path aria-label=\"x1: 2226; x2: 2361.9; level: 30; level2: 30.9; status: Default; sf: syrk!(uplo::Char, trans::Char, alpha::Float64, A::Matrix{Float64}, beta::Float64, C::Matrix{Float64}) at blas.jl:1784\" role=\"graphics-symbol\" aria-roledescription=\"rect mark\" d=\"M356.15999999999997,125.33333333333334h21.744000000000028v8h-21.744000000000028Z\" fill=\"#4c78a8\" fill-opacity=\"1\" stroke=\"#505050\" stroke-width=\"0\"/><path aria-label=\"x1: 2226; x2: 2226.9; level: 31; level2: 31.9; status: Default; sf: cconvert at essentials.jl:492 [inlined]\" role=\"graphics-symbol\" aria-roledescription=\"rect mark\" d=\"M356.15999999999997,116.44444444444444h0.14400000000000546v8h-0.14400000000000546Z\" fill=\"#4c78a8\" fill-opacity=\"1\" stroke=\"#505050\" stroke-width=\"0\"/><path aria-label=\"x1: 2226; x2: 2226.9; level: 32; level2: 32.9; status: Default; sf: convert at refpointer.jl:104 [inlined]\" role=\"graphics-symbol\" aria-roledescription=\"rect mark\" d=\"M356.15999999999997,107.55555555555559h0.14400000000000546v7.999999999999957h-0.14400000000000546Z\" fill=\"#4c78a8\" fill-opacity=\"1\" stroke=\"#505050\" stroke-width=\"0\"/><path aria-label=\"x1: 2226; x2: 2226.9; level: 33; level2: 33.9; status: Default; sf: RefValue at refvalue.jl:8 [inlined]\" role=\"graphics-symbol\" aria-roledescription=\"rect mark\" d=\"M356.15999999999997,98.66666666666669h0.14400000000000546v8h-0.14400000000000546Z\" fill=\"#4c78a8\" fill-opacity=\"1\" stroke=\"#505050\" stroke-width=\"0\"/><path aria-label=\"x1: 2226; x2: 2226.9; level: 34; level2: 34.9; status: Default; sf: convert at char.jl:185 [inlined]\" role=\"graphics-symbol\" aria-roledescription=\"rect mark\" d=\"M356.15999999999997,89.77777777777777h0.14400000000000546v8.000000000000014h-0.14400000000000546Z\" fill=\"#4c78a8\" fill-opacity=\"1\" stroke=\"#505050\" stroke-width=\"0\"/><path aria-label=\"x1: 2226; x2: 2226.9; level: 35; level2: 35.9; status: Default; sf: Int8 at char.jl:175 [inlined]\" role=\"graphics-symbol\" aria-roledescription=\"rect mark\" d=\"M356.15999999999997,80.88888888888891h0.14400000000000546v7.999999999999972h-0.14400000000000546Z\" fill=\"#4c78a8\" fill-opacity=\"1\" stroke=\"#505050\" stroke-width=\"0\"/><path aria-label=\"x1: 2226; x2: 2226.9; level: 36; level2: 36.9; status: Default; sf: &gt;&gt;&gt; at int.jl:512 [inlined]\" role=\"graphics-symbol\" aria-roledescription=\"rect mark\" d=\"M356.15999999999997,72.00000000000001h0.14400000000000546v7.999999999999972h-0.14400000000000546Z\" fill=\"#4c78a8\" fill-opacity=\"1\" stroke=\"#505050\" stroke-width=\"0\"/><path aria-label=\"x1: 2226; x2: 2226.9; level: 37; level2: 37.9; status: Default; sf: &gt;&gt;&gt; at int.jl:504 [inlined]\" role=\"graphics-symbol\" aria-roledescription=\"rect mark\" d=\"M356.15999999999997,63.111111111111114h0.14400000000000546v8.000000000000014h-0.14400000000000546Z\" fill=\"#4c78a8\" fill-opacity=\"1\" stroke=\"#505050\" stroke-width=\"0\"/><path aria-label=\"x1: 2227; x2: 2227.9; level: 31; level2: 31.9; status: Default; sf: unsafe_convert at pointer.jl:65 [inlined]\" role=\"graphics-symbol\" aria-roledescription=\"rect mark\" d=\"M356.32,116.44444444444444h0.14400000000000546v8h-0.14400000000000546Z\" fill=\"#4c78a8\" fill-opacity=\"1\" stroke=\"#505050\" stroke-width=\"0\"/><path aria-label=\"x1: 2228; x2: 2228.9; level: 31; level2: 31.9; status: Default; sf: max at promotion.jl:510 [inlined]\" role=\"graphics-symbol\" aria-roledescription=\"rect mark\" d=\"M356.48,116.44444444444444h0.14400000000000546v8h-0.14400000000000546Z\" fill=\"#4c78a8\" fill-opacity=\"1\" stroke=\"#505050\" stroke-width=\"0\"/><path aria-label=\"x1: 2228; x2: 2228.9; level: 32; level2: 32.9; status: Default; sf: ifelse at essentials.jl:575 [inlined]\" role=\"graphics-symbol\" aria-roledescription=\"rect mark\" d=\"M356.48,107.55555555555559h0.14400000000000546v7.999999999999957h-0.14400000000000546Z\" fill=\"#4c78a8\" fill-opacity=\"1\" stroke=\"#505050\" stroke-width=\"0\"/><path aria-label=\"x1: 2362; x2: 2367.9; level: 29; level2: 29.9; status: Default; sf: subtract_Lck! at GP.jl:53 [inlined]\" role=\"graphics-symbol\" aria-roledescription=\"rect mark\" d=\"M377.92,134.22222222222223h0.94399999999996v7.999999999999972h-0.94399999999996Z\" fill=\"#4c78a8\" fill-opacity=\"1\" stroke=\"#505050\" stroke-width=\"0\"/><path aria-label=\"x1: 2362; x2: 2367.9; level: 30; level2: 30.9; status: Default; sf: copytri! at matmul.jl:474 [inlined]\" role=\"graphics-symbol\" aria-roledescription=\"rect mark\" d=\"M377.92,125.33333333333334h0.94399999999996v8h-0.94399999999996Z\" fill=\"#4c78a8\" fill-opacity=\"1\" stroke=\"#505050\" stroke-width=\"0\"/><path aria-label=\"x1: 2362; x2: 2362.9; level: 31; level2: 31.9; status: Default; sf: copytri! at matmul.jl:474 [inlined]\" role=\"graphics-symbol\" aria-roledescription=\"rect mark\" d=\"M377.92,116.44444444444444h0.14400000000000546v8h-0.14400000000000546Z\" fill=\"#4c78a8\" fill-opacity=\"1\" stroke=\"#505050\" stroke-width=\"0\"/><path aria-label=\"x1: 2362; x2: 2362.9; level: 32; level2: 32.9; status: Default; sf: checksquare at LinearAlgebra.jl:238 [inlined]\" role=\"graphics-symbol\" aria-roledescription=\"rect mark\" d=\"M377.92,107.55555555555559h0.14400000000000546v7.999999999999957h-0.14400000000000546Z\" fill=\"#4c78a8\" fill-opacity=\"1\" stroke=\"#505050\" stroke-width=\"0\"/><path aria-label=\"x1: 2362; x2: 2362.9; level: 33; level2: 33.9; status: Default; sf: size at array.jl:150 [inlined]\" role=\"graphics-symbol\" aria-roledescription=\"rect mark\" d=\"M377.92,98.66666666666669h0.14400000000000546v8h-0.14400000000000546Z\" fill=\"#4c78a8\" fill-opacity=\"1\" stroke=\"#505050\" stroke-width=\"0\"/><path aria-label=\"x1: 2363; x2: 2365.9; level: 31; level2: 31.9; status: Default; sf: copytri! at matmul.jl:477 [inlined]\" role=\"graphics-symbol\" aria-roledescription=\"rect mark\" d=\"M378.08000000000004,116.44444444444444h0.46399999999999864v8h-0.46399999999999864Z\" fill=\"#4c78a8\" fill-opacity=\"1\" stroke=\"#505050\" stroke-width=\"0\"/><path aria-label=\"x1: 2363; x2: 2363.9; level: 32; level2: 32.9; status: Default; sf: + at int.jl:87 [inlined]\" role=\"graphics-symbol\" aria-roledescription=\"rect mark\" d=\"M378.08000000000004,107.55555555555559h0.14400000000000546v7.999999999999957h-0.14400000000000546Z\" fill=\"#4c78a8\" fill-opacity=\"1\" stroke=\"#505050\" stroke-width=\"0\"/><path aria-label=\"x1: 2364; x2: 2364.9; level: 32; level2: 32.9; status: Default; sf: iterate at range.jl:887 [inlined]\" role=\"graphics-symbol\" aria-roledescription=\"rect mark\" d=\"M378.24,107.55555555555559h0.14400000000000546v7.999999999999957h-0.14400000000000546Z\" fill=\"#4c78a8\" fill-opacity=\"1\" stroke=\"#505050\" stroke-width=\"0\"/><path aria-label=\"x1: 2364; x2: 2364.9; level: 33; level2: 33.9; status: Default; sf: isempty at range.jl:662 [inlined]\" role=\"graphics-symbol\" aria-roledescription=\"rect mark\" d=\"M378.24,98.66666666666669h0.14400000000000546v8h-0.14400000000000546Z\" fill=\"#4c78a8\" fill-opacity=\"1\" stroke=\"#505050\" stroke-width=\"0\"/><path aria-label=\"x1: 2364; x2: 2364.9; level: 34; level2: 34.9; status: Default; sf: &gt; at operators.jl:369 [inlined]\" role=\"graphics-symbol\" aria-roledescription=\"rect mark\" d=\"M378.24,89.77777777777777h0.14400000000000546v8.000000000000014h-0.14400000000000546Z\" fill=\"#4c78a8\" fill-opacity=\"1\" stroke=\"#505050\" stroke-width=\"0\"/><path aria-label=\"x1: 2364; x2: 2364.9; level: 35; level2: 35.9; status: Default; sf: &lt; at int.jl:83 [inlined]\" role=\"graphics-symbol\" aria-roledescription=\"rect mark\" d=\"M378.24,80.88888888888891h0.14400000000000546v7.999999999999972h-0.14400000000000546Z\" fill=\"#4c78a8\" fill-opacity=\"1\" stroke=\"#505050\" stroke-width=\"0\"/><path aria-label=\"x1: 2366; x2: 2367.9; level: 31; level2: 31.9; status: Default; sf: copytri! at matmul.jl:479 [inlined]\" role=\"graphics-symbol\" aria-roledescription=\"rect mark\" d=\"M378.56,116.44444444444444h0.3039999999999736v8h-0.3039999999999736Z\" fill=\"#4c78a8\" fill-opacity=\"1\" stroke=\"#505050\" stroke-width=\"0\"/><path aria-label=\"x1: 2368; x2: 2368.9; level: 28; level2: 28.9; status: Default; sf: predictMVN!(Kxx::Matrix{Float64}, Kff::PDMats.PDMat{Float64, Matrix{Float64}}, Kfx::Matrix{Float64}, mx::Vector{Float64}, αf::Vector{Float64}) at GP.jl:29\" role=\"graphics-symbol\" aria-roledescription=\"rect mark\" d=\"M378.88,143.11111111111114h0.14400000000000546v7.999999999999972h-0.14400000000000546Z\" fill=\"#4c78a8\" fill-opacity=\"1\" stroke=\"#505050\" stroke-width=\"0\"/><path aria-label=\"x1: 2372; x2: 2372.9; level: 27; level2: 27.9; status: Default; sf: predictMVN(xpred::Matrix{Float64}, xtrain::Matrix{Float64}, ytrain::Vector{Float64}, kernel::GaussianProcesses.Mat12Iso{Float64}, meanf::GaussianProcesses.MeanZero, alpha::Vector{Float64}, covstrat::GaussianProcesses.FullCovariance, Ktrain::PDMats.PDMat{Float64, Matrix{Float64}}) at GP.jl:48\" role=\"graphics-symbol\" aria-roledescription=\"rect mark\" d=\"M379.52,152h0.14400000000000546v8h-0.14400000000000546Z\" fill=\"#4c78a8\" fill-opacity=\"1\" stroke=\"#505050\" stroke-width=\"0\"/><path aria-label=\"x1: 2373; x2: 2373.9; level: 27; level2: 27.9; status: Default; sf: predictMVN!(Kxx::Matrix{Float64}, Kff::PDMats.PDMat{Float64, Matrix{Float64}}, Kfx::Matrix{Float64}, mx::Vector{Float64}, αf::Vector{Float64}) at GP.jl:25\" role=\"graphics-symbol\" aria-roledescription=\"rect mark\" d=\"M379.68,152h0.14400000000000546v8h-0.14400000000000546Z\" fill=\"#4c78a8\" fill-opacity=\"1\" stroke=\"#505050\" stroke-width=\"0\"/><path aria-label=\"x1: 2374; x2: 2376.9; level: 27; level2: 27.9; status: Default; sf: distance!(dist::Matrix{Float64}, m::Distances.Euclidean, X::Matrix{Float64}, Y::Matrix{Float64}) at distance.jl:27\" role=\"graphics-symbol\" aria-roledescription=\"rect mark\" d=\"M379.84,152h0.4640000000000555v8h-0.4640000000000555Z\" fill=\"#4c78a8\" fill-opacity=\"1\" stroke=\"#505050\" stroke-width=\"0\"/><path aria-label=\"x1: 2378; x2: 2381.9; level: 27; level2: 27.9; status: Default; sf: predictMVN!(Kxx::Matrix{Float64}, Kff::PDMats.PDMat{Float64, Matrix{Float64}}, Kfx::Matrix{Float64}, mx::Vector{Float64}, αf::Vector{Float64}) at GP.jl:25\" role=\"graphics-symbol\" aria-roledescription=\"rect mark\" d=\"M380.48,152h0.6240000000000236v8h-0.6240000000000236Z\" fill=\"#4c78a8\" fill-opacity=\"1\" stroke=\"#505050\" stroke-width=\"0\"/><path aria-label=\"x1: 2382; x2: 2382.9; level: 27; level2: 27.9; status: Default; sf: distance!(dist::Matrix{Float64}, m::Distances.Euclidean, X::Matrix{Float64}, Y::Matrix{Float64}) at distance.jl:27\" role=\"graphics-symbol\" aria-roledescription=\"rect mark\" d=\"M381.12,152h0.14400000000000546v8h-0.14400000000000546Z\" fill=\"#4c78a8\" fill-opacity=\"1\" stroke=\"#505050\" stroke-width=\"0\"/><path aria-label=\"x1: 2384; x2: 2384.9; level: 25; level2: 25.9; status: Default; sf: predict_f(gp::GaussianProcesses.GPE{Matrix{Float64}, Vector{Float64}, GaussianProcesses.MeanZero, GaussianProcesses.Mat12Iso{Float64}, GaussianProcesses.FullCovariance, GaussianProcesses.IsotropicData{Matrix{Float64}}, PDMats.PDMat{Float64, Matrix{Float64}}, GaussianProcesses.Scalar{Float64}}, x::Base.ReshapedArray{Float64, 2, LinearAlgebra.Adjoint{Float64, Vector{Float64}}, Tuple{}}; full_cov::Bool) at GP.jl:74\" role=\"graphics-symbol\" aria-roledescription=\"rect mark\" d=\"M381.44,169.7777777777778h0.14400000000000546v7.999999999999972h-0.14400000000000546Z\" fill=\"#4c78a8\" fill-opacity=\"1\" stroke=\"#505050\" stroke-width=\"0\"/><path aria-label=\"x1: 2384; x2: 2384.9; level: 26; level2: 26.9; status: Default; sf: setindex! at array.jl:969 [inlined]\" role=\"graphics-symbol\" aria-roledescription=\"rect mark\" d=\"M381.44,160.8888888888889h0.14400000000000546v8h-0.14400000000000546Z\" fill=\"#4c78a8\" fill-opacity=\"1\" stroke=\"#505050\" stroke-width=\"0\"/><path aria-label=\"x1: 2385; x2: 2621.9; level: 25; level2: 25.9; status: Default; sf: predict_f(gp::GaussianProcesses.GPE{Matrix{Float64}, Vector{Float64}, GaussianProcesses.MeanZero, GaussianProcesses.Mat12Iso{Float64}, GaussianProcesses.FullCovariance, GaussianProcesses.IsotropicData{Matrix{Float64}}, PDMats.PDMat{Float64, Matrix{Float64}}, GaussianProcesses.Scalar{Float64}}, x::Base.ReshapedArray{Float64, 2, LinearAlgebra.Adjoint{Float64, Vector{Float64}}, Tuple{}}; full_cov::Bool) at GP.jl:75\" role=\"graphics-symbol\" aria-roledescription=\"rect mark\" d=\"M381.59999999999997,169.7777777777778h37.90400000000011v7.999999999999972h-37.90400000000011Z\" fill=\"#4c78a8\" fill-opacity=\"1\" stroke=\"#505050\" stroke-width=\"0\"/><path aria-label=\"x1: 2385; x2: 2386.9; level: 26; level2: 26.9; status: Default; sf: setindex! at array.jl:969 [inlined]\" role=\"graphics-symbol\" aria-roledescription=\"rect mark\" d=\"M381.59999999999997,160.8888888888889h0.30400000000003047v8h-0.30400000000003047Z\" fill=\"#4c78a8\" fill-opacity=\"1\" stroke=\"#505050\" stroke-width=\"0\"/><path aria-label=\"x1: 2387; x2: 2387.9; level: 26; level2: 26.9; status: Default; sf: getindex at essentials.jl:13 [inlined]\" role=\"graphics-symbol\" aria-roledescription=\"rect mark\" d=\"M381.92,160.8888888888889h0.14400000000000546v8h-0.14400000000000546Z\" fill=\"#4c78a8\" fill-opacity=\"1\" stroke=\"#505050\" stroke-width=\"0\"/><path aria-label=\"x1: 2388; x2: 2388.9; level: 26; level2: 26.9; status: Default; sf: max at math.jl:863 [inlined]\" role=\"graphics-symbol\" aria-roledescription=\"rect mark\" d=\"M382.08000000000004,160.8888888888889h0.14400000000000546v8h-0.14400000000000546Z\" fill=\"#4c78a8\" fill-opacity=\"1\" stroke=\"#505050\" stroke-width=\"0\"/><path aria-label=\"x1: 2388; x2: 2388.9; level: 27; level2: 27.9; status: Default; sf: signbit at floatfuncs.jl:15 [inlined]\" role=\"graphics-symbol\" aria-roledescription=\"rect mark\" d=\"M382.08000000000004,152h0.14400000000000546v8h-0.14400000000000546Z\" fill=\"#4c78a8\" fill-opacity=\"1\" stroke=\"#505050\" stroke-width=\"0\"/><path aria-label=\"x1: 2388; x2: 2388.9; level: 28; level2: 28.9; status: Default; sf: signbit at int.jl:139 [inlined]\" role=\"graphics-symbol\" aria-roledescription=\"rect mark\" d=\"M382.08000000000004,143.11111111111114h0.14400000000000546v7.999999999999972h-0.14400000000000546Z\" fill=\"#4c78a8\" fill-opacity=\"1\" stroke=\"#505050\" stroke-width=\"0\"/><path aria-label=\"x1: 2388; x2: 2388.9; level: 29; level2: 29.9; status: Default; sf: &lt; at int.jl:83 [inlined]\" role=\"graphics-symbol\" aria-roledescription=\"rect mark\" d=\"M382.08000000000004,134.22222222222223h0.14400000000000546v7.999999999999972h-0.14400000000000546Z\" fill=\"#4c78a8\" fill-opacity=\"1\" stroke=\"#505050\" stroke-width=\"0\"/><path aria-label=\"x1: 2389; x2: 2389.9; level: 26; level2: 26.9; status: Default; sf: max at math.jl:865 [inlined]\" role=\"graphics-symbol\" aria-roledescription=\"rect mark\" d=\"M382.24,160.8888888888889h0.14400000000000546v8h-0.14400000000000546Z\" fill=\"#4c78a8\" fill-opacity=\"1\" stroke=\"#505050\" stroke-width=\"0\"/><path aria-label=\"x1: 2389; x2: 2389.9; level: 27; level2: 27.9; status: Default; sf: ifelse at essentials.jl:575 [inlined]\" role=\"graphics-symbol\" aria-roledescription=\"rect mark\" d=\"M382.24,152h0.14400000000000546v8h-0.14400000000000546Z\" fill=\"#4c78a8\" fill-opacity=\"1\" stroke=\"#505050\" stroke-width=\"0\"/><path aria-label=\"x1: 2390; x2: 2621.9; level: 26; level2: 26.9; status: Default; sf: diag at dense.jl:249 [inlined]\" role=\"graphics-symbol\" aria-roledescription=\"rect mark\" d=\"M382.4,160.8888888888889h37.1040000000001v8h-37.1040000000001Z\" fill=\"#4c78a8\" fill-opacity=\"1\" stroke=\"#505050\" stroke-width=\"0\"/><path aria-label=\"x1: 2390; x2: 2620.9; level: 27; level2: 27.9; status: Default; sf: diag(A::Matrix{Float64}, k::Int64) at dense.jl:249\" role=\"graphics-symbol\" aria-roledescription=\"rect mark\" d=\"M382.4,152h36.94400000000002v8h-36.94400000000002Z\" fill=\"#4c78a8\" fill-opacity=\"1\" stroke=\"#505050\" stroke-width=\"0\"/><path aria-label=\"x1: 2390; x2: 2615.9; level: 28; level2: 28.9; status: Default; sf: getindex at array.jl:944 [inlined]\" role=\"graphics-symbol\" aria-roledescription=\"rect mark\" d=\"M382.4,143.11111111111114h36.144000000000005v7.999999999999972h-36.144000000000005Z\" fill=\"#4c78a8\" fill-opacity=\"1\" stroke=\"#505050\" stroke-width=\"0\"/><path aria-label=\"x1: 2390; x2: 2606.9; level: 29; level2: 29.9; status: Default; sf: _array_for at array.jl:674 [inlined]\" role=\"graphics-symbol\" aria-roledescription=\"rect mark\" d=\"M382.4,134.22222222222223h34.704000000000065v7.999999999999972h-34.704000000000065Z\" fill=\"#4c78a8\" fill-opacity=\"1\" stroke=\"#505050\" stroke-width=\"0\"/><path aria-label=\"x1: 2390; x2: 2599.9; level: 30; level2: 30.9; status: Default; sf: _array_for at array.jl:671 [inlined]\" role=\"graphics-symbol\" aria-roledescription=\"rect mark\" d=\"M382.4,125.33333333333334h33.584v8h-33.584Z\" fill=\"#4c78a8\" fill-opacity=\"1\" stroke=\"#505050\" stroke-width=\"0\"/><path aria-label=\"x1: 2390; x2: 2599.9; level: 31; level2: 31.9; status: Default; sf: similar at abstractarray.jl:881 [inlined]\" role=\"graphics-symbol\" aria-roledescription=\"rect mark\" d=\"M382.4,116.44444444444444h33.584v8h-33.584Z\" fill=\"#4c78a8\" fill-opacity=\"1\" stroke=\"#505050\" stroke-width=\"0\"/><path aria-label=\"x1: 2390; x2: 2599.9; level: 32; level2: 32.9; status: Default; sf: similar at abstractarray.jl:882 [inlined]\" role=\"graphics-symbol\" aria-roledescription=\"rect mark\" d=\"M382.4,107.55555555555559h33.584v7.999999999999957h-33.584Z\" fill=\"#4c78a8\" fill-opacity=\"1\" stroke=\"#505050\" stroke-width=\"0\"/><path aria-label=\"x1: 2390; x2: 2599.9; level: 33; level2: 33.9; status: Default; sf: Array at boot.jl:486 [inlined]\" role=\"graphics-symbol\" aria-roledescription=\"rect mark\" d=\"M382.4,98.66666666666669h33.584v8h-33.584Z\" fill=\"#4c78a8\" fill-opacity=\"1\" stroke=\"#505050\" stroke-width=\"0\"/><path aria-label=\"x1: 2390; x2: 2599.9; level: 34; level2: 34.9; status: Garbage collection; sf: Array at boot.jl:477 [inlined]\" role=\"graphics-symbol\" aria-roledescription=\"rect mark\" d=\"M382.4,89.77777777777777h33.584v8.000000000000014h-33.584Z\" fill=\"#f58518\" fill-opacity=\"1\" stroke=\"#505050\" stroke-width=\"0\"/><path aria-label=\"x1: 2600; x2: 2606.9; level: 30; level2: 30.9; status: Default; sf: _similar_shape at array.jl:659 [inlined]\" role=\"graphics-symbol\" aria-roledescription=\"rect mark\" d=\"M416,125.33333333333334h1.1040000000000418v8h-1.1040000000000418Z\" fill=\"#4c78a8\" fill-opacity=\"1\" stroke=\"#505050\" stroke-width=\"0\"/><path aria-label=\"x1: 2600; x2: 2606.9; level: 31; level2: 31.9; status: Default; sf: axes at range.jl:696 [inlined]\" role=\"graphics-symbol\" aria-roledescription=\"rect mark\" d=\"M416,116.44444444444444h1.1040000000000418v8h-1.1040000000000418Z\" fill=\"#4c78a8\" fill-opacity=\"1\" stroke=\"#505050\" stroke-width=\"0\"/><path aria-label=\"x1: 2600; x2: 2600.9; level: 32; level2: 32.9; status: Default; sf: length(r::StepRange{Int64, Int64}) at range.jl:775\" role=\"graphics-symbol\" aria-roledescription=\"rect mark\" d=\"M416,107.55555555555559h0.14400000000000546v7.999999999999957h-0.14400000000000546Z\" fill=\"#4c78a8\" fill-opacity=\"1\" stroke=\"#505050\" stroke-width=\"0\"/><path aria-label=\"x1: 2600; x2: 2600.9; level: 33; level2: 33.9; status: Default; sf: isempty at range.jl:659 [inlined]\" role=\"graphics-symbol\" aria-roledescription=\"rect mark\" d=\"M416,98.66666666666669h0.14400000000000546v8h-0.14400000000000546Z\" fill=\"#4c78a8\" fill-opacity=\"1\" stroke=\"#505050\" stroke-width=\"0\"/><path aria-label=\"x1: 2600; x2: 2600.9; level: 34; level2: 34.9; status: Default; sf: &gt; at operators.jl:369 [inlined]\" role=\"graphics-symbol\" aria-roledescription=\"rect mark\" d=\"M416,89.77777777777777h0.14400000000000546v8.000000000000014h-0.14400000000000546Z\" fill=\"#4c78a8\" fill-opacity=\"1\" stroke=\"#505050\" stroke-width=\"0\"/><path aria-label=\"x1: 2600; x2: 2600.9; level: 35; level2: 35.9; status: Default; sf: &lt; at int.jl:83 [inlined]\" role=\"graphics-symbol\" aria-roledescription=\"rect mark\" d=\"M416,80.88888888888891h0.14400000000000546v7.999999999999972h-0.14400000000000546Z\" fill=\"#4c78a8\" fill-opacity=\"1\" stroke=\"#505050\" stroke-width=\"0\"/><path aria-label=\"x1: 2601; x2: 2602.9; level: 32; level2: 32.9; status: Default; sf: length(r::StepRange{Int64, Int64}) at range.jl:779\" role=\"graphics-symbol\" aria-roledescription=\"rect mark\" d=\"M416.15999999999997,107.55555555555559h0.3040000000000873v7.999999999999957h-0.3040000000000873Z\" fill=\"#4c78a8\" fill-opacity=\"1\" stroke=\"#505050\" stroke-width=\"0\"/><path aria-label=\"x1: 2601; x2: 2602.9; level: 33; level2: 33.9; status: Default; sf: == at promotion.jl:499 [inlined]\" role=\"graphics-symbol\" aria-roledescription=\"rect mark\" d=\"M416.15999999999997,98.66666666666669h0.3040000000000873v8h-0.3040000000000873Z\" fill=\"#4c78a8\" fill-opacity=\"1\" stroke=\"#505050\" stroke-width=\"0\"/><path aria-label=\"x1: 2603; x2: 2605.9; level: 32; level2: 32.9; status: Default; sf: length(r::StepRange{Int64, Int64}) at range.jl:784\" role=\"graphics-symbol\" aria-roledescription=\"rect mark\" d=\"M416.47999999999996,107.55555555555559h0.46399999999999864v7.999999999999957h-0.46399999999999864Z\" fill=\"#4c78a8\" fill-opacity=\"1\" stroke=\"#505050\" stroke-width=\"0\"/><path aria-label=\"x1: 2603; x2: 2605.9; level: 33; level2: 33.9; status: Default; sf: div at int.jl:230 [inlined]\" role=\"graphics-symbol\" aria-roledescription=\"rect mark\" d=\"M416.47999999999996,98.66666666666669h0.46399999999999864v8h-0.46399999999999864Z\" fill=\"#4c78a8\" fill-opacity=\"1\" stroke=\"#505050\" stroke-width=\"0\"/><path aria-label=\"x1: 2603; x2: 2605.9; level: 34; level2: 34.9; status: Default; sf: flipsign at int.jl:142 [inlined]\" role=\"graphics-symbol\" aria-roledescription=\"rect mark\" d=\"M416.47999999999996,89.77777777777777h0.46399999999999864v8.000000000000014h-0.46399999999999864Z\" fill=\"#4c78a8\" fill-opacity=\"1\" stroke=\"#505050\" stroke-width=\"0\"/><path aria-label=\"x1: 2606; x2: 2606.9; level: 32; level2: 32.9; status: Default; sf: length(r::StepRange{Int64, Int64}) at range.jl:786\" role=\"graphics-symbol\" aria-roledescription=\"rect mark\" d=\"M416.96,107.55555555555559h0.1440000000000623v7.999999999999957h-0.1440000000000623Z\" fill=\"#4c78a8\" fill-opacity=\"1\" stroke=\"#505050\" stroke-width=\"0\"/><path aria-label=\"x1: 2606; x2: 2606.9; level: 33; level2: 33.9; status: Default; sf: + at int.jl:87 [inlined]\" role=\"graphics-symbol\" aria-roledescription=\"rect mark\" d=\"M416.96,98.66666666666669h0.1440000000000623v8h-0.1440000000000623Z\" fill=\"#4c78a8\" fill-opacity=\"1\" stroke=\"#505050\" stroke-width=\"0\"/><path aria-label=\"x1: 2607; x2: 2613.9; level: 29; level2: 29.9; status: Default; sf: setindex! at array.jl:969 [inlined]\" role=\"graphics-symbol\" aria-roledescription=\"rect mark\" d=\"M417.12,134.22222222222223h1.1040000000000418v7.999999999999972h-1.1040000000000418Z\" fill=\"#4c78a8\" fill-opacity=\"1\" stroke=\"#505050\" stroke-width=\"0\"/><path aria-label=\"x1: 2614; x2: 2615.9; level: 29; level2: 29.9; status: Default; sf: getindex at essentials.jl:13 [inlined]\" role=\"graphics-symbol\" aria-roledescription=\"rect mark\" d=\"M418.24,134.22222222222223h0.3039999999999736v7.999999999999972h-0.3039999999999736Z\" fill=\"#4c78a8\" fill-opacity=\"1\" stroke=\"#505050\" stroke-width=\"0\"/><path aria-label=\"x1: 2616; x2: 2620.9; level: 28; level2: 28.9; status: Default; sf: diagind at dense.jl:225 [inlined]\" role=\"graphics-symbol\" aria-roledescription=\"rect mark\" d=\"M418.56,143.11111111111114h0.7839999999999918v7.999999999999972h-0.7839999999999918Z\" fill=\"#4c78a8\" fill-opacity=\"1\" stroke=\"#505050\" stroke-width=\"0\"/><path aria-label=\"x1: 2616; x2: 2620.9; level: 29; level2: 29.9; status: Default; sf: diagind at dense.jl:201 [inlined]\" role=\"graphics-symbol\" aria-roledescription=\"rect mark\" d=\"M418.56,134.22222222222223h0.7839999999999918v7.999999999999972h-0.7839999999999918Z\" fill=\"#4c78a8\" fill-opacity=\"1\" stroke=\"#505050\" stroke-width=\"0\"/><path aria-label=\"x1: 2616; x2: 2620.9; level: 30; level2: 30.9; status: Default; sf: range at range.jl:142 [inlined]\" role=\"graphics-symbol\" aria-roledescription=\"rect mark\" d=\"M418.56,125.33333333333334h0.7839999999999918v8h-0.7839999999999918Z\" fill=\"#4c78a8\" fill-opacity=\"1\" stroke=\"#505050\" stroke-width=\"0\"/><path aria-label=\"x1: 2616; x2: 2620.9; level: 31; level2: 31.9; status: Default; sf: #range#70 at range.jl:142 [inlined]\" role=\"graphics-symbol\" aria-roledescription=\"rect mark\" d=\"M418.56,116.44444444444444h0.7839999999999918v8h-0.7839999999999918Z\" fill=\"#4c78a8\" fill-opacity=\"1\" stroke=\"#505050\" stroke-width=\"0\"/><path aria-label=\"x1: 2616; x2: 2620.9; level: 32; level2: 32.9; status: Default; sf: _range at range.jl:163 [inlined]\" role=\"graphics-symbol\" aria-roledescription=\"rect mark\" d=\"M418.56,107.55555555555559h0.7839999999999918v7.999999999999957h-0.7839999999999918Z\" fill=\"#4c78a8\" fill-opacity=\"1\" stroke=\"#505050\" stroke-width=\"0\"/><path aria-label=\"x1: 2616; x2: 2620.9; level: 33; level2: 33.9; status: Default; sf: range_start_step_length at range.jl:211 [inlined]\" role=\"graphics-symbol\" aria-roledescription=\"rect mark\" d=\"M418.56,98.66666666666669h0.7839999999999918v8h-0.7839999999999918Z\" fill=\"#4c78a8\" fill-opacity=\"1\" stroke=\"#505050\" stroke-width=\"0\"/><path aria-label=\"x1: 2616; x2: 2620.9; level: 34; level2: 34.9; status: Default; sf: StepRange at range.jl:320 [inlined]\" role=\"graphics-symbol\" aria-roledescription=\"rect mark\" d=\"M418.56,89.77777777777777h0.7839999999999918v8.000000000000014h-0.7839999999999918Z\" fill=\"#4c78a8\" fill-opacity=\"1\" stroke=\"#505050\" stroke-width=\"0\"/><path aria-label=\"x1: 2616; x2: 2617.9; level: 35; level2: 35.9; status: Default; sf: steprange_last(start::Int64, step::Int64, stop::Int64) at int.jl:0\" role=\"graphics-symbol\" aria-roledescription=\"rect mark\" d=\"M418.56,80.88888888888891h0.30400000000003047v7.999999999999972h-0.30400000000003047Z\" fill=\"#4c78a8\" fill-opacity=\"1\" stroke=\"#505050\" stroke-width=\"0\"/><path aria-label=\"x1: 2618; x2: 2619.9; level: 35; level2: 35.9; status: Default; sf: steprange_last(start::Int64, step::Int64, stop::Int64) at range.jl:325\" role=\"graphics-symbol\" aria-roledescription=\"rect mark\" d=\"M418.87999999999994,80.88888888888891h0.3040000000000873v7.999999999999972h-0.3040000000000873Z\" fill=\"#4c78a8\" fill-opacity=\"1\" stroke=\"#505050\" stroke-width=\"0\"/><path aria-label=\"x1: 2620; x2: 2620.9; level: 35; level2: 35.9; status: Default; sf: steprange_last(start::Int64, step::Int64, stop::Int64) at range.jl:333\" role=\"graphics-symbol\" aria-roledescription=\"rect mark\" d=\"M419.20000000000005,80.88888888888891h0.1439999999999486v7.999999999999972h-0.1439999999999486Z\" fill=\"#4c78a8\" fill-opacity=\"1\" stroke=\"#505050\" stroke-width=\"0\"/><path aria-label=\"x1: 2620; x2: 2620.9; level: 36; level2: 36.9; status: Default; sf: == at promotion.jl:499 [inlined]\" role=\"graphics-symbol\" aria-roledescription=\"rect mark\" d=\"M419.20000000000005,72.00000000000001h0.1439999999999486v7.999999999999972h-0.1439999999999486Z\" fill=\"#4c78a8\" fill-opacity=\"1\" stroke=\"#505050\" stroke-width=\"0\"/><path aria-label=\"x1: 2621; x2: 2621.9; level: 27; level2: 27.9; status: Default; sf: steprange_last(start::Int64, step::Int64, stop::Int64) at range.jl:325\" role=\"graphics-symbol\" aria-roledescription=\"rect mark\" d=\"M419.36,152h0.1440000000000623v8h-0.1440000000000623Z\" fill=\"#4c78a8\" fill-opacity=\"1\" stroke=\"#505050\" stroke-width=\"0\"/><path aria-label=\"x1: 2622; x2: 2622.9; level: 25; level2: 25.9; status: Default; sf: predict_f(gp::GaussianProcesses.GPE{Matrix{Float64}, Vector{Float64}, GaussianProcesses.MeanZero, GaussianProcesses.Mat12Iso{Float64}, GaussianProcesses.FullCovariance, GaussianProcesses.IsotropicData{Matrix{Float64}}, PDMats.PDMat{Float64, Matrix{Float64}}, GaussianProcesses.Scalar{Float64}}, x::Base.ReshapedArray{Float64, 2, LinearAlgebra.Adjoint{Float64, Vector{Float64}}, Tuple{}}; full_cov::Bool) at GP.jl:76\" role=\"graphics-symbol\" aria-roledescription=\"rect mark\" d=\"M419.52,169.7777777777778h0.1440000000000623v7.999999999999972h-0.1440000000000623Z\" fill=\"#4c78a8\" fill-opacity=\"1\" stroke=\"#505050\" stroke-width=\"0\"/><path aria-label=\"x1: 2622; x2: 2622.9; level: 26; level2: 26.9; status: Default; sf: iterate at range.jl:891 [inlined]\" role=\"graphics-symbol\" aria-roledescription=\"rect mark\" d=\"M419.52,160.8888888888889h0.1440000000000623v8h-0.1440000000000623Z\" fill=\"#4c78a8\" fill-opacity=\"1\" stroke=\"#505050\" stroke-width=\"0\"/><path aria-label=\"x1: 2622; x2: 2622.9; level: 27; level2: 27.9; status: Default; sf: == at promotion.jl:499 [inlined]\" role=\"graphics-symbol\" aria-roledescription=\"rect mark\" d=\"M419.52,152h0.1440000000000623v8h-0.1440000000000623Z\" fill=\"#4c78a8\" fill-opacity=\"1\" stroke=\"#505050\" stroke-width=\"0\"/><path aria-label=\"x1: 2623; x2: 2674.9; level: 25; level2: 25.9; status: Garbage collection; sf: predict_f(gp::GaussianProcesses.GPE{Matrix{Float64}, Vector{Float64}, GaussianProcesses.MeanZero, GaussianProcesses.Mat12Iso{Float64}, GaussianProcesses.FullCovariance, GaussianProcesses.IsotropicData{Matrix{Float64}}, PDMats.PDMat{Float64, Matrix{Float64}}, GaussianProcesses.Scalar{Float64}}, x::Base.ReshapedArray{Float64, 2, LinearAlgebra.Adjoint{Float64, Vector{Float64}}, Tuple{}}; full_cov::Bool) at GP.jl:77\" role=\"graphics-symbol\" aria-roledescription=\"rect mark\" d=\"M419.67999999999995,169.7777777777778h8.304000000000087v7.999999999999972h-8.304000000000087Z\" fill=\"#f58518\" fill-opacity=\"1\" stroke=\"#505050\" stroke-width=\"0\"/><path aria-label=\"x1: 2675; x2: 2675.9; level: 25; level2: 25.9; status: Default; sf: _unsafe_getindex(::IndexLinear, ::Base.ReshapedArray{Float64, 2, LinearAlgebra.Adjoint{Float64, Vector{Float64}}, Tuple{}}, ::Base.Slice{Base.OneTo{Int64}}, ::UnitRange{Int64}) at multidimensional.jl:870\" role=\"graphics-symbol\" aria-roledescription=\"rect mark\" d=\"M428,169.7777777777778h0.14400000000000546v7.999999999999972h-0.14400000000000546Z\" fill=\"#4c78a8\" fill-opacity=\"1\" stroke=\"#505050\" stroke-width=\"0\"/><path aria-label=\"x1: 2682; x2: 2682.9; level: 23; level2: 23.9; status: Default; sf: (::BayesianSafetyValidation.var&quot;#21#23&quot;)(y::Vector{Float64}) at surrogate_model.jl:33\" role=\"graphics-symbol\" aria-roledescription=\"rect mark\" d=\"M429.12,187.55555555555557h0.1440000000000623v8h-0.1440000000000623Z\" fill=\"#4c78a8\" fill-opacity=\"1\" stroke=\"#505050\" stroke-width=\"0\"/><path aria-label=\"x1: 2683; x2: 2683.9; level: 23; level2: 23.9; status: Default; sf: predict_f(gp::GaussianProcesses.GPE{Matrix{Float64}, Vector{Float64}, GaussianProcesses.MeanZero, GaussianProcesses.Mat12Iso{Float64}, GaussianProcesses.FullCovariance, GaussianProcesses.IsotropicData{Matrix{Float64}}, PDMats.PDMat{Float64, Matrix{Float64}}, GaussianProcesses.Scalar{Float64}}, x::Base.ReshapedArray{Float64, 2, LinearAlgebra.Adjoint{Float64, Vector{Float64}}, Tuple{}}; full_cov::Bool) at GP.jl:0\" role=\"graphics-symbol\" aria-roledescription=\"rect mark\" d=\"M429.28,187.55555555555557h0.1440000000000623v8h-0.1440000000000623Z\" fill=\"#4c78a8\" fill-opacity=\"1\" stroke=\"#505050\" stroke-width=\"0\"/><path aria-label=\"x1: 2684; x2: 2694.9; level: 15; level2: 15.9; status: Default; sf: similar at broadcast.jl:211 [inlined]\" role=\"graphics-symbol\" aria-roledescription=\"rect mark\" d=\"M429.44000000000005,258.6666666666667h1.7439999999999714v8h-1.7439999999999714Z\" fill=\"#4c78a8\" fill-opacity=\"1\" stroke=\"#505050\" stroke-width=\"0\"/><path aria-label=\"x1: 2684; x2: 2694.9; level: 16; level2: 16.9; status: Default; sf: similar at broadcast.jl:212 [inlined]\" role=\"graphics-symbol\" aria-roledescription=\"rect mark\" d=\"M429.44000000000005,249.7777777777778h1.7439999999999714v7.999999999999972h-1.7439999999999714Z\" fill=\"#4c78a8\" fill-opacity=\"1\" stroke=\"#505050\" stroke-width=\"0\"/><path aria-label=\"x1: 2684; x2: 2694.9; level: 17; level2: 17.9; status: Default; sf: similar at abstractarray.jl:881 [inlined]\" role=\"graphics-symbol\" aria-roledescription=\"rect mark\" d=\"M429.44000000000005,240.88888888888889h1.7439999999999714v8h-1.7439999999999714Z\" fill=\"#4c78a8\" fill-opacity=\"1\" stroke=\"#505050\" stroke-width=\"0\"/><path aria-label=\"x1: 2684; x2: 2694.9; level: 18; level2: 18.9; status: Default; sf: similar at abstractarray.jl:882 [inlined]\" role=\"graphics-symbol\" aria-roledescription=\"rect mark\" d=\"M429.44000000000005,232.00000000000003h1.7439999999999714v7.999999999999972h-1.7439999999999714Z\" fill=\"#4c78a8\" fill-opacity=\"1\" stroke=\"#505050\" stroke-width=\"0\"/><path aria-label=\"x1: 2684; x2: 2694.9; level: 19; level2: 19.9; status: Default; sf: Array at boot.jl:494 [inlined]\" role=\"graphics-symbol\" aria-roledescription=\"rect mark\" d=\"M429.44000000000005,223.11111111111111h1.7439999999999714v7.999999999999972h-1.7439999999999714Z\" fill=\"#4c78a8\" fill-opacity=\"1\" stroke=\"#505050\" stroke-width=\"0\"/><path aria-label=\"x1: 2684; x2: 2694.9; level: 20; level2: 20.9; status: Default; sf: Array at boot.jl:488 [inlined]\" role=\"graphics-symbol\" aria-roledescription=\"rect mark\" d=\"M429.44000000000005,214.22222222222223h1.7439999999999714v8h-1.7439999999999714Z\" fill=\"#4c78a8\" fill-opacity=\"1\" stroke=\"#505050\" stroke-width=\"0\"/><path aria-label=\"x1: 2684; x2: 2694.9; level: 21; level2: 21.9; status: Default; sf: Array at boot.jl:481 [inlined]\" role=\"graphics-symbol\" aria-roledescription=\"rect mark\" d=\"M429.44000000000005,205.33333333333337h1.7439999999999714v7.999999999999972h-1.7439999999999714Z\" fill=\"#4c78a8\" fill-opacity=\"1\" stroke=\"#505050\" stroke-width=\"0\"/><path aria-label=\"x1: 2696; x2: 3316.9; level: 10; level2: 10.9; status: Default; sf: bayesian_safety_validation(sparams::DummyParameters, models::Vector{OperationalParameters}; gp::Nothing, T::Int64, λ::Float64, seed::Int64, initialize_system::Bool, reset_system::Bool, show_acquisition_plots::Bool, show_plots::Bool, show_combined_plot::Bool, show_tight_combined_plot::Bool, hide_model_after_first::Bool, only_plot_last::Bool, latex_labels::Bool, show_alert::Bool, acquisitions_to_run::Vector{Int64}, probability_valued_system::Bool, skip_if_no_failures::Bool, save_plots::Bool, save_plots_svg::Bool, plots_dir::String, samples_per_batch::Int64, single_failure_mode::Bool, refit_every_point::Bool, input_discretization_steps::Int64, p_estimate_discretization_steps::Int64, match_original::Bool, kwargs::Base.Pairs{Symbol, Union{}, Tuple{}, NamedTuple{(), Tuple{}}}) at bayesian_safety_validation.jl:82\" role=\"graphics-symbol\" aria-roledescription=\"rect mark\" d=\"M431.36,303.1111111111111h99.34399999999994v8.000000000000057h-99.34399999999994Z\" fill=\"#4c78a8\" fill-opacity=\"1\" stroke=\"#505050\" stroke-width=\"0\"/><path aria-label=\"x1: 2696; x2: 3316.9; level: 11; level2: 11.9; status: Default; sf: p_output at surrogate_model.jl:87 [inlined]\" role=\"graphics-symbol\" aria-roledescription=\"rect mark\" d=\"M431.36,294.22222222222223h99.34399999999994v8h-99.34399999999994Z\" fill=\"#4c78a8\" fill-opacity=\"1\" stroke=\"#505050\" stroke-width=\"0\"/><path aria-label=\"x1: 2696; x2: 2696.9; level: 12; level2: 12.9; status: Default; sf: p_output(models::Vector{OperationalParameters}; num_steps::Int64, m::Vector{Int64}) at surrogate_model.jl:88\" role=\"graphics-symbol\" aria-roledescription=\"rect mark\" d=\"M431.36,285.33333333333337h0.1439999999999486v8h-0.1439999999999486Z\" fill=\"#4c78a8\" fill-opacity=\"1\" stroke=\"#505050\" stroke-width=\"0\"/><path aria-label=\"x1: 2696; x2: 2696.9; level: 13; level2: 13.9; status: Runtime dispatch; sf: make_broadcastable_grid(models::Vector{OperationalParameters}, m::Vector{Int64}) at surrogate_model.jl:63\" role=\"graphics-symbol\" aria-roledescription=\"rect mark\" d=\"M431.36,276.44444444444446h0.1439999999999486v8h-0.1439999999999486Z\" fill=\"#e45756\" fill-opacity=\"1\" stroke=\"#505050\" stroke-width=\"0\"/><path aria-label=\"x1: 2696; x2: 2696.9; level: 14; level2: 14.9; status: Default; sf: make_broadcastable_grid(inputs::Vector{Vector{Float64}}) at surrogate_model.jl:67\" role=\"graphics-symbol\" aria-roledescription=\"rect mark\" d=\"M431.36,267.55555555555554h0.1439999999999486v8h-0.1439999999999486Z\" fill=\"#4c78a8\" fill-opacity=\"1\" stroke=\"#505050\" stroke-width=\"0\"/><path aria-label=\"x1: 2696; x2: 2696.9; level: 15; level2: 15.9; status: Default; sf: collect(itr::Base.Generator{Base.Iterators.Enumerate{Vector{Vector{Float64}}}, BayesianSafetyValidation.var&quot;#34#35&quot;{Vector{Vector{Float64}}}}) at array.jl:782\" role=\"graphics-symbol\" aria-roledescription=\"rect mark\" d=\"M431.36,258.6666666666667h0.1439999999999486v8h-0.1439999999999486Z\" fill=\"#4c78a8\" fill-opacity=\"1\" stroke=\"#505050\" stroke-width=\"0\"/><path aria-label=\"x1: 2696; x2: 2696.9; level: 16; level2: 16.9; status: Default; sf: iterate at generator.jl:47 [inlined]\" role=\"graphics-symbol\" aria-roledescription=\"rect mark\" d=\"M431.36,249.7777777777778h0.1439999999999486v7.999999999999972h-0.1439999999999486Z\" fill=\"#4c78a8\" fill-opacity=\"1\" stroke=\"#505050\" stroke-width=\"0\"/><path aria-label=\"x1: 2696; x2: 2696.9; level: 17; level2: 17.9; status: Runtime dispatch; sf: (::BayesianSafetyValidation.var&quot;#34#35&quot;{Vector{Vector{Float64}}})(::Tuple{Int64, Vector{Float64}}) at array.jl:0\" role=\"graphics-symbol\" aria-roledescription=\"rect mark\" d=\"M431.36,240.88888888888889h0.1439999999999486v8h-0.1439999999999486Z\" fill=\"#e45756\" fill-opacity=\"1\" stroke=\"#505050\" stroke-width=\"0\"/><path aria-label=\"x1: 2696; x2: 2696.9; level: 18; level2: 18.9; status: Runtime dispatch; sf: vect(::Function, ::Vararg{Any}) at array.jl:144\" role=\"graphics-symbol\" aria-roledescription=\"rect mark\" d=\"M431.36,232.00000000000003h0.1439999999999486v7.999999999999972h-0.1439999999999486Z\" fill=\"#e45756\" fill-opacity=\"1\" stroke=\"#505050\" stroke-width=\"0\"/><path aria-label=\"x1: 2697; x2: 3316.9; level: 12; level2: 12.9; status: Runtime dispatch; sf: p_output(models::Vector{OperationalParameters}; num_steps::Int64, m::Vector{Int64}) at surrogate_model.jl:91\" role=\"graphics-symbol\" aria-roledescription=\"rect mark\" d=\"M431.52,285.33333333333337h99.18399999999997v8h-99.18399999999997Z\" fill=\"#e45756\" fill-opacity=\"1\" stroke=\"#505050\" stroke-width=\"0\"/><path aria-label=\"x1: 2697; x2: 3316.9; level: 13; level2: 13.9; status: Default; sf: materialize(bc::Base.Broadcast.Broadcasted{Base.Broadcast.DefaultArrayStyle{3}, Nothing, BayesianSafetyValidation.var&quot;#40#41&quot;{Vector{OperationalParameters}}, Tuple{Array{Float64, 3}, Array{Float64, 3}, Array{Float64, 3}}}) at broadcast.jl:873\" role=\"graphics-symbol\" aria-roledescription=\"rect mark\" d=\"M431.52,276.44444444444446h99.18399999999997v8h-99.18399999999997Z\" fill=\"#4c78a8\" fill-opacity=\"1\" stroke=\"#505050\" stroke-width=\"0\"/><path aria-label=\"x1: 2697; x2: 2697.9; level: 14; level2: 14.9; status: Runtime dispatch; sf: copy at broadcast.jl:913 [inlined]\" role=\"graphics-symbol\" aria-roledescription=\"rect mark\" d=\"M431.52,267.55555555555554h0.1440000000000623v8h-0.1440000000000623Z\" fill=\"#e45756\" fill-opacity=\"1\" stroke=\"#505050\" stroke-width=\"0\"/><path aria-label=\"x1: 2697; x2: 2697.9; level: 15; level2: 15.9; status: Default; sf: similar(bc::Base.Broadcast.Broadcasted{Base.Broadcast.DefaultArrayStyle{3}, Tuple{Base.OneTo{Int64}, Base.OneTo{Int64}, Base.OneTo{Int64}}, BayesianSafetyValidation.var&quot;#40#41&quot;{Vector{OperationalParameters}}, Tuple{Base.Broadcast.Extruded{Array{Float64, 3}, Tuple{Bool, Bool, Bool}, Tuple{Int64, Int64, Int64}}, Base.Broadcast.Extruded{Array{Float64, 3}, Tuple{Bool, Bool, Bool}, Tuple{Int64, Int64, Int64}}, Base.Broadcast.Extruded{Array{Float64, 3}, Tuple{Bool, Bool, Bool}, Tuple{Int64, Int64, Int64}}}}, #unused#::Type{Float64}) at broadcast.jl:211\" role=\"graphics-symbol\" aria-roledescription=\"rect mark\" d=\"M431.52,258.6666666666667h0.1440000000000623v8h-0.1440000000000623Z\" fill=\"#4c78a8\" fill-opacity=\"1\" stroke=\"#505050\" stroke-width=\"0\"/><path aria-label=\"x1: 2697; x2: 2697.9; level: 16; level2: 16.9; status: Default; sf: similar at broadcast.jl:212 [inlined]\" role=\"graphics-symbol\" aria-roledescription=\"rect mark\" d=\"M431.52,249.7777777777778h0.1440000000000623v7.999999999999972h-0.1440000000000623Z\" fill=\"#4c78a8\" fill-opacity=\"1\" stroke=\"#505050\" stroke-width=\"0\"/><path aria-label=\"x1: 2697; x2: 2697.9; level: 17; level2: 17.9; status: Default; sf: similar at abstractarray.jl:881 [inlined]\" role=\"graphics-symbol\" aria-roledescription=\"rect mark\" d=\"M431.52,240.88888888888889h0.1440000000000623v8h-0.1440000000000623Z\" fill=\"#4c78a8\" fill-opacity=\"1\" stroke=\"#505050\" stroke-width=\"0\"/><path aria-label=\"x1: 2697; x2: 2697.9; level: 18; level2: 18.9; status: Default; sf: similar at abstractarray.jl:882 [inlined]\" role=\"graphics-symbol\" aria-roledescription=\"rect mark\" d=\"M431.52,232.00000000000003h0.1440000000000623v7.999999999999972h-0.1440000000000623Z\" fill=\"#4c78a8\" fill-opacity=\"1\" stroke=\"#505050\" stroke-width=\"0\"/><path aria-label=\"x1: 2697; x2: 2697.9; level: 19; level2: 19.9; status: Default; sf: Array at boot.jl:494 [inlined]\" role=\"graphics-symbol\" aria-roledescription=\"rect mark\" d=\"M431.52,223.11111111111111h0.1440000000000623v7.999999999999972h-0.1440000000000623Z\" fill=\"#4c78a8\" fill-opacity=\"1\" stroke=\"#505050\" stroke-width=\"0\"/><path aria-label=\"x1: 2697; x2: 2697.9; level: 20; level2: 20.9; status: Default; sf: Array at boot.jl:488 [inlined]\" role=\"graphics-symbol\" aria-roledescription=\"rect mark\" d=\"M431.52,214.22222222222223h0.1440000000000623v8h-0.1440000000000623Z\" fill=\"#4c78a8\" fill-opacity=\"1\" stroke=\"#505050\" stroke-width=\"0\"/><path aria-label=\"x1: 2697; x2: 2697.9; level: 21; level2: 21.9; status: Default; sf: Array at boot.jl:481 [inlined]\" role=\"graphics-symbol\" aria-roledescription=\"rect mark\" d=\"M431.52,205.33333333333337h0.1440000000000623v7.999999999999972h-0.1440000000000623Z\" fill=\"#4c78a8\" fill-opacity=\"1\" stroke=\"#505050\" stroke-width=\"0\"/><path aria-label=\"x1: 2698; x2: 3316.9; level: 14; level2: 14.9; status: Runtime dispatch; sf: copy at broadcast.jl:920 [inlined]\" role=\"graphics-symbol\" aria-roledescription=\"rect mark\" d=\"M431.67999999999995,267.55555555555554h99.024v8h-99.024Z\" fill=\"#e45756\" fill-opacity=\"1\" stroke=\"#505050\" stroke-width=\"0\"/><path aria-label=\"x1: 2698; x2: 2698.9; level: 15; level2: 15.9; status: Default; sf: copyto_nonleaf!(dest::Array{Float64, 3}, bc::Base.Broadcast.Broadcasted{Base.Broadcast.DefaultArrayStyle{3}, Tuple{Base.OneTo{Int64}, Base.OneTo{Int64}, Base.OneTo{Int64}}, BayesianSafetyValidation.var&quot;#40#41&quot;{Vector{OperationalParameters}}, Tuple{Base.Broadcast.Extruded{Array{Float64, 3}, Tuple{Bool, Bool, Bool}, Tuple{Int64, Int64, Int64}}, Base.Broadcast.Extruded{Array{Float64, 3}, Tuple{Bool, Bool, Bool}, Tuple{Int64, Int64, Int64}}, Base.Broadcast.Extruded{Array{Float64, 3}, Tuple{Bool, Bool, Bool}, Tuple{Int64, Int64, Int64}}}}, iter::CartesianIndices{3, Tuple{Base.OneTo{Int64}, Base.OneTo{Int64}, Base.OneTo{Int64}}}, state::CartesianIndex{3}, count::Int64) at broadcast.jl:0\" role=\"graphics-symbol\" aria-roledescription=\"rect mark\" d=\"M431.67999999999995,258.6666666666667h0.1440000000000623v8h-0.1440000000000623Z\" fill=\"#4c78a8\" fill-opacity=\"1\" stroke=\"#505050\" stroke-width=\"0\"/><path aria-label=\"x1: 2699; x2: 3311.9; level: 15; level2: 15.9; status: Default; sf: copyto_nonleaf!(dest::Array{Float64, 3}, bc::Base.Broadcast.Broadcasted{Base.Broadcast.DefaultArrayStyle{3}, Tuple{Base.OneTo{Int64}, Base.OneTo{Int64}, Base.OneTo{Int64}}, BayesianSafetyValidation.var&quot;#40#41&quot;{Vector{OperationalParameters}}, Tuple{Base.Broadcast.Extruded{Array{Float64, 3}, Tuple{Bool, Bool, Bool}, Tuple{Int64, Int64, Int64}}, Base.Broadcast.Extruded{Array{Float64, 3}, Tuple{Bool, Bool, Bool}, Tuple{Int64, Int64, Int64}}, Base.Broadcast.Extruded{Array{Float64, 3}, Tuple{Bool, Bool, Bool}, Tuple{Int64, Int64, Int64}}}}, iter::CartesianIndices{3, Tuple{Base.OneTo{Int64}, Base.OneTo{Int64}, Base.OneTo{Int64}}}, state::CartesianIndex{3}, count::Int64) at broadcast.jl:1068\" role=\"graphics-symbol\" aria-roledescription=\"rect mark\" d=\"M431.84,258.6666666666667h98.06400000000002v8h-98.06400000000002Z\" fill=\"#4c78a8\" fill-opacity=\"1\" stroke=\"#505050\" stroke-width=\"0\"/><path aria-label=\"x1: 2699; x2: 3311.9; level: 16; level2: 16.9; status: Default; sf: getindex at broadcast.jl:610 [inlined]\" role=\"graphics-symbol\" aria-roledescription=\"rect mark\" d=\"M431.84,249.7777777777778h98.06400000000002v7.999999999999972h-98.06400000000002Z\" fill=\"#4c78a8\" fill-opacity=\"1\" stroke=\"#505050\" stroke-width=\"0\"/><path aria-label=\"x1: 2699; x2: 2705.9; level: 17; level2: 17.9; status: Default; sf: _broadcast_getindex at broadcast.jl:655 [inlined]\" role=\"graphics-symbol\" aria-roledescription=\"rect mark\" d=\"M431.84,240.88888888888889h1.1040000000000418v8h-1.1040000000000418Z\" fill=\"#4c78a8\" fill-opacity=\"1\" stroke=\"#505050\" stroke-width=\"0\"/><path aria-label=\"x1: 2699; x2: 2705.9; level: 18; level2: 18.9; status: Default; sf: _getindex at broadcast.jl:679 [inlined]\" role=\"graphics-symbol\" aria-roledescription=\"rect mark\" d=\"M431.84,232.00000000000003h1.1040000000000418v7.999999999999972h-1.1040000000000418Z\" fill=\"#4c78a8\" fill-opacity=\"1\" stroke=\"#505050\" stroke-width=\"0\"/><path aria-label=\"x1: 2699; x2: 2699.9; level: 19; level2: 19.9; status: Default; sf: _broadcast_getindex at broadcast.jl:649 [inlined]\" role=\"graphics-symbol\" aria-roledescription=\"rect mark\" d=\"M431.84,223.11111111111111h0.1440000000000623v7.999999999999972h-0.1440000000000623Z\" fill=\"#4c78a8\" fill-opacity=\"1\" stroke=\"#505050\" stroke-width=\"0\"/><path aria-label=\"x1: 2699; x2: 2699.9; level: 20; level2: 20.9; status: Default; sf: getindex at multidimensional.jl:668 [inlined]\" role=\"graphics-symbol\" aria-roledescription=\"rect mark\" d=\"M431.84,214.22222222222223h0.1440000000000623v8h-0.1440000000000623Z\" fill=\"#4c78a8\" fill-opacity=\"1\" stroke=\"#505050\" stroke-width=\"0\"/><path aria-label=\"x1: 2699; x2: 2699.9; level: 21; level2: 21.9; status: Default; sf: getindex at essentials.jl:14 [inlined]\" role=\"graphics-symbol\" aria-roledescription=\"rect mark\" d=\"M431.84,205.33333333333337h0.1440000000000623v7.999999999999972h-0.1440000000000623Z\" fill=\"#4c78a8\" fill-opacity=\"1\" stroke=\"#505050\" stroke-width=\"0\"/><path aria-label=\"x1: 2700; x2: 2705.9; level: 19; level2: 19.9; status: Default; sf: _getindex at broadcast.jl:679 [inlined]\" role=\"graphics-symbol\" aria-roledescription=\"rect mark\" d=\"M432,223.11111111111111h0.9440000000000168v7.999999999999972h-0.9440000000000168Z\" fill=\"#4c78a8\" fill-opacity=\"1\" stroke=\"#505050\" stroke-width=\"0\"/><path aria-label=\"x1: 2700; x2: 2702.9; level: 20; level2: 20.9; status: Default; sf: _broadcast_getindex at broadcast.jl:649 [inlined]\" role=\"graphics-symbol\" aria-roledescription=\"rect mark\" d=\"M432,214.22222222222223h0.4640000000000555v8h-0.4640000000000555Z\" fill=\"#4c78a8\" fill-opacity=\"1\" stroke=\"#505050\" stroke-width=\"0\"/><path aria-label=\"x1: 2700; x2: 2700.9; level: 21; level2: 21.9; status: Default; sf: newindex at broadcast.jl:588 [inlined]\" role=\"graphics-symbol\" aria-roledescription=\"rect mark\" d=\"M432,205.33333333333337h0.14400000000000546v7.999999999999972h-0.14400000000000546Z\" fill=\"#4c78a8\" fill-opacity=\"1\" stroke=\"#505050\" stroke-width=\"0\"/><path aria-label=\"x1: 2700; x2: 2700.9; level: 22; level2: 22.9; status: Default; sf: _newindex at broadcast.jl:591 [inlined]\" role=\"graphics-symbol\" aria-roledescription=\"rect mark\" d=\"M432,196.44444444444446h0.14400000000000546v7.999999999999972h-0.14400000000000546Z\" fill=\"#4c78a8\" fill-opacity=\"1\" stroke=\"#505050\" stroke-width=\"0\"/><path aria-label=\"x1: 2700; x2: 2700.9; level: 23; level2: 23.9; status: Default; sf: _newindex at broadcast.jl:591 [inlined]\" role=\"graphics-symbol\" aria-roledescription=\"rect mark\" d=\"M432,187.55555555555557h0.14400000000000546v8h-0.14400000000000546Z\" fill=\"#4c78a8\" fill-opacity=\"1\" stroke=\"#505050\" stroke-width=\"0\"/><path aria-label=\"x1: 2700; x2: 2700.9; level: 24; level2: 24.9; status: Default; sf: ifelse at essentials.jl:575 [inlined]\" role=\"graphics-symbol\" aria-roledescription=\"rect mark\" d=\"M432,178.66666666666666h0.14400000000000546v8h-0.14400000000000546Z\" fill=\"#4c78a8\" fill-opacity=\"1\" stroke=\"#505050\" stroke-width=\"0\"/><path aria-label=\"x1: 2701; x2: 2702.9; level: 21; level2: 21.9; status: Default; sf: getindex at multidimensional.jl:668 [inlined]\" role=\"graphics-symbol\" aria-roledescription=\"rect mark\" d=\"M432.16,205.33333333333337h0.30400000000003047v7.999999999999972h-0.30400000000003047Z\" fill=\"#4c78a8\" fill-opacity=\"1\" stroke=\"#505050\" stroke-width=\"0\"/><path aria-label=\"x1: 2701; x2: 2702.9; level: 22; level2: 22.9; status: Default; sf: getindex at essentials.jl:14 [inlined]\" role=\"graphics-symbol\" aria-roledescription=\"rect mark\" d=\"M432.16,196.44444444444446h0.30400000000003047v7.999999999999972h-0.30400000000003047Z\" fill=\"#4c78a8\" fill-opacity=\"1\" stroke=\"#505050\" stroke-width=\"0\"/><path aria-label=\"x1: 2703; x2: 2705.9; level: 20; level2: 20.9; status: Default; sf: _getindex at broadcast.jl:680 [inlined]\" role=\"graphics-symbol\" aria-roledescription=\"rect mark\" d=\"M432.47999999999996,214.22222222222223h0.4640000000000555v8h-0.4640000000000555Z\" fill=\"#4c78a8\" fill-opacity=\"1\" stroke=\"#505050\" stroke-width=\"0\"/><path aria-label=\"x1: 2703; x2: 2705.9; level: 21; level2: 21.9; status: Default; sf: _broadcast_getindex at broadcast.jl:649 [inlined]\" role=\"graphics-symbol\" aria-roledescription=\"rect mark\" d=\"M432.47999999999996,205.33333333333337h0.4640000000000555v7.999999999999972h-0.4640000000000555Z\" fill=\"#4c78a8\" fill-opacity=\"1\" stroke=\"#505050\" stroke-width=\"0\"/><path aria-label=\"x1: 2703; x2: 2705.9; level: 22; level2: 22.9; status: Default; sf: getindex at multidimensional.jl:668 [inlined]\" role=\"graphics-symbol\" aria-roledescription=\"rect mark\" d=\"M432.47999999999996,196.44444444444446h0.4640000000000555v7.999999999999972h-0.4640000000000555Z\" fill=\"#4c78a8\" fill-opacity=\"1\" stroke=\"#505050\" stroke-width=\"0\"/><path aria-label=\"x1: 2703; x2: 2705.9; level: 23; level2: 23.9; status: Default; sf: getindex at essentials.jl:14 [inlined]\" role=\"graphics-symbol\" aria-roledescription=\"rect mark\" d=\"M432.47999999999996,187.55555555555557h0.4640000000000555v8h-0.4640000000000555Z\" fill=\"#4c78a8\" fill-opacity=\"1\" stroke=\"#505050\" stroke-width=\"0\"/><path aria-label=\"x1: 2706; x2: 3311.9; level: 17; level2: 17.9; status: Default; sf: _broadcast_getindex at broadcast.jl:656 [inlined]\" role=\"graphics-symbol\" aria-roledescription=\"rect mark\" d=\"M432.96000000000004,240.88888888888889h96.94399999999996v8h-96.94399999999996Z\" fill=\"#4c78a8\" fill-opacity=\"1\" stroke=\"#505050\" stroke-width=\"0\"/><path aria-label=\"x1: 2706; x2: 3311.9; level: 18; level2: 18.9; status: Default; sf: _broadcast_getindex_evalf at broadcast.jl:683 [inlined]\" role=\"graphics-symbol\" aria-roledescription=\"rect mark\" d=\"M432.96000000000004,232.00000000000003h96.94399999999996v7.999999999999972h-96.94399999999996Z\" fill=\"#4c78a8\" fill-opacity=\"1\" stroke=\"#505050\" stroke-width=\"0\"/><path aria-label=\"x1: 2706; x2: 3311.9; level: 19; level2: 19.9; status: Runtime dispatch; sf: #40 at surrogate_model.jl:90 [inlined]\" role=\"graphics-symbol\" aria-roledescription=\"rect mark\" d=\"M432.96000000000004,223.11111111111111h96.94399999999996v7.999999999999972h-96.94399999999996Z\" fill=\"#e45756\" fill-opacity=\"1\" stroke=\"#505050\" stroke-width=\"0\"/><path aria-label=\"x1: 2706; x2: 2745.9; level: 20; level2: 20.9; status: Default; sf: vect at array.jl:126 [inlined]\" role=\"graphics-symbol\" aria-roledescription=\"rect mark\" d=\"M432.96000000000004,214.22222222222223h6.383999999999958v8h-6.383999999999958Z\" fill=\"#4c78a8\" fill-opacity=\"1\" stroke=\"#505050\" stroke-width=\"0\"/><path aria-label=\"x1: 2706; x2: 2744.9; level: 21; level2: 21.9; status: Default; sf: _array_for at array.jl:674 [inlined]\" role=\"graphics-symbol\" aria-roledescription=\"rect mark\" d=\"M432.96000000000004,205.33333333333337h6.2239999999999895v7.999999999999972h-6.2239999999999895Z\" fill=\"#4c78a8\" fill-opacity=\"1\" stroke=\"#505050\" stroke-width=\"0\"/><path aria-label=\"x1: 2706; x2: 2744.9; level: 22; level2: 22.9; status: Default; sf: _array_for at array.jl:671 [inlined]\" role=\"graphics-symbol\" aria-roledescription=\"rect mark\" d=\"M432.96000000000004,196.44444444444446h6.2239999999999895v7.999999999999972h-6.2239999999999895Z\" fill=\"#4c78a8\" fill-opacity=\"1\" stroke=\"#505050\" stroke-width=\"0\"/><path aria-label=\"x1: 2706; x2: 2744.9; level: 23; level2: 23.9; status: Default; sf: similar at abstractarray.jl:881 [inlined]\" role=\"graphics-symbol\" aria-roledescription=\"rect mark\" d=\"M432.96000000000004,187.55555555555557h6.2239999999999895v8h-6.2239999999999895Z\" fill=\"#4c78a8\" fill-opacity=\"1\" stroke=\"#505050\" stroke-width=\"0\"/><path aria-label=\"x1: 2706; x2: 2744.9; level: 24; level2: 24.9; status: Default; sf: similar at abstractarray.jl:882 [inlined]\" role=\"graphics-symbol\" aria-roledescription=\"rect mark\" d=\"M432.96000000000004,178.66666666666666h6.2239999999999895v8h-6.2239999999999895Z\" fill=\"#4c78a8\" fill-opacity=\"1\" stroke=\"#505050\" stroke-width=\"0\"/><path aria-label=\"x1: 2706; x2: 2744.9; level: 25; level2: 25.9; status: Default; sf: Array at boot.jl:486 [inlined]\" role=\"graphics-symbol\" aria-roledescription=\"rect mark\" d=\"M432.96000000000004,169.7777777777778h6.2239999999999895v7.999999999999972h-6.2239999999999895Z\" fill=\"#4c78a8\" fill-opacity=\"1\" stroke=\"#505050\" stroke-width=\"0\"/><path aria-label=\"x1: 2706; x2: 2744.9; level: 26; level2: 26.9; status: Garbage collection; sf: Array at boot.jl:477 [inlined]\" role=\"graphics-symbol\" aria-roledescription=\"rect mark\" d=\"M432.96000000000004,160.8888888888889h6.2239999999999895v8h-6.2239999999999895Z\" fill=\"#f58518\" fill-opacity=\"1\" stroke=\"#505050\" stroke-width=\"0\"/><path aria-label=\"x1: 2745; x2: 2745.9; level: 21; level2: 21.9; status: Default; sf: setindex! at array.jl:969 [inlined]\" role=\"graphics-symbol\" aria-roledescription=\"rect mark\" d=\"M439.20000000000005,205.33333333333337h0.1439999999999486v7.999999999999972h-0.1439999999999486Z\" fill=\"#4c78a8\" fill-opacity=\"1\" stroke=\"#505050\" stroke-width=\"0\"/><path aria-label=\"x1: 2747; x2: 3309.9; level: 20; level2: 20.9; status: Garbage collection; sf: pdf(models::Vector{OperationalParameters}, x::Vector{Float64}) at parameters.jl:12\" role=\"graphics-symbol\" aria-roledescription=\"rect mark\" d=\"M439.52,214.22222222222223h90.06400000000008v8h-90.06400000000008Z\" fill=\"#f58518\" fill-opacity=\"1\" stroke=\"#505050\" stroke-width=\"0\"/><path aria-label=\"x1: 2747; x2: 2787.9; level: 21; level2: 21.9; status: Default; sf: collect(itr::Base.Generator{Base.Iterators.Enumerate{Vector{OperationalParameters}}, BayesianSafetyValidation.var&quot;#5#6&quot;{Vector{Float64}}}) at array.jl:782\" role=\"graphics-symbol\" aria-roledescription=\"rect mark\" d=\"M439.52,205.33333333333337h6.543999999999983v7.999999999999972h-6.543999999999983Z\" fill=\"#4c78a8\" fill-opacity=\"1\" stroke=\"#505050\" stroke-width=\"0\"/><path aria-label=\"x1: 2747; x2: 2787.9; level: 22; level2: 22.9; status: Default; sf: iterate at generator.jl:47 [inlined]\" role=\"graphics-symbol\" aria-roledescription=\"rect mark\" d=\"M439.52,196.44444444444446h6.543999999999983v7.999999999999972h-6.543999999999983Z\" fill=\"#4c78a8\" fill-opacity=\"1\" stroke=\"#505050\" stroke-width=\"0\"/><path aria-label=\"x1: 2747; x2: 2787.9; level: 23; level2: 23.9; status: Garbage collection; sf: (::BayesianSafetyValidation.var&quot;#5#6&quot;{Vector{Float64}})(::Tuple{Int64, OperationalParameters}) at none:0\" role=\"graphics-symbol\" aria-roledescription=\"rect mark\" d=\"M439.52,187.55555555555557h6.543999999999983v8h-6.543999999999983Z\" fill=\"#f58518\" fill-opacity=\"1\" stroke=\"#505050\" stroke-width=\"0\"/><path aria-label=\"x1: 2747; x2: 2749.9; level: 24; level2: 24.9; status: Default; sf: getindex at essentials.jl:13 [inlined]\" role=\"graphics-symbol\" aria-roledescription=\"rect mark\" d=\"M439.52,178.66666666666666h0.4640000000000555v8h-0.4640000000000555Z\" fill=\"#4c78a8\" fill-opacity=\"1\" stroke=\"#505050\" stroke-width=\"0\"/><path aria-label=\"x1: 2750; x2: 2750.9; level: 24; level2: 24.9; status: Default; sf: indexed_iterate at tuple.jl:88 [inlined]\" role=\"graphics-symbol\" aria-roledescription=\"rect mark\" d=\"M440.00000000000006,178.66666666666666h0.1439999999999486v8h-0.1439999999999486Z\" fill=\"#4c78a8\" fill-opacity=\"1\" stroke=\"#505050\" stroke-width=\"0\"/><path aria-label=\"x1: 2750; x2: 2750.9; level: 25; level2: 25.9; status: Default; sf: indexed_iterate at tuple.jl:88 [inlined]\" role=\"graphics-symbol\" aria-roledescription=\"rect mark\" d=\"M440.00000000000006,169.7777777777778h0.1439999999999486v7.999999999999972h-0.1439999999999486Z\" fill=\"#4c78a8\" fill-opacity=\"1\" stroke=\"#505050\" stroke-width=\"0\"/><path aria-label=\"x1: 2770; x2: 2773.9; level: 24; level2: 24.9; status: Default; sf: pdf(d::Uniform{Float64}, x::Float64) at uniform.jl:74\" role=\"graphics-symbol\" aria-roledescription=\"rect mark\" d=\"M443.20000000000005,178.66666666666666h0.6240000000000236v8h-0.6240000000000236Z\" fill=\"#4c78a8\" fill-opacity=\"1\" stroke=\"#505050\" stroke-width=\"0\"/><path aria-label=\"x1: 2774; x2: 2774.9; level: 24; level2: 24.9; status: Default; sf: pdf(d::Uniform{Float64}, x::Float64) at uniform.jl:77\" role=\"graphics-symbol\" aria-roledescription=\"rect mark\" d=\"M443.84,178.66666666666666h0.1440000000000623v8h-0.1440000000000623Z\" fill=\"#4c78a8\" fill-opacity=\"1\" stroke=\"#505050\" stroke-width=\"0\"/><path aria-label=\"x1: 2774; x2: 2774.9; level: 25; level2: 25.9; status: Default; sf: - at float.jl:409 [inlined]\" role=\"graphics-symbol\" aria-roledescription=\"rect mark\" d=\"M443.84,169.7777777777778h0.1440000000000623v7.999999999999972h-0.1440000000000623Z\" fill=\"#4c78a8\" fill-opacity=\"1\" stroke=\"#505050\" stroke-width=\"0\"/><path aria-label=\"x1: 2775; x2: 2779.9; level: 24; level2: 24.9; status: Default; sf: pdf(d::Uniform{Float64}, x::Float64) at uniform.jl:78\" role=\"graphics-symbol\" aria-roledescription=\"rect mark\" d=\"M444.00000000000006,178.66666666666666h0.7839999999999918v8h-0.7839999999999918Z\" fill=\"#4c78a8\" fill-opacity=\"1\" stroke=\"#505050\" stroke-width=\"0\"/><path aria-label=\"x1: 2788; x2: 2993.9; level: 21; level2: 21.9; status: Garbage collection; sf: collect(itr::Base.Generator{Base.Iterators.Enumerate{Vector{OperationalParameters}}, BayesianSafetyValidation.var&quot;#5#6&quot;{Vector{Float64}}}) at array.jl:787\" role=\"graphics-symbol\" aria-roledescription=\"rect mark\" d=\"M446.08,205.33333333333337h32.94400000000002v7.999999999999972h-32.94400000000002Z\" fill=\"#f58518\" fill-opacity=\"1\" stroke=\"#505050\" stroke-width=\"0\"/><path aria-label=\"x1: 2933; x2: 2978.9; level: 22; level2: 22.9; status: Default; sf: _array_for(#unused#::Type{Float64}, #unused#::Base.HasShape{1}, axs::Tuple{Base.OneTo{Int64}}) at array.jl:671\" role=\"graphics-symbol\" aria-roledescription=\"rect mark\" d=\"M469.28000000000003,196.44444444444446h7.343999999999937v7.999999999999972h-7.343999999999937Z\" fill=\"#4c78a8\" fill-opacity=\"1\" stroke=\"#505050\" stroke-width=\"0\"/><path aria-label=\"x1: 2933; x2: 2977.9; level: 23; level2: 23.9; status: Default; sf: similar at abstractarray.jl:881 [inlined]\" role=\"graphics-symbol\" aria-roledescription=\"rect mark\" d=\"M469.28000000000003,187.55555555555557h7.183999999999969v8h-7.183999999999969Z\" fill=\"#4c78a8\" fill-opacity=\"1\" stroke=\"#505050\" stroke-width=\"0\"/><path aria-label=\"x1: 2933; x2: 2977.9; level: 24; level2: 24.9; status: Default; sf: similar at abstractarray.jl:882 [inlined]\" role=\"graphics-symbol\" aria-roledescription=\"rect mark\" d=\"M469.28000000000003,178.66666666666666h7.183999999999969v8h-7.183999999999969Z\" fill=\"#4c78a8\" fill-opacity=\"1\" stroke=\"#505050\" stroke-width=\"0\"/><path aria-label=\"x1: 2933; x2: 2977.9; level: 25; level2: 25.9; status: Default; sf: Array at boot.jl:486 [inlined]\" role=\"graphics-symbol\" aria-roledescription=\"rect mark\" d=\"M469.28000000000003,169.7777777777778h7.183999999999969v7.999999999999972h-7.183999999999969Z\" fill=\"#4c78a8\" fill-opacity=\"1\" stroke=\"#505050\" stroke-width=\"0\"/><path aria-label=\"x1: 2933; x2: 2977.9; level: 26; level2: 26.9; status: Garbage collection; sf: Array at boot.jl:477 [inlined]\" role=\"graphics-symbol\" aria-roledescription=\"rect mark\" d=\"M469.28000000000003,160.8888888888889h7.183999999999969v8h-7.183999999999969Z\" fill=\"#f58518\" fill-opacity=\"1\" stroke=\"#505050\" stroke-width=\"0\"/><path aria-label=\"x1: 2994; x2: 3202.9; level: 21; level2: 21.9; status: Garbage collection; sf: collect(itr::Base.Generator{Base.Iterators.Enumerate{Vector{OperationalParameters}}, BayesianSafetyValidation.var&quot;#5#6&quot;{Vector{Float64}}}) at array.jl:792\" role=\"graphics-symbol\" aria-roledescription=\"rect mark\" d=\"M479.04,205.33333333333337h33.424000000000035v7.999999999999972h-33.424000000000035Z\" fill=\"#f58518\" fill-opacity=\"1\" stroke=\"#505050\" stroke-width=\"0\"/><path aria-label=\"x1: 3029; x2: 3196.9; level: 22; level2: 22.9; status: Default; sf: collect_to_with_first!(dest::Vector{Float64}, v1::Float64, itr::Base.Generator{Base.Iterators.Enumerate{Vector{OperationalParameters}}, BayesianSafetyValidation.var&quot;#5#6&quot;{Vector{Float64}}}, st::Tuple{Int64, Int64}) at array.jl:818\" role=\"graphics-symbol\" aria-roledescription=\"rect mark\" d=\"M484.64,196.44444444444446h26.864000000000033v7.999999999999972h-26.864000000000033Z\" fill=\"#4c78a8\" fill-opacity=\"1\" stroke=\"#505050\" stroke-width=\"0\"/><path aria-label=\"x1: 3029; x2: 3030.9; level: 23; level2: 23.9; status: Default; sf: collect_to!(dest::Vector{Float64}, itr::Base.Generator{Base.Iterators.Enumerate{Vector{OperationalParameters}}, BayesianSafetyValidation.var&quot;#5#6&quot;{Vector{Float64}}}, offs::Int64, st::Tuple{Int64, Int64}) at array.jl:0\" role=\"graphics-symbol\" aria-roledescription=\"rect mark\" d=\"M484.64,187.55555555555557h0.30400000000003047v8h-0.30400000000003047Z\" fill=\"#4c78a8\" fill-opacity=\"1\" stroke=\"#505050\" stroke-width=\"0\"/><path aria-label=\"x1: 3031; x2: 3034.9; level: 23; level2: 23.9; status: Default; sf: collect_to!(dest::Vector{Float64}, itr::Base.Generator{Base.Iterators.Enumerate{Vector{OperationalParameters}}, BayesianSafetyValidation.var&quot;#5#6&quot;{Vector{Float64}}}, offs::Int64, st::Tuple{Int64, Int64}) at array.jl:835\" role=\"graphics-symbol\" aria-roledescription=\"rect mark\" d=\"M484.96,187.55555555555557h0.6239999999999668v8h-0.6239999999999668Z\" fill=\"#4c78a8\" fill-opacity=\"1\" stroke=\"#505050\" stroke-width=\"0\"/><path aria-label=\"x1: 3035; x2: 3192.9; level: 23; level2: 23.9; status: Default; sf: collect_to!(dest::Vector{Float64}, itr::Base.Generator{Base.Iterators.Enumerate{Vector{OperationalParameters}}, BayesianSafetyValidation.var&quot;#5#6&quot;{Vector{Float64}}}, offs::Int64, st::Tuple{Int64, Int64}) at array.jl:840\" role=\"graphics-symbol\" aria-roledescription=\"rect mark\" d=\"M485.59999999999997,187.55555555555557h25.264000000000067v8h-25.264000000000067Z\" fill=\"#4c78a8\" fill-opacity=\"1\" stroke=\"#505050\" stroke-width=\"0\"/><path aria-label=\"x1: 3035; x2: 3035.9; level: 24; level2: 24.9; status: Default; sf: iterate at essentials.jl:0 [inlined]\" role=\"graphics-symbol\" aria-roledescription=\"rect mark\" d=\"M485.59999999999997,178.66666666666666h0.1440000000000623v8h-0.1440000000000623Z\" fill=\"#4c78a8\" fill-opacity=\"1\" stroke=\"#505050\" stroke-width=\"0\"/><path aria-label=\"x1: 3036; x2: 3038.9; level: 24; level2: 24.9; status: Default; sf: iterate at generator.jl:44 [inlined]\" role=\"graphics-symbol\" aria-roledescription=\"rect mark\" d=\"M485.76,178.66666666666666h0.46399999999999864v8h-0.46399999999999864Z\" fill=\"#4c78a8\" fill-opacity=\"1\" stroke=\"#505050\" stroke-width=\"0\"/><path aria-label=\"x1: 3036; x2: 3038.9; level: 25; level2: 25.9; status: Default; sf: iterate at iterators.jl:202 [inlined]\" role=\"graphics-symbol\" aria-roledescription=\"rect mark\" d=\"M485.76,169.7777777777778h0.46399999999999864v7.999999999999972h-0.46399999999999864Z\" fill=\"#4c78a8\" fill-opacity=\"1\" stroke=\"#505050\" stroke-width=\"0\"/><path aria-label=\"x1: 3036; x2: 3038.9; level: 26; level2: 26.9; status: Default; sf: iterate at array.jl:893 [inlined]\" role=\"graphics-symbol\" aria-roledescription=\"rect mark\" d=\"M485.76,160.8888888888889h0.46399999999999864v8h-0.46399999999999864Z\" fill=\"#4c78a8\" fill-opacity=\"1\" stroke=\"#505050\" stroke-width=\"0\"/><path aria-label=\"x1: 3036; x2: 3037.9; level: 27; level2: 27.9; status: Default; sf: &lt; at int.jl:494 [inlined]\" role=\"graphics-symbol\" aria-roledescription=\"rect mark\" d=\"M485.76,152h0.30400000000003047v8h-0.30400000000003047Z\" fill=\"#4c78a8\" fill-opacity=\"1\" stroke=\"#505050\" stroke-width=\"0\"/><path aria-label=\"x1: 3036; x2: 3037.9; level: 28; level2: 28.9; status: Default; sf: &lt; at int.jl:487 [inlined]\" role=\"graphics-symbol\" aria-roledescription=\"rect mark\" d=\"M485.76,143.11111111111114h0.30400000000003047v7.999999999999972h-0.30400000000003047Z\" fill=\"#4c78a8\" fill-opacity=\"1\" stroke=\"#505050\" stroke-width=\"0\"/><path aria-label=\"x1: 3039; x2: 3192.9; level: 24; level2: 24.9; status: Default; sf: iterate at generator.jl:47 [inlined]\" role=\"graphics-symbol\" aria-roledescription=\"rect mark\" d=\"M486.24,178.66666666666666h24.624000000000024v8h-24.624000000000024Z\" fill=\"#4c78a8\" fill-opacity=\"1\" stroke=\"#505050\" stroke-width=\"0\"/><path aria-label=\"x1: 3039; x2: 3189.9; level: 25; level2: 25.9; status: Garbage collection; sf: (::BayesianSafetyValidation.var&quot;#5#6&quot;{Vector{Float64}})(::Tuple{Int64, OperationalParameters}) at none:0\" role=\"graphics-symbol\" aria-roledescription=\"rect mark\" d=\"M486.24,169.7777777777778h24.144000000000005v7.999999999999972h-24.144000000000005Z\" fill=\"#f58518\" fill-opacity=\"1\" stroke=\"#505050\" stroke-width=\"0\"/><path aria-label=\"x1: 3039; x2: 3042.9; level: 26; level2: 26.9; status: Default; sf: getindex at essentials.jl:13 [inlined]\" role=\"graphics-symbol\" aria-roledescription=\"rect mark\" d=\"M486.24,160.8888888888889h0.6240000000000236v8h-0.6240000000000236Z\" fill=\"#4c78a8\" fill-opacity=\"1\" stroke=\"#505050\" stroke-width=\"0\"/><path aria-label=\"x1: 3043; x2: 3044.9; level: 26; level2: 26.9; status: Default; sf: indexed_iterate at tuple.jl:88 [inlined]\" role=\"graphics-symbol\" aria-roledescription=\"rect mark\" d=\"M486.88,160.8888888888889h0.3039999999999736v8h-0.3039999999999736Z\" fill=\"#4c78a8\" fill-opacity=\"1\" stroke=\"#505050\" stroke-width=\"0\"/><path aria-label=\"x1: 3043; x2: 3044.9; level: 27; level2: 27.9; status: Default; sf: indexed_iterate at tuple.jl:88 [inlined]\" role=\"graphics-symbol\" aria-roledescription=\"rect mark\" d=\"M486.88,152h0.3039999999999736v8h-0.3039999999999736Z\" fill=\"#4c78a8\" fill-opacity=\"1\" stroke=\"#505050\" stroke-width=\"0\"/><path aria-label=\"x1: 3149; x2: 3151.9; level: 26; level2: 26.9; status: Default; sf: pdf(d::Uniform{Float64}, x::Float64) at uniform.jl:74\" role=\"graphics-symbol\" aria-roledescription=\"rect mark\" d=\"M503.84000000000003,160.8888888888889h0.46399999999999864v8h-0.46399999999999864Z\" fill=\"#4c78a8\" fill-opacity=\"1\" stroke=\"#505050\" stroke-width=\"0\"/><path aria-label=\"x1: 3152; x2: 3154.9; level: 26; level2: 26.9; status: Default; sf: pdf(d::Uniform{Float64}, x::Float64) at uniform.jl:77\" role=\"graphics-symbol\" aria-roledescription=\"rect mark\" d=\"M504.32,160.8888888888889h0.46399999999999864v8h-0.46399999999999864Z\" fill=\"#4c78a8\" fill-opacity=\"1\" stroke=\"#505050\" stroke-width=\"0\"/><path aria-label=\"x1: 3152; x2: 3154.9; level: 27; level2: 27.9; status: Default; sf: - at float.jl:409 [inlined]\" role=\"graphics-symbol\" aria-roledescription=\"rect mark\" d=\"M504.32,152h0.46399999999999864v8h-0.46399999999999864Z\" fill=\"#4c78a8\" fill-opacity=\"1\" stroke=\"#505050\" stroke-width=\"0\"/><path aria-label=\"x1: 3155; x2: 3162.9; level: 26; level2: 26.9; status: Default; sf: pdf(d::Uniform{Float64}, x::Float64) at uniform.jl:78\" role=\"graphics-symbol\" aria-roledescription=\"rect mark\" d=\"M504.8,160.8888888888889h1.26400000000001v8h-1.26400000000001Z\" fill=\"#4c78a8\" fill-opacity=\"1\" stroke=\"#505050\" stroke-width=\"0\"/><path aria-label=\"x1: 3193; x2: 3194.9; level: 23; level2: 23.9; status: Default; sf: collect_to!(dest::Vector{Float64}, itr::Base.Generator{Base.Iterators.Enumerate{Vector{OperationalParameters}}, BayesianSafetyValidation.var&quot;#5#6&quot;{Vector{Float64}}}, offs::Int64, st::Tuple{Int64, Int64}) at array.jl:844\" role=\"graphics-symbol\" aria-roledescription=\"rect mark\" d=\"M510.87999999999994,187.55555555555557h0.30400000000003047v8h-0.30400000000003047Z\" fill=\"#4c78a8\" fill-opacity=\"1\" stroke=\"#505050\" stroke-width=\"0\"/><path aria-label=\"x1: 3193; x2: 3194.9; level: 24; level2: 24.9; status: Default; sf: setindex! at array.jl:969 [inlined]\" role=\"graphics-symbol\" aria-roledescription=\"rect mark\" d=\"M510.87999999999994,178.66666666666666h0.30400000000003047v8h-0.30400000000003047Z\" fill=\"#4c78a8\" fill-opacity=\"1\" stroke=\"#505050\" stroke-width=\"0\"/><path aria-label=\"x1: 3195; x2: 3195.9; level: 23; level2: 23.9; status: Default; sf: (::BayesianSafetyValidation.var&quot;#5#6&quot;{Vector{Float64}})(::Tuple{Int64, OperationalParameters}) at none:0\" role=\"graphics-symbol\" aria-roledescription=\"rect mark\" d=\"M511.2,187.55555555555557h0.14400000000000546v8h-0.14400000000000546Z\" fill=\"#4c78a8\" fill-opacity=\"1\" stroke=\"#505050\" stroke-width=\"0\"/><path aria-label=\"x1: 3197; x2: 3197.9; level: 22; level2: 22.9; status: Default; sf: collect_to!(dest::Vector{Float64}, itr::Base.Generator{Base.Iterators.Enumerate{Vector{OperationalParameters}}, BayesianSafetyValidation.var&quot;#5#6&quot;{Vector{Float64}}}, offs::Int64, st::Tuple{Int64, Int64}) at array.jl:835\" role=\"graphics-symbol\" aria-roledescription=\"rect mark\" d=\"M511.52,196.44444444444446h0.1440000000000623v7.999999999999972h-0.1440000000000623Z\" fill=\"#4c78a8\" fill-opacity=\"1\" stroke=\"#505050\" stroke-width=\"0\"/><path aria-label=\"x1: 3203; x2: 3205.9; level: 21; level2: 21.9; status: Default; sf: collect(itr::Base.Generator{Base.Iterators.Enumerate{Vector{OperationalParameters}}, BayesianSafetyValidation.var&quot;#5#6&quot;{Vector{Float64}}}) at boot.jl:0\" role=\"graphics-symbol\" aria-roledescription=\"rect mark\" d=\"M512.4799999999999,205.33333333333337h0.4640000000000555v7.999999999999972h-0.4640000000000555Z\" fill=\"#4c78a8\" fill-opacity=\"1\" stroke=\"#505050\" stroke-width=\"0\"/><path aria-label=\"x1: 3230; x2: 3230.9; level: 21; level2: 21.9; status: Default; sf: prod(a::Vector{Float64}) at reducedim.jl:994\" role=\"graphics-symbol\" aria-roledescription=\"rect mark\" d=\"M516.8000000000001,205.33333333333337h0.14399999999989177v7.999999999999972h-0.14399999999989177Z\" fill=\"#4c78a8\" fill-opacity=\"1\" stroke=\"#505050\" stroke-width=\"0\"/><path aria-label=\"x1: 3231; x2: 3231.9; level: 21; level2: 21.9; status: Default; sf: prod(a::Vector{Float64}) at reducedim.jl:994\" role=\"graphics-symbol\" aria-roledescription=\"rect mark\" d=\"M516.96,205.33333333333337h0.14400000000000546v7.999999999999972h-0.14400000000000546Z\" fill=\"#4c78a8\" fill-opacity=\"1\" stroke=\"#505050\" stroke-width=\"0\"/><path aria-label=\"x1: 3312; x2: 3315.9; level: 15; level2: 15.9; status: Default; sf: copyto_nonleaf!(dest::Array{Float64, 3}, bc::Base.Broadcast.Broadcasted{Base.Broadcast.DefaultArrayStyle{3}, Tuple{Base.OneTo{Int64}, Base.OneTo{Int64}, Base.OneTo{Int64}}, BayesianSafetyValidation.var&quot;#40#41&quot;{Vector{OperationalParameters}}, Tuple{Base.Broadcast.Extruded{Array{Float64, 3}, Tuple{Bool, Bool, Bool}, Tuple{Int64, Int64, Int64}}, Base.Broadcast.Extruded{Array{Float64, 3}, Tuple{Bool, Bool, Bool}, Tuple{Int64, Int64, Int64}}, Base.Broadcast.Extruded{Array{Float64, 3}, Tuple{Bool, Bool, Bool}, Tuple{Int64, Int64, Int64}}}}, iter::CartesianIndices{3, Tuple{Base.OneTo{Int64}, Base.OneTo{Int64}, Base.OneTo{Int64}}}, state::CartesianIndex{3}, count::Int64) at broadcast.jl:1070\" role=\"graphics-symbol\" aria-roledescription=\"rect mark\" d=\"M529.92,258.6666666666667h0.6240000000000236v8h-0.6240000000000236Z\" fill=\"#4c78a8\" fill-opacity=\"1\" stroke=\"#505050\" stroke-width=\"0\"/><path aria-label=\"x1: 3312; x2: 3315.9; level: 16; level2: 16.9; status: Default; sf: setindex! at multidimensional.jl:670 [inlined]\" role=\"graphics-symbol\" aria-roledescription=\"rect mark\" d=\"M529.92,249.7777777777778h0.6240000000000236v7.999999999999972h-0.6240000000000236Z\" fill=\"#4c78a8\" fill-opacity=\"1\" stroke=\"#505050\" stroke-width=\"0\"/><path aria-label=\"x1: 3312; x2: 3315.9; level: 17; level2: 17.9; status: Default; sf: setindex! at array.jl:971 [inlined]\" role=\"graphics-symbol\" aria-roledescription=\"rect mark\" d=\"M529.92,240.88888888888889h0.6240000000000236v8h-0.6240000000000236Z\" fill=\"#4c78a8\" fill-opacity=\"1\" stroke=\"#505050\" stroke-width=\"0\"/><path aria-label=\"x1: 3316; x2: 3316.9; level: 15; level2: 15.9; status: Default; sf: copyto_nonleaf!(dest::Array{Float64, 3}, bc::Base.Broadcast.Broadcasted{Base.Broadcast.DefaultArrayStyle{3}, Tuple{Base.OneTo{Int64}, Base.OneTo{Int64}, Base.OneTo{Int64}}, BayesianSafetyValidation.var&quot;#40#41&quot;{Vector{OperationalParameters}}, Tuple{Base.Broadcast.Extruded{Array{Float64, 3}, Tuple{Bool, Bool, Bool}, Tuple{Int64, Int64, Int64}}, Base.Broadcast.Extruded{Array{Float64, 3}, Tuple{Bool, Bool, Bool}, Tuple{Int64, Int64, Int64}}, Base.Broadcast.Extruded{Array{Float64, 3}, Tuple{Bool, Bool, Bool}, Tuple{Int64, Int64, Int64}}}}, iter::CartesianIndices{3, Tuple{Base.OneTo{Int64}, Base.OneTo{Int64}, Base.OneTo{Int64}}}, state::CartesianIndex{3}, count::Int64) at broadcast.jl:1077\" role=\"graphics-symbol\" aria-roledescription=\"rect mark\" d=\"M530.5600000000001,258.6666666666667h0.14399999999989177v8h-0.14399999999989177Z\" fill=\"#4c78a8\" fill-opacity=\"1\" stroke=\"#505050\" stroke-width=\"0\"/><path aria-label=\"x1: 3316; x2: 3316.9; level: 16; level2: 16.9; status: Default; sf: + at int.jl:87 [inlined]\" role=\"graphics-symbol\" aria-roledescription=\"rect mark\" d=\"M530.5600000000001,249.7777777777778h0.14399999999989177v7.999999999999972h-0.14399999999989177Z\" fill=\"#4c78a8\" fill-opacity=\"1\" stroke=\"#505050\" stroke-width=\"0\"/><path aria-label=\"x1: 3317; x2: 3317.9; level: 10; level2: 10.9; status: Default; sf: bayesian_safety_validation(sparams::DummyParameters, models::Vector{OperationalParameters}; gp::Nothing, T::Int64, λ::Float64, seed::Int64, initialize_system::Bool, reset_system::Bool, show_acquisition_plots::Bool, show_plots::Bool, show_combined_plot::Bool, show_tight_combined_plot::Bool, hide_model_after_first::Bool, only_plot_last::Bool, latex_labels::Bool, show_alert::Bool, acquisitions_to_run::Vector{Int64}, probability_valued_system::Bool, skip_if_no_failures::Bool, save_plots::Bool, save_plots_svg::Bool, plots_dir::String, samples_per_batch::Int64, single_failure_mode::Bool, refit_every_point::Bool, input_discretization_steps::Int64, p_estimate_discretization_steps::Int64, match_original::Bool, kwargs::Base.Pairs{Symbol, Union{}, Tuple{}, NamedTuple{(), Tuple{}}}) at bayesian_safety_validation.jl:85\" role=\"graphics-symbol\" aria-roledescription=\"rect mark\" d=\"M530.72,303.1111111111111h0.14400000000000546v8.000000000000057h-0.14400000000000546Z\" fill=\"#4c78a8\" fill-opacity=\"1\" stroke=\"#505050\" stroke-width=\"0\"/><path aria-label=\"x1: 3317; x2: 3317.9; level: 11; level2: 11.9; status: Runtime dispatch; sf: println(::String, ::String) at coreio.jl:4\" role=\"graphics-symbol\" aria-roledescription=\"rect mark\" d=\"M530.72,294.22222222222223h0.14400000000000546v8h-0.14400000000000546Z\" fill=\"#e45756\" fill-opacity=\"1\" stroke=\"#505050\" stroke-width=\"0\"/><path aria-label=\"x1: 3317; x2: 3317.9; level: 12; level2: 12.9; status: Runtime dispatch; sf: println(::IJulia.IJuliaStdio{Base.PipeEndpoint}, ::String, ::Vararg{String}) at io.jl:75\" role=\"graphics-symbol\" aria-roledescription=\"rect mark\" d=\"M530.72,285.33333333333337h0.14400000000000546v8h-0.14400000000000546Z\" fill=\"#e45756\" fill-opacity=\"1\" stroke=\"#505050\" stroke-width=\"0\"/><path aria-label=\"x1: 3318; x2: 3319.9; level: 10; level2: 10.9; status: Default; sf: bayesian_safety_validation(sparams::DummyParameters, models::Vector{OperationalParameters}; gp::Nothing, T::Int64, λ::Float64, seed::Int64, initialize_system::Bool, reset_system::Bool, show_acquisition_plots::Bool, show_plots::Bool, show_combined_plot::Bool, show_tight_combined_plot::Bool, hide_model_after_first::Bool, only_plot_last::Bool, latex_labels::Bool, show_alert::Bool, acquisitions_to_run::Vector{Int64}, probability_valued_system::Bool, skip_if_no_failures::Bool, save_plots::Bool, save_plots_svg::Bool, plots_dir::String, samples_per_batch::Int64, single_failure_mode::Bool, refit_every_point::Bool, input_discretization_steps::Int64, p_estimate_discretization_steps::Int64, match_original::Bool, kwargs::Base.Pairs{Symbol, Union{}, Tuple{}, NamedTuple{(), Tuple{}}}) at bayesian_safety_validation.jl:93\" role=\"graphics-symbol\" aria-roledescription=\"rect mark\" d=\"M530.88,303.1111111111111h0.3039999999999736v8.000000000000057h-0.3039999999999736Z\" fill=\"#4c78a8\" fill-opacity=\"1\" stroke=\"#505050\" stroke-width=\"0\"/><path aria-label=\"x1: 3318; x2: 3319.9; level: 11; level2: 11.9; status: Default; sf: macro expansion at logging.jl:365 [inlined]\" role=\"graphics-symbol\" aria-roledescription=\"rect mark\" d=\"M530.88,294.22222222222223h0.3039999999999736v8h-0.3039999999999736Z\" fill=\"#4c78a8\" fill-opacity=\"1\" stroke=\"#505050\" stroke-width=\"0\"/><path aria-label=\"x1: 3318; x2: 3319.9; level: 12; level2: 12.9; status: Default; sf: invokelatest at essentials.jl:813 [inlined]\" role=\"graphics-symbol\" aria-roledescription=\"rect mark\" d=\"M530.88,285.33333333333337h0.3039999999999736v8h-0.3039999999999736Z\" fill=\"#4c78a8\" fill-opacity=\"1\" stroke=\"#505050\" stroke-width=\"0\"/><path aria-label=\"x1: 3318; x2: 3319.9; level: 13; level2: 13.9; status: Runtime dispatch; sf: #invokelatest#2 at essentials.jl:816 [inlined]\" role=\"graphics-symbol\" aria-roledescription=\"rect mark\" d=\"M530.88,276.44444444444446h0.3039999999999736v8h-0.3039999999999736Z\" fill=\"#e45756\" fill-opacity=\"1\" stroke=\"#505050\" stroke-width=\"0\"/><path aria-label=\"x1: 3318; x2: 3319.9; level: 14; level2: 14.9; status: Default; sf: handle_message(logger::Logging.ConsoleLogger, level::Base.CoreLogging.LogLevel, message::Any, _module::Any, group::Any, id::Any, filepath::Any, line::Any) at ConsoleLogger.jl:106\" role=\"graphics-symbol\" aria-roledescription=\"rect mark\" d=\"M530.88,267.55555555555554h0.3039999999999736v8h-0.3039999999999736Z\" fill=\"#4c78a8\" fill-opacity=\"1\" stroke=\"#505050\" stroke-width=\"0\"/><path aria-label=\"x1: 3318; x2: 3319.9; level: 15; level2: 15.9; status: Runtime dispatch; sf: handle_message(logger::Logging.ConsoleLogger, level::Base.CoreLogging.LogLevel, message::Any, _module::Any, group::Any, id::Any, filepath::Any, line::Any; kwargs::Base.Pairs{Symbol, V, Tuple{Vararg{Symbol, N}}, NamedTuple{names, T}} where {V, N, names, T&lt;:Tuple{Vararg{Any, N}}}) at ConsoleLogger.jl:178\" role=\"graphics-symbol\" aria-roledescription=\"rect mark\" d=\"M530.88,258.6666666666667h0.3039999999999736v8h-0.3039999999999736Z\" fill=\"#e45756\" fill-opacity=\"1\" stroke=\"#505050\" stroke-width=\"0\"/><path aria-label=\"x1: 3318; x2: 3319.9; level: 16; level2: 16.9; status: Default; sf: write(s::IJulia.IJuliaStdio{Base.PipeEndpoint}, a::Vector{UInt8}) at io.jl:708\" role=\"graphics-symbol\" aria-roledescription=\"rect mark\" d=\"M530.88,249.7777777777778h0.3039999999999736v7.999999999999972h-0.3039999999999736Z\" fill=\"#4c78a8\" fill-opacity=\"1\" stroke=\"#505050\" stroke-width=\"0\"/><path aria-label=\"x1: 3318; x2: 3319.9; level: 17; level2: 17.9; status: Default; sf: unsafe_write at io.jl:685 [inlined]\" role=\"graphics-symbol\" aria-roledescription=\"rect mark\" d=\"M530.88,240.88888888888889h0.3039999999999736v8h-0.3039999999999736Z\" fill=\"#4c78a8\" fill-opacity=\"1\" stroke=\"#505050\" stroke-width=\"0\"/><path aria-label=\"x1: 3318; x2: 3319.9; level: 18; level2: 18.9; status: Default; sf: unsafe_write at io.jl:430 [inlined]\" role=\"graphics-symbol\" aria-roledescription=\"rect mark\" d=\"M530.88,232.00000000000003h0.3039999999999736v7.999999999999972h-0.3039999999999736Z\" fill=\"#4c78a8\" fill-opacity=\"1\" stroke=\"#505050\" stroke-width=\"0\"/><path aria-label=\"x1: 3318; x2: 3319.9; level: 19; level2: 19.9; status: Default; sf: unsafe_write(s::Base.PipeEndpoint, p::Ptr{UInt8}, n::UInt64) at stream.jl:1120\" role=\"graphics-symbol\" aria-roledescription=\"rect mark\" d=\"M530.88,223.11111111111111h0.3039999999999736v7.999999999999972h-0.3039999999999736Z\" fill=\"#4c78a8\" fill-opacity=\"1\" stroke=\"#505050\" stroke-width=\"0\"/><path aria-label=\"x1: 3318; x2: 3319.9; level: 20; level2: 20.9; status: Default; sf: uv_write(s::Base.PipeEndpoint, p::Ptr{UInt8}, n::UInt64) at stream.jl:1048\" role=\"graphics-symbol\" aria-roledescription=\"rect mark\" d=\"M530.88,214.22222222222223h0.3039999999999736v8h-0.3039999999999736Z\" fill=\"#4c78a8\" fill-opacity=\"1\" stroke=\"#505050\" stroke-width=\"0\"/><path aria-label=\"x1: 3318; x2: 3318.9; level: 21; level2: 21.9; status: Default; sf: wait() at task.jl:983\" role=\"graphics-symbol\" aria-roledescription=\"rect mark\" d=\"M530.88,205.33333333333337h0.14400000000000546v7.999999999999972h-0.14400000000000546Z\" fill=\"#4c78a8\" fill-opacity=\"1\" stroke=\"#505050\" stroke-width=\"0\"/><path aria-label=\"x1: 3318; x2: 3318.9; level: 22; level2: 22.9; status: Runtime dispatch; sf: poptask(W::Base.IntrusiveLinkedListSynchronized{Task}) at task.jl:974\" role=\"graphics-symbol\" aria-roledescription=\"rect mark\" d=\"M530.88,196.44444444444446h0.14400000000000546v7.999999999999972h-0.14400000000000546Z\" fill=\"#e45756\" fill-opacity=\"1\" stroke=\"#505050\" stroke-width=\"0\"/><path aria-label=\"x1: 3318; x2: 3318.9; level: 23; level2: 23.9; status: Runtime dispatch; sf: uv_readcb(handle::Ptr{Nothing}, nread::Int64, buf::Ptr{Nothing}) at stream.jl:706\" role=\"graphics-symbol\" aria-roledescription=\"rect mark\" d=\"M530.88,187.55555555555557h0.14400000000000546v8h-0.14400000000000546Z\" fill=\"#e45756\" fill-opacity=\"1\" stroke=\"#505050\" stroke-width=\"0\"/><path aria-label=\"x1: 3318; x2: 3318.9; level: 24; level2: 24.9; status: Default; sf: (::Base.var&quot;#readcb_specialized#712&quot;)(stream::Base.PipeEndpoint, nread::Int64, nrequested::UInt64) at stream.jl:688\" role=\"graphics-symbol\" aria-roledescription=\"rect mark\" d=\"M530.88,178.66666666666666h0.14400000000000546v8h-0.14400000000000546Z\" fill=\"#4c78a8\" fill-opacity=\"1\" stroke=\"#505050\" stroke-width=\"0\"/><path aria-label=\"x1: 3318; x2: 3318.9; level: 25; level2: 25.9; status: Default; sf: notify at condition.jl:148 [inlined]\" role=\"graphics-symbol\" aria-roledescription=\"rect mark\" d=\"M530.88,169.7777777777778h0.14400000000000546v7.999999999999972h-0.14400000000000546Z\" fill=\"#4c78a8\" fill-opacity=\"1\" stroke=\"#505050\" stroke-width=\"0\"/><path aria-label=\"x1: 3318; x2: 3318.9; level: 26; level2: 26.9; status: Default; sf: notify at condition.jl:148 [inlined]\" role=\"graphics-symbol\" aria-roledescription=\"rect mark\" d=\"M530.88,160.8888888888889h0.14400000000000546v8h-0.14400000000000546Z\" fill=\"#4c78a8\" fill-opacity=\"1\" stroke=\"#505050\" stroke-width=\"0\"/><path aria-label=\"x1: 3318; x2: 3318.9; level: 27; level2: 27.9; status: Default; sf: #notify#622 at condition.jl:148 [inlined]\" role=\"graphics-symbol\" aria-roledescription=\"rect mark\" d=\"M530.88,152h0.14400000000000546v8h-0.14400000000000546Z\" fill=\"#4c78a8\" fill-opacity=\"1\" stroke=\"#505050\" stroke-width=\"0\"/><path aria-label=\"x1: 3318; x2: 3318.9; level: 28; level2: 28.9; status: Default; sf: notify(c::Base.GenericCondition{Base.Threads.SpinLock}, arg::Any, all::Bool, error::Bool) at condition.jl:154\" role=\"graphics-symbol\" aria-roledescription=\"rect mark\" d=\"M530.88,143.11111111111114h0.14400000000000546v7.999999999999972h-0.14400000000000546Z\" fill=\"#4c78a8\" fill-opacity=\"1\" stroke=\"#505050\" stroke-width=\"0\"/><path aria-label=\"x1: 3318; x2: 3318.9; level: 29; level2: 29.9; status: Default; sf: schedule at task.jl:838 [inlined]\" role=\"graphics-symbol\" aria-roledescription=\"rect mark\" d=\"M530.88,134.22222222222223h0.14400000000000546v7.999999999999972h-0.14400000000000546Z\" fill=\"#4c78a8\" fill-opacity=\"1\" stroke=\"#505050\" stroke-width=\"0\"/><path aria-label=\"x1: 3318; x2: 3318.9; level: 30; level2: 30.9; status: Default; sf: schedule(t::Task, arg::Any; error::Bool) at task.jl:849\" role=\"graphics-symbol\" aria-roledescription=\"rect mark\" d=\"M530.88,125.33333333333334h0.14400000000000546v8h-0.14400000000000546Z\" fill=\"#4c78a8\" fill-opacity=\"1\" stroke=\"#505050\" stroke-width=\"0\"/><path aria-label=\"x1: 3318; x2: 3318.9; level: 31; level2: 31.9; status: Default; sf: enq_work(t::Task) at task.jl:783\" role=\"graphics-symbol\" aria-roledescription=\"rect mark\" d=\"M530.88,116.44444444444444h0.14400000000000546v8h-0.14400000000000546Z\" fill=\"#4c78a8\" fill-opacity=\"1\" stroke=\"#505050\" stroke-width=\"0\"/><path aria-label=\"x1: 3318; x2: 3318.9; level: 32; level2: 32.9; status: Default; sf: push!(W::Base.IntrusiveLinkedListSynchronized{Task}, t::Task) at task.jl:700\" role=\"graphics-symbol\" aria-roledescription=\"rect mark\" d=\"M530.88,107.55555555555559h0.14400000000000546v7.999999999999957h-0.14400000000000546Z\" fill=\"#4c78a8\" fill-opacity=\"1\" stroke=\"#505050\" stroke-width=\"0\"/><path aria-label=\"x1: 3319; x2: 3319.9; level: 21; level2: 21.9; status: Default; sf: wait() at task.jl:984\" role=\"graphics-symbol\" aria-roledescription=\"rect mark\" d=\"M531.04,205.33333333333337h0.14400000000000546v7.999999999999972h-0.14400000000000546Z\" fill=\"#4c78a8\" fill-opacity=\"1\" stroke=\"#505050\" stroke-width=\"0\"/><path aria-label=\"x1: 3319; x2: 3319.9; level: 22; level2: 22.9; status: Default; sf: try_yieldto(undo::typeof(Base.ensure_rescheduled)) at task.jl:910\" role=\"graphics-symbol\" aria-roledescription=\"rect mark\" d=\"M531.04,196.44444444444446h0.14400000000000546v7.999999999999972h-0.14400000000000546Z\" fill=\"#4c78a8\" fill-opacity=\"1\" stroke=\"#505050\" stroke-width=\"0\"/><path aria-label=\"x1: 3320; x2: 3788.9; level: 10; level2: 10.9; status: Runtime dispatch; sf: bayesian_safety_validation(sparams::DummyParameters, models::Vector{OperationalParameters}; gp::Nothing, T::Int64, λ::Float64, seed::Int64, initialize_system::Bool, reset_system::Bool, show_acquisition_plots::Bool, show_plots::Bool, show_combined_plot::Bool, show_tight_combined_plot::Bool, hide_model_after_first::Bool, only_plot_last::Bool, latex_labels::Bool, show_alert::Bool, acquisitions_to_run::Vector{Int64}, probability_valued_system::Bool, skip_if_no_failures::Bool, save_plots::Bool, save_plots_svg::Bool, plots_dir::String, samples_per_batch::Int64, single_failure_mode::Bool, refit_every_point::Bool, input_discretization_steps::Int64, p_estimate_discretization_steps::Int64, match_original::Bool, kwargs::Base.Pairs{Symbol, Union{}, Tuple{}, NamedTuple{(), Tuple{}}}) at bayesian_safety_validation.jl:120\" role=\"graphics-symbol\" aria-roledescription=\"rect mark\" d=\"M531.2,303.1111111111111h75.024v8.000000000000057h-75.024Z\" fill=\"#e45756\" fill-opacity=\"1\" stroke=\"#505050\" stroke-width=\"0\"/><path aria-label=\"x1: 3320; x2: 3788.9; level: 11; level2: 11.9; status: Default; sf: kwcall(::NamedTuple{(:acq, :n, :match_original), Tuple{BayesianSafetyValidation.var&quot;#398#402&quot;{Float64, Bool}, Int64, Bool}}, ::typeof(sample_next_point), y::Array{Float64, 3}, F̂::Array{Tuple{Vector{Float64}, Vector{Float64}}, 3}, P::Array{Float64, 3}, models::Vector{OperationalParameters}) at surrogate_model.jl:206\" role=\"graphics-symbol\" aria-roledescription=\"rect mark\" d=\"M531.2,294.22222222222223h75.024v8h-75.024Z\" fill=\"#4c78a8\" fill-opacity=\"1\" stroke=\"#505050\" stroke-width=\"0\"/><path aria-label=\"x1: 3320; x2: 3367.9; level: 12; level2: 12.9; status: Default; sf: sample_next_point(y::Array{Float64, 3}, F̂::Array{Tuple{Vector{Float64}, Vector{Float64}}, 3}, P::Array{Float64, 3}, models::Vector{OperationalParameters}; n::Int64, r::Int64, acq::Function, return_weight::Bool, match_original::Bool) at surrogate_model.jl:207\" role=\"graphics-symbol\" aria-roledescription=\"rect mark\" d=\"M531.2,285.33333333333337h7.663999999999987v8h-7.663999999999987Z\" fill=\"#4c78a8\" fill-opacity=\"1\" stroke=\"#505050\" stroke-width=\"0\"/><path aria-label=\"x1: 3320; x2: 3367.9; level: 13; level2: 13.9; status: Runtime dispatch; sf: map(::Function, ::Array{Tuple{Vector{Float64}, Vector{Float64}}, 3}, ::Array{Float64, 3}) at abstractarray.jl:3383\" role=\"graphics-symbol\" aria-roledescription=\"rect mark\" d=\"M531.2,276.44444444444446h7.663999999999987v8h-7.663999999999987Z\" fill=\"#e45756\" fill-opacity=\"1\" stroke=\"#505050\" stroke-width=\"0\"/><path aria-label=\"x1: 3320; x2: 3367.9; level: 14; level2: 14.9; status: Default; sf: collect(itr::Base.Generator{Base.Iterators.Zip{Tuple{Array{Tuple{Vector{Float64}, Vector{Float64}}, 3}, Array{Float64, 3}}}, Base.var&quot;#4#5&quot;{BayesianSafetyValidation.var&quot;#398#402&quot;{Float64, Bool}}}) at array.jl:792\" role=\"graphics-symbol\" aria-roledescription=\"rect mark\" d=\"M531.2,267.55555555555554h7.663999999999987v8h-7.663999999999987Z\" fill=\"#4c78a8\" fill-opacity=\"1\" stroke=\"#505050\" stroke-width=\"0\"/><path aria-label=\"x1: 3320; x2: 3367.9; level: 15; level2: 15.9; status: Default; sf: collect_to_with_first! at array.jl:818 [inlined]\" role=\"graphics-symbol\" aria-roledescription=\"rect mark\" d=\"M531.2,258.6666666666667h7.663999999999987v8h-7.663999999999987Z\" fill=\"#4c78a8\" fill-opacity=\"1\" stroke=\"#505050\" stroke-width=\"0\"/><path aria-label=\"x1: 3320; x2: 3366.9; level: 16; level2: 16.9; status: Default; sf: collect_to!(dest::Array{Float64, 3}, itr::Base.Generator{Base.Iterators.Zip{Tuple{Array{Tuple{Vector{Float64}, Vector{Float64}}, 3}, Array{Float64, 3}}}, Base.var&quot;#4#5&quot;{BayesianSafetyValidation.var&quot;#398#402&quot;{Float64, Bool}}}, offs::Int64, st::Tuple{Int64, Int64}) at array.jl:840\" role=\"graphics-symbol\" aria-roledescription=\"rect mark\" d=\"M531.2,249.7777777777778h7.503999999999905v7.999999999999972h-7.503999999999905Z\" fill=\"#4c78a8\" fill-opacity=\"1\" stroke=\"#505050\" stroke-width=\"0\"/><path aria-label=\"x1: 3320; x2: 3320.9; level: 17; level2: 17.9; status: Default; sf: iterate at generator.jl:44 [inlined]\" role=\"graphics-symbol\" aria-roledescription=\"rect mark\" d=\"M531.2,240.88888888888889h0.14400000000000546v8h-0.14400000000000546Z\" fill=\"#4c78a8\" fill-opacity=\"1\" stroke=\"#505050\" stroke-width=\"0\"/><path aria-label=\"x1: 3320; x2: 3320.9; level: 18; level2: 18.9; status: Default; sf: iterate at iterators.jl:407 [inlined]\" role=\"graphics-symbol\" aria-roledescription=\"rect mark\" d=\"M531.2,232.00000000000003h0.14400000000000546v7.999999999999972h-0.14400000000000546Z\" fill=\"#4c78a8\" fill-opacity=\"1\" stroke=\"#505050\" stroke-width=\"0\"/><path aria-label=\"x1: 3320; x2: 3320.9; level: 19; level2: 19.9; status: Default; sf: _zip_iterate_all at iterators.jl:416 [inlined]\" role=\"graphics-symbol\" aria-roledescription=\"rect mark\" d=\"M531.2,223.11111111111111h0.14400000000000546v7.999999999999972h-0.14400000000000546Z\" fill=\"#4c78a8\" fill-opacity=\"1\" stroke=\"#505050\" stroke-width=\"0\"/><path aria-label=\"x1: 3320; x2: 3320.9; level: 20; level2: 20.9; status: Default; sf: _zip_iterate_some at iterators.jl:424 [inlined]\" role=\"graphics-symbol\" aria-roledescription=\"rect mark\" d=\"M531.2,214.22222222222223h0.14400000000000546v8h-0.14400000000000546Z\" fill=\"#4c78a8\" fill-opacity=\"1\" stroke=\"#505050\" stroke-width=\"0\"/><path aria-label=\"x1: 3320; x2: 3320.9; level: 21; level2: 21.9; status: Default; sf: iterate at array.jl:893 [inlined]\" role=\"graphics-symbol\" aria-roledescription=\"rect mark\" d=\"M531.2,205.33333333333337h0.14400000000000546v7.999999999999972h-0.14400000000000546Z\" fill=\"#4c78a8\" fill-opacity=\"1\" stroke=\"#505050\" stroke-width=\"0\"/><path aria-label=\"x1: 3320; x2: 3320.9; level: 22; level2: 22.9; status: Default; sf: &lt; at int.jl:494 [inlined]\" role=\"graphics-symbol\" aria-roledescription=\"rect mark\" d=\"M531.2,196.44444444444446h0.14400000000000546v7.999999999999972h-0.14400000000000546Z\" fill=\"#4c78a8\" fill-opacity=\"1\" stroke=\"#505050\" stroke-width=\"0\"/><path aria-label=\"x1: 3320; x2: 3320.9; level: 23; level2: 23.9; status: Default; sf: &lt; at int.jl:487 [inlined]\" role=\"graphics-symbol\" aria-roledescription=\"rect mark\" d=\"M531.2,187.55555555555557h0.14400000000000546v8h-0.14400000000000546Z\" fill=\"#4c78a8\" fill-opacity=\"1\" stroke=\"#505050\" stroke-width=\"0\"/><path aria-label=\"x1: 3321; x2: 3366.9; level: 17; level2: 17.9; status: Default; sf: iterate at generator.jl:47 [inlined]\" role=\"graphics-symbol\" aria-roledescription=\"rect mark\" d=\"M531.36,240.88888888888889h7.343999999999937v8h-7.343999999999937Z\" fill=\"#4c78a8\" fill-opacity=\"1\" stroke=\"#505050\" stroke-width=\"0\"/><path aria-label=\"x1: 3321; x2: 3366.9; level: 18; level2: 18.9; status: Default; sf: #4 at generator.jl:36 [inlined]\" role=\"graphics-symbol\" aria-roledescription=\"rect mark\" d=\"M531.36,232.00000000000003h7.343999999999937v7.999999999999972h-7.343999999999937Z\" fill=\"#4c78a8\" fill-opacity=\"1\" stroke=\"#505050\" stroke-width=\"0\"/><path aria-label=\"x1: 3321; x2: 3366.9; level: 19; level2: 19.9; status: Default; sf: #398 at bayesian_safety_validation.jl:113 [inlined]\" role=\"graphics-symbol\" aria-roledescription=\"rect mark\" d=\"M531.36,223.11111111111111h7.343999999999937v7.999999999999972h-7.343999999999937Z\" fill=\"#4c78a8\" fill-opacity=\"1\" stroke=\"#505050\" stroke-width=\"0\"/><path aria-label=\"x1: 3321; x2: 3366.9; level: 20; level2: 20.9; status: Default; sf: failure_region_sampling_acquisition at surrogate_model.jl:155 [inlined]\" role=\"graphics-symbol\" aria-roledescription=\"rect mark\" d=\"M531.36,214.22222222222223h7.343999999999937v8h-7.343999999999937Z\" fill=\"#4c78a8\" fill-opacity=\"1\" stroke=\"#505050\" stroke-width=\"0\"/><path aria-label=\"x1: 3321; x2: 3332.9; level: 21; level2: 21.9; status: Default; sf: #failure_region_sampling_acquisition#50 at surrogate_model.jl:156 [inlined]\" role=\"graphics-symbol\" aria-roledescription=\"rect mark\" d=\"M531.36,205.33333333333337h1.9039999999999964v7.999999999999972h-1.9039999999999964Z\" fill=\"#4c78a8\" fill-opacity=\"1\" stroke=\"#505050\" stroke-width=\"0\"/><path aria-label=\"x1: 3321; x2: 3332.9; level: 22; level2: 22.9; status: Default; sf: getindex at essentials.jl:13 [inlined]\" role=\"graphics-symbol\" aria-roledescription=\"rect mark\" d=\"M531.36,196.44444444444446h1.9039999999999964v7.999999999999972h-1.9039999999999964Z\" fill=\"#4c78a8\" fill-opacity=\"1\" stroke=\"#505050\" stroke-width=\"0\"/><path aria-label=\"x1: 3333; x2: 3336.9; level: 21; level2: 21.9; status: Default; sf: #failure_region_sampling_acquisition#50 at surrogate_model.jl:157 [inlined]\" role=\"graphics-symbol\" aria-roledescription=\"rect mark\" d=\"M533.28,205.33333333333337h0.6240000000000236v7.999999999999972h-0.6240000000000236Z\" fill=\"#4c78a8\" fill-opacity=\"1\" stroke=\"#505050\" stroke-width=\"0\"/><path aria-label=\"x1: 3333; x2: 3336.9; level: 22; level2: 22.9; status: Default; sf: getindex at essentials.jl:13 [inlined]\" role=\"graphics-symbol\" aria-roledescription=\"rect mark\" d=\"M533.28,196.44444444444446h0.6240000000000236v7.999999999999972h-0.6240000000000236Z\" fill=\"#4c78a8\" fill-opacity=\"1\" stroke=\"#505050\" stroke-width=\"0\"/><path aria-label=\"x1: 3337; x2: 3356.9; level: 21; level2: 21.9; status: Default; sf: #failure_region_sampling_acquisition#50 at surrogate_model.jl:158 [inlined]\" role=\"graphics-symbol\" aria-roledescription=\"rect mark\" d=\"M533.92,205.33333333333337h3.183999999999969v7.999999999999972h-3.183999999999969Z\" fill=\"#4c78a8\" fill-opacity=\"1\" stroke=\"#505050\" stroke-width=\"0\"/><path aria-label=\"x1: 3337; x2: 3356.9; level: 22; level2: 22.9; status: Default; sf: sqrt at math.jl:677 [inlined]\" role=\"graphics-symbol\" aria-roledescription=\"rect mark\" d=\"M533.92,196.44444444444446h3.183999999999969v7.999999999999972h-3.183999999999969Z\" fill=\"#4c78a8\" fill-opacity=\"1\" stroke=\"#505050\" stroke-width=\"0\"/><path aria-label=\"x1: 3337; x2: 3356.9; level: 23; level2: 23.9; status: Default; sf: &lt; at float.jl:535 [inlined]\" role=\"graphics-symbol\" aria-roledescription=\"rect mark\" d=\"M533.92,187.55555555555557h3.183999999999969v8h-3.183999999999969Z\" fill=\"#4c78a8\" fill-opacity=\"1\" stroke=\"#505050\" stroke-width=\"0\"/><path aria-label=\"x1: 3357; x2: 3365.9; level: 21; level2: 21.9; status: Default; sf: #failure_region_sampling_acquisition#50 at surrogate_model.jl:160 [inlined]\" role=\"graphics-symbol\" aria-roledescription=\"rect mark\" d=\"M537.12,205.33333333333337h1.4239999999999782v7.999999999999972h-1.4239999999999782Z\" fill=\"#4c78a8\" fill-opacity=\"1\" stroke=\"#505050\" stroke-width=\"0\"/><path aria-label=\"x1: 3357; x2: 3362.9; level: 22; level2: 22.9; status: Default; sf: * at float.jl:410 [inlined]\" role=\"graphics-symbol\" aria-roledescription=\"rect mark\" d=\"M537.12,196.44444444444446h0.9440000000000737v7.999999999999972h-0.9440000000000737Z\" fill=\"#4c78a8\" fill-opacity=\"1\" stroke=\"#505050\" stroke-width=\"0\"/><path aria-label=\"x1: 3363; x2: 3365.9; level: 22; level2: 22.9; status: Default; sf: + at float.jl:408 [inlined]\" role=\"graphics-symbol\" aria-roledescription=\"rect mark\" d=\"M538.0799999999999,196.44444444444446h0.4640000000000555v7.999999999999972h-0.4640000000000555Z\" fill=\"#4c78a8\" fill-opacity=\"1\" stroke=\"#505050\" stroke-width=\"0\"/><path aria-label=\"x1: 3366; x2: 3366.9; level: 21; level2: 21.9; status: Default; sf: #failure_region_sampling_acquisition#50 at surrogate_model.jl:163 [inlined]\" role=\"graphics-symbol\" aria-roledescription=\"rect mark\" d=\"M538.5600000000001,205.33333333333337h0.14399999999989177v7.999999999999972h-0.14399999999989177Z\" fill=\"#4c78a8\" fill-opacity=\"1\" stroke=\"#505050\" stroke-width=\"0\"/><path aria-label=\"x1: 3366; x2: 3366.9; level: 22; level2: 22.9; status: Default; sf: * at operators.jl:578 [inlined]\" role=\"graphics-symbol\" aria-roledescription=\"rect mark\" d=\"M538.5600000000001,196.44444444444446h0.14399999999989177v7.999999999999972h-0.14399999999989177Z\" fill=\"#4c78a8\" fill-opacity=\"1\" stroke=\"#505050\" stroke-width=\"0\"/><path aria-label=\"x1: 3366; x2: 3366.9; level: 23; level2: 23.9; status: Default; sf: * at bool.jl:180 [inlined]\" role=\"graphics-symbol\" aria-roledescription=\"rect mark\" d=\"M538.5600000000001,187.55555555555557h0.14399999999989177v8h-0.14399999999989177Z\" fill=\"#4c78a8\" fill-opacity=\"1\" stroke=\"#505050\" stroke-width=\"0\"/><path aria-label=\"x1: 3366; x2: 3366.9; level: 24; level2: 24.9; status: Default; sf: copysign at floatfuncs.jl:5 [inlined]\" role=\"graphics-symbol\" aria-roledescription=\"rect mark\" d=\"M538.5600000000001,178.66666666666666h0.14399999999989177v8h-0.14399999999989177Z\" fill=\"#4c78a8\" fill-opacity=\"1\" stroke=\"#505050\" stroke-width=\"0\"/><path aria-label=\"x1: 3367; x2: 3367.9; level: 16; level2: 16.9; status: Default; sf: collect_to!(dest::Array{Float64, 3}, itr::Base.Generator{Base.Iterators.Zip{Tuple{Array{Tuple{Vector{Float64}, Vector{Float64}}, 3}, Array{Float64, 3}}}, Base.var&quot;#4#5&quot;{BayesianSafetyValidation.var&quot;#398#402&quot;{Float64, Bool}}}, offs::Int64, st::Tuple{Int64, Int64}) at array.jl:844\" role=\"graphics-symbol\" aria-roledescription=\"rect mark\" d=\"M538.72,249.7777777777778h0.14400000000000546v7.999999999999972h-0.14400000000000546Z\" fill=\"#4c78a8\" fill-opacity=\"1\" stroke=\"#505050\" stroke-width=\"0\"/><path aria-label=\"x1: 3367; x2: 3367.9; level: 17; level2: 17.9; status: Default; sf: setindex! at array.jl:969 [inlined]\" role=\"graphics-symbol\" aria-roledescription=\"rect mark\" d=\"M538.72,240.88888888888889h0.14400000000000546v8h-0.14400000000000546Z\" fill=\"#4c78a8\" fill-opacity=\"1\" stroke=\"#505050\" stroke-width=\"0\"/><path aria-label=\"x1: 3368; x2: 3379.9; level: 12; level2: 12.9; status: Runtime dispatch; sf: sample_next_point(y::Array{Float64, 3}, F̂::Array{Tuple{Vector{Float64}, Vector{Float64}}, 3}, P::Array{Float64, 3}, models::Vector{OperationalParameters}; n::Int64, r::Int64, acq::Function, return_weight::Bool, match_original::Bool) at surrogate_model.jl:211\" role=\"graphics-symbol\" aria-roledescription=\"rect mark\" d=\"M538.88,285.33333333333337h1.9039999999999964v8h-1.9039999999999964Z\" fill=\"#e45756\" fill-opacity=\"1\" stroke=\"#505050\" stroke-width=\"0\"/><path aria-label=\"x1: 3368; x2: 3379.9; level: 13; level2: 13.9; status: Default; sf: normalize01(X::Array{Float64, 3}) at utils.jl:15\" role=\"graphics-symbol\" aria-roledescription=\"rect mark\" d=\"M538.88,276.44444444444446h1.9039999999999964v8h-1.9039999999999964Z\" fill=\"#4c78a8\" fill-opacity=\"1\" stroke=\"#505050\" stroke-width=\"0\"/><path aria-label=\"x1: 3368; x2: 3368.9; level: 14; level2: 14.9; status: Default; sf: /(A::Array{Float64, 3}, B::Float64) at arraymath.jl:24\" role=\"graphics-symbol\" aria-roledescription=\"rect mark\" d=\"M538.88,267.55555555555554h0.14400000000000546v8h-0.14400000000000546Z\" fill=\"#4c78a8\" fill-opacity=\"1\" stroke=\"#505050\" stroke-width=\"0\"/><path aria-label=\"x1: 3368; x2: 3368.9; level: 15; level2: 15.9; status: Default; sf: broadcast_preserving_zero_d at broadcast.jl:862 [inlined]\" role=\"graphics-symbol\" aria-roledescription=\"rect mark\" d=\"M538.88,258.6666666666667h0.14400000000000546v8h-0.14400000000000546Z\" fill=\"#4c78a8\" fill-opacity=\"1\" stroke=\"#505050\" stroke-width=\"0\"/><path aria-label=\"x1: 3368; x2: 3368.9; level: 16; level2: 16.9; status: Default; sf: materialize at broadcast.jl:873 [inlined]\" role=\"graphics-symbol\" aria-roledescription=\"rect mark\" d=\"M538.88,249.7777777777778h0.14400000000000546v7.999999999999972h-0.14400000000000546Z\" fill=\"#4c78a8\" fill-opacity=\"1\" stroke=\"#505050\" stroke-width=\"0\"/><path aria-label=\"x1: 3368; x2: 3368.9; level: 17; level2: 17.9; status: Default; sf: copy at broadcast.jl:898 [inlined]\" role=\"graphics-symbol\" aria-roledescription=\"rect mark\" d=\"M538.88,240.88888888888889h0.14400000000000546v8h-0.14400000000000546Z\" fill=\"#4c78a8\" fill-opacity=\"1\" stroke=\"#505050\" stroke-width=\"0\"/><path aria-label=\"x1: 3368; x2: 3368.9; level: 18; level2: 18.9; status: Default; sf: copyto! at broadcast.jl:926 [inlined]\" role=\"graphics-symbol\" aria-roledescription=\"rect mark\" d=\"M538.88,232.00000000000003h0.14400000000000546v7.999999999999972h-0.14400000000000546Z\" fill=\"#4c78a8\" fill-opacity=\"1\" stroke=\"#505050\" stroke-width=\"0\"/><path aria-label=\"x1: 3368; x2: 3368.9; level: 19; level2: 19.9; status: Default; sf: copyto! at broadcast.jl:973 [inlined]\" role=\"graphics-symbol\" aria-roledescription=\"rect mark\" d=\"M538.88,223.11111111111111h0.14400000000000546v7.999999999999972h-0.14400000000000546Z\" fill=\"#4c78a8\" fill-opacity=\"1\" stroke=\"#505050\" stroke-width=\"0\"/><path aria-label=\"x1: 3368; x2: 3368.9; level: 20; level2: 20.9; status: Default; sf: macro expansion at simdloop.jl:77 [inlined]\" role=\"graphics-symbol\" aria-roledescription=\"rect mark\" d=\"M538.88,214.22222222222223h0.14400000000000546v8h-0.14400000000000546Z\" fill=\"#4c78a8\" fill-opacity=\"1\" stroke=\"#505050\" stroke-width=\"0\"/><path aria-label=\"x1: 3368; x2: 3368.9; level: 21; level2: 21.9; status: Default; sf: macro expansion at broadcast.jl:974 [inlined]\" role=\"graphics-symbol\" aria-roledescription=\"rect mark\" d=\"M538.88,205.33333333333337h0.14400000000000546v7.999999999999972h-0.14400000000000546Z\" fill=\"#4c78a8\" fill-opacity=\"1\" stroke=\"#505050\" stroke-width=\"0\"/><path aria-label=\"x1: 3368; x2: 3368.9; level: 22; level2: 22.9; status: Default; sf: getindex at broadcast.jl:610 [inlined]\" role=\"graphics-symbol\" aria-roledescription=\"rect mark\" d=\"M538.88,196.44444444444446h0.14400000000000546v7.999999999999972h-0.14400000000000546Z\" fill=\"#4c78a8\" fill-opacity=\"1\" stroke=\"#505050\" stroke-width=\"0\"/><path aria-label=\"x1: 3368; x2: 3368.9; level: 23; level2: 23.9; status: Default; sf: _broadcast_getindex at broadcast.jl:655 [inlined]\" role=\"graphics-symbol\" aria-roledescription=\"rect mark\" d=\"M538.88,187.55555555555557h0.14400000000000546v8h-0.14400000000000546Z\" fill=\"#4c78a8\" fill-opacity=\"1\" stroke=\"#505050\" stroke-width=\"0\"/><path aria-label=\"x1: 3368; x2: 3368.9; level: 24; level2: 24.9; status: Default; sf: _getindex at broadcast.jl:679 [inlined]\" role=\"graphics-symbol\" aria-roledescription=\"rect mark\" d=\"M538.88,178.66666666666666h0.14400000000000546v8h-0.14400000000000546Z\" fill=\"#4c78a8\" fill-opacity=\"1\" stroke=\"#505050\" stroke-width=\"0\"/><path aria-label=\"x1: 3368; x2: 3368.9; level: 25; level2: 25.9; status: Default; sf: _broadcast_getindex at broadcast.jl:649 [inlined]\" role=\"graphics-symbol\" aria-roledescription=\"rect mark\" d=\"M538.88,169.7777777777778h0.14400000000000546v7.999999999999972h-0.14400000000000546Z\" fill=\"#4c78a8\" fill-opacity=\"1\" stroke=\"#505050\" stroke-width=\"0\"/><path aria-label=\"x1: 3368; x2: 3368.9; level: 26; level2: 26.9; status: Default; sf: getindex at multidimensional.jl:668 [inlined]\" role=\"graphics-symbol\" aria-roledescription=\"rect mark\" d=\"M538.88,160.8888888888889h0.14400000000000546v8h-0.14400000000000546Z\" fill=\"#4c78a8\" fill-opacity=\"1\" stroke=\"#505050\" stroke-width=\"0\"/><path aria-label=\"x1: 3368; x2: 3368.9; level: 27; level2: 27.9; status: Default; sf: getindex at essentials.jl:14 [inlined]\" role=\"graphics-symbol\" aria-roledescription=\"rect mark\" d=\"M538.88,152h0.14400000000000546v8h-0.14400000000000546Z\" fill=\"#4c78a8\" fill-opacity=\"1\" stroke=\"#505050\" stroke-width=\"0\"/><path aria-label=\"x1: 3369; x2: 3372.9; level: 14; level2: 14.9; status: Default; sf: materialize at broadcast.jl:873 [inlined]\" role=\"graphics-symbol\" aria-roledescription=\"rect mark\" d=\"M539.04,267.55555555555554h0.6240000000001373v8h-0.6240000000001373Z\" fill=\"#4c78a8\" fill-opacity=\"1\" stroke=\"#505050\" stroke-width=\"0\"/><path aria-label=\"x1: 3369; x2: 3372.9; level: 15; level2: 15.9; status: Default; sf: copy at broadcast.jl:898 [inlined]\" role=\"graphics-symbol\" aria-roledescription=\"rect mark\" d=\"M539.04,258.6666666666667h0.6240000000001373v8h-0.6240000000001373Z\" fill=\"#4c78a8\" fill-opacity=\"1\" stroke=\"#505050\" stroke-width=\"0\"/><path aria-label=\"x1: 3369; x2: 3371.9; level: 16; level2: 16.9; status: Default; sf: copyto! at broadcast.jl:926 [inlined]\" role=\"graphics-symbol\" aria-roledescription=\"rect mark\" d=\"M539.04,249.7777777777778h0.4640000000000555v7.999999999999972h-0.4640000000000555Z\" fill=\"#4c78a8\" fill-opacity=\"1\" stroke=\"#505050\" stroke-width=\"0\"/><path aria-label=\"x1: 3369; x2: 3371.9; level: 17; level2: 17.9; status: Default; sf: copyto! at broadcast.jl:973 [inlined]\" role=\"graphics-symbol\" aria-roledescription=\"rect mark\" d=\"M539.04,240.88888888888889h0.4640000000000555v8h-0.4640000000000555Z\" fill=\"#4c78a8\" fill-opacity=\"1\" stroke=\"#505050\" stroke-width=\"0\"/><path aria-label=\"x1: 3369; x2: 3371.9; level: 18; level2: 18.9; status: Default; sf: macro expansion at simdloop.jl:77 [inlined]\" role=\"graphics-symbol\" aria-roledescription=\"rect mark\" d=\"M539.04,232.00000000000003h0.4640000000000555v7.999999999999972h-0.4640000000000555Z\" fill=\"#4c78a8\" fill-opacity=\"1\" stroke=\"#505050\" stroke-width=\"0\"/><path aria-label=\"x1: 3369; x2: 3371.9; level: 19; level2: 19.9; status: Default; sf: macro expansion at broadcast.jl:974 [inlined]\" role=\"graphics-symbol\" aria-roledescription=\"rect mark\" d=\"M539.04,223.11111111111111h0.4640000000000555v7.999999999999972h-0.4640000000000555Z\" fill=\"#4c78a8\" fill-opacity=\"1\" stroke=\"#505050\" stroke-width=\"0\"/><path aria-label=\"x1: 3369; x2: 3371.9; level: 20; level2: 20.9; status: Default; sf: getindex at broadcast.jl:610 [inlined]\" role=\"graphics-symbol\" aria-roledescription=\"rect mark\" d=\"M539.04,214.22222222222223h0.4640000000000555v8h-0.4640000000000555Z\" fill=\"#4c78a8\" fill-opacity=\"1\" stroke=\"#505050\" stroke-width=\"0\"/><path aria-label=\"x1: 3369; x2: 3371.9; level: 21; level2: 21.9; status: Default; sf: _broadcast_getindex at broadcast.jl:655 [inlined]\" role=\"graphics-symbol\" aria-roledescription=\"rect mark\" d=\"M539.04,205.33333333333337h0.4640000000000555v7.999999999999972h-0.4640000000000555Z\" fill=\"#4c78a8\" fill-opacity=\"1\" stroke=\"#505050\" stroke-width=\"0\"/><path aria-label=\"x1: 3369; x2: 3371.9; level: 22; level2: 22.9; status: Default; sf: _getindex at broadcast.jl:679 [inlined]\" role=\"graphics-symbol\" aria-roledescription=\"rect mark\" d=\"M539.04,196.44444444444446h0.4640000000000555v7.999999999999972h-0.4640000000000555Z\" fill=\"#4c78a8\" fill-opacity=\"1\" stroke=\"#505050\" stroke-width=\"0\"/><path aria-label=\"x1: 3369; x2: 3371.9; level: 23; level2: 23.9; status: Default; sf: _broadcast_getindex at broadcast.jl:649 [inlined]\" role=\"graphics-symbol\" aria-roledescription=\"rect mark\" d=\"M539.04,187.55555555555557h0.4640000000000555v8h-0.4640000000000555Z\" fill=\"#4c78a8\" fill-opacity=\"1\" stroke=\"#505050\" stroke-width=\"0\"/><path aria-label=\"x1: 3369; x2: 3371.9; level: 24; level2: 24.9; status: Default; sf: getindex at multidimensional.jl:668 [inlined]\" role=\"graphics-symbol\" aria-roledescription=\"rect mark\" d=\"M539.04,178.66666666666666h0.4640000000000555v8h-0.4640000000000555Z\" fill=\"#4c78a8\" fill-opacity=\"1\" stroke=\"#505050\" stroke-width=\"0\"/><path aria-label=\"x1: 3369; x2: 3371.9; level: 25; level2: 25.9; status: Default; sf: getindex at essentials.jl:14 [inlined]\" role=\"graphics-symbol\" aria-roledescription=\"rect mark\" d=\"M539.04,169.7777777777778h0.4640000000000555v7.999999999999972h-0.4640000000000555Z\" fill=\"#4c78a8\" fill-opacity=\"1\" stroke=\"#505050\" stroke-width=\"0\"/><path aria-label=\"x1: 3372; x2: 3372.9; level: 16; level2: 16.9; status: Default; sf: similar at broadcast.jl:211 [inlined]\" role=\"graphics-symbol\" aria-roledescription=\"rect mark\" d=\"M539.52,249.7777777777778h0.14400000000011914v7.999999999999972h-0.14400000000011914Z\" fill=\"#4c78a8\" fill-opacity=\"1\" stroke=\"#505050\" stroke-width=\"0\"/><path aria-label=\"x1: 3372; x2: 3372.9; level: 17; level2: 17.9; status: Default; sf: similar at broadcast.jl:212 [inlined]\" role=\"graphics-symbol\" aria-roledescription=\"rect mark\" d=\"M539.52,240.88888888888889h0.14400000000011914v8h-0.14400000000011914Z\" fill=\"#4c78a8\" fill-opacity=\"1\" stroke=\"#505050\" stroke-width=\"0\"/><path aria-label=\"x1: 3372; x2: 3372.9; level: 18; level2: 18.9; status: Default; sf: similar at abstractarray.jl:881 [inlined]\" role=\"graphics-symbol\" aria-roledescription=\"rect mark\" d=\"M539.52,232.00000000000003h0.14400000000011914v7.999999999999972h-0.14400000000011914Z\" fill=\"#4c78a8\" fill-opacity=\"1\" stroke=\"#505050\" stroke-width=\"0\"/><path aria-label=\"x1: 3372; x2: 3372.9; level: 19; level2: 19.9; status: Default; sf: similar at abstractarray.jl:882 [inlined]\" role=\"graphics-symbol\" aria-roledescription=\"rect mark\" d=\"M539.52,223.11111111111111h0.14400000000011914v7.999999999999972h-0.14400000000011914Z\" fill=\"#4c78a8\" fill-opacity=\"1\" stroke=\"#505050\" stroke-width=\"0\"/><path aria-label=\"x1: 3372; x2: 3372.9; level: 20; level2: 20.9; status: Default; sf: Array at boot.jl:494 [inlined]\" role=\"graphics-symbol\" aria-roledescription=\"rect mark\" d=\"M539.52,214.22222222222223h0.14400000000011914v8h-0.14400000000011914Z\" fill=\"#4c78a8\" fill-opacity=\"1\" stroke=\"#505050\" stroke-width=\"0\"/><path aria-label=\"x1: 3372; x2: 3372.9; level: 21; level2: 21.9; status: Default; sf: Array at boot.jl:488 [inlined]\" role=\"graphics-symbol\" aria-roledescription=\"rect mark\" d=\"M539.52,205.33333333333337h0.14400000000011914v7.999999999999972h-0.14400000000011914Z\" fill=\"#4c78a8\" fill-opacity=\"1\" stroke=\"#505050\" stroke-width=\"0\"/><path aria-label=\"x1: 3372; x2: 3372.9; level: 22; level2: 22.9; status: Default; sf: Array at boot.jl:481 [inlined]\" role=\"graphics-symbol\" aria-roledescription=\"rect mark\" d=\"M539.52,196.44444444444446h0.14400000000011914v7.999999999999972h-0.14400000000011914Z\" fill=\"#4c78a8\" fill-opacity=\"1\" stroke=\"#505050\" stroke-width=\"0\"/><path aria-label=\"x1: 3373; x2: 3373.9; level: 14; level2: 14.9; status: Default; sf: maximum at reducedim.jl:994 [inlined]\" role=\"graphics-symbol\" aria-roledescription=\"rect mark\" d=\"M539.68,267.55555555555554h0.14400000000011914v8h-0.14400000000011914Z\" fill=\"#4c78a8\" fill-opacity=\"1\" stroke=\"#505050\" stroke-width=\"0\"/><path aria-label=\"x1: 3373; x2: 3373.9; level: 15; level2: 15.9; status: Default; sf: #maximum#815 at reducedim.jl:994 [inlined]\" role=\"graphics-symbol\" aria-roledescription=\"rect mark\" d=\"M539.68,258.6666666666667h0.14400000000011914v8h-0.14400000000011914Z\" fill=\"#4c78a8\" fill-opacity=\"1\" stroke=\"#505050\" stroke-width=\"0\"/><path aria-label=\"x1: 3373; x2: 3373.9; level: 16; level2: 16.9; status: Default; sf: _maximum at reducedim.jl:998 [inlined]\" role=\"graphics-symbol\" aria-roledescription=\"rect mark\" d=\"M539.68,249.7777777777778h0.14400000000011914v7.999999999999972h-0.14400000000011914Z\" fill=\"#4c78a8\" fill-opacity=\"1\" stroke=\"#505050\" stroke-width=\"0\"/><path aria-label=\"x1: 3373; x2: 3373.9; level: 17; level2: 17.9; status: Default; sf: #_maximum#817 at reducedim.jl:998 [inlined]\" role=\"graphics-symbol\" aria-roledescription=\"rect mark\" d=\"M539.68,240.88888888888889h0.14400000000011914v8h-0.14400000000011914Z\" fill=\"#4c78a8\" fill-opacity=\"1\" stroke=\"#505050\" stroke-width=\"0\"/><path aria-label=\"x1: 3373; x2: 3373.9; level: 18; level2: 18.9; status: Default; sf: _maximum at reducedim.jl:999 [inlined]\" role=\"graphics-symbol\" aria-roledescription=\"rect mark\" d=\"M539.68,232.00000000000003h0.14400000000011914v7.999999999999972h-0.14400000000011914Z\" fill=\"#4c78a8\" fill-opacity=\"1\" stroke=\"#505050\" stroke-width=\"0\"/><path aria-label=\"x1: 3373; x2: 3373.9; level: 19; level2: 19.9; status: Default; sf: #_maximum#818 at reducedim.jl:999 [inlined]\" role=\"graphics-symbol\" aria-roledescription=\"rect mark\" d=\"M539.68,223.11111111111111h0.14400000000011914v7.999999999999972h-0.14400000000011914Z\" fill=\"#4c78a8\" fill-opacity=\"1\" stroke=\"#505050\" stroke-width=\"0\"/><path aria-label=\"x1: 3373; x2: 3373.9; level: 20; level2: 20.9; status: Default; sf: mapreduce at reducedim.jl:357 [inlined]\" role=\"graphics-symbol\" aria-roledescription=\"rect mark\" d=\"M539.68,214.22222222222223h0.14400000000011914v8h-0.14400000000011914Z\" fill=\"#4c78a8\" fill-opacity=\"1\" stroke=\"#505050\" stroke-width=\"0\"/><path aria-label=\"x1: 3373; x2: 3373.9; level: 21; level2: 21.9; status: Default; sf: #mapreduce#800 at reducedim.jl:357 [inlined]\" role=\"graphics-symbol\" aria-roledescription=\"rect mark\" d=\"M539.68,205.33333333333337h0.14400000000011914v7.999999999999972h-0.14400000000011914Z\" fill=\"#4c78a8\" fill-opacity=\"1\" stroke=\"#505050\" stroke-width=\"0\"/><path aria-label=\"x1: 3373; x2: 3373.9; level: 22; level2: 22.9; status: Default; sf: _mapreduce_dim at reducedim.jl:365 [inlined]\" role=\"graphics-symbol\" aria-roledescription=\"rect mark\" d=\"M539.68,196.44444444444446h0.14400000000011914v7.999999999999972h-0.14400000000011914Z\" fill=\"#4c78a8\" fill-opacity=\"1\" stroke=\"#505050\" stroke-width=\"0\"/><path aria-label=\"x1: 3373; x2: 3373.9; level: 23; level2: 23.9; status: Default; sf: _mapreduce(f::typeof(identity), op::typeof(max), #unused#::IndexLinear, A::Array{Float64, 3}) at reduce.jl:442\" role=\"graphics-symbol\" aria-roledescription=\"rect mark\" d=\"M539.68,187.55555555555557h0.14400000000011914v8h-0.14400000000011914Z\" fill=\"#4c78a8\" fill-opacity=\"1\" stroke=\"#505050\" stroke-width=\"0\"/><path aria-label=\"x1: 3373; x2: 3373.9; level: 24; level2: 24.9; status: Default; sf: mapreduce_impl(f::typeof(identity), op::typeof(max), A::Array{Float64, 3}, first::Int64, last::Int64) at reduce.jl:649\" role=\"graphics-symbol\" aria-roledescription=\"rect mark\" d=\"M539.68,178.66666666666666h0.14400000000011914v8h-0.14400000000011914Z\" fill=\"#4c78a8\" fill-opacity=\"1\" stroke=\"#505050\" stroke-width=\"0\"/><path aria-label=\"x1: 3373; x2: 3373.9; level: 25; level2: 25.9; status: Default; sf: _fast at reduce.jl:621 [inlined]\" role=\"graphics-symbol\" aria-roledescription=\"rect mark\" d=\"M539.68,169.7777777777778h0.14400000000011914v7.999999999999972h-0.14400000000011914Z\" fill=\"#4c78a8\" fill-opacity=\"1\" stroke=\"#505050\" stroke-width=\"0\"/><path aria-label=\"x1: 3373; x2: 3373.9; level: 26; level2: 26.9; status: Default; sf: isnan at float.jl:619 [inlined]\" role=\"graphics-symbol\" aria-roledescription=\"rect mark\" d=\"M539.68,160.8888888888889h0.14400000000011914v8h-0.14400000000011914Z\" fill=\"#4c78a8\" fill-opacity=\"1\" stroke=\"#505050\" stroke-width=\"0\"/><path aria-label=\"x1: 3373; x2: 3373.9; level: 27; level2: 27.9; status: Default; sf: != at float.jl:534 [inlined]\" role=\"graphics-symbol\" aria-roledescription=\"rect mark\" d=\"M539.68,152h0.14400000000011914v8h-0.14400000000011914Z\" fill=\"#4c78a8\" fill-opacity=\"1\" stroke=\"#505050\" stroke-width=\"0\"/><path aria-label=\"x1: 3374; x2: 3379.9; level: 14; level2: 14.9; status: Default; sf: minimum at reducedim.jl:994 [inlined]\" role=\"graphics-symbol\" aria-roledescription=\"rect mark\" d=\"M539.8399999999999,267.55555555555554h0.9440000000000737v8h-0.9440000000000737Z\" fill=\"#4c78a8\" fill-opacity=\"1\" stroke=\"#505050\" stroke-width=\"0\"/><path aria-label=\"x1: 3374; x2: 3379.9; level: 15; level2: 15.9; status: Default; sf: #minimum#819 at reducedim.jl:994 [inlined]\" role=\"graphics-symbol\" aria-roledescription=\"rect mark\" d=\"M539.8399999999999,258.6666666666667h0.9440000000000737v8h-0.9440000000000737Z\" fill=\"#4c78a8\" fill-opacity=\"1\" stroke=\"#505050\" stroke-width=\"0\"/><path aria-label=\"x1: 3374; x2: 3379.9; level: 16; level2: 16.9; status: Default; sf: _minimum at reducedim.jl:998 [inlined]\" role=\"graphics-symbol\" aria-roledescription=\"rect mark\" d=\"M539.8399999999999,249.7777777777778h0.9440000000000737v7.999999999999972h-0.9440000000000737Z\" fill=\"#4c78a8\" fill-opacity=\"1\" stroke=\"#505050\" stroke-width=\"0\"/><path aria-label=\"x1: 3374; x2: 3379.9; level: 17; level2: 17.9; status: Default; sf: #_minimum#821 at reducedim.jl:998 [inlined]\" role=\"graphics-symbol\" aria-roledescription=\"rect mark\" d=\"M539.8399999999999,240.88888888888889h0.9440000000000737v8h-0.9440000000000737Z\" fill=\"#4c78a8\" fill-opacity=\"1\" stroke=\"#505050\" stroke-width=\"0\"/><path aria-label=\"x1: 3374; x2: 3379.9; level: 18; level2: 18.9; status: Default; sf: _minimum at reducedim.jl:999 [inlined]\" role=\"graphics-symbol\" aria-roledescription=\"rect mark\" d=\"M539.8399999999999,232.00000000000003h0.9440000000000737v7.999999999999972h-0.9440000000000737Z\" fill=\"#4c78a8\" fill-opacity=\"1\" stroke=\"#505050\" stroke-width=\"0\"/><path aria-label=\"x1: 3374; x2: 3379.9; level: 19; level2: 19.9; status: Default; sf: #_minimum#822 at reducedim.jl:999 [inlined]\" role=\"graphics-symbol\" aria-roledescription=\"rect mark\" d=\"M539.8399999999999,223.11111111111111h0.9440000000000737v7.999999999999972h-0.9440000000000737Z\" fill=\"#4c78a8\" fill-opacity=\"1\" stroke=\"#505050\" stroke-width=\"0\"/><path aria-label=\"x1: 3374; x2: 3379.9; level: 20; level2: 20.9; status: Default; sf: mapreduce at reducedim.jl:357 [inlined]\" role=\"graphics-symbol\" aria-roledescription=\"rect mark\" d=\"M539.8399999999999,214.22222222222223h0.9440000000000737v8h-0.9440000000000737Z\" fill=\"#4c78a8\" fill-opacity=\"1\" stroke=\"#505050\" stroke-width=\"0\"/><path aria-label=\"x1: 3374; x2: 3379.9; level: 21; level2: 21.9; status: Default; sf: #mapreduce#800 at reducedim.jl:357 [inlined]\" role=\"graphics-symbol\" aria-roledescription=\"rect mark\" d=\"M539.8399999999999,205.33333333333337h0.9440000000000737v7.999999999999972h-0.9440000000000737Z\" fill=\"#4c78a8\" fill-opacity=\"1\" stroke=\"#505050\" stroke-width=\"0\"/><path aria-label=\"x1: 3374; x2: 3379.9; level: 22; level2: 22.9; status: Default; sf: _mapreduce_dim at reducedim.jl:365 [inlined]\" role=\"graphics-symbol\" aria-roledescription=\"rect mark\" d=\"M539.8399999999999,196.44444444444446h0.9440000000000737v7.999999999999972h-0.9440000000000737Z\" fill=\"#4c78a8\" fill-opacity=\"1\" stroke=\"#505050\" stroke-width=\"0\"/><path aria-label=\"x1: 3374; x2: 3379.9; level: 23; level2: 23.9; status: Default; sf: _mapreduce(f::typeof(identity), op::typeof(min), #unused#::IndexLinear, A::Array{Float64, 3}) at reduce.jl:442\" role=\"graphics-symbol\" aria-roledescription=\"rect mark\" d=\"M539.8399999999999,187.55555555555557h0.9440000000000737v8h-0.9440000000000737Z\" fill=\"#4c78a8\" fill-opacity=\"1\" stroke=\"#505050\" stroke-width=\"0\"/><path aria-label=\"x1: 3374; x2: 3374.9; level: 24; level2: 24.9; status: Default; sf: mapreduce_impl(f::typeof(identity), op::typeof(min), A::Array{Float64, 3}, first::Int64, last::Int64) at reduce.jl:0\" role=\"graphics-symbol\" aria-roledescription=\"rect mark\" d=\"M539.8399999999999,178.66666666666666h0.14400000000011914v8h-0.14400000000011914Z\" fill=\"#4c78a8\" fill-opacity=\"1\" stroke=\"#505050\" stroke-width=\"0\"/><path aria-label=\"x1: 3375; x2: 3375.9; level: 24; level2: 24.9; status: Default; sf: mapreduce_impl(f::typeof(identity), op::typeof(min), A::Array{Float64, 3}, first::Int64, last::Int64) at reduce.jl:649\" role=\"graphics-symbol\" aria-roledescription=\"rect mark\" d=\"M540,178.66666666666666h0.14400000000000546v8h-0.14400000000000546Z\" fill=\"#4c78a8\" fill-opacity=\"1\" stroke=\"#505050\" stroke-width=\"0\"/><path aria-label=\"x1: 3375; x2: 3375.9; level: 25; level2: 25.9; status: Default; sf: _fast at reduce.jl:627 [inlined]\" role=\"graphics-symbol\" aria-roledescription=\"rect mark\" d=\"M540,169.7777777777778h0.14400000000000546v7.999999999999972h-0.14400000000000546Z\" fill=\"#4c78a8\" fill-opacity=\"1\" stroke=\"#505050\" stroke-width=\"0\"/><path aria-label=\"x1: 3375; x2: 3375.9; level: 26; level2: 26.9; status: Default; sf: isnan at float.jl:619 [inlined]\" role=\"graphics-symbol\" aria-roledescription=\"rect mark\" d=\"M540,160.8888888888889h0.14400000000000546v8h-0.14400000000000546Z\" fill=\"#4c78a8\" fill-opacity=\"1\" stroke=\"#505050\" stroke-width=\"0\"/><path aria-label=\"x1: 3375; x2: 3375.9; level: 27; level2: 27.9; status: Default; sf: != at float.jl:534 [inlined]\" role=\"graphics-symbol\" aria-roledescription=\"rect mark\" d=\"M540,152h0.14400000000000546v8h-0.14400000000000546Z\" fill=\"#4c78a8\" fill-opacity=\"1\" stroke=\"#505050\" stroke-width=\"0\"/><path aria-label=\"x1: 3376; x2: 3377.9; level: 24; level2: 24.9; status: Default; sf: mapreduce_impl(f::typeof(identity), op::typeof(min), A::Array{Float64, 3}, first::Int64, last::Int64) at reduce.jl:668\" role=\"graphics-symbol\" aria-roledescription=\"rect mark\" d=\"M540.16,178.66666666666666h0.3040000000000873v8h-0.3040000000000873Z\" fill=\"#4c78a8\" fill-opacity=\"1\" stroke=\"#505050\" stroke-width=\"0\"/><path aria-label=\"x1: 3376; x2: 3377.9; level: 25; level2: 25.9; status: Default; sf: getindex at essentials.jl:13 [inlined]\" role=\"graphics-symbol\" aria-roledescription=\"rect mark\" d=\"M540.16,169.7777777777778h0.3040000000000873v7.999999999999972h-0.3040000000000873Z\" fill=\"#4c78a8\" fill-opacity=\"1\" stroke=\"#505050\" stroke-width=\"0\"/><path aria-label=\"x1: 3378; x2: 3379.9; level: 24; level2: 24.9; status: Default; sf: mapreduce_impl(f::typeof(identity), op::typeof(min), A::Array{Float64, 3}, first::Int64, last::Int64) at reduce.jl:670\" role=\"graphics-symbol\" aria-roledescription=\"rect mark\" d=\"M540.48,178.66666666666666h0.3039999999999736v8h-0.3039999999999736Z\" fill=\"#4c78a8\" fill-opacity=\"1\" stroke=\"#505050\" stroke-width=\"0\"/><path aria-label=\"x1: 3378; x2: 3379.9; level: 25; level2: 25.9; status: Default; sf: iterate at range.jl:891 [inlined]\" role=\"graphics-symbol\" aria-roledescription=\"rect mark\" d=\"M540.48,169.7777777777778h0.3039999999999736v7.999999999999972h-0.3039999999999736Z\" fill=\"#4c78a8\" fill-opacity=\"1\" stroke=\"#505050\" stroke-width=\"0\"/><path aria-label=\"x1: 3378; x2: 3379.9; level: 26; level2: 26.9; status: Default; sf: == at promotion.jl:499 [inlined]\" role=\"graphics-symbol\" aria-roledescription=\"rect mark\" d=\"M540.48,160.8888888888889h0.3039999999999736v8h-0.3039999999999736Z\" fill=\"#4c78a8\" fill-opacity=\"1\" stroke=\"#505050\" stroke-width=\"0\"/><path aria-label=\"x1: 3380; x2: 3381.9; level: 12; level2: 12.9; status: Default; sf: sample_next_point(y::Array{Float64, 3}, F̂::Array{Tuple{Vector{Float64}, Vector{Float64}}, 3}, P::Array{Float64, 3}, models::Vector{OperationalParameters}; n::Int64, r::Int64, acq::Function, return_weight::Bool, match_original::Bool) at surrogate_model.jl:212\" role=\"graphics-symbol\" aria-roledescription=\"rect mark\" d=\"M540.8000000000001,285.33333333333337h0.3039999999999736v8h-0.3039999999999736Z\" fill=\"#4c78a8\" fill-opacity=\"1\" stroke=\"#505050\" stroke-width=\"0\"/><path aria-label=\"x1: 3380; x2: 3380.9; level: 13; level2: 13.9; status: Runtime dispatch; sf: make_broadcastable_grid(models::Vector{OperationalParameters}, m::Tuple{Int64, Int64, Int64}) at surrogate_model.jl:62\" role=\"graphics-symbol\" aria-roledescription=\"rect mark\" d=\"M540.8000000000001,276.44444444444446h0.14399999999989177v8h-0.14399999999989177Z\" fill=\"#e45756\" fill-opacity=\"1\" stroke=\"#505050\" stroke-width=\"0\"/><path aria-label=\"x1: 3381; x2: 3381.9; level: 13; level2: 13.9; status: Runtime dispatch; sf: make_broadcastable_grid(models::Vector{OperationalParameters}, m::Tuple{Int64, Int64, Int64}) at surrogate_model.jl:63\" role=\"graphics-symbol\" aria-roledescription=\"rect mark\" d=\"M540.96,276.44444444444446h0.14400000000000546v8h-0.14400000000000546Z\" fill=\"#e45756\" fill-opacity=\"1\" stroke=\"#505050\" stroke-width=\"0\"/><path aria-label=\"x1: 3381; x2: 3381.9; level: 14; level2: 14.9; status: Default; sf: make_broadcastable_grid(inputs::Vector{Vector{Float64}}) at surrogate_model.jl:67\" role=\"graphics-symbol\" aria-roledescription=\"rect mark\" d=\"M540.96,267.55555555555554h0.14400000000000546v8h-0.14400000000000546Z\" fill=\"#4c78a8\" fill-opacity=\"1\" stroke=\"#505050\" stroke-width=\"0\"/><path aria-label=\"x1: 3381; x2: 3381.9; level: 15; level2: 15.9; status: Default; sf: collect(itr::Base.Generator{Base.Iterators.Enumerate{Vector{Vector{Float64}}}, BayesianSafetyValidation.var&quot;#34#35&quot;{Vector{Vector{Float64}}}}) at array.jl:782\" role=\"graphics-symbol\" aria-roledescription=\"rect mark\" d=\"M540.96,258.6666666666667h0.14400000000000546v8h-0.14400000000000546Z\" fill=\"#4c78a8\" fill-opacity=\"1\" stroke=\"#505050\" stroke-width=\"0\"/><path aria-label=\"x1: 3381; x2: 3381.9; level: 16; level2: 16.9; status: Default; sf: iterate at generator.jl:47 [inlined]\" role=\"graphics-symbol\" aria-roledescription=\"rect mark\" d=\"M540.96,249.7777777777778h0.14400000000000546v7.999999999999972h-0.14400000000000546Z\" fill=\"#4c78a8\" fill-opacity=\"1\" stroke=\"#505050\" stroke-width=\"0\"/><path aria-label=\"x1: 3381; x2: 3381.9; level: 17; level2: 17.9; status: Runtime dispatch; sf: (::BayesianSafetyValidation.var&quot;#34#35&quot;{Vector{Vector{Float64}}})(::Tuple{Int64, Vector{Float64}}) at array.jl:0\" role=\"graphics-symbol\" aria-roledescription=\"rect mark\" d=\"M540.96,240.88888888888889h0.14400000000000546v8h-0.14400000000000546Z\" fill=\"#e45756\" fill-opacity=\"1\" stroke=\"#505050\" stroke-width=\"0\"/><path aria-label=\"x1: 3381; x2: 3381.9; level: 18; level2: 18.9; status: Runtime dispatch; sf: reshape(::Vector{Float64}, ::Colon, ::Int64, ::Vararg{Int64}) at reshapedarray.jl:118\" role=\"graphics-symbol\" aria-roledescription=\"rect mark\" d=\"M540.96,232.00000000000003h0.14400000000000546v7.999999999999972h-0.14400000000000546Z\" fill=\"#e45756\" fill-opacity=\"1\" stroke=\"#505050\" stroke-width=\"0\"/><path aria-label=\"x1: 3382; x2: 3553.9; level: 12; level2: 12.9; status: Runtime dispatch; sf: sample_next_point(y::Array{Float64, 3}, F̂::Array{Tuple{Vector{Float64}, Vector{Float64}}, 3}, P::Array{Float64, 3}, models::Vector{OperationalParameters}; n::Int64, r::Int64, acq::Function, return_weight::Bool, match_original::Bool) at surrogate_model.jl:213\" role=\"graphics-symbol\" aria-roledescription=\"rect mark\" d=\"M541.12,285.33333333333337h27.50400000000002v8h-27.50400000000002Z\" fill=\"#e45756\" fill-opacity=\"1\" stroke=\"#505050\" stroke-width=\"0\"/><path aria-label=\"x1: 3382; x2: 3552.9; level: 13; level2: 13.9; status: Default; sf: broadcast(::BayesianSafetyValidation.var&quot;#56#57&quot;, ::Array{Float64, 3}, ::Array{Float64, 3}, ::Array{Float64, 3}) at broadcast.jl:811\" role=\"graphics-symbol\" aria-roledescription=\"rect mark\" d=\"M541.12,276.44444444444446h27.343999999999937v8h-27.343999999999937Z\" fill=\"#4c78a8\" fill-opacity=\"1\" stroke=\"#505050\" stroke-width=\"0\"/><path aria-label=\"x1: 3382; x2: 3552.9; level: 14; level2: 14.9; status: Default; sf: materialize at broadcast.jl:873 [inlined]\" role=\"graphics-symbol\" aria-roledescription=\"rect mark\" d=\"M541.12,267.55555555555554h27.343999999999937v8h-27.343999999999937Z\" fill=\"#4c78a8\" fill-opacity=\"1\" stroke=\"#505050\" stroke-width=\"0\"/><path aria-label=\"x1: 3382; x2: 3552.9; level: 15; level2: 15.9; status: Default; sf: copy at broadcast.jl:898 [inlined]\" role=\"graphics-symbol\" aria-roledescription=\"rect mark\" d=\"M541.12,258.6666666666667h27.343999999999937v8h-27.343999999999937Z\" fill=\"#4c78a8\" fill-opacity=\"1\" stroke=\"#505050\" stroke-width=\"0\"/><path aria-label=\"x1: 3382; x2: 3552.9; level: 16; level2: 16.9; status: Default; sf: copyto! at broadcast.jl:926 [inlined]\" role=\"graphics-symbol\" aria-roledescription=\"rect mark\" d=\"M541.12,249.7777777777778h27.343999999999937v7.999999999999972h-27.343999999999937Z\" fill=\"#4c78a8\" fill-opacity=\"1\" stroke=\"#505050\" stroke-width=\"0\"/><path aria-label=\"x1: 3382; x2: 3382.9; level: 17; level2: 17.9; status: Default; sf: copyto! at broadcast.jl:970 [inlined]\" role=\"graphics-symbol\" aria-roledescription=\"rect mark\" d=\"M541.12,240.88888888888889h0.14400000000000546v8h-0.14400000000000546Z\" fill=\"#4c78a8\" fill-opacity=\"1\" stroke=\"#505050\" stroke-width=\"0\"/><path aria-label=\"x1: 3382; x2: 3382.9; level: 18; level2: 18.9; status: Default; sf: preprocess at broadcast.jl:953 [inlined]\" role=\"graphics-symbol\" aria-roledescription=\"rect mark\" d=\"M541.12,232.00000000000003h0.14400000000000546v7.999999999999972h-0.14400000000000546Z\" fill=\"#4c78a8\" fill-opacity=\"1\" stroke=\"#505050\" stroke-width=\"0\"/><path aria-label=\"x1: 3382; x2: 3382.9; level: 19; level2: 19.9; status: Default; sf: preprocess_args at broadcast.jl:956 [inlined]\" role=\"graphics-symbol\" aria-roledescription=\"rect mark\" d=\"M541.12,223.11111111111111h0.14400000000000546v7.999999999999972h-0.14400000000000546Z\" fill=\"#4c78a8\" fill-opacity=\"1\" stroke=\"#505050\" stroke-width=\"0\"/><path aria-label=\"x1: 3382; x2: 3382.9; level: 20; level2: 20.9; status: Default; sf: preprocess_args at broadcast.jl:956 [inlined]\" role=\"graphics-symbol\" aria-roledescription=\"rect mark\" d=\"M541.12,214.22222222222223h0.14400000000000546v8h-0.14400000000000546Z\" fill=\"#4c78a8\" fill-opacity=\"1\" stroke=\"#505050\" stroke-width=\"0\"/><path aria-label=\"x1: 3382; x2: 3382.9; level: 21; level2: 21.9; status: Default; sf: preprocess_args at broadcast.jl:957 [inlined]\" role=\"graphics-symbol\" aria-roledescription=\"rect mark\" d=\"M541.12,205.33333333333337h0.14400000000000546v7.999999999999972h-0.14400000000000546Z\" fill=\"#4c78a8\" fill-opacity=\"1\" stroke=\"#505050\" stroke-width=\"0\"/><path aria-label=\"x1: 3382; x2: 3382.9; level: 22; level2: 22.9; status: Default; sf: preprocess at broadcast.jl:954 [inlined]\" role=\"graphics-symbol\" aria-roledescription=\"rect mark\" d=\"M541.12,196.44444444444446h0.14400000000000546v7.999999999999972h-0.14400000000000546Z\" fill=\"#4c78a8\" fill-opacity=\"1\" stroke=\"#505050\" stroke-width=\"0\"/><path aria-label=\"x1: 3382; x2: 3382.9; level: 23; level2: 23.9; status: Default; sf: extrude at broadcast.jl:650 [inlined]\" role=\"graphics-symbol\" aria-roledescription=\"rect mark\" d=\"M541.12,187.55555555555557h0.14400000000000546v8h-0.14400000000000546Z\" fill=\"#4c78a8\" fill-opacity=\"1\" stroke=\"#505050\" stroke-width=\"0\"/><path aria-label=\"x1: 3382; x2: 3382.9; level: 24; level2: 24.9; status: Default; sf: newindexer at broadcast.jl:599 [inlined]\" role=\"graphics-symbol\" aria-roledescription=\"rect mark\" d=\"M541.12,178.66666666666666h0.14400000000000546v8h-0.14400000000000546Z\" fill=\"#4c78a8\" fill-opacity=\"1\" stroke=\"#505050\" stroke-width=\"0\"/><path aria-label=\"x1: 3382; x2: 3382.9; level: 25; level2: 25.9; status: Default; sf: shapeindexer at broadcast.jl:600 [inlined]\" role=\"graphics-symbol\" aria-roledescription=\"rect mark\" d=\"M541.12,169.7777777777778h0.14400000000000546v7.999999999999972h-0.14400000000000546Z\" fill=\"#4c78a8\" fill-opacity=\"1\" stroke=\"#505050\" stroke-width=\"0\"/><path aria-label=\"x1: 3382; x2: 3382.9; level: 26; level2: 26.9; status: Default; sf: _newindexer at broadcast.jl:604 [inlined]\" role=\"graphics-symbol\" aria-roledescription=\"rect mark\" d=\"M541.12,160.8888888888889h0.14400000000000546v8h-0.14400000000000546Z\" fill=\"#4c78a8\" fill-opacity=\"1\" stroke=\"#505050\" stroke-width=\"0\"/><path aria-label=\"x1: 3382; x2: 3382.9; level: 27; level2: 27.9; status: Default; sf: _newindexer at broadcast.jl:605 [inlined]\" role=\"graphics-symbol\" aria-roledescription=\"rect mark\" d=\"M541.12,152h0.14400000000000546v8h-0.14400000000000546Z\" fill=\"#4c78a8\" fill-opacity=\"1\" stroke=\"#505050\" stroke-width=\"0\"/><path aria-label=\"x1: 3382; x2: 3382.9; level: 28; level2: 28.9; status: Default; sf: != at operators.jl:269 [inlined]\" role=\"graphics-symbol\" aria-roledescription=\"rect mark\" d=\"M541.12,143.11111111111114h0.14400000000000546v7.999999999999972h-0.14400000000000546Z\" fill=\"#4c78a8\" fill-opacity=\"1\" stroke=\"#505050\" stroke-width=\"0\"/><path aria-label=\"x1: 3382; x2: 3382.9; level: 29; level2: 29.9; status: Default; sf: == at promotion.jl:499 [inlined]\" role=\"graphics-symbol\" aria-roledescription=\"rect mark\" d=\"M541.12,134.22222222222223h0.14400000000000546v7.999999999999972h-0.14400000000000546Z\" fill=\"#4c78a8\" fill-opacity=\"1\" stroke=\"#505050\" stroke-width=\"0\"/><path aria-label=\"x1: 3383; x2: 3552.9; level: 17; level2: 17.9; status: Default; sf: copyto! at broadcast.jl:973 [inlined]\" role=\"graphics-symbol\" aria-roledescription=\"rect mark\" d=\"M541.28,240.88888888888889h27.18399999999997v8h-27.18399999999997Z\" fill=\"#4c78a8\" fill-opacity=\"1\" stroke=\"#505050\" stroke-width=\"0\"/><path aria-label=\"x1: 3383; x2: 3552.9; level: 18; level2: 18.9; status: Default; sf: macro expansion at simdloop.jl:77 [inlined]\" role=\"graphics-symbol\" aria-roledescription=\"rect mark\" d=\"M541.28,232.00000000000003h27.18399999999997v7.999999999999972h-27.18399999999997Z\" fill=\"#4c78a8\" fill-opacity=\"1\" stroke=\"#505050\" stroke-width=\"0\"/><path aria-label=\"x1: 3383; x2: 3552.9; level: 19; level2: 19.9; status: Default; sf: macro expansion at broadcast.jl:974 [inlined]\" role=\"graphics-symbol\" aria-roledescription=\"rect mark\" d=\"M541.28,223.11111111111111h27.18399999999997v7.999999999999972h-27.18399999999997Z\" fill=\"#4c78a8\" fill-opacity=\"1\" stroke=\"#505050\" stroke-width=\"0\"/><path aria-label=\"x1: 3383; x2: 3552.9; level: 20; level2: 20.9; status: Default; sf: getindex at broadcast.jl:610 [inlined]\" role=\"graphics-symbol\" aria-roledescription=\"rect mark\" d=\"M541.28,214.22222222222223h27.18399999999997v8h-27.18399999999997Z\" fill=\"#4c78a8\" fill-opacity=\"1\" stroke=\"#505050\" stroke-width=\"0\"/><path aria-label=\"x1: 3383; x2: 3385.9; level: 21; level2: 21.9; status: Default; sf: _broadcast_getindex at broadcast.jl:655 [inlined]\" role=\"graphics-symbol\" aria-roledescription=\"rect mark\" d=\"M541.28,205.33333333333337h0.4640000000000555v7.999999999999972h-0.4640000000000555Z\" fill=\"#4c78a8\" fill-opacity=\"1\" stroke=\"#505050\" stroke-width=\"0\"/><path aria-label=\"x1: 3383; x2: 3385.9; level: 22; level2: 22.9; status: Default; sf: _getindex at broadcast.jl:679 [inlined]\" role=\"graphics-symbol\" aria-roledescription=\"rect mark\" d=\"M541.28,196.44444444444446h0.4640000000000555v7.999999999999972h-0.4640000000000555Z\" fill=\"#4c78a8\" fill-opacity=\"1\" stroke=\"#505050\" stroke-width=\"0\"/><path aria-label=\"x1: 3383; x2: 3383.9; level: 23; level2: 23.9; status: Default; sf: _broadcast_getindex at broadcast.jl:649 [inlined]\" role=\"graphics-symbol\" aria-roledescription=\"rect mark\" d=\"M541.28,187.55555555555557h0.14400000000011914v8h-0.14400000000011914Z\" fill=\"#4c78a8\" fill-opacity=\"1\" stroke=\"#505050\" stroke-width=\"0\"/><path aria-label=\"x1: 3383; x2: 3383.9; level: 24; level2: 24.9; status: Default; sf: getindex at multidimensional.jl:668 [inlined]\" role=\"graphics-symbol\" aria-roledescription=\"rect mark\" d=\"M541.28,178.66666666666666h0.14400000000011914v8h-0.14400000000011914Z\" fill=\"#4c78a8\" fill-opacity=\"1\" stroke=\"#505050\" stroke-width=\"0\"/><path aria-label=\"x1: 3383; x2: 3383.9; level: 25; level2: 25.9; status: Default; sf: getindex at essentials.jl:14 [inlined]\" role=\"graphics-symbol\" aria-roledescription=\"rect mark\" d=\"M541.28,169.7777777777778h0.14400000000011914v7.999999999999972h-0.14400000000011914Z\" fill=\"#4c78a8\" fill-opacity=\"1\" stroke=\"#505050\" stroke-width=\"0\"/><path aria-label=\"x1: 3384; x2: 3385.9; level: 23; level2: 23.9; status: Default; sf: _getindex at broadcast.jl:679 [inlined]\" role=\"graphics-symbol\" aria-roledescription=\"rect mark\" d=\"M541.4399999999999,187.55555555555557h0.3040000000000873v8h-0.3040000000000873Z\" fill=\"#4c78a8\" fill-opacity=\"1\" stroke=\"#505050\" stroke-width=\"0\"/><path aria-label=\"x1: 3384; x2: 3384.9; level: 24; level2: 24.9; status: Default; sf: _broadcast_getindex at broadcast.jl:649 [inlined]\" role=\"graphics-symbol\" aria-roledescription=\"rect mark\" d=\"M541.4399999999999,178.66666666666666h0.14400000000011914v8h-0.14400000000011914Z\" fill=\"#4c78a8\" fill-opacity=\"1\" stroke=\"#505050\" stroke-width=\"0\"/><path aria-label=\"x1: 3384; x2: 3384.9; level: 25; level2: 25.9; status: Default; sf: getindex at multidimensional.jl:668 [inlined]\" role=\"graphics-symbol\" aria-roledescription=\"rect mark\" d=\"M541.4399999999999,169.7777777777778h0.14400000000011914v7.999999999999972h-0.14400000000011914Z\" fill=\"#4c78a8\" fill-opacity=\"1\" stroke=\"#505050\" stroke-width=\"0\"/><path aria-label=\"x1: 3384; x2: 3384.9; level: 26; level2: 26.9; status: Default; sf: getindex at essentials.jl:14 [inlined]\" role=\"graphics-symbol\" aria-roledescription=\"rect mark\" d=\"M541.4399999999999,160.8888888888889h0.14400000000011914v8h-0.14400000000011914Z\" fill=\"#4c78a8\" fill-opacity=\"1\" stroke=\"#505050\" stroke-width=\"0\"/><path aria-label=\"x1: 3385; x2: 3385.9; level: 24; level2: 24.9; status: Default; sf: _getindex at broadcast.jl:680 [inlined]\" role=\"graphics-symbol\" aria-roledescription=\"rect mark\" d=\"M541.6,178.66666666666666h0.14400000000000546v8h-0.14400000000000546Z\" fill=\"#4c78a8\" fill-opacity=\"1\" stroke=\"#505050\" stroke-width=\"0\"/><path aria-label=\"x1: 3385; x2: 3385.9; level: 25; level2: 25.9; status: Default; sf: _broadcast_getindex at broadcast.jl:649 [inlined]\" role=\"graphics-symbol\" aria-roledescription=\"rect mark\" d=\"M541.6,169.7777777777778h0.14400000000000546v7.999999999999972h-0.14400000000000546Z\" fill=\"#4c78a8\" fill-opacity=\"1\" stroke=\"#505050\" stroke-width=\"0\"/><path aria-label=\"x1: 3385; x2: 3385.9; level: 26; level2: 26.9; status: Default; sf: getindex at multidimensional.jl:668 [inlined]\" role=\"graphics-symbol\" aria-roledescription=\"rect mark\" d=\"M541.6,160.8888888888889h0.14400000000000546v8h-0.14400000000000546Z\" fill=\"#4c78a8\" fill-opacity=\"1\" stroke=\"#505050\" stroke-width=\"0\"/><path aria-label=\"x1: 3385; x2: 3385.9; level: 27; level2: 27.9; status: Default; sf: getindex at essentials.jl:14 [inlined]\" role=\"graphics-symbol\" aria-roledescription=\"rect mark\" d=\"M541.6,152h0.14400000000000546v8h-0.14400000000000546Z\" fill=\"#4c78a8\" fill-opacity=\"1\" stroke=\"#505050\" stroke-width=\"0\"/><path aria-label=\"x1: 3386; x2: 3552.9; level: 21; level2: 21.9; status: Default; sf: _broadcast_getindex at broadcast.jl:656 [inlined]\" role=\"graphics-symbol\" aria-roledescription=\"rect mark\" d=\"M541.76,205.33333333333337h26.70399999999995v7.999999999999972h-26.70399999999995Z\" fill=\"#4c78a8\" fill-opacity=\"1\" stroke=\"#505050\" stroke-width=\"0\"/><path aria-label=\"x1: 3386; x2: 3552.9; level: 22; level2: 22.9; status: Default; sf: _broadcast_getindex_evalf at broadcast.jl:683 [inlined]\" role=\"graphics-symbol\" aria-roledescription=\"rect mark\" d=\"M541.76,196.44444444444446h26.70399999999995v7.999999999999972h-26.70399999999995Z\" fill=\"#4c78a8\" fill-opacity=\"1\" stroke=\"#505050\" stroke-width=\"0\"/><path aria-label=\"x1: 3386; x2: 3552.9; level: 23; level2: 23.9; status: Default; sf: #56 at surrogate_model.jl:213 [inlined]\" role=\"graphics-symbol\" aria-roledescription=\"rect mark\" d=\"M541.76,187.55555555555557h26.70399999999995v8h-26.70399999999995Z\" fill=\"#4c78a8\" fill-opacity=\"1\" stroke=\"#505050\" stroke-width=\"0\"/><path aria-label=\"x1: 3386; x2: 3552.9; level: 24; level2: 24.9; status: Default; sf: vect at array.jl:126 [inlined]\" role=\"graphics-symbol\" aria-roledescription=\"rect mark\" d=\"M541.76,178.66666666666666h26.70399999999995v8h-26.70399999999995Z\" fill=\"#4c78a8\" fill-opacity=\"1\" stroke=\"#505050\" stroke-width=\"0\"/><path aria-label=\"x1: 3386; x2: 3551.9; level: 25; level2: 25.9; status: Default; sf: _array_for at array.jl:674 [inlined]\" role=\"graphics-symbol\" aria-roledescription=\"rect mark\" d=\"M541.76,169.7777777777778h26.543999999999983v7.999999999999972h-26.543999999999983Z\" fill=\"#4c78a8\" fill-opacity=\"1\" stroke=\"#505050\" stroke-width=\"0\"/><path aria-label=\"x1: 3386; x2: 3551.9; level: 26; level2: 26.9; status: Default; sf: _array_for at array.jl:671 [inlined]\" role=\"graphics-symbol\" aria-roledescription=\"rect mark\" d=\"M541.76,160.8888888888889h26.543999999999983v8h-26.543999999999983Z\" fill=\"#4c78a8\" fill-opacity=\"1\" stroke=\"#505050\" stroke-width=\"0\"/><path aria-label=\"x1: 3386; x2: 3551.9; level: 27; level2: 27.9; status: Default; sf: similar at abstractarray.jl:881 [inlined]\" role=\"graphics-symbol\" aria-roledescription=\"rect mark\" d=\"M541.76,152h26.543999999999983v8h-26.543999999999983Z\" fill=\"#4c78a8\" fill-opacity=\"1\" stroke=\"#505050\" stroke-width=\"0\"/><path aria-label=\"x1: 3386; x2: 3551.9; level: 28; level2: 28.9; status: Default; sf: similar at abstractarray.jl:882 [inlined]\" role=\"graphics-symbol\" aria-roledescription=\"rect mark\" d=\"M541.76,143.11111111111114h26.543999999999983v7.999999999999972h-26.543999999999983Z\" fill=\"#4c78a8\" fill-opacity=\"1\" stroke=\"#505050\" stroke-width=\"0\"/><path aria-label=\"x1: 3386; x2: 3551.9; level: 29; level2: 29.9; status: Default; sf: Array at boot.jl:486 [inlined]\" role=\"graphics-symbol\" aria-roledescription=\"rect mark\" d=\"M541.76,134.22222222222223h26.543999999999983v7.999999999999972h-26.543999999999983Z\" fill=\"#4c78a8\" fill-opacity=\"1\" stroke=\"#505050\" stroke-width=\"0\"/><path aria-label=\"x1: 3386; x2: 3551.9; level: 30; level2: 30.9; status: Garbage collection; sf: Array at boot.jl:477 [inlined]\" role=\"graphics-symbol\" aria-roledescription=\"rect mark\" d=\"M541.76,125.33333333333334h26.543999999999983v8h-26.543999999999983Z\" fill=\"#f58518\" fill-opacity=\"1\" stroke=\"#505050\" stroke-width=\"0\"/><path aria-label=\"x1: 3552; x2: 3552.9; level: 25; level2: 25.9; status: Default; sf: setindex! at array.jl:969 [inlined]\" role=\"graphics-symbol\" aria-roledescription=\"rect mark\" d=\"M568.32,169.7777777777778h0.14399999999989177v7.999999999999972h-0.14399999999989177Z\" fill=\"#4c78a8\" fill-opacity=\"1\" stroke=\"#505050\" stroke-width=\"0\"/><path aria-label=\"x1: 3554; x2: 3563.9; level: 12; level2: 12.9; status: Runtime dispatch; sf: sample_next_point(y::Array{Float64, 3}, F̂::Array{Tuple{Vector{Float64}, Vector{Float64}}, 3}, P::Array{Float64, 3}, models::Vector{OperationalParameters}; n::Int64, r::Int64, acq::Function, return_weight::Bool, match_original::Bool) at surrogate_model.jl:217\" role=\"graphics-symbol\" aria-roledescription=\"rect mark\" d=\"M568.64,285.33333333333337h1.5839999999999463v8h-1.5839999999999463Z\" fill=\"#e45756\" fill-opacity=\"1\" stroke=\"#505050\" stroke-width=\"0\"/><path aria-label=\"x1: 3554; x2: 3559.9; level: 13; level2: 13.9; status: Default; sf: materialize(bc::Base.Broadcast.Broadcasted{Base.Broadcast.DefaultArrayStyle{3}, Nothing, typeof(^), Tuple{Array{Float64, 3}, Int64}}) at broadcast.jl:873\" role=\"graphics-symbol\" aria-roledescription=\"rect mark\" d=\"M568.64,276.44444444444446h0.9440000000000737v8h-0.9440000000000737Z\" fill=\"#4c78a8\" fill-opacity=\"1\" stroke=\"#505050\" stroke-width=\"0\"/><path aria-label=\"x1: 3554; x2: 3559.9; level: 14; level2: 14.9; status: Default; sf: copy at broadcast.jl:898 [inlined]\" role=\"graphics-symbol\" aria-roledescription=\"rect mark\" d=\"M568.64,267.55555555555554h0.9440000000000737v8h-0.9440000000000737Z\" fill=\"#4c78a8\" fill-opacity=\"1\" stroke=\"#505050\" stroke-width=\"0\"/><path aria-label=\"x1: 3554; x2: 3559.9; level: 15; level2: 15.9; status: Default; sf: copyto! at broadcast.jl:926 [inlined]\" role=\"graphics-symbol\" aria-roledescription=\"rect mark\" d=\"M568.64,258.6666666666667h0.9440000000000737v8h-0.9440000000000737Z\" fill=\"#4c78a8\" fill-opacity=\"1\" stroke=\"#505050\" stroke-width=\"0\"/><path aria-label=\"x1: 3554; x2: 3559.9; level: 16; level2: 16.9; status: Default; sf: copyto! at broadcast.jl:973 [inlined]\" role=\"graphics-symbol\" aria-roledescription=\"rect mark\" d=\"M568.64,249.7777777777778h0.9440000000000737v7.999999999999972h-0.9440000000000737Z\" fill=\"#4c78a8\" fill-opacity=\"1\" stroke=\"#505050\" stroke-width=\"0\"/><path aria-label=\"x1: 3554; x2: 3559.9; level: 17; level2: 17.9; status: Default; sf: macro expansion at simdloop.jl:77 [inlined]\" role=\"graphics-symbol\" aria-roledescription=\"rect mark\" d=\"M568.64,240.88888888888889h0.9440000000000737v8h-0.9440000000000737Z\" fill=\"#4c78a8\" fill-opacity=\"1\" stroke=\"#505050\" stroke-width=\"0\"/><path aria-label=\"x1: 3554; x2: 3559.9; level: 18; level2: 18.9; status: Default; sf: macro expansion at broadcast.jl:974 [inlined]\" role=\"graphics-symbol\" aria-roledescription=\"rect mark\" d=\"M568.64,232.00000000000003h0.9440000000000737v7.999999999999972h-0.9440000000000737Z\" fill=\"#4c78a8\" fill-opacity=\"1\" stroke=\"#505050\" stroke-width=\"0\"/><path aria-label=\"x1: 3554; x2: 3559.9; level: 19; level2: 19.9; status: Default; sf: getindex at broadcast.jl:610 [inlined]\" role=\"graphics-symbol\" aria-roledescription=\"rect mark\" d=\"M568.64,223.11111111111111h0.9440000000000737v7.999999999999972h-0.9440000000000737Z\" fill=\"#4c78a8\" fill-opacity=\"1\" stroke=\"#505050\" stroke-width=\"0\"/><path aria-label=\"x1: 3554; x2: 3554.9; level: 20; level2: 20.9; status: Default; sf: _broadcast_getindex at broadcast.jl:655 [inlined]\" role=\"graphics-symbol\" aria-roledescription=\"rect mark\" d=\"M568.64,214.22222222222223h0.14400000000000546v8h-0.14400000000000546Z\" fill=\"#4c78a8\" fill-opacity=\"1\" stroke=\"#505050\" stroke-width=\"0\"/><path aria-label=\"x1: 3554; x2: 3554.9; level: 21; level2: 21.9; status: Default; sf: _getindex at broadcast.jl:679 [inlined]\" role=\"graphics-symbol\" aria-roledescription=\"rect mark\" d=\"M568.64,205.33333333333337h0.14400000000000546v7.999999999999972h-0.14400000000000546Z\" fill=\"#4c78a8\" fill-opacity=\"1\" stroke=\"#505050\" stroke-width=\"0\"/><path aria-label=\"x1: 3554; x2: 3554.9; level: 22; level2: 22.9; status: Default; sf: _broadcast_getindex at broadcast.jl:649 [inlined]\" role=\"graphics-symbol\" aria-roledescription=\"rect mark\" d=\"M568.64,196.44444444444446h0.14400000000000546v7.999999999999972h-0.14400000000000546Z\" fill=\"#4c78a8\" fill-opacity=\"1\" stroke=\"#505050\" stroke-width=\"0\"/><path aria-label=\"x1: 3554; x2: 3554.9; level: 23; level2: 23.9; status: Default; sf: getindex at multidimensional.jl:668 [inlined]\" role=\"graphics-symbol\" aria-roledescription=\"rect mark\" d=\"M568.64,187.55555555555557h0.14400000000000546v8h-0.14400000000000546Z\" fill=\"#4c78a8\" fill-opacity=\"1\" stroke=\"#505050\" stroke-width=\"0\"/><path aria-label=\"x1: 3554; x2: 3554.9; level: 24; level2: 24.9; status: Default; sf: getindex at essentials.jl:14 [inlined]\" role=\"graphics-symbol\" aria-roledescription=\"rect mark\" d=\"M568.64,178.66666666666666h0.14400000000000546v8h-0.14400000000000546Z\" fill=\"#4c78a8\" fill-opacity=\"1\" stroke=\"#505050\" stroke-width=\"0\"/><path aria-label=\"x1: 3555; x2: 3559.9; level: 20; level2: 20.9; status: Default; sf: _broadcast_getindex at broadcast.jl:656 [inlined]\" role=\"graphics-symbol\" aria-roledescription=\"rect mark\" d=\"M568.8,214.22222222222223h0.7840000000001055v8h-0.7840000000001055Z\" fill=\"#4c78a8\" fill-opacity=\"1\" stroke=\"#505050\" stroke-width=\"0\"/><path aria-label=\"x1: 3555; x2: 3559.9; level: 21; level2: 21.9; status: Default; sf: _broadcast_getindex_evalf at broadcast.jl:683 [inlined]\" role=\"graphics-symbol\" aria-roledescription=\"rect mark\" d=\"M568.8,205.33333333333337h0.7840000000001055v7.999999999999972h-0.7840000000001055Z\" fill=\"#4c78a8\" fill-opacity=\"1\" stroke=\"#505050\" stroke-width=\"0\"/><path aria-label=\"x1: 3555; x2: 3559.9; level: 22; level2: 22.9; status: Default; sf: ^ at math.jl:1165 [inlined]\" role=\"graphics-symbol\" aria-roledescription=\"rect mark\" d=\"M568.8,196.44444444444446h0.7840000000001055v7.999999999999972h-0.7840000000001055Z\" fill=\"#4c78a8\" fill-opacity=\"1\" stroke=\"#505050\" stroke-width=\"0\"/><path aria-label=\"x1: 3555; x2: 3555.9; level: 23; level2: 23.9; status: Default; sf: pow_body(x::Float64, n::Int64) at math.jl:0\" role=\"graphics-symbol\" aria-roledescription=\"rect mark\" d=\"M568.8,187.55555555555557h0.14400000000011914v8h-0.14400000000011914Z\" fill=\"#4c78a8\" fill-opacity=\"1\" stroke=\"#505050\" stroke-width=\"0\"/><path aria-label=\"x1: 3556; x2: 3556.9; level: 23; level2: 23.9; status: Default; sf: pow_body(x::Float64, n::Int64) at math.jl:1172\" role=\"graphics-symbol\" aria-roledescription=\"rect mark\" d=\"M568.96,187.55555555555557h0.14400000000000546v8h-0.14400000000000546Z\" fill=\"#4c78a8\" fill-opacity=\"1\" stroke=\"#505050\" stroke-width=\"0\"/><path aria-label=\"x1: 3556; x2: 3556.9; level: 24; level2: 24.9; status: Default; sf: &lt; at int.jl:83 [inlined]\" role=\"graphics-symbol\" aria-roledescription=\"rect mark\" d=\"M568.96,178.66666666666666h0.14400000000000546v8h-0.14400000000000546Z\" fill=\"#4c78a8\" fill-opacity=\"1\" stroke=\"#505050\" stroke-width=\"0\"/><path aria-label=\"x1: 3557; x2: 3559.9; level: 23; level2: 23.9; status: Default; sf: pow_body(x::Float64, n::Int64) at math.jl:1191\" role=\"graphics-symbol\" aria-roledescription=\"rect mark\" d=\"M569.12,187.55555555555557h0.4640000000000555v8h-0.4640000000000555Z\" fill=\"#4c78a8\" fill-opacity=\"1\" stroke=\"#505050\" stroke-width=\"0\"/><path aria-label=\"x1: 3557; x2: 3557.9; level: 24; level2: 24.9; status: Default; sf: ifelse at essentials.jl:575 [inlined]\" role=\"graphics-symbol\" aria-roledescription=\"rect mark\" d=\"M569.12,178.66666666666666h0.14400000000000546v8h-0.14400000000000546Z\" fill=\"#4c78a8\" fill-opacity=\"1\" stroke=\"#505050\" stroke-width=\"0\"/><path aria-label=\"x1: 3558; x2: 3558.9; level: 24; level2: 24.9; status: Default; sf: isfinite at float.jl:622 [inlined]\" role=\"graphics-symbol\" aria-roledescription=\"rect mark\" d=\"M569.28,178.66666666666666h0.14400000000000546v8h-0.14400000000000546Z\" fill=\"#4c78a8\" fill-opacity=\"1\" stroke=\"#505050\" stroke-width=\"0\"/><path aria-label=\"x1: 3558; x2: 3558.9; level: 25; level2: 25.9; status: Default; sf: - at float.jl:409 [inlined]\" role=\"graphics-symbol\" aria-roledescription=\"rect mark\" d=\"M569.28,169.7777777777778h0.14400000000000546v7.999999999999972h-0.14400000000000546Z\" fill=\"#4c78a8\" fill-opacity=\"1\" stroke=\"#505050\" stroke-width=\"0\"/><path aria-label=\"x1: 3559; x2: 3559.9; level: 24; level2: 24.9; status: Default; sf: muladd at float.jl:413 [inlined]\" role=\"graphics-symbol\" aria-roledescription=\"rect mark\" d=\"M569.4399999999999,178.66666666666666h0.14400000000011914v8h-0.14400000000011914Z\" fill=\"#4c78a8\" fill-opacity=\"1\" stroke=\"#505050\" stroke-width=\"0\"/><path aria-label=\"x1: 3560; x2: 3562.9; level: 13; level2: 13.9; status: Default; sf: normalize(a::Array{Float64, 3}, p::Int64) at generic.jl:1868\" role=\"graphics-symbol\" aria-roledescription=\"rect mark\" d=\"M569.6,276.44444444444446h0.4639999999999418v8h-0.4639999999999418Z\" fill=\"#4c78a8\" fill-opacity=\"1\" stroke=\"#505050\" stroke-width=\"0\"/><path aria-label=\"x1: 3560; x2: 3562.9; level: 14; level2: 14.9; status: Default; sf: copymutable_oftype at LinearAlgebra.jl:402 [inlined]\" role=\"graphics-symbol\" aria-roledescription=\"rect mark\" d=\"M569.6,267.55555555555554h0.4639999999999418v8h-0.4639999999999418Z\" fill=\"#4c78a8\" fill-opacity=\"1\" stroke=\"#505050\" stroke-width=\"0\"/><path aria-label=\"x1: 3560; x2: 3562.9; level: 15; level2: 15.9; status: Default; sf: copyto! at array.jl:342 [inlined]\" role=\"graphics-symbol\" aria-roledescription=\"rect mark\" d=\"M569.6,258.6666666666667h0.4639999999999418v8h-0.4639999999999418Z\" fill=\"#4c78a8\" fill-opacity=\"1\" stroke=\"#505050\" stroke-width=\"0\"/><path aria-label=\"x1: 3560; x2: 3562.9; level: 16; level2: 16.9; status: Default; sf: copyto! at array.jl:319 [inlined]\" role=\"graphics-symbol\" aria-roledescription=\"rect mark\" d=\"M569.6,249.7777777777778h0.4639999999999418v7.999999999999972h-0.4639999999999418Z\" fill=\"#4c78a8\" fill-opacity=\"1\" stroke=\"#505050\" stroke-width=\"0\"/><path aria-label=\"x1: 3560; x2: 3562.9; level: 17; level2: 17.9; status: Default; sf: _copyto_impl!(dest::Array{Float64, 3}, doffs::Int64, src::Array{Float64, 3}, soffs::Int64, n::Int64) at array.jl:327\" role=\"graphics-symbol\" aria-roledescription=\"rect mark\" d=\"M569.6,240.88888888888889h0.4639999999999418v8h-0.4639999999999418Z\" fill=\"#4c78a8\" fill-opacity=\"1\" stroke=\"#505050\" stroke-width=\"0\"/><path aria-label=\"x1: 3560; x2: 3562.9; level: 18; level2: 18.9; status: Default; sf: unsafe_copyto! at array.jl:286 [inlined]\" role=\"graphics-symbol\" aria-roledescription=\"rect mark\" d=\"M569.6,232.00000000000003h0.4639999999999418v7.999999999999972h-0.4639999999999418Z\" fill=\"#4c78a8\" fill-opacity=\"1\" stroke=\"#505050\" stroke-width=\"0\"/><path aria-label=\"x1: 3563; x2: 3563.9; level: 13; level2: 13.9; status: Default; sf: normalize(a::Array{Float64, 3}, p::Int64) at generic.jl:1869\" role=\"graphics-symbol\" aria-roledescription=\"rect mark\" d=\"M570.08,276.44444444444446h0.14399999999989177v8h-0.14399999999989177Z\" fill=\"#4c78a8\" fill-opacity=\"1\" stroke=\"#505050\" stroke-width=\"0\"/><path aria-label=\"x1: 3563; x2: 3563.9; level: 14; level2: 14.9; status: Default; sf: __normalize! at generic.jl:1801 [inlined]\" role=\"graphics-symbol\" aria-roledescription=\"rect mark\" d=\"M570.08,267.55555555555554h0.14399999999989177v8h-0.14399999999989177Z\" fill=\"#4c78a8\" fill-opacity=\"1\" stroke=\"#505050\" stroke-width=\"0\"/><path aria-label=\"x1: 3563; x2: 3563.9; level: 15; level2: 15.9; status: Default; sf: rmul! at generic.jl:182 [inlined]\" role=\"graphics-symbol\" aria-roledescription=\"rect mark\" d=\"M570.08,258.6666666666667h0.14399999999989177v8h-0.14399999999989177Z\" fill=\"#4c78a8\" fill-opacity=\"1\" stroke=\"#505050\" stroke-width=\"0\"/><path aria-label=\"x1: 3563; x2: 3563.9; level: 16; level2: 16.9; status: Default; sf: macro expansion at simdloop.jl:77 [inlined]\" role=\"graphics-symbol\" aria-roledescription=\"rect mark\" d=\"M570.08,249.7777777777778h0.14399999999989177v7.999999999999972h-0.14399999999989177Z\" fill=\"#4c78a8\" fill-opacity=\"1\" stroke=\"#505050\" stroke-width=\"0\"/><path aria-label=\"x1: 3563; x2: 3563.9; level: 17; level2: 17.9; status: Default; sf: macro expansion at generic.jl:183 [inlined]\" role=\"graphics-symbol\" aria-roledescription=\"rect mark\" d=\"M570.08,240.88888888888889h0.14399999999989177v8h-0.14399999999989177Z\" fill=\"#4c78a8\" fill-opacity=\"1\" stroke=\"#505050\" stroke-width=\"0\"/><path aria-label=\"x1: 3563; x2: 3563.9; level: 18; level2: 18.9; status: Default; sf: * at float.jl:410 [inlined]\" role=\"graphics-symbol\" aria-roledescription=\"rect mark\" d=\"M570.08,232.00000000000003h0.14399999999989177v7.999999999999972h-0.14399999999989177Z\" fill=\"#4c78a8\" fill-opacity=\"1\" stroke=\"#505050\" stroke-width=\"0\"/><path aria-label=\"x1: 3564; x2: 3566.9; level: 12; level2: 12.9; status: Runtime dispatch; sf: sample_next_point(y::Array{Float64, 3}, F̂::Array{Tuple{Vector{Float64}, Vector{Float64}}, 3}, P::Array{Float64, 3}, models::Vector{OperationalParameters}; n::Int64, r::Int64, acq::Function, return_weight::Bool, match_original::Bool) at surrogate_model.jl:218\" role=\"graphics-symbol\" aria-roledescription=\"rect mark\" d=\"M570.24,285.33333333333337h0.4640000000000555v8h-0.4640000000000555Z\" fill=\"#e45756\" fill-opacity=\"1\" stroke=\"#505050\" stroke-width=\"0\"/><path aria-label=\"x1: 3564; x2: 3566.9; level: 13; level2: 13.9; status: Default; sf: materialize(bc::Base.Broadcast.Broadcasted{Base.Broadcast.DefaultArrayStyle{3}, Nothing, typeof(isnan), Tuple{Array{Float64, 3}}}) at broadcast.jl:873\" role=\"graphics-symbol\" aria-roledescription=\"rect mark\" d=\"M570.24,276.44444444444446h0.4640000000000555v8h-0.4640000000000555Z\" fill=\"#4c78a8\" fill-opacity=\"1\" stroke=\"#505050\" stroke-width=\"0\"/><path aria-label=\"x1: 3564; x2: 3566.9; level: 14; level2: 14.9; status: Default; sf: copy at broadcast.jl:898 [inlined]\" role=\"graphics-symbol\" aria-roledescription=\"rect mark\" d=\"M570.24,267.55555555555554h0.4640000000000555v8h-0.4640000000000555Z\" fill=\"#4c78a8\" fill-opacity=\"1\" stroke=\"#505050\" stroke-width=\"0\"/><path aria-label=\"x1: 3564; x2: 3566.9; level: 15; level2: 15.9; status: Default; sf: copyto! at broadcast.jl:926 [inlined]\" role=\"graphics-symbol\" aria-roledescription=\"rect mark\" d=\"M570.24,258.6666666666667h0.4640000000000555v8h-0.4640000000000555Z\" fill=\"#4c78a8\" fill-opacity=\"1\" stroke=\"#505050\" stroke-width=\"0\"/><path aria-label=\"x1: 3564; x2: 3566.9; level: 16; level2: 16.9; status: Default; sf: copyto! at broadcast.jl:991 [inlined]\" role=\"graphics-symbol\" aria-roledescription=\"rect mark\" d=\"M570.24,249.7777777777778h0.4640000000000555v7.999999999999972h-0.4640000000000555Z\" fill=\"#4c78a8\" fill-opacity=\"1\" stroke=\"#505050\" stroke-width=\"0\"/><path aria-label=\"x1: 3564; x2: 3566.9; level: 17; level2: 17.9; status: Default; sf: macro expansion at simdloop.jl:77 [inlined]\" role=\"graphics-symbol\" aria-roledescription=\"rect mark\" d=\"M570.24,240.88888888888889h0.4640000000000555v8h-0.4640000000000555Z\" fill=\"#4c78a8\" fill-opacity=\"1\" stroke=\"#505050\" stroke-width=\"0\"/><path aria-label=\"x1: 3564; x2: 3566.9; level: 18; level2: 18.9; status: Default; sf: macro expansion at broadcast.jl:992 [inlined]\" role=\"graphics-symbol\" aria-roledescription=\"rect mark\" d=\"M570.24,232.00000000000003h0.4640000000000555v7.999999999999972h-0.4640000000000555Z\" fill=\"#4c78a8\" fill-opacity=\"1\" stroke=\"#505050\" stroke-width=\"0\"/><path aria-label=\"x1: 3564; x2: 3566.9; level: 19; level2: 19.9; status: Default; sf: setindex! at array.jl:969 [inlined]\" role=\"graphics-symbol\" aria-roledescription=\"rect mark\" d=\"M570.24,223.11111111111111h0.4640000000000555v7.999999999999972h-0.4640000000000555Z\" fill=\"#4c78a8\" fill-opacity=\"1\" stroke=\"#505050\" stroke-width=\"0\"/><path aria-label=\"x1: 3567; x2: 3567.9; level: 12; level2: 12.9; status: Runtime dispatch; sf: sample_next_point(y::Array{Float64, 3}, F̂::Array{Tuple{Vector{Float64}, Vector{Float64}}, 3}, P::Array{Float64, 3}, models::Vector{OperationalParameters}; n::Int64, r::Int64, acq::Function, return_weight::Bool, match_original::Bool) at surrogate_model.jl:219\" role=\"graphics-symbol\" aria-roledescription=\"rect mark\" d=\"M570.72,285.33333333333337h0.14400000000000546v8h-0.14400000000000546Z\" fill=\"#e45756\" fill-opacity=\"1\" stroke=\"#505050\" stroke-width=\"0\"/><path aria-label=\"x1: 3567; x2: 3567.9; level: 13; level2: 13.9; status: Default; sf: ones(dims::Tuple{Int64, Int64, Int64}) at array.jl:581\" role=\"graphics-symbol\" aria-roledescription=\"rect mark\" d=\"M570.72,276.44444444444446h0.14400000000000546v8h-0.14400000000000546Z\" fill=\"#4c78a8\" fill-opacity=\"1\" stroke=\"#505050\" stroke-width=\"0\"/><path aria-label=\"x1: 3567; x2: 3567.9; level: 14; level2: 14.9; status: Default; sf: ones at array.jl:585 [inlined]\" role=\"graphics-symbol\" aria-roledescription=\"rect mark\" d=\"M570.72,267.55555555555554h0.14400000000000546v8h-0.14400000000000546Z\" fill=\"#4c78a8\" fill-opacity=\"1\" stroke=\"#505050\" stroke-width=\"0\"/><path aria-label=\"x1: 3567; x2: 3567.9; level: 15; level2: 15.9; status: Default; sf: fill! at array.jl:349 [inlined]\" role=\"graphics-symbol\" aria-roledescription=\"rect mark\" d=\"M570.72,258.6666666666667h0.14400000000000546v8h-0.14400000000000546Z\" fill=\"#4c78a8\" fill-opacity=\"1\" stroke=\"#505050\" stroke-width=\"0\"/><path aria-label=\"x1: 3567; x2: 3567.9; level: 16; level2: 16.9; status: Default; sf: setindex! at array.jl:969 [inlined]\" role=\"graphics-symbol\" aria-roledescription=\"rect mark\" d=\"M570.72,249.7777777777778h0.14400000000000546v7.999999999999972h-0.14400000000000546Z\" fill=\"#4c78a8\" fill-opacity=\"1\" stroke=\"#505050\" stroke-width=\"0\"/><path aria-label=\"x1: 3568; x2: 3671.9; level: 12; level2: 12.9; status: Runtime dispatch; sf: sample_next_point(y::Array{Float64, 3}, F̂::Array{Tuple{Vector{Float64}, Vector{Float64}}, 3}, P::Array{Float64, 3}, models::Vector{OperationalParameters}; n::Int64, r::Int64, acq::Function, return_weight::Bool, match_original::Bool) at surrogate_model.jl:221\" role=\"graphics-symbol\" aria-roledescription=\"rect mark\" d=\"M570.88,285.33333333333337h16.624000000000024v8h-16.624000000000024Z\" fill=\"#e45756\" fill-opacity=\"1\" stroke=\"#505050\" stroke-width=\"0\"/><path aria-label=\"x1: 3606; x2: 3671.9; level: 13; level2: 13.9; status: Default; sf: vect(::Vector{Float64}, ::Vararg{Vector{Float64}}) at array.jl:126\" role=\"graphics-symbol\" aria-roledescription=\"rect mark\" d=\"M576.9599999999999,276.44444444444446h10.544000000000096v8h-10.544000000000096Z\" fill=\"#4c78a8\" fill-opacity=\"1\" stroke=\"#505050\" stroke-width=\"0\"/><path aria-label=\"x1: 3606; x2: 3668.9; level: 14; level2: 14.9; status: Default; sf: _array_for at array.jl:674 [inlined]\" role=\"graphics-symbol\" aria-roledescription=\"rect mark\" d=\"M576.9599999999999,267.55555555555554h10.064000000000078v8h-10.064000000000078Z\" fill=\"#4c78a8\" fill-opacity=\"1\" stroke=\"#505050\" stroke-width=\"0\"/><path aria-label=\"x1: 3606; x2: 3668.9; level: 15; level2: 15.9; status: Default; sf: _array_for at array.jl:671 [inlined]\" role=\"graphics-symbol\" aria-roledescription=\"rect mark\" d=\"M576.9599999999999,258.6666666666667h10.064000000000078v8h-10.064000000000078Z\" fill=\"#4c78a8\" fill-opacity=\"1\" stroke=\"#505050\" stroke-width=\"0\"/><path aria-label=\"x1: 3606; x2: 3668.9; level: 16; level2: 16.9; status: Default; sf: similar at abstractarray.jl:881 [inlined]\" role=\"graphics-symbol\" aria-roledescription=\"rect mark\" d=\"M576.9599999999999,249.7777777777778h10.064000000000078v7.999999999999972h-10.064000000000078Z\" fill=\"#4c78a8\" fill-opacity=\"1\" stroke=\"#505050\" stroke-width=\"0\"/><path aria-label=\"x1: 3606; x2: 3668.9; level: 17; level2: 17.9; status: Default; sf: similar at abstractarray.jl:882 [inlined]\" role=\"graphics-symbol\" aria-roledescription=\"rect mark\" d=\"M576.9599999999999,240.88888888888889h10.064000000000078v8h-10.064000000000078Z\" fill=\"#4c78a8\" fill-opacity=\"1\" stroke=\"#505050\" stroke-width=\"0\"/><path aria-label=\"x1: 3606; x2: 3668.9; level: 18; level2: 18.9; status: Default; sf: Array at boot.jl:486 [inlined]\" role=\"graphics-symbol\" aria-roledescription=\"rect mark\" d=\"M576.9599999999999,232.00000000000003h10.064000000000078v7.999999999999972h-10.064000000000078Z\" fill=\"#4c78a8\" fill-opacity=\"1\" stroke=\"#505050\" stroke-width=\"0\"/><path aria-label=\"x1: 3606; x2: 3668.9; level: 19; level2: 19.9; status: Default; sf: Array at boot.jl:477 [inlined]\" role=\"graphics-symbol\" aria-roledescription=\"rect mark\" d=\"M576.9599999999999,223.11111111111111h10.064000000000078v7.999999999999972h-10.064000000000078Z\" fill=\"#4c78a8\" fill-opacity=\"1\" stroke=\"#505050\" stroke-width=\"0\"/><path aria-label=\"x1: 3669; x2: 3671.9; level: 14; level2: 14.9; status: Default; sf: setindex! at array.jl:969 [inlined]\" role=\"graphics-symbol\" aria-roledescription=\"rect mark\" d=\"M587.04,267.55555555555554h0.4640000000000555v8h-0.4640000000000555Z\" fill=\"#4c78a8\" fill-opacity=\"1\" stroke=\"#505050\" stroke-width=\"0\"/><path aria-label=\"x1: 3672; x2: 3786.9; level: 12; level2: 12.9; status: Garbage collection; sf: sample_next_point(y::Array{Float64, 3}, F̂::Array{Tuple{Vector{Float64}, Vector{Float64}}, 3}, P::Array{Float64, 3}, models::Vector{OperationalParameters}; n::Int64, r::Int64, acq::Function, return_weight::Bool, match_original::Bool) at surrogate_model.jl:222\" role=\"graphics-symbol\" aria-roledescription=\"rect mark\" d=\"M587.5200000000001,285.33333333333337h18.3839999999999v8h-18.3839999999999Z\" fill=\"#f58518\" fill-opacity=\"1\" stroke=\"#505050\" stroke-width=\"0\"/><path aria-label=\"x1: 3782; x2: 3786.9; level: 13; level2: 13.9; status: Default; sf: vect(::Float64, ::Vararg{Float64}) at array.jl:126\" role=\"graphics-symbol\" aria-roledescription=\"rect mark\" d=\"M605.12,276.44444444444446h0.7839999999999918v8h-0.7839999999999918Z\" fill=\"#4c78a8\" fill-opacity=\"1\" stroke=\"#505050\" stroke-width=\"0\"/><path aria-label=\"x1: 3782; x2: 3785.9; level: 14; level2: 14.9; status: Default; sf: setindex! at array.jl:969 [inlined]\" role=\"graphics-symbol\" aria-roledescription=\"rect mark\" d=\"M605.12,267.55555555555554h0.62399999999991v8h-0.62399999999991Z\" fill=\"#4c78a8\" fill-opacity=\"1\" stroke=\"#505050\" stroke-width=\"0\"/><path aria-label=\"x1: 3786; x2: 3786.9; level: 14; level2: 14.9; status: Default; sf: getindex at tuple.jl:29 [inlined]\" role=\"graphics-symbol\" aria-roledescription=\"rect mark\" d=\"M605.76,267.55555555555554h0.14400000000000546v8h-0.14400000000000546Z\" fill=\"#4c78a8\" fill-opacity=\"1\" stroke=\"#505050\" stroke-width=\"0\"/><path aria-label=\"x1: 3787; x2: 3788.9; level: 12; level2: 12.9; status: Runtime dispatch; sf: sample_next_point(y::Array{Float64, 3}, F̂::Array{Tuple{Vector{Float64}, Vector{Float64}}, 3}, P::Array{Float64, 3}, models::Vector{OperationalParameters}; n::Int64, r::Int64, acq::Function, return_weight::Bool, match_original::Bool) at surrogate_model.jl:224\" role=\"graphics-symbol\" aria-roledescription=\"rect mark\" d=\"M605.92,285.33333333333337h0.3040000000000873v8h-0.3040000000000873Z\" fill=\"#e45756\" fill-opacity=\"1\" stroke=\"#505050\" stroke-width=\"0\"/><path aria-label=\"x1: 3787; x2: 3788.9; level: 13; level2: 13.9; status: Default; sf: StatsBase.Weights(values::Vector{Float64}) at weights.jl:16\" role=\"graphics-symbol\" aria-roledescription=\"rect mark\" d=\"M605.92,276.44444444444446h0.3040000000000873v8h-0.3040000000000873Z\" fill=\"#4c78a8\" fill-opacity=\"1\" stroke=\"#505050\" stroke-width=\"0\"/><path aria-label=\"x1: 3787; x2: 3788.9; level: 14; level2: 14.9; status: Default; sf: sum at reducedim.jl:994 [inlined]\" role=\"graphics-symbol\" aria-roledescription=\"rect mark\" d=\"M605.92,267.55555555555554h0.3040000000000873v8h-0.3040000000000873Z\" fill=\"#4c78a8\" fill-opacity=\"1\" stroke=\"#505050\" stroke-width=\"0\"/><path aria-label=\"x1: 3787; x2: 3788.9; level: 15; level2: 15.9; status: Default; sf: #sum#807 at reducedim.jl:994 [inlined]\" role=\"graphics-symbol\" aria-roledescription=\"rect mark\" d=\"M605.92,258.6666666666667h0.3040000000000873v8h-0.3040000000000873Z\" fill=\"#4c78a8\" fill-opacity=\"1\" stroke=\"#505050\" stroke-width=\"0\"/><path aria-label=\"x1: 3787; x2: 3788.9; level: 16; level2: 16.9; status: Default; sf: _sum at reducedim.jl:998 [inlined]\" role=\"graphics-symbol\" aria-roledescription=\"rect mark\" d=\"M605.92,249.7777777777778h0.3040000000000873v7.999999999999972h-0.3040000000000873Z\" fill=\"#4c78a8\" fill-opacity=\"1\" stroke=\"#505050\" stroke-width=\"0\"/><path aria-label=\"x1: 3787; x2: 3788.9; level: 17; level2: 17.9; status: Default; sf: #_sum#809 at reducedim.jl:998 [inlined]\" role=\"graphics-symbol\" aria-roledescription=\"rect mark\" d=\"M605.92,240.88888888888889h0.3040000000000873v8h-0.3040000000000873Z\" fill=\"#4c78a8\" fill-opacity=\"1\" stroke=\"#505050\" stroke-width=\"0\"/><path aria-label=\"x1: 3787; x2: 3788.9; level: 18; level2: 18.9; status: Default; sf: _sum at reducedim.jl:999 [inlined]\" role=\"graphics-symbol\" aria-roledescription=\"rect mark\" d=\"M605.92,232.00000000000003h0.3040000000000873v7.999999999999972h-0.3040000000000873Z\" fill=\"#4c78a8\" fill-opacity=\"1\" stroke=\"#505050\" stroke-width=\"0\"/><path aria-label=\"x1: 3787; x2: 3788.9; level: 19; level2: 19.9; status: Default; sf: #_sum#810 at reducedim.jl:999 [inlined]\" role=\"graphics-symbol\" aria-roledescription=\"rect mark\" d=\"M605.92,223.11111111111111h0.3040000000000873v7.999999999999972h-0.3040000000000873Z\" fill=\"#4c78a8\" fill-opacity=\"1\" stroke=\"#505050\" stroke-width=\"0\"/><path aria-label=\"x1: 3787; x2: 3788.9; level: 20; level2: 20.9; status: Default; sf: mapreduce at reducedim.jl:357 [inlined]\" role=\"graphics-symbol\" aria-roledescription=\"rect mark\" d=\"M605.92,214.22222222222223h0.3040000000000873v8h-0.3040000000000873Z\" fill=\"#4c78a8\" fill-opacity=\"1\" stroke=\"#505050\" stroke-width=\"0\"/><path aria-label=\"x1: 3787; x2: 3788.9; level: 21; level2: 21.9; status: Default; sf: #mapreduce#800 at reducedim.jl:357 [inlined]\" role=\"graphics-symbol\" aria-roledescription=\"rect mark\" d=\"M605.92,205.33333333333337h0.3040000000000873v7.999999999999972h-0.3040000000000873Z\" fill=\"#4c78a8\" fill-opacity=\"1\" stroke=\"#505050\" stroke-width=\"0\"/><path aria-label=\"x1: 3787; x2: 3788.9; level: 22; level2: 22.9; status: Default; sf: _mapreduce_dim at reducedim.jl:365 [inlined]\" role=\"graphics-symbol\" aria-roledescription=\"rect mark\" d=\"M605.92,196.44444444444446h0.3040000000000873v7.999999999999972h-0.3040000000000873Z\" fill=\"#4c78a8\" fill-opacity=\"1\" stroke=\"#505050\" stroke-width=\"0\"/><path aria-label=\"x1: 3787; x2: 3788.9; level: 23; level2: 23.9; status: Default; sf: _mapreduce at reduce.jl:442 [inlined]\" role=\"graphics-symbol\" aria-roledescription=\"rect mark\" d=\"M605.92,187.55555555555557h0.3040000000000873v8h-0.3040000000000873Z\" fill=\"#4c78a8\" fill-opacity=\"1\" stroke=\"#505050\" stroke-width=\"0\"/><path aria-label=\"x1: 3787; x2: 3788.9; level: 24; level2: 24.9; status: Default; sf: mapreduce_impl at reduce.jl:272 [inlined]\" role=\"graphics-symbol\" aria-roledescription=\"rect mark\" d=\"M605.92,178.66666666666666h0.3040000000000873v8h-0.3040000000000873Z\" fill=\"#4c78a8\" fill-opacity=\"1\" stroke=\"#505050\" stroke-width=\"0\"/><path aria-label=\"x1: 3787; x2: 3787.9; level: 25; level2: 25.9; status: Default; sf: mapreduce_impl(f::typeof(identity), op::typeof(Base.add_sum), A::Vector{Float64}, ifirst::Int64, ilast::Int64, blksize::Int64) at reduce.jl:266\" role=\"graphics-symbol\" aria-roledescription=\"rect mark\" d=\"M605.92,169.7777777777778h0.14400000000011914v7.999999999999972h-0.14400000000011914Z\" fill=\"#4c78a8\" fill-opacity=\"1\" stroke=\"#505050\" stroke-width=\"0\"/><path aria-label=\"x1: 3787; x2: 3787.9; level: 26; level2: 26.9; status: Default; sf: mapreduce_impl(f::typeof(identity), op::typeof(Base.add_sum), A::Vector{Float64}, ifirst::Int64, ilast::Int64, blksize::Int64) at reduce.jl:266\" role=\"graphics-symbol\" aria-roledescription=\"rect mark\" d=\"M605.92,160.8888888888889h0.14400000000011914v8h-0.14400000000011914Z\" fill=\"#4c78a8\" fill-opacity=\"1\" stroke=\"#505050\" stroke-width=\"0\"/><path aria-label=\"x1: 3787; x2: 3787.9; level: 27; level2: 27.9; status: Default; sf: mapreduce_impl(f::typeof(identity), op::typeof(Base.add_sum), A::Vector{Float64}, ifirst::Int64, ilast::Int64, blksize::Int64) at reduce.jl:266\" role=\"graphics-symbol\" aria-roledescription=\"rect mark\" d=\"M605.92,152h0.14400000000011914v8h-0.14400000000011914Z\" fill=\"#4c78a8\" fill-opacity=\"1\" stroke=\"#505050\" stroke-width=\"0\"/><path aria-label=\"x1: 3787; x2: 3787.9; level: 28; level2: 28.9; status: Default; sf: mapreduce_impl(f::typeof(identity), op::typeof(Base.add_sum), A::Vector{Float64}, ifirst::Int64, ilast::Int64, blksize::Int64) at reduce.jl:266\" role=\"graphics-symbol\" aria-roledescription=\"rect mark\" d=\"M605.92,143.11111111111114h0.14400000000011914v7.999999999999972h-0.14400000000011914Z\" fill=\"#4c78a8\" fill-opacity=\"1\" stroke=\"#505050\" stroke-width=\"0\"/><path aria-label=\"x1: 3787; x2: 3787.9; level: 29; level2: 29.9; status: Default; sf: mapreduce_impl(f::typeof(identity), op::typeof(Base.add_sum), A::Vector{Float64}, ifirst::Int64, ilast::Int64, blksize::Int64) at reduce.jl:266\" role=\"graphics-symbol\" aria-roledescription=\"rect mark\" d=\"M605.92,134.22222222222223h0.14400000000011914v7.999999999999972h-0.14400000000011914Z\" fill=\"#4c78a8\" fill-opacity=\"1\" stroke=\"#505050\" stroke-width=\"0\"/><path aria-label=\"x1: 3787; x2: 3787.9; level: 30; level2: 30.9; status: Default; sf: mapreduce_impl(f::typeof(identity), op::typeof(Base.add_sum), A::Vector{Float64}, ifirst::Int64, ilast::Int64, blksize::Int64) at reduce.jl:267\" role=\"graphics-symbol\" aria-roledescription=\"rect mark\" d=\"M605.92,125.33333333333334h0.14400000000011914v8h-0.14400000000011914Z\" fill=\"#4c78a8\" fill-opacity=\"1\" stroke=\"#505050\" stroke-width=\"0\"/><path aria-label=\"x1: 3787; x2: 3787.9; level: 31; level2: 31.9; status: Default; sf: mapreduce_impl(f::typeof(identity), op::typeof(Base.add_sum), A::Vector{Float64}, ifirst::Int64, ilast::Int64, blksize::Int64) at reduce.jl:266\" role=\"graphics-symbol\" aria-roledescription=\"rect mark\" d=\"M605.92,116.44444444444444h0.14400000000011914v8h-0.14400000000011914Z\" fill=\"#4c78a8\" fill-opacity=\"1\" stroke=\"#505050\" stroke-width=\"0\"/><path aria-label=\"x1: 3787; x2: 3787.9; level: 32; level2: 32.9; status: Default; sf: mapreduce_impl(f::typeof(identity), op::typeof(Base.add_sum), A::Vector{Float64}, ifirst::Int64, ilast::Int64, blksize::Int64) at reduce.jl:258\" role=\"graphics-symbol\" aria-roledescription=\"rect mark\" d=\"M605.92,107.55555555555559h0.14400000000011914v7.999999999999957h-0.14400000000011914Z\" fill=\"#4c78a8\" fill-opacity=\"1\" stroke=\"#505050\" stroke-width=\"0\"/><path aria-label=\"x1: 3787; x2: 3787.9; level: 33; level2: 33.9; status: Default; sf: macro expansion at simdloop.jl:78 [inlined]\" role=\"graphics-symbol\" aria-roledescription=\"rect mark\" d=\"M605.92,98.66666666666669h0.14400000000011914v8h-0.14400000000011914Z\" fill=\"#4c78a8\" fill-opacity=\"1\" stroke=\"#505050\" stroke-width=\"0\"/><path aria-label=\"x1: 3787; x2: 3787.9; level: 34; level2: 34.9; status: Default; sf: + at int.jl:87 [inlined]\" role=\"graphics-symbol\" aria-roledescription=\"rect mark\" d=\"M605.92,89.77777777777777h0.14400000000011914v8.000000000000014h-0.14400000000011914Z\" fill=\"#4c78a8\" fill-opacity=\"1\" stroke=\"#505050\" stroke-width=\"0\"/><path aria-label=\"x1: 3788; x2: 3788.9; level: 25; level2: 25.9; status: Default; sf: mapreduce_impl(f::typeof(identity), op::typeof(Base.add_sum), A::Vector{Float64}, ifirst::Int64, ilast::Int64, blksize::Int64) at reduce.jl:267\" role=\"graphics-symbol\" aria-roledescription=\"rect mark\" d=\"M606.08,169.7777777777778h0.14400000000000546v7.999999999999972h-0.14400000000000546Z\" fill=\"#4c78a8\" fill-opacity=\"1\" stroke=\"#505050\" stroke-width=\"0\"/><path aria-label=\"x1: 3788; x2: 3788.9; level: 26; level2: 26.9; status: Default; sf: mapreduce_impl(f::typeof(identity), op::typeof(Base.add_sum), A::Vector{Float64}, ifirst::Int64, ilast::Int64, blksize::Int64) at reduce.jl:266\" role=\"graphics-symbol\" aria-roledescription=\"rect mark\" d=\"M606.08,160.8888888888889h0.14400000000000546v8h-0.14400000000000546Z\" fill=\"#4c78a8\" fill-opacity=\"1\" stroke=\"#505050\" stroke-width=\"0\"/><path aria-label=\"x1: 3788; x2: 3788.9; level: 27; level2: 27.9; status: Default; sf: mapreduce_impl(f::typeof(identity), op::typeof(Base.add_sum), A::Vector{Float64}, ifirst::Int64, ilast::Int64, blksize::Int64) at reduce.jl:266\" role=\"graphics-symbol\" aria-roledescription=\"rect mark\" d=\"M606.08,152h0.14400000000000546v8h-0.14400000000000546Z\" fill=\"#4c78a8\" fill-opacity=\"1\" stroke=\"#505050\" stroke-width=\"0\"/><path aria-label=\"x1: 3788; x2: 3788.9; level: 28; level2: 28.9; status: Default; sf: mapreduce_impl(f::typeof(identity), op::typeof(Base.add_sum), A::Vector{Float64}, ifirst::Int64, ilast::Int64, blksize::Int64) at reduce.jl:267\" role=\"graphics-symbol\" aria-roledescription=\"rect mark\" d=\"M606.08,143.11111111111114h0.14400000000000546v7.999999999999972h-0.14400000000000546Z\" fill=\"#4c78a8\" fill-opacity=\"1\" stroke=\"#505050\" stroke-width=\"0\"/><path aria-label=\"x1: 3788; x2: 3788.9; level: 29; level2: 29.9; status: Default; sf: mapreduce_impl(f::typeof(identity), op::typeof(Base.add_sum), A::Vector{Float64}, ifirst::Int64, ilast::Int64, blksize::Int64) at reduce.jl:267\" role=\"graphics-symbol\" aria-roledescription=\"rect mark\" d=\"M606.08,134.22222222222223h0.14400000000000546v7.999999999999972h-0.14400000000000546Z\" fill=\"#4c78a8\" fill-opacity=\"1\" stroke=\"#505050\" stroke-width=\"0\"/><path aria-label=\"x1: 3788; x2: 3788.9; level: 30; level2: 30.9; status: Default; sf: mapreduce_impl(f::typeof(identity), op::typeof(Base.add_sum), A::Vector{Float64}, ifirst::Int64, ilast::Int64, blksize::Int64) at reduce.jl:267\" role=\"graphics-symbol\" aria-roledescription=\"rect mark\" d=\"M606.08,125.33333333333334h0.14400000000000546v8h-0.14400000000000546Z\" fill=\"#4c78a8\" fill-opacity=\"1\" stroke=\"#505050\" stroke-width=\"0\"/><path aria-label=\"x1: 3788; x2: 3788.9; level: 31; level2: 31.9; status: Default; sf: mapreduce_impl(f::typeof(identity), op::typeof(Base.add_sum), A::Vector{Float64}, ifirst::Int64, ilast::Int64, blksize::Int64) at reduce.jl:266\" role=\"graphics-symbol\" aria-roledescription=\"rect mark\" d=\"M606.08,116.44444444444444h0.14400000000000546v8h-0.14400000000000546Z\" fill=\"#4c78a8\" fill-opacity=\"1\" stroke=\"#505050\" stroke-width=\"0\"/><path aria-label=\"x1: 3788; x2: 3788.9; level: 32; level2: 32.9; status: Default; sf: mapreduce_impl(f::typeof(identity), op::typeof(Base.add_sum), A::Vector{Float64}, ifirst::Int64, ilast::Int64, blksize::Int64) at reduce.jl:258\" role=\"graphics-symbol\" aria-roledescription=\"rect mark\" d=\"M606.08,107.55555555555559h0.14400000000000546v7.999999999999957h-0.14400000000000546Z\" fill=\"#4c78a8\" fill-opacity=\"1\" stroke=\"#505050\" stroke-width=\"0\"/><path aria-label=\"x1: 3788; x2: 3788.9; level: 33; level2: 33.9; status: Default; sf: macro expansion at simdloop.jl:77 [inlined]\" role=\"graphics-symbol\" aria-roledescription=\"rect mark\" d=\"M606.08,98.66666666666669h0.14400000000000546v8h-0.14400000000000546Z\" fill=\"#4c78a8\" fill-opacity=\"1\" stroke=\"#505050\" stroke-width=\"0\"/><path aria-label=\"x1: 3788; x2: 3788.9; level: 34; level2: 34.9; status: Default; sf: macro expansion at reduce.jl:260 [inlined]\" role=\"graphics-symbol\" aria-roledescription=\"rect mark\" d=\"M606.08,89.77777777777777h0.14400000000000546v8.000000000000014h-0.14400000000000546Z\" fill=\"#4c78a8\" fill-opacity=\"1\" stroke=\"#505050\" stroke-width=\"0\"/><path aria-label=\"x1: 3788; x2: 3788.9; level: 35; level2: 35.9; status: Default; sf: add_sum at reduce.jl:27 [inlined]\" role=\"graphics-symbol\" aria-roledescription=\"rect mark\" d=\"M606.08,80.88888888888891h0.14400000000000546v7.999999999999972h-0.14400000000000546Z\" fill=\"#4c78a8\" fill-opacity=\"1\" stroke=\"#505050\" stroke-width=\"0\"/><path aria-label=\"x1: 3788; x2: 3788.9; level: 36; level2: 36.9; status: Default; sf: + at float.jl:408 [inlined]\" role=\"graphics-symbol\" aria-roledescription=\"rect mark\" d=\"M606.08,72.00000000000001h0.14400000000000546v7.999999999999972h-0.14400000000000546Z\" fill=\"#4c78a8\" fill-opacity=\"1\" stroke=\"#505050\" stroke-width=\"0\"/><path aria-label=\"x1: 3789; x2: 3960.9; level: 10; level2: 10.9; status: Runtime dispatch; sf: bayesian_safety_validation(sparams::DummyParameters, models::Vector{OperationalParameters}; gp::Nothing, T::Int64, λ::Float64, seed::Int64, initialize_system::Bool, reset_system::Bool, show_acquisition_plots::Bool, show_plots::Bool, show_combined_plot::Bool, show_tight_combined_plot::Bool, hide_model_after_first::Bool, only_plot_last::Bool, latex_labels::Bool, show_alert::Bool, acquisitions_to_run::Vector{Int64}, probability_valued_system::Bool, skip_if_no_failures::Bool, save_plots::Bool, save_plots_svg::Bool, plots_dir::String, samples_per_batch::Int64, single_failure_mode::Bool, refit_every_point::Bool, input_discretization_steps::Int64, p_estimate_discretization_steps::Int64, match_original::Bool, kwargs::Base.Pairs{Symbol, Union{}, Tuple{}, NamedTuple{(), Tuple{}}}) at bayesian_safety_validation.jl:125\" role=\"graphics-symbol\" aria-roledescription=\"rect mark\" d=\"M606.24,303.1111111111111h27.50400000000002v8.000000000000057h-27.50400000000002Z\" fill=\"#e45756\" fill-opacity=\"1\" stroke=\"#505050\" stroke-width=\"0\"/><path aria-label=\"x1: 3789; x2: 3960.9; level: 11; level2: 11.9; status: Default; sf: kwcall(::NamedTuple{(:acq, :match_original), Tuple{typeof(uncertainty_acquisition), Bool}}, ::typeof(get_next_point), y::Array{Float64, 3}, F̂::Array{Tuple{Vector{Float64}, Vector{Float64}}, 3}, P::Array{Float64, 3}, models::Vector{OperationalParameters}) at surrogate_model.jl:185\" role=\"graphics-symbol\" aria-roledescription=\"rect mark\" d=\"M606.24,294.22222222222223h27.50400000000002v8h-27.50400000000002Z\" fill=\"#4c78a8\" fill-opacity=\"1\" stroke=\"#505050\" stroke-width=\"0\"/><path aria-label=\"x1: 3789; x2: 3943.9; level: 12; level2: 12.9; status: Default; sf: get_next_point(y::Array{Float64, 3}, F̂::Array{Tuple{Vector{Float64}, Vector{Float64}}, 3}, P::Array{Float64, 3}, models::Vector{OperationalParameters}; acq::Function, match_original::Bool) at surrogate_model.jl:187\" role=\"graphics-symbol\" aria-roledescription=\"rect mark\" d=\"M606.24,285.33333333333337h24.783999999999992v8h-24.783999999999992Z\" fill=\"#4c78a8\" fill-opacity=\"1\" stroke=\"#505050\" stroke-width=\"0\"/><path aria-label=\"x1: 3789; x2: 3943.9; level: 13; level2: 13.9; status: Runtime dispatch; sf: map(::Function, ::Array{Tuple{Vector{Float64}, Vector{Float64}}, 3}, ::Array{Float64, 3}) at abstractarray.jl:3383\" role=\"graphics-symbol\" aria-roledescription=\"rect mark\" d=\"M606.24,276.44444444444446h24.783999999999992v8h-24.783999999999992Z\" fill=\"#e45756\" fill-opacity=\"1\" stroke=\"#505050\" stroke-width=\"0\"/><path aria-label=\"x1: 3789; x2: 3943.9; level: 14; level2: 14.9; status: Default; sf: collect(itr::Base.Generator{Base.Iterators.Zip{Tuple{Array{Tuple{Vector{Float64}, Vector{Float64}}, 3}, Array{Float64, 3}}}, Base.var&quot;#4#5&quot;{typeof(uncertainty_acquisition)}}) at array.jl:792\" role=\"graphics-symbol\" aria-roledescription=\"rect mark\" d=\"M606.24,267.55555555555554h24.783999999999992v8h-24.783999999999992Z\" fill=\"#4c78a8\" fill-opacity=\"1\" stroke=\"#505050\" stroke-width=\"0\"/><path aria-label=\"x1: 3789; x2: 3943.9; level: 15; level2: 15.9; status: Default; sf: collect_to_with_first! at array.jl:818 [inlined]\" role=\"graphics-symbol\" aria-roledescription=\"rect mark\" d=\"M606.24,258.6666666666667h24.783999999999992v8h-24.783999999999992Z\" fill=\"#4c78a8\" fill-opacity=\"1\" stroke=\"#505050\" stroke-width=\"0\"/><path aria-label=\"x1: 3789; x2: 3943.9; level: 16; level2: 16.9; status: Default; sf: collect_to!(dest::Array{Float64, 3}, itr::Base.Generator{Base.Iterators.Zip{Tuple{Array{Tuple{Vector{Float64}, Vector{Float64}}, 3}, Array{Float64, 3}}}, Base.var&quot;#4#5&quot;{BayesianSafetyValidation.var&quot;#397#401&quot;{Float64, Int64}}}, offs::Int64, st::Tuple{Int64, Int64}) at array.jl:840\" role=\"graphics-symbol\" aria-roledescription=\"rect mark\" d=\"M606.24,249.7777777777778h24.783999999999992v7.999999999999972h-24.783999999999992Z\" fill=\"#4c78a8\" fill-opacity=\"1\" stroke=\"#505050\" stroke-width=\"0\"/><path aria-label=\"x1: 3789; x2: 3790.9; level: 17; level2: 17.9; status: Default; sf: iterate at generator.jl:0 [inlined]\" role=\"graphics-symbol\" aria-roledescription=\"rect mark\" d=\"M606.24,240.88888888888889h0.3039999999999736v8h-0.3039999999999736Z\" fill=\"#4c78a8\" fill-opacity=\"1\" stroke=\"#505050\" stroke-width=\"0\"/><path aria-label=\"x1: 3791; x2: 3942.9; level: 17; level2: 17.9; status: Default; sf: iterate at generator.jl:47 [inlined]\" role=\"graphics-symbol\" aria-roledescription=\"rect mark\" d=\"M606.56,240.88888888888889h24.304000000000087v8h-24.304000000000087Z\" fill=\"#4c78a8\" fill-opacity=\"1\" stroke=\"#505050\" stroke-width=\"0\"/><path aria-label=\"x1: 3791; x2: 3942.9; level: 18; level2: 18.9; status: Default; sf: #4 at generator.jl:36 [inlined]\" role=\"graphics-symbol\" aria-roledescription=\"rect mark\" d=\"M606.56,232.00000000000003h24.304000000000087v7.999999999999972h-24.304000000000087Z\" fill=\"#4c78a8\" fill-opacity=\"1\" stroke=\"#505050\" stroke-width=\"0\"/><path aria-label=\"x1: 3791; x2: 3907.9; level: 19; level2: 19.9; status: Default; sf: #397 at bayesian_safety_validation.jl:106 [inlined]\" role=\"graphics-symbol\" aria-roledescription=\"rect mark\" d=\"M606.56,223.11111111111111h18.704000000000065v7.999999999999972h-18.704000000000065Z\" fill=\"#4c78a8\" fill-opacity=\"1\" stroke=\"#505050\" stroke-width=\"0\"/><path aria-label=\"x1: 3791; x2: 3907.9; level: 20; level2: 20.9; status: Default; sf: boundary_acquisition at surrogate_model.jl:130 [inlined]\" role=\"graphics-symbol\" aria-roledescription=\"rect mark\" d=\"M606.56,214.22222222222223h18.704000000000065v8h-18.704000000000065Z\" fill=\"#4c78a8\" fill-opacity=\"1\" stroke=\"#505050\" stroke-width=\"0\"/><path aria-label=\"x1: 3791; x2: 3838.9; level: 21; level2: 21.9; status: Default; sf: #boundary_acquisition#48 at surrogate_model.jl:131 [inlined]\" role=\"graphics-symbol\" aria-roledescription=\"rect mark\" d=\"M606.56,205.33333333333337h7.664000000000101v7.999999999999972h-7.664000000000101Z\" fill=\"#4c78a8\" fill-opacity=\"1\" stroke=\"#505050\" stroke-width=\"0\"/><path aria-label=\"x1: 3791; x2: 3838.9; level: 22; level2: 22.9; status: Default; sf: getindex at essentials.jl:13 [inlined]\" role=\"graphics-symbol\" aria-roledescription=\"rect mark\" d=\"M606.56,196.44444444444446h7.664000000000101v7.999999999999972h-7.664000000000101Z\" fill=\"#4c78a8\" fill-opacity=\"1\" stroke=\"#505050\" stroke-width=\"0\"/><path aria-label=\"x1: 3839; x2: 3872.9; level: 21; level2: 21.9; status: Default; sf: #boundary_acquisition#48 at surrogate_model.jl:132 [inlined]\" role=\"graphics-symbol\" aria-roledescription=\"rect mark\" d=\"M614.24,205.33333333333337h5.423999999999978v7.999999999999972h-5.423999999999978Z\" fill=\"#4c78a8\" fill-opacity=\"1\" stroke=\"#505050\" stroke-width=\"0\"/><path aria-label=\"x1: 3839; x2: 3851.9; level: 22; level2: 22.9; status: Default; sf: getindex at essentials.jl:13 [inlined]\" role=\"graphics-symbol\" aria-roledescription=\"rect mark\" d=\"M614.24,196.44444444444446h2.064000000000078v7.999999999999972h-2.064000000000078Z\" fill=\"#4c78a8\" fill-opacity=\"1\" stroke=\"#505050\" stroke-width=\"0\"/><path aria-label=\"x1: 3852; x2: 3870.9; level: 22; level2: 22.9; status: Default; sf: sqrt at math.jl:677 [inlined]\" role=\"graphics-symbol\" aria-roledescription=\"rect mark\" d=\"M616.3199999999999,196.44444444444446h3.024000000000001v7.999999999999972h-3.024000000000001Z\" fill=\"#4c78a8\" fill-opacity=\"1\" stroke=\"#505050\" stroke-width=\"0\"/><path aria-label=\"x1: 3852; x2: 3869.9; level: 23; level2: 23.9; status: Default; sf: &lt; at float.jl:535 [inlined]\" role=\"graphics-symbol\" aria-roledescription=\"rect mark\" d=\"M616.3199999999999,187.55555555555557h2.8640000000000327v8h-2.8640000000000327Z\" fill=\"#4c78a8\" fill-opacity=\"1\" stroke=\"#505050\" stroke-width=\"0\"/><path aria-label=\"x1: 3871; x2: 3872.9; level: 22; level2: 22.9; status: Default; sf: sqrt at math.jl:678 [inlined]\" role=\"graphics-symbol\" aria-roledescription=\"rect mark\" d=\"M619.36,196.44444444444446h0.3039999999999736v7.999999999999972h-0.3039999999999736Z\" fill=\"#4c78a8\" fill-opacity=\"1\" stroke=\"#505050\" stroke-width=\"0\"/><path aria-label=\"x1: 3873; x2: 3907.9; level: 21; level2: 21.9; status: Default; sf: #boundary_acquisition#48 at surrogate_model.jl:139 [inlined]\" role=\"graphics-symbol\" aria-roledescription=\"rect mark\" d=\"M619.68,205.33333333333337h5.58400000000006v7.999999999999972h-5.58400000000006Z\" fill=\"#4c78a8\" fill-opacity=\"1\" stroke=\"#505050\" stroke-width=\"0\"/><path aria-label=\"x1: 3873; x2: 3875.9; level: 22; level2: 22.9; status: Default; sf: * at float.jl:410 [inlined]\" role=\"graphics-symbol\" aria-roledescription=\"rect mark\" d=\"M619.68,196.44444444444446h0.4640000000000555v7.999999999999972h-0.4640000000000555Z\" fill=\"#4c78a8\" fill-opacity=\"1\" stroke=\"#505050\" stroke-width=\"0\"/><path aria-label=\"x1: 3876; x2: 3878.9; level: 22; level2: 22.9; status: Default; sf: + at float.jl:408 [inlined]\" role=\"graphics-symbol\" aria-roledescription=\"rect mark\" d=\"M620.16,196.44444444444446h0.4640000000000555v7.999999999999972h-0.4640000000000555Z\" fill=\"#4c78a8\" fill-opacity=\"1\" stroke=\"#505050\" stroke-width=\"0\"/><path aria-label=\"x1: 3879; x2: 3880.9; level: 22; level2: 22.9; status: Default; sf: ^(x::Float64, y::Float64) at math.jl:1111\" role=\"graphics-symbol\" aria-roledescription=\"rect mark\" d=\"M620.64,196.44444444444446h0.3039999999999736v7.999999999999972h-0.3039999999999736Z\" fill=\"#4c78a8\" fill-opacity=\"1\" stroke=\"#505050\" stroke-width=\"0\"/><path aria-label=\"x1: 3881; x2: 3881.9; level: 22; level2: 22.9; status: Default; sf: ^(x::Float64, y::Float64) at math.jl:1120\" role=\"graphics-symbol\" aria-roledescription=\"rect mark\" d=\"M620.96,196.44444444444446h0.14400000000000546v7.999999999999972h-0.14400000000000546Z\" fill=\"#4c78a8\" fill-opacity=\"1\" stroke=\"#505050\" stroke-width=\"0\"/><path aria-label=\"x1: 3881; x2: 3881.9; level: 23; level2: 23.9; status: Default; sf: unsafe_trunc at float.jl:335 [inlined]\" role=\"graphics-symbol\" aria-roledescription=\"rect mark\" d=\"M620.96,187.55555555555557h0.14400000000000546v8h-0.14400000000000546Z\" fill=\"#4c78a8\" fill-opacity=\"1\" stroke=\"#505050\" stroke-width=\"0\"/><path aria-label=\"x1: 3882; x2: 3883.9; level: 22; level2: 22.9; status: Default; sf: ^(x::Float64, y::Float64) at math.jl:1124\" role=\"graphics-symbol\" aria-roledescription=\"rect mark\" d=\"M621.12,196.44444444444446h0.3039999999999736v7.999999999999972h-0.3039999999999736Z\" fill=\"#4c78a8\" fill-opacity=\"1\" stroke=\"#505050\" stroke-width=\"0\"/><path aria-label=\"x1: 3882; x2: 3883.9; level: 23; level2: 23.9; status: Default; sf: isfinite at float.jl:622 [inlined]\" role=\"graphics-symbol\" aria-roledescription=\"rect mark\" d=\"M621.12,187.55555555555557h0.3039999999999736v8h-0.3039999999999736Z\" fill=\"#4c78a8\" fill-opacity=\"1\" stroke=\"#505050\" stroke-width=\"0\"/><path aria-label=\"x1: 3882; x2: 3883.9; level: 24; level2: 24.9; status: Default; sf: == at float.jl:571 [inlined]\" role=\"graphics-symbol\" aria-roledescription=\"rect mark\" d=\"M621.12,178.66666666666666h0.3039999999999736v8h-0.3039999999999736Z\" fill=\"#4c78a8\" fill-opacity=\"1\" stroke=\"#505050\" stroke-width=\"0\"/><path aria-label=\"x1: 3882; x2: 3883.9; level: 25; level2: 25.9; status: Default; sf: == at float.jl:533 [inlined]\" role=\"graphics-symbol\" aria-roledescription=\"rect mark\" d=\"M621.12,169.7777777777778h0.3039999999999736v7.999999999999972h-0.3039999999999736Z\" fill=\"#4c78a8\" fill-opacity=\"1\" stroke=\"#505050\" stroke-width=\"0\"/><path aria-label=\"x1: 3884; x2: 3884.9; level: 22; level2: 22.9; status: Default; sf: ^(x::Float64, y::Float64) at math.jl:1125\" role=\"graphics-symbol\" aria-roledescription=\"rect mark\" d=\"M621.44,196.44444444444446h0.14400000000000546v7.999999999999972h-0.14400000000000546Z\" fill=\"#4c78a8\" fill-opacity=\"1\" stroke=\"#505050\" stroke-width=\"0\"/><path aria-label=\"x1: 3885; x2: 3907.9; level: 22; level2: 22.9; status: Default; sf: ^(x::Float64, y::Float64) at math.jl:1130\" role=\"graphics-symbol\" aria-roledescription=\"rect mark\" d=\"M621.6,196.44444444444446h3.6639999999999873v7.999999999999972h-3.6639999999999873Z\" fill=\"#4c78a8\" fill-opacity=\"1\" stroke=\"#505050\" stroke-width=\"0\"/><path aria-label=\"x1: 3885; x2: 3893.9; level: 23; level2: 23.9; status: Default; sf: pow_body at math.jl:1134 [inlined]\" role=\"graphics-symbol\" aria-roledescription=\"rect mark\" d=\"M621.6,187.55555555555557h1.4239999999999782v8h-1.4239999999999782Z\" fill=\"#4c78a8\" fill-opacity=\"1\" stroke=\"#505050\" stroke-width=\"0\"/><path aria-label=\"x1: 3885; x2: 3885.9; level: 24; level2: 24.9; status: Default; sf: _log_ext(xu::UInt64) at log.jl:565\" role=\"graphics-symbol\" aria-roledescription=\"rect mark\" d=\"M621.6,178.66666666666666h0.14400000000000546v8h-0.14400000000000546Z\" fill=\"#4c78a8\" fill-opacity=\"1\" stroke=\"#505050\" stroke-width=\"0\"/><path aria-label=\"x1: 3886; x2: 3887.9; level: 24; level2: 24.9; status: Default; sf: _log_ext(xu::UInt64) at log.jl:571\" role=\"graphics-symbol\" aria-roledescription=\"rect mark\" d=\"M621.76,178.66666666666666h0.3040000000000873v8h-0.3040000000000873Z\" fill=\"#4c78a8\" fill-opacity=\"1\" stroke=\"#505050\" stroke-width=\"0\"/><path aria-label=\"x1: 3886; x2: 3887.9; level: 25; level2: 25.9; status: Default; sf: &amp; at int.jl:1042 [inlined]\" role=\"graphics-symbol\" aria-roledescription=\"rect mark\" d=\"M621.76,169.7777777777778h0.3040000000000873v7.999999999999972h-0.3040000000000873Z\" fill=\"#4c78a8\" fill-opacity=\"1\" stroke=\"#505050\" stroke-width=\"0\"/><path aria-label=\"x1: 3886; x2: 3887.9; level: 26; level2: 26.9; status: Default; sf: &amp; at int.jl:347 [inlined]\" role=\"graphics-symbol\" aria-roledescription=\"rect mark\" d=\"M621.76,160.8888888888889h0.3040000000000873v8h-0.3040000000000873Z\" fill=\"#4c78a8\" fill-opacity=\"1\" stroke=\"#505050\" stroke-width=\"0\"/><path aria-label=\"x1: 3888; x2: 3889.9; level: 24; level2: 24.9; status: Default; sf: _log_ext(xu::UInt64) at log.jl:584\" role=\"graphics-symbol\" aria-roledescription=\"rect mark\" d=\"M622.0799999999999,178.66666666666666h0.3040000000000873v8h-0.3040000000000873Z\" fill=\"#4c78a8\" fill-opacity=\"1\" stroke=\"#505050\" stroke-width=\"0\"/><path aria-label=\"x1: 3888; x2: 3888.9; level: 25; level2: 25.9; status: Default; sf: + at float.jl:408 [inlined]\" role=\"graphics-symbol\" aria-roledescription=\"rect mark\" d=\"M622.0799999999999,169.7777777777778h0.14400000000011914v7.999999999999972h-0.14400000000011914Z\" fill=\"#4c78a8\" fill-opacity=\"1\" stroke=\"#505050\" stroke-width=\"0\"/><path aria-label=\"x1: 3889; x2: 3889.9; level: 25; level2: 25.9; status: Default; sf: - at float.jl:409 [inlined]\" role=\"graphics-symbol\" aria-roledescription=\"rect mark\" d=\"M622.24,169.7777777777778h0.14400000000000546v7.999999999999972h-0.14400000000000546Z\" fill=\"#4c78a8\" fill-opacity=\"1\" stroke=\"#505050\" stroke-width=\"0\"/><path aria-label=\"x1: 3890; x2: 3890.9; level: 24; level2: 24.9; status: Default; sf: _log_ext(xu::UInt64) at log.jl:589\" role=\"graphics-symbol\" aria-roledescription=\"rect mark\" d=\"M622.4,178.66666666666666h0.14400000000000546v8h-0.14400000000000546Z\" fill=\"#4c78a8\" fill-opacity=\"1\" stroke=\"#505050\" stroke-width=\"0\"/><path aria-label=\"x1: 3890; x2: 3890.9; level: 25; level2: 25.9; status: Default; sf: - at float.jl:409 [inlined]\" role=\"graphics-symbol\" aria-roledescription=\"rect mark\" d=\"M622.4,169.7777777777778h0.14400000000000546v7.999999999999972h-0.14400000000000546Z\" fill=\"#4c78a8\" fill-opacity=\"1\" stroke=\"#505050\" stroke-width=\"0\"/><path aria-label=\"x1: 3891; x2: 3892.9; level: 24; level2: 24.9; status: Default; sf: _log_ext(xu::UInt64) at log.jl:590\" role=\"graphics-symbol\" aria-roledescription=\"rect mark\" d=\"M622.56,178.66666666666666h0.3040000000000873v8h-0.3040000000000873Z\" fill=\"#4c78a8\" fill-opacity=\"1\" stroke=\"#505050\" stroke-width=\"0\"/><path aria-label=\"x1: 3891; x2: 3892.9; level: 25; level2: 25.9; status: Default; sf: evalpoly at math.jl:177 [inlined]\" role=\"graphics-symbol\" aria-roledescription=\"rect mark\" d=\"M622.56,169.7777777777778h0.3040000000000873v7.999999999999972h-0.3040000000000873Z\" fill=\"#4c78a8\" fill-opacity=\"1\" stroke=\"#505050\" stroke-width=\"0\"/><path aria-label=\"x1: 3891; x2: 3892.9; level: 26; level2: 26.9; status: Default; sf: macro expansion at math.jl:178 [inlined]\" role=\"graphics-symbol\" aria-roledescription=\"rect mark\" d=\"M622.56,160.8888888888889h0.3040000000000873v8h-0.3040000000000873Z\" fill=\"#4c78a8\" fill-opacity=\"1\" stroke=\"#505050\" stroke-width=\"0\"/><path aria-label=\"x1: 3891; x2: 3892.9; level: 27; level2: 27.9; status: Default; sf: muladd at float.jl:413 [inlined]\" role=\"graphics-symbol\" aria-roledescription=\"rect mark\" d=\"M622.56,152h0.3040000000000873v8h-0.3040000000000873Z\" fill=\"#4c78a8\" fill-opacity=\"1\" stroke=\"#505050\" stroke-width=\"0\"/><path aria-label=\"x1: 3893; x2: 3893.9; level: 24; level2: 24.9; status: Default; sf: _log_ext(xu::UInt64) at log.jl:592\" role=\"graphics-symbol\" aria-roledescription=\"rect mark\" d=\"M622.88,178.66666666666666h0.14400000000000546v8h-0.14400000000000546Z\" fill=\"#4c78a8\" fill-opacity=\"1\" stroke=\"#505050\" stroke-width=\"0\"/><path aria-label=\"x1: 3894; x2: 3894.9; level: 23; level2: 23.9; status: Default; sf: pow_body at math.jl:1135 [inlined]\" role=\"graphics-symbol\" aria-roledescription=\"rect mark\" d=\"M623.0400000000001,187.55555555555557h0.14399999999989177v8h-0.14399999999989177Z\" fill=\"#4c78a8\" fill-opacity=\"1\" stroke=\"#505050\" stroke-width=\"0\"/><path aria-label=\"x1: 3894; x2: 3894.9; level: 24; level2: 24.9; status: Default; sf: two_mul at math.jl:47 [inlined]\" role=\"graphics-symbol\" aria-roledescription=\"rect mark\" d=\"M623.0400000000001,178.66666666666666h0.14399999999989177v8h-0.14399999999989177Z\" fill=\"#4c78a8\" fill-opacity=\"1\" stroke=\"#505050\" stroke-width=\"0\"/><path aria-label=\"x1: 3894; x2: 3894.9; level: 25; level2: 25.9; status: Default; sf: * at float.jl:410 [inlined]\" role=\"graphics-symbol\" aria-roledescription=\"rect mark\" d=\"M623.0400000000001,169.7777777777778h0.14399999999989177v7.999999999999972h-0.14399999999989177Z\" fill=\"#4c78a8\" fill-opacity=\"1\" stroke=\"#505050\" stroke-width=\"0\"/><path aria-label=\"x1: 3895; x2: 3896.9; level: 23; level2: 23.9; status: Default; sf: pow_body at math.jl:1137 [inlined]\" role=\"graphics-symbol\" aria-roledescription=\"rect mark\" d=\"M623.2,187.55555555555557h0.3039999999999736v8h-0.3039999999999736Z\" fill=\"#4c78a8\" fill-opacity=\"1\" stroke=\"#505050\" stroke-width=\"0\"/><path aria-label=\"x1: 3895; x2: 3896.9; level: 24; level2: 24.9; status: Default; sf: + at float.jl:408 [inlined]\" role=\"graphics-symbol\" aria-roledescription=\"rect mark\" d=\"M623.2,178.66666666666666h0.3039999999999736v8h-0.3039999999999736Z\" fill=\"#4c78a8\" fill-opacity=\"1\" stroke=\"#505050\" stroke-width=\"0\"/><path aria-label=\"x1: 3897; x2: 3907.9; level: 23; level2: 23.9; status: Default; sf: pow_body at math.jl:1138 [inlined]\" role=\"graphics-symbol\" aria-roledescription=\"rect mark\" d=\"M623.52,187.55555555555557h1.7440000000000282v8h-1.7440000000000282Z\" fill=\"#4c78a8\" fill-opacity=\"1\" stroke=\"#505050\" stroke-width=\"0\"/><path aria-label=\"x1: 3897; x2: 3897.9; level: 24; level2: 24.9; status: Default; sf: exp_impl at exp.jl:235 [inlined]\" role=\"graphics-symbol\" aria-roledescription=\"rect mark\" d=\"M623.52,178.66666666666666h0.14400000000000546v8h-0.14400000000000546Z\" fill=\"#4c78a8\" fill-opacity=\"1\" stroke=\"#505050\" stroke-width=\"0\"/><path aria-label=\"x1: 3897; x2: 3897.9; level: 25; level2: 25.9; status: Default; sf: reinterpret at essentials.jl:513 [inlined]\" role=\"graphics-symbol\" aria-roledescription=\"rect mark\" d=\"M623.52,169.7777777777778h0.14400000000000546v7.999999999999972h-0.14400000000000546Z\" fill=\"#4c78a8\" fill-opacity=\"1\" stroke=\"#505050\" stroke-width=\"0\"/><path aria-label=\"x1: 3898; x2: 3900.9; level: 24; level2: 24.9; status: Default; sf: exp_impl at exp.jl:240 [inlined]\" role=\"graphics-symbol\" aria-roledescription=\"rect mark\" d=\"M623.68,178.66666666666666h0.4640000000000555v8h-0.4640000000000555Z\" fill=\"#4c78a8\" fill-opacity=\"1\" stroke=\"#505050\" stroke-width=\"0\"/><path aria-label=\"x1: 3898; x2: 3898.9; level: 25; level2: 25.9; status: Default; sf: table_unpack at exp.jl:181 [inlined]\" role=\"graphics-symbol\" aria-roledescription=\"rect mark\" d=\"M623.68,169.7777777777778h0.14400000000011914v7.999999999999972h-0.14400000000011914Z\" fill=\"#4c78a8\" fill-opacity=\"1\" stroke=\"#505050\" stroke-width=\"0\"/><path aria-label=\"x1: 3898; x2: 3898.9; level: 26; level2: 26.9; status: Default; sf: &amp; at int.jl:347 [inlined]\" role=\"graphics-symbol\" aria-roledescription=\"rect mark\" d=\"M623.68,160.8888888888889h0.14400000000011914v8h-0.14400000000011914Z\" fill=\"#4c78a8\" fill-opacity=\"1\" stroke=\"#505050\" stroke-width=\"0\"/><path aria-label=\"x1: 3899; x2: 3900.9; level: 25; level2: 25.9; status: Default; sf: table_unpack at exp.jl:182 [inlined]\" role=\"graphics-symbol\" aria-roledescription=\"rect mark\" d=\"M623.84,169.7777777777778h0.3039999999999736v7.999999999999972h-0.3039999999999736Z\" fill=\"#4c78a8\" fill-opacity=\"1\" stroke=\"#505050\" stroke-width=\"0\"/><path aria-label=\"x1: 3899; x2: 3900.9; level: 26; level2: 26.9; status: Default; sf: &gt;&gt; at int.jl:508 [inlined]\" role=\"graphics-symbol\" aria-roledescription=\"rect mark\" d=\"M623.84,160.8888888888889h0.3039999999999736v8h-0.3039999999999736Z\" fill=\"#4c78a8\" fill-opacity=\"1\" stroke=\"#505050\" stroke-width=\"0\"/><path aria-label=\"x1: 3899; x2: 3900.9; level: 27; level2: 27.9; status: Default; sf: &gt;&gt; at int.jl:502 [inlined]\" role=\"graphics-symbol\" aria-roledescription=\"rect mark\" d=\"M623.84,152h0.3039999999999736v8h-0.3039999999999736Z\" fill=\"#4c78a8\" fill-opacity=\"1\" stroke=\"#505050\" stroke-width=\"0\"/><path aria-label=\"x1: 3901; x2: 3904.9; level: 24; level2: 24.9; status: Default; sf: exp_impl at exp.jl:241 [inlined]\" role=\"graphics-symbol\" aria-roledescription=\"rect mark\" d=\"M624.16,178.66666666666666h0.6240000000000236v8h-0.6240000000000236Z\" fill=\"#4c78a8\" fill-opacity=\"1\" stroke=\"#505050\" stroke-width=\"0\"/><path aria-label=\"x1: 3901; x2: 3903.9; level: 25; level2: 25.9; status: Default; sf: muladd at float.jl:413 [inlined]\" role=\"graphics-symbol\" aria-roledescription=\"rect mark\" d=\"M624.16,169.7777777777778h0.4640000000000555v7.999999999999972h-0.4640000000000555Z\" fill=\"#4c78a8\" fill-opacity=\"1\" stroke=\"#505050\" stroke-width=\"0\"/><path aria-label=\"x1: 3904; x2: 3904.9; level: 25; level2: 25.9; status: Default; sf: expm1b_kernel at exp.jl:78 [inlined]\" role=\"graphics-symbol\" aria-roledescription=\"rect mark\" d=\"M624.64,169.7777777777778h0.14400000000000546v7.999999999999972h-0.14400000000000546Z\" fill=\"#4c78a8\" fill-opacity=\"1\" stroke=\"#505050\" stroke-width=\"0\"/><path aria-label=\"x1: 3904; x2: 3904.9; level: 26; level2: 26.9; status: Default; sf: * at float.jl:410 [inlined]\" role=\"graphics-symbol\" aria-roledescription=\"rect mark\" d=\"M624.64,160.8888888888889h0.14400000000000546v8h-0.14400000000000546Z\" fill=\"#4c78a8\" fill-opacity=\"1\" stroke=\"#505050\" stroke-width=\"0\"/><path aria-label=\"x1: 3905; x2: 3906.9; level: 24; level2: 24.9; status: Default; sf: exp_impl at exp.jl:242 [inlined]\" role=\"graphics-symbol\" aria-roledescription=\"rect mark\" d=\"M624.8000000000001,178.66666666666666h0.30399999999985994v8h-0.30399999999985994Z\" fill=\"#4c78a8\" fill-opacity=\"1\" stroke=\"#505050\" stroke-width=\"0\"/><path aria-label=\"x1: 3905; x2: 3905.9; level: 25; level2: 25.9; status: Default; sf: + at float.jl:408 [inlined]\" role=\"graphics-symbol\" aria-roledescription=\"rect mark\" d=\"M624.8000000000001,169.7777777777778h0.14399999999989177v7.999999999999972h-0.14399999999989177Z\" fill=\"#4c78a8\" fill-opacity=\"1\" stroke=\"#505050\" stroke-width=\"0\"/><path aria-label=\"x1: 3906; x2: 3906.9; level: 25; level2: 25.9; status: Default; sf: muladd at float.jl:413 [inlined]\" role=\"graphics-symbol\" aria-roledescription=\"rect mark\" d=\"M624.96,169.7777777777778h0.14399999999989177v7.999999999999972h-0.14399999999989177Z\" fill=\"#4c78a8\" fill-opacity=\"1\" stroke=\"#505050\" stroke-width=\"0\"/><path aria-label=\"x1: 3907; x2: 3907.9; level: 24; level2: 24.9; status: Default; sf: exp_impl at exp.jl:254 [inlined]\" role=\"graphics-symbol\" aria-roledescription=\"rect mark\" d=\"M625.12,178.66666666666666h0.14400000000000546v8h-0.14400000000000546Z\" fill=\"#4c78a8\" fill-opacity=\"1\" stroke=\"#505050\" stroke-width=\"0\"/><path aria-label=\"x1: 3908; x2: 3942.9; level: 19; level2: 19.9; status: Default; sf: uncertainty_acquisition at surrogate_model.jl:119 [inlined]\" role=\"graphics-symbol\" aria-roledescription=\"rect mark\" d=\"M625.28,223.11111111111111h5.58400000000006v7.999999999999972h-5.58400000000006Z\" fill=\"#4c78a8\" fill-opacity=\"1\" stroke=\"#505050\" stroke-width=\"0\"/><path aria-label=\"x1: 3908; x2: 3942.9; level: 20; level2: 20.9; status: Default; sf: #uncertainty_acquisition#46 at surrogate_model.jl:119 [inlined]\" role=\"graphics-symbol\" aria-roledescription=\"rect mark\" d=\"M625.28,214.22222222222223h5.58400000000006v8h-5.58400000000006Z\" fill=\"#4c78a8\" fill-opacity=\"1\" stroke=\"#505050\" stroke-width=\"0\"/><path aria-label=\"x1: 3908; x2: 3942.9; level: 21; level2: 21.9; status: Default; sf: uncertainty_acquisition at surrogate_model.jl:115 [inlined]\" role=\"graphics-symbol\" aria-roledescription=\"rect mark\" d=\"M625.28,205.33333333333337h5.58400000000006v7.999999999999972h-5.58400000000006Z\" fill=\"#4c78a8\" fill-opacity=\"1\" stroke=\"#505050\" stroke-width=\"0\"/><path aria-label=\"x1: 3908; x2: 3915.9; level: 22; level2: 22.9; status: Default; sf: #uncertainty_acquisition#45 at surrogate_model.jl:116 [inlined]\" role=\"graphics-symbol\" aria-roledescription=\"rect mark\" d=\"M625.28,196.44444444444446h1.26400000000001v7.999999999999972h-1.26400000000001Z\" fill=\"#4c78a8\" fill-opacity=\"1\" stroke=\"#505050\" stroke-width=\"0\"/><path aria-label=\"x1: 3908; x2: 3915.9; level: 23; level2: 23.9; status: Default; sf: getindex at essentials.jl:13 [inlined]\" role=\"graphics-symbol\" aria-roledescription=\"rect mark\" d=\"M625.28,187.55555555555557h1.26400000000001v8h-1.26400000000001Z\" fill=\"#4c78a8\" fill-opacity=\"1\" stroke=\"#505050\" stroke-width=\"0\"/><path aria-label=\"x1: 3916; x2: 3942.9; level: 22; level2: 22.9; status: Default; sf: #uncertainty_acquisition#45 at surrogate_model.jl:117 [inlined]\" role=\"graphics-symbol\" aria-roledescription=\"rect mark\" d=\"M626.5600000000001,196.44444444444446h4.303999999999974v7.999999999999972h-4.303999999999974Z\" fill=\"#4c78a8\" fill-opacity=\"1\" stroke=\"#505050\" stroke-width=\"0\"/><path aria-label=\"x1: 3916; x2: 3942.9; level: 23; level2: 23.9; status: Default; sf: sqrt at math.jl:677 [inlined]\" role=\"graphics-symbol\" aria-roledescription=\"rect mark\" d=\"M626.5600000000001,187.55555555555557h4.303999999999974v8h-4.303999999999974Z\" fill=\"#4c78a8\" fill-opacity=\"1\" stroke=\"#505050\" stroke-width=\"0\"/><path aria-label=\"x1: 3916; x2: 3942.9; level: 24; level2: 24.9; status: Default; sf: &lt; at float.jl:535 [inlined]\" role=\"graphics-symbol\" aria-roledescription=\"rect mark\" d=\"M626.5600000000001,178.66666666666666h4.303999999999974v8h-4.303999999999974Z\" fill=\"#4c78a8\" fill-opacity=\"1\" stroke=\"#505050\" stroke-width=\"0\"/><path aria-label=\"x1: 3943; x2: 3943.9; level: 17; level2: 17.9; status: Default; sf: iterate at iterators.jl:0 [inlined]\" role=\"graphics-symbol\" aria-roledescription=\"rect mark\" d=\"M630.88,240.88888888888889h0.14400000000000546v8h-0.14400000000000546Z\" fill=\"#4c78a8\" fill-opacity=\"1\" stroke=\"#505050\" stroke-width=\"0\"/><path aria-label=\"x1: 3944; x2: 3960.9; level: 12; level2: 12.9; status: Runtime dispatch; sf: get_next_point(y::Array{Float64, 3}, F̂::Array{Tuple{Vector{Float64}, Vector{Float64}}, 3}, P::Array{Float64, 3}, models::Vector{OperationalParameters}; acq::Function, match_original::Bool) at surrogate_model.jl:192\" role=\"graphics-symbol\" aria-roledescription=\"rect mark\" d=\"M631.04,285.33333333333337h2.7040000000000646v8h-2.7040000000000646Z\" fill=\"#e45756\" fill-opacity=\"1\" stroke=\"#505050\" stroke-width=\"0\"/><path aria-label=\"x1: 3944; x2: 3960.9; level: 13; level2: 13.9; status: Default; sf: argmax(A::Array{Float64, 3}) at reducedim.jl:1282\" role=\"graphics-symbol\" aria-roledescription=\"rect mark\" d=\"M631.04,276.44444444444446h2.7040000000000646v8h-2.7040000000000646Z\" fill=\"#4c78a8\" fill-opacity=\"1\" stroke=\"#505050\" stroke-width=\"0\"/><path aria-label=\"x1: 3944; x2: 3960.9; level: 14; level2: 14.9; status: Default; sf: #argmax#866 at reducedim.jl:1282 [inlined]\" role=\"graphics-symbol\" aria-roledescription=\"rect mark\" d=\"M631.04,267.55555555555554h2.7040000000000646v8h-2.7040000000000646Z\" fill=\"#4c78a8\" fill-opacity=\"1\" stroke=\"#505050\" stroke-width=\"0\"/><path aria-label=\"x1: 3944; x2: 3960.9; level: 15; level2: 15.9; status: Default; sf: findmax at reducedim.jl:1183 [inlined]\" role=\"graphics-symbol\" aria-roledescription=\"rect mark\" d=\"M631.04,258.6666666666667h2.7040000000000646v8h-2.7040000000000646Z\" fill=\"#4c78a8\" fill-opacity=\"1\" stroke=\"#505050\" stroke-width=\"0\"/><path aria-label=\"x1: 3944; x2: 3960.9; level: 16; level2: 16.9; status: Default; sf: #findmax#863 at reducedim.jl:1183 [inlined]\" role=\"graphics-symbol\" aria-roledescription=\"rect mark\" d=\"M631.04,249.7777777777778h2.7040000000000646v7.999999999999972h-2.7040000000000646Z\" fill=\"#4c78a8\" fill-opacity=\"1\" stroke=\"#505050\" stroke-width=\"0\"/><path aria-label=\"x1: 3944; x2: 3960.9; level: 17; level2: 17.9; status: Default; sf: _findmax at reduce.jl:929 [inlined]\" role=\"graphics-symbol\" aria-roledescription=\"rect mark\" d=\"M631.04,240.88888888888889h2.7040000000000646v8h-2.7040000000000646Z\" fill=\"#4c78a8\" fill-opacity=\"1\" stroke=\"#505050\" stroke-width=\"0\"/><path aria-label=\"x1: 3944; x2: 3960.9; level: 18; level2: 18.9; status: Default; sf: findmax at reducedim.jl:1206 [inlined]\" role=\"graphics-symbol\" aria-roledescription=\"rect mark\" d=\"M631.04,232.00000000000003h2.7040000000000646v7.999999999999972h-2.7040000000000646Z\" fill=\"#4c78a8\" fill-opacity=\"1\" stroke=\"#505050\" stroke-width=\"0\"/><path aria-label=\"x1: 3944; x2: 3960.9; level: 19; level2: 19.9; status: Default; sf: #findmax#864 at reducedim.jl:1206 [inlined]\" role=\"graphics-symbol\" aria-roledescription=\"rect mark\" d=\"M631.04,223.11111111111111h2.7040000000000646v7.999999999999972h-2.7040000000000646Z\" fill=\"#4c78a8\" fill-opacity=\"1\" stroke=\"#505050\" stroke-width=\"0\"/><path aria-label=\"x1: 3944; x2: 3960.9; level: 20; level2: 20.9; status: Default; sf: _findmax(f::typeof(identity), domain::Array{Float64, 3}, #unused#::Colon) at reduce.jl:903\" role=\"graphics-symbol\" aria-roledescription=\"rect mark\" d=\"M631.04,214.22222222222223h2.7040000000000646v8h-2.7040000000000646Z\" fill=\"#4c78a8\" fill-opacity=\"1\" stroke=\"#505050\" stroke-width=\"0\"/><path aria-label=\"x1: 3944; x2: 3960.9; level: 21; level2: 21.9; status: Default; sf: mapfoldl at reduce.jl:170 [inlined]\" role=\"graphics-symbol\" aria-roledescription=\"rect mark\" d=\"M631.04,205.33333333333337h2.7040000000000646v7.999999999999972h-2.7040000000000646Z\" fill=\"#4c78a8\" fill-opacity=\"1\" stroke=\"#505050\" stroke-width=\"0\"/><path aria-label=\"x1: 3944; x2: 3960.9; level: 22; level2: 22.9; status: Default; sf: #mapfoldl#288 at reduce.jl:170 [inlined]\" role=\"graphics-symbol\" aria-roledescription=\"rect mark\" d=\"M631.04,196.44444444444446h2.7040000000000646v7.999999999999972h-2.7040000000000646Z\" fill=\"#4c78a8\" fill-opacity=\"1\" stroke=\"#505050\" stroke-width=\"0\"/><path aria-label=\"x1: 3944; x2: 3960.9; level: 23; level2: 23.9; status: Default; sf: mapfoldl_impl at reduce.jl:44 [inlined]\" role=\"graphics-symbol\" aria-roledescription=\"rect mark\" d=\"M631.04,187.55555555555557h2.7040000000000646v8h-2.7040000000000646Z\" fill=\"#4c78a8\" fill-opacity=\"1\" stroke=\"#505050\" stroke-width=\"0\"/><path aria-label=\"x1: 3944; x2: 3960.9; level: 24; level2: 24.9; status: Default; sf: foldl_impl at reduce.jl:48 [inlined]\" role=\"graphics-symbol\" aria-roledescription=\"rect mark\" d=\"M631.04,178.66666666666666h2.7040000000000646v8h-2.7040000000000646Z\" fill=\"#4c78a8\" fill-opacity=\"1\" stroke=\"#505050\" stroke-width=\"0\"/><path aria-label=\"x1: 3944; x2: 3945.9; level: 25; level2: 25.9; status: Default; sf: _foldl_impl at reduce.jl:0 [inlined]\" role=\"graphics-symbol\" aria-roledescription=\"rect mark\" d=\"M631.04,169.7777777777778h0.3040000000000873v7.999999999999972h-0.3040000000000873Z\" fill=\"#4c78a8\" fill-opacity=\"1\" stroke=\"#505050\" stroke-width=\"0\"/><path aria-label=\"x1: 3946; x2: 3950.9; level: 25; level2: 25.9; status: Default; sf: _foldl_impl at reduce.jl:60 [inlined]\" role=\"graphics-symbol\" aria-roledescription=\"rect mark\" d=\"M631.36,169.7777777777778h0.7839999999999918v7.999999999999972h-0.7839999999999918Z\" fill=\"#4c78a8\" fill-opacity=\"1\" stroke=\"#505050\" stroke-width=\"0\"/><path aria-label=\"x1: 3946; x2: 3946.9; level: 26; level2: 26.9; status: Default; sf: iterate at iterators.jl:295 [inlined]\" role=\"graphics-symbol\" aria-roledescription=\"rect mark\" d=\"M631.36,160.8888888888889h0.14400000000000546v8h-0.14400000000000546Z\" fill=\"#4c78a8\" fill-opacity=\"1\" stroke=\"#505050\" stroke-width=\"0\"/><path aria-label=\"x1: 3947; x2: 3950.9; level: 26; level2: 26.9; status: Default; sf: iterate at iterators.jl:297 [inlined]\" role=\"graphics-symbol\" aria-roledescription=\"rect mark\" d=\"M631.52,160.8888888888889h0.6240000000000236v8h-0.6240000000000236Z\" fill=\"#4c78a8\" fill-opacity=\"1\" stroke=\"#505050\" stroke-width=\"0\"/><path aria-label=\"x1: 3947; x2: 3950.9; level: 27; level2: 27.9; status: Default; sf: _pairs_elt at iterators.jl:290 [inlined]\" role=\"graphics-symbol\" aria-roledescription=\"rect mark\" d=\"M631.52,152h0.6240000000000236v8h-0.6240000000000236Z\" fill=\"#4c78a8\" fill-opacity=\"1\" stroke=\"#505050\" stroke-width=\"0\"/><path aria-label=\"x1: 3947; x2: 3950.9; level: 28; level2: 28.9; status: Default; sf: getindex at multidimensional.jl:668 [inlined]\" role=\"graphics-symbol\" aria-roledescription=\"rect mark\" d=\"M631.52,143.11111111111114h0.6240000000000236v7.999999999999972h-0.6240000000000236Z\" fill=\"#4c78a8\" fill-opacity=\"1\" stroke=\"#505050\" stroke-width=\"0\"/><path aria-label=\"x1: 3947; x2: 3950.9; level: 29; level2: 29.9; status: Default; sf: getindex at essentials.jl:14 [inlined]\" role=\"graphics-symbol\" aria-roledescription=\"rect mark\" d=\"M631.52,134.22222222222223h0.6240000000000236v7.999999999999972h-0.6240000000000236Z\" fill=\"#4c78a8\" fill-opacity=\"1\" stroke=\"#505050\" stroke-width=\"0\"/><path aria-label=\"x1: 3951; x2: 3960.9; level: 25; level2: 25.9; status: Default; sf: _foldl_impl at reduce.jl:62 [inlined]\" role=\"graphics-symbol\" aria-roledescription=\"rect mark\" d=\"M632.16,169.7777777777778h1.58400000000006v7.999999999999972h-1.58400000000006Z\" fill=\"#4c78a8\" fill-opacity=\"1\" stroke=\"#505050\" stroke-width=\"0\"/><path aria-label=\"x1: 3951; x2: 3960.9; level: 26; level2: 26.9; status: Default; sf: MappingRF at reduce.jl:95 [inlined]\" role=\"graphics-symbol\" aria-roledescription=\"rect mark\" d=\"M632.16,160.8888888888889h1.58400000000006v8h-1.58400000000006Z\" fill=\"#4c78a8\" fill-opacity=\"1\" stroke=\"#505050\" stroke-width=\"0\"/><path aria-label=\"x1: 3951; x2: 3960.9; level: 27; level2: 27.9; status: Default; sf: BottomRF at reduce.jl:81 [inlined]\" role=\"graphics-symbol\" aria-roledescription=\"rect mark\" d=\"M632.16,152h1.58400000000006v8h-1.58400000000006Z\" fill=\"#4c78a8\" fill-opacity=\"1\" stroke=\"#505050\" stroke-width=\"0\"/><path aria-label=\"x1: 3951; x2: 3960.9; level: 28; level2: 28.9; status: Default; sf: _rf_findmax at reduce.jl:904 [inlined]\" role=\"graphics-symbol\" aria-roledescription=\"rect mark\" d=\"M632.16,143.11111111111114h1.58400000000006v7.999999999999972h-1.58400000000006Z\" fill=\"#4c78a8\" fill-opacity=\"1\" stroke=\"#505050\" stroke-width=\"0\"/><path aria-label=\"x1: 3951; x2: 3956.9; level: 29; level2: 29.9; status: Default; sf: isless at float.jl:548 [inlined]\" role=\"graphics-symbol\" aria-roledescription=\"rect mark\" d=\"M632.16,134.22222222222223h0.94399999999996v7.999999999999972h-0.94399999999996Z\" fill=\"#4c78a8\" fill-opacity=\"1\" stroke=\"#505050\" stroke-width=\"0\"/><path aria-label=\"x1: 3951; x2: 3955.9; level: 30; level2: 30.9; status: Default; sf: isnan at float.jl:619 [inlined]\" role=\"graphics-symbol\" aria-roledescription=\"rect mark\" d=\"M632.16,125.33333333333334h0.7839999999999918v8h-0.7839999999999918Z\" fill=\"#4c78a8\" fill-opacity=\"1\" stroke=\"#505050\" stroke-width=\"0\"/><path aria-label=\"x1: 3951; x2: 3955.9; level: 31; level2: 31.9; status: Default; sf: != at float.jl:534 [inlined]\" role=\"graphics-symbol\" aria-roledescription=\"rect mark\" d=\"M632.16,116.44444444444444h0.7839999999999918v8h-0.7839999999999918Z\" fill=\"#4c78a8\" fill-opacity=\"1\" stroke=\"#505050\" stroke-width=\"0\"/><path aria-label=\"x1: 3957; x2: 3960.9; level: 29; level2: 29.9; status: Default; sf: isless at float.jl:550 [inlined]\" role=\"graphics-symbol\" aria-roledescription=\"rect mark\" d=\"M633.12,134.22222222222223h0.6240000000000236v7.999999999999972h-0.6240000000000236Z\" fill=\"#4c78a8\" fill-opacity=\"1\" stroke=\"#505050\" stroke-width=\"0\"/><path aria-label=\"x1: 3957; x2: 3960.9; level: 30; level2: 30.9; status: Default; sf: &lt; at int.jl:83 [inlined]\" role=\"graphics-symbol\" aria-roledescription=\"rect mark\" d=\"M633.12,125.33333333333334h0.6240000000000236v8h-0.6240000000000236Z\" fill=\"#4c78a8\" fill-opacity=\"1\" stroke=\"#505050\" stroke-width=\"0\"/><path aria-label=\"x1: 3961; x2: 3961.9; level: 10; level2: 10.9; status: Runtime dispatch; sf: bayesian_safety_validation(sparams::DummyParameters, models::Vector{OperationalParameters}; gp::Nothing, T::Int64, λ::Float64, seed::Int64, initialize_system::Bool, reset_system::Bool, show_acquisition_plots::Bool, show_plots::Bool, show_combined_plot::Bool, show_tight_combined_plot::Bool, hide_model_after_first::Bool, only_plot_last::Bool, latex_labels::Bool, show_alert::Bool, acquisitions_to_run::Vector{Int64}, probability_valued_system::Bool, skip_if_no_failures::Bool, save_plots::Bool, save_plots_svg::Bool, plots_dir::String, samples_per_batch::Int64, single_failure_mode::Bool, refit_every_point::Bool, input_discretization_steps::Int64, p_estimate_discretization_steps::Int64, match_original::Bool, kwargs::Base.Pairs{Symbol, Union{}, Tuple{}, NamedTuple{(), Tuple{}}}) at bayesian_safety_validation.jl:192\" role=\"graphics-symbol\" aria-roledescription=\"rect mark\" d=\"M633.76,303.1111111111111h0.14400000000000546v8.000000000000057h-0.14400000000000546Z\" fill=\"#e45756\" fill-opacity=\"1\" stroke=\"#505050\" stroke-width=\"0\"/><path aria-label=\"x1: 3961; x2: 3961.9; level: 11; level2: 11.9; status: Default; sf: kwcall(::NamedTuple{(:subdir,), Tuple{Int64}}, ::typeof(BayesianSafetyValidation.System.evaluate), sparams::DummyParameters, inputs::Vector{Any}) at In[3]:15\" role=\"graphics-symbol\" aria-roledescription=\"rect mark\" d=\"M633.76,294.22222222222223h0.14400000000000546v8h-0.14400000000000546Z\" fill=\"#4c78a8\" fill-opacity=\"1\" stroke=\"#505050\" stroke-width=\"0\"/><path aria-label=\"x1: 3961; x2: 3961.9; level: 12; level2: 12.9; status: Runtime dispatch; sf: evaluate(sparams::DummyParameters, inputs::Vector{Any}; verbose::Bool, kwargs::Base.Pairs{Symbol, Int64, Tuple{Symbol}, NamedTuple{(:subdir,), Tuple{Int64}}}) at In[3]:23\" role=\"graphics-symbol\" aria-roledescription=\"rect mark\" d=\"M633.76,285.33333333333337h0.14400000000000546v8h-0.14400000000000546Z\" fill=\"#e45756\" fill-opacity=\"1\" stroke=\"#505050\" stroke-width=\"0\"/><path aria-label=\"x1: 3962; x2: 4689.9; level: 10; level2: 10.9; status: Default; sf: bayesian_safety_validation(sparams::DummyParameters, models::Vector{OperationalParameters}; gp::Nothing, T::Int64, λ::Float64, seed::Int64, initialize_system::Bool, reset_system::Bool, show_acquisition_plots::Bool, show_plots::Bool, show_combined_plot::Bool, show_tight_combined_plot::Bool, hide_model_after_first::Bool, only_plot_last::Bool, latex_labels::Bool, show_alert::Bool, acquisitions_to_run::Vector{Int64}, probability_valued_system::Bool, skip_if_no_failures::Bool, save_plots::Bool, save_plots_svg::Bool, plots_dir::String, samples_per_batch::Int64, single_failure_mode::Bool, refit_every_point::Bool, input_discretization_steps::Int64, p_estimate_discretization_steps::Int64, match_original::Bool, kwargs::Base.Pairs{Symbol, Union{}, Tuple{}, NamedTuple{(), Tuple{}}}) at bayesian_safety_validation.jl:211\" role=\"graphics-symbol\" aria-roledescription=\"rect mark\" d=\"M633.92,303.1111111111111h116.46399999999994v8.000000000000057h-116.46399999999994Z\" fill=\"#4c78a8\" fill-opacity=\"1\" stroke=\"#505050\" stroke-width=\"0\"/><path aria-label=\"x1: 3962; x2: 4689.9; level: 11; level2: 11.9; status: Runtime dispatch; sf: macro expansion at logging.jl:360 [inlined]\" role=\"graphics-symbol\" aria-roledescription=\"rect mark\" d=\"M633.92,294.22222222222223h116.46399999999994v8h-116.46399999999994Z\" fill=\"#e45756\" fill-opacity=\"1\" stroke=\"#505050\" stroke-width=\"0\"/><path aria-label=\"x1: 3962; x2: 3962.9; level: 12; level2: 12.9; status: Default; sf: string(::String, ::Float64, ::Vararg{Any}) at io.jl:185\" role=\"graphics-symbol\" aria-roledescription=\"rect mark\" d=\"M633.92,285.33333333333337h0.14400000000011914v8h-0.14400000000011914Z\" fill=\"#4c78a8\" fill-opacity=\"1\" stroke=\"#505050\" stroke-width=\"0\"/><path aria-label=\"x1: 3962; x2: 3962.9; level: 13; level2: 13.9; status: Default; sf: print_to_string(::String, ::Vararg{Any}) at io.jl:133\" role=\"graphics-symbol\" aria-roledescription=\"rect mark\" d=\"M633.92,276.44444444444446h0.14400000000011914v8h-0.14400000000011914Z\" fill=\"#4c78a8\" fill-opacity=\"1\" stroke=\"#505050\" stroke-width=\"0\"/><path aria-label=\"x1: 3963; x2: 4689.9; level: 12; level2: 12.9; status: Default; sf: kwcall(::NamedTuple{(:num_steps,), Tuple{Int64}}, ::typeof(p_estimate), gp::GaussianProcesses.GPE{Matrix{Float64}, Vector{Float64}, GaussianProcesses.MeanZero, GaussianProcesses.Mat12Iso{Float64}, GaussianProcesses.FullCovariance, GaussianProcesses.IsotropicData{Matrix{Float64}}, PDMats.PDMat{Float64, Matrix{Float64}}, GaussianProcesses.Scalar{Float64}}, models::Vector{OperationalParameters}) at likelihood_weighting.jl:4\" role=\"graphics-symbol\" aria-roledescription=\"rect mark\" d=\"M634.0799999999999,285.33333333333337h116.30399999999997v8h-116.30399999999997Z\" fill=\"#4c78a8\" fill-opacity=\"1\" stroke=\"#505050\" stroke-width=\"0\"/><path aria-label=\"x1: 3963; x2: 3963.9; level: 13; level2: 13.9; status: Default; sf: p_estimate(gp::GaussianProcesses.GPE{Matrix{Float64}, Vector{Float64}, GaussianProcesses.MeanZero, GaussianProcesses.Mat12Iso{Float64}, GaussianProcesses.FullCovariance, GaussianProcesses.IsotropicData{Matrix{Float64}}, PDMats.PDMat{Float64, Matrix{Float64}}, GaussianProcesses.Scalar{Float64}}, models::Vector{OperationalParameters}; num_steps::Int64, m::Vector{Int64}, grid::Bool) at likelihood_weighting.jl:6\" role=\"graphics-symbol\" aria-roledescription=\"rect mark\" d=\"M634.0799999999999,276.44444444444446h0.14400000000011914v8h-0.14400000000011914Z\" fill=\"#4c78a8\" fill-opacity=\"1\" stroke=\"#505050\" stroke-width=\"0\"/><path aria-label=\"x1: 3963; x2: 3963.9; level: 14; level2: 14.9; status: Runtime dispatch; sf: make_broadcastable_grid(models::Vector{OperationalParameters}, m::Vector{Int64}) at surrogate_model.jl:63\" role=\"graphics-symbol\" aria-roledescription=\"rect mark\" d=\"M634.0799999999999,267.55555555555554h0.14400000000011914v8h-0.14400000000011914Z\" fill=\"#e45756\" fill-opacity=\"1\" stroke=\"#505050\" stroke-width=\"0\"/><path aria-label=\"x1: 3963; x2: 3963.9; level: 15; level2: 15.9; status: Default; sf: make_broadcastable_grid(inputs::Vector{Vector{Float64}}) at surrogate_model.jl:67\" role=\"graphics-symbol\" aria-roledescription=\"rect mark\" d=\"M634.0799999999999,258.6666666666667h0.14400000000011914v8h-0.14400000000011914Z\" fill=\"#4c78a8\" fill-opacity=\"1\" stroke=\"#505050\" stroke-width=\"0\"/><path aria-label=\"x1: 3963; x2: 3963.9; level: 16; level2: 16.9; status: Default; sf: collect(itr::Base.Generator{Base.Iterators.Enumerate{Vector{Vector{Float64}}}, BayesianSafetyValidation.var&quot;#34#35&quot;{Vector{Vector{Float64}}}}) at array.jl:782\" role=\"graphics-symbol\" aria-roledescription=\"rect mark\" d=\"M634.0799999999999,249.7777777777778h0.14400000000011914v7.999999999999972h-0.14400000000011914Z\" fill=\"#4c78a8\" fill-opacity=\"1\" stroke=\"#505050\" stroke-width=\"0\"/><path aria-label=\"x1: 3963; x2: 3963.9; level: 17; level2: 17.9; status: Default; sf: iterate at generator.jl:47 [inlined]\" role=\"graphics-symbol\" aria-roledescription=\"rect mark\" d=\"M634.0799999999999,240.88888888888889h0.14400000000011914v8h-0.14400000000011914Z\" fill=\"#4c78a8\" fill-opacity=\"1\" stroke=\"#505050\" stroke-width=\"0\"/><path aria-label=\"x1: 3963; x2: 3963.9; level: 18; level2: 18.9; status: Runtime dispatch; sf: (::BayesianSafetyValidation.var&quot;#34#35&quot;{Vector{Vector{Float64}}})(::Tuple{Int64, Vector{Float64}}) at array.jl:0\" role=\"graphics-symbol\" aria-roledescription=\"rect mark\" d=\"M634.0799999999999,232.00000000000003h0.14400000000011914v7.999999999999972h-0.14400000000011914Z\" fill=\"#e45756\" fill-opacity=\"1\" stroke=\"#505050\" stroke-width=\"0\"/><path aria-label=\"x1: 3963; x2: 3963.9; level: 19; level2: 19.9; status: Runtime dispatch; sf: vect(::Function, ::Vararg{Any}) at array.jl:144\" role=\"graphics-symbol\" aria-roledescription=\"rect mark\" d=\"M634.0799999999999,223.11111111111111h0.14400000000011914v7.999999999999972h-0.14400000000011914Z\" fill=\"#e45756\" fill-opacity=\"1\" stroke=\"#505050\" stroke-width=\"0\"/><path aria-label=\"x1: 3963; x2: 3963.9; level: 20; level2: 20.9; status: Default; sf: promote_typeof(::Function, ::Int64, ::Vararg{Int64}) at promotion.jl:361\" role=\"graphics-symbol\" aria-roledescription=\"rect mark\" d=\"M634.0799999999999,214.22222222222223h0.14400000000011914v8h-0.14400000000011914Z\" fill=\"#4c78a8\" fill-opacity=\"1\" stroke=\"#505050\" stroke-width=\"0\"/><path aria-label=\"x1: 3963; x2: 3963.9; level: 21; level2: 21.9; status: Default; sf: promote_type at promotion.jl:307 [inlined]\" role=\"graphics-symbol\" aria-roledescription=\"rect mark\" d=\"M634.0799999999999,205.33333333333337h0.14400000000011914v7.999999999999972h-0.14400000000011914Z\" fill=\"#4c78a8\" fill-opacity=\"1\" stroke=\"#505050\" stroke-width=\"0\"/><path aria-label=\"x1: 3963; x2: 3963.9; level: 22; level2: 22.9; status: Runtime dispatch; sf: promote_result at promotion.jl:324 [inlined]\" role=\"graphics-symbol\" aria-roledescription=\"rect mark\" d=\"M634.0799999999999,196.44444444444446h0.14400000000011914v7.999999999999972h-0.14400000000011914Z\" fill=\"#e45756\" fill-opacity=\"1\" stroke=\"#505050\" stroke-width=\"0\"/><path aria-label=\"x1: 3964; x2: 4206.9; level: 13; level2: 13.9; status: Runtime dispatch; sf: p_estimate(gp::GaussianProcesses.GPE{Matrix{Float64}, Vector{Float64}, GaussianProcesses.MeanZero, GaussianProcesses.Mat12Iso{Float64}, GaussianProcesses.FullCovariance, GaussianProcesses.IsotropicData{Matrix{Float64}}, PDMats.PDMat{Float64, Matrix{Float64}}, GaussianProcesses.Scalar{Float64}}, models::Vector{OperationalParameters}; num_steps::Int64, m::Vector{Int64}, grid::Bool) at likelihood_weighting.jl:7\" role=\"graphics-symbol\" aria-roledescription=\"rect mark\" d=\"M634.24,276.44444444444446h38.86399999999992v8h-38.86399999999992Z\" fill=\"#e45756\" fill-opacity=\"1\" stroke=\"#505050\" stroke-width=\"0\"/><path aria-label=\"x1: 3964; x2: 4206.9; level: 14; level2: 14.9; status: Default; sf: broadcast(::BayesianSafetyValidation.var&quot;#59#67&quot;{Vector{OperationalParameters}}, ::Array{Float64, 3}, ::Array{Float64, 3}, ::Array{Float64, 3}) at broadcast.jl:811\" role=\"graphics-symbol\" aria-roledescription=\"rect mark\" d=\"M634.24,267.55555555555554h38.86399999999992v8h-38.86399999999992Z\" fill=\"#4c78a8\" fill-opacity=\"1\" stroke=\"#505050\" stroke-width=\"0\"/><path aria-label=\"x1: 3964; x2: 4206.9; level: 15; level2: 15.9; status: Default; sf: materialize at broadcast.jl:873 [inlined]\" role=\"graphics-symbol\" aria-roledescription=\"rect mark\" d=\"M634.24,258.6666666666667h38.86399999999992v8h-38.86399999999992Z\" fill=\"#4c78a8\" fill-opacity=\"1\" stroke=\"#505050\" stroke-width=\"0\"/><path aria-label=\"x1: 3964; x2: 4206.9; level: 16; level2: 16.9; status: Runtime dispatch; sf: copy at broadcast.jl:920 [inlined]\" role=\"graphics-symbol\" aria-roledescription=\"rect mark\" d=\"M634.24,249.7777777777778h38.86399999999992v7.999999999999972h-38.86399999999992Z\" fill=\"#e45756\" fill-opacity=\"1\" stroke=\"#505050\" stroke-width=\"0\"/><path aria-label=\"x1: 3964; x2: 4206.9; level: 17; level2: 17.9; status: Default; sf: copyto_nonleaf!(dest::Array{Float64, 3}, bc::Base.Broadcast.Broadcasted{Base.Broadcast.DefaultArrayStyle{3}, Tuple{Base.OneTo{Int64}, Base.OneTo{Int64}, Base.OneTo{Int64}}, BayesianSafetyValidation.var&quot;#59#67&quot;{Vector{OperationalParameters}}, Tuple{Base.Broadcast.Extruded{Array{Float64, 3}, Tuple{Bool, Bool, Bool}, Tuple{Int64, Int64, Int64}}, Base.Broadcast.Extruded{Array{Float64, 3}, Tuple{Bool, Bool, Bool}, Tuple{Int64, Int64, Int64}}, Base.Broadcast.Extruded{Array{Float64, 3}, Tuple{Bool, Bool, Bool}, Tuple{Int64, Int64, Int64}}}}, iter::CartesianIndices{3, Tuple{Base.OneTo{Int64}, Base.OneTo{Int64}, Base.OneTo{Int64}}}, state::CartesianIndex{3}, count::Int64) at broadcast.jl:1068\" role=\"graphics-symbol\" aria-roledescription=\"rect mark\" d=\"M634.24,240.88888888888889h38.86399999999992v8h-38.86399999999992Z\" fill=\"#4c78a8\" fill-opacity=\"1\" stroke=\"#505050\" stroke-width=\"0\"/><path aria-label=\"x1: 3964; x2: 4206.9; level: 18; level2: 18.9; status: Default; sf: getindex at broadcast.jl:610 [inlined]\" role=\"graphics-symbol\" aria-roledescription=\"rect mark\" d=\"M634.24,232.00000000000003h38.86399999999992v7.999999999999972h-38.86399999999992Z\" fill=\"#4c78a8\" fill-opacity=\"1\" stroke=\"#505050\" stroke-width=\"0\"/><path aria-label=\"x1: 3964; x2: 3965.9; level: 19; level2: 19.9; status: Default; sf: _broadcast_getindex at broadcast.jl:655 [inlined]\" role=\"graphics-symbol\" aria-roledescription=\"rect mark\" d=\"M634.24,223.11111111111111h0.3039999999999736v7.999999999999972h-0.3039999999999736Z\" fill=\"#4c78a8\" fill-opacity=\"1\" stroke=\"#505050\" stroke-width=\"0\"/><path aria-label=\"x1: 3964; x2: 3965.9; level: 20; level2: 20.9; status: Default; sf: _getindex at broadcast.jl:679 [inlined]\" role=\"graphics-symbol\" aria-roledescription=\"rect mark\" d=\"M634.24,214.22222222222223h0.3039999999999736v8h-0.3039999999999736Z\" fill=\"#4c78a8\" fill-opacity=\"1\" stroke=\"#505050\" stroke-width=\"0\"/><path aria-label=\"x1: 3964; x2: 3965.9; level: 21; level2: 21.9; status: Default; sf: _getindex at broadcast.jl:679 [inlined]\" role=\"graphics-symbol\" aria-roledescription=\"rect mark\" d=\"M634.24,205.33333333333337h0.3039999999999736v7.999999999999972h-0.3039999999999736Z\" fill=\"#4c78a8\" fill-opacity=\"1\" stroke=\"#505050\" stroke-width=\"0\"/><path aria-label=\"x1: 3964; x2: 3965.9; level: 22; level2: 22.9; status: Default; sf: _broadcast_getindex at broadcast.jl:649 [inlined]\" role=\"graphics-symbol\" aria-roledescription=\"rect mark\" d=\"M634.24,196.44444444444446h0.3039999999999736v7.999999999999972h-0.3039999999999736Z\" fill=\"#4c78a8\" fill-opacity=\"1\" stroke=\"#505050\" stroke-width=\"0\"/><path aria-label=\"x1: 3964; x2: 3965.9; level: 23; level2: 23.9; status: Default; sf: getindex at multidimensional.jl:668 [inlined]\" role=\"graphics-symbol\" aria-roledescription=\"rect mark\" d=\"M634.24,187.55555555555557h0.3039999999999736v8h-0.3039999999999736Z\" fill=\"#4c78a8\" fill-opacity=\"1\" stroke=\"#505050\" stroke-width=\"0\"/><path aria-label=\"x1: 3964; x2: 3965.9; level: 24; level2: 24.9; status: Default; sf: getindex at essentials.jl:14 [inlined]\" role=\"graphics-symbol\" aria-roledescription=\"rect mark\" d=\"M634.24,178.66666666666666h0.3039999999999736v8h-0.3039999999999736Z\" fill=\"#4c78a8\" fill-opacity=\"1\" stroke=\"#505050\" stroke-width=\"0\"/><path aria-label=\"x1: 3966; x2: 4206.9; level: 19; level2: 19.9; status: Default; sf: _broadcast_getindex at broadcast.jl:656 [inlined]\" role=\"graphics-symbol\" aria-roledescription=\"rect mark\" d=\"M634.5600000000001,223.11111111111111h38.54399999999987v7.999999999999972h-38.54399999999987Z\" fill=\"#4c78a8\" fill-opacity=\"1\" stroke=\"#505050\" stroke-width=\"0\"/><path aria-label=\"x1: 3966; x2: 4206.9; level: 20; level2: 20.9; status: Garbage collection; sf: _broadcast_getindex_evalf at broadcast.jl:683 [inlined]\" role=\"graphics-symbol\" aria-roledescription=\"rect mark\" d=\"M634.5600000000001,214.22222222222223h38.54399999999987v8h-38.54399999999987Z\" fill=\"#f58518\" fill-opacity=\"1\" stroke=\"#505050\" stroke-width=\"0\"/><path aria-label=\"x1: 3971; x2: 4206.9; level: 21; level2: 21.9; status: Garbage collection; sf: (::BayesianSafetyValidation.var&quot;#59#67&quot;{Vector{OperationalParameters}})(::Float64, ::Vararg{Float64}) at likelihood_weighting.jl:7\" role=\"graphics-symbol\" aria-roledescription=\"rect mark\" d=\"M635.36,205.33333333333337h37.743999999999915v7.999999999999972h-37.743999999999915Z\" fill=\"#f58518\" fill-opacity=\"1\" stroke=\"#505050\" stroke-width=\"0\"/><path aria-label=\"x1: 4006; x2: 4006.9; level: 22; level2: 22.9; status: Default; sf: prod(a::Vector{Float64}) at reducedim.jl:994\" role=\"graphics-symbol\" aria-roledescription=\"rect mark\" d=\"M640.96,196.44444444444446h0.14400000000000546v7.999999999999972h-0.14400000000000546Z\" fill=\"#4c78a8\" fill-opacity=\"1\" stroke=\"#505050\" stroke-width=\"0\"/><path aria-label=\"x1: 4007; x2: 4010.9; level: 22; level2: 22.9; status: Default; sf: collect(itr::Base.Generator{Base.Iterators.Zip{Tuple{Tuple{Float64, Float64, Float64}, Vector{OperationalParameters}}}, BayesianSafetyValidation.var&quot;#60#68&quot;}) at array.jl:782\" role=\"graphics-symbol\" aria-roledescription=\"rect mark\" d=\"M641.12,196.44444444444446h0.6240000000000236v7.999999999999972h-0.6240000000000236Z\" fill=\"#4c78a8\" fill-opacity=\"1\" stroke=\"#505050\" stroke-width=\"0\"/><path aria-label=\"x1: 4007; x2: 4010.9; level: 23; level2: 23.9; status: Default; sf: iterate at generator.jl:47 [inlined]\" role=\"graphics-symbol\" aria-roledescription=\"rect mark\" d=\"M641.12,187.55555555555557h0.6240000000000236v8h-0.6240000000000236Z\" fill=\"#4c78a8\" fill-opacity=\"1\" stroke=\"#505050\" stroke-width=\"0\"/><path aria-label=\"x1: 4007; x2: 4010.9; level: 24; level2: 24.9; status: Runtime dispatch; sf: (::BayesianSafetyValidation.var&quot;#60#68&quot;)(::Tuple{Float64, OperationalParameters}) at none:0\" role=\"graphics-symbol\" aria-roledescription=\"rect mark\" d=\"M641.12,178.66666666666666h0.6240000000000236v8h-0.6240000000000236Z\" fill=\"#e45756\" fill-opacity=\"1\" stroke=\"#505050\" stroke-width=\"0\"/><path aria-label=\"x1: 4007; x2: 4007.9; level: 25; level2: 25.9; status: Default; sf: indexed_iterate at tuple.jl:88 [inlined]\" role=\"graphics-symbol\" aria-roledescription=\"rect mark\" d=\"M641.12,169.7777777777778h0.14400000000000546v7.999999999999972h-0.14400000000000546Z\" fill=\"#4c78a8\" fill-opacity=\"1\" stroke=\"#505050\" stroke-width=\"0\"/><path aria-label=\"x1: 4007; x2: 4007.9; level: 26; level2: 26.9; status: Default; sf: indexed_iterate at tuple.jl:88 [inlined]\" role=\"graphics-symbol\" aria-roledescription=\"rect mark\" d=\"M641.12,160.8888888888889h0.14400000000000546v8h-0.14400000000000546Z\" fill=\"#4c78a8\" fill-opacity=\"1\" stroke=\"#505050\" stroke-width=\"0\"/><path aria-label=\"x1: 4008; x2: 4008.9; level: 25; level2: 25.9; status: Default; sf: pdf(d::Uniform{Float64}, x::Float64) at uniform.jl:78\" role=\"graphics-symbol\" aria-roledescription=\"rect mark\" d=\"M641.28,169.7777777777778h0.14400000000011914v7.999999999999972h-0.14400000000011914Z\" fill=\"#4c78a8\" fill-opacity=\"1\" stroke=\"#505050\" stroke-width=\"0\"/><path aria-label=\"x1: 4011; x2: 4038.9; level: 22; level2: 22.9; status: Runtime dispatch; sf: collect(itr::Base.Generator{Base.Iterators.Zip{Tuple{Tuple{Float64, Float64, Float64}, Vector{OperationalParameters}}}, BayesianSafetyValidation.var&quot;#60#68&quot;}) at array.jl:787\" role=\"graphics-symbol\" aria-roledescription=\"rect mark\" d=\"M641.76,196.44444444444446h4.4640000000000555v7.999999999999972h-4.4640000000000555Z\" fill=\"#e45756\" fill-opacity=\"1\" stroke=\"#505050\" stroke-width=\"0\"/><path aria-label=\"x1: 4033; x2: 4038.9; level: 23; level2: 23.9; status: Default; sf: _array_for(#unused#::Type{Float64}, #unused#::Base.HasLength, len::Int64) at array.jl:670\" role=\"graphics-symbol\" aria-roledescription=\"rect mark\" d=\"M645.28,187.55555555555557h0.9440000000000737v8h-0.9440000000000737Z\" fill=\"#4c78a8\" fill-opacity=\"1\" stroke=\"#505050\" stroke-width=\"0\"/><path aria-label=\"x1: 4033; x2: 4038.9; level: 24; level2: 24.9; status: Garbage collection; sf: Array at boot.jl:477 [inlined]\" role=\"graphics-symbol\" aria-roledescription=\"rect mark\" d=\"M645.28,178.66666666666666h0.9440000000000737v8h-0.9440000000000737Z\" fill=\"#f58518\" fill-opacity=\"1\" stroke=\"#505050\" stroke-width=\"0\"/><path aria-label=\"x1: 4039; x2: 4192.9; level: 22; level2: 22.9; status: Garbage collection; sf: collect(itr::Base.Generator{Base.Iterators.Zip{Tuple{Tuple{Float64, Float64, Float64}, Vector{OperationalParameters}}}, BayesianSafetyValidation.var&quot;#60#68&quot;}) at array.jl:792\" role=\"graphics-symbol\" aria-roledescription=\"rect mark\" d=\"M646.24,196.44444444444446h24.62399999999991v7.999999999999972h-24.62399999999991Z\" fill=\"#f58518\" fill-opacity=\"1\" stroke=\"#505050\" stroke-width=\"0\"/><path aria-label=\"x1: 4041; x2: 4041.9; level: 23; level2: 23.9; status: Default; sf: collect_to!(dest::Vector{Float64}, itr::Base.Generator{Base.Iterators.Zip{Tuple{Tuple{Float64, Float64, Float64}, Vector{OperationalParameters}}}, BayesianSafetyValidation.var&quot;#60#68&quot;}, offs::Int64, st::Tuple{Int64, Int64}) at array.jl:835\" role=\"graphics-symbol\" aria-roledescription=\"rect mark\" d=\"M646.5600000000001,187.55555555555557h0.14399999999989177v8h-0.14399999999989177Z\" fill=\"#4c78a8\" fill-opacity=\"1\" stroke=\"#505050\" stroke-width=\"0\"/><path aria-label=\"x1: 4042; x2: 4192.9; level: 23; level2: 23.9; status: Default; sf: collect_to_with_first!(dest::Vector{Float64}, v1::Float64, itr::Base.Generator{Base.Iterators.Zip{Tuple{Tuple{Float64, Float64, Float64}, Vector{OperationalParameters}}}, BayesianSafetyValidation.var&quot;#60#68&quot;}, st::Tuple{Int64, Int64}) at array.jl:818\" role=\"graphics-symbol\" aria-roledescription=\"rect mark\" d=\"M646.72,187.55555555555557h24.14399999999989v8h-24.14399999999989Z\" fill=\"#4c78a8\" fill-opacity=\"1\" stroke=\"#505050\" stroke-width=\"0\"/><path aria-label=\"x1: 4042; x2: 4192.9; level: 24; level2: 24.9; status: Default; sf: collect_to!(dest::Vector{Float64}, itr::Base.Generator{Base.Iterators.Zip{Tuple{Tuple{Float64, Float64, Float64}, Vector{OperationalParameters}}}, BayesianSafetyValidation.var&quot;#60#68&quot;}, offs::Int64, st::Tuple{Int64, Int64}) at array.jl:840\" role=\"graphics-symbol\" aria-roledescription=\"rect mark\" d=\"M646.72,178.66666666666666h24.14399999999989v8h-24.14399999999989Z\" fill=\"#4c78a8\" fill-opacity=\"1\" stroke=\"#505050\" stroke-width=\"0\"/><path aria-label=\"x1: 4042; x2: 4192.9; level: 25; level2: 25.9; status: Default; sf: iterate at generator.jl:47 [inlined]\" role=\"graphics-symbol\" aria-roledescription=\"rect mark\" d=\"M646.72,169.7777777777778h24.14399999999989v7.999999999999972h-24.14399999999989Z\" fill=\"#4c78a8\" fill-opacity=\"1\" stroke=\"#505050\" stroke-width=\"0\"/><path aria-label=\"x1: 4042; x2: 4192.9; level: 26; level2: 26.9; status: Garbage collection; sf: (::BayesianSafetyValidation.var&quot;#60#68&quot;)(::Tuple{Float64, OperationalParameters}) at none:0\" role=\"graphics-symbol\" aria-roledescription=\"rect mark\" d=\"M646.72,160.8888888888889h24.14399999999989v8h-24.14399999999989Z\" fill=\"#f58518\" fill-opacity=\"1\" stroke=\"#505050\" stroke-width=\"0\"/><path aria-label=\"x1: 4185; x2: 4186.9; level: 27; level2: 27.9; status: Default; sf: pdf(d::Uniform{Float64}, x::Float64) at uniform.jl:78\" role=\"graphics-symbol\" aria-roledescription=\"rect mark\" d=\"M669.6,152h0.30399999999985994v8h-0.30399999999985994Z\" fill=\"#4c78a8\" fill-opacity=\"1\" stroke=\"#505050\" stroke-width=\"0\"/><path aria-label=\"x1: 4193; x2: 4193.9; level: 22; level2: 22.9; status: Default; sf: (::BayesianSafetyValidation.var&quot;#60#68&quot;)(::Tuple{Float64, OperationalParameters}) at none:0\" role=\"graphics-symbol\" aria-roledescription=\"rect mark\" d=\"M670.88,196.44444444444446h0.14400000000000546v7.999999999999972h-0.14400000000000546Z\" fill=\"#4c78a8\" fill-opacity=\"1\" stroke=\"#505050\" stroke-width=\"0\"/><path aria-label=\"x1: 4207; x2: 4689.9; level: 13; level2: 13.9; status: Runtime dispatch; sf: p_estimate(gp::GaussianProcesses.GPE{Matrix{Float64}, Vector{Float64}, GaussianProcesses.MeanZero, GaussianProcesses.Mat12Iso{Float64}, GaussianProcesses.FullCovariance, GaussianProcesses.IsotropicData{Matrix{Float64}}, PDMats.PDMat{Float64, Matrix{Float64}}, GaussianProcesses.Scalar{Float64}}, models::Vector{OperationalParameters}; num_steps::Int64, m::Vector{Int64}, grid::Bool) at likelihood_weighting.jl:15\" role=\"graphics-symbol\" aria-roledescription=\"rect mark\" d=\"M673.12,276.44444444444446h77.2639999999999v8h-77.2639999999999Z\" fill=\"#e45756\" fill-opacity=\"1\" stroke=\"#505050\" stroke-width=\"0\"/><path aria-label=\"x1: 4207; x2: 4689.9; level: 14; level2: 14.9; status: Default; sf: broadcast(::BayesianSafetyValidation.var&quot;#65#73&quot;{GaussianProcesses.GPE{Matrix{Float64}, Vector{Float64}, GaussianProcesses.MeanZero, GaussianProcesses.Mat12Iso{Float64}, GaussianProcesses.FullCovariance, GaussianProcesses.IsotropicData{Matrix{Float64}}, PDMats.PDMat{Float64, Matrix{Float64}}, GaussianProcesses.Scalar{Float64}}}, ::Array{Float64, 3}, ::Array{Float64, 3}, ::Array{Float64, 3}) at broadcast.jl:811\" role=\"graphics-symbol\" aria-roledescription=\"rect mark\" d=\"M673.12,267.55555555555554h77.2639999999999v8h-77.2639999999999Z\" fill=\"#4c78a8\" fill-opacity=\"1\" stroke=\"#505050\" stroke-width=\"0\"/><path aria-label=\"x1: 4207; x2: 4689.9; level: 15; level2: 15.9; status: Default; sf: materialize at broadcast.jl:873 [inlined]\" role=\"graphics-symbol\" aria-roledescription=\"rect mark\" d=\"M673.12,258.6666666666667h77.2639999999999v8h-77.2639999999999Z\" fill=\"#4c78a8\" fill-opacity=\"1\" stroke=\"#505050\" stroke-width=\"0\"/><path aria-label=\"x1: 4207; x2: 4689.9; level: 16; level2: 16.9; status: Default; sf: copy at broadcast.jl:920 [inlined]\" role=\"graphics-symbol\" aria-roledescription=\"rect mark\" d=\"M673.12,249.7777777777778h77.2639999999999v7.999999999999972h-77.2639999999999Z\" fill=\"#4c78a8\" fill-opacity=\"1\" stroke=\"#505050\" stroke-width=\"0\"/><path aria-label=\"x1: 4207; x2: 4682.9; level: 17; level2: 17.9; status: Default; sf: copyto_nonleaf!(dest::BitArray{3}, bc::Base.Broadcast.Broadcasted{Base.Broadcast.DefaultArrayStyle{3}, Tuple{Base.OneTo{Int64}, Base.OneTo{Int64}, Base.OneTo{Int64}}, BayesianSafetyValidation.var&quot;#65#73&quot;{GaussianProcesses.GPE{Matrix{Float64}, Vector{Float64}, GaussianProcesses.MeanZero, GaussianProcesses.Mat12Iso{Float64}, GaussianProcesses.FullCovariance, GaussianProcesses.IsotropicData{Matrix{Float64}}, PDMats.PDMat{Float64, Matrix{Float64}}, GaussianProcesses.Scalar{Float64}}}, Tuple{Base.Broadcast.Extruded{Array{Float64, 3}, Tuple{Bool, Bool, Bool}, Tuple{Int64, Int64, Int64}}, Base.Broadcast.Extruded{Array{Float64, 3}, Tuple{Bool, Bool, Bool}, Tuple{Int64, Int64, Int64}}, Base.Broadcast.Extruded{Array{Float64, 3}, Tuple{Bool, Bool, Bool}, Tuple{Int64, Int64, Int64}}}}, iter::CartesianIndices{3, Tuple{Base.OneTo{Int64}, Base.OneTo{Int64}, Base.OneTo{Int64}}}, state::CartesianIndex{3}, count::Int64) at broadcast.jl:1068\" role=\"graphics-symbol\" aria-roledescription=\"rect mark\" d=\"M673.12,240.88888888888889h76.144v8h-76.144Z\" fill=\"#4c78a8\" fill-opacity=\"1\" stroke=\"#505050\" stroke-width=\"0\"/><path aria-label=\"x1: 4207; x2: 4682.9; level: 18; level2: 18.9; status: Default; sf: getindex at broadcast.jl:610 [inlined]\" role=\"graphics-symbol\" aria-roledescription=\"rect mark\" d=\"M673.12,232.00000000000003h76.144v7.999999999999972h-76.144Z\" fill=\"#4c78a8\" fill-opacity=\"1\" stroke=\"#505050\" stroke-width=\"0\"/><path aria-label=\"x1: 4207; x2: 4682.9; level: 19; level2: 19.9; status: Default; sf: _broadcast_getindex at broadcast.jl:656 [inlined]\" role=\"graphics-symbol\" aria-roledescription=\"rect mark\" d=\"M673.12,223.11111111111111h76.144v7.999999999999972h-76.144Z\" fill=\"#4c78a8\" fill-opacity=\"1\" stroke=\"#505050\" stroke-width=\"0\"/><path aria-label=\"x1: 4207; x2: 4682.9; level: 20; level2: 20.9; status: Garbage collection; sf: _broadcast_getindex_evalf at broadcast.jl:683 [inlined]\" role=\"graphics-symbol\" aria-roledescription=\"rect mark\" d=\"M673.12,214.22222222222223h76.144v8h-76.144Z\" fill=\"#f58518\" fill-opacity=\"1\" stroke=\"#505050\" stroke-width=\"0\"/><path aria-label=\"x1: 4209; x2: 4680.9; level: 21; level2: 21.9; status: Runtime dispatch; sf: (::BayesianSafetyValidation.var&quot;#65#73&quot;{GaussianProcesses.GPE{Matrix{Float64}, Vector{Float64}, GaussianProcesses.MeanZero, GaussianProcesses.Mat12Iso{Float64}, GaussianProcesses.FullCovariance, GaussianProcesses.IsotropicData{Matrix{Float64}}, PDMats.PDMat{Float64, Matrix{Float64}}, GaussianProcesses.Scalar{Float64}}})(::Float64, ::Vararg{Float64}) at likelihood_weighting.jl:15\" role=\"graphics-symbol\" aria-roledescription=\"rect mark\" d=\"M673.4399999999999,205.33333333333337h75.50400000000002v7.999999999999972h-75.50400000000002Z\" fill=\"#e45756\" fill-opacity=\"1\" stroke=\"#505050\" stroke-width=\"0\"/><path aria-label=\"x1: 4255; x2: 4260.9; level: 22; level2: 22.9; status: Default; sf: vect(::Float64, ::Vararg{Float64}) at array.jl:126\" role=\"graphics-symbol\" aria-roledescription=\"rect mark\" d=\"M680.8,196.44444444444446h0.94399999999996v7.999999999999972h-0.94399999999996Z\" fill=\"#4c78a8\" fill-opacity=\"1\" stroke=\"#505050\" stroke-width=\"0\"/><path aria-label=\"x1: 4255; x2: 4260.9; level: 23; level2: 23.9; status: Default; sf: _array_for at array.jl:674 [inlined]\" role=\"graphics-symbol\" aria-roledescription=\"rect mark\" d=\"M680.8,187.55555555555557h0.94399999999996v8h-0.94399999999996Z\" fill=\"#4c78a8\" fill-opacity=\"1\" stroke=\"#505050\" stroke-width=\"0\"/><path aria-label=\"x1: 4255; x2: 4260.9; level: 24; level2: 24.9; status: Default; sf: _array_for at array.jl:671 [inlined]\" role=\"graphics-symbol\" aria-roledescription=\"rect mark\" d=\"M680.8,178.66666666666666h0.94399999999996v8h-0.94399999999996Z\" fill=\"#4c78a8\" fill-opacity=\"1\" stroke=\"#505050\" stroke-width=\"0\"/><path aria-label=\"x1: 4255; x2: 4260.9; level: 25; level2: 25.9; status: Default; sf: similar at abstractarray.jl:881 [inlined]\" role=\"graphics-symbol\" aria-roledescription=\"rect mark\" d=\"M680.8,169.7777777777778h0.94399999999996v7.999999999999972h-0.94399999999996Z\" fill=\"#4c78a8\" fill-opacity=\"1\" stroke=\"#505050\" stroke-width=\"0\"/><path aria-label=\"x1: 4255; x2: 4260.9; level: 26; level2: 26.9; status: Default; sf: similar at abstractarray.jl:882 [inlined]\" role=\"graphics-symbol\" aria-roledescription=\"rect mark\" d=\"M680.8,160.8888888888889h0.94399999999996v8h-0.94399999999996Z\" fill=\"#4c78a8\" fill-opacity=\"1\" stroke=\"#505050\" stroke-width=\"0\"/><path aria-label=\"x1: 4255; x2: 4260.9; level: 27; level2: 27.9; status: Default; sf: Array at boot.jl:486 [inlined]\" role=\"graphics-symbol\" aria-roledescription=\"rect mark\" d=\"M680.8,152h0.94399999999996v8h-0.94399999999996Z\" fill=\"#4c78a8\" fill-opacity=\"1\" stroke=\"#505050\" stroke-width=\"0\"/><path aria-label=\"x1: 4255; x2: 4260.9; level: 28; level2: 28.9; status: Garbage collection; sf: Array at boot.jl:477 [inlined]\" role=\"graphics-symbol\" aria-roledescription=\"rect mark\" d=\"M680.8,143.11111111111114h0.94399999999996v7.999999999999972h-0.94399999999996Z\" fill=\"#f58518\" fill-opacity=\"1\" stroke=\"#505050\" stroke-width=\"0\"/><path aria-label=\"x1: 4262; x2: 4679.9; level: 22; level2: 22.9; status: Runtime dispatch; sf: (::BayesianSafetyValidation.var&quot;#28#29&quot;)(gp::GaussianProcesses.GPE{Matrix{Float64}, Vector{Float64}, GaussianProcesses.MeanZero, GaussianProcesses.Mat12Iso{Float64}, GaussianProcesses.FullCovariance, GaussianProcesses.IsotropicData{Matrix{Float64}}, PDMats.PDMat{Float64, Matrix{Float64}}, GaussianProcesses.Scalar{Float64}}, x::Vector{Float64}) at surrogate_model.jl:51\" role=\"graphics-symbol\" aria-roledescription=\"rect mark\" d=\"M681.9200000000001,196.44444444444446h66.86399999999992v7.999999999999972h-66.86399999999992Z\" fill=\"#e45756\" fill-opacity=\"1\" stroke=\"#505050\" stroke-width=\"0\"/><path aria-label=\"x1: 4266; x2: 4678.9; level: 23; level2: 23.9; status: Runtime dispatch; sf: (::BayesianSafetyValidation.var&quot;#24#25&quot;)(gp::GaussianProcesses.GPE{Matrix{Float64}, Vector{Float64}, GaussianProcesses.MeanZero, GaussianProcesses.Mat12Iso{Float64}, GaussianProcesses.FullCovariance, GaussianProcesses.IsotropicData{Matrix{Float64}}, PDMats.PDMat{Float64, Matrix{Float64}}, GaussianProcesses.Scalar{Float64}}, x::Vector{Float64}) at surrogate_model.jl:39\" role=\"graphics-symbol\" aria-roledescription=\"rect mark\" d=\"M682.56,187.55555555555557h66.06399999999996v8h-66.06399999999996Z\" fill=\"#e45756\" fill-opacity=\"1\" stroke=\"#505050\" stroke-width=\"0\"/><path aria-label=\"x1: 4301; x2: 4303.9; level: 24; level2: 24.9; status: Default; sf: getindex(t::Tuple, i::Int64) at tuple.jl:29\" role=\"graphics-symbol\" aria-roledescription=\"rect mark\" d=\"M688.16,178.66666666666666h0.4639999999999418v8h-0.4639999999999418Z\" fill=\"#4c78a8\" fill-opacity=\"1\" stroke=\"#505050\" stroke-width=\"0\"/><path aria-label=\"x1: 4305; x2: 4671.9; level: 24; level2: 24.9; status: Default; sf: (::BayesianSafetyValidation.var&quot;#20#22&quot;)(gp::GaussianProcesses.GPE{Matrix{Float64}, Vector{Float64}, GaussianProcesses.MeanZero, GaussianProcesses.Mat12Iso{Float64}, GaussianProcesses.FullCovariance, GaussianProcesses.IsotropicData{Matrix{Float64}}, PDMats.PDMat{Float64, Matrix{Float64}}, GaussianProcesses.Scalar{Float64}}, x::Vector{Float64}) at surrogate_model.jl:33\" role=\"graphics-symbol\" aria-roledescription=\"rect mark\" d=\"M688.8,178.66666666666666h58.70399999999995v8h-58.70399999999995Z\" fill=\"#4c78a8\" fill-opacity=\"1\" stroke=\"#505050\" stroke-width=\"0\"/><path aria-label=\"x1: 4305; x2: 4315.9; level: 25; level2: 25.9; status: Default; sf: map at tuple.jl:274 [inlined]\" role=\"graphics-symbol\" aria-roledescription=\"rect mark\" d=\"M688.8,169.7777777777778h1.7440000000000282v7.999999999999972h-1.7440000000000282Z\" fill=\"#4c78a8\" fill-opacity=\"1\" stroke=\"#505050\" stroke-width=\"0\"/><path aria-label=\"x1: 4305; x2: 4305.9; level: 26; level2: 26.9; status: Default; sf: getindex at tuple.jl:29 [inlined]\" role=\"graphics-symbol\" aria-roledescription=\"rect mark\" d=\"M688.8,160.8888888888889h0.14400000000000546v8h-0.14400000000000546Z\" fill=\"#4c78a8\" fill-opacity=\"1\" stroke=\"#505050\" stroke-width=\"0\"/><path aria-label=\"x1: 4306; x2: 4315.9; level: 26; level2: 26.9; status: Default; sf: (::BayesianSafetyValidation.var&quot;#21#23&quot;)(y::Vector{Float64}) at surrogate_model.jl:33\" role=\"graphics-symbol\" aria-roledescription=\"rect mark\" d=\"M688.9599999999999,160.8888888888889h1.58400000000006v8h-1.58400000000006Z\" fill=\"#4c78a8\" fill-opacity=\"1\" stroke=\"#505050\" stroke-width=\"0\"/><path aria-label=\"x1: 4306; x2: 4315.9; level: 27; level2: 27.9; status: Default; sf: materialize at broadcast.jl:873 [inlined]\" role=\"graphics-symbol\" aria-roledescription=\"rect mark\" d=\"M688.9599999999999,152h1.58400000000006v8h-1.58400000000006Z\" fill=\"#4c78a8\" fill-opacity=\"1\" stroke=\"#505050\" stroke-width=\"0\"/><path aria-label=\"x1: 4306; x2: 4315.9; level: 28; level2: 28.9; status: Default; sf: copy at broadcast.jl:898 [inlined]\" role=\"graphics-symbol\" aria-roledescription=\"rect mark\" d=\"M688.9599999999999,143.11111111111114h1.58400000000006v7.999999999999972h-1.58400000000006Z\" fill=\"#4c78a8\" fill-opacity=\"1\" stroke=\"#505050\" stroke-width=\"0\"/><path aria-label=\"x1: 4306; x2: 4309.9; level: 29; level2: 29.9; status: Default; sf: copyto! at broadcast.jl:926 [inlined]\" role=\"graphics-symbol\" aria-roledescription=\"rect mark\" d=\"M688.9599999999999,134.22222222222223h0.6240000000000236v7.999999999999972h-0.6240000000000236Z\" fill=\"#4c78a8\" fill-opacity=\"1\" stroke=\"#505050\" stroke-width=\"0\"/><path aria-label=\"x1: 4306; x2: 4306.9; level: 30; level2: 30.9; status: Default; sf: copyto! at broadcast.jl:970 [inlined]\" role=\"graphics-symbol\" aria-roledescription=\"rect mark\" d=\"M688.9599999999999,125.33333333333334h0.14400000000000546v8h-0.14400000000000546Z\" fill=\"#4c78a8\" fill-opacity=\"1\" stroke=\"#505050\" stroke-width=\"0\"/><path aria-label=\"x1: 4306; x2: 4306.9; level: 31; level2: 31.9; status: Default; sf: preprocess at broadcast.jl:953 [inlined]\" role=\"graphics-symbol\" aria-roledescription=\"rect mark\" d=\"M688.9599999999999,116.44444444444444h0.14400000000000546v8h-0.14400000000000546Z\" fill=\"#4c78a8\" fill-opacity=\"1\" stroke=\"#505050\" stroke-width=\"0\"/><path aria-label=\"x1: 4306; x2: 4306.9; level: 32; level2: 32.9; status: Default; sf: preprocess_args at broadcast.jl:957 [inlined]\" role=\"graphics-symbol\" aria-roledescription=\"rect mark\" d=\"M688.9599999999999,107.55555555555559h0.14400000000000546v7.999999999999957h-0.14400000000000546Z\" fill=\"#4c78a8\" fill-opacity=\"1\" stroke=\"#505050\" stroke-width=\"0\"/><path aria-label=\"x1: 4306; x2: 4306.9; level: 33; level2: 33.9; status: Default; sf: preprocess at broadcast.jl:954 [inlined]\" role=\"graphics-symbol\" aria-roledescription=\"rect mark\" d=\"M688.9599999999999,98.66666666666669h0.14400000000000546v8h-0.14400000000000546Z\" fill=\"#4c78a8\" fill-opacity=\"1\" stroke=\"#505050\" stroke-width=\"0\"/><path aria-label=\"x1: 4306; x2: 4306.9; level: 34; level2: 34.9; status: Default; sf: broadcast_unalias at broadcast.jl:947 [inlined]\" role=\"graphics-symbol\" aria-roledescription=\"rect mark\" d=\"M688.9599999999999,89.77777777777777h0.14400000000000546v8.000000000000014h-0.14400000000000546Z\" fill=\"#4c78a8\" fill-opacity=\"1\" stroke=\"#505050\" stroke-width=\"0\"/><path aria-label=\"x1: 4307; x2: 4309.9; level: 30; level2: 30.9; status: Default; sf: copyto! at broadcast.jl:973 [inlined]\" role=\"graphics-symbol\" aria-roledescription=\"rect mark\" d=\"M689.12,125.33333333333334h0.4639999999999418v8h-0.4639999999999418Z\" fill=\"#4c78a8\" fill-opacity=\"1\" stroke=\"#505050\" stroke-width=\"0\"/><path aria-label=\"x1: 4307; x2: 4307.9; level: 31; level2: 31.9; status: Default; sf: macro expansion at simdloop.jl:75 [inlined]\" role=\"graphics-symbol\" aria-roledescription=\"rect mark\" d=\"M689.12,116.44444444444444h0.14399999999989177v8h-0.14399999999989177Z\" fill=\"#4c78a8\" fill-opacity=\"1\" stroke=\"#505050\" stroke-width=\"0\"/><path aria-label=\"x1: 4307; x2: 4307.9; level: 32; level2: 32.9; status: Default; sf: &lt; at int.jl:83 [inlined]\" role=\"graphics-symbol\" aria-roledescription=\"rect mark\" d=\"M689.12,107.55555555555559h0.14399999999989177v7.999999999999957h-0.14399999999989177Z\" fill=\"#4c78a8\" fill-opacity=\"1\" stroke=\"#505050\" stroke-width=\"0\"/><path aria-label=\"x1: 4308; x2: 4309.9; level: 31; level2: 31.9; status: Default; sf: macro expansion at simdloop.jl:77 [inlined]\" role=\"graphics-symbol\" aria-roledescription=\"rect mark\" d=\"M689.28,116.44444444444444h0.3039999999999736v8h-0.3039999999999736Z\" fill=\"#4c78a8\" fill-opacity=\"1\" stroke=\"#505050\" stroke-width=\"0\"/><path aria-label=\"x1: 4308; x2: 4309.9; level: 32; level2: 32.9; status: Default; sf: macro expansion at broadcast.jl:974 [inlined]\" role=\"graphics-symbol\" aria-roledescription=\"rect mark\" d=\"M689.28,107.55555555555559h0.3039999999999736v7.999999999999957h-0.3039999999999736Z\" fill=\"#4c78a8\" fill-opacity=\"1\" stroke=\"#505050\" stroke-width=\"0\"/><path aria-label=\"x1: 4308; x2: 4308.9; level: 33; level2: 33.9; status: Default; sf: setindex! at array.jl:969 [inlined]\" role=\"graphics-symbol\" aria-roledescription=\"rect mark\" d=\"M689.28,98.66666666666669h0.14399999999989177v8h-0.14399999999989177Z\" fill=\"#4c78a8\" fill-opacity=\"1\" stroke=\"#505050\" stroke-width=\"0\"/><path aria-label=\"x1: 4309; x2: 4309.9; level: 33; level2: 33.9; status: Default; sf: getindex at broadcast.jl:610 [inlined]\" role=\"graphics-symbol\" aria-roledescription=\"rect mark\" d=\"M689.44,98.66666666666669h0.14399999999989177v8h-0.14399999999989177Z\" fill=\"#4c78a8\" fill-opacity=\"1\" stroke=\"#505050\" stroke-width=\"0\"/><path aria-label=\"x1: 4309; x2: 4309.9; level: 34; level2: 34.9; status: Default; sf: _broadcast_getindex at broadcast.jl:656 [inlined]\" role=\"graphics-symbol\" aria-roledescription=\"rect mark\" d=\"M689.44,89.77777777777777h0.14399999999989177v8.000000000000014h-0.14399999999989177Z\" fill=\"#4c78a8\" fill-opacity=\"1\" stroke=\"#505050\" stroke-width=\"0\"/><path aria-label=\"x1: 4309; x2: 4309.9; level: 35; level2: 35.9; status: Default; sf: _broadcast_getindex_evalf at broadcast.jl:683 [inlined]\" role=\"graphics-symbol\" aria-roledescription=\"rect mark\" d=\"M689.44,80.88888888888891h0.14399999999989177v7.999999999999972h-0.14399999999989177Z\" fill=\"#4c78a8\" fill-opacity=\"1\" stroke=\"#505050\" stroke-width=\"0\"/><path aria-label=\"x1: 4309; x2: 4309.9; level: 36; level2: 36.9; status: Default; sf: inverse at surrogate_model.jl:8 [inlined]\" role=\"graphics-symbol\" aria-roledescription=\"rect mark\" d=\"M689.44,72.00000000000001h0.14399999999989177v7.999999999999972h-0.14399999999989177Z\" fill=\"#4c78a8\" fill-opacity=\"1\" stroke=\"#505050\" stroke-width=\"0\"/><path aria-label=\"x1: 4309; x2: 4309.9; level: 37; level2: 37.9; status: Default; sf: inverse_logit at surrogate_model.jl:2 [inlined]\" role=\"graphics-symbol\" aria-roledescription=\"rect mark\" d=\"M689.44,63.111111111111114h0.14399999999989177v8.000000000000014h-0.14399999999989177Z\" fill=\"#4c78a8\" fill-opacity=\"1\" stroke=\"#505050\" stroke-width=\"0\"/><path aria-label=\"x1: 4309; x2: 4309.9; level: 38; level2: 38.9; status: Default; sf: #inverse_logit#8 at surrogate_model.jl:2 [inlined]\" role=\"graphics-symbol\" aria-roledescription=\"rect mark\" d=\"M689.44,54.222222222222214h0.14399999999989177v8.000000000000007h-0.14399999999989177Z\" fill=\"#4c78a8\" fill-opacity=\"1\" stroke=\"#505050\" stroke-width=\"0\"/><path aria-label=\"x1: 4309; x2: 4309.9; level: 39; level2: 39.9; status: Default; sf: exp(x::Float64) at exp.jl:325\" role=\"graphics-symbol\" aria-roledescription=\"rect mark\" d=\"M689.44,45.33333333333336h0.14399999999989177v7.9999999999999645h-0.14399999999989177Z\" fill=\"#4c78a8\" fill-opacity=\"1\" stroke=\"#505050\" stroke-width=\"0\"/><path aria-label=\"x1: 4309; x2: 4309.9; level: 40; level2: 40.9; status: Default; sf: exp_impl at exp.jl:214 [inlined]\" role=\"graphics-symbol\" aria-roledescription=\"rect mark\" d=\"M689.44,36.44444444444446h0.14399999999989177v8.000000000000007h-0.14399999999989177Z\" fill=\"#4c78a8\" fill-opacity=\"1\" stroke=\"#505050\" stroke-width=\"0\"/><path aria-label=\"x1: 4309; x2: 4309.9; level: 41; level2: 41.9; status: Default; sf: &gt;&gt; at int.jl:508 [inlined]\" role=\"graphics-symbol\" aria-roledescription=\"rect mark\" d=\"M689.44,27.555555555555557h0.14399999999989177v8.000000000000007h-0.14399999999989177Z\" fill=\"#4c78a8\" fill-opacity=\"1\" stroke=\"#505050\" stroke-width=\"0\"/><path aria-label=\"x1: 4309; x2: 4309.9; level: 42; level2: 42.9; status: Default; sf: &gt;&gt; at int.jl:501 [inlined]\" role=\"graphics-symbol\" aria-roledescription=\"rect mark\" d=\"M689.44,18.6666666666667h0.14399999999989177v7.999999999999961h-0.14399999999989177Z\" fill=\"#4c78a8\" fill-opacity=\"1\" stroke=\"#505050\" stroke-width=\"0\"/><path aria-label=\"x1: 4310; x2: 4315.9; level: 29; level2: 29.9; status: Default; sf: similar at broadcast.jl:211 [inlined]\" role=\"graphics-symbol\" aria-roledescription=\"rect mark\" d=\"M689.6,134.22222222222223h0.94399999999996v7.999999999999972h-0.94399999999996Z\" fill=\"#4c78a8\" fill-opacity=\"1\" stroke=\"#505050\" stroke-width=\"0\"/><path aria-label=\"x1: 4310; x2: 4315.9; level: 30; level2: 30.9; status: Default; sf: similar at broadcast.jl:212 [inlined]\" role=\"graphics-symbol\" aria-roledescription=\"rect mark\" d=\"M689.6,125.33333333333334h0.94399999999996v8h-0.94399999999996Z\" fill=\"#4c78a8\" fill-opacity=\"1\" stroke=\"#505050\" stroke-width=\"0\"/><path aria-label=\"x1: 4310; x2: 4315.9; level: 31; level2: 31.9; status: Default; sf: similar at abstractarray.jl:881 [inlined]\" role=\"graphics-symbol\" aria-roledescription=\"rect mark\" d=\"M689.6,116.44444444444444h0.94399999999996v8h-0.94399999999996Z\" fill=\"#4c78a8\" fill-opacity=\"1\" stroke=\"#505050\" stroke-width=\"0\"/><path aria-label=\"x1: 4310; x2: 4315.9; level: 32; level2: 32.9; status: Default; sf: similar at abstractarray.jl:882 [inlined]\" role=\"graphics-symbol\" aria-roledescription=\"rect mark\" d=\"M689.6,107.55555555555559h0.94399999999996v7.999999999999957h-0.94399999999996Z\" fill=\"#4c78a8\" fill-opacity=\"1\" stroke=\"#505050\" stroke-width=\"0\"/><path aria-label=\"x1: 4310; x2: 4315.9; level: 33; level2: 33.9; status: Default; sf: Array at boot.jl:494 [inlined]\" role=\"graphics-symbol\" aria-roledescription=\"rect mark\" d=\"M689.6,98.66666666666669h0.94399999999996v8h-0.94399999999996Z\" fill=\"#4c78a8\" fill-opacity=\"1\" stroke=\"#505050\" stroke-width=\"0\"/><path aria-label=\"x1: 4310; x2: 4315.9; level: 34; level2: 34.9; status: Default; sf: Array at boot.jl:486 [inlined]\" role=\"graphics-symbol\" aria-roledescription=\"rect mark\" d=\"M689.6,89.77777777777777h0.94399999999996v8.000000000000014h-0.94399999999996Z\" fill=\"#4c78a8\" fill-opacity=\"1\" stroke=\"#505050\" stroke-width=\"0\"/><path aria-label=\"x1: 4310; x2: 4315.9; level: 35; level2: 35.9; status: Garbage collection; sf: Array at boot.jl:477 [inlined]\" role=\"graphics-symbol\" aria-roledescription=\"rect mark\" d=\"M689.6,80.88888888888891h0.94399999999996v7.999999999999972h-0.94399999999996Z\" fill=\"#f58518\" fill-opacity=\"1\" stroke=\"#505050\" stroke-width=\"0\"/><path aria-label=\"x1: 4316; x2: 4671.9; level: 25; level2: 25.9; status: Default; sf: predict_f at GP.jl:64 [inlined]\" role=\"graphics-symbol\" aria-roledescription=\"rect mark\" d=\"M690.56,169.7777777777778h56.94399999999996v7.999999999999972h-56.94399999999996Z\" fill=\"#4c78a8\" fill-opacity=\"1\" stroke=\"#505050\" stroke-width=\"0\"/><path aria-label=\"x1: 4316; x2: 4317.9; level: 26; level2: 26.9; status: Default; sf: predict_f(gp::GaussianProcesses.GPE{Matrix{Float64}, Vector{Float64}, GaussianProcesses.MeanZero, GaussianProcesses.Mat12Iso{Float64}, GaussianProcesses.FullCovariance, GaussianProcesses.IsotropicData{Matrix{Float64}}, PDMats.PDMat{Float64, Matrix{Float64}}, GaussianProcesses.Scalar{Float64}}, x::Base.ReshapedArray{Float64, 2, LinearAlgebra.Adjoint{Float64, Vector{Float64}}, Tuple{}}; full_cov::Bool) at GP.jl:65\" role=\"graphics-symbol\" aria-roledescription=\"rect mark\" d=\"M690.56,160.8888888888889h0.3039999999999736v8h-0.3039999999999736Z\" fill=\"#4c78a8\" fill-opacity=\"1\" stroke=\"#505050\" stroke-width=\"0\"/><path aria-label=\"x1: 4316; x2: 4317.9; level: 27; level2: 27.9; status: Default; sf: size at abstractarray.jl:42 [inlined]\" role=\"graphics-symbol\" aria-roledescription=\"rect mark\" d=\"M690.56,152h0.3039999999999736v8h-0.3039999999999736Z\" fill=\"#4c78a8\" fill-opacity=\"1\" stroke=\"#505050\" stroke-width=\"0\"/><path aria-label=\"x1: 4316; x2: 4317.9; level: 28; level2: 28.9; status: Default; sf: getindex at tuple.jl:29 [inlined]\" role=\"graphics-symbol\" aria-roledescription=\"rect mark\" d=\"M690.56,143.11111111111114h0.3039999999999736v7.999999999999972h-0.3039999999999736Z\" fill=\"#4c78a8\" fill-opacity=\"1\" stroke=\"#505050\" stroke-width=\"0\"/><path aria-label=\"x1: 4318; x2: 4324.9; level: 26; level2: 26.9; status: Default; sf: predict_f(gp::GaussianProcesses.GPE{Matrix{Float64}, Vector{Float64}, GaussianProcesses.MeanZero, GaussianProcesses.Mat12Iso{Float64}, GaussianProcesses.FullCovariance, GaussianProcesses.IsotropicData{Matrix{Float64}}, PDMats.PDMat{Float64, Matrix{Float64}}, GaussianProcesses.Scalar{Float64}}, x::Base.ReshapedArray{Float64, 2, LinearAlgebra.Adjoint{Float64, Vector{Float64}}, Tuple{}}; full_cov::Bool) at GP.jl:70\" role=\"graphics-symbol\" aria-roledescription=\"rect mark\" d=\"M690.88,160.8888888888889h1.1039999999999281v8h-1.1039999999999281Z\" fill=\"#4c78a8\" fill-opacity=\"1\" stroke=\"#505050\" stroke-width=\"0\"/><path aria-label=\"x1: 4318; x2: 4324.9; level: 27; level2: 27.9; status: Default; sf: Array at boot.jl:491 [inlined]\" role=\"graphics-symbol\" aria-roledescription=\"rect mark\" d=\"M690.88,152h1.1039999999999281v8h-1.1039999999999281Z\" fill=\"#4c78a8\" fill-opacity=\"1\" stroke=\"#505050\" stroke-width=\"0\"/><path aria-label=\"x1: 4318; x2: 4324.9; level: 28; level2: 28.9; status: Garbage collection; sf: Array at boot.jl:477 [inlined]\" role=\"graphics-symbol\" aria-roledescription=\"rect mark\" d=\"M690.88,143.11111111111114h1.1039999999999281v7.999999999999972h-1.1039999999999281Z\" fill=\"#f58518\" fill-opacity=\"1\" stroke=\"#505050\" stroke-width=\"0\"/><path aria-label=\"x1: 4325; x2: 4327.9; level: 26; level2: 26.9; status: Default; sf: predict_f(gp::GaussianProcesses.GPE{Matrix{Float64}, Vector{Float64}, GaussianProcesses.MeanZero, GaussianProcesses.Mat12Iso{Float64}, GaussianProcesses.FullCovariance, GaussianProcesses.IsotropicData{Matrix{Float64}}, PDMats.PDMat{Float64, Matrix{Float64}}, GaussianProcesses.Scalar{Float64}}, x::Base.ReshapedArray{Float64, 2, LinearAlgebra.Adjoint{Float64, Vector{Float64}}, Tuple{}}; full_cov::Bool) at GP.jl:71\" role=\"graphics-symbol\" aria-roledescription=\"rect mark\" d=\"M692,160.8888888888889h0.4639999999999418v8h-0.4639999999999418Z\" fill=\"#4c78a8\" fill-opacity=\"1\" stroke=\"#505050\" stroke-width=\"0\"/><path aria-label=\"x1: 4325; x2: 4327.9; level: 27; level2: 27.9; status: Default; sf: similar at array.jl:369 [inlined]\" role=\"graphics-symbol\" aria-roledescription=\"rect mark\" d=\"M692,152h0.4639999999999418v8h-0.4639999999999418Z\" fill=\"#4c78a8\" fill-opacity=\"1\" stroke=\"#505050\" stroke-width=\"0\"/><path aria-label=\"x1: 4325; x2: 4327.9; level: 28; level2: 28.9; status: Garbage collection; sf: Array at boot.jl:477 [inlined]\" role=\"graphics-symbol\" aria-roledescription=\"rect mark\" d=\"M692,143.11111111111114h0.4639999999999418v7.999999999999972h-0.4639999999999418Z\" fill=\"#f58518\" fill-opacity=\"1\" stroke=\"#505050\" stroke-width=\"0\"/><path aria-label=\"x1: 4328; x2: 4561.9; level: 26; level2: 26.9; status: Default; sf: predict_f(gp::GaussianProcesses.GPE{Matrix{Float64}, Vector{Float64}, GaussianProcesses.MeanZero, GaussianProcesses.Mat12Iso{Float64}, GaussianProcesses.FullCovariance, GaussianProcesses.IsotropicData{Matrix{Float64}}, PDMats.PDMat{Float64, Matrix{Float64}}, GaussianProcesses.Scalar{Float64}}, x::Base.ReshapedArray{Float64, 2, LinearAlgebra.Adjoint{Float64, Vector{Float64}}, Tuple{}}; full_cov::Bool) at GP.jl:73\" role=\"graphics-symbol\" aria-roledescription=\"rect mark\" d=\"M692.48,160.8888888888889h37.42399999999998v8h-37.42399999999998Z\" fill=\"#4c78a8\" fill-opacity=\"1\" stroke=\"#505050\" stroke-width=\"0\"/><path aria-label=\"x1: 4328; x2: 4332.9; level: 27; level2: 27.9; status: Default; sf: getindex at abstractarray.jl:1294 [inlined]\" role=\"graphics-symbol\" aria-roledescription=\"rect mark\" d=\"M692.48,152h0.7839999999998781v8h-0.7839999999998781Z\" fill=\"#4c78a8\" fill-opacity=\"1\" stroke=\"#505050\" stroke-width=\"0\"/><path aria-label=\"x1: 4328; x2: 4332.9; level: 28; level2: 28.9; status: Default; sf: _getindex at multidimensional.jl:861 [inlined]\" role=\"graphics-symbol\" aria-roledescription=\"rect mark\" d=\"M692.48,143.11111111111114h0.7839999999998781v7.999999999999972h-0.7839999999998781Z\" fill=\"#4c78a8\" fill-opacity=\"1\" stroke=\"#505050\" stroke-width=\"0\"/><path aria-label=\"x1: 4328; x2: 4332.9; level: 29; level2: 29.9; status: Default; sf: _unsafe_getindex(::IndexLinear, ::Base.ReshapedArray{Float64, 2, LinearAlgebra.Adjoint{Float64, Vector{Float64}}, Tuple{}}, ::Base.Slice{Base.OneTo{Int64}}, ::UnitRange{Int64}) at multidimensional.jl:873\" role=\"graphics-symbol\" aria-roledescription=\"rect mark\" d=\"M692.48,134.22222222222223h0.7839999999998781v7.999999999999972h-0.7839999999998781Z\" fill=\"#4c78a8\" fill-opacity=\"1\" stroke=\"#505050\" stroke-width=\"0\"/><path aria-label=\"x1: 4328; x2: 4332.9; level: 30; level2: 30.9; status: Default; sf: similar at abstractarray.jl:836 [inlined]\" role=\"graphics-symbol\" aria-roledescription=\"rect mark\" d=\"M692.48,125.33333333333334h0.7839999999998781v8h-0.7839999999998781Z\" fill=\"#4c78a8\" fill-opacity=\"1\" stroke=\"#505050\" stroke-width=\"0\"/><path aria-label=\"x1: 4328; x2: 4332.9; level: 31; level2: 31.9; status: Default; sf: similar at reshapedarray.jl:209 [inlined]\" role=\"graphics-symbol\" aria-roledescription=\"rect mark\" d=\"M692.48,116.44444444444444h0.7839999999998781v8h-0.7839999999998781Z\" fill=\"#4c78a8\" fill-opacity=\"1\" stroke=\"#505050\" stroke-width=\"0\"/><path aria-label=\"x1: 4328; x2: 4332.9; level: 32; level2: 32.9; status: Default; sf: similar at adjtrans.jl:335 [inlined]\" role=\"graphics-symbol\" aria-roledescription=\"rect mark\" d=\"M692.48,107.55555555555559h0.7839999999998781v7.999999999999957h-0.7839999999998781Z\" fill=\"#4c78a8\" fill-opacity=\"1\" stroke=\"#505050\" stroke-width=\"0\"/><path aria-label=\"x1: 4328; x2: 4332.9; level: 33; level2: 33.9; status: Default; sf: similar at array.jl:374 [inlined]\" role=\"graphics-symbol\" aria-roledescription=\"rect mark\" d=\"M692.48,98.66666666666669h0.7839999999998781v8h-0.7839999999998781Z\" fill=\"#4c78a8\" fill-opacity=\"1\" stroke=\"#505050\" stroke-width=\"0\"/><path aria-label=\"x1: 4328; x2: 4332.9; level: 34; level2: 34.9; status: Default; sf: Array at boot.jl:487 [inlined]\" role=\"graphics-symbol\" aria-roledescription=\"rect mark\" d=\"M692.48,89.77777777777777h0.7839999999998781v8.000000000000014h-0.7839999999998781Z\" fill=\"#4c78a8\" fill-opacity=\"1\" stroke=\"#505050\" stroke-width=\"0\"/><path aria-label=\"x1: 4328; x2: 4332.9; level: 35; level2: 35.9; status: Garbage collection; sf: Array at boot.jl:479 [inlined]\" role=\"graphics-symbol\" aria-roledescription=\"rect mark\" d=\"M692.48,80.88888888888891h0.7839999999998781v7.999999999999972h-0.7839999999998781Z\" fill=\"#f58518\" fill-opacity=\"1\" stroke=\"#505050\" stroke-width=\"0\"/><path aria-label=\"x1: 4333; x2: 4333.9; level: 27; level2: 27.9; status: Default; sf: Colon at range.jl:5 [inlined]\" role=\"graphics-symbol\" aria-roledescription=\"rect mark\" d=\"M693.28,152h0.14399999999989177v8h-0.14399999999989177Z\" fill=\"#4c78a8\" fill-opacity=\"1\" stroke=\"#505050\" stroke-width=\"0\"/><path aria-label=\"x1: 4333; x2: 4333.9; level: 28; level2: 28.9; status: Default; sf: UnitRange at range.jl:397 [inlined]\" role=\"graphics-symbol\" aria-roledescription=\"rect mark\" d=\"M693.28,143.11111111111114h0.14399999999989177v7.999999999999972h-0.14399999999989177Z\" fill=\"#4c78a8\" fill-opacity=\"1\" stroke=\"#505050\" stroke-width=\"0\"/><path aria-label=\"x1: 4334; x2: 4561.9; level: 27; level2: 27.9; status: Default; sf: predict_full at GPE.jl:399 [inlined]\" role=\"graphics-symbol\" aria-roledescription=\"rect mark\" d=\"M693.44,152h36.46399999999994v8h-36.46399999999994Z\" fill=\"#4c78a8\" fill-opacity=\"1\" stroke=\"#505050\" stroke-width=\"0\"/><path aria-label=\"x1: 4334; x2: 4334.9; level: 28; level2: 28.9; status: Default; sf: getproperty at Base.jl:37 [inlined]\" role=\"graphics-symbol\" aria-roledescription=\"rect mark\" d=\"M693.44,143.11111111111114h0.14399999999989177v7.999999999999972h-0.14399999999989177Z\" fill=\"#4c78a8\" fill-opacity=\"1\" stroke=\"#505050\" stroke-width=\"0\"/><path aria-label=\"x1: 4335; x2: 4335.9; level: 28; level2: 28.9; status: Default; sf: predictMVN(xpred::Matrix{Float64}, xtrain::Matrix{Float64}, ytrain::Vector{Float64}, kernel::GaussianProcesses.Mat12Iso{Float64}, meanf::GaussianProcesses.MeanZero, alpha::Vector{Float64}, covstrat::GaussianProcesses.FullCovariance, Ktrain::PDMats.PDMat{Float64, Matrix{Float64}}) at GP.jl:39\" role=\"graphics-symbol\" aria-roledescription=\"rect mark\" d=\"M693.6,143.11111111111114h0.14399999999989177v7.999999999999972h-0.14399999999989177Z\" fill=\"#4c78a8\" fill-opacity=\"1\" stroke=\"#505050\" stroke-width=\"0\"/><path aria-label=\"x1: 4336; x2: 4378.9; level: 28; level2: 28.9; status: Default; sf: predictMVN(xpred::Matrix{Float64}, xtrain::Matrix{Float64}, ytrain::Vector{Float64}, kernel::GaussianProcesses.Mat12Iso{Float64}, meanf::GaussianProcesses.MeanZero, alpha::Vector{Float64}, covstrat::GaussianProcesses.FullCovariance, Ktrain::PDMats.PDMat{Float64, Matrix{Float64}}) at GP.jl:42\" role=\"graphics-symbol\" aria-roledescription=\"rect mark\" d=\"M693.76,143.11111111111114h6.863999999999919v7.999999999999972h-6.863999999999919Z\" fill=\"#4c78a8\" fill-opacity=\"1\" stroke=\"#505050\" stroke-width=\"0\"/><path aria-label=\"x1: 4336; x2: 4378.9; level: 29; level2: 29.9; status: Default; sf: KernelData at stationary.jl:39 [inlined]\" role=\"graphics-symbol\" aria-roledescription=\"rect mark\" d=\"M693.76,134.22222222222223h6.863999999999919v7.999999999999972h-6.863999999999919Z\" fill=\"#4c78a8\" fill-opacity=\"1\" stroke=\"#505050\" stroke-width=\"0\"/><path aria-label=\"x1: 4336; x2: 4378.9; level: 30; level2: 30.9; status: Default; sf: distance at distance.jl:24 [inlined]\" role=\"graphics-symbol\" aria-roledescription=\"rect mark\" d=\"M693.76,125.33333333333334h6.863999999999919v8h-6.863999999999919Z\" fill=\"#4c78a8\" fill-opacity=\"1\" stroke=\"#505050\" stroke-width=\"0\"/><path aria-label=\"x1: 4336; x2: 4346.9; level: 31; level2: 31.9; status: Garbage collection; sf: Array at boot.jl:479 [inlined]\" role=\"graphics-symbol\" aria-roledescription=\"rect mark\" d=\"M693.76,116.44444444444444h1.7439999999999145v8h-1.7439999999999145Z\" fill=\"#f58518\" fill-opacity=\"1\" stroke=\"#505050\" stroke-width=\"0\"/><path aria-label=\"x1: 4347; x2: 4378.9; level: 31; level2: 31.9; status: Default; sf: distance!(dist::Matrix{Float64}, m::Distances.Euclidean, X::Matrix{Float64}, Y::Matrix{Float64}) at distance.jl:31\" role=\"graphics-symbol\" aria-roledescription=\"rect mark\" d=\"M695.52,116.44444444444444h5.103999999999928v8h-5.103999999999928Z\" fill=\"#4c78a8\" fill-opacity=\"1\" stroke=\"#505050\" stroke-width=\"0\"/><path aria-label=\"x1: 4347; x2: 4378.9; level: 32; level2: 32.9; status: Default; sf: macro expansion at simdloop.jl:77 [inlined]\" role=\"graphics-symbol\" aria-roledescription=\"rect mark\" d=\"M695.52,107.55555555555559h5.103999999999928v7.999999999999957h-5.103999999999928Z\" fill=\"#4c78a8\" fill-opacity=\"1\" stroke=\"#505050\" stroke-width=\"0\"/><path aria-label=\"x1: 4347; x2: 4349.9; level: 33; level2: 33.9; status: Default; sf: macro expansion at distance.jl:0 [inlined]\" role=\"graphics-symbol\" aria-roledescription=\"rect mark\" d=\"M695.52,98.66666666666669h0.4639999999999418v8h-0.4639999999999418Z\" fill=\"#4c78a8\" fill-opacity=\"1\" stroke=\"#505050\" stroke-width=\"0\"/><path aria-label=\"x1: 4350; x2: 4376.9; level: 33; level2: 33.9; status: Default; sf: macro expansion at distance.jl:33 [inlined]\" role=\"graphics-symbol\" aria-roledescription=\"rect mark\" d=\"M696,98.66666666666669h4.303999999999974v8h-4.303999999999974Z\" fill=\"#4c78a8\" fill-opacity=\"1\" stroke=\"#505050\" stroke-width=\"0\"/><path aria-label=\"x1: 4350; x2: 4362.9; level: 34; level2: 34.9; status: Default; sf: setindex! at array.jl:971 [inlined]\" role=\"graphics-symbol\" aria-roledescription=\"rect mark\" d=\"M696,89.77777777777777h2.0639999999999645v8.000000000000014h-2.0639999999999645Z\" fill=\"#4c78a8\" fill-opacity=\"1\" stroke=\"#505050\" stroke-width=\"0\"/><path aria-label=\"x1: 4363; x2: 4376.9; level: 34; level2: 34.9; status: Default; sf: distij at distance.jl:69 [inlined]\" role=\"graphics-symbol\" aria-roledescription=\"rect mark\" d=\"M698.08,89.77777777777777h2.2239999999999327v8.000000000000014h-2.2239999999999327Z\" fill=\"#4c78a8\" fill-opacity=\"1\" stroke=\"#505050\" stroke-width=\"0\"/><path aria-label=\"x1: 4363; x2: 4365.9; level: 35; level2: 35.9; status: Default; sf: sqrt at math.jl:677 [inlined]\" role=\"graphics-symbol\" aria-roledescription=\"rect mark\" d=\"M698.08,80.88888888888891h0.4639999999999418v7.999999999999972h-0.4639999999999418Z\" fill=\"#4c78a8\" fill-opacity=\"1\" stroke=\"#505050\" stroke-width=\"0\"/><path aria-label=\"x1: 4363; x2: 4365.9; level: 36; level2: 36.9; status: Default; sf: &lt; at float.jl:535 [inlined]\" role=\"graphics-symbol\" aria-roledescription=\"rect mark\" d=\"M698.08,72.00000000000001h0.4639999999999418v7.999999999999972h-0.4639999999999418Z\" fill=\"#4c78a8\" fill-opacity=\"1\" stroke=\"#505050\" stroke-width=\"0\"/><path aria-label=\"x1: 4366; x2: 4366.9; level: 35; level2: 35.9; status: Default; sf: sqrt at math.jl:678 [inlined]\" role=\"graphics-symbol\" aria-roledescription=\"rect mark\" d=\"M698.56,80.88888888888891h0.14400000000000546v7.999999999999972h-0.14400000000000546Z\" fill=\"#4c78a8\" fill-opacity=\"1\" stroke=\"#505050\" stroke-width=\"0\"/><path aria-label=\"x1: 4367; x2: 4376.9; level: 35; level2: 35.9; status: Default; sf: _SqEuclidean_ij at distance.jl:52 [inlined]\" role=\"graphics-symbol\" aria-roledescription=\"rect mark\" d=\"M698.7199999999999,80.88888888888891h1.58400000000006v7.999999999999972h-1.58400000000006Z\" fill=\"#4c78a8\" fill-opacity=\"1\" stroke=\"#505050\" stroke-width=\"0\"/><path aria-label=\"x1: 4367; x2: 4370.9; level: 36; level2: 36.9; status: Default; sf: macro expansion at simdloop.jl:75 [inlined]\" role=\"graphics-symbol\" aria-roledescription=\"rect mark\" d=\"M698.7199999999999,72.00000000000001h0.6240000000000236v7.999999999999972h-0.6240000000000236Z\" fill=\"#4c78a8\" fill-opacity=\"1\" stroke=\"#505050\" stroke-width=\"0\"/><path aria-label=\"x1: 4371; x2: 4376.9; level: 36; level2: 36.9; status: Default; sf: macro expansion at simdloop.jl:77 [inlined]\" role=\"graphics-symbol\" aria-roledescription=\"rect mark\" d=\"M699.36,72.00000000000001h0.94399999999996v7.999999999999972h-0.94399999999996Z\" fill=\"#4c78a8\" fill-opacity=\"1\" stroke=\"#505050\" stroke-width=\"0\"/><path aria-label=\"x1: 4371; x2: 4376.9; level: 37; level2: 37.9; status: Default; sf: macro expansion at distance.jl:53 [inlined]\" role=\"graphics-symbol\" aria-roledescription=\"rect mark\" d=\"M699.36,63.111111111111114h0.94399999999996v8.000000000000014h-0.94399999999996Z\" fill=\"#4c78a8\" fill-opacity=\"1\" stroke=\"#505050\" stroke-width=\"0\"/><path aria-label=\"x1: 4371; x2: 4372.9; level: 38; level2: 38.9; status: Default; sf: + at float.jl:408 [inlined]\" role=\"graphics-symbol\" aria-roledescription=\"rect mark\" d=\"M699.36,54.222222222222214h0.3039999999999736v8.000000000000007h-0.3039999999999736Z\" fill=\"#4c78a8\" fill-opacity=\"1\" stroke=\"#505050\" stroke-width=\"0\"/><path aria-label=\"x1: 4373; x2: 4376.9; level: 38; level2: 38.9; status: Default; sf: _SqEuclidean_ijk at distance.jl:42 [inlined]\" role=\"graphics-symbol\" aria-roledescription=\"rect mark\" d=\"M699.6800000000001,54.222222222222214h0.62399999999991v8.000000000000007h-0.62399999999991Z\" fill=\"#4c78a8\" fill-opacity=\"1\" stroke=\"#505050\" stroke-width=\"0\"/><path aria-label=\"x1: 4373; x2: 4376.9; level: 39; level2: 39.9; status: Default; sf: getindex at essentials.jl:14 [inlined]\" role=\"graphics-symbol\" aria-roledescription=\"rect mark\" d=\"M699.6800000000001,45.33333333333336h0.62399999999991v7.9999999999999645h-0.62399999999991Z\" fill=\"#4c78a8\" fill-opacity=\"1\" stroke=\"#505050\" stroke-width=\"0\"/><path aria-label=\"x1: 4377; x2: 4378.9; level: 33; level2: 33.9; status: Default; sf: macro expansion at distance.jl:34 [inlined]\" role=\"graphics-symbol\" aria-roledescription=\"rect mark\" d=\"M700.3199999999999,98.66666666666669h0.3039999999999736v8h-0.3039999999999736Z\" fill=\"#4c78a8\" fill-opacity=\"1\" stroke=\"#505050\" stroke-width=\"0\"/><path aria-label=\"x1: 4377; x2: 4378.9; level: 34; level2: 34.9; status: Default; sf: iterate at range.jl:891 [inlined]\" role=\"graphics-symbol\" aria-roledescription=\"rect mark\" d=\"M700.3199999999999,89.77777777777777h0.3039999999999736v8.000000000000014h-0.3039999999999736Z\" fill=\"#4c78a8\" fill-opacity=\"1\" stroke=\"#505050\" stroke-width=\"0\"/><path aria-label=\"x1: 4379; x2: 4386.9; level: 28; level2: 28.9; status: Default; sf: predictMVN(xpred::Matrix{Float64}, xtrain::Matrix{Float64}, ytrain::Vector{Float64}, kernel::GaussianProcesses.Mat12Iso{Float64}, meanf::GaussianProcesses.MeanZero, alpha::Vector{Float64}, covstrat::GaussianProcesses.FullCovariance, Ktrain::PDMats.PDMat{Float64, Matrix{Float64}}) at GP.jl:43\" role=\"graphics-symbol\" aria-roledescription=\"rect mark\" d=\"M700.64,143.11111111111114h1.26400000000001v7.999999999999972h-1.26400000000001Z\" fill=\"#4c78a8\" fill-opacity=\"1\" stroke=\"#505050\" stroke-width=\"0\"/><path aria-label=\"x1: 4379; x2: 4386.9; level: 29; level2: 29.9; status: Default; sf: KernelData at stationary.jl:39 [inlined]\" role=\"graphics-symbol\" aria-roledescription=\"rect mark\" d=\"M700.64,134.22222222222223h1.26400000000001v7.999999999999972h-1.26400000000001Z\" fill=\"#4c78a8\" fill-opacity=\"1\" stroke=\"#505050\" stroke-width=\"0\"/><path aria-label=\"x1: 4379; x2: 4386.9; level: 30; level2: 30.9; status: Default; sf: distance at distance.jl:24 [inlined]\" role=\"graphics-symbol\" aria-roledescription=\"rect mark\" d=\"M700.64,125.33333333333334h1.26400000000001v8h-1.26400000000001Z\" fill=\"#4c78a8\" fill-opacity=\"1\" stroke=\"#505050\" stroke-width=\"0\"/><path aria-label=\"x1: 4379; x2: 4385.9; level: 31; level2: 31.9; status: Garbage collection; sf: Array at boot.jl:479 [inlined]\" role=\"graphics-symbol\" aria-roledescription=\"rect mark\" d=\"M700.64,116.44444444444444h1.1039999999999281v8h-1.1039999999999281Z\" fill=\"#f58518\" fill-opacity=\"1\" stroke=\"#505050\" stroke-width=\"0\"/><path aria-label=\"x1: 4386; x2: 4386.9; level: 31; level2: 31.9; status: Default; sf: distance!(dist::Matrix{Float64}, m::Distances.Euclidean, X::Matrix{Float64}, Y::Matrix{Float64}) at distance.jl:31\" role=\"graphics-symbol\" aria-roledescription=\"rect mark\" d=\"M701.76,116.44444444444444h0.14400000000000546v8h-0.14400000000000546Z\" fill=\"#4c78a8\" fill-opacity=\"1\" stroke=\"#505050\" stroke-width=\"0\"/><path aria-label=\"x1: 4386; x2: 4386.9; level: 32; level2: 32.9; status: Default; sf: macro expansion at simdloop.jl:76 [inlined]\" role=\"graphics-symbol\" aria-roledescription=\"rect mark\" d=\"M701.76,107.55555555555559h0.14400000000000546v7.999999999999957h-0.14400000000000546Z\" fill=\"#4c78a8\" fill-opacity=\"1\" stroke=\"#505050\" stroke-width=\"0\"/><path aria-label=\"x1: 4386; x2: 4386.9; level: 33; level2: 33.9; status: Default; sf: simd_index at simdloop.jl:54 [inlined]\" role=\"graphics-symbol\" aria-roledescription=\"rect mark\" d=\"M701.76,98.66666666666669h0.14400000000000546v8h-0.14400000000000546Z\" fill=\"#4c78a8\" fill-opacity=\"1\" stroke=\"#505050\" stroke-width=\"0\"/><path aria-label=\"x1: 4386; x2: 4386.9; level: 34; level2: 34.9; status: Default; sf: getindex at range.jl:914 [inlined]\" role=\"graphics-symbol\" aria-roledescription=\"rect mark\" d=\"M701.76,89.77777777777777h0.14400000000000546v8.000000000000014h-0.14400000000000546Z\" fill=\"#4c78a8\" fill-opacity=\"1\" stroke=\"#505050\" stroke-width=\"0\"/><path aria-label=\"x1: 4386; x2: 4386.9; level: 35; level2: 35.9; status: Default; sf: + at int.jl:87 [inlined]\" role=\"graphics-symbol\" aria-roledescription=\"rect mark\" d=\"M701.76,80.88888888888891h0.14400000000000546v7.999999999999972h-0.14400000000000546Z\" fill=\"#4c78a8\" fill-opacity=\"1\" stroke=\"#505050\" stroke-width=\"0\"/><path aria-label=\"x1: 4387; x2: 4435.9; level: 28; level2: 28.9; status: Default; sf: predictMVN(xpred::Matrix{Float64}, xtrain::Matrix{Float64}, ytrain::Vector{Float64}, kernel::GaussianProcesses.Mat12Iso{Float64}, meanf::GaussianProcesses.MeanZero, alpha::Vector{Float64}, covstrat::GaussianProcesses.FullCovariance, Ktrain::PDMats.PDMat{Float64, Matrix{Float64}}) at GP.jl:44\" role=\"graphics-symbol\" aria-roledescription=\"rect mark\" d=\"M701.92,143.11111111111114h7.824000000000069v7.999999999999972h-7.824000000000069Z\" fill=\"#4c78a8\" fill-opacity=\"1\" stroke=\"#505050\" stroke-width=\"0\"/><path aria-label=\"x1: 4387; x2: 4394.9; level: 29; level2: 29.9; status: Default; sf: cov at kernels.jl:35 [inlined]\" role=\"graphics-symbol\" aria-roledescription=\"rect mark\" d=\"M701.92,134.22222222222223h1.2639999999998963v7.999999999999972h-1.2639999999998963Z\" fill=\"#4c78a8\" fill-opacity=\"1\" stroke=\"#505050\" stroke-width=\"0\"/><path aria-label=\"x1: 4387; x2: 4394.9; level: 30; level2: 30.9; status: Default; sf: Array at boot.jl:492 [inlined]\" role=\"graphics-symbol\" aria-roledescription=\"rect mark\" d=\"M701.92,125.33333333333334h1.2639999999998963v8h-1.2639999999998963Z\" fill=\"#4c78a8\" fill-opacity=\"1\" stroke=\"#505050\" stroke-width=\"0\"/><path aria-label=\"x1: 4387; x2: 4394.9; level: 31; level2: 31.9; status: Garbage collection; sf: Array at boot.jl:479 [inlined]\" role=\"graphics-symbol\" aria-roledescription=\"rect mark\" d=\"M701.92,116.44444444444444h1.2639999999998963v8h-1.2639999999998963Z\" fill=\"#f58518\" fill-opacity=\"1\" stroke=\"#505050\" stroke-width=\"0\"/><path aria-label=\"x1: 4395; x2: 4435.9; level: 29; level2: 29.9; status: Default; sf: cov at kernels.jl:36 [inlined]\" role=\"graphics-symbol\" aria-roledescription=\"rect mark\" d=\"M703.2,134.22222222222223h6.543999999999983v7.999999999999972h-6.543999999999983Z\" fill=\"#4c78a8\" fill-opacity=\"1\" stroke=\"#505050\" stroke-width=\"0\"/><path aria-label=\"x1: 4395; x2: 4397.9; level: 30; level2: 30.9; status: Default; sf: cov!(cK::Matrix{Float64}, k::GaussianProcesses.Mat12Iso{Float64}, X1::Matrix{Float64}, X2::Matrix{Float64}, data::GaussianProcesses.IsotropicData{Matrix{Float64}}) at kernels.jl:0\" role=\"graphics-symbol\" aria-roledescription=\"rect mark\" d=\"M703.2,125.33333333333334h0.4639999999999418v8h-0.4639999999999418Z\" fill=\"#4c78a8\" fill-opacity=\"1\" stroke=\"#505050\" stroke-width=\"0\"/><path aria-label=\"x1: 4398; x2: 4398.9; level: 30; level2: 30.9; status: Default; sf: cov!(cK::Matrix{Float64}, k::GaussianProcesses.Mat12Iso{Float64}, X1::Matrix{Float64}, X2::Matrix{Float64}, data::GaussianProcesses.IsotropicData{Matrix{Float64}}) at kernels.jl:56\" role=\"graphics-symbol\" aria-roledescription=\"rect mark\" d=\"M703.6800000000001,125.33333333333334h0.14399999999989177v8h-0.14399999999989177Z\" fill=\"#4c78a8\" fill-opacity=\"1\" stroke=\"#505050\" stroke-width=\"0\"/><path aria-label=\"x1: 4399; x2: 4431.9; level: 30; level2: 30.9; status: Default; sf: cov!(cK::Matrix{Float64}, k::GaussianProcesses.Mat12Iso{Float64}, X1::Matrix{Float64}, X2::Matrix{Float64}, data::GaussianProcesses.IsotropicData{Matrix{Float64}}) at kernels.jl:67\" role=\"graphics-symbol\" aria-roledescription=\"rect mark\" d=\"M703.84,125.33333333333334h5.263999999999896v8h-5.263999999999896Z\" fill=\"#4c78a8\" fill-opacity=\"1\" stroke=\"#505050\" stroke-width=\"0\"/><path aria-label=\"x1: 4399; x2: 4407.9; level: 31; level2: 31.9; status: Default; sf: setindex! at array.jl:971 [inlined]\" role=\"graphics-symbol\" aria-roledescription=\"rect mark\" d=\"M703.84,116.44444444444444h1.4239999999998645v8h-1.4239999999998645Z\" fill=\"#4c78a8\" fill-opacity=\"1\" stroke=\"#505050\" stroke-width=\"0\"/><path aria-label=\"x1: 4408; x2: 4431.9; level: 31; level2: 31.9; status: Default; sf: cov_ij at stationary.jl:46 [inlined]\" role=\"graphics-symbol\" aria-roledescription=\"rect mark\" d=\"M705.2800000000001,116.44444444444444h3.8239999999998417v8h-3.8239999999998417Z\" fill=\"#4c78a8\" fill-opacity=\"1\" stroke=\"#505050\" stroke-width=\"0\"/><path aria-label=\"x1: 4408; x2: 4408.9; level: 32; level2: 32.9; status: Default; sf: getindex at essentials.jl:0 [inlined]\" role=\"graphics-symbol\" aria-roledescription=\"rect mark\" d=\"M705.2800000000001,107.55555555555559h0.14399999999977808v7.999999999999957h-0.14399999999977808Z\" fill=\"#4c78a8\" fill-opacity=\"1\" stroke=\"#505050\" stroke-width=\"0\"/><path aria-label=\"x1: 4409; x2: 4409.9; level: 32; level2: 32.9; status: Default; sf: getindex at essentials.jl:14 [inlined]\" role=\"graphics-symbol\" aria-roledescription=\"rect mark\" d=\"M705.44,107.55555555555559h0.14399999999989177v7.999999999999957h-0.14399999999989177Z\" fill=\"#4c78a8\" fill-opacity=\"1\" stroke=\"#505050\" stroke-width=\"0\"/><path aria-label=\"x1: 4410; x2: 4431.9; level: 32; level2: 32.9; status: Default; sf: cov at mat12_iso.jl:41 [inlined]\" role=\"graphics-symbol\" aria-roledescription=\"rect mark\" d=\"M705.6,107.55555555555559h3.5039999999999054v7.999999999999957h-3.5039999999999054Z\" fill=\"#4c78a8\" fill-opacity=\"1\" stroke=\"#505050\" stroke-width=\"0\"/><path aria-label=\"x1: 4410; x2: 4410.9; level: 33; level2: 33.9; status: Default; sf: getproperty at Base.jl:37 [inlined]\" role=\"graphics-symbol\" aria-roledescription=\"rect mark\" d=\"M705.6,98.66666666666669h0.14399999999989177v8h-0.14399999999989177Z\" fill=\"#4c78a8\" fill-opacity=\"1\" stroke=\"#505050\" stroke-width=\"0\"/><path aria-label=\"x1: 4411; x2: 4412.9; level: 33; level2: 33.9; status: Default; sf: / at float.jl:411 [inlined]\" role=\"graphics-symbol\" aria-roledescription=\"rect mark\" d=\"M705.76,98.66666666666669h0.3039999999999736v8h-0.3039999999999736Z\" fill=\"#4c78a8\" fill-opacity=\"1\" stroke=\"#505050\" stroke-width=\"0\"/><path aria-label=\"x1: 4413; x2: 4431.9; level: 33; level2: 33.9; status: Default; sf: exp(x::Float64) at exp.jl:325\" role=\"graphics-symbol\" aria-roledescription=\"rect mark\" d=\"M706.08,98.66666666666669h3.0239999999998872v8h-3.0239999999998872Z\" fill=\"#4c78a8\" fill-opacity=\"1\" stroke=\"#505050\" stroke-width=\"0\"/><path aria-label=\"x1: 4413; x2: 4413.9; level: 34; level2: 34.9; status: Default; sf: exp_impl at exp.jl:215 [inlined]\" role=\"graphics-symbol\" aria-roledescription=\"rect mark\" d=\"M706.08,89.77777777777777h0.14399999999989177v8.000000000000014h-0.14399999999989177Z\" fill=\"#4c78a8\" fill-opacity=\"1\" stroke=\"#505050\" stroke-width=\"0\"/><path aria-label=\"x1: 4413; x2: 4413.9; level: 35; level2: 35.9; status: Default; sf: table_unpack at exp.jl:181 [inlined]\" role=\"graphics-symbol\" aria-roledescription=\"rect mark\" d=\"M706.08,80.88888888888891h0.14399999999989177v7.999999999999972h-0.14399999999989177Z\" fill=\"#4c78a8\" fill-opacity=\"1\" stroke=\"#505050\" stroke-width=\"0\"/><path aria-label=\"x1: 4413; x2: 4413.9; level: 36; level2: 36.9; status: Default; sf: &amp; at int.jl:347 [inlined]\" role=\"graphics-symbol\" aria-roledescription=\"rect mark\" d=\"M706.08,72.00000000000001h0.14399999999989177v7.999999999999972h-0.14399999999989177Z\" fill=\"#4c78a8\" fill-opacity=\"1\" stroke=\"#505050\" stroke-width=\"0\"/><path aria-label=\"x1: 4414; x2: 4416.9; level: 34; level2: 34.9; status: Default; sf: exp_impl at exp.jl:216 [inlined]\" role=\"graphics-symbol\" aria-roledescription=\"rect mark\" d=\"M706.24,89.77777777777777h0.4639999999999418v8.000000000000014h-0.4639999999999418Z\" fill=\"#4c78a8\" fill-opacity=\"1\" stroke=\"#505050\" stroke-width=\"0\"/><path aria-label=\"x1: 4414; x2: 4416.9; level: 35; level2: 35.9; status: Default; sf: expm1b_kernel at exp.jl:78 [inlined]\" role=\"graphics-symbol\" aria-roledescription=\"rect mark\" d=\"M706.24,80.88888888888891h0.4639999999999418v7.999999999999972h-0.4639999999999418Z\" fill=\"#4c78a8\" fill-opacity=\"1\" stroke=\"#505050\" stroke-width=\"0\"/><path aria-label=\"x1: 4414; x2: 4416.9; level: 36; level2: 36.9; status: Default; sf: evalpoly at math.jl:177 [inlined]\" role=\"graphics-symbol\" aria-roledescription=\"rect mark\" d=\"M706.24,72.00000000000001h0.4639999999999418v7.999999999999972h-0.4639999999999418Z\" fill=\"#4c78a8\" fill-opacity=\"1\" stroke=\"#505050\" stroke-width=\"0\"/><path aria-label=\"x1: 4414; x2: 4416.9; level: 37; level2: 37.9; status: Default; sf: macro expansion at math.jl:178 [inlined]\" role=\"graphics-symbol\" aria-roledescription=\"rect mark\" d=\"M706.24,63.111111111111114h0.4639999999999418v8.000000000000014h-0.4639999999999418Z\" fill=\"#4c78a8\" fill-opacity=\"1\" stroke=\"#505050\" stroke-width=\"0\"/><path aria-label=\"x1: 4414; x2: 4416.9; level: 38; level2: 38.9; status: Default; sf: muladd at float.jl:413 [inlined]\" role=\"graphics-symbol\" aria-roledescription=\"rect mark\" d=\"M706.24,54.222222222222214h0.4639999999999418v8.000000000000007h-0.4639999999999418Z\" fill=\"#4c78a8\" fill-opacity=\"1\" stroke=\"#505050\" stroke-width=\"0\"/><path aria-label=\"x1: 4417; x2: 4424.9; level: 34; level2: 34.9; status: Default; sf: exp_impl at exp.jl:218 [inlined]\" role=\"graphics-symbol\" aria-roledescription=\"rect mark\" d=\"M706.72,89.77777777777777h1.2639999999998963v8.000000000000014h-1.2639999999998963Z\" fill=\"#4c78a8\" fill-opacity=\"1\" stroke=\"#505050\" stroke-width=\"0\"/><path aria-label=\"x1: 4417; x2: 4417.9; level: 35; level2: 35.9; status: Default; sf: &lt;= at float.jl:536 [inlined]\" role=\"graphics-symbol\" aria-roledescription=\"rect mark\" d=\"M706.72,80.88888888888891h0.14399999999989177v7.999999999999972h-0.14399999999989177Z\" fill=\"#4c78a8\" fill-opacity=\"1\" stroke=\"#505050\" stroke-width=\"0\"/><path aria-label=\"x1: 4418; x2: 4424.9; level: 35; level2: 35.9; status: Default; sf: abs at float.jl:609 [inlined]\" role=\"graphics-symbol\" aria-roledescription=\"rect mark\" d=\"M706.88,80.88888888888891h1.1039999999999281v7.999999999999972h-1.1039999999999281Z\" fill=\"#4c78a8\" fill-opacity=\"1\" stroke=\"#505050\" stroke-width=\"0\"/><path aria-label=\"x1: 4425; x2: 4426.9; level: 34; level2: 34.9; status: Default; sf: exp_impl at exp.jl:229 [inlined]\" role=\"graphics-symbol\" aria-roledescription=\"rect mark\" d=\"M708,89.77777777777777h0.3039999999999736v8.000000000000014h-0.3039999999999736Z\" fill=\"#4c78a8\" fill-opacity=\"1\" stroke=\"#505050\" stroke-width=\"0\"/><path aria-label=\"x1: 4425; x2: 4426.9; level: 35; level2: 35.9; status: Default; sf: + at int.jl:87 [inlined]\" role=\"graphics-symbol\" aria-roledescription=\"rect mark\" d=\"M708,80.88888888888891h0.3039999999999736v7.999999999999972h-0.3039999999999736Z\" fill=\"#4c78a8\" fill-opacity=\"1\" stroke=\"#505050\" stroke-width=\"0\"/><path aria-label=\"x1: 4432; x2: 4433.9; level: 30; level2: 30.9; status: Default; sf: cov!(cK::Matrix{Float64}, k::GaussianProcesses.Mat12Iso{Float64}, X1::Matrix{Float64}, X2::Matrix{Float64}, data::GaussianProcesses.IsotropicData{Matrix{Float64}}) at kernels.jl:68\" role=\"graphics-symbol\" aria-roledescription=\"rect mark\" d=\"M709.12,125.33333333333334h0.3039999999999736v8h-0.3039999999999736Z\" fill=\"#4c78a8\" fill-opacity=\"1\" stroke=\"#505050\" stroke-width=\"0\"/><path aria-label=\"x1: 4434; x2: 4435.9; level: 30; level2: 30.9; status: Default; sf: cov!(cK::Matrix{Float64}, k::GaussianProcesses.Mat12Iso{Float64}, X1::Matrix{Float64}, X2::Matrix{Float64}, data::GaussianProcesses.IsotropicData{Matrix{Float64}}) at kernels.jl:69\" role=\"graphics-symbol\" aria-roledescription=\"rect mark\" d=\"M709.44,125.33333333333334h0.3039999999999736v8h-0.3039999999999736Z\" fill=\"#4c78a8\" fill-opacity=\"1\" stroke=\"#505050\" stroke-width=\"0\"/><path aria-label=\"x1: 4436; x2: 4453.9; level: 28; level2: 28.9; status: Default; sf: predictMVN(xpred::Matrix{Float64}, xtrain::Matrix{Float64}, ytrain::Vector{Float64}, kernel::GaussianProcesses.Mat12Iso{Float64}, meanf::GaussianProcesses.MeanZero, alpha::Vector{Float64}, covstrat::GaussianProcesses.FullCovariance, Ktrain::PDMats.PDMat{Float64, Matrix{Float64}}) at GP.jl:45\" role=\"graphics-symbol\" aria-roledescription=\"rect mark\" d=\"M709.76,143.11111111111114h2.863999999999919v7.999999999999972h-2.863999999999919Z\" fill=\"#4c78a8\" fill-opacity=\"1\" stroke=\"#505050\" stroke-width=\"0\"/><path aria-label=\"x1: 4436; x2: 4445.9; level: 29; level2: 29.9; status: Default; sf: cov at kernels.jl:35 [inlined]\" role=\"graphics-symbol\" aria-roledescription=\"rect mark\" d=\"M709.76,134.22222222222223h1.5839999999999463v7.999999999999972h-1.5839999999999463Z\" fill=\"#4c78a8\" fill-opacity=\"1\" stroke=\"#505050\" stroke-width=\"0\"/><path aria-label=\"x1: 4436; x2: 4445.9; level: 30; level2: 30.9; status: Default; sf: Array at boot.jl:492 [inlined]\" role=\"graphics-symbol\" aria-roledescription=\"rect mark\" d=\"M709.76,125.33333333333334h1.5839999999999463v8h-1.5839999999999463Z\" fill=\"#4c78a8\" fill-opacity=\"1\" stroke=\"#505050\" stroke-width=\"0\"/><path aria-label=\"x1: 4436; x2: 4445.9; level: 31; level2: 31.9; status: Garbage collection; sf: Array at boot.jl:479 [inlined]\" role=\"graphics-symbol\" aria-roledescription=\"rect mark\" d=\"M709.76,116.44444444444444h1.5839999999999463v8h-1.5839999999999463Z\" fill=\"#f58518\" fill-opacity=\"1\" stroke=\"#505050\" stroke-width=\"0\"/><path aria-label=\"x1: 4446; x2: 4453.9; level: 29; level2: 29.9; status: Default; sf: cov at kernels.jl:36 [inlined]\" role=\"graphics-symbol\" aria-roledescription=\"rect mark\" d=\"M711.36,134.22222222222223h1.2639999999998963v7.999999999999972h-1.2639999999998963Z\" fill=\"#4c78a8\" fill-opacity=\"1\" stroke=\"#505050\" stroke-width=\"0\"/><path aria-label=\"x1: 4446; x2: 4446.9; level: 30; level2: 30.9; status: Default; sf: cov!(cK::Matrix{Float64}, k::GaussianProcesses.Mat12Iso{Float64}, X1::Matrix{Float64}, X2::Matrix{Float64}, data::GaussianProcesses.IsotropicData{Matrix{Float64}}) at kernels.jl:56\" role=\"graphics-symbol\" aria-roledescription=\"rect mark\" d=\"M711.36,125.33333333333334h0.14399999999989177v8h-0.14399999999989177Z\" fill=\"#4c78a8\" fill-opacity=\"1\" stroke=\"#505050\" stroke-width=\"0\"/><path aria-label=\"x1: 4447; x2: 4448.9; level: 30; level2: 30.9; status: Default; sf: cov!(cK::Matrix{Float64}, k::GaussianProcesses.Mat12Iso{Float64}, X1::Matrix{Float64}, X2::Matrix{Float64}, data::GaussianProcesses.IsotropicData{Matrix{Float64}}) at kernels.jl:57\" role=\"graphics-symbol\" aria-roledescription=\"rect mark\" d=\"M711.52,125.33333333333334h0.3039999999999736v8h-0.3039999999999736Z\" fill=\"#4c78a8\" fill-opacity=\"1\" stroke=\"#505050\" stroke-width=\"0\"/><path aria-label=\"x1: 4449; x2: 4453.9; level: 30; level2: 30.9; status: Default; sf: cov!(cK::Matrix{Float64}, k::GaussianProcesses.Mat12Iso{Float64}, X1::Matrix{Float64}, X2::Matrix{Float64}, data::GaussianProcesses.IsotropicData{Matrix{Float64}}) at kernels.jl:58\" role=\"graphics-symbol\" aria-roledescription=\"rect mark\" d=\"M711.84,125.33333333333334h0.7839999999998781v8h-0.7839999999998781Z\" fill=\"#4c78a8\" fill-opacity=\"1\" stroke=\"#505050\" stroke-width=\"0\"/><path aria-label=\"x1: 4449; x2: 4449.9; level: 31; level2: 31.9; status: Default; sf: cov!(cK::Matrix{Float64}, k::GaussianProcesses.Mat12Iso{Float64}, X::Matrix{Float64}, data::GaussianProcesses.IsotropicData{Matrix{Float64}}) at kernels.jl:40\" role=\"graphics-symbol\" aria-roledescription=\"rect mark\" d=\"M711.84,116.44444444444444h0.14399999999989177v8h-0.14399999999989177Z\" fill=\"#4c78a8\" fill-opacity=\"1\" stroke=\"#505050\" stroke-width=\"0\"/><path aria-label=\"x1: 4449; x2: 4449.9; level: 32; level2: 32.9; status: Default; sf: size at array.jl:150 [inlined]\" role=\"graphics-symbol\" aria-roledescription=\"rect mark\" d=\"M711.84,107.55555555555559h0.14399999999989177v7.999999999999957h-0.14399999999989177Z\" fill=\"#4c78a8\" fill-opacity=\"1\" stroke=\"#505050\" stroke-width=\"0\"/><path aria-label=\"x1: 4450; x2: 4452.9; level: 31; level2: 31.9; status: Default; sf: cov!(cK::Matrix{Float64}, k::GaussianProcesses.Mat12Iso{Float64}, X::Matrix{Float64}, data::GaussianProcesses.IsotropicData{Matrix{Float64}}) at kernels.jl:43\" role=\"graphics-symbol\" aria-roledescription=\"rect mark\" d=\"M712,116.44444444444444h0.4639999999999418v8h-0.4639999999999418Z\" fill=\"#4c78a8\" fill-opacity=\"1\" stroke=\"#505050\" stroke-width=\"0\"/><path aria-label=\"x1: 4450; x2: 4452.9; level: 32; level2: 32.9; status: Default; sf: cov_ij at stationary.jl:46 [inlined]\" role=\"graphics-symbol\" aria-roledescription=\"rect mark\" d=\"M712,107.55555555555559h0.4639999999999418v7.999999999999957h-0.4639999999999418Z\" fill=\"#4c78a8\" fill-opacity=\"1\" stroke=\"#505050\" stroke-width=\"0\"/><path aria-label=\"x1: 4450; x2: 4451.9; level: 33; level2: 33.9; status: Default; sf: getindex at essentials.jl:14 [inlined]\" role=\"graphics-symbol\" aria-roledescription=\"rect mark\" d=\"M712,98.66666666666669h0.3039999999999736v8h-0.3039999999999736Z\" fill=\"#4c78a8\" fill-opacity=\"1\" stroke=\"#505050\" stroke-width=\"0\"/><path aria-label=\"x1: 4452; x2: 4452.9; level: 33; level2: 33.9; status: Default; sf: cov at mat12_iso.jl:41 [inlined]\" role=\"graphics-symbol\" aria-roledescription=\"rect mark\" d=\"M712.3199999999999,98.66666666666669h0.14400000000000546v8h-0.14400000000000546Z\" fill=\"#4c78a8\" fill-opacity=\"1\" stroke=\"#505050\" stroke-width=\"0\"/><path aria-label=\"x1: 4452; x2: 4452.9; level: 34; level2: 34.9; status: Default; sf: getproperty at Base.jl:37 [inlined]\" role=\"graphics-symbol\" aria-roledescription=\"rect mark\" d=\"M712.3199999999999,89.77777777777777h0.14400000000000546v8.000000000000014h-0.14400000000000546Z\" fill=\"#4c78a8\" fill-opacity=\"1\" stroke=\"#505050\" stroke-width=\"0\"/><path aria-label=\"x1: 4453; x2: 4453.9; level: 31; level2: 31.9; status: Default; sf: cov!(cK::Matrix{Float64}, k::GaussianProcesses.Mat12Iso{Float64}, X::Matrix{Float64}, data::GaussianProcesses.IsotropicData{Matrix{Float64}}) at kernels.jl:48\" role=\"graphics-symbol\" aria-roledescription=\"rect mark\" d=\"M712.4799999999999,116.44444444444444h0.14400000000000546v8h-0.14400000000000546Z\" fill=\"#4c78a8\" fill-opacity=\"1\" stroke=\"#505050\" stroke-width=\"0\"/><path aria-label=\"x1: 4454; x2: 4457.9; level: 28; level2: 28.9; status: Default; sf: predictMVN(xpred::Matrix{Float64}, xtrain::Matrix{Float64}, ytrain::Vector{Float64}, kernel::GaussianProcesses.Mat12Iso{Float64}, meanf::GaussianProcesses.MeanZero, alpha::Vector{Float64}, covstrat::GaussianProcesses.FullCovariance, Ktrain::PDMats.PDMat{Float64, Matrix{Float64}}) at GP.jl:46\" role=\"graphics-symbol\" aria-roledescription=\"rect mark\" d=\"M712.64,143.11111111111114h0.62399999999991v7.999999999999972h-0.62399999999991Z\" fill=\"#4c78a8\" fill-opacity=\"1\" stroke=\"#505050\" stroke-width=\"0\"/><path aria-label=\"x1: 4454; x2: 4457.9; level: 29; level2: 29.9; status: Default; sf: mean at mZero.jl:16 [inlined]\" role=\"graphics-symbol\" aria-roledescription=\"rect mark\" d=\"M712.64,134.22222222222223h0.62399999999991v7.999999999999972h-0.62399999999991Z\" fill=\"#4c78a8\" fill-opacity=\"1\" stroke=\"#505050\" stroke-width=\"0\"/><path aria-label=\"x1: 4454; x2: 4457.9; level: 30; level2: 30.9; status: Default; sf: fill at array.jl:530 [inlined]\" role=\"graphics-symbol\" aria-roledescription=\"rect mark\" d=\"M712.64,125.33333333333334h0.62399999999991v8h-0.62399999999991Z\" fill=\"#4c78a8\" fill-opacity=\"1\" stroke=\"#505050\" stroke-width=\"0\"/><path aria-label=\"x1: 4454; x2: 4457.9; level: 31; level2: 31.9; status: Default; sf: fill at array.jl:532 [inlined]\" role=\"graphics-symbol\" aria-roledescription=\"rect mark\" d=\"M712.64,116.44444444444444h0.62399999999991v8h-0.62399999999991Z\" fill=\"#4c78a8\" fill-opacity=\"1\" stroke=\"#505050\" stroke-width=\"0\"/><path aria-label=\"x1: 4454; x2: 4457.9; level: 32; level2: 32.9; status: Default; sf: Array at boot.jl:486 [inlined]\" role=\"graphics-symbol\" aria-roledescription=\"rect mark\" d=\"M712.64,107.55555555555559h0.62399999999991v7.999999999999957h-0.62399999999991Z\" fill=\"#4c78a8\" fill-opacity=\"1\" stroke=\"#505050\" stroke-width=\"0\"/><path aria-label=\"x1: 4454; x2: 4457.9; level: 33; level2: 33.9; status: Garbage collection; sf: Array at boot.jl:477 [inlined]\" role=\"graphics-symbol\" aria-roledescription=\"rect mark\" d=\"M712.64,98.66666666666669h0.62399999999991v8h-0.62399999999991Z\" fill=\"#f58518\" fill-opacity=\"1\" stroke=\"#505050\" stroke-width=\"0\"/><path aria-label=\"x1: 4458; x2: 4560.9; level: 28; level2: 28.9; status: Default; sf: predictMVN(xpred::Matrix{Float64}, xtrain::Matrix{Float64}, ytrain::Vector{Float64}, kernel::GaussianProcesses.Mat12Iso{Float64}, meanf::GaussianProcesses.MeanZero, alpha::Vector{Float64}, covstrat::GaussianProcesses.FullCovariance, Ktrain::PDMats.PDMat{Float64, Matrix{Float64}}) at GP.jl:47\" role=\"graphics-symbol\" aria-roledescription=\"rect mark\" d=\"M713.28,143.11111111111114h16.463999999999942v7.999999999999972h-16.463999999999942Z\" fill=\"#4c78a8\" fill-opacity=\"1\" stroke=\"#505050\" stroke-width=\"0\"/><path aria-label=\"x1: 4458; x2: 4458.9; level: 29; level2: 29.9; status: Default; sf: gemv!(y::Vector{Float64}, tA::Char, A::Matrix{Float64}, x::Vector{Float64}, α::Bool, β::Bool) at matmul.jl:490\" role=\"graphics-symbol\" aria-roledescription=\"rect mark\" d=\"M713.28,134.22222222222223h0.14400000000000546v7.999999999999972h-0.14400000000000546Z\" fill=\"#4c78a8\" fill-opacity=\"1\" stroke=\"#505050\" stroke-width=\"0\"/><path aria-label=\"x1: 4459; x2: 4476.9; level: 29; level2: 29.9; status: Default; sf: predictMVN!(Kxx::Matrix{Float64}, Kff::PDMats.PDMat{Float64, Matrix{Float64}}, Kfx::Matrix{Float64}, mx::Vector{Float64}, αf::Vector{Float64}) at GP.jl:26\" role=\"graphics-symbol\" aria-roledescription=\"rect mark\" d=\"M713.44,134.22222222222223h2.863999999999919v7.999999999999972h-2.863999999999919Z\" fill=\"#4c78a8\" fill-opacity=\"1\" stroke=\"#505050\" stroke-width=\"0\"/><path aria-label=\"x1: 4459; x2: 4464.9; level: 30; level2: 30.9; status: Default; sf: +(A::Vector{Float64}, Bs::Vector{Float64}) at arraymath.jl:16\" role=\"graphics-symbol\" aria-roledescription=\"rect mark\" d=\"M713.44,125.33333333333334h0.9439999999998463v8h-0.9439999999998463Z\" fill=\"#4c78a8\" fill-opacity=\"1\" stroke=\"#505050\" stroke-width=\"0\"/><path aria-label=\"x1: 4459; x2: 4464.9; level: 31; level2: 31.9; status: Default; sf: broadcast_preserving_zero_d at broadcast.jl:862 [inlined]\" role=\"graphics-symbol\" aria-roledescription=\"rect mark\" d=\"M713.44,116.44444444444444h0.9439999999998463v8h-0.9439999999998463Z\" fill=\"#4c78a8\" fill-opacity=\"1\" stroke=\"#505050\" stroke-width=\"0\"/><path aria-label=\"x1: 4459; x2: 4464.9; level: 32; level2: 32.9; status: Default; sf: materialize at broadcast.jl:873 [inlined]\" role=\"graphics-symbol\" aria-roledescription=\"rect mark\" d=\"M713.44,107.55555555555559h0.9439999999998463v7.999999999999957h-0.9439999999998463Z\" fill=\"#4c78a8\" fill-opacity=\"1\" stroke=\"#505050\" stroke-width=\"0\"/><path aria-label=\"x1: 4459; x2: 4464.9; level: 33; level2: 33.9; status: Default; sf: copy at broadcast.jl:898 [inlined]\" role=\"graphics-symbol\" aria-roledescription=\"rect mark\" d=\"M713.44,98.66666666666669h0.9439999999998463v8h-0.9439999999998463Z\" fill=\"#4c78a8\" fill-opacity=\"1\" stroke=\"#505050\" stroke-width=\"0\"/><path aria-label=\"x1: 4459; x2: 4464.9; level: 34; level2: 34.9; status: Default; sf: similar at broadcast.jl:211 [inlined]\" role=\"graphics-symbol\" aria-roledescription=\"rect mark\" d=\"M713.44,89.77777777777777h0.9439999999998463v8.000000000000014h-0.9439999999998463Z\" fill=\"#4c78a8\" fill-opacity=\"1\" stroke=\"#505050\" stroke-width=\"0\"/><path aria-label=\"x1: 4459; x2: 4464.9; level: 35; level2: 35.9; status: Default; sf: similar at broadcast.jl:212 [inlined]\" role=\"graphics-symbol\" aria-roledescription=\"rect mark\" d=\"M713.44,80.88888888888891h0.9439999999998463v7.999999999999972h-0.9439999999998463Z\" fill=\"#4c78a8\" fill-opacity=\"1\" stroke=\"#505050\" stroke-width=\"0\"/><path aria-label=\"x1: 4459; x2: 4464.9; level: 36; level2: 36.9; status: Default; sf: similar at abstractarray.jl:881 [inlined]\" role=\"graphics-symbol\" aria-roledescription=\"rect mark\" d=\"M713.44,72.00000000000001h0.9439999999998463v7.999999999999972h-0.9439999999998463Z\" fill=\"#4c78a8\" fill-opacity=\"1\" stroke=\"#505050\" stroke-width=\"0\"/><path aria-label=\"x1: 4459; x2: 4464.9; level: 37; level2: 37.9; status: Default; sf: similar at abstractarray.jl:882 [inlined]\" role=\"graphics-symbol\" aria-roledescription=\"rect mark\" d=\"M713.44,63.111111111111114h0.9439999999998463v8.000000000000014h-0.9439999999998463Z\" fill=\"#4c78a8\" fill-opacity=\"1\" stroke=\"#505050\" stroke-width=\"0\"/><path aria-label=\"x1: 4459; x2: 4464.9; level: 38; level2: 38.9; status: Default; sf: Array at boot.jl:494 [inlined]\" role=\"graphics-symbol\" aria-roledescription=\"rect mark\" d=\"M713.44,54.222222222222214h0.9439999999998463v8.000000000000007h-0.9439999999998463Z\" fill=\"#4c78a8\" fill-opacity=\"1\" stroke=\"#505050\" stroke-width=\"0\"/><path aria-label=\"x1: 4459; x2: 4464.9; level: 39; level2: 39.9; status: Default; sf: Array at boot.jl:486 [inlined]\" role=\"graphics-symbol\" aria-roledescription=\"rect mark\" d=\"M713.44,45.33333333333336h0.9439999999998463v7.9999999999999645h-0.9439999999998463Z\" fill=\"#4c78a8\" fill-opacity=\"1\" stroke=\"#505050\" stroke-width=\"0\"/><path aria-label=\"x1: 4459; x2: 4464.9; level: 40; level2: 40.9; status: Garbage collection; sf: Array at boot.jl:477 [inlined]\" role=\"graphics-symbol\" aria-roledescription=\"rect mark\" d=\"M713.44,36.44444444444446h0.9439999999998463v8.000000000000007h-0.9439999999998463Z\" fill=\"#f58518\" fill-opacity=\"1\" stroke=\"#505050\" stroke-width=\"0\"/><path aria-label=\"x1: 4465; x2: 4465.9; level: 30; level2: 30.9; status: Default; sf: +(A::Vector{Float64}, Bs::Vector{Float64}) at indices.jl:0\" role=\"graphics-symbol\" aria-roledescription=\"rect mark\" d=\"M714.4,125.33333333333334h0.14400000000000546v8h-0.14400000000000546Z\" fill=\"#4c78a8\" fill-opacity=\"1\" stroke=\"#505050\" stroke-width=\"0\"/><path aria-label=\"x1: 4466; x2: 4476.9; level: 30; level2: 30.9; status: Default; sf: * at matmul.jl:101 [inlined]\" role=\"graphics-symbol\" aria-roledescription=\"rect mark\" d=\"M714.56,125.33333333333334h1.7440000000000282v8h-1.7440000000000282Z\" fill=\"#4c78a8\" fill-opacity=\"1\" stroke=\"#505050\" stroke-width=\"0\"/><path aria-label=\"x1: 4466; x2: 4469.9; level: 31; level2: 31.9; status: Default; sf: similar at abstractarray.jl:838 [inlined]\" role=\"graphics-symbol\" aria-roledescription=\"rect mark\" d=\"M714.56,116.44444444444444h0.62399999999991v8h-0.62399999999991Z\" fill=\"#4c78a8\" fill-opacity=\"1\" stroke=\"#505050\" stroke-width=\"0\"/><path aria-label=\"x1: 4466; x2: 4469.9; level: 32; level2: 32.9; status: Default; sf: similar at array.jl:374 [inlined]\" role=\"graphics-symbol\" aria-roledescription=\"rect mark\" d=\"M714.56,107.55555555555559h0.62399999999991v7.999999999999957h-0.62399999999991Z\" fill=\"#4c78a8\" fill-opacity=\"1\" stroke=\"#505050\" stroke-width=\"0\"/><path aria-label=\"x1: 4466; x2: 4469.9; level: 33; level2: 33.9; status: Default; sf: Array at boot.jl:486 [inlined]\" role=\"graphics-symbol\" aria-roledescription=\"rect mark\" d=\"M714.56,98.66666666666669h0.62399999999991v8h-0.62399999999991Z\" fill=\"#4c78a8\" fill-opacity=\"1\" stroke=\"#505050\" stroke-width=\"0\"/><path aria-label=\"x1: 4466; x2: 4469.9; level: 34; level2: 34.9; status: Garbage collection; sf: Array at boot.jl:477 [inlined]\" role=\"graphics-symbol\" aria-roledescription=\"rect mark\" d=\"M714.56,89.77777777777777h0.62399999999991v8.000000000000014h-0.62399999999991Z\" fill=\"#f58518\" fill-opacity=\"1\" stroke=\"#505050\" stroke-width=\"0\"/><path aria-label=\"x1: 4470; x2: 4476.9; level: 31; level2: 31.9; status: Default; sf: mul! at matmul.jl:276 [inlined]\" role=\"graphics-symbol\" aria-roledescription=\"rect mark\" d=\"M715.2,116.44444444444444h1.1039999999999281v8h-1.1039999999999281Z\" fill=\"#4c78a8\" fill-opacity=\"1\" stroke=\"#505050\" stroke-width=\"0\"/><path aria-label=\"x1: 4470; x2: 4476.9; level: 32; level2: 32.9; status: Default; sf: mul! at matmul.jl:109 [inlined]\" role=\"graphics-symbol\" aria-roledescription=\"rect mark\" d=\"M715.2,107.55555555555559h1.1039999999999281v7.999999999999957h-1.1039999999999281Z\" fill=\"#4c78a8\" fill-opacity=\"1\" stroke=\"#505050\" stroke-width=\"0\"/><path aria-label=\"x1: 4470; x2: 4476.9; level: 33; level2: 33.9; status: Default; sf: mul! at matmul.jl:93 [inlined]\" role=\"graphics-symbol\" aria-roledescription=\"rect mark\" d=\"M715.2,98.66666666666669h1.1039999999999281v8h-1.1039999999999281Z\" fill=\"#4c78a8\" fill-opacity=\"1\" stroke=\"#505050\" stroke-width=\"0\"/><path aria-label=\"x1: 4470; x2: 4476.9; level: 34; level2: 34.9; status: Default; sf: gemv!(y::Vector{Float64}, tA::Char, A::Matrix{Float64}, x::Vector{Float64}, α::Bool, β::Bool) at matmul.jl:503\" role=\"graphics-symbol\" aria-roledescription=\"rect mark\" d=\"M715.2,89.77777777777777h1.1039999999999281v8.000000000000014h-1.1039999999999281Z\" fill=\"#4c78a8\" fill-opacity=\"1\" stroke=\"#505050\" stroke-width=\"0\"/><path aria-label=\"x1: 4470; x2: 4476.9; level: 35; level2: 35.9; status: Default; sf: gemv!(trans::Char, alpha::Float64, A::Matrix{Float64}, X::Vector{Float64}, beta::Float64, Y::Vector{Float64}) at blas.jl:667\" role=\"graphics-symbol\" aria-roledescription=\"rect mark\" d=\"M715.2,80.88888888888891h1.1039999999999281v7.999999999999972h-1.1039999999999281Z\" fill=\"#4c78a8\" fill-opacity=\"1\" stroke=\"#505050\" stroke-width=\"0\"/><path aria-label=\"x1: 4477; x2: 4544.9; level: 29; level2: 29.9; status: Default; sf: predictMVN!(Kxx::Matrix{Float64}, Kff::PDMats.PDMat{Float64, Matrix{Float64}}, Kfx::Matrix{Float64}, mx::Vector{Float64}, αf::Vector{Float64}) at GP.jl:27\" role=\"graphics-symbol\" aria-roledescription=\"rect mark\" d=\"M716.3199999999999,134.22222222222223h10.864000000000033v7.999999999999972h-10.864000000000033Z\" fill=\"#4c78a8\" fill-opacity=\"1\" stroke=\"#505050\" stroke-width=\"0\"/><path aria-label=\"x1: 4477; x2: 4544.9; level: 30; level2: 30.9; status: Default; sf: whiten! at generics.jl:32 [inlined]\" role=\"graphics-symbol\" aria-roledescription=\"rect mark\" d=\"M716.3199999999999,125.33333333333334h10.864000000000033v8h-10.864000000000033Z\" fill=\"#4c78a8\" fill-opacity=\"1\" stroke=\"#505050\" stroke-width=\"0\"/><path aria-label=\"x1: 4477; x2: 4478.9; level: 31; level2: 31.9; status: Default; sf: whiten!(r::Matrix{Float64}, a::PDMats.PDMat{Float64, Matrix{Float64}}, x::Matrix{Float64}) at pdmat.jl:65\" role=\"graphics-symbol\" aria-roledescription=\"rect mark\" d=\"M716.3199999999999,116.44444444444444h0.3039999999999736v8h-0.3039999999999736Z\" fill=\"#4c78a8\" fill-opacity=\"1\" stroke=\"#505050\" stroke-width=\"0\"/><path aria-label=\"x1: 4477; x2: 4477.9; level: 32; level2: 32.9; status: Default; sf: getproperty at Base.jl:37 [inlined]\" role=\"graphics-symbol\" aria-roledescription=\"rect mark\" d=\"M716.3199999999999,107.55555555555559h0.14400000000000546v7.999999999999957h-0.14400000000000546Z\" fill=\"#4c78a8\" fill-opacity=\"1\" stroke=\"#505050\" stroke-width=\"0\"/><path aria-label=\"x1: 4478; x2: 4478.9; level: 32; level2: 32.9; status: Garbage collection; sf: getproperty(C::LinearAlgebra.Cholesky{Float64, Matrix{Float64}}, d::Symbol) at cholesky.jl:519\" role=\"graphics-symbol\" aria-roledescription=\"rect mark\" d=\"M716.48,107.55555555555559h0.14399999999989177v7.999999999999957h-0.14399999999989177Z\" fill=\"#f58518\" fill-opacity=\"1\" stroke=\"#505050\" stroke-width=\"0\"/><path aria-label=\"x1: 4479; x2: 4544.9; level: 31; level2: 31.9; status: Default; sf: whiten!(r::Matrix{Float64}, a::PDMats.PDMat{Float64, Matrix{Float64}}, x::Matrix{Float64}) at pdmat.jl:67\" role=\"graphics-symbol\" aria-roledescription=\"rect mark\" d=\"M716.64,116.44444444444444h10.543999999999983v8h-10.543999999999983Z\" fill=\"#4c78a8\" fill-opacity=\"1\" stroke=\"#505050\" stroke-width=\"0\"/><path aria-label=\"x1: 4479; x2: 4544.9; level: 32; level2: 32.9; status: Default; sf: ldiv! at triangular.jl:786 [inlined]\" role=\"graphics-symbol\" aria-roledescription=\"rect mark\" d=\"M716.64,107.55555555555559h10.543999999999983v7.999999999999957h-10.543999999999983Z\" fill=\"#4c78a8\" fill-opacity=\"1\" stroke=\"#505050\" stroke-width=\"0\"/><path aria-label=\"x1: 4479; x2: 4543.9; level: 33; level2: 33.9; status: Default; sf: trtrs!(uplo::Char, trans::Char, diag::Char, A::Matrix{Float64}, B::Matrix{Float64}) at lapack.jl:3417\" role=\"graphics-symbol\" aria-roledescription=\"rect mark\" d=\"M716.64,98.66666666666669h10.3839999999999v8h-10.3839999999999Z\" fill=\"#4c78a8\" fill-opacity=\"1\" stroke=\"#505050\" stroke-width=\"0\"/><path aria-label=\"x1: 4545; x2: 4559.9; level: 29; level2: 29.9; status: Default; sf: predictMVN!(Kxx::Matrix{Float64}, Kff::PDMats.PDMat{Float64, Matrix{Float64}}, Kfx::Matrix{Float64}, mx::Vector{Float64}, αf::Vector{Float64}) at GP.jl:28\" role=\"graphics-symbol\" aria-roledescription=\"rect mark\" d=\"M727.2,134.22222222222223h2.383999999999901v7.999999999999972h-2.383999999999901Z\" fill=\"#4c78a8\" fill-opacity=\"1\" stroke=\"#505050\" stroke-width=\"0\"/><path aria-label=\"x1: 4545; x2: 4558.9; level: 30; level2: 30.9; status: Default; sf: subtract_Lck! at GP.jl:52 [inlined]\" role=\"graphics-symbol\" aria-roledescription=\"rect mark\" d=\"M727.2,125.33333333333334h2.2239999999999327v8h-2.2239999999999327Z\" fill=\"#4c78a8\" fill-opacity=\"1\" stroke=\"#505050\" stroke-width=\"0\"/><path aria-label=\"x1: 4545; x2: 4558.9; level: 31; level2: 31.9; status: Default; sf: syrk!(uplo::Char, trans::Char, alpha::Float64, A::Matrix{Float64}, beta::Float64, C::Matrix{Float64}) at blas.jl:1784\" role=\"graphics-symbol\" aria-roledescription=\"rect mark\" d=\"M727.2,116.44444444444444h2.2239999999999327v8h-2.2239999999999327Z\" fill=\"#4c78a8\" fill-opacity=\"1\" stroke=\"#505050\" stroke-width=\"0\"/><path aria-label=\"x1: 4545; x2: 4545.9; level: 32; level2: 32.9; status: Default; sf: max at promotion.jl:510 [inlined]\" role=\"graphics-symbol\" aria-roledescription=\"rect mark\" d=\"M727.2,107.55555555555559h0.14399999999989177v7.999999999999957h-0.14399999999989177Z\" fill=\"#4c78a8\" fill-opacity=\"1\" stroke=\"#505050\" stroke-width=\"0\"/><path aria-label=\"x1: 4545; x2: 4545.9; level: 33; level2: 33.9; status: Default; sf: ifelse at essentials.jl:575 [inlined]\" role=\"graphics-symbol\" aria-roledescription=\"rect mark\" d=\"M727.2,98.66666666666669h0.14399999999989177v8h-0.14399999999989177Z\" fill=\"#4c78a8\" fill-opacity=\"1\" stroke=\"#505050\" stroke-width=\"0\"/><path aria-label=\"x1: 4559; x2: 4559.9; level: 30; level2: 30.9; status: Default; sf: subtract_Lck! at GP.jl:53 [inlined]\" role=\"graphics-symbol\" aria-roledescription=\"rect mark\" d=\"M729.44,125.33333333333334h0.14399999999989177v8h-0.14399999999989177Z\" fill=\"#4c78a8\" fill-opacity=\"1\" stroke=\"#505050\" stroke-width=\"0\"/><path aria-label=\"x1: 4559; x2: 4559.9; level: 31; level2: 31.9; status: Default; sf: copytri! at matmul.jl:474 [inlined]\" role=\"graphics-symbol\" aria-roledescription=\"rect mark\" d=\"M729.44,116.44444444444444h0.14399999999989177v8h-0.14399999999989177Z\" fill=\"#4c78a8\" fill-opacity=\"1\" stroke=\"#505050\" stroke-width=\"0\"/><path aria-label=\"x1: 4559; x2: 4559.9; level: 32; level2: 32.9; status: Default; sf: copytri! at matmul.jl:474 [inlined]\" role=\"graphics-symbol\" aria-roledescription=\"rect mark\" d=\"M729.44,107.55555555555559h0.14399999999989177v7.999999999999957h-0.14399999999989177Z\" fill=\"#4c78a8\" fill-opacity=\"1\" stroke=\"#505050\" stroke-width=\"0\"/><path aria-label=\"x1: 4559; x2: 4559.9; level: 33; level2: 33.9; status: Default; sf: checksquare at LinearAlgebra.jl:238 [inlined]\" role=\"graphics-symbol\" aria-roledescription=\"rect mark\" d=\"M729.44,98.66666666666669h0.14399999999989177v8h-0.14399999999989177Z\" fill=\"#4c78a8\" fill-opacity=\"1\" stroke=\"#505050\" stroke-width=\"0\"/><path aria-label=\"x1: 4559; x2: 4559.9; level: 34; level2: 34.9; status: Default; sf: size at array.jl:150 [inlined]\" role=\"graphics-symbol\" aria-roledescription=\"rect mark\" d=\"M729.44,89.77777777777777h0.14399999999989177v8.000000000000014h-0.14399999999989177Z\" fill=\"#4c78a8\" fill-opacity=\"1\" stroke=\"#505050\" stroke-width=\"0\"/><path aria-label=\"x1: 4561; x2: 4561.9; level: 28; level2: 28.9; status: Default; sf: distance!(dist::Matrix{Float64}, m::Distances.Euclidean, X::Matrix{Float64}, Y::Matrix{Float64}) at distance.jl:27\" role=\"graphics-symbol\" aria-roledescription=\"rect mark\" d=\"M729.76,143.11111111111114h0.14400000000000546v7.999999999999972h-0.14400000000000546Z\" fill=\"#4c78a8\" fill-opacity=\"1\" stroke=\"#505050\" stroke-width=\"0\"/><path aria-label=\"x1: 4562; x2: 4565.9; level: 26; level2: 26.9; status: Default; sf: predict_f(gp::GaussianProcesses.GPE{Matrix{Float64}, Vector{Float64}, GaussianProcesses.MeanZero, GaussianProcesses.Mat12Iso{Float64}, GaussianProcesses.FullCovariance, GaussianProcesses.IsotropicData{Matrix{Float64}}, PDMats.PDMat{Float64, Matrix{Float64}}, GaussianProcesses.Scalar{Float64}}, x::Base.ReshapedArray{Float64, 2, LinearAlgebra.Adjoint{Float64, Vector{Float64}}, Tuple{}}; full_cov::Bool) at GP.jl:75\" role=\"graphics-symbol\" aria-roledescription=\"rect mark\" d=\"M729.92,160.8888888888889h0.62399999999991v8h-0.62399999999991Z\" fill=\"#4c78a8\" fill-opacity=\"1\" stroke=\"#505050\" stroke-width=\"0\"/><path aria-label=\"x1: 4562; x2: 4562.9; level: 27; level2: 27.9; status: Default; sf: getindex at essentials.jl:13 [inlined]\" role=\"graphics-symbol\" aria-roledescription=\"rect mark\" d=\"M729.92,152h0.14400000000000546v8h-0.14400000000000546Z\" fill=\"#4c78a8\" fill-opacity=\"1\" stroke=\"#505050\" stroke-width=\"0\"/><path aria-label=\"x1: 4563; x2: 4563.9; level: 27; level2: 27.9; status: Default; sf: max at math.jl:863 [inlined]\" role=\"graphics-symbol\" aria-roledescription=\"rect mark\" d=\"M730.0799999999999,152h0.14400000000000546v8h-0.14400000000000546Z\" fill=\"#4c78a8\" fill-opacity=\"1\" stroke=\"#505050\" stroke-width=\"0\"/><path aria-label=\"x1: 4563; x2: 4563.9; level: 28; level2: 28.9; status: Default; sf: signbit at floatfuncs.jl:15 [inlined]\" role=\"graphics-symbol\" aria-roledescription=\"rect mark\" d=\"M730.0799999999999,143.11111111111114h0.14400000000000546v7.999999999999972h-0.14400000000000546Z\" fill=\"#4c78a8\" fill-opacity=\"1\" stroke=\"#505050\" stroke-width=\"0\"/><path aria-label=\"x1: 4564; x2: 4565.9; level: 27; level2: 27.9; status: Default; sf: diag at dense.jl:249 [inlined]\" role=\"graphics-symbol\" aria-roledescription=\"rect mark\" d=\"M730.24,152h0.30399999999985994v8h-0.30399999999985994Z\" fill=\"#4c78a8\" fill-opacity=\"1\" stroke=\"#505050\" stroke-width=\"0\"/><path aria-label=\"x1: 4564; x2: 4565.9; level: 28; level2: 28.9; status: Default; sf: diag(A::Matrix{Float64}, k::Int64) at dense.jl:249\" role=\"graphics-symbol\" aria-roledescription=\"rect mark\" d=\"M730.24,143.11111111111114h0.30399999999985994v7.999999999999972h-0.30399999999985994Z\" fill=\"#4c78a8\" fill-opacity=\"1\" stroke=\"#505050\" stroke-width=\"0\"/><path aria-label=\"x1: 4564; x2: 4564.9; level: 29; level2: 29.9; status: Default; sf: getindex at array.jl:944 [inlined]\" role=\"graphics-symbol\" aria-roledescription=\"rect mark\" d=\"M730.24,134.22222222222223h0.14399999999989177v7.999999999999972h-0.14399999999989177Z\" fill=\"#4c78a8\" fill-opacity=\"1\" stroke=\"#505050\" stroke-width=\"0\"/><path aria-label=\"x1: 4564; x2: 4564.9; level: 30; level2: 30.9; status: Default; sf: _array_for at array.jl:674 [inlined]\" role=\"graphics-symbol\" aria-roledescription=\"rect mark\" d=\"M730.24,125.33333333333334h0.14399999999989177v8h-0.14399999999989177Z\" fill=\"#4c78a8\" fill-opacity=\"1\" stroke=\"#505050\" stroke-width=\"0\"/><path aria-label=\"x1: 4564; x2: 4564.9; level: 31; level2: 31.9; status: Default; sf: _array_for at array.jl:671 [inlined]\" role=\"graphics-symbol\" aria-roledescription=\"rect mark\" d=\"M730.24,116.44444444444444h0.14399999999989177v8h-0.14399999999989177Z\" fill=\"#4c78a8\" fill-opacity=\"1\" stroke=\"#505050\" stroke-width=\"0\"/><path aria-label=\"x1: 4564; x2: 4564.9; level: 32; level2: 32.9; status: Default; sf: similar at abstractarray.jl:881 [inlined]\" role=\"graphics-symbol\" aria-roledescription=\"rect mark\" d=\"M730.24,107.55555555555559h0.14399999999989177v7.999999999999957h-0.14399999999989177Z\" fill=\"#4c78a8\" fill-opacity=\"1\" stroke=\"#505050\" stroke-width=\"0\"/><path aria-label=\"x1: 4564; x2: 4564.9; level: 33; level2: 33.9; status: Default; sf: similar at abstractarray.jl:882 [inlined]\" role=\"graphics-symbol\" aria-roledescription=\"rect mark\" d=\"M730.24,98.66666666666669h0.14399999999989177v8h-0.14399999999989177Z\" fill=\"#4c78a8\" fill-opacity=\"1\" stroke=\"#505050\" stroke-width=\"0\"/><path aria-label=\"x1: 4564; x2: 4564.9; level: 34; level2: 34.9; status: Default; sf: Array at boot.jl:486 [inlined]\" role=\"graphics-symbol\" aria-roledescription=\"rect mark\" d=\"M730.24,89.77777777777777h0.14399999999989177v8.000000000000014h-0.14399999999989177Z\" fill=\"#4c78a8\" fill-opacity=\"1\" stroke=\"#505050\" stroke-width=\"0\"/><path aria-label=\"x1: 4564; x2: 4564.9; level: 35; level2: 35.9; status: Default; sf: Array at boot.jl:477 [inlined]\" role=\"graphics-symbol\" aria-roledescription=\"rect mark\" d=\"M730.24,80.88888888888891h0.14399999999989177v7.999999999999972h-0.14399999999989177Z\" fill=\"#4c78a8\" fill-opacity=\"1\" stroke=\"#505050\" stroke-width=\"0\"/><path aria-label=\"x1: 4565; x2: 4565.9; level: 29; level2: 29.9; status: Default; sf: diagind at dense.jl:225 [inlined]\" role=\"graphics-symbol\" aria-roledescription=\"rect mark\" d=\"M730.4,134.22222222222223h0.14399999999989177v7.999999999999972h-0.14399999999989177Z\" fill=\"#4c78a8\" fill-opacity=\"1\" stroke=\"#505050\" stroke-width=\"0\"/><path aria-label=\"x1: 4565; x2: 4565.9; level: 30; level2: 30.9; status: Default; sf: diagind at dense.jl:201 [inlined]\" role=\"graphics-symbol\" aria-roledescription=\"rect mark\" d=\"M730.4,125.33333333333334h0.14399999999989177v8h-0.14399999999989177Z\" fill=\"#4c78a8\" fill-opacity=\"1\" stroke=\"#505050\" stroke-width=\"0\"/><path aria-label=\"x1: 4565; x2: 4565.9; level: 31; level2: 31.9; status: Default; sf: range at range.jl:142 [inlined]\" role=\"graphics-symbol\" aria-roledescription=\"rect mark\" d=\"M730.4,116.44444444444444h0.14399999999989177v8h-0.14399999999989177Z\" fill=\"#4c78a8\" fill-opacity=\"1\" stroke=\"#505050\" stroke-width=\"0\"/><path aria-label=\"x1: 4565; x2: 4565.9; level: 32; level2: 32.9; status: Default; sf: #range#70 at range.jl:142 [inlined]\" role=\"graphics-symbol\" aria-roledescription=\"rect mark\" d=\"M730.4,107.55555555555559h0.14399999999989177v7.999999999999957h-0.14399999999989177Z\" fill=\"#4c78a8\" fill-opacity=\"1\" stroke=\"#505050\" stroke-width=\"0\"/><path aria-label=\"x1: 4565; x2: 4565.9; level: 33; level2: 33.9; status: Default; sf: _range at range.jl:163 [inlined]\" role=\"graphics-symbol\" aria-roledescription=\"rect mark\" d=\"M730.4,98.66666666666669h0.14399999999989177v8h-0.14399999999989177Z\" fill=\"#4c78a8\" fill-opacity=\"1\" stroke=\"#505050\" stroke-width=\"0\"/><path aria-label=\"x1: 4565; x2: 4565.9; level: 34; level2: 34.9; status: Default; sf: range_start_step_length at range.jl:211 [inlined]\" role=\"graphics-symbol\" aria-roledescription=\"rect mark\" d=\"M730.4,89.77777777777777h0.14399999999989177v8.000000000000014h-0.14399999999989177Z\" fill=\"#4c78a8\" fill-opacity=\"1\" stroke=\"#505050\" stroke-width=\"0\"/><path aria-label=\"x1: 4565; x2: 4565.9; level: 35; level2: 35.9; status: Default; sf: StepRange at range.jl:320 [inlined]\" role=\"graphics-symbol\" aria-roledescription=\"rect mark\" d=\"M730.4,80.88888888888891h0.14399999999989177v7.999999999999972h-0.14399999999989177Z\" fill=\"#4c78a8\" fill-opacity=\"1\" stroke=\"#505050\" stroke-width=\"0\"/><path aria-label=\"x1: 4565; x2: 4565.9; level: 36; level2: 36.9; status: Default; sf: steprange_last(start::Int64, step::Int64, stop::Int64) at range.jl:325\" role=\"graphics-symbol\" aria-roledescription=\"rect mark\" d=\"M730.4,72.00000000000001h0.14399999999989177v7.999999999999972h-0.14399999999989177Z\" fill=\"#4c78a8\" fill-opacity=\"1\" stroke=\"#505050\" stroke-width=\"0\"/><path aria-label=\"x1: 4566; x2: 4671.9; level: 26; level2: 26.9; status: Garbage collection; sf: predict_f(gp::GaussianProcesses.GPE{Matrix{Float64}, Vector{Float64}, GaussianProcesses.MeanZero, GaussianProcesses.Mat12Iso{Float64}, GaussianProcesses.FullCovariance, GaussianProcesses.IsotropicData{Matrix{Float64}}, PDMats.PDMat{Float64, Matrix{Float64}}, GaussianProcesses.Scalar{Float64}}, x::Base.ReshapedArray{Float64, 2, LinearAlgebra.Adjoint{Float64, Vector{Float64}}, Tuple{}}; full_cov::Bool) at GP.jl:77\" role=\"graphics-symbol\" aria-roledescription=\"rect mark\" d=\"M730.5600000000001,160.8888888888889h16.943999999999846v8h-16.943999999999846Z\" fill=\"#f58518\" fill-opacity=\"1\" stroke=\"#505050\" stroke-width=\"0\"/><path aria-label=\"x1: 4683; x2: 4684.9; level: 17; level2: 17.9; status: Default; sf: copyto_nonleaf!(dest::BitArray{3}, bc::Base.Broadcast.Broadcasted{Base.Broadcast.DefaultArrayStyle{3}, Tuple{Base.OneTo{Int64}, Base.OneTo{Int64}, Base.OneTo{Int64}}, BayesianSafetyValidation.var&quot;#65#73&quot;{GaussianProcesses.GPE{Matrix{Float64}, Vector{Float64}, GaussianProcesses.MeanZero, GaussianProcesses.Mat12Iso{Float64}, GaussianProcesses.FullCovariance, GaussianProcesses.IsotropicData{Matrix{Float64}}, PDMats.PDMat{Float64, Matrix{Float64}}, GaussianProcesses.Scalar{Float64}}}, Tuple{Base.Broadcast.Extruded{Array{Float64, 3}, Tuple{Bool, Bool, Bool}, Tuple{Int64, Int64, Int64}}, Base.Broadcast.Extruded{Array{Float64, 3}, Tuple{Bool, Bool, Bool}, Tuple{Int64, Int64, Int64}}, Base.Broadcast.Extruded{Array{Float64, 3}, Tuple{Bool, Bool, Bool}, Tuple{Int64, Int64, Int64}}}}, iter::CartesianIndices{3, Tuple{Base.OneTo{Int64}, Base.OneTo{Int64}, Base.OneTo{Int64}}}, state::CartesianIndex{3}, count::Int64) at broadcast.jl:1069\" role=\"graphics-symbol\" aria-roledescription=\"rect mark\" d=\"M749.28,240.88888888888889h0.3039999999999736v8h-0.3039999999999736Z\" fill=\"#4c78a8\" fill-opacity=\"1\" stroke=\"#505050\" stroke-width=\"0\"/><path aria-label=\"x1: 4685; x2: 4689.9; level: 17; level2: 17.9; status: Default; sf: copyto_nonleaf!(dest::BitArray{3}, bc::Base.Broadcast.Broadcasted{Base.Broadcast.DefaultArrayStyle{3}, Tuple{Base.OneTo{Int64}, Base.OneTo{Int64}, Base.OneTo{Int64}}, BayesianSafetyValidation.var&quot;#65#73&quot;{GaussianProcesses.GPE{Matrix{Float64}, Vector{Float64}, GaussianProcesses.MeanZero, GaussianProcesses.Mat12Iso{Float64}, GaussianProcesses.FullCovariance, GaussianProcesses.IsotropicData{Matrix{Float64}}, PDMats.PDMat{Float64, Matrix{Float64}}, GaussianProcesses.Scalar{Float64}}}, Tuple{Base.Broadcast.Extruded{Array{Float64, 3}, Tuple{Bool, Bool, Bool}, Tuple{Int64, Int64, Int64}}, Base.Broadcast.Extruded{Array{Float64, 3}, Tuple{Bool, Bool, Bool}, Tuple{Int64, Int64, Int64}}, Base.Broadcast.Extruded{Array{Float64, 3}, Tuple{Bool, Bool, Bool}, Tuple{Int64, Int64, Int64}}}}, iter::CartesianIndices{3, Tuple{Base.OneTo{Int64}, Base.OneTo{Int64}, Base.OneTo{Int64}}}, state::CartesianIndex{3}, count::Int64) at broadcast.jl:1070\" role=\"graphics-symbol\" aria-roledescription=\"rect mark\" d=\"M749.6,240.88888888888889h0.7839999999998781v8h-0.7839999999998781Z\" fill=\"#4c78a8\" fill-opacity=\"1\" stroke=\"#505050\" stroke-width=\"0\"/><path aria-label=\"x1: 4685; x2: 4689.9; level: 18; level2: 18.9; status: Default; sf: setindex! at abstractarray.jl:1397 [inlined]\" role=\"graphics-symbol\" aria-roledescription=\"rect mark\" d=\"M749.6,232.00000000000003h0.7839999999998781v7.999999999999972h-0.7839999999998781Z\" fill=\"#4c78a8\" fill-opacity=\"1\" stroke=\"#505050\" stroke-width=\"0\"/><path aria-label=\"x1: 4685; x2: 4689.9; level: 19; level2: 19.9; status: Default; sf: _setindex! at abstractarray.jl:1420 [inlined]\" role=\"graphics-symbol\" aria-roledescription=\"rect mark\" d=\"M749.6,223.11111111111111h0.7839999999998781v7.999999999999972h-0.7839999999998781Z\" fill=\"#4c78a8\" fill-opacity=\"1\" stroke=\"#505050\" stroke-width=\"0\"/><path aria-label=\"x1: 4685; x2: 4686.9; level: 20; level2: 20.9; status: Default; sf: _to_linear_index at abstractarray.jl:1333 [inlined]\" role=\"graphics-symbol\" aria-roledescription=\"rect mark\" d=\"M749.6,214.22222222222223h0.30399999999985994v8h-0.30399999999985994Z\" fill=\"#4c78a8\" fill-opacity=\"1\" stroke=\"#505050\" stroke-width=\"0\"/><path aria-label=\"x1: 4685; x2: 4686.9; level: 21; level2: 21.9; status: Default; sf: _sub2ind at abstractarray.jl:2933 [inlined]\" role=\"graphics-symbol\" aria-roledescription=\"rect mark\" d=\"M749.6,205.33333333333337h0.30399999999985994v7.999999999999972h-0.30399999999985994Z\" fill=\"#4c78a8\" fill-opacity=\"1\" stroke=\"#505050\" stroke-width=\"0\"/><path aria-label=\"x1: 4685; x2: 4685.9; level: 22; level2: 22.9; status: Default; sf: _sub2ind at abstractarray.jl:2949 [inlined]\" role=\"graphics-symbol\" aria-roledescription=\"rect mark\" d=\"M749.6,196.44444444444446h0.14399999999989177v7.999999999999972h-0.14399999999989177Z\" fill=\"#4c78a8\" fill-opacity=\"1\" stroke=\"#505050\" stroke-width=\"0\"/><path aria-label=\"x1: 4685; x2: 4685.9; level: 23; level2: 23.9; status: Default; sf: _sub2ind_recurse at abstractarray.jl:2965 [inlined]\" role=\"graphics-symbol\" aria-roledescription=\"rect mark\" d=\"M749.6,187.55555555555557h0.14399999999989177v8h-0.14399999999989177Z\" fill=\"#4c78a8\" fill-opacity=\"1\" stroke=\"#505050\" stroke-width=\"0\"/><path aria-label=\"x1: 4685; x2: 4685.9; level: 24; level2: 24.9; status: Default; sf: _sub2ind_recurse at abstractarray.jl:2965 [inlined]\" role=\"graphics-symbol\" aria-roledescription=\"rect mark\" d=\"M749.6,178.66666666666666h0.14399999999989177v8h-0.14399999999989177Z\" fill=\"#4c78a8\" fill-opacity=\"1\" stroke=\"#505050\" stroke-width=\"0\"/><path aria-label=\"x1: 4685; x2: 4685.9; level: 25; level2: 25.9; status: Default; sf: _sub2ind_recurse at abstractarray.jl:2965 [inlined]\" role=\"graphics-symbol\" aria-roledescription=\"rect mark\" d=\"M749.6,169.7777777777778h0.14399999999989177v7.999999999999972h-0.14399999999989177Z\" fill=\"#4c78a8\" fill-opacity=\"1\" stroke=\"#505050\" stroke-width=\"0\"/><path aria-label=\"x1: 4685; x2: 4685.9; level: 26; level2: 26.9; status: Default; sf: * at int.jl:88 [inlined]\" role=\"graphics-symbol\" aria-roledescription=\"rect mark\" d=\"M749.6,160.8888888888889h0.14399999999989177v8h-0.14399999999989177Z\" fill=\"#4c78a8\" fill-opacity=\"1\" stroke=\"#505050\" stroke-width=\"0\"/><path aria-label=\"x1: 4686; x2: 4686.9; level: 22; level2: 22.9; status: Default; sf: axes at abstractarray.jl:98 [inlined]\" role=\"graphics-symbol\" aria-roledescription=\"rect mark\" d=\"M749.76,196.44444444444446h0.14399999999989177v7.999999999999972h-0.14399999999989177Z\" fill=\"#4c78a8\" fill-opacity=\"1\" stroke=\"#505050\" stroke-width=\"0\"/><path aria-label=\"x1: 4686; x2: 4686.9; level: 23; level2: 23.9; status: Default; sf: size at bitarray.jl:105 [inlined]\" role=\"graphics-symbol\" aria-roledescription=\"rect mark\" d=\"M749.76,187.55555555555557h0.14399999999989177v8h-0.14399999999989177Z\" fill=\"#4c78a8\" fill-opacity=\"1\" stroke=\"#505050\" stroke-width=\"0\"/><path aria-label=\"x1: 4686; x2: 4686.9; level: 24; level2: 24.9; status: Default; sf: getproperty at Base.jl:37 [inlined]\" role=\"graphics-symbol\" aria-roledescription=\"rect mark\" d=\"M749.76,178.66666666666666h0.14399999999989177v8h-0.14399999999989177Z\" fill=\"#4c78a8\" fill-opacity=\"1\" stroke=\"#505050\" stroke-width=\"0\"/><path aria-label=\"x1: 4687; x2: 4689.9; level: 20; level2: 20.9; status: Default; sf: setindex! at bitarray.jl:702 [inlined]\" role=\"graphics-symbol\" aria-roledescription=\"rect mark\" d=\"M749.92,214.22222222222223h0.4639999999999418v8h-0.4639999999999418Z\" fill=\"#4c78a8\" fill-opacity=\"1\" stroke=\"#505050\" stroke-width=\"0\"/><path aria-label=\"x1: 4687; x2: 4689.9; level: 21; level2: 21.9; status: Default; sf: unsafe_bitsetindex! at bitarray.jl:689 [inlined]\" role=\"graphics-symbol\" aria-roledescription=\"rect mark\" d=\"M749.92,205.33333333333337h0.4639999999999418v7.999999999999972h-0.4639999999999418Z\" fill=\"#4c78a8\" fill-opacity=\"1\" stroke=\"#505050\" stroke-width=\"0\"/><path aria-label=\"x1: 4687; x2: 4688.9; level: 22; level2: 22.9; status: Default; sf: _unsafe_bitsetindex! at bitarray.jl:695 [inlined]\" role=\"graphics-symbol\" aria-roledescription=\"rect mark\" d=\"M749.92,196.44444444444446h0.3039999999999736v7.999999999999972h-0.3039999999999736Z\" fill=\"#4c78a8\" fill-opacity=\"1\" stroke=\"#505050\" stroke-width=\"0\"/><path aria-label=\"x1: 4687; x2: 4688.9; level: 23; level2: 23.9; status: Default; sf: getindex at essentials.jl:13 [inlined]\" role=\"graphics-symbol\" aria-roledescription=\"rect mark\" d=\"M749.92,187.55555555555557h0.3039999999999736v8h-0.3039999999999736Z\" fill=\"#4c78a8\" fill-opacity=\"1\" stroke=\"#505050\" stroke-width=\"0\"/><path aria-label=\"x1: 4689; x2: 4689.9; level: 22; level2: 22.9; status: Default; sf: _unsafe_bitsetindex! at bitarray.jl:696 [inlined]\" role=\"graphics-symbol\" aria-roledescription=\"rect mark\" d=\"M750.24,196.44444444444446h0.14399999999989177v7.999999999999972h-0.14399999999989177Z\" fill=\"#4c78a8\" fill-opacity=\"1\" stroke=\"#505050\" stroke-width=\"0\"/><path aria-label=\"x1: 4689; x2: 4689.9; level: 23; level2: 23.9; status: Default; sf: | at int.jl:372 [inlined]\" role=\"graphics-symbol\" aria-roledescription=\"rect mark\" d=\"M750.24,187.55555555555557h0.14399999999989177v8h-0.14399999999989177Z\" fill=\"#4c78a8\" fill-opacity=\"1\" stroke=\"#505050\" stroke-width=\"0\"/><path aria-label=\"x1: 4693; x2: 4693.9; level: 1; level2: 1.9; status: Default; sf: (::IJulia.var&quot;#23#25&quot;)() at task.jl:514\" role=\"graphics-symbol\" aria-roledescription=\"rect mark\" d=\"M750.88,383.1111111111111h0.14400000000000546v8h-0.14400000000000546Z\" fill=\"#4c78a8\" fill-opacity=\"1\" stroke=\"#505050\" stroke-width=\"0\"/><path aria-label=\"x1: 4693; x2: 4693.9; level: 2; level2: 2.9; status: Default; sf: watch_stream(rd::Base.PipeEndpoint, name::String) at stdio.jl:84\" role=\"graphics-symbol\" aria-roledescription=\"rect mark\" d=\"M750.88,374.22222222222223h0.14400000000000546v8h-0.14400000000000546Z\" fill=\"#4c78a8\" fill-opacity=\"1\" stroke=\"#505050\" stroke-width=\"0\"/><path aria-label=\"x1: 4693; x2: 4693.9; level: 3; level2: 3.9; status: Default; sf: eof(s::Base.PipeEndpoint) at stream.jl:106\" role=\"graphics-symbol\" aria-roledescription=\"rect mark\" d=\"M750.88,365.3333333333333h0.14400000000000546v8h-0.14400000000000546Z\" fill=\"#4c78a8\" fill-opacity=\"1\" stroke=\"#505050\" stroke-width=\"0\"/><path aria-label=\"x1: 4693; x2: 4693.9; level: 4; level2: 4.9; status: Default; sf: wait_readnb(x::Base.PipeEndpoint, nb::Int64) at stream.jl:416\" role=\"graphics-symbol\" aria-roledescription=\"rect mark\" d=\"M750.88,356.44444444444446h0.14400000000000546v8h-0.14400000000000546Z\" fill=\"#4c78a8\" fill-opacity=\"1\" stroke=\"#505050\" stroke-width=\"0\"/><path aria-label=\"x1: 4693; x2: 4693.9; level: 5; level2: 5.9; status: Default; sf: wait at condition.jl:125 [inlined]\" role=\"graphics-symbol\" aria-roledescription=\"rect mark\" d=\"M750.88,347.55555555555554h0.14400000000000546v8h-0.14400000000000546Z\" fill=\"#4c78a8\" fill-opacity=\"1\" stroke=\"#505050\" stroke-width=\"0\"/><path aria-label=\"x1: 4693; x2: 4693.9; level: 6; level2: 6.9; status: Default; sf: wait(c::Base.GenericCondition{Base.Threads.SpinLock}; first::Bool) at condition.jl:130\" role=\"graphics-symbol\" aria-roledescription=\"rect mark\" d=\"M750.88,338.6666666666667h0.14400000000000546v8h-0.14400000000000546Z\" fill=\"#4c78a8\" fill-opacity=\"1\" stroke=\"#505050\" stroke-width=\"0\"/><path aria-label=\"x1: 4693; x2: 4693.9; level: 7; level2: 7.9; status: Default; sf: wait() at task.jl:985\" role=\"graphics-symbol\" aria-roledescription=\"rect mark\" d=\"M750.88,329.77777777777777h0.14400000000000546v8h-0.14400000000000546Z\" fill=\"#4c78a8\" fill-opacity=\"1\" stroke=\"#505050\" stroke-width=\"0\"/><path aria-label=\"x1: 4693; x2: 4693.9; level: 8; level2: 8.9; status: Runtime dispatch; sf: process_events at libuv.jl:107 [inlined]\" role=\"graphics-symbol\" aria-roledescription=\"rect mark\" d=\"M750.88,320.88888888888886h0.14400000000000546v8h-0.14400000000000546Z\" fill=\"#e45756\" fill-opacity=\"1\" stroke=\"#505050\" stroke-width=\"0\"/><path aria-label=\"x1: 4693; x2: 4693.9; level: 9; level2: 9.9; status: Default; sf: uv_timercb(handle::Ptr{Nothing}) at asyncevent.jl:217\" role=\"graphics-symbol\" aria-roledescription=\"rect mark\" d=\"M750.88,312h0.14400000000000546v8h-0.14400000000000546Z\" fill=\"#4c78a8\" fill-opacity=\"1\" stroke=\"#505050\" stroke-width=\"0\"/><path aria-label=\"x1: 4693; x2: 4693.9; level: 10; level2: 10.9; status: Default; sf: macro expansion at libuv.jl:38 [inlined]\" role=\"graphics-symbol\" aria-roledescription=\"rect mark\" d=\"M750.88,303.1111111111111h0.14400000000000546v8.000000000000057h-0.14400000000000546Z\" fill=\"#4c78a8\" fill-opacity=\"1\" stroke=\"#505050\" stroke-width=\"0\"/><path aria-label=\"x1: 4694; x2: 4695.9; level: 1; level2: 1.9; status: Default; sf: (::Base.var&quot;#702#703&quot;{typeof(IJulia.send_stdout), Timer})() at task.jl:134\" role=\"graphics-symbol\" aria-roledescription=\"rect mark\" d=\"M751.04,383.1111111111111h0.3039999999999736v8h-0.3039999999999736Z\" fill=\"#4c78a8\" fill-opacity=\"1\" stroke=\"#505050\" stroke-width=\"0\"/><path aria-label=\"x1: 4694; x2: 4695.9; level: 2; level2: 2.9; status: Default; sf: macro expansion at asyncevent.jl:281 [inlined]\" role=\"graphics-symbol\" aria-roledescription=\"rect mark\" d=\"M751.04,374.22222222222223h0.3039999999999736v8h-0.3039999999999736Z\" fill=\"#4c78a8\" fill-opacity=\"1\" stroke=\"#505050\" stroke-width=\"0\"/><path aria-label=\"x1: 4694; x2: 4694.9; level: 3; level2: 3.9; status: Default; sf: send_stderr at stdio.jl:125 [inlined]\" role=\"graphics-symbol\" aria-roledescription=\"rect mark\" d=\"M751.04,365.3333333333333h0.14400000000000546v8h-0.14400000000000546Z\" fill=\"#4c78a8\" fill-opacity=\"1\" stroke=\"#505050\" stroke-width=\"0\"/><path aria-label=\"x1: 4694; x2: 4694.9; level: 4; level2: 4.9; status: Default; sf: send_stdio(name::String) at stdio.jl:121\" role=\"graphics-symbol\" aria-roledescription=\"rect mark\" d=\"M751.04,356.44444444444446h0.14400000000000546v8h-0.14400000000000546Z\" fill=\"#4c78a8\" fill-opacity=\"1\" stroke=\"#505050\" stroke-width=\"0\"/><path aria-label=\"x1: 4694; x2: 4694.9; level: 5; level2: 5.9; status: Default; sf: send_stream(name::String) at stdio.jl:163\" role=\"graphics-symbol\" aria-roledescription=\"rect mark\" d=\"M751.04,347.55555555555554h0.14400000000000546v8h-0.14400000000000546Z\" fill=\"#4c78a8\" fill-opacity=\"1\" stroke=\"#505050\" stroke-width=\"0\"/><path aria-label=\"x1: 4694; x2: 4694.9; level: 6; level2: 6.9; status: Runtime dispatch; sf: send_ipython(socket::ZMQ.Socket, m::IJulia.Msg) at msg.jl:54\" role=\"graphics-symbol\" aria-roledescription=\"rect mark\" d=\"M751.04,338.6666666666667h0.14400000000000546v8h-0.14400000000000546Z\" fill=\"#e45756\" fill-opacity=\"1\" stroke=\"#505050\" stroke-width=\"0\"/><path aria-label=\"x1: 4694; x2: 4694.9; level: 7; level2: 7.9; status: Default; sf: json(a::Dict{String, String}) at Writer.jl:399\" role=\"graphics-symbol\" aria-roledescription=\"rect mark\" d=\"M751.04,329.77777777777777h0.14400000000000546v8h-0.14400000000000546Z\" fill=\"#4c78a8\" fill-opacity=\"1\" stroke=\"#505050\" stroke-width=\"0\"/><path aria-label=\"x1: 4694; x2: 4694.9; level: 8; level2: 8.9; status: Default; sf: sprint at io.jl:107 [inlined]\" role=\"graphics-symbol\" aria-roledescription=\"rect mark\" d=\"M751.04,320.88888888888886h0.14400000000000546v8h-0.14400000000000546Z\" fill=\"#4c78a8\" fill-opacity=\"1\" stroke=\"#505050\" stroke-width=\"0\"/><path aria-label=\"x1: 4694; x2: 4694.9; level: 9; level2: 9.9; status: Runtime dispatch; sf: sprint(f::Function, args::Dict{String, String}; context::Nothing, sizehint::Int64) at io.jl:114\" role=\"graphics-symbol\" aria-roledescription=\"rect mark\" d=\"M751.04,312h0.14400000000000546v8h-0.14400000000000546Z\" fill=\"#e45756\" fill-opacity=\"1\" stroke=\"#505050\" stroke-width=\"0\"/><path aria-label=\"x1: 4694; x2: 4694.9; level: 10; level2: 10.9; status: Default; sf: print(io::IOBuffer, obj::Dict{String, String}) at Writer.jl:383\" role=\"graphics-symbol\" aria-roledescription=\"rect mark\" d=\"M751.04,303.1111111111111h0.14400000000000546v8.000000000000057h-0.14400000000000546Z\" fill=\"#4c78a8\" fill-opacity=\"1\" stroke=\"#505050\" stroke-width=\"0\"/><path aria-label=\"x1: 4694; x2: 4694.9; level: 11; level2: 11.9; status: Default; sf: show_json at Writer.jl:357 [inlined]\" role=\"graphics-symbol\" aria-roledescription=\"rect mark\" d=\"M751.04,294.22222222222223h0.14400000000000546v8h-0.14400000000000546Z\" fill=\"#4c78a8\" fill-opacity=\"1\" stroke=\"#505050\" stroke-width=\"0\"/><path aria-label=\"x1: 4694; x2: 4694.9; level: 12; level2: 12.9; status: Default; sf: #show_json#9 at Writer.jl:359 [inlined]\" role=\"graphics-symbol\" aria-roledescription=\"rect mark\" d=\"M751.04,285.33333333333337h0.14400000000000546v8h-0.14400000000000546Z\" fill=\"#4c78a8\" fill-opacity=\"1\" stroke=\"#505050\" stroke-width=\"0\"/><path aria-label=\"x1: 4694; x2: 4694.9; level: 13; level2: 13.9; status: Default; sf: show_json at Writer.jl:297 [inlined]\" role=\"graphics-symbol\" aria-roledescription=\"rect mark\" d=\"M751.04,276.44444444444446h0.14400000000000546v8h-0.14400000000000546Z\" fill=\"#4c78a8\" fill-opacity=\"1\" stroke=\"#505050\" stroke-width=\"0\"/><path aria-label=\"x1: 4694; x2: 4694.9; level: 14; level2: 14.9; status: Default; sf: recursive_cycle_check(f::JSON.Writer.var&quot;#1#2&quot;{JSON.Writer.CompactContext{IOBuffer}, JSON.Serializations.StandardSerialization, Dict{String, String}}, io::JSON.Writer.CompactContext{IOBuffer}, s::JSON.Serializations.StandardSerialization, id::UInt64) at Writer.jl:291\" role=\"graphics-symbol\" aria-roledescription=\"rect mark\" d=\"M751.04,267.55555555555554h0.14400000000000546v8h-0.14400000000000546Z\" fill=\"#4c78a8\" fill-opacity=\"1\" stroke=\"#505050\" stroke-width=\"0\"/><path aria-label=\"x1: 4694; x2: 4694.9; level: 15; level2: 15.9; status: Default; sf: (::JSON.Writer.var&quot;#1#2&quot;{JSON.Writer.CompactContext{IOBuffer}, JSON.Serializations.StandardSerialization, Dict{String, String}})() at Writer.jl:300\" role=\"graphics-symbol\" aria-roledescription=\"rect mark\" d=\"M751.04,258.6666666666667h0.14400000000000546v8h-0.14400000000000546Z\" fill=\"#4c78a8\" fill-opacity=\"1\" stroke=\"#505050\" stroke-width=\"0\"/><path aria-label=\"x1: 4694; x2: 4694.9; level: 16; level2: 16.9; status: Default; sf: show_pair at Writer.jl:259 [inlined]\" role=\"graphics-symbol\" aria-roledescription=\"rect mark\" d=\"M751.04,249.7777777777778h0.14400000000000546v7.999999999999972h-0.14400000000000546Z\" fill=\"#4c78a8\" fill-opacity=\"1\" stroke=\"#505050\" stroke-width=\"0\"/><path aria-label=\"x1: 4694; x2: 4694.9; level: 17; level2: 17.9; status: Default; sf: show_pair at Writer.jl:257 [inlined]\" role=\"graphics-symbol\" aria-roledescription=\"rect mark\" d=\"M751.04,240.88888888888889h0.14400000000000546v8h-0.14400000000000546Z\" fill=\"#4c78a8\" fill-opacity=\"1\" stroke=\"#505050\" stroke-width=\"0\"/><path aria-label=\"x1: 4694; x2: 4694.9; level: 18; level2: 18.9; status: Default; sf: show_json at Writer.jl:267 [inlined]\" role=\"graphics-symbol\" aria-roledescription=\"rect mark\" d=\"M751.04,232.00000000000003h0.14400000000000546v7.999999999999972h-0.14400000000000546Z\" fill=\"#4c78a8\" fill-opacity=\"1\" stroke=\"#505050\" stroke-width=\"0\"/><path aria-label=\"x1: 4694; x2: 4694.9; level: 19; level2: 19.9; status: Default; sf: show_string(io::JSON.Writer.CompactContext{IOBuffer}, x::String) at Writer.jl:214\" role=\"graphics-symbol\" aria-roledescription=\"rect mark\" d=\"M751.04,223.11111111111111h0.14400000000000546v7.999999999999972h-0.14400000000000546Z\" fill=\"#4c78a8\" fill-opacity=\"1\" stroke=\"#505050\" stroke-width=\"0\"/><path aria-label=\"x1: 4694; x2: 4694.9; level: 20; level2: 20.9; status: Default; sf: print at io.jl:246 [inlined]\" role=\"graphics-symbol\" aria-roledescription=\"rect mark\" d=\"M751.04,214.22222222222223h0.14400000000000546v8h-0.14400000000000546Z\" fill=\"#4c78a8\" fill-opacity=\"1\" stroke=\"#505050\" stroke-width=\"0\"/><path aria-label=\"x1: 4694; x2: 4694.9; level: 21; level2: 21.9; status: Default; sf: write at io.jl:244 [inlined]\" role=\"graphics-symbol\" aria-roledescription=\"rect mark\" d=\"M751.04,205.33333333333337h0.14400000000000546v7.999999999999972h-0.14400000000000546Z\" fill=\"#4c78a8\" fill-opacity=\"1\" stroke=\"#505050\" stroke-width=\"0\"/><path aria-label=\"x1: 4694; x2: 4694.9; level: 22; level2: 22.9; status: Default; sf: unsafe_write(s::JSON.Writer.StringContext{JSON.Writer.CompactContext{IOBuffer}}, p::Ptr{UInt8}, n::UInt64) at io.jl:305\" role=\"graphics-symbol\" aria-roledescription=\"rect mark\" d=\"M751.04,196.44444444444446h0.14400000000000546v7.999999999999972h-0.14400000000000546Z\" fill=\"#4c78a8\" fill-opacity=\"1\" stroke=\"#505050\" stroke-width=\"0\"/><path aria-label=\"x1: 4694; x2: 4694.9; level: 23; level2: 23.9; status: Default; sf: write at Writer.jl:139 [inlined]\" role=\"graphics-symbol\" aria-roledescription=\"rect mark\" d=\"M751.04,187.55555555555557h0.14400000000000546v8h-0.14400000000000546Z\" fill=\"#4c78a8\" fill-opacity=\"1\" stroke=\"#505050\" stroke-width=\"0\"/><path aria-label=\"x1: 4694; x2: 4694.9; level: 24; level2: 24.9; status: Default; sf: write at io.jl:708 [inlined]\" role=\"graphics-symbol\" aria-roledescription=\"rect mark\" d=\"M751.04,178.66666666666666h0.14400000000000546v8h-0.14400000000000546Z\" fill=\"#4c78a8\" fill-opacity=\"1\" stroke=\"#505050\" stroke-width=\"0\"/><path aria-label=\"x1: 4694; x2: 4694.9; level: 25; level2: 25.9; status: Default; sf: unsafe_write at io.jl:685 [inlined]\" role=\"graphics-symbol\" aria-roledescription=\"rect mark\" d=\"M751.04,169.7777777777778h0.14400000000000546v7.999999999999972h-0.14400000000000546Z\" fill=\"#4c78a8\" fill-opacity=\"1\" stroke=\"#505050\" stroke-width=\"0\"/><path aria-label=\"x1: 4694; x2: 4694.9; level: 26; level2: 26.9; status: Default; sf: unsafe_write(s::JSON.Writer.CompactContext{IOBuffer}, p::Ptr{UInt8}, n::UInt64) at io.jl:305\" role=\"graphics-symbol\" aria-roledescription=\"rect mark\" d=\"M751.04,160.8888888888889h0.14400000000000546v8h-0.14400000000000546Z\" fill=\"#4c78a8\" fill-opacity=\"1\" stroke=\"#505050\" stroke-width=\"0\"/><path aria-label=\"x1: 4694; x2: 4694.9; level: 27; level2: 27.9; status: Default; sf: write at Writer.jl:138 [inlined]\" role=\"graphics-symbol\" aria-roledescription=\"rect mark\" d=\"M751.04,152h0.14400000000000546v8h-0.14400000000000546Z\" fill=\"#4c78a8\" fill-opacity=\"1\" stroke=\"#505050\" stroke-width=\"0\"/><path aria-label=\"x1: 4694; x2: 4694.9; level: 28; level2: 28.9; status: Default; sf: write at iobuffer.jl:443 [inlined]\" role=\"graphics-symbol\" aria-roledescription=\"rect mark\" d=\"M751.04,143.11111111111114h0.14400000000000546v7.999999999999972h-0.14400000000000546Z\" fill=\"#4c78a8\" fill-opacity=\"1\" stroke=\"#505050\" stroke-width=\"0\"/><path aria-label=\"x1: 4694; x2: 4694.9; level: 29; level2: 29.9; status: Default; sf: ensureroom at iobuffer.jl:330 [inlined]\" role=\"graphics-symbol\" aria-roledescription=\"rect mark\" d=\"M751.04,134.22222222222223h0.14400000000000546v7.999999999999972h-0.14400000000000546Z\" fill=\"#4c78a8\" fill-opacity=\"1\" stroke=\"#505050\" stroke-width=\"0\"/><path aria-label=\"x1: 4694; x2: 4694.9; level: 30; level2: 30.9; status: Default; sf: _growend! at array.jl:1014 [inlined]\" role=\"graphics-symbol\" aria-roledescription=\"rect mark\" d=\"M751.04,125.33333333333334h0.14400000000000546v8h-0.14400000000000546Z\" fill=\"#4c78a8\" fill-opacity=\"1\" stroke=\"#505050\" stroke-width=\"0\"/><path aria-label=\"x1: 4695; x2: 4695.9; level: 3; level2: 3.9; status: Default; sf: send_stdout at stdio.jl:124 [inlined]\" role=\"graphics-symbol\" aria-roledescription=\"rect mark\" d=\"M751.1999999999999,365.3333333333333h0.14400000000000546v8h-0.14400000000000546Z\" fill=\"#4c78a8\" fill-opacity=\"1\" stroke=\"#505050\" stroke-width=\"0\"/><path aria-label=\"x1: 4695; x2: 4695.9; level: 4; level2: 4.9; status: Default; sf: send_stdio(name::String) at stdio.jl:121\" role=\"graphics-symbol\" aria-roledescription=\"rect mark\" d=\"M751.1999999999999,356.44444444444446h0.14400000000000546v8h-0.14400000000000546Z\" fill=\"#4c78a8\" fill-opacity=\"1\" stroke=\"#505050\" stroke-width=\"0\"/><path aria-label=\"x1: 4695; x2: 4695.9; level: 5; level2: 5.9; status: Default; sf: send_stream(name::String) at stdio.jl:163\" role=\"graphics-symbol\" aria-roledescription=\"rect mark\" d=\"M751.1999999999999,347.55555555555554h0.14400000000000546v8h-0.14400000000000546Z\" fill=\"#4c78a8\" fill-opacity=\"1\" stroke=\"#505050\" stroke-width=\"0\"/><path aria-label=\"x1: 4695; x2: 4695.9; level: 6; level2: 6.9; status: Default; sf: send_ipython(socket::ZMQ.Socket, m::IJulia.Msg) at msg.jl:55\" role=\"graphics-symbol\" aria-roledescription=\"rect mark\" d=\"M751.1999999999999,338.6666666666667h0.14400000000000546v8h-0.14400000000000546Z\" fill=\"#4c78a8\" fill-opacity=\"1\" stroke=\"#505050\" stroke-width=\"0\"/><path aria-label=\"x1: 4695; x2: 4695.9; level: 7; level2: 7.9; status: Default; sf: hmac(s1::String, s2::String, s3::String, s4::String) at hmac.jl:10\" role=\"graphics-symbol\" aria-roledescription=\"rect mark\" d=\"M751.1999999999999,329.77777777777777h0.14400000000000546v8h-0.14400000000000546Z\" fill=\"#4c78a8\" fill-opacity=\"1\" stroke=\"#505050\" stroke-width=\"0\"/><path aria-label=\"x1: 4695; x2: 4695.9; level: 8; level2: 8.9; status: Default; sf: write(io::MbedTLS.MD{true}, s::String) at io.jl:244\" role=\"graphics-symbol\" aria-roledescription=\"rect mark\" d=\"M751.1999999999999,320.88888888888886h0.14400000000000546v8h-0.14400000000000546Z\" fill=\"#4c78a8\" fill-opacity=\"1\" stroke=\"#505050\" stroke-width=\"0\"/><path aria-label=\"x1: 4695; x2: 4695.9; level: 9; level2: 9.9; status: Default; sf: unsafe_write at io.jl:305 [inlined]\" role=\"graphics-symbol\" aria-roledescription=\"rect mark\" d=\"M751.1999999999999,312h0.14400000000000546v8h-0.14400000000000546Z\" fill=\"#4c78a8\" fill-opacity=\"1\" stroke=\"#505050\" stroke-width=\"0\"/><path aria-label=\"x1: 4695; x2: 4695.9; level: 10; level2: 10.9; status: Default; sf: write at md.jl:143 [inlined]\" role=\"graphics-symbol\" aria-roledescription=\"rect mark\" d=\"M751.1999999999999,303.1111111111111h0.14400000000000546v8.000000000000057h-0.14400000000000546Z\" fill=\"#4c78a8\" fill-opacity=\"1\" stroke=\"#505050\" stroke-width=\"0\"/><path aria-label=\"x1: 4695; x2: 4695.9; level: 11; level2: 11.9; status: Default; sf: _write at md.jl:128 [inlined]\" role=\"graphics-symbol\" aria-roledescription=\"rect mark\" d=\"M751.1999999999999,294.22222222222223h0.14400000000000546v8h-0.14400000000000546Z\" fill=\"#4c78a8\" fill-opacity=\"1\" stroke=\"#505050\" stroke-width=\"0\"/><path aria-label=\"x1: 4695; x2: 4695.9; level: 12; level2: 12.9; status: Default; sf: macro expansion at error.jl:3 [inlined]\" role=\"graphics-symbol\" aria-roledescription=\"rect mark\" d=\"M751.1999999999999,285.33333333333337h0.14400000000000546v8h-0.14400000000000546Z\" fill=\"#4c78a8\" fill-opacity=\"1\" stroke=\"#505050\" stroke-width=\"0\"/></g><g class=\"mark-group role-legend\" role=\"graphics-symbol\" aria-roledescription=\"legend\" aria-label=\"Symbol legend for fill color with 3 values: Default, Garbage collection, Runtime dispatch\"><g transform=\"translate(0,418)\"><path class=\"background\" aria-hidden=\"true\" d=\"M0,0h288v13h-288Z\" pointer-events=\"none\"/><g><g class=\"mark-group role-legend-entry\"><g transform=\"translate(0,0)\"><path class=\"background\" aria-hidden=\"true\" d=\"M0,0h0v0h0Z\" pointer-events=\"none\"/><g><g class=\"mark-group role-scope\" role=\"graphics-object\" aria-roledescription=\"group mark container\"><g transform=\"translate(0,0.25)\"><path class=\"background\" aria-hidden=\"true\" d=\"M0,0h53v12.5h-53Z\" pointer-events=\"none\" opacity=\"1\"/><g><g class=\"mark-symbol role-legend-symbol\" pointer-events=\"none\"><path transform=\"translate(6,6)\" d=\"M-5,-5h10v10h-10Z\" fill=\"#4c78a8\" stroke=\"#505050\" stroke-width=\"1.5\" opacity=\"1\"/></g><g class=\"mark-text role-legend-label\" pointer-events=\"none\"><text text-anchor=\"start\" transform=\"translate(16,9)\" font-family=\"sans-serif\" font-size=\"10px\" fill=\"#000\" opacity=\"1\">Default</text></g></g><path class=\"foreground\" aria-hidden=\"true\" d=\"\" pointer-events=\"none\" display=\"none\"/></g><g transform=\"translate(64,0.25)\"><path class=\"background\" aria-hidden=\"true\" d=\"M0,0h110v12.5h-110Z\" pointer-events=\"none\" opacity=\"1\"/><g><g class=\"mark-symbol role-legend-symbol\" pointer-events=\"none\"><path transform=\"translate(6,6)\" d=\"M-5,-5h10v10h-10Z\" fill=\"#f58518\" stroke=\"#505050\" stroke-width=\"1.5\" opacity=\"1\"/></g><g class=\"mark-text role-legend-label\" pointer-events=\"none\"><text text-anchor=\"start\" transform=\"translate(16,9)\" font-family=\"sans-serif\" font-size=\"10px\" fill=\"#000\" opacity=\"1\">Garbage collection</text></g></g><path class=\"foreground\" aria-hidden=\"true\" d=\"\" pointer-events=\"none\" display=\"none\"/></g><g transform=\"translate(185,0.25)\"><path class=\"background\" aria-hidden=\"true\" d=\"M0,0h103v12.5h-103Z\" pointer-events=\"none\" opacity=\"1\"/><g><g class=\"mark-symbol role-legend-symbol\" pointer-events=\"none\"><path transform=\"translate(6,6)\" d=\"M-5,-5h10v10h-10Z\" fill=\"#e45756\" stroke=\"#505050\" stroke-width=\"1.5\" opacity=\"1\"/></g><g class=\"mark-text role-legend-label\" pointer-events=\"none\"><text text-anchor=\"start\" transform=\"translate(16,9)\" font-family=\"sans-serif\" font-size=\"10px\" fill=\"#000\" opacity=\"1\">Runtime dispatch</text></g></g><path class=\"foreground\" aria-hidden=\"true\" d=\"\" pointer-events=\"none\" display=\"none\"/></g></g></g><path class=\"foreground\" aria-hidden=\"true\" d=\"\" pointer-events=\"none\" display=\"none\"/></g></g></g><path class=\"foreground\" aria-hidden=\"true\" d=\"\" pointer-events=\"none\" display=\"none\"/></g></g><g class=\"mark-group role-title\"><g transform=\"translate(400,-17)\"><path class=\"background\" aria-hidden=\"true\" d=\"M0,0h0v0h0Z\" pointer-events=\"none\"/><g><g class=\"mark-text role-title-text\" role=\"graphics-symbol\" aria-roledescription=\"title\" aria-label=\"Title text 'Profile Results'\" pointer-events=\"none\"><text text-anchor=\"middle\" transform=\"translate(0,10)\" font-family=\"sans-serif\" font-size=\"13px\" font-weight=\"bold\" fill=\"#000\" opacity=\"1\">Profile Results</text></g></g><path class=\"foreground\" aria-hidden=\"true\" d=\"\" pointer-events=\"none\" display=\"none\"/></g></g></g><path class=\"foreground\" aria-hidden=\"true\" d=\"\" display=\"none\"/></g></g></g><defs><clipPath id=\"clip1\"><rect x=\"0\" y=\"0\" width=\"800\" height=\"400\"/></clipPath></defs></svg>\n"
      ],
      "text/plain": [
       "@vlplot(\n",
       "    mark={\n",
       "        type=\"rect\",\n",
       "        stroke=\"#505050\"\n",
       "    },\n",
       "    transform=[\n",
       "        {\n",
       "            calculate=\"datum.level+0.9\",\n",
       "            as=\"level2\"\n",
       "        }\n",
       "    ],\n",
       "    selection={\n",
       "        grid={\n",
       "            type=\"interval\",\n",
       "            bind=\"scales\"\n",
       "        },\n",
       "        highlight={\n",
       "            type=\"single\",\n",
       "            on=\"mouseover\",\n",
       "            empty=\"none\"\n",
       "        },\n",
       "        select={\n",
       "            type=\"multi\",\n",
       "            empty=\"none\"\n",
       "        }\n",
       "    },\n",
       "    width=800,\n",
       "    height=400,\n",
       "    title=\"Profile Results\",\n",
       "    encoding={\n",
       "        x={\n",
       "            axis=nothing,\n",
       "            field=\"x1\"\n",
       "        },\n",
       "        x2={\n",
       "            field=\"x2\"\n",
       "        },\n",
       "        y={\n",
       "            axis=nothing,\n",
       "            field=\"level\",\n",
       "            type=\"quantitative\"\n",
       "        },\n",
       "        y2={\n",
       "            field=\"level2\",\n",
       "            type=\"quantitative\"\n",
       "        },\n",
       "        fillOpacity={\n",
       "            condition=[\n",
       "                {\n",
       "                    selection=\"highlight\",\n",
       "                    value=0.6\n",
       "                },\n",
       "                {\n",
       "                    selection=\"select\",\n",
       "                    value=0.5\n",
       "                }\n",
       "            ],\n",
       "            value=1\n",
       "        },\n",
       "        strokeWidth={\n",
       "            condition=[\n",
       "                {\n",
       "                    selection=\"highlight\",\n",
       "                    value=0.5\n",
       "                },\n",
       "                {\n",
       "                    selection=\"select\",\n",
       "                    value=0.5\n",
       "                }\n",
       "            ],\n",
       "            value=0\n",
       "        },\n",
       "        color={\n",
       "            legend={\n",
       "                title=nothing,\n",
       "                orient=\"bottom\"\n",
       "            },\n",
       "            field=\"status\",\n",
       "            type=\"nominal\"\n",
       "        },\n",
       "        tooltip={\n",
       "            field=\"sf\"\n",
       "        }\n",
       "    },\n",
       "    data={\n",
       "        values=...\n",
       "    }\n",
       ")"
      ]
     },
     "execution_count": 7,
     "metadata": {},
     "output_type": "execute_result"
    }
   ],
   "source": [
    "@profview bayesian_safety_validation(system_params, models; T=10, input_discretization_steps=50, p_estimate_discretization_steps=50)"
   ]
  },
  {
   "cell_type": "markdown",
   "id": "d41918a9-fd63-4918-9ed4-39cc83d2164c",
   "metadata": {},
   "source": [
    "See [here](https://github.com/timholy/ProfileView.jl) for a brief tutorial on interpreting this figure.  Basically, this is a visualization of stack traces collected by julia's profiler.  Each bar represents a function call, with higher bars being at the top of the call stack (i.e. more recently called).  The width of each bar represents how many times it was called.\n",
    "\n",
    "We see 3 major bottlenecks: lines 79, 82, and 211 of bayesian_safety_validation.jl.  The first and last of these correspond to evaluating the GP on a grid of the input space (first as part of the GP optimization, then again to compute the estimate of failure).  The second bottleneck is computing the pdf of the operational model on the same grid of the input space.  For the remainder of this notebook we will focus on the gp_output function (which performs the GP evaluation on the input space), while noting that the p_output has similar scaling issues.\n",
    "\n",
    "Assuming a $d$-dimensional input space, with $s$ the number of discritized points per dimension (the `input_discritization_steps` parameter in the code), `gp_output` will need to perform $O(s^d)$ GP evaluzations.  Note that performing a single GP evaluation additionally requires an $O(T^3)$ matrix inversion (where $T$ is the number of iterations of the optimization).  This represents a different scaling concern, and is not further discussed here.\n",
    "\n",
    "Note that the red lines are possible signs of type-instability, which may be possible to optimize.  I believe these are due to the way `make_broadcastable_grid` works, which creates a vector of n-dimensional arrays, where n is only known at runtime."
   ]
  },
  {
   "cell_type": "markdown",
   "id": "aaa3373a-d227-4591-ad43-d2d6efae731a",
   "metadata": {},
   "source": [
    "# Benchmark the gp_output function\n",
    "Next we benchmark the gp_output function to get a rough idea of how the performance scales with the size of the input grid.  The below experiments were performed on a laptop with an Intel Core i7-8550U CPU @ 1.80GHz with 4 cores and 32 GB memory.\n",
    "\n",
    "We use the @belapsed macro (from BenchmarkTools.jl) to run the function multiple times and return the fastest execution time.  We store the execution time and grid size for each test."
   ]
  },
  {
   "cell_type": "code",
   "execution_count": 8,
   "id": "da9df855-9b64-492e-85a7-dcb3cb4156a5",
   "metadata": {},
   "outputs": [
    {
     "name": "stdout",
     "output_type": "stream",
     "text": [
      "\n",
      "----------------------------------------\n"
     ]
    },
    {
     "name": "stderr",
     "output_type": "stream",
     "text": [
      "\u001b[36m\u001b[1m[ \u001b[22m\u001b[39m\u001b[36m\u001b[1mInfo: \u001b[22m\u001b[39mRefinement iteration 1 (acquisition 1)\n",
      "\u001b[36m\u001b[1m[ \u001b[22m\u001b[39m\u001b[36m\u001b[1mInfo: \u001b[22m\u001b[39mRefinement iteration 1 (acquisition 2)\n",
      "\u001b[36m\u001b[1m[ \u001b[22m\u001b[39m\u001b[36m\u001b[1mInfo: \u001b[22m\u001b[39mRefinement iteration 1 (acquisition 3)\n",
      "\u001b[36m\u001b[1m[ \u001b[22m\u001b[39m\u001b[36m\u001b[1mInfo: \u001b[22m\u001b[39mp(fail) estimate = 0.0\n"
     ]
    }
   ],
   "source": [
    "n_dim = 3\n",
    "system_params, models = get_system_and_models(n_dim)\n",
    "gp = bayesian_safety_validation(system_params, models; T=1, input_discretization_steps=10, p_estimate_discretization_steps=10)\n",
    "\n",
    "times = []\n",
    "sizes = []\n",
    "for steps in [25, 50, 100, 150, 200]\n",
    "    t = @belapsed gp_output($gp, $models, num_steps=$steps)\n",
    "    grid_size = steps^n_dim\n",
    "    push!(sizes, grid_size)\n",
    "    push!(times, t)\n",
    "end"
   ]
  },
  {
   "cell_type": "code",
   "execution_count": 9,
   "id": "5b0e4e43-6ae7-4ab0-9a44-d13f274ae242",
   "metadata": {},
   "outputs": [
    {
     "data": {
      "text/plain": [
       "5-element Vector{Float64}:\n",
       " 1.180886784e-6\n",
       " 1.488118728e-6\n",
       " 1.582911213e-6\n",
       " 1.4137728577777777e-6\n",
       " 1.347807421875e-6"
      ]
     },
     "execution_count": 9,
     "metadata": {},
     "output_type": "execute_result"
    }
   ],
   "source": [
    "times_per_eval_s = times ./ sizes"
   ]
  },
  {
   "cell_type": "code",
   "execution_count": 10,
   "id": "0e70c179-c0a8-480c-9821-69620efecec4",
   "metadata": {},
   "outputs": [
    {
     "data": {
      "text/plain": [
       "1.4026994009305556e-6"
      ]
     },
     "execution_count": 10,
     "metadata": {},
     "output_type": "execute_result"
    }
   ],
   "source": [
    "time_per_eval_s = mean(times_per_eval_s)"
   ]
  },
  {
   "cell_type": "code",
   "execution_count": 11,
   "id": "ab9e3556-a14b-410c-8f82-82dc04e54f85",
   "metadata": {},
   "outputs": [
    {
     "data": {
      "text/plain": [
       "estimate_time (generic function with 1 method)"
      ]
     },
     "execution_count": 11,
     "metadata": {},
     "output_type": "execute_result"
    }
   ],
   "source": [
    "function estimate_time(n_dims, grid_steps)\n",
    "    n = grid_steps^n_dims\n",
    "    s = time_per_eval_s * n\n",
    "    y = s / (60 * 60 * 24 * 365)\n",
    "    println(\"Computing gp_output on $n_dims dimensions with $grid_steps grid steps will take $s seconds (or $y years)\")\n",
    "end"
   ]
  },
  {
   "cell_type": "code",
   "execution_count": 12,
   "id": "43fc5673-b8eb-41aa-89a3-bdd78f595fe2",
   "metadata": {},
   "outputs": [
    {
     "name": "stdout",
     "output_type": "stream",
     "text": [
      "Computing gp_output on 10 dimensions with 50 grid steps will take 1.3698236337212457e11 seconds (or 4343.682247974523 years)\n"
     ]
    }
   ],
   "source": [
    "estimate_time(10, 50)"
   ]
  },
  {
   "cell_type": "code",
   "execution_count": null,
   "id": "cce3d36b-bc68-46b8-b99d-732c7ecfd037",
   "metadata": {},
   "outputs": [],
   "source": []
  }
 ],
 "metadata": {
  "kernelspec": {
   "display_name": "Julia 1.9.1",
   "language": "julia",
   "name": "julia-1.9"
  },
  "language_info": {
   "file_extension": ".jl",
   "mimetype": "application/julia",
   "name": "julia",
   "version": "1.9.1"
  }
 },
 "nbformat": 4,
 "nbformat_minor": 5
}
